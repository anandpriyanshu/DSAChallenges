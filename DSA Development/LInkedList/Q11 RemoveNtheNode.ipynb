{
 "cells": [
  {
   "cell_type": "code",
   "execution_count": null,
   "metadata": {},
   "outputs": [],
   "source": [
    "def  RemoveNtheNode(head,n):\n",
    "\n",
    "    fast = head\n",
    "    slow = head\n",
    "\n",
    "    for i in range(n);\n",
    "        fast = fast.next\n",
    "\n",
    "\n",
    "    if not fast:\n",
    "        return head.next\n",
    "    \n",
    "\n",
    "    while fast.next:\n",
    "        fast = fast.next\n",
    "        slow = slow.next\n",
    "\n",
    "    slow.next = slow.next.next\n",
    "    \n",
    "    return head"
   ]
  }
 ],
 "metadata": {
  "language_info": {
   "name": "python"
  }
 },
 "nbformat": 4,
 "nbformat_minor": 2
}
