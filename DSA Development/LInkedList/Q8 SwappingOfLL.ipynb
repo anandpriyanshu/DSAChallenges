{
 "cells": [
  {
   "cell_type": "code",
   "execution_count": null,
   "metadata": {},
   "outputs": [],
   "source": [
    "def SwappingOfLL(head,k):\n",
    "    n = head\n",
    "    for _ in range(k-1):\n",
    "        n = n.next\n",
    "\n",
    "    a = n\n",
    "    b = head\n",
    "\n",
    "    while n.next is not None:\n",
    "\n",
    "        b = b.next\n",
    "        n = n.next\n",
    "\n",
    "    a.data,b.data = b.data,a.data\n",
    "    return head"
   ]
  }
 ],
 "metadata": {
  "language_info": {
   "name": "python"
  }
 },
 "nbformat": 4,
 "nbformat_minor": 2
}
