{
 "cells": [
  {
   "cell_type": "code",
   "execution_count": 1,
   "metadata": {},
   "outputs": [],
   "source": [
    "def SwapNodesinPair(head):\n",
    "\n",
    "    if not head:\n",
    "        return head\n",
    "    prev = None\n",
    "    curr = head\n",
    "    ans = curr.next\n",
    "\n",
    "    while curr and curr.next:\n",
    "        val = curr.next\n",
    "        if prev:\n",
    "            prev.next = val\n",
    "\n",
    "        curr.next,val.next  = val.next,curr\n",
    "        prev, curr = curr,curr.next\n",
    "\n",
    "    return ans or head\n"
   ]
  },
  {
   "cell_type": "code",
   "execution_count": null,
   "metadata": {},
   "outputs": [],
   "source": [
    "head = [1,2,3,4]\n",
    "SwapNodesinPair(head)\n",
    "# O/P = [2,1,4,3]"
   ]
  }
 ],
 "metadata": {
  "kernelspec": {
   "display_name": "Python 3",
   "language": "python",
   "name": "python3"
  },
  "language_info": {
   "codemirror_mode": {
    "name": "ipython",
    "version": 3
   },
   "file_extension": ".py",
   "mimetype": "text/x-python",
   "name": "python",
   "nbconvert_exporter": "python",
   "pygments_lexer": "ipython3",
   "version": "3.11.9"
  }
 },
 "nbformat": 4,
 "nbformat_minor": 2
}
