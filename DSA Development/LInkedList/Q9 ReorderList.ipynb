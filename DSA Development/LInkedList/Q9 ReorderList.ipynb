{
 "cells": [
  {
   "cell_type": "code",
   "execution_count": null,
   "metadata": {},
   "outputs": [],
   "source": [
    "def ReorderList(head):\n",
    "\n",
    "    arr = []\n",
    "    curr,length  = head, 0\n",
    "    while curr:\n",
    "        arr.append(curr)\n",
    "        curr,length = curr.next,length+1\n",
    "\n",
    "    left,right = 0,length - 1\n",
    "    last = head\n",
    "\n",
    "    while left<right:\n",
    "        arr[left].next = arr[right]\n",
    "        left+=1\n",
    "\n",
    "        if left == right:\n",
    "            last  = arr[right]\n",
    "            break\n",
    "\n",
    "        arr[right].next = arr[left]\n",
    "        right -= 1\n",
    "        \n",
    "        last  = arr[left]\n",
    "    \n",
    "    if last:\n",
    "        last.next = None"
   ]
  }
 ],
 "metadata": {
  "language_info": {
   "name": "python"
  }
 },
 "nbformat": 4,
 "nbformat_minor": 2
}
