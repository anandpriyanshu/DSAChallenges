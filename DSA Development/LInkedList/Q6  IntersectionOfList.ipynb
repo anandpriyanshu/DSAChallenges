{
 "cells": [
  {
   "cell_type": "code",
   "execution_count": null,
   "metadata": {},
   "outputs": [],
   "source": [
    "def getIntersectionNode( headA, headB):\n",
    "\n",
    "        f_set = set()\n",
    "        currA = headA\n",
    "\n",
    "        while currA:\n",
    "            f_set.add(currA)\n",
    "            currA = currA.next\n",
    "\n",
    "        currB  =  headB\n",
    "\n",
    "        while currB:\n",
    "\n",
    "            if currB in f_set:\n",
    "                return currB\n",
    "            currB = currB.next\n",
    "        \n",
    "        return None"
   ]
  },
  {
   "cell_type": "code",
   "execution_count": null,
   "metadata": {},
   "outputs": [],
   "source": []
  }
 ],
 "metadata": {
  "kernelspec": {
   "display_name": "Python 3",
   "language": "python",
   "name": "python3"
  },
  "language_info": {
   "codemirror_mode": {
    "name": "ipython",
    "version": 3
   },
   "file_extension": ".py",
   "mimetype": "text/x-python",
   "name": "python",
   "nbconvert_exporter": "python",
   "pygments_lexer": "ipython3",
   "version": "3.11.9"
  }
 },
 "nbformat": 4,
 "nbformat_minor": 2
}
