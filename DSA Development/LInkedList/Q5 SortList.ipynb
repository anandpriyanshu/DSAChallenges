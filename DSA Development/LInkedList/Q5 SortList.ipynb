{
 "cells": [
  {
   "cell_type": "code",
   "execution_count": null,
   "metadata": {},
   "outputs": [],
   "source": [
    "def sortList(head):\n",
    "\n",
    "    arr = []\n",
    "    curr = head\n",
    "\n",
    "    while curr is not None:\n",
    "\n",
    "        arr.append(curr.data)\n",
    "        curr = curr.next\n",
    "    arr.sort()\n",
    "\n",
    "    curr = head\n",
    "    i = 0\n",
    "\n",
    "    while curr is not None:\n",
    "        curr.data = arr[i]\n",
    "        i+=1\n",
    "        curr=curr.next\n",
    "    \n",
    "    return head"
   ]
  }
 ],
 "metadata": {
  "language_info": {
   "name": "python"
  }
 },
 "nbformat": 4,
 "nbformat_minor": 2
}
