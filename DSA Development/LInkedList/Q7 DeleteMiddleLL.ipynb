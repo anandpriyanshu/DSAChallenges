{
 "cells": [
  {
   "cell_type": "code",
   "execution_count": null,
   "metadata": {},
   "outputs": [],
   "source": [
    "def DeleteMiddleLL(head):\n",
    "    slow = fast =head\n",
    "\n",
    "    if fast.next is None:\n",
    "        return fast.next\n",
    "\n",
    "    while fast and fast.next:\n",
    "\n",
    "        prev = slow\n",
    "        slow = slow.next\n",
    "        fast = fast.next.next\n",
    "\n",
    "    prev.next = slow.next\n",
    "    return head  "
   ]
  }
 ],
 "metadata": {
  "language_info": {
   "name": "python"
  }
 },
 "nbformat": 4,
 "nbformat_minor": 2
}
