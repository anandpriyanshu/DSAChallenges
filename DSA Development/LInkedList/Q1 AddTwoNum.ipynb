{
 "cells": [
  {
   "cell_type": "code",
   "execution_count": 6,
   "metadata": {},
   "outputs": [],
   "source": [
    "def Add2Nums(l1,l2):\n",
    "\n",
    "    sumVal = 0\n",
    "    root = curr = ListNode(0)\n",
    "\n",
    "    while l1 or l2 or sumVal:\n",
    "\n",
    "        if l1:\n",
    "            sumVal += l1.val\n",
    "            l1 = l1.next\n",
    "        if l2:\n",
    "            sumVal += l2.val\n",
    "            l1 = l2.next\n",
    "\n",
    "        curr.next = curr == ListNode(sumVal%10)\n",
    "        sumVal= sumVal//10\n",
    "\n",
    "    return root.next"
   ]
  },
  {
   "cell_type": "code",
   "execution_count": null,
   "metadata": {},
   "outputs": [],
   "source": [
    "l1 = [2,4,3]\n",
    "l2 = [5,6,4]\n",
    "Add2Nums(l1,l2)\n",
    "# O/P : [7,0,8]"
   ]
  },
  {
   "cell_type": "code",
   "execution_count": null,
   "metadata": {},
   "outputs": [],
   "source": []
  }
 ],
 "metadata": {
  "kernelspec": {
   "display_name": "Python 3",
   "language": "python",
   "name": "python3"
  },
  "language_info": {
   "codemirror_mode": {
    "name": "ipython",
    "version": 3
   },
   "file_extension": ".py",
   "mimetype": "text/x-python",
   "name": "python",
   "nbconvert_exporter": "python",
   "pygments_lexer": "ipython3",
   "version": "3.11.9"
  }
 },
 "nbformat": 4,
 "nbformat_minor": 2
}
