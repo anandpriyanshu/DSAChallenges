{
 "cells": [
  {
   "cell_type": "code",
   "execution_count": null,
   "metadata": {},
   "outputs": [],
   "source": [
    "def  LowestAncestor(root,p,q):\n",
    "\n",
    "    if root == p or root  == q:\n",
    "        return root\n",
    "    \n",
    "    left = right= None\n",
    "\n",
    "    if root.left:\n",
    "        left  = LowestAncestor(root.left,p,q)\n",
    "\n",
    "    if ropt.right:\n",
    "        right = LowestAncestor(root.right,p,q)\n",
    "\n",
    "    if left and right:\n",
    "        return root\n",
    "    \n",
    "    else:\n",
    "        return left or right\n",
    "\n",
    "\n"
   ]
  }
 ],
 "metadata": {
  "language_info": {
   "name": "python"
  }
 },
 "nbformat": 4,
 "nbformat_minor": 2
}
