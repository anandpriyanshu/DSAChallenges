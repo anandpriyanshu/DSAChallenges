{
 "cells": [
  {
   "cell_type": "code",
   "execution_count": null,
   "metadata": {},
   "outputs": [],
   "source": [
    "def SymmetricTree(root):\n",
    "\n",
    "\n",
    "    if root is None:\n",
    "        return False\n",
    "    \n",
    "    return isSametree(root.left,root.right)\n",
    "\n",
    "\n",
    "def isSametree(leftroot,rightroot):\n",
    "\n",
    "    if leftroot == None and rightroot == None:\n",
    "            return True\n",
    "    \n",
    "    if leftroot == None or rightroot == None:\n",
    "            return False\n",
    "    \n",
    "     if leftroot.val != rightroot.val:\n",
    "            return False\n",
    "    \n",
    "\n",
    "    return isSametree(leftroot.left,rightroot.right) and isSametree(leftroot.right,rightroot.left)"
   ]
  }
 ],
 "metadata": {
  "language_info": {
   "name": "python"
  }
 },
 "nbformat": 4,
 "nbformat_minor": 2
}
