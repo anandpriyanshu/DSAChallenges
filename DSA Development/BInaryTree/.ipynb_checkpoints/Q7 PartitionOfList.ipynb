{
 "cells": [
  {
   "cell_type": "code",
   "execution_count": null,
   "metadata": {},
   "outputs": [],
   "source": [
    " def partition(head, x):\n",
    "        h1 = l1 = ListNode(0)\n",
    "        h2 = l2 = ListNode(0)\n",
    "        \n",
    "        while head:\n",
    "            if head.val < x:\n",
    "                l1.next = head\n",
    "                l1 = l1.next\n",
    "            else:\n",
    "                l2.next = head\n",
    "                l2 = l2.next\n",
    "            head = head.next\n",
    "            \n",
    "        l2.next = None\n",
    "        l1.next = h2.next\n",
    "        \n",
    "        return h1.next"
   ]
  }
 ],
 "metadata": {
  "language_info": {
   "name": "python"
  }
 },
 "nbformat": 4,
 "nbformat_minor": 2
}
