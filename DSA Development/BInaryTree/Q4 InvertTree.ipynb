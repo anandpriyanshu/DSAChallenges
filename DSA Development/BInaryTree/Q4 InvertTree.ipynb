{
 "cells": [
  {
   "cell_type": "code",
   "execution_count": null,
   "metadata": {},
   "outputs": [],
   "source": [
    "def InvertTree(root):\n",
    "\n",
    "    if root == None:\n",
    "        return root\n",
    "    \n",
    "    root.left, root.right = root.right,root.left\n",
    "\n",
    "    InvertTree(root.left)\n",
    "    InvertTree(root.right)\n",
    "\n",
    "    return root"
   ]
  }
 ],
 "metadata": {
  "language_info": {
   "name": "python"
  }
 },
 "nbformat": 4,
 "nbformat_minor": 2
}
