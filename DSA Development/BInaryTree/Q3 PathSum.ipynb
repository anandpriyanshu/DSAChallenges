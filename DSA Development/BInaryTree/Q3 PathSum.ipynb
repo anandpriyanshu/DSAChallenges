{
 "cells": [
  {
   "cell_type": "code",
   "execution_count": null,
   "metadata": {},
   "outputs": [],
   "source": [
    "def PathSum(root,targetSum):\n",
    "\n",
    "    if root is None:\n",
    "        return False\n",
    "    \n",
    "    if root.val == targetSum and (root.left is None and root.right is None):\n",
    "        return True\n",
    "    \n",
    "    return PathSum(root.left,targetSum-root.val) or PathSum(root.right,targetSum-root.val)"
   ]
  }
 ],
 "metadata": {
  "language_info": {
   "name": "python"
  }
 },
 "nbformat": 4,
 "nbformat_minor": 2
}
