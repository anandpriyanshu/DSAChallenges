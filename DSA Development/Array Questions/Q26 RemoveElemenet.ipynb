{
 "cells": [
  {
   "cell_type": "code",
   "execution_count": 3,
   "metadata": {},
   "outputs": [
    {
     "data": {
      "text/plain": [
       "2"
      ]
     },
     "execution_count": 3,
     "metadata": {},
     "output_type": "execute_result"
    }
   ],
   "source": [
    "def removeElement(nums, val):\n",
    "    c = 0\n",
    "    for i in range(len(nums)):  # Iterate through the list's indices\n",
    "        if nums[i] != val:\n",
    "            nums[c] = nums[i]  # Copy element if it's not the value to remove\n",
    "            c += 1\n",
    "    return c\n",
    "\n",
    "\n",
    "nums = [3,2,2,3]\n",
    "val = 3\n",
    "removeElement(nums, val)\n"
   ]
  },
  {
   "cell_type": "code",
   "execution_count": 4,
   "metadata": {},
   "outputs": [
    {
     "data": {
      "text/plain": [
       "5"
      ]
     },
     "execution_count": 4,
     "metadata": {},
     "output_type": "execute_result"
    }
   ],
   "source": [
    "nums = [0,1,2,2,3,0,4,2]\n",
    "val = 2\n",
    "removeElement(nums, val)\n"
   ]
  },
  {
   "cell_type": "code",
   "execution_count": 3,
   "metadata": {},
   "outputs": [],
   "source": [
    "s = \"abcd\"\n",
    "indices = [0, 2]\n",
    "sources = [\"a\", \"cd\"]\n"
   ]
  },
  {
   "cell_type": "code",
   "execution_count": 15,
   "metadata": {},
   "outputs": [
    {
     "data": {
      "text/plain": [
       "'uniq'"
      ]
     },
     "execution_count": 15,
     "metadata": {},
     "output_type": "execute_result"
    }
   ],
   "source": [
    "a = [\"un\",\"iq\",\"ue\"]\n",
    "\n",
    "a[0]+a[1]"
   ]
  },
  {
   "cell_type": "code",
   "execution_count": 16,
   "metadata": {},
   "outputs": [],
   "source": [
    "uniqELements = ['']"
   ]
  },
  {
   "cell_type": "code",
   "execution_count": 17,
   "metadata": {},
   "outputs": [
    {
     "data": {
      "text/plain": [
       "1"
      ]
     },
     "execution_count": 17,
     "metadata": {},
     "output_type": "execute_result"
    }
   ],
   "source": [
    "len(uniqELements)"
   ]
  },
  {
   "cell_type": "code",
   "execution_count": 28,
   "metadata": {},
   "outputs": [],
   "source": [
    "\n",
    "    "
   ]
  },
  {
   "cell_type": "code",
   "execution_count": 41,
   "metadata": {},
   "outputs": [],
   "source": [
    "def searchRange( nums, target):\n",
    "    def findFirst(nums, target):\n",
    "        left, right = 0, len(nums) - 1\n",
    "        first = -1\n",
    "        while left <= right:\n",
    "            mid = left + (right - left) // 2\n",
    "            if nums[mid] == target:\n",
    "                first = mid\n",
    "                right = mid - 1\n",
    "            elif nums[mid] < target:\n",
    "                    left = mid + 1\n",
    "            else:\n",
    "                right = mid - 1\n",
    "            return first\n",
    "        \n",
    "    def findLast(nums, target):\n",
    "        left, right = 0, len(nums) - 1\n",
    "        last = -1\n",
    "        while left <= right:\n",
    "            mid = left + (right - left) // 2\n",
    "            if nums[mid] == target:\n",
    "                last = mid\n",
    "                left = mid + 1\n",
    "            elif nums[mid] < target:\n",
    "                left = mid + 1\n",
    "            else:\n",
    "                right = mid - 1\n",
    "        return last\n",
    "        \n",
    "    first = findFirst(nums, target)\n",
    "    last = findLast(nums, target)\n",
    "    return [first, last]"
   ]
  },
  {
   "cell_type": "code",
   "execution_count": 42,
   "metadata": {},
   "outputs": [
    {
     "ename": "KeyboardInterrupt",
     "evalue": "",
     "output_type": "error",
     "traceback": [
      "\u001b[1;31m---------------------------------------------------------------------------\u001b[0m",
      "\u001b[1;31mKeyboardInterrupt\u001b[0m                         Traceback (most recent call last)",
      "Cell \u001b[1;32mIn[42], line 4\u001b[0m\n\u001b[0;32m      1\u001b[0m nums \u001b[38;5;241m=\u001b[39m [\u001b[38;5;241m5\u001b[39m,\u001b[38;5;241m7\u001b[39m,\u001b[38;5;241m7\u001b[39m,\u001b[38;5;241m8\u001b[39m,\u001b[38;5;241m8\u001b[39m,\u001b[38;5;241m10\u001b[39m]\n\u001b[0;32m      2\u001b[0m target \u001b[38;5;241m=\u001b[39m \u001b[38;5;241m8\u001b[39m\n\u001b[1;32m----> 4\u001b[0m \u001b[43msearchRange\u001b[49m\u001b[43m(\u001b[49m\u001b[43m \u001b[49m\u001b[43mnums\u001b[49m\u001b[43m,\u001b[49m\u001b[43m \u001b[49m\u001b[43mtarget\u001b[49m\u001b[43m)\u001b[49m\n",
      "Cell \u001b[1;32mIn[41], line 41\u001b[0m, in \u001b[0;36msearchRange\u001b[1;34m(nums, target)\u001b[0m\n\u001b[0;32m     38\u001b[0m     \u001b[38;5;28;01mreturn\u001b[39;00m last\n\u001b[0;32m     40\u001b[0m first \u001b[38;5;241m=\u001b[39m findfirst(nums,target)\n\u001b[1;32m---> 41\u001b[0m last \u001b[38;5;241m=\u001b[39m \u001b[43mfindLast\u001b[49m\u001b[43m(\u001b[49m\u001b[43mnums\u001b[49m\u001b[43m,\u001b[49m\u001b[43mtarget\u001b[49m\u001b[43m)\u001b[49m\n\u001b[0;32m     42\u001b[0m \u001b[38;5;28;01mreturn\u001b[39;00m [first, last]\n",
      "Cell \u001b[1;32mIn[41], line 25\u001b[0m, in \u001b[0;36msearchRange.<locals>.findLast\u001b[1;34m(nums, target)\u001b[0m\n\u001b[0;32m     22\u001b[0m right \u001b[38;5;241m=\u001b[39m \u001b[38;5;28mlen\u001b[39m(nums)\u001b[38;5;241m-\u001b[39m\u001b[38;5;241m1\u001b[39m\n\u001b[0;32m     23\u001b[0m last \u001b[38;5;241m=\u001b[39m \u001b[38;5;241m-\u001b[39m\u001b[38;5;241m1\u001b[39m\n\u001b[1;32m---> 25\u001b[0m \u001b[38;5;28;01mwhile\u001b[39;00m left \u001b[38;5;241m<\u001b[39m\u001b[38;5;241m=\u001b[39m right:\n\u001b[0;32m     27\u001b[0m     mid  \u001b[38;5;241m=\u001b[39m left \u001b[38;5;241m+\u001b[39m (right \u001b[38;5;241m-\u001b[39m left)\u001b[38;5;241m/\u001b[39m\u001b[38;5;241m/\u001b[39m\u001b[38;5;241m2\u001b[39m\n\u001b[0;32m     29\u001b[0m     \u001b[38;5;28;01mif\u001b[39;00m nums[mid] \u001b[38;5;241m==\u001b[39m  target:\n",
      "\u001b[1;31mKeyboardInterrupt\u001b[0m: "
     ]
    }
   ],
   "source": [
    "nums = [5,7,7,8,8,10]\n",
    "target = 8\n",
    "\n",
    "searchRange( nums, target)"
   ]
  }
 ],
 "metadata": {
  "kernelspec": {
   "display_name": "Python 3",
   "language": "python",
   "name": "python3"
  },
  "language_info": {
   "codemirror_mode": {
    "name": "ipython",
    "version": 3
   },
   "file_extension": ".py",
   "mimetype": "text/x-python",
   "name": "python",
   "nbconvert_exporter": "python",
   "pygments_lexer": "ipython3",
   "version": "3.11.9"
  }
 },
 "nbformat": 4,
 "nbformat_minor": 2
}
