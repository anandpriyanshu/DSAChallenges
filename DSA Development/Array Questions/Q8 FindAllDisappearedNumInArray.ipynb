{
 "cells": [
  {
   "cell_type": "code",
   "execution_count": 2,
   "id": "4cde0e24",
   "metadata": {},
   "outputs": [
    {
     "name": "stdout",
     "output_type": "stream",
     "text": [
      "[1, 6]\n"
     ]
    }
   ],
   "source": [
    "def FindAllDisappearedNumInArray(a):\n",
    "    li = []\n",
    "    b = set(a)\n",
    "    \n",
    "    for i in range(1, len(b)+1):\n",
    "        if i not in b:\n",
    "            li.append(i)\n",
    "    return li\n",
    "    \n",
    "    \n",
    "a = [7,4,3,4,5,7,11,9,8,2]\n",
    "ans = FindAllDisappearedNumInArray(a)\n",
    "print(ans)"
   ]
  },
  {
   "cell_type": "code",
   "execution_count": 3,
   "id": "4d5eac2f",
   "metadata": {},
   "outputs": [
    {
     "name": "stdout",
     "output_type": "stream",
     "text": [
      "{2, 3, 4, 5, 7, 8, 9, 11}\n"
     ]
    }
   ],
   "source": [
    "b = [7,4,3,4,5,7,11,9,8,2]\n",
    "s = set(b)\n",
    "print(s)"
   ]
  },
  {
   "cell_type": "code",
   "execution_count": 2,
   "id": "eb797bc3",
   "metadata": {},
   "outputs": [
    {
     "data": {
      "text/plain": [
       "[2, 3, 4, 5, 7, 8, 9, 11]"
      ]
     },
     "execution_count": 2,
     "metadata": {},
     "output_type": "execute_result"
    }
   ],
   "source": [
    "list(s)"
   ]
  },
  {
   "cell_type": "code",
   "execution_count": 34,
   "id": "2db96baa",
   "metadata": {},
   "outputs": [
    {
     "name": "stdout",
     "output_type": "stream",
     "text": [
      "[1, 3]\n"
     ]
    }
   ],
   "source": [
    "def disapper(a):\n",
    "    l = []\n",
    "    b =set(a)\n",
    "    for i in range(1,len(b)+1):\n",
    "        if i not in b:\n",
    "            l.append(i)\n",
    "    return l\n",
    "            \n",
    "a = [2,5,6,8,4]\n",
    "ans = disapper(a)\n",
    "print(ans)"
   ]
  },
  {
   "cell_type": "code",
   "execution_count": null,
   "id": "15d67587",
   "metadata": {},
   "outputs": [],
   "source": []
  }
 ],
 "metadata": {
  "kernelspec": {
   "display_name": "Python 3 (ipykernel)",
   "language": "python",
   "name": "python3"
  },
  "language_info": {
   "codemirror_mode": {
    "name": "ipython",
    "version": 3
   },
   "file_extension": ".py",
   "mimetype": "text/x-python",
   "name": "python",
   "nbconvert_exporter": "python",
   "pygments_lexer": "ipython3",
   "version": "3.11.9"
  }
 },
 "nbformat": 4,
 "nbformat_minor": 5
}
