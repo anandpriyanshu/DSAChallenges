{
 "cells": [
  {
   "cell_type": "code",
   "execution_count": null,
   "metadata": {},
   "outputs": [],
   "source": [
    "def RotateOfArray(num,k):\n",
    "  n = len(num)\n",
    "  k = k%n\n",
    "  num.reverse()\n",
    "  num[:k] = reversed(num[k:])\n",
    "  num[k:] = reversed(num[k:])\n",
    "\n",
    "\n",
    "nums = [1,2,3,4,5,6,7]\n",
    "k = 3\n",
    "RotateOfArray(nums,k)"
   ]
  }
 ],
 "metadata": {
  "language_info": {
   "name": "python"
  }
 },
 "nbformat": 4,
 "nbformat_minor": 2
}
