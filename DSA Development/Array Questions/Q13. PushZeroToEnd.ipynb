{
 "cells": [
  {
   "cell_type": "code",
   "execution_count": 6,
   "id": "d9379cc6",
   "metadata": {},
   "outputs": [
    {
     "data": {
      "text/plain": [
       "[1, 2, 4, 3, 0, 0]"
      ]
     },
     "execution_count": 6,
     "metadata": {},
     "output_type": "execute_result"
    }
   ],
   "source": [
    "def push0toend(a):\n",
    "    k = 0\n",
    "    for  i  in range(len(a)):\n",
    "        if a[i] != 0:\n",
    "            a[i],a[k] = a[k],a[i]\n",
    "            k+=1\n",
    "    return a\n",
    "    \n",
    "    \n",
    "a = [0,0,1,2,4,3]\n",
    "push0toend(a)"
   ]
  },
  {
   "cell_type": "code",
   "execution_count": null,
   "id": "4d82f6e9",
   "metadata": {},
   "outputs": [],
   "source": []
  }
 ],
 "metadata": {
  "kernelspec": {
   "display_name": "Python 3 (ipykernel)",
   "language": "python",
   "name": "python3"
  },
  "language_info": {
   "codemirror_mode": {
    "name": "ipython",
    "version": 3
   },
   "file_extension": ".py",
   "mimetype": "text/x-python",
   "name": "python",
   "nbconvert_exporter": "python",
   "pygments_lexer": "ipython3",
   "version": "3.9.7"
  }
 },
 "nbformat": 4,
 "nbformat_minor": 5
}
