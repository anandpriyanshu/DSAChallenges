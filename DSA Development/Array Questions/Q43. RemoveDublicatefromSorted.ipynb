{
 "cells": [
  {
   "cell_type": "code",
   "execution_count": 3,
   "id": "d20f33fb",
   "metadata": {},
   "outputs": [
    {
     "name": "stdout",
     "output_type": "stream",
     "text": [
      "5\n"
     ]
    }
   ],
   "source": [
    "def removeDublicate(a):\n",
    "  c = 0\n",
    "  for i in a:\n",
    "    if c<2 or i > a[c-2]:\n",
    "      a[c] = i\n",
    "      c+=1\n",
    "  return c\n",
    "\n",
    "\n",
    "\n",
    "nums = [1,1,1,2,2,3]\n",
    "print(removeDublicate(nums))"
   ]
  },
  {
   "cell_type": "code",
   "execution_count": null,
   "id": "db51304e",
   "metadata": {},
   "outputs": [],
   "source": []
  }
 ],
 "metadata": {
  "kernelspec": {
   "display_name": "Python 3",
   "language": "python",
   "name": "python3"
  },
  "language_info": {
   "codemirror_mode": {
    "name": "ipython",
    "version": 3
   },
   "file_extension": ".py",
   "mimetype": "text/x-python",
   "name": "python",
   "nbconvert_exporter": "python",
   "pygments_lexer": "ipython3",
   "version": "3.11.9"
  }
 },
 "nbformat": 4,
 "nbformat_minor": 5
}
