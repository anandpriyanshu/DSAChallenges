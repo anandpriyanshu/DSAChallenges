{
 "cells": [
  {
   "cell_type": "code",
   "execution_count": 2,
   "id": "5896b288",
   "metadata": {},
   "outputs": [
    {
     "name": "stdout",
     "output_type": "stream",
     "text": [
      "0\n"
     ]
    }
   ],
   "source": [
    "def missingNumber(a):\n",
    "    \n",
    "    \n",
    "    n = len(a)+1\n",
    "    if n<=1:\n",
    "        return\n",
    "    totalsum = (n * (n+1)//2)\n",
    "    add = sum(a)\n",
    "    \n",
    "    return totalsum - add\n",
    "    \n",
    "    \n",
    "a =  [1,3,5,6]\n",
    "ans= missingNumber(a)\n",
    "print(ans)"
   ]
  },
  {
   "cell_type": "markdown",
   "id": "84812230",
   "metadata": {},
   "source": [
    "Done by myself"
   ]
  },
  {
   "cell_type": "code",
   "execution_count": 3,
   "id": "d5516d01",
   "metadata": {},
   "outputs": [
    {
     "name": "stdout",
     "output_type": "stream",
     "text": [
      "2\n"
     ]
    }
   ],
   "source": [
    "def missingNumber(a):\n",
    "    for i in range(0,len(a)):\n",
    "        if a[i] != i+1:\n",
    "            return i+1\n",
    "        \n",
    "    \n",
    "    \n",
    "a =  [1,3,5,6]\n",
    "ans= missingNumber(a)\n",
    "print(ans)"
   ]
  },
  {
   "cell_type": "code",
   "execution_count": 5,
   "id": "6ef4b79c",
   "metadata": {},
   "outputs": [
    {
     "name": "stdout",
     "output_type": "stream",
     "text": [
      "[2, 4]\n"
     ]
    }
   ],
   "source": [
    "def missingnumber(a):\n",
    "    li = []\n",
    "    b = set(a)\n",
    "    for i in range(1,len(b)+1):\n",
    "        if i not in b:\n",
    "            li.append(i)\n",
    "    return li\n",
    "\n",
    "a =  [1,3,5,6]\n",
    "ans= missingnumber(a)\n",
    "print(ans)\n",
    "\n"
   ]
  },
  {
   "cell_type": "code",
   "execution_count": null,
   "id": "0b76f663",
   "metadata": {},
   "outputs": [],
   "source": []
  }
 ],
 "metadata": {
  "kernelspec": {
   "display_name": "Python 3 (ipykernel)",
   "language": "python",
   "name": "python3"
  },
  "language_info": {
   "codemirror_mode": {
    "name": "ipython",
    "version": 3
   },
   "file_extension": ".py",
   "mimetype": "text/x-python",
   "name": "python",
   "nbconvert_exporter": "python",
   "pygments_lexer": "ipython3",
   "version": "3.11.9"
  }
 },
 "nbformat": 4,
 "nbformat_minor": 5
}
