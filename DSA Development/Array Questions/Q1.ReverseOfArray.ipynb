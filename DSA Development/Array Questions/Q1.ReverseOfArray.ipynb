{
 "cells": [
  {
   "cell_type": "code",
   "execution_count": 1,
   "id": "001f0282",
   "metadata": {},
   "outputs": [
    {
     "data": {
      "text/plain": [
       "[50, 40, 30, 20, 10]"
      ]
     },
     "execution_count": 1,
     "metadata": {},
     "output_type": "execute_result"
    }
   ],
   "source": [
    "def Reverse(a):\n",
    "    \n",
    "    for i in range(len(a)//2):\n",
    "        a[i],a[len(a)-i-1] = a[len(a)-i-1],a[i]\n",
    "    return a\n",
    "    \n",
    "    \n",
    "    \n",
    "a = [10,20,30,40,50]\n",
    "Reverse(a)"
   ]
  },
  {
   "cell_type": "code",
   "execution_count": 4,
   "id": "53cb0368",
   "metadata": {},
   "outputs": [
    {
     "name": "stdout",
     "output_type": "stream",
     "text": [
      "[-4, -3, -2, -1]\n"
     ]
    }
   ],
   "source": [
    "def reverseArray(a):\n",
    "    \n",
    "    n = len(a)//2\n",
    "    for i in range(n):\n",
    "        a[i],a[len(a)-i-1] = a[len(a)-i-1],a[i]\n",
    "        \n",
    "    return a\n",
    "    \n",
    "\n",
    "a = [-1,-2,-3,-4]\n",
    "ans = reverseArray(a)\n",
    "print(ans)"
   ]
  },
  {
   "cell_type": "code",
   "execution_count": null,
   "id": "a3a863fc",
   "metadata": {},
   "outputs": [],
   "source": []
  }
 ],
 "metadata": {
  "kernelspec": {
   "display_name": "Python 3 (ipykernel)",
   "language": "python",
   "name": "python3"
  },
  "language_info": {
   "codemirror_mode": {
    "name": "ipython",
    "version": 3
   },
   "file_extension": ".py",
   "mimetype": "text/x-python",
   "name": "python",
   "nbconvert_exporter": "python",
   "pygments_lexer": "ipython3",
   "version": "3.11.9"
  }
 },
 "nbformat": 4,
 "nbformat_minor": 5
}
