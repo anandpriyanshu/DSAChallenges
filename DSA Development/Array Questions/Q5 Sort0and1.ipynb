{
 "cells": [
  {
   "cell_type": "code",
   "execution_count": 2,
   "id": "38851eec",
   "metadata": {},
   "outputs": [
    {
     "data": {
      "text/plain": [
       "([0, 0, 0, 0, 1, 1, 1, 1], 4)"
      ]
     },
     "execution_count": 2,
     "metadata": {},
     "output_type": "execute_result"
    }
   ],
   "source": [
    "def Sort0to1(a):\n",
    "    k = 0\n",
    "    for i in range(len(a)):\n",
    "        if a[i] == 0:\n",
    "            a[k],a[i] = a[i],a[k]\n",
    "            k+=1\n",
    "    return a,k\n",
    "            \n",
    "\n",
    "    \n",
    "    \n",
    "a = [0,0,1,1,0,1,0,1]\n",
    "Sort0to1(a)"
   ]
  },
  {
   "cell_type": "code",
   "execution_count": 7,
   "id": "dc5d525f",
   "metadata": {},
   "outputs": [
    {
     "data": {
      "text/plain": [
       "[0, 0, 1, 1, 1]"
      ]
     },
     "execution_count": 7,
     "metadata": {},
     "output_type": "execute_result"
    }
   ],
   "source": [
    "def sort01(a):\n",
    "    k = 0\n",
    "    for i in range(len(a)):\n",
    "        if a[i] == 0:\n",
    "            a[i],a[k] = a[k],a[i]\n",
    "            k+=1\n",
    "        \n",
    "    return a\n",
    "a = [0,0,1,1,1]\n",
    "sort01(a)"
   ]
  },
  {
   "cell_type": "code",
   "execution_count": null,
   "id": "616a8796",
   "metadata": {},
   "outputs": [],
   "source": []
  }
 ],
 "metadata": {
  "kernelspec": {
   "display_name": "Python 3 (ipykernel)",
   "language": "python",
   "name": "python3"
  },
  "language_info": {
   "codemirror_mode": {
    "name": "ipython",
    "version": 3
   },
   "file_extension": ".py",
   "mimetype": "text/x-python",
   "name": "python",
   "nbconvert_exporter": "python",
   "pygments_lexer": "ipython3",
   "version": "3.11.9"
  }
 },
 "nbformat": 4,
 "nbformat_minor": 5
}
