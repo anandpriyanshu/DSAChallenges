{
 "cells": [
  {
   "cell_type": "code",
   "execution_count": 13,
   "id": "f4bfe9cf",
   "metadata": {},
   "outputs": [
    {
     "name": "stdout",
     "output_type": "stream",
     "text": [
      "[1, 6]\n"
     ]
    }
   ],
   "source": [
    "def FindAllDisappearedNumInArray(a):\n",
    "    li = []\n",
    "    b = set(a)\n",
    "    \n",
    "    for i in range(1, len(b)+1):\n",
    "        if i not in b:\n",
    "            li.append(i)\n",
    "    return li\n",
    "    \n",
    "    \n",
    "a = [7,4,3,4,5,7,11,9,8,2]\n",
    "ans = FindAllDisappearedNumInArray(a)\n",
    "print(ans)"
   ]
  },
  {
   "cell_type": "code",
   "execution_count": null,
   "id": "ac39730c",
   "metadata": {},
   "outputs": [],
   "source": []
  }
 ],
 "metadata": {
  "kernelspec": {
   "display_name": "Python 3 (ipykernel)",
   "language": "python",
   "name": "python3"
  },
  "language_info": {
   "codemirror_mode": {
    "name": "ipython",
    "version": 3
   },
   "file_extension": ".py",
   "mimetype": "text/x-python",
   "name": "python",
   "nbconvert_exporter": "python",
   "pygments_lexer": "ipython3",
   "version": "3.9.7"
  }
 },
 "nbformat": 4,
 "nbformat_minor": 5
}
