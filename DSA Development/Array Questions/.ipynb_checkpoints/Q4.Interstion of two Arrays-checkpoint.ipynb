{
 "cells": [
  {
   "cell_type": "code",
   "execution_count": 13,
   "id": "d8810065",
   "metadata": {},
   "outputs": [
    {
     "data": {
      "text/plain": [
       "[4, 9]"
      ]
     },
     "execution_count": 13,
     "metadata": {},
     "output_type": "execute_result"
    }
   ],
   "source": [
    "def IntersectionOfTwoArrays(a1,a2):\n",
    "    a3 = []\n",
    "    for i in range(len(a1)):\n",
    "        for j in range(len(a2)):\n",
    "            if(a1[i] == a2[j]):\n",
    "                a3.append(a2[j])\n",
    "                a2[j]= -1\n",
    "                break\n",
    "    return a3\n",
    "    \n",
    "    \n",
    "a1 = [4,9,5]\n",
    "a2 = [9,4,9,8,4]\n",
    "IntersectionOfTwoArrays(a1,a2)"
   ]
  },
  {
   "cell_type": "code",
   "execution_count": 16,
   "id": "40341287",
   "metadata": {},
   "outputs": [
    {
     "data": {
      "text/plain": [
       "[2, 2]"
      ]
     },
     "execution_count": 16,
     "metadata": {},
     "output_type": "execute_result"
    }
   ],
   "source": [
    "a1 = [1,2,2,1]\n",
    "a2 = [2,2]\n",
    "IntersectionOfTwoArrays(a1,a2)"
   ]
  },
  {
   "cell_type": "code",
   "execution_count": null,
   "id": "c6061848",
   "metadata": {},
   "outputs": [],
   "source": []
  },
  {
   "cell_type": "code",
   "execution_count": null,
   "id": "89a6ef03",
   "metadata": {},
   "outputs": [],
   "source": []
  }
 ],
 "metadata": {
  "kernelspec": {
   "display_name": "Python 3 (ipykernel)",
   "language": "python",
   "name": "python3"
  },
  "language_info": {
   "codemirror_mode": {
    "name": "ipython",
    "version": 3
   },
   "file_extension": ".py",
   "mimetype": "text/x-python",
   "name": "python",
   "nbconvert_exporter": "python",
   "pygments_lexer": "ipython3",
   "version": "3.9.7"
  }
 },
 "nbformat": 4,
 "nbformat_minor": 5
}
