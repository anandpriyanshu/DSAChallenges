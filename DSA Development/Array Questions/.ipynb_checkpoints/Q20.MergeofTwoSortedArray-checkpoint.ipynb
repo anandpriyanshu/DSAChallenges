{
 "cells": [
  {
   "cell_type": "code",
   "execution_count": 10,
   "id": "4b7252b3",
   "metadata": {},
   "outputs": [
    {
     "data": {
      "text/plain": [
       "2.5"
      ]
     },
     "execution_count": 10,
     "metadata": {},
     "output_type": "execute_result"
    }
   ],
   "source": [
    "def MergeofTwoSortedArray(a1,a2):\n",
    "    \n",
    "    merged = a1 + a2\n",
    "    merged.sort\n",
    "    \n",
    "    total = len(merged)\n",
    "    \n",
    "    if total % 2 == 1:\n",
    "        return float(merged[total//2])\n",
    "    else:\n",
    "        mid1 = merged[total//2 -1]\n",
    "        mid2 = merged[total//2]\n",
    "        \n",
    "        return (float(mid1) + float(mid2))/2.0\n",
    "    \n",
    "a1 = [1,2]\n",
    "a2 = [3,4]\n",
    "MergeofTwoSortedArray(a1,a2)"
   ]
  },
  {
   "cell_type": "code",
   "execution_count": null,
   "id": "fc4bbb6c",
   "metadata": {},
   "outputs": [],
   "source": []
  }
 ],
 "metadata": {
  "kernelspec": {
   "display_name": "Python 3 (ipykernel)",
   "language": "python",
   "name": "python3"
  },
  "language_info": {
   "codemirror_mode": {
    "name": "ipython",
    "version": 3
   },
   "file_extension": ".py",
   "mimetype": "text/x-python",
   "name": "python",
   "nbconvert_exporter": "python",
   "pygments_lexer": "ipython3",
   "version": "3.9.7"
  }
 },
 "nbformat": 4,
 "nbformat_minor": 5
}
