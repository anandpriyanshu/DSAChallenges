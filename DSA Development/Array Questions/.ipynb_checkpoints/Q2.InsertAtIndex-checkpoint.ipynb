{
 "cells": [
  {
   "cell_type": "code",
   "execution_count": 26,
   "id": "d2538a16",
   "metadata": {},
   "outputs": [
    {
     "name": "stdout",
     "output_type": "stream",
     "text": [
      "[7, 5, 8, 9]\n"
     ]
    }
   ],
   "source": [
    "def InsertAtIndex(a, val, index):\n",
    "    a.append(None)  # Add a new element at the end of the list\n",
    "    i = len(a) - 1\n",
    "    while i > index:\n",
    "        a[i] = a[i - 1]\n",
    "        i -= 1\n",
    "    a[index] = val\n",
    "    return a\n",
    "\n",
    "# Example usage:\n",
    "a = [7,8,9]\n",
    "val = 5\n",
    "index = 1\n",
    "print(InsertAtIndex(a, val, index))"
   ]
  },
  {
   "cell_type": "code",
   "execution_count": 17,
   "id": "34e7f8c6",
   "metadata": {},
   "outputs": [
    {
     "data": {
      "text/plain": [
       "4"
      ]
     },
     "execution_count": 17,
     "metadata": {},
     "output_type": "execute_result"
    }
   ],
   "source": [
    "b = [5, 6, 2, 3]\n",
    "len(b)"
   ]
  },
  {
   "cell_type": "code",
   "execution_count": 18,
   "id": "1c7fd00f",
   "metadata": {},
   "outputs": [],
   "source": [
    "b.append(None)"
   ]
  },
  {
   "cell_type": "code",
   "execution_count": 19,
   "id": "21caf5a1",
   "metadata": {},
   "outputs": [
    {
     "data": {
      "text/plain": [
       "5"
      ]
     },
     "execution_count": 19,
     "metadata": {},
     "output_type": "execute_result"
    }
   ],
   "source": [
    "len(b)"
   ]
  },
  {
   "cell_type": "code",
   "execution_count": 27,
   "id": "67ca51e0",
   "metadata": {},
   "outputs": [
    {
     "name": "stdout",
     "output_type": "stream",
     "text": [
      "[1, 8, 2, 3, 4]\n"
     ]
    }
   ],
   "source": [
    "def insertAtindex(a,pos,val):\n",
    "    a.append(None)\n",
    "    \n",
    "    i = len(a)-1\n",
    "    \n",
    "    while i > pos:\n",
    "        \n",
    "        a[i] = a[i-1]\n",
    "        i-=1\n",
    "    a[pos] = val\n",
    "    \n",
    "    return a\n",
    "    \n",
    "    \n",
    "a = [1,2,3,4]\n",
    "pos = 1\n",
    "val = 8\n",
    "print(insertAtindex(a,pos,val))"
   ]
  },
  {
   "cell_type": "code",
   "execution_count": null,
   "id": "4d04ae8e",
   "metadata": {},
   "outputs": [],
   "source": []
  }
 ],
 "metadata": {
  "kernelspec": {
   "display_name": "Python 3 (ipykernel)",
   "language": "python",
   "name": "python3"
  },
  "language_info": {
   "codemirror_mode": {
    "name": "ipython",
    "version": 3
   },
   "file_extension": ".py",
   "mimetype": "text/x-python",
   "name": "python",
   "nbconvert_exporter": "python",
   "pygments_lexer": "ipython3",
   "version": "3.9.7"
  }
 },
 "nbformat": 4,
 "nbformat_minor": 5
}
