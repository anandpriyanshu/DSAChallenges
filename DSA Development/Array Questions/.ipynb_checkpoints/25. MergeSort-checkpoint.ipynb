{
 "cells": [
  {
   "cell_type": "code",
   "execution_count": 21,
   "id": "2157d886",
   "metadata": {},
   "outputs": [
    {
     "name": "stdout",
     "output_type": "stream",
     "text": [
      "[3, 4, 5, 7, 9, 10, 11]\n"
     ]
    }
   ],
   "source": [
    "def MergeSort(a):\n",
    "    if len(a) == 1:\n",
    "        return\n",
    "    \n",
    "    mid = len(a)//2\n",
    "    a1 = a[0:mid]\n",
    "    a2  = a[mid:]\n",
    "    MergeSort(a1)\n",
    "    MergeSort(a2)\n",
    "    Merge(a,a1,a2)\n",
    "    \n",
    "    \n",
    "def Merge(a,a1,a2):\n",
    "    i,j,k = 0,0,0 \n",
    "    \n",
    "    while i < len(a1) and j < len(a2) :\n",
    "        \n",
    "        if a1[i] < a2[j]:\n",
    "            a[k] = a1[i]\n",
    "            k+=1\n",
    "            i+=1\n",
    "           \n",
    "        else:\n",
    "            a[k] = a2[j]\n",
    "            k+=1\n",
    "            j+=1\n",
    "           \n",
    "            \n",
    "    while i < len(a1):\n",
    "        a[k] = a1[i]\n",
    "        \n",
    "        k+=1\n",
    "        i+=1\n",
    "        \n",
    "    while j < len(a2):\n",
    "        a[k] = a2[j]\n",
    "        \n",
    "      \n",
    "        k+=1\n",
    "        j+=1\n",
    "    \n",
    "        \n",
    "    \n",
    "    \n",
    "    \n",
    "a = [10,5,3,11,7,9,4]\n",
    "MergeSort(a)\n",
    "print(a)"
   ]
  }
 ],
 "metadata": {
  "kernelspec": {
   "display_name": "Python 3 (ipykernel)",
   "language": "python",
   "name": "python3"
  },
  "language_info": {
   "codemirror_mode": {
    "name": "ipython",
    "version": 3
   },
   "file_extension": ".py",
   "mimetype": "text/x-python",
   "name": "python",
   "nbconvert_exporter": "python",
   "pygments_lexer": "ipython3",
   "version": "3.9.7"
  }
 },
 "nbformat": 4,
 "nbformat_minor": 5
}
