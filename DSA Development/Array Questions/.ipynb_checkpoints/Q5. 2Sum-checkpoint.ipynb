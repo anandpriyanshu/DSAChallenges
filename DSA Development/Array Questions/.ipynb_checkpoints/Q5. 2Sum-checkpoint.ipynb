{
 "cells": [
  {
   "cell_type": "code",
   "execution_count": 1,
   "id": "df235bcb",
   "metadata": {},
   "outputs": [
    {
     "name": "stdout",
     "output_type": "stream",
     "text": [
      "None\n"
     ]
    }
   ],
   "source": [
    " def twoSum( nums, target):\n",
    "\n",
    "        s = 0\n",
    "        e = len(nums)-1\n",
    "\n",
    "        while s < e:\n",
    "\n",
    "            sum = nums[s] + nums[e]\n",
    "\n",
    "            if sum >= target:\n",
    "                e -= 1\n",
    "            elif sum <= target:\n",
    "                \n",
    "                s += 1\n",
    "            else:\n",
    "                return [s,e]\n",
    "nums = [3,2,4]\n",
    "target = 6\n",
    "ans = twoSum(nums,target)\n",
    "print(ans)"
   ]
  },
  {
   "cell_type": "code",
   "execution_count": 5,
   "id": "50eaf097",
   "metadata": {},
   "outputs": [
    {
     "data": {
      "text/plain": [
       "[1, 3]"
      ]
     },
     "execution_count": 5,
     "metadata": {},
     "output_type": "execute_result"
    }
   ],
   "source": [
    "def twosum(a,target):\n",
    "    ans = {}\n",
    "    \n",
    "    for i ,n in enumerate(a):\n",
    "        diff = target - n\n",
    "        if diff in ans:\n",
    "            return [ans[diff],i]\n",
    "        ans[n] = i\n",
    "    return\n",
    "\n",
    "a = [2,1,5,3]\n",
    "target = 4\n",
    "twosum(a,target)"
   ]
  },
  {
   "cell_type": "code",
   "execution_count": null,
   "id": "2792478d",
   "metadata": {},
   "outputs": [],
   "source": []
  }
 ],
 "metadata": {
  "kernelspec": {
   "display_name": "Python 3 (ipykernel)",
   "language": "python",
   "name": "python3"
  },
  "language_info": {
   "codemirror_mode": {
    "name": "ipython",
    "version": 3
   },
   "file_extension": ".py",
   "mimetype": "text/x-python",
   "name": "python",
   "nbconvert_exporter": "python",
   "pygments_lexer": "ipython3",
   "version": "3.9.7"
  }
 },
 "nbformat": 4,
 "nbformat_minor": 5
}
