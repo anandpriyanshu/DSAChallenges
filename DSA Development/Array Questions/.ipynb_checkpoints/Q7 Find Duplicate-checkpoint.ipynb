{
 "cells": [
  {
   "cell_type": "code",
   "execution_count": 14,
   "id": "90825f4d",
   "metadata": {},
   "outputs": [
    {
     "data": {
      "text/plain": [
       "1"
      ]
     },
     "execution_count": 14,
     "metadata": {},
     "output_type": "execute_result"
    }
   ],
   "source": [
    "def findDuplicate(a):\n",
    "    a.sort()\n",
    "    for i in range(len(a)-1):\n",
    "        if a[i] == a[i+1]:\n",
    "            return a[i]\n",
    "    return a\n",
    "    \n",
    "a = [2,2,1,1,1]\n",
    "findDuplicate(a)"
   ]
  },
  {
   "cell_type": "code",
   "execution_count": 15,
   "id": "8c364a07",
   "metadata": {},
   "outputs": [
    {
     "name": "stdout",
     "output_type": "stream",
     "text": [
      "[0, 0, 0, 0, 0]\n"
     ]
    }
   ],
   "source": [
    "a = [2,2,1,1,1]\n",
    "ans = [0]*len(a)\n",
    "print(ans)"
   ]
  },
  {
   "cell_type": "code",
   "execution_count": 16,
   "id": "118586bf",
   "metadata": {},
   "outputs": [
    {
     "name": "stdout",
     "output_type": "stream",
     "text": [
      "15\n"
     ]
    }
   ],
   "source": [
    "b = -15\n",
    "print(abs(b))"
   ]
  },
  {
   "cell_type": "code",
   "execution_count": 18,
   "id": "983ed188",
   "metadata": {},
   "outputs": [
    {
     "data": {
      "text/plain": [
       "[0, 0, 0, 0, 0, 0]"
      ]
     },
     "execution_count": 18,
     "metadata": {},
     "output_type": "execute_result"
    }
   ],
   "source": [
    "a = [2,2,1,1,1]\n",
    "[0] * (len(a) + 1)"
   ]
  },
  {
   "cell_type": "code",
   "execution_count": 22,
   "id": "9644a598",
   "metadata": {},
   "outputs": [
    {
     "name": "stdout",
     "output_type": "stream",
     "text": [
      "3\n"
     ]
    }
   ],
   "source": [
    "def duplicateNumber(arr):\n",
    "    for i in range(len(arr)):\n",
    "        for j in range(len(arr)):\n",
    "            if i != j:\n",
    "                if arr[i] == arr[j]:\n",
    "                    return arr[i]\n",
    "    return None\n",
    "arr = [3,3,3,3,3]\n",
    "print(duplicateNumber(arr))"
   ]
  },
  {
   "cell_type": "code",
   "execution_count": 5,
   "id": "f0950e07",
   "metadata": {},
   "outputs": [
    {
     "data": {
      "text/plain": [
       "(2, 1)"
      ]
     },
     "execution_count": 5,
     "metadata": {},
     "output_type": "execute_result"
    }
   ],
   "source": [
    "def findDuplicate(a):\n",
    "    a.sort()\n",
    "    i = 0\n",
    "    while i < len(a)-1:\n",
    "        \n",
    "        if a[i] == a[i+1]:\n",
    "            return a[i]\n",
    "        \n",
    "        i+=1\n",
    "    return -1\n",
    "    \n",
    "a = [4,4,3,2]\n",
    "findDuplicate(a)"
   ]
  },
  {
   "cell_type": "code",
   "execution_count": 11,
   "id": "768dc830",
   "metadata": {},
   "outputs": [
    {
     "data": {
      "text/plain": [
       "[3, 3, 3, 4, 4, 6, 7]"
      ]
     },
     "execution_count": 11,
     "metadata": {},
     "output_type": "execute_result"
    }
   ],
   "source": [
    "def findDuplicate(a):\n",
    "    a.sort()\n",
    "    i = 0\n",
    "    ans = []\n",
    "    while i < len(a)-1:\n",
    "        \n",
    "        if a[i] == a[i+1]:\n",
    "            ans.append(a[i])\n",
    "            \n",
    "        \n",
    "        i+=1\n",
    "    \n",
    "    return ans\n",
    "    \n",
    "a = [4,4,3,2,3,3,1,4,6,3,6,7,7]\n",
    "findDuplicate(a)"
   ]
  },
  {
   "cell_type": "code",
   "execution_count": 19,
   "id": "a27075b2",
   "metadata": {},
   "outputs": [
    {
     "data": {
      "text/plain": [
       "[2, 3, 3, 4, 4]"
      ]
     },
     "execution_count": 19,
     "metadata": {},
     "output_type": "execute_result"
    }
   ],
   "source": [
    "a"
   ]
  },
  {
   "cell_type": "code",
   "execution_count": 20,
   "id": "8904ccb5",
   "metadata": {},
   "outputs": [
    {
     "data": {
      "text/plain": [
       "[2, 3, 3, 4, 4]"
      ]
     },
     "execution_count": 20,
     "metadata": {},
     "output_type": "execute_result"
    }
   ],
   "source": [
    "a"
   ]
  },
  {
   "cell_type": "code",
   "execution_count": 34,
   "id": "dcfbd79c",
   "metadata": {},
   "outputs": [],
   "source": [
    "b = [4,4,3,2,3,3,1,4,6,3,6,7,7]"
   ]
  },
  {
   "cell_type": "code",
   "execution_count": 43,
   "id": "44eef06d",
   "metadata": {},
   "outputs": [
    {
     "data": {
      "text/plain": [
       "[4, 4, 3, 2, 3, 3, 1, 4, 6, 3, 6, 7, 7]"
      ]
     },
     "execution_count": 43,
     "metadata": {},
     "output_type": "execute_result"
    }
   ],
   "source": [
    "b"
   ]
  },
  {
   "cell_type": "code",
   "execution_count": 37,
   "id": "3422adef",
   "metadata": {},
   "outputs": [
    {
     "name": "stdout",
     "output_type": "stream",
     "text": [
      "{1, 2, 3, 4, 6, 7}\n"
     ]
    }
   ],
   "source": [
    "a = set(b)\n",
    "print(a)\n"
   ]
  },
  {
   "cell_type": "code",
   "execution_count": 40,
   "id": "5b66a880",
   "metadata": {},
   "outputs": [
    {
     "data": {
      "text/plain": [
       "set"
      ]
     },
     "execution_count": 40,
     "metadata": {},
     "output_type": "execute_result"
    }
   ],
   "source": [
    "type(a)"
   ]
  },
  {
   "cell_type": "code",
   "execution_count": 41,
   "id": "6a8ab2c7",
   "metadata": {},
   "outputs": [],
   "source": [
    "c = list(a)"
   ]
  },
  {
   "cell_type": "code",
   "execution_count": 42,
   "id": "ac5a9680",
   "metadata": {},
   "outputs": [
    {
     "data": {
      "text/plain": [
       "[1, 2, 3, 4, 6, 7]"
      ]
     },
     "execution_count": 42,
     "metadata": {},
     "output_type": "execute_result"
    }
   ],
   "source": [
    "c"
   ]
  },
  {
   "cell_type": "code",
   "execution_count": 44,
   "id": "07d3d565",
   "metadata": {},
   "outputs": [
    {
     "data": {
      "text/plain": [
       "[4, 4, 3, 2, 3, 3, 1, 4, 6, 3, 6, 7, 7]"
      ]
     },
     "execution_count": 44,
     "metadata": {},
     "output_type": "execute_result"
    }
   ],
   "source": [
    "b"
   ]
  },
  {
   "cell_type": "code",
   "execution_count": 46,
   "id": "77fd621a",
   "metadata": {},
   "outputs": [
    {
     "data": {
      "text/plain": [
       "False"
      ]
     },
     "execution_count": 46,
     "metadata": {},
     "output_type": "execute_result"
    }
   ],
   "source": [
    "def uniqueNum(arr):\n",
    "#     return len(set(arr)) == len(arr)\n",
    "    \n",
    "    ans = set(b)\n",
    "    ans2 = list(ans)\n",
    "    \n",
    "    return ans2\n",
    "\n",
    "\n",
    "\n",
    "arr = [4, 4, 3, 2, 3, 3, 1, 4, 6, 3, 6, 7, 7]\n",
    "uniqueNum(arr)\n"
   ]
  },
  {
   "cell_type": "code",
   "execution_count": null,
   "id": "a825284c",
   "metadata": {},
   "outputs": [],
   "source": []
  }
 ],
 "metadata": {
  "kernelspec": {
   "display_name": "Python 3 (ipykernel)",
   "language": "python",
   "name": "python3"
  },
  "language_info": {
   "codemirror_mode": {
    "name": "ipython",
    "version": 3
   },
   "file_extension": ".py",
   "mimetype": "text/x-python",
   "name": "python",
   "nbconvert_exporter": "python",
   "pygments_lexer": "ipython3",
   "version": "3.9.7"
  }
 },
 "nbformat": 4,
 "nbformat_minor": 5
}
