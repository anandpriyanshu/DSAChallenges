{
 "cells": [
  {
   "cell_type": "code",
   "execution_count": 7,
   "id": "5f37c00a",
   "metadata": {},
   "outputs": [
    {
     "name": "stdout",
     "output_type": "stream",
     "text": [
      "2\n"
     ]
    }
   ],
   "source": [
    "def BinerySearch(a,target):\n",
    "    \n",
    "    s = 0\n",
    "    e = len(a)-1\n",
    "    \n",
    "    \n",
    "    \n",
    "    while s <=e:\n",
    "#         mid  = s + (e - s)//2\n",
    "        mid = ((s+e)//2)\n",
    "        if a[mid] > target:\n",
    "            e = mid -1\n",
    "        elif a[mid] < target:\n",
    "            s = mid + 1\n",
    "                \n",
    "        else:\n",
    "            return mid\n",
    "    else:\n",
    "        return -1\n",
    "\n",
    "\n",
    "\n",
    "a = [1,5,7,3,6,9]\n",
    "x1 = 7\n",
    "print(BinerySearch(a,x1))"
   ]
  },
  {
   "cell_type": "code",
   "execution_count": null,
   "id": "b75dea95",
   "metadata": {},
   "outputs": [],
   "source": []
  }
 ],
 "metadata": {
  "kernelspec": {
   "display_name": "Python 3 (ipykernel)",
   "language": "python",
   "name": "python3"
  },
  "language_info": {
   "codemirror_mode": {
    "name": "ipython",
    "version": 3
   },
   "file_extension": ".py",
   "mimetype": "text/x-python",
   "name": "python",
   "nbconvert_exporter": "python",
   "pygments_lexer": "ipython3",
   "version": "3.9.7"
  }
 },
 "nbformat": 4,
 "nbformat_minor": 5
}
