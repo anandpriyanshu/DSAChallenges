{
 "cells": [
  {
   "cell_type": "code",
   "execution_count": 1,
   "id": "739b96db",
   "metadata": {},
   "outputs": [],
   "source": [
    "def AverageSumUsingSlidingWindow(a):\n",
    "\n",
    "  currSum =  maxSum = sum(a[:3])\n",
    "\n",
    "  for i in range(k,len(a)):\n",
    "    currSum += a[i] - a[i-k]\n",
    "\n",
    "    maxSum = max(maxSum,currSum)\n",
    "  \n",
    "  return currSum\n",
    "  \n",
    "\n"
   ]
  },
  {
   "cell_type": "code",
   "execution_count": 2,
   "id": "54b5bd61",
   "metadata": {},
   "outputs": [
    {
     "data": {
      "text/plain": [
       "48"
      ]
     },
     "execution_count": 2,
     "metadata": {},
     "output_type": "execute_result"
    }
   ],
   "source": [
    "nums = [1,12,-5,-6,50,3]\n",
    "k = 4\n",
    "AverageSumUsingSlidingWindow(nums)"
   ]
  },
  {
   "cell_type": "code",
   "execution_count": null,
   "id": "c5dbf8be",
   "metadata": {},
   "outputs": [],
   "source": []
  }
 ],
 "metadata": {
  "kernelspec": {
   "display_name": "Python 3",
   "language": "python",
   "name": "python3"
  },
  "language_info": {
   "codemirror_mode": {
    "name": "ipython",
    "version": 3
   },
   "file_extension": ".py",
   "mimetype": "text/x-python",
   "name": "python",
   "nbconvert_exporter": "python",
   "pygments_lexer": "ipython3",
   "version": "3.11.9"
  }
 },
 "nbformat": 4,
 "nbformat_minor": 5
}
