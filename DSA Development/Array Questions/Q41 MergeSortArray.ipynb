{
 "cells": [
  {
   "cell_type": "code",
   "execution_count": 2,
   "metadata": {},
   "outputs": [],
   "source": [
    "def mergeSortedArray(a1,a2,m,n):\n",
    "  midx=m-1\n",
    "  nidx = n-1\n",
    "  last = m+n-1\n",
    "  while(nidx>=0):\n",
    "    if(midx>=0  and  a1[midx]>a2[nidx]):\n",
    "      a1[last]=a1[midx]\n",
    "      midx=-1\n",
    "    else:\n",
    "      a1[last]=a2[nidx]\n",
    "      nidx=-1\n",
    "    last-=1"
   ]
  },
  {
   "cell_type": "code",
   "execution_count": 3,
   "metadata": {},
   "outputs": [],
   "source": [
    "nums1 = [1,2,3,0,0,0]\n",
    "m = 3\n",
    "nums2 = [2,5,6]\n",
    "n = 3\n",
    "mergeSortedArray(nums1,nums2,m,n)\n"
   ]
  }
 ],
 "metadata": {
  "kernelspec": {
   "display_name": "Python 3",
   "language": "python",
   "name": "python3"
  },
  "language_info": {
   "codemirror_mode": {
    "name": "ipython",
    "version": 3
   },
   "file_extension": ".py",
   "mimetype": "text/x-python",
   "name": "python",
   "nbconvert_exporter": "python",
   "pygments_lexer": "ipython3",
   "version": "3.11.9"
  }
 },
 "nbformat": 4,
 "nbformat_minor": 2
}
