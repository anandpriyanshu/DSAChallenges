{
 "cells": [
  {
   "cell_type": "code",
   "execution_count": null,
   "id": "6d44ed21",
   "metadata": {},
   "outputs": [
    {
     "name": "stdout",
     "output_type": "stream",
     "text": [
      "None\n"
     ]
    }
   ],
   "source": [
    "def BestTimeToBuyAndSell(a):\n",
    "  maxProfit = 0\n",
    "  BestBuy = a[0]\n",
    "  for i in range(1,len(a)):\n",
    "    if prices[i] > BestBuy:\n",
    "      maxProfit = max(maxProfit, prices[i] - BestBuy)\n",
    "\n",
    "    \n",
    "    BestBuy = min(prices[i],BestBuy)\n",
    "  \n",
    "  return maxProfit\n",
    "  \n",
    "\n",
    "\n",
    "prices = [7,1,5,3,6,4]\n",
    "print(BestTimeToBuyAndSell(prices))"
   ]
  },
  {
   "cell_type": "code",
   "execution_count": null,
   "id": "920f2d48",
   "metadata": {},
   "outputs": [],
   "source": []
  }
 ],
 "metadata": {
  "kernelspec": {
   "display_name": "Python 3",
   "language": "python",
   "name": "python3"
  },
  "language_info": {
   "codemirror_mode": {
    "name": "ipython",
    "version": 3
   },
   "file_extension": ".py",
   "mimetype": "text/x-python",
   "name": "python",
   "nbconvert_exporter": "python",
   "pygments_lexer": "ipython3",
   "version": "3.11.9"
  }
 },
 "nbformat": 4,
 "nbformat_minor": 5
}
