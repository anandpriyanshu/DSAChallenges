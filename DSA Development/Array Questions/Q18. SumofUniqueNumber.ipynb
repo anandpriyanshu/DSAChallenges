{
 "cells": [
  {
   "cell_type": "code",
   "execution_count": 7,
   "id": "46918b9f",
   "metadata": {},
   "outputs": [
    {
     "data": {
      "text/plain": [
       "21"
      ]
     },
     "execution_count": 7,
     "metadata": {},
     "output_type": "execute_result"
    }
   ],
   "source": [
    "def SumofUniqueNumber(a):\n",
    "    \n",
    "    b = set()\n",
    "    for i in a:\n",
    "        b.add(i)\n",
    "        \n",
    "    sum = 0\n",
    "    \n",
    "    for i in b:\n",
    "        sum+=i\n",
    "        \n",
    "    return sum\n",
    "      \n",
    "    \n",
    "    \n",
    "    \n",
    "a = [1,2,3,3,4,4,4,5,2,1,1,6,6]\n",
    "SumofUniqueNumber(a)"
   ]
  },
  {
   "cell_type": "code",
   "execution_count": null,
   "id": "b5aaee19",
   "metadata": {},
   "outputs": [],
   "source": []
  }
 ],
 "metadata": {
  "kernelspec": {
   "display_name": "Python 3 (ipykernel)",
   "language": "python",
   "name": "python3"
  },
  "language_info": {
   "codemirror_mode": {
    "name": "ipython",
    "version": 3
   },
   "file_extension": ".py",
   "mimetype": "text/x-python",
   "name": "python",
   "nbconvert_exporter": "python",
   "pygments_lexer": "ipython3",
   "version": "3.9.7"
  }
 },
 "nbformat": 4,
 "nbformat_minor": 5
}
