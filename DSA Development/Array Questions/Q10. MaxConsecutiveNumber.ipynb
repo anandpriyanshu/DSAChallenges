{
 "cells": [
  {
   "cell_type": "code",
   "execution_count": 11,
   "id": "10d87b84",
   "metadata": {},
   "outputs": [
    {
     "name": "stdout",
     "output_type": "stream",
     "text": [
      "2\n"
     ]
    }
   ],
   "source": [
    "def MaxConsecutiveNumber(a):\n",
    "    c = 0\n",
    "    ans = 0\n",
    "    for i in range(len(a)):\n",
    "        if a[i] == 1:\n",
    "            c+=1\n",
    "            ans = max(c,ans)\n",
    "        else:\n",
    "            c = 0\n",
    "    return ans\n",
    "a = [1,0,1,1,0,1]\n",
    "ans = MaxConsecutiveNumber(a)\n",
    "print(ans)"
   ]
  },
  {
   "cell_type": "code",
   "execution_count": 3,
   "id": "91eb08a0",
   "metadata": {},
   "outputs": [
    {
     "name": "stdout",
     "output_type": "stream",
     "text": [
      "0 2\n",
      "1 1\n",
      "2 4\n",
      "3 5\n"
     ]
    }
   ],
   "source": [
    "nums = [2,1,4,5]\n",
    "for index, num in enumerate(nums):\n",
    "    print(index,num)"
   ]
  },
  {
   "cell_type": "code",
   "execution_count": null,
   "id": "7f1f8c61",
   "metadata": {},
   "outputs": [],
   "source": []
  }
 ],
 "metadata": {
  "kernelspec": {
   "display_name": "Python 3 (ipykernel)",
   "language": "python",
   "name": "python3"
  },
  "language_info": {
   "codemirror_mode": {
    "name": "ipython",
    "version": 3
   },
   "file_extension": ".py",
   "mimetype": "text/x-python",
   "name": "python",
   "nbconvert_exporter": "python",
   "pygments_lexer": "ipython3",
   "version": "3.11.9"
  }
 },
 "nbformat": 4,
 "nbformat_minor": 5
}
