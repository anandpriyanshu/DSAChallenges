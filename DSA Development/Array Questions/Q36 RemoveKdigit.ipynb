{
 "cells": [
  {
   "cell_type": "code",
   "execution_count": 3,
   "metadata": {},
   "outputs": [
    {
     "data": {
      "text/plain": [
       "'1219'"
      ]
     },
     "execution_count": 3,
     "metadata": {},
     "output_type": "execute_result"
    }
   ],
   "source": [
    "def RemoveKdigit(num,k):\n",
    "    res = [ ]\n",
    "\n",
    "    n = len(num)\n",
    "\n",
    "    if  n == k:\n",
    "        return '0'\n",
    "\n",
    "    for i  in range(n):\n",
    "\n",
    "        while k and res and res[-1] > num[i]:\n",
    "            res.pop()\n",
    "            k-=1\n",
    "        res.append(num[i])\n",
    "\n",
    "    while k:\n",
    "        res.pop()\n",
    "        k-=1\n",
    "\n",
    "    return ''.join(res).lstrip(\"0\") or \"0\"\n",
    "\n",
    "num = \"1432219\"\n",
    "k = 3\n",
    "RemoveKdigit(num,k)       "
   ]
  },
  {
   "cell_type": "code",
   "execution_count": null,
   "metadata": {},
   "outputs": [],
   "source": []
  }
 ],
 "metadata": {
  "kernelspec": {
   "display_name": "Python 3",
   "language": "python",
   "name": "python3"
  },
  "language_info": {
   "codemirror_mode": {
    "name": "ipython",
    "version": 3
   },
   "file_extension": ".py",
   "mimetype": "text/x-python",
   "name": "python",
   "nbconvert_exporter": "python",
   "pygments_lexer": "ipython3",
   "version": "3.11.9"
  }
 },
 "nbformat": 4,
 "nbformat_minor": 2
}
