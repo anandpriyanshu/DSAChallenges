{
 "cells": [
  {
   "cell_type": "code",
   "execution_count": null,
   "metadata": {},
   "outputs": [],
   "source": [
    "def rePlace(s):\n",
    "    data = s.split(\"_\")\n",
    "    print(data)\n",
    "    \n",
    "    for i in range(len(data)):\n",
    "        data[i] = data[i][0].upper() + data[i][1:]\n",
    "        print(data)\n",
    "    \n",
    "    return \" \".join(data)\n",
    "\n",
    "s = \"ui_dev_guide\"\n",
    "x = rePlace(s)\n",
    "print(x)\n"
   ]
  }
 ],
 "metadata": {
  "kernelspec": {
   "display_name": "Python 3",
   "language": "python",
   "name": "python3"
  },
  "language_info": {
   "codemirror_mode": {
    "name": "ipython",
    "version": 3
   },
   "file_extension": ".py",
   "mimetype": "text/x-python",
   "name": "python",
   "nbconvert_exporter": "python",
   "pygments_lexer": "ipython3",
   "version": "3.11.9"
  }
 },
 "nbformat": 4,
 "nbformat_minor": 2
}
