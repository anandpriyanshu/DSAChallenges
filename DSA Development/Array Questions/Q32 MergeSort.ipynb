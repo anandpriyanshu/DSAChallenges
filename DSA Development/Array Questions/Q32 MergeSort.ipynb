{
 "cells": [
  {
   "cell_type": "code",
   "execution_count": 21,
   "id": "2157d886",
   "metadata": {},
   "outputs": [
    {
     "name": "stdout",
     "output_type": "stream",
     "text": [
      "[3, 4, 5, 7, 9, 10, 11]\n"
     ]
    }
   ],
   "source": [
    "def MergeSort(a):\n",
    "    if len(a) == 1:\n",
    "        return\n",
    "    \n",
    "    mid = len(a)//2\n",
    "    a1 = a[0:mid]\n",
    "    a2  = a[mid:]\n",
    "    MergeSort(a1)\n",
    "    MergeSort(a2)\n",
    "    Merge(a,a1,a2)\n",
    "    \n",
    "    \n",
    "def Merge(a,a1,a2):\n",
    "    i,j,k = 0,0,0 \n",
    "    \n",
    "    while i < len(a1) and j < len(a2) :\n",
    "        \n",
    "        if a1[i] < a2[j]:\n",
    "            a[k] = a1[i]\n",
    "            k+=1\n",
    "            i+=1\n",
    "           \n",
    "        else:\n",
    "            a[k] = a2[j]\n",
    "            k+=1\n",
    "            j+=1\n",
    "           \n",
    "            \n",
    "    while i < len(a1):\n",
    "        a[k] = a1[i]\n",
    "        \n",
    "        k+=1\n",
    "        i+=1\n",
    "        \n",
    "    while j < len(a2):\n",
    "        a[k] = a2[j]\n",
    "        \n",
    "      \n",
    "        k+=1\n",
    "        j+=1\n",
    "    \n",
    "        \n",
    "    \n",
    "    \n",
    "    \n",
    "a = [10,5,3,11,7,9,4]\n",
    "MergeSort(a)\n",
    "print(a)"
   ]
  },
  {
   "cell_type": "code",
   "execution_count": 5,
   "id": "bc753f74",
   "metadata": {},
   "outputs": [],
   "source": [
    "def fff(a,val):\n",
    "    b = []\n",
    "    c = 0\n",
    "    for i in range(len(a)):\n",
    "        if a[i] != val:\n",
    "            b.append(a[i])\n",
    "            c+=1\n",
    "        else:\n",
    "            continue\n",
    "    return c"
   ]
  },
  {
   "cell_type": "code",
   "execution_count": 7,
   "id": "601e42c1",
   "metadata": {},
   "outputs": [
    {
     "data": {
      "text/plain": [
       "7"
      ]
     },
     "execution_count": 7,
     "metadata": {},
     "output_type": "execute_result"
    }
   ],
   "source": [
    "a = [0,1,2,2,3,0,4,2]\n",
    "val = 3\n",
    "fff(a,val)"
   ]
  },
  {
   "cell_type": "code",
   "execution_count": null,
   "id": "5fd5d9fa",
   "metadata": {},
   "outputs": [],
   "source": []
  },
  {
   "cell_type": "code",
   "execution_count": null,
   "id": "d5b631dd",
   "metadata": {},
   "outputs": [],
   "source": [
    "def removeElement(nums, val):\n",
    "    index = 0\n",
    "    for i in range(len(nums)):  # Iterate through the list's indices\n",
    "        if nums[i] != val:\n",
    "            nums[index] = nums[i]  # Copy element if it's not the value to remove\n",
    "            index += 1\n",
    "    return index"
   ]
  }
 ],
 "metadata": {
  "kernelspec": {
   "display_name": "Python 3 (ipykernel)",
   "language": "python",
   "name": "python3"
  },
  "language_info": {
   "codemirror_mode": {
    "name": "ipython",
    "version": 3
   },
   "file_extension": ".py",
   "mimetype": "text/x-python",
   "name": "python",
   "nbconvert_exporter": "python",
   "pygments_lexer": "ipython3",
   "version": "3.11.9"
  }
 },
 "nbformat": 4,
 "nbformat_minor": 5
}
