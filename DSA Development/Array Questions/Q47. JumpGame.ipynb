{
 "cells": [
  {
   "cell_type": "code",
   "execution_count": 8,
   "id": "6e0af4e9",
   "metadata": {},
   "outputs": [
    {
     "name": "stdout",
     "output_type": "stream",
     "text": [
      "True\n"
     ]
    }
   ],
   "source": [
    "def jumpGame(a):\n",
    "\n",
    "  maxIdx = 0\n",
    "  for i in range(len(a)):\n",
    "    if i>maxIdx: return False\n",
    "    maxIdx = max(maxIdx,i+a[i])\n",
    "  return True\n",
    "\n",
    "\n",
    "\n",
    "\n",
    "\n",
    "# nums = [3,2,1,0,4]\n",
    "nums = [2,3,1,1,4]\n",
    "print(jumpGame(nums))"
   ]
  },
  {
   "cell_type": "code",
   "execution_count": null,
   "id": "f22be4a9",
   "metadata": {},
   "outputs": [],
   "source": []
  },
  {
   "cell_type": "code",
   "execution_count": null,
   "id": "2c56b931",
   "metadata": {},
   "outputs": [],
   "source": []
  }
 ],
 "metadata": {
  "kernelspec": {
   "display_name": "Python 3",
   "language": "python",
   "name": "python3"
  },
  "language_info": {
   "codemirror_mode": {
    "name": "ipython",
    "version": 3
   },
   "file_extension": ".py",
   "mimetype": "text/x-python",
   "name": "python",
   "nbconvert_exporter": "python",
   "pygments_lexer": "ipython3",
   "version": "3.11.9"
  }
 },
 "nbformat": 4,
 "nbformat_minor": 5
}
