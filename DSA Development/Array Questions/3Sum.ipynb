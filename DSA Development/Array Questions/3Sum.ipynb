{
 "cells": [
  {
   "cell_type": "code",
   "execution_count": 1,
   "metadata": {},
   "outputs": [],
   "source": [
    "def threeSum(nums):\n",
    "    res = set()\n",
    "    if len(nums) == 0:\n",
    "        return list(res)\n",
    "    nums.sort()\n",
    "    for i in range(len(nums) - 2):\n",
    "        j = i + 1\n",
    "        k = len(nums) - 1\n",
    "        while j < k:\n",
    "            sum_val = nums[i] + nums[j] + nums[k]\n",
    "            if sum_val == 0:\n",
    "                res.add((nums[i], nums[j], nums[k]))\n",
    "                j += 1\n",
    "                k -= 1\n",
    "            elif sum_val > 0:\n",
    "                k -= 1\n",
    "            else:\n",
    "                j += 1\n",
    "    return list(res)\n"
   ]
  },
  {
   "cell_type": "code",
   "execution_count": 2,
   "metadata": {},
   "outputs": [
    {
     "data": {
      "text/plain": [
       "[(-1, 0, 1), (-1, -1, 2)]"
      ]
     },
     "execution_count": 2,
     "metadata": {},
     "output_type": "execute_result"
    }
   ],
   "source": [
    "nums = [-1,0,1,2,-1,-4]\n",
    "threeSum(nums)"
   ]
  },
  {
   "cell_type": "code",
   "execution_count": null,
   "metadata": {},
   "outputs": [],
   "source": []
  }
 ],
 "metadata": {
  "kernelspec": {
   "display_name": "Python 3",
   "language": "python",
   "name": "python3"
  },
  "language_info": {
   "codemirror_mode": {
    "name": "ipython",
    "version": 3
   },
   "file_extension": ".py",
   "mimetype": "text/x-python",
   "name": "python",
   "nbconvert_exporter": "python",
   "pygments_lexer": "ipython3",
   "version": "3.11.9"
  }
 },
 "nbformat": 4,
 "nbformat_minor": 2
}
