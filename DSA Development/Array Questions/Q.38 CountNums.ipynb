{
 "cells": [
  {
   "cell_type": "code",
   "execution_count": null,
   "metadata": {},
   "outputs": [],
   "source": [
    "def CountNums(arr):\n",
    "    d= {}\n",
    "    for i in arr:\n",
    "        if i  in d:\n",
    "            d[i] = d[i] + 1\n",
    "        else:\n",
    "            d[i]=1\n",
    "\n",
    "    return d\n",
    "\n",
    "\n",
    "arr = [5, 5, 5, 2, 3, 4, 2, 2, 3, 3, 4]\n",
    "print(CountNums(arr))"
   ]
  }
 ],
 "metadata": {
  "language_info": {
   "name": "python"
  }
 },
 "nbformat": 4,
 "nbformat_minor": 2
}
