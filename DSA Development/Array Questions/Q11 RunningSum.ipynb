{
 "cells": [
  {
   "cell_type": "code",
   "execution_count": 4,
   "id": "7295a195",
   "metadata": {},
   "outputs": [
    {
     "name": "stdout",
     "output_type": "stream",
     "text": [
      "[2, 6, 7, 12, 18]\n"
     ]
    }
   ],
   "source": [
    "def runningsum(a):\n",
    "    li = []\n",
    "    i = 0\n",
    "    sum = 0\n",
    "    while i<len(a):\n",
    "        sum+=a[i]\n",
    "        li.append(sum)\n",
    "        i+=1\n",
    "    return li\n",
    "\n",
    "a = [2,4,1,5,6]\n",
    "ans = runningsum(a)\n",
    "print(ans)"
   ]
  },
  {
   "cell_type": "code",
   "execution_count": 5,
   "id": "30b98db7",
   "metadata": {},
   "outputs": [
    {
     "name": "stdout",
     "output_type": "stream",
     "text": [
      "[1, 3, 6, 10, 15]\n"
     ]
    }
   ],
   "source": [
    "        \n",
    "a = [1,2,3,4,5]\n",
    "ans = runningsum(a)\n",
    "print(ans)"
   ]
  },
  {
   "cell_type": "code",
   "execution_count": 6,
   "id": "4f6a8acf",
   "metadata": {},
   "outputs": [
    {
     "name": "stdout",
     "output_type": "stream",
     "text": [
      "[1, 3, 6, 10, 15]\n"
     ]
    }
   ],
   "source": [
    "def runningsum(a):\n",
    "    result = []\n",
    "    total = 0\n",
    "    for i in range(len(a)):\n",
    "        total += a[i]\n",
    "        result.append(total)\n",
    "    return result\n",
    "        \n",
    "a = [1,2,3,4,5]\n",
    "ans = runningsum(a)\n",
    "print(ans)"
   ]
  },
  {
   "cell_type": "code",
   "execution_count": null,
   "id": "4f8938ea",
   "metadata": {},
   "outputs": [],
   "source": []
  }
 ],
 "metadata": {
  "kernelspec": {
   "display_name": "Python 3 (ipykernel)",
   "language": "python",
   "name": "python3"
  },
  "language_info": {
   "codemirror_mode": {
    "name": "ipython",
    "version": 3
   },
   "file_extension": ".py",
   "mimetype": "text/x-python",
   "name": "python",
   "nbconvert_exporter": "python",
   "pygments_lexer": "ipython3",
   "version": "3.11.9"
  }
 },
 "nbformat": 4,
 "nbformat_minor": 5
}
