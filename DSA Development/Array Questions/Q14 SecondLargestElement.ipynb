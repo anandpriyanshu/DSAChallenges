{
 "cells": [
  {
   "cell_type": "code",
   "execution_count": 2,
   "id": "3c74ba4d",
   "metadata": {},
   "outputs": [
    {
     "data": {
      "text/plain": [
       "7"
      ]
     },
     "execution_count": 2,
     "metadata": {},
     "output_type": "execute_result"
    }
   ],
   "source": [
    "def SecondLargestElement(a):\n",
    "    \n",
    "    l,s = 0,0\n",
    "    for i in range(len(a)):\n",
    "        if(a[i] > l):\n",
    "            s = l\n",
    "            l = a[i]\n",
    "        else:\n",
    "            if  a[i] > s  and a[i] != l:\n",
    "                s = a[i]\n",
    "    return s\n",
    "    \n",
    "    \n",
    "a = [0, 7, 1, 9, 4, 5]\n",
    "SecondLargestElement(a)"
   ]
  },
  {
   "cell_type": "code",
   "execution_count": null,
   "id": "9f1e0072",
   "metadata": {},
   "outputs": [],
   "source": []
  }
 ],
 "metadata": {
  "kernelspec": {
   "display_name": "Python 3 (ipykernel)",
   "language": "python",
   "name": "python3"
  },
  "language_info": {
   "codemirror_mode": {
    "name": "ipython",
    "version": 3
   },
   "file_extension": ".py",
   "mimetype": "text/x-python",
   "name": "python",
   "nbconvert_exporter": "python",
   "pygments_lexer": "ipython3",
   "version": "3.9.7"
  }
 },
 "nbformat": 4,
 "nbformat_minor": 5
}
