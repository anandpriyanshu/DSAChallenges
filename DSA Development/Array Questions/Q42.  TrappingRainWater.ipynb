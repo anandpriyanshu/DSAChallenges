{
 "cells": [
  {
   "cell_type": "code",
   "execution_count": 3,
   "metadata": {},
   "outputs": [
    {
     "name": "stdout",
     "output_type": "stream",
     "text": [
      "6\n"
     ]
    }
   ],
   "source": [
    "def TrappingRainWater(height):\n",
    "  left = 0\n",
    "  right = len(height)-1\n",
    "  l_max = height[left]\n",
    "  r_max=  height[right]\n",
    "  water = 0\n",
    "  while(left<right):\n",
    "    if(l_max<r_max):\n",
    "      left+=1\n",
    "      l_max = max(l_max,height[left])\n",
    "      water += l_max - height[left]\n",
    "    else:\n",
    "      right-=1\n",
    "      r_max = max(r_max,height[right])\n",
    "      water += r_max - height[right]\n",
    "  return water\n",
    "\n",
    "\n",
    "\n",
    "height = [0,1,0,2,1,0,1,3,2,1,2,1]\n",
    "print(TrappingRainWater(height))"
   ]
  },
  {
   "cell_type": "code",
   "execution_count": null,
   "metadata": {},
   "outputs": [],
   "source": []
  }
 ],
 "metadata": {
  "kernelspec": {
   "display_name": "Python 3",
   "language": "python",
   "name": "python3"
  },
  "language_info": {
   "codemirror_mode": {
    "name": "ipython",
    "version": 3
   },
   "file_extension": ".py",
   "mimetype": "text/x-python",
   "name": "python",
   "nbconvert_exporter": "python",
   "pygments_lexer": "ipython3",
   "version": "3.11.9"
  }
 },
 "nbformat": 4,
 "nbformat_minor": 2
}
