{
 "cells": [
  {
   "cell_type": "code",
   "execution_count": 3,
   "metadata": {},
   "outputs": [],
   "source": [
    "# contain max water\n",
    "\n",
    "def maxArea(height):\n",
    "\n",
    "  s = 0\n",
    "  e = len(height)-1\n",
    "  MAXAREA = 0\n",
    "  while s<=e:\n",
    "    if(height[e]>height[s]):\n",
    "      area = height[s]*(e-s)\n",
    "      s+=1\n",
    "    else:\n",
    "      area = height[e]*(e-s)\n",
    "      e-=1\n",
    "\n",
    "    MAXAREA = max(MAXAREA,area) \n",
    "  return MAXAREA \n"
   ]
  },
  {
   "cell_type": "code",
   "execution_count": 5,
   "metadata": {},
   "outputs": [
    {
     "data": {
      "text/plain": [
       "49"
      ]
     },
     "execution_count": 5,
     "metadata": {},
     "output_type": "execute_result"
    }
   ],
   "source": [
    "height=[1,8,6,2,5,4,8,3,7]\n",
    "maxArea(height)"
   ]
  },
  {
   "cell_type": "code",
   "execution_count": null,
   "metadata": {},
   "outputs": [],
   "source": []
  }
 ],
 "metadata": {
  "kernelspec": {
   "display_name": "Python 3",
   "language": "python",
   "name": "python3"
  },
  "language_info": {
   "codemirror_mode": {
    "name": "ipython",
    "version": 3
   },
   "file_extension": ".py",
   "mimetype": "text/x-python",
   "name": "python",
   "nbconvert_exporter": "python",
   "pygments_lexer": "ipython3",
   "version": "3.11.9"
  }
 },
 "nbformat": 4,
 "nbformat_minor": 2
}
