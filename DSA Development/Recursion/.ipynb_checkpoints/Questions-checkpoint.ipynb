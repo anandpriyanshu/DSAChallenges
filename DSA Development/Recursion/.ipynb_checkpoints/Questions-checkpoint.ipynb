{
 "cells": [
  {
   "cell_type": "code",
   "execution_count": 7,
   "id": "cabc8431",
   "metadata": {},
   "outputs": [
    {
     "data": {
      "text/plain": [
       "8"
      ]
     },
     "execution_count": 7,
     "metadata": {},
     "output_type": "execute_result"
    }
   ],
   "source": [
    "def fib(n):\n",
    "    \n",
    "    if n == 1 or n == 2:\n",
    "        return 1\n",
    "    \n",
    "    return fib(n-1) + fib(n-2)\n",
    "fib(6)"
   ]
  },
  {
   "cell_type": "code",
   "execution_count": 3,
   "id": "9ad10c67",
   "metadata": {},
   "outputs": [],
   "source": [
    "def fact(n):\n",
    "    \n",
    "    if n == 0:\n",
    "        return 1\n",
    "    ans = fact(n-1)\n",
    "    return n * ans"
   ]
  },
  {
   "cell_type": "code",
   "execution_count": 5,
   "id": "5548e4e7",
   "metadata": {},
   "outputs": [
    {
     "name": "stdout",
     "output_type": "stream",
     "text": [
      "5\n"
     ]
    },
    {
     "data": {
      "text/plain": [
       "120"
      ]
     },
     "execution_count": 5,
     "metadata": {},
     "output_type": "execute_result"
    }
   ],
   "source": [
    "n = int(input())\n",
    "fact(n)"
   ]
  },
  {
   "cell_type": "code",
   "execution_count": 16,
   "id": "fb5e74df",
   "metadata": {},
   "outputs": [
    {
     "data": {
      "text/plain": [
       "True"
      ]
     },
     "execution_count": 16,
     "metadata": {},
     "output_type": "execute_result"
    }
   ],
   "source": [
    "def isSortedList(a):\n",
    "    if len(a) == 0 or len(a) == 1:\n",
    "        return True\n",
    "    if a[0] > a[1]:\n",
    "        return  False\n",
    "    smalllist = a[1::]\n",
    "    issmallsortedList = isSortedList(smalllist)\n",
    "    if issmallsortedList:\n",
    "        return True\n",
    "    else:\n",
    "        return False\n",
    "    \n",
    "    \n",
    "a = [1,2,3,4,5,6,7,8,9]\n",
    "isSortedList(a)"
   ]
  },
  {
   "cell_type": "code",
   "execution_count": 1,
   "id": "02ab865b",
   "metadata": {},
   "outputs": [],
   "source": [
    "def power(n,m):\n",
    "    if m == 0:\n",
    "        return 1\n",
    "    if m == 1:\n",
    "        return n\n",
    "    ans =n*power(n,m-1)\n",
    "    \n",
    "    return ans "
   ]
  },
  {
   "cell_type": "code",
   "execution_count": null,
   "id": "a3c08c11",
   "metadata": {},
   "outputs": [
    {
     "name": "stdout",
     "output_type": "stream",
     "text": [
      "2\n",
      "-2\n"
     ]
    }
   ],
   "source": [
    "n = float(input())\n",
    "m = float(input())\n",
    "power(n,m)"
   ]
  },
  {
   "cell_type": "code",
   "execution_count": 3,
   "id": "d3138842",
   "metadata": {},
   "outputs": [
    {
     "data": {
      "text/plain": [
       "32.0"
      ]
     },
     "execution_count": 3,
     "metadata": {},
     "output_type": "execute_result"
    }
   ],
   "source": [
    "(2.00000)**5"
   ]
  },
  {
   "cell_type": "code",
   "execution_count": 2,
   "id": "edeaec95",
   "metadata": {},
   "outputs": [
    {
     "data": {
      "text/plain": [
       "21"
      ]
     },
     "execution_count": 2,
     "metadata": {},
     "output_type": "execute_result"
    }
   ],
   "source": [
    "def sumOfArray(a):\n",
    "    \n",
    "    l = len(a)\n",
    "    sum = 0\n",
    "    if l == 0:\n",
    "        return sum\n",
    "    ans = sumOfArray(a[1::])\n",
    "    return a[0] + ans\n",
    "    \n",
    "    \n",
    "    \n",
    "    \n",
    "a = [1,2,3,4,5,6]\n",
    "sumOfArray(a)"
   ]
  },
  {
   "cell_type": "code",
   "execution_count": 26,
   "id": "041f4acb",
   "metadata": {},
   "outputs": [
    {
     "data": {
      "text/plain": [
       "False"
      ]
     },
     "execution_count": 26,
     "metadata": {},
     "output_type": "execute_result"
    }
   ],
   "source": [
    "def checNumberinArr(a,x):\n",
    "    \n",
    "    if len(a) == 0:\n",
    "        return False\n",
    "    if a[0]  == x:\n",
    "        return True\n",
    "    \n",
    "   \n",
    "    b = a[1:]\n",
    "    ans = checNumberinArr(b,x)\n",
    "    \n",
    "    if ans:\n",
    "        return True\n",
    "    else:\n",
    "        return False\n",
    "    \n",
    "a =[ 1,2,3,4,5,6,7]\n",
    "x = 8\n",
    "checNumberinArr(a,x)\n"
   ]
  },
  {
   "cell_type": "code",
   "execution_count": 31,
   "id": "b7c436d2",
   "metadata": {},
   "outputs": [
    {
     "name": "stdout",
     "output_type": "stream",
     "text": [
      "3\n"
     ]
    }
   ],
   "source": [
    "def firstIdx(a,x ,si):\n",
    "    if si == len(a):\n",
    "        return -1\n",
    "    \n",
    "    if a[si] == x:\n",
    "        return si\n",
    "    \n",
    "    ans = firstIdx(a,x,si+1)\n",
    "    return ans\n",
    "    \n",
    "a = [1,2,3,4,5,6,7,8,9,7]\n",
    "x =4 \n",
    "ans = firstIdx(a,x,0)\n",
    "print(ans)"
   ]
  },
  {
   "cell_type": "code",
   "execution_count": 1,
   "id": "4316cb38",
   "metadata": {},
   "outputs": [
    {
     "data": {
      "text/plain": [
       "'ddcz'"
      ]
     },
     "execution_count": 1,
     "metadata": {},
     "output_type": "execute_result"
    }
   ],
   "source": [
    "def replace(s,a,b):\n",
    "    \n",
    "    if len(s) == 0:\n",
    "        return s\n",
    "    ans = replace(s[1:],a,b)\n",
    "    \n",
    "    if s[0] == b:\n",
    "        return b + ans\n",
    "    \n",
    "    else:\n",
    "        return s[0] + ans\n",
    "    \n",
    "    \n",
    "replace(\"ddcz\",\"c\",\"x\")"
   ]
  },
  {
   "cell_type": "code",
   "execution_count": 15,
   "id": "aecce070",
   "metadata": {},
   "outputs": [
    {
     "data": {
      "text/plain": [
       "'asae'"
      ]
     },
     "execution_count": 15,
     "metadata": {},
     "output_type": "execute_result"
    }
   ],
   "source": [
    "def removeChar(s,a):\n",
    "    \n",
    "    \n",
    "    if len(s) == 0:\n",
    "        return s\n",
    "    \n",
    "    ans = removeChar(s[1::],a)\n",
    "    \n",
    "    if s[0] == a:\n",
    "        return \"\" + ans\n",
    "    else:\n",
    "        return s[0] + ans\n",
    "    \n",
    "    \n",
    "s = \"asxaexx\"\n",
    "removeChar(s,\"x\")"
   ]
  },
  {
   "cell_type": "code",
   "execution_count": 13,
   "id": "4b266ae5",
   "metadata": {},
   "outputs": [
    {
     "data": {
      "text/plain": [
       "6"
      ]
     },
     "execution_count": 13,
     "metadata": {},
     "output_type": "execute_result"
    }
   ],
   "source": [
    "def BSA(a,x,si,ei):\n",
    "    \n",
    "    if si>ei:\n",
    "        return -1\n",
    "    \n",
    "    mid = (si + ei )//2\n",
    "    \n",
    "    if a[mid]==x:\n",
    "        return mid\n",
    "        \n",
    "    \n",
    "    elif a[mid] > x:\n",
    "        return BSA(a,x,si,mid-1)\n",
    "    else: \n",
    "        return BSA(a,x,mid+1,ei)\n",
    "    \n",
    "    \n",
    "    \n",
    "a = [1,3,5,7,8,9,10]\n",
    "BSA(a,10,0,6)\n"
   ]
  },
  {
   "cell_type": "code",
   "execution_count": 14,
   "id": "5aaedf1c",
   "metadata": {},
   "outputs": [
    {
     "name": "stdout",
     "output_type": "stream",
     "text": [
      "123\n",
      "6\n"
     ]
    }
   ],
   "source": [
    "def Sum(n):\n",
    "    \n",
    "    if n == 0:\n",
    "        return 0 \n",
    "    return n%10 + Sum(n//10)\n",
    "    \n",
    "n = int(input())\n",
    "print(Sum(n))"
   ]
  },
  {
   "cell_type": "code",
   "execution_count": 17,
   "id": "36a1e060",
   "metadata": {},
   "outputs": [
    {
     "name": "stdout",
     "output_type": "stream",
     "text": [
      "123456789\n",
      "45\n"
     ]
    }
   ],
   "source": [
    "def Sum(n):\n",
    "    s = 0\n",
    "    while n > 0:\n",
    "        d = n % 10\n",
    "        s += d\n",
    "        \n",
    "        n = n//10\n",
    "    return s\n",
    "        \n",
    "    \n",
    "\n",
    "n = int(input())\n",
    "print(Sum(n))"
   ]
  },
  {
   "cell_type": "code",
   "execution_count": 1,
   "id": "9a3365b3",
   "metadata": {},
   "outputs": [
    {
     "data": {
      "text/plain": [
       "45"
      ]
     },
     "execution_count": 1,
     "metadata": {},
     "output_type": "execute_result"
    }
   ],
   "source": [
    "def AddOfNRecursive(n):\n",
    "    if  n == 0:\n",
    "        return 0\n",
    "    \n",
    "    return n + AddOfNRecursive(n-1)\n",
    "\n",
    "n = 9\n",
    "AddOfNRecursive(n)"
   ]
  },
  {
   "cell_type": "code",
   "execution_count": 27,
   "id": "f2277dbb",
   "metadata": {},
   "outputs": [
    {
     "name": "stdout",
     "output_type": "stream",
     "text": [
      "123\n",
      "No\n"
     ]
    }
   ],
   "source": [
    "def Palindrome(s,si,ei):\n",
    "    if l == 0  or l ==1:\n",
    "        return True\n",
    "    \n",
    "    if s[si] != s[ei]:\n",
    "        return False\n",
    "    elif si< ei:\n",
    "        return Palindrome(s,si+1,ei-1)\n",
    "    return True\n",
    "    \n",
    "s = input()\n",
    "l = len(s)\n",
    "si = 0\n",
    "ei = l-1\n",
    "if Palindrome(s,si,ei):\n",
    "    print(\"Yes\")\n",
    "else:\n",
    "    print(\"No\")\n",
    "    \n",
    "    \n",
    "    "
   ]
  },
  {
   "cell_type": "code",
   "execution_count": 4,
   "id": "79d8bc98",
   "metadata": {},
   "outputs": [
    {
     "name": "stdout",
     "output_type": "stream",
     "text": [
      "5\n",
      "4\n",
      "20\n"
     ]
    }
   ],
   "source": [
    "def multiplication(m,n):\n",
    "    \n",
    "    if  n == 0:\n",
    "        return  0\n",
    "    return m * (n-1) + m\n",
    "    \n",
    "    \n",
    "m = int(input())\n",
    "n = int(input())\n",
    "print(multiplication(m,n))"
   ]
  },
  {
   "cell_type": "code",
   "execution_count": 7,
   "id": "7e9348c2",
   "metadata": {},
   "outputs": [
    {
     "name": "stdout",
     "output_type": "stream",
     "text": [
      "1000000033\n",
      "7\n"
     ]
    }
   ],
   "source": [
    "def countzero(n):\n",
    "    c = 0\n",
    "    while n > 0:\n",
    "        \n",
    "        if n % 10 == 0:\n",
    "            c += 1\n",
    "            \n",
    "        n = n //10\n",
    "    return c\n",
    "\n",
    "n =int(input())\n",
    "print(countzero(n))"
   ]
  },
  {
   "cell_type": "code",
   "execution_count": 9,
   "id": "d21ce662",
   "metadata": {},
   "outputs": [
    {
     "data": {
      "text/plain": [
       "1245"
      ]
     },
     "execution_count": 9,
     "metadata": {},
     "output_type": "execute_result"
    }
   ],
   "source": [
    "def String2Integar(s):\n",
    "    \n",
    "    if len(s) == 0:\n",
    "        return 0\n",
    "    smallString = String2Integar(s[:len(s)-1])\n",
    "    lastElement = int(s[len(s)-1])\n",
    "    \n",
    "    return smallString * 10 + lastElement\n",
    "    \n",
    "String2Integar('1245')"
   ]
  },
  {
   "cell_type": "code",
   "execution_count": null,
   "id": "16a35d59",
   "metadata": {},
   "outputs": [],
   "source": []
  }
 ],
 "metadata": {
  "kernelspec": {
   "display_name": "Python 3 (ipykernel)",
   "language": "python",
   "name": "python3"
  },
  "language_info": {
   "codemirror_mode": {
    "name": "ipython",
    "version": 3
   },
   "file_extension": ".py",
   "mimetype": "text/x-python",
   "name": "python",
   "nbconvert_exporter": "python",
   "pygments_lexer": "ipython3",
   "version": "3.9.7"
  }
 },
 "nbformat": 4,
 "nbformat_minor": 5
}
