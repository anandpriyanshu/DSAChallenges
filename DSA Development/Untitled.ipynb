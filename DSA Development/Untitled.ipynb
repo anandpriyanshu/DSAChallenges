{
 "cells": [
  {
   "cell_type": "code",
   "execution_count": 1,
   "id": "255fca21",
   "metadata": {},
   "outputs": [
    {
     "data": {
      "text/plain": [
       "[50, 40, 30, 20, 10]"
      ]
     },
     "execution_count": 1,
     "metadata": {},
     "output_type": "execute_result"
    }
   ],
   "source": [
    "def Reverse(a):\n",
    "    \n",
    "    for i in range(len(a)//2):\n",
    "        a[i],a[len(a)-i-1] = a[len(a)-i-1],a[i]\n",
    "    return a\n",
    "    \n",
    "    \n",
    "    \n",
    "a = [10,20,30,40,50]\n",
    "Reverse(a)"
   ]
  },
  {
   "cell_type": "code",
   "execution_count": 10,
   "id": "af564f23",
   "metadata": {},
   "outputs": [
    {
     "name": "stdout",
     "output_type": "stream",
     "text": [
      "20\n",
      "30\n",
      "40\n",
      "50\n"
     ]
    }
   ],
   "source": [
    "a = [10,20,30,40,50]\n",
    "for i in range(1,len(a)):\n",
    "    print(a[i])"
   ]
  },
  {
   "cell_type": "code",
   "execution_count": 16,
   "id": "0e26d402",
   "metadata": {},
   "outputs": [
    {
     "data": {
      "text/plain": [
       "3"
      ]
     },
     "execution_count": 16,
     "metadata": {},
     "output_type": "execute_result"
    }
   ],
   "source": [
    "\n",
    "def removeDuplicates(nums):\n",
    "    if not nums:\n",
    "        return 0\n",
    "    \n",
    "    k = 1  # Start with 1 since the first element is always unique\n",
    "    \n",
    "    for i in range(1, len(nums)):\n",
    "        if nums[i] != nums[i - 1]:\n",
    "            nums[k] = nums[i]\n",
    "            k += 1\n",
    "    \n",
    "    return k\n",
    "\n",
    "\n",
    "nums = [1,1,2,2,3,3 ]\n",
    "removeDuplicates(nums)"
   ]
  },
  {
   "cell_type": "code",
   "execution_count": 13,
   "id": "eeb429c3",
   "metadata": {},
   "outputs": [
    {
     "data": {
      "text/plain": [
       "4"
      ]
     },
     "execution_count": 13,
     "metadata": {},
     "output_type": "execute_result"
    }
   ],
   "source": [
    "def ans(a,k):\n",
    "    \n",
    "    a.sort()\n",
    "    return a[-k]\n",
    "a = [3,2,3,1,2,4,5,5,6]\n",
    "k = 2\n",
    "ans(a,4)"
   ]
  },
  {
   "cell_type": "code",
   "execution_count": 4,
   "id": "6c47df43",
   "metadata": {},
   "outputs": [],
   "source": [
    "c =  [3,2,1,5,6,4]"
   ]
  },
  {
   "cell_type": "code",
   "execution_count": 10,
   "id": "13ca6a4d",
   "metadata": {},
   "outputs": [
    {
     "name": "stdout",
     "output_type": "stream",
     "text": [
      "[1, 3, 4, 5, 7, 9]\n"
     ]
    }
   ],
   "source": [
    "c = [3, 7, 1, 9, 4, 5]\n",
    "c.sort()\n",
    "print(c)"
   ]
  },
  {
   "cell_type": "code",
   "execution_count": 4,
   "id": "356ad612",
   "metadata": {},
   "outputs": [
    {
     "data": {
      "text/plain": [
       "[1, 3, 4, 4, 7, 9, 11, 11, 13]"
      ]
     },
     "execution_count": 4,
     "metadata": {},
     "output_type": "execute_result"
    }
   ],
   "source": [
    "def mergetwoarray(a1,a2):\n",
    "    \n",
    "    i,j = 0,0\n",
    "    k = 0\n",
    "    while i < len(a1) and j < len(a2):\n",
    "        if a1[i] < a2[j]:\n",
    "            a[k] = a1[i]\n",
    "            i+=1\n",
    "            k+=1\n",
    "            \n",
    "        else:\n",
    "            a1[k] = a2[j]\n",
    "            j+=1\n",
    "            k+=1\n",
    "    while i < len(a1):\n",
    "        ans.append(a1[i])\n",
    "        i+=1\n",
    "        k+=1\n",
    "    while j < len(a2):\n",
    "        ans.append(a2[j])\n",
    "        j+=1\n",
    "        k+=1\n",
    "        \n",
    "    return ans\n",
    "    \n",
    "a1 = [1,3,4,7,11]\n",
    "a2 = [4,9,11,13]\n",
    "mergetwoarray(a1,a2)"
   ]
  },
  {
   "cell_type": "code",
   "execution_count": 9,
   "id": "2afd5e22",
   "metadata": {},
   "outputs": [
    {
     "data": {
      "text/plain": [
       "'bcba'"
      ]
     },
     "execution_count": 9,
     "metadata": {},
     "output_type": "execute_result"
    }
   ],
   "source": [
    "def removeConsecutiveDuplicates(a):\n",
    "    \n",
    "    new  = ''\n",
    "    for i in range(1,len(a)):\n",
    "        \n",
    "        if (a[i] ==  a[i-1]):\n",
    "            continue\n",
    "        new += a[i]\n",
    "        \n",
    "    return new\n",
    "    \n",
    "    \n",
    "removeConsecutiveDuplicates('aabccbaa')"
   ]
  },
  {
   "cell_type": "code",
   "execution_count": 1,
   "id": "ad72b4b4",
   "metadata": {},
   "outputs": [],
   "source": [
    "def remove(a):\n",
    "    k = 0\n",
    "    i = 1\n",
    "    new = \" \"\n",
    "    while i <len(a):\n",
    "        \n",
    "        if a[k] != a[i]:\n",
    "            new += a[i]\n",
    "            i+=1\n",
    "        else:\n",
    "            continue\n",
    "            k+=1\n",
    "            \n",
    "    return new"
   ]
  },
  {
   "cell_type": "code",
   "execution_count": null,
   "id": "e943e71a",
   "metadata": {},
   "outputs": [],
   "source": [
    "a = \"bcabc\"\n",
    "remove(a)"
   ]
  },
  {
   "cell_type": "code",
   "execution_count": 2,
   "id": "fef39852",
   "metadata": {},
   "outputs": [
    {
     "data": {
      "text/plain": [
       "3"
      ]
     },
     "execution_count": 2,
     "metadata": {},
     "output_type": "execute_result"
    }
   ],
   "source": [
    "n1 = [1,3]\n",
    "n2 = [2]\n",
    "len(n1+n2)"
   ]
  },
  {
   "cell_type": "code",
   "execution_count": 2,
   "id": "628dd6b8",
   "metadata": {},
   "outputs": [
    {
     "data": {
      "text/plain": [
       "[1, 2, 4, 3, 0, 0]"
      ]
     },
     "execution_count": 2,
     "metadata": {},
     "output_type": "execute_result"
    }
   ],
   "source": [
    "def push0(a):\n",
    "\n",
    "    k = 0\n",
    "    for i in range(len(a)):\n",
    "        if a[i] != 0:\n",
    "            a[k], a[i] = a[i] , a[k]\n",
    "            k+=1\n",
    "    return a\n",
    "\n",
    "a = [0,0,1,2,4,3]\n",
    "push0(a)\n"
   ]
  },
  {
   "cell_type": "code",
   "execution_count": 3,
   "id": "3df60fdd",
   "metadata": {},
   "outputs": [
    {
     "data": {
      "text/plain": [
       "12"
      ]
     },
     "execution_count": 3,
     "metadata": {},
     "output_type": "execute_result"
    }
   ],
   "source": [
    "123//10"
   ]
  },
  {
   "cell_type": "code",
   "execution_count": 4,
   "id": "75c2756d",
   "metadata": {},
   "outputs": [
    {
     "data": {
      "text/plain": [
       "0"
      ]
     },
     "execution_count": 4,
     "metadata": {},
     "output_type": "execute_result"
    }
   ],
   "source": [
    "0//10"
   ]
  },
  {
   "cell_type": "code",
   "execution_count": null,
   "id": "9172706a",
   "metadata": {},
   "outputs": [],
   "source": []
  }
 ],
 "metadata": {
  "kernelspec": {
   "display_name": "Python 3 (ipykernel)",
   "language": "python",
   "name": "python3"
  },
  "language_info": {
   "codemirror_mode": {
    "name": "ipython",
    "version": 3
   },
   "file_extension": ".py",
   "mimetype": "text/x-python",
   "name": "python",
   "nbconvert_exporter": "python",
   "pygments_lexer": "ipython3",
   "version": "3.11.9"
  }
 },
 "nbformat": 4,
 "nbformat_minor": 5
}
