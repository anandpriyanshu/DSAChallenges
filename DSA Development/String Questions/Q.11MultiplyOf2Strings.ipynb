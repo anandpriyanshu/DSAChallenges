{
 "cells": [
  {
   "cell_type": "code",
   "execution_count": 9,
   "metadata": {},
   "outputs": [
    {
     "data": {
      "text/plain": [
       "'56088'"
      ]
     },
     "execution_count": 9,
     "metadata": {},
     "output_type": "execute_result"
    }
   ],
   "source": [
    "def MultiplyOf2Strings(s1,s2):\n",
    "    num = {'0':0, '1':1, '2':2, '3':3, '4':4, '5':5, '6':6, '7':7, '8':8, '9':9}\n",
    "    d1,d2 = 0,0\n",
    "\n",
    "    for i in s1:\n",
    "        d1 = d1*10 + num[i]\n",
    "\n",
    "    for j in s2:\n",
    "        d2 = d2*10 + num[j]\n",
    "\n",
    "    return str(d1*d2)\n",
    "\n",
    "        \n",
    "\n",
    "s1 = '123'\n",
    "s2 = '456'\n",
    "MultiplyOf2Strings(s1,s2)"
   ]
  },
  {
   "cell_type": "code",
   "execution_count": 7,
   "metadata": {},
   "outputs": [
    {
     "name": "stdout",
     "output_type": "stream",
     "text": [
      "['2', '10']\n"
     ]
    }
   ],
   "source": [
    "nums = [10,2]\n",
    "s = [str(num) for num in nums]\n",
    "s.sort(key=lambda x: x * 10, reverse=True)\n",
    "print(s)"
   ]
  },
  {
   "cell_type": "code",
   "execution_count": 11,
   "metadata": {},
   "outputs": [
    {
     "name": "stdout",
     "output_type": "stream",
     "text": [
      "16\n"
     ]
    }
   ],
   "source": [
    "square = lambda x: x ** 2\n",
    "print(square(4)) "
   ]
  },
  {
   "cell_type": "code",
   "execution_count": null,
   "metadata": {},
   "outputs": [],
   "source": [
    " def largestNumber(nums):\n",
    "        s = [str(num) for num in nums]\n",
    "        s.sort(key=lambda x: x * 10, reverse=True)\n",
    "        return '0' if s[0] == '0' else ''.join(s)\n",
    "nums = [3,30,34,5,9]\n",
    "largestNumber(nums  ''"
   ]
  }
 ],
 "metadata": {
  "kernelspec": {
   "display_name": "Python 3",
   "language": "python",
   "name": "python3"
  },
  "language_info": {
   "codemirror_mode": {
    "name": "ipython",
    "version": 3
   },
   "file_extension": ".py",
   "mimetype": "text/x-python",
   "name": "python",
   "nbconvert_exporter": "python",
   "pygments_lexer": "ipython3",
   "version": "3.11.9"
  }
 },
 "nbformat": 4,
 "nbformat_minor": 2
}
