{
 "cells": [
  {
   "cell_type": "code",
   "execution_count": 1,
   "metadata": {},
   "outputs": [
    {
     "name": "stdout",
     "output_type": "stream",
     "text": [
      "123\n",
      "456\n"
     ]
    },
    {
     "data": {
      "text/plain": [
       "'56088'"
      ]
     },
     "execution_count": 1,
     "metadata": {},
     "output_type": "execute_result"
    }
   ],
   "source": [
    "def MultiplyOf2Strings(s1,s2):\n",
    "    num = {'0':0, '1':1, '2':2, '3':3, '4':4, '5':5, '6':6, '7':7, '8':8, '9':9}\n",
    "    d1,d2 = 0,0\n",
    "\n",
    "    for i in s1:\n",
    "        d1 = d1*10 + num[i]\n",
    "    print(d1)\n",
    "\n",
    "    for j in s2:\n",
    "        d2 = d2*10 + num[j]\n",
    "    print(d2)\n",
    "\n",
    "    return str(d1*d2)\n",
    "\n",
    "        \n",
    "\n",
    "s1 = '123'\n",
    "s2 = '456'\n",
    "MultiplyOf2Strings(s1,s2)"
   ]
  },
  {
   "cell_type": "code",
   "execution_count": null,
   "metadata": {},
   "outputs": [],
   "source": []
  }
 ],
 "metadata": {
  "kernelspec": {
   "display_name": "Python 3",
   "language": "python",
   "name": "python3"
  },
  "language_info": {
   "codemirror_mode": {
    "name": "ipython",
    "version": 3
   },
   "file_extension": ".py",
   "mimetype": "text/x-python",
   "name": "python",
   "nbconvert_exporter": "python",
   "pygments_lexer": "ipython3",
   "version": "3.11.9"
  }
 },
 "nbformat": 4,
 "nbformat_minor": 2
}
