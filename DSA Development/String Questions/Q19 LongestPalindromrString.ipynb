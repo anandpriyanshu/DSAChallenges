{
 "cells": [
  {
   "cell_type": "code",
   "execution_count": 1,
   "metadata": {},
   "outputs": [],
   "source": [
    "def LongestPalindromrString(s):\n",
    "\n",
    "    if len(s) <= 1:\n",
    "        return s\n",
    "    maxlen = 1\n",
    "    maxStr = s[0]\n",
    "\n",
    "    for i in range(len(s)-1):\n",
    "        for j in range(i+1,len(s)):\n",
    "            if j-i+1 > maxlen and s[i:j+1] == s[i:j+1][::-1]:\n",
    "                maxlen = j-i+1\n",
    "                maxStr = s[i:j+1]\n",
    "    return maxStr\n"
   ]
  },
  {
   "cell_type": "code",
   "execution_count": 2,
   "metadata": {},
   "outputs": [
    {
     "data": {
      "text/plain": [
       "'bab'"
      ]
     },
     "execution_count": 2,
     "metadata": {},
     "output_type": "execute_result"
    }
   ],
   "source": [
    "s = \"babad\"\n",
    "LongestPalindromrString(s)"
   ]
  },
  {
   "cell_type": "code",
   "execution_count": null,
   "metadata": {},
   "outputs": [],
   "source": []
  }
 ],
 "metadata": {
  "kernelspec": {
   "display_name": "Python 3",
   "language": "python",
   "name": "python3"
  },
  "language_info": {
   "codemirror_mode": {
    "name": "ipython",
    "version": 3
   },
   "file_extension": ".py",
   "mimetype": "text/x-python",
   "name": "python",
   "nbconvert_exporter": "python",
   "pygments_lexer": "ipython3",
   "version": "3.11.9"
  }
 },
 "nbformat": 4,
 "nbformat_minor": 2
}
