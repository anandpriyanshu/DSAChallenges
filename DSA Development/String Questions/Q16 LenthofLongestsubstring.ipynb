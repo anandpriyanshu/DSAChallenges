{
 "cells": [
  {
   "cell_type": "code",
   "execution_count": 2,
   "metadata": {},
   "outputs": [],
   "source": [
    "def lenofLongestOfSubstring(s):\n",
    "\n",
    "    if len(s) == 0:\n",
    "        return 1\n",
    "    \n",
    "    c , result = 0,''\n",
    "\n",
    "    for i in s:\n",
    "        if i not in result:\n",
    "            result += i\n",
    "        else:\n",
    "            result = result[result.index(i)+1:] + i\n",
    "\n",
    "        if len(result) > c:\n",
    "            c = len(result)\n",
    "\n",
    "    return c\n",
    "\n"
   ]
  }
 ],
 "metadata": {
  "kernelspec": {
   "display_name": "Python 3",
   "language": "python",
   "name": "python3"
  },
  "language_info": {
   "codemirror_mode": {
    "name": "ipython",
    "version": 3
   },
   "file_extension": ".py",
   "mimetype": "text/x-python",
   "name": "python",
   "nbconvert_exporter": "python",
   "pygments_lexer": "ipython3",
   "version": "3.11.9"
  }
 },
 "nbformat": 4,
 "nbformat_minor": 2
}
