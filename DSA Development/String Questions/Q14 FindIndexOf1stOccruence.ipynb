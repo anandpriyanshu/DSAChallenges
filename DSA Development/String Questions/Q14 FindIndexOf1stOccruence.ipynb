{
 "cells": [
  {
   "cell_type": "code",
   "execution_count": 11,
   "metadata": {},
   "outputs": [
    {
     "data": {
      "text/plain": [
       "-1"
      ]
     },
     "execution_count": 11,
     "metadata": {},
     "output_type": "execute_result"
    }
   ],
   "source": [
    "def FindIndexOf1stOccruence(s1,s2):\n",
    "\n",
    "    for i in range(len(s1) -len(s2)+1):\n",
    "        if s1[i: i+ len(s2)] == s2:\n",
    "            return i\n",
    "    return -1\n",
    "\n",
    "\n",
    "s1 = \"leetcode\"\n",
    "s2 = \"leeto\"\n",
    "FindIndexOf1stOccruence(s1,s2)"
   ]
  },
  {
   "cell_type": "code",
   "execution_count": 12,
   "metadata": {},
   "outputs": [
    {
     "data": {
      "text/plain": [
       "0"
      ]
     },
     "execution_count": 12,
     "metadata": {},
     "output_type": "execute_result"
    }
   ],
   "source": [
    "\n",
    "s1 = \"sadbutsad\"\n",
    "s2 = \"sad\"\n",
    "FindIndexOf1stOccruence(s1,s2)"
   ]
  },
  {
   "cell_type": "code",
   "execution_count": null,
   "metadata": {},
   "outputs": [],
   "source": []
  }
 ],
 "metadata": {
  "kernelspec": {
   "display_name": "Python 3",
   "language": "python",
   "name": "python3"
  },
  "language_info": {
   "codemirror_mode": {
    "name": "ipython",
    "version": 3
   },
   "file_extension": ".py",
   "mimetype": "text/x-python",
   "name": "python",
   "nbconvert_exporter": "python",
   "pygments_lexer": "ipython3",
   "version": "3.11.9"
  }
 },
 "nbformat": 4,
 "nbformat_minor": 2
}
