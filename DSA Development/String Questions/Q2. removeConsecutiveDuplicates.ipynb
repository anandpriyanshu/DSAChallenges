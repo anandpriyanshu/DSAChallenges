{
 "cells": [
  {
   "cell_type": "code",
   "execution_count": 20,
   "id": "ebefa05e",
   "metadata": {},
   "outputs": [
    {
     "data": {
      "text/plain": [
       "'dabcbabcbc'"
      ]
     },
     "execution_count": 20,
     "metadata": {},
     "output_type": "execute_result"
    }
   ],
   "source": [
    "def removeConsecutiveDuplicates(s):\n",
    "    newstr = \"\"\n",
    "    for i in range(len(s)):\n",
    "        if newstr!='' and newstr[len(newstr)-1]==s[i]:\n",
    "            continue\n",
    "        newstr = newstr + s[i]\n",
    "    return newstr\n",
    "            \n",
    "    \n",
    "\n",
    "s = \"daabcbaabcbc\"\n",
    "removeConsecutiveDuplicates(s)"
   ]
  },
  {
   "cell_type": "code",
   "execution_count": 21,
   "id": "2d0d7be5",
   "metadata": {},
   "outputs": [
    {
     "data": {
      "text/plain": [
       "' abaca'"
      ]
     },
     "execution_count": 21,
     "metadata": {},
     "output_type": "execute_result"
    }
   ],
   "source": [
    "def removeConsecutiveDuplicates(s):\n",
    "\n",
    "    new = ' '\n",
    "\n",
    "    for i in range(len(s)):\n",
    "\n",
    "        if new != \" \" and new[len(new)-1] == s[i]:\n",
    "            continue\n",
    "        new += s[i]\n",
    "\n",
    "    return new\n",
    "\n",
    "\n",
    "s = \"abbaca\"\n",
    "removeConsecutiveDuplicates(s)"
   ]
  },
  {
   "cell_type": "code",
   "execution_count": 22,
   "id": "5aff6116",
   "metadata": {},
   "outputs": [],
   "source": [
    "s = 'bcabc'"
   ]
  },
  {
   "cell_type": "code",
   "execution_count": 23,
   "id": "b26c377c",
   "metadata": {},
   "outputs": [
    {
     "data": {
      "text/plain": [
       "'bcabc'"
      ]
     },
     "execution_count": 23,
     "metadata": {},
     "output_type": "execute_result"
    }
   ],
   "source": [
    "s"
   ]
  },
  {
   "cell_type": "code",
   "execution_count": 24,
   "id": "5857a01b",
   "metadata": {},
   "outputs": [],
   "source": [
    "a = sorted(s)"
   ]
  },
  {
   "cell_type": "code",
   "execution_count": 25,
   "id": "4414e8c1",
   "metadata": {},
   "outputs": [
    {
     "data": {
      "text/plain": [
       "['a', 'b', 'b', 'c', 'c']"
      ]
     },
     "execution_count": 25,
     "metadata": {},
     "output_type": "execute_result"
    }
   ],
   "source": [
    "a"
   ]
  },
  {
   "cell_type": "code",
   "execution_count": 26,
   "id": "c7bda30c",
   "metadata": {},
   "outputs": [],
   "source": [
    "c = \"\".join(a)"
   ]
  },
  {
   "cell_type": "code",
   "execution_count": 18,
   "id": "7a79c521",
   "metadata": {},
   "outputs": [
    {
     "data": {
      "text/plain": [
       "'bbccc'"
      ]
     },
     "execution_count": 18,
     "metadata": {},
     "output_type": "execute_result"
    }
   ],
   "source": [
    "def dub(s):\n",
    "    a = sorted(s)\n",
    "    \n",
    "\n",
    "    for i in range(len(a)-1):\n",
    "        if a[i] == a[i+1]:\n",
    "            continue\n",
    "        \n",
    "        else:\n",
    "            a[i] = a[i+1]\n",
    "        \n",
    "    \n",
    "    return ''.join(a) \n",
    "s = \"bcabc\"\n",
    "dub(s)"
   ]
  },
  {
   "cell_type": "code",
   "execution_count": null,
   "id": "0eb8be91",
   "metadata": {},
   "outputs": [],
   "source": []
  }
 ],
 "metadata": {
  "kernelspec": {
   "display_name": "Python 3 (ipykernel)",
   "language": "python",
   "name": "python3"
  },
  "language_info": {
   "codemirror_mode": {
    "name": "ipython",
    "version": 3
   },
   "file_extension": ".py",
   "mimetype": "text/x-python",
   "name": "python",
   "nbconvert_exporter": "python",
   "pygments_lexer": "ipython3",
   "version": "3.11.9"
  }
 },
 "nbformat": 4,
 "nbformat_minor": 5
}
