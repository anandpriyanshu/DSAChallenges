{
 "cells": [
  {
   "cell_type": "code",
   "execution_count": 3,
   "metadata": {},
   "outputs": [],
   "source": [
    "def removeAllAdjacentInString(s):\n",
    "\n",
    "    stack = []\n",
    "\n",
    "    for  i  in s:\n",
    "\n",
    "        if stack and stack[-1] == i:  # if stack is empaty and last element of stack is not equal to i\n",
    "            stack.pop()\n",
    "        else:\n",
    "            stack.append(i)\n",
    "    return \"\".join(stack)\n"
   ]
  },
  {
   "cell_type": "code",
   "execution_count": 5,
   "metadata": {},
   "outputs": [
    {
     "data": {
      "text/plain": [
       "'ca'"
      ]
     },
     "execution_count": 5,
     "metadata": {},
     "output_type": "execute_result"
    }
   ],
   "source": [
    "s = \"abbaca\"\n",
    "\n",
    "removeAllAdjacentInString(s)"
   ]
  },
  {
   "cell_type": "code",
   "execution_count": 8,
   "metadata": {},
   "outputs": [],
   "source": [
    "\n",
    "\n",
    "def removeAllAdjacentInString(s):\n",
    "\n",
    "    a  = sorted(s)\n",
    "\n",
    "    stack = []\n",
    "\n",
    "    for  i  in a:\n",
    "\n",
    "        if stack and stack[-1] == i:  # if stack is empaty and last element of stack is not equal to i\n",
    "            stack.pop()\n",
    "        else:\n",
    "            stack.append(i)\n",
    "    return \"\".join(stack)\n"
   ]
  },
  {
   "cell_type": "code",
   "execution_count": 9,
   "metadata": {},
   "outputs": [
    {
     "data": {
      "text/plain": [
       "'a'"
      ]
     },
     "execution_count": 9,
     "metadata": {},
     "output_type": "execute_result"
    }
   ],
   "source": [
    "s = \"bcabc\"\n",
    "\n",
    "removeAllAdjacentInString(s)"
   ]
  },
  {
   "cell_type": "code",
   "execution_count": 24,
   "metadata": {},
   "outputs": [
    {
     "data": {
      "text/plain": [
       "['a', 'b', 'b', 'c', 'c']"
      ]
     },
     "execution_count": 24,
     "metadata": {},
     "output_type": "execute_result"
    }
   ],
   "source": [
    "s = \"bcabc\"\n",
    "a = sorted(s)\n",
    "a"
   ]
  },
  {
   "cell_type": "code",
   "execution_count": 25,
   "metadata": {},
   "outputs": [
    {
     "data": {
      "text/plain": [
       "'abbcc'"
      ]
     },
     "execution_count": 25,
     "metadata": {},
     "output_type": "execute_result"
    }
   ],
   "source": [
    "def dub(s):\n",
    "    a = sorted(s)\n",
    "    \n",
    "\n",
    "    for i in range(len(a)-1):\n",
    "        if a[i] == a[i+1]:\n",
    "            continue\n",
    "        \n",
    "    return \"\".join(a)\n",
    "\n",
    "\n",
    "\n",
    "s = \"bcabc\"\n",
    "dub(s)"
   ]
  },
  {
   "cell_type": "code",
   "execution_count": 26,
   "metadata": {},
   "outputs": [
    {
     "name": "stdout",
     "output_type": "stream",
     "text": [
      "abc\n"
     ]
    }
   ],
   "source": [
    "def remove_duplicate_letters(s):\n",
    "    stack = []\n",
    "    for char in s:\n",
    "        # if char already appears in stack, skip to next iteration\n",
    "        if char in stack:\n",
    "            continue\n",
    "        while (\n",
    "            # when stack is not empty\n",
    "            stack and\n",
    "            # when top of stack letter dictionary order is greater than char\n",
    "            stack[-1] > char and\n",
    "            # when top of stack letter still appears in s not iterated yet letters\n",
    "            s.index(stack[-1], s.index(char)) > s.index(char)\n",
    "        ):\n",
    "            # remove top of stack\n",
    "            stack.pop()\n",
    "        # put char into top of stack\n",
    "        stack.append(char)\n",
    "    return ''.join(stack)\n",
    "\n",
    "# Example usage:\n",
    "s = \"bcabc\"\n",
    "print(remove_duplicate_letters(s))  # Output: \"abc\"\n"
   ]
  },
  {
   "cell_type": "code",
   "execution_count": null,
   "metadata": {},
   "outputs": [],
   "source": []
  }
 ],
 "metadata": {
  "kernelspec": {
   "display_name": "Python 3",
   "language": "python",
   "name": "python3"
  },
  "language_info": {
   "codemirror_mode": {
    "name": "ipython",
    "version": 3
   },
   "file_extension": ".py",
   "mimetype": "text/x-python",
   "name": "python",
   "nbconvert_exporter": "python",
   "pygments_lexer": "ipython3",
   "version": "3.11.9"
  }
 },
 "nbformat": 4,
 "nbformat_minor": 2
}
