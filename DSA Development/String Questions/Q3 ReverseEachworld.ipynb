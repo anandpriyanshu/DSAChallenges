{
 "cells": [
  {
   "cell_type": "code",
   "execution_count": 2,
   "id": "cae20ace",
   "metadata": {},
   "outputs": [
    {
     "data": {
      "text/plain": [
       "'ym eman si dnana'"
      ]
     },
     "execution_count": 2,
     "metadata": {},
     "output_type": "execute_result"
    }
   ],
   "source": [
    "def ReverseEachworld(s):\n",
    "    a = s.split()\n",
    "    for i in range(len(a)):\n",
    "        a[i] = a[i][::-1]\n",
    "        \n",
    "    return (\" \").join(a)\n",
    "\n",
    "    # a = s.split()\n",
    "    \n",
    "    # i = 0\n",
    "    \n",
    "    # while  i < len(a):\n",
    "        \n",
    "    #     a[i] = a[i][::-1]\n",
    "    #     i+=1\n",
    "    # return \" \".join(a)\n",
    "s = input() \n",
    "ReverseEachworld(s)"
   ]
  },
  {
   "cell_type": "code",
   "execution_count": null,
   "id": "5d9f02a1",
   "metadata": {},
   "outputs": [],
   "source": []
  }
 ],
 "metadata": {
  "kernelspec": {
   "display_name": "Python 3 (ipykernel)",
   "language": "python",
   "name": "python3"
  },
  "language_info": {
   "codemirror_mode": {
    "name": "ipython",
    "version": 3
   },
   "file_extension": ".py",
   "mimetype": "text/x-python",
   "name": "python",
   "nbconvert_exporter": "python",
   "pygments_lexer": "ipython3",
   "version": "3.11.9"
  }
 },
 "nbformat": 4,
 "nbformat_minor": 5
}
