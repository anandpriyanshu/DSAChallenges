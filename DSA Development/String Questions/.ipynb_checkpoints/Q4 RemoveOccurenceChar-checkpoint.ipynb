{
 "cells": [
  {
   "cell_type": "code",
   "execution_count": 16,
   "id": "1aedd9a5",
   "metadata": {},
   "outputs": [
    {
     "data": {
      "text/plain": [
       "'bb'"
      ]
     },
     "execution_count": 16,
     "metadata": {},
     "output_type": "execute_result"
    }
   ],
   "source": [
    "def removeAllOccurrencesOfChar(s,ch):\n",
    "    ans = ''\n",
    "    if len(s) ==0:\n",
    "        return ''\n",
    "    for i in range(len(s)):\n",
    "        if s[i] == ch:\n",
    "            continue\n",
    "        else:\n",
    "            ans += s[i]\n",
    "    return ans\n",
    "s = 'ababaaa'\n",
    "removeAllOccurrencesOfChar(s,'a')"
   ]
  },
  {
   "cell_type": "code",
   "execution_count": null,
   "id": "81881f72",
   "metadata": {},
   "outputs": [],
   "source": []
  }
 ],
 "metadata": {
  "kernelspec": {
   "display_name": "Python 3 (ipykernel)",
   "language": "python",
   "name": "python3"
  },
  "language_info": {
   "codemirror_mode": {
    "name": "ipython",
    "version": 3
   },
   "file_extension": ".py",
   "mimetype": "text/x-python",
   "name": "python",
   "nbconvert_exporter": "python",
   "pygments_lexer": "ipython3",
   "version": "3.9.7"
  }
 },
 "nbformat": 4,
 "nbformat_minor": 5
}
