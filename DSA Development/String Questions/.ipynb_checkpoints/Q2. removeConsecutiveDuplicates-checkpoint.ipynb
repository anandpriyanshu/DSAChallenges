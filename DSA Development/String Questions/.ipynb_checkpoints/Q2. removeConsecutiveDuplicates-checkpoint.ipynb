{
 "cells": [
  {
   "cell_type": "code",
   "execution_count": 6,
   "id": "ebefa05e",
   "metadata": {},
   "outputs": [
    {
     "data": {
      "text/plain": [
       "'dabcbabcb'"
      ]
     },
     "execution_count": 6,
     "metadata": {},
     "output_type": "execute_result"
    }
   ],
   "source": [
    "def removeConsecutiveDuplicates(s):\n",
    "    newstr = \"\"\n",
    "    for i in range(len(s)-1):\n",
    "        if newstr!='' and newstr[len(newstr)-1]==s[i]:\n",
    "            continue\n",
    "        newstr = newstr + s[i]\n",
    "    return newstr\n",
    "            \n",
    "    \n",
    "\n",
    "s = \"daabcbaabcbc\"\n",
    "removeConsecutiveDuplicates(s)"
   ]
  },
  {
   "cell_type": "code",
   "execution_count": null,
   "id": "e2a714b9",
   "metadata": {},
   "outputs": [],
   "source": []
  }
 ],
 "metadata": {
  "kernelspec": {
   "display_name": "Python 3 (ipykernel)",
   "language": "python",
   "name": "python3"
  },
  "language_info": {
   "codemirror_mode": {
    "name": "ipython",
    "version": 3
   },
   "file_extension": ".py",
   "mimetype": "text/x-python",
   "name": "python",
   "nbconvert_exporter": "python",
   "pygments_lexer": "ipython3",
   "version": "3.9.7"
  }
 },
 "nbformat": 4,
 "nbformat_minor": 5
}
