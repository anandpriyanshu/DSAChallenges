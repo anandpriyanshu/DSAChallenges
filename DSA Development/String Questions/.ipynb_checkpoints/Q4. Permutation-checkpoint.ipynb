{
 "cells": [
  {
   "cell_type": "code",
   "execution_count": 22,
   "id": "699258b8",
   "metadata": {},
   "outputs": [
    {
     "data": {
      "text/plain": [
       "True"
      ]
     },
     "execution_count": 22,
     "metadata": {},
     "output_type": "execute_result"
    }
   ],
   "source": [
    "def Permutation(str1,str2):\n",
    "    \n",
    "    if len(str1) != len(str2):\n",
    "        return False\n",
    "    \n",
    "    else:\n",
    "        s1 = sorted(str1)    #converted into list\n",
    "        s2 = sorted(str2)    #converted into list\n",
    "        \n",
    "        return \" \".join(s1) == \" \".join(s2)\n",
    "        \n",
    "        \n",
    "    \n",
    "str1= 'abcde'\n",
    "str2= 'baedc'\n",
    "Permutation(str1,str2)"
   ]
  },
  {
   "cell_type": "code",
   "execution_count": 45,
   "id": "5ce78054",
   "metadata": {},
   "outputs": [
    {
     "data": {
      "text/plain": [
       "False"
      ]
     },
     "execution_count": 45,
     "metadata": {},
     "output_type": "execute_result"
    }
   ],
   "source": [
    "def Permutation(s1,s2):\n",
    "    #converted into list\n",
    "    \n",
    "    for i in range(len(s1)):\n",
    "        for j in range(len(s2)):\n",
    "            return s1[i] == s2[j]\n",
    "            s2[j] = -1\n",
    "            break\n",
    "        \n",
    "        \n",
    "    \n",
    "str1= 'ab'\n",
    "str2= 'eidbaooo'\n",
    "Permutation(str1,str2)"
   ]
  },
  {
   "cell_type": "code",
   "execution_count": 57,
   "id": "9d13cd51",
   "metadata": {},
   "outputs": [
    {
     "data": {
      "text/plain": [
       "True"
      ]
     },
     "execution_count": 57,
     "metadata": {},
     "output_type": "execute_result"
    }
   ],
   "source": [
    "from collections import Counter\n",
    "def PermutationinString(s1,s2):\n",
    "    \n",
    "    lens1 = len(s1)\n",
    "    s1_c = Counter(s1)\n",
    "    for i in range(len(s2)-lens1+1):\n",
    "        s2_c = Counter(s2[i:i+lens1])\n",
    "        if s2_c == s1_c:\n",
    "            return True\n",
    "            \n",
    "    return False\n",
    "\n",
    "s1 = \"ab\"\n",
    "s2 = \"eidbaooo\"\n",
    "PermutationinString(s1,s2)\n"
   ]
  },
  {
   "cell_type": "code",
   "execution_count": null,
   "id": "ec5f0aff",
   "metadata": {},
   "outputs": [],
   "source": []
  }
 ],
 "metadata": {
  "kernelspec": {
   "display_name": "Python 3 (ipykernel)",
   "language": "python",
   "name": "python3"
  },
  "language_info": {
   "codemirror_mode": {
    "name": "ipython",
    "version": 3
   },
   "file_extension": ".py",
   "mimetype": "text/x-python",
   "name": "python",
   "nbconvert_exporter": "python",
   "pygments_lexer": "ipython3",
   "version": "3.9.7"
  }
 },
 "nbformat": 4,
 "nbformat_minor": 5
}
