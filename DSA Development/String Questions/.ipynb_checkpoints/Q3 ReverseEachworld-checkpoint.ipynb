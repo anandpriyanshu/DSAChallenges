{
 "cells": [
  {
   "cell_type": "code",
   "execution_count": 5,
   "id": "cae20ace",
   "metadata": {},
   "outputs": [
    {
     "name": "stdout",
     "output_type": "stream",
     "text": [
      "my name is anand\n"
     ]
    },
    {
     "data": {
      "text/plain": [
       "'ym eman si dnana'"
      ]
     },
     "execution_count": 5,
     "metadata": {},
     "output_type": "execute_result"
    }
   ],
   "source": [
    "def ReverseEachworld(s):\n",
    "    a = s.split()\n",
    "    for i in range(len(a)):\n",
    "        a[i] = a[i][::-1]\n",
    "        \n",
    "    return (\" \").join(a)\n",
    "s = input() \n",
    "ReverseEachworld(s)"
   ]
  },
  {
   "cell_type": "code",
   "execution_count": null,
   "id": "1f4513b3",
   "metadata": {},
   "outputs": [],
   "source": []
  }
 ],
 "metadata": {
  "kernelspec": {
   "display_name": "Python 3 (ipykernel)",
   "language": "python",
   "name": "python3"
  },
  "language_info": {
   "codemirror_mode": {
    "name": "ipython",
    "version": 3
   },
   "file_extension": ".py",
   "mimetype": "text/x-python",
   "name": "python",
   "nbconvert_exporter": "python",
   "pygments_lexer": "ipython3",
   "version": "3.9.7"
  }
 },
 "nbformat": 4,
 "nbformat_minor": 5
}
