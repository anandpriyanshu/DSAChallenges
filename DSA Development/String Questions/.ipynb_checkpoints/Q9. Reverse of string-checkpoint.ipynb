{
 "cells": [
  {
   "cell_type": "code",
   "execution_count": 2,
   "id": "b52d7d33",
   "metadata": {},
   "outputs": [
    {
     "data": {
      "text/plain": [
       "'ym eman si dnanA'"
      ]
     },
     "execution_count": 2,
     "metadata": {},
     "output_type": "execute_result"
    }
   ],
   "source": [
    "def ReverseOfString(s):\n",
    "    \n",
    "    a = s.split()\n",
    "    \n",
    "    i = 0\n",
    "    \n",
    "    while  i < len(a):\n",
    "        \n",
    "        a[i] = a[i][::-1]\n",
    "        i+=1\n",
    "    return \" \".join(a)\n",
    "    \n",
    "    \n",
    "s = \"my name is Anand\"\n",
    "ReverseOfString(s)"
   ]
  },
  {
   "cell_type": "code",
   "execution_count": null,
   "id": "818ec6e6",
   "metadata": {},
   "outputs": [],
   "source": []
  }
 ],
 "metadata": {
  "kernelspec": {
   "display_name": "Python 3 (ipykernel)",
   "language": "python",
   "name": "python3"
  },
  "language_info": {
   "codemirror_mode": {
    "name": "ipython",
    "version": 3
   },
   "file_extension": ".py",
   "mimetype": "text/x-python",
   "name": "python",
   "nbconvert_exporter": "python",
   "pygments_lexer": "ipython3",
   "version": "3.9.7"
  }
 },
 "nbformat": 4,
 "nbformat_minor": 5
}
