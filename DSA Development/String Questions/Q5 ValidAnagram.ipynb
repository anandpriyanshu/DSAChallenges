{
 "cells": [
  {
   "cell_type": "code",
   "execution_count": 1,
   "id": "62d86da7",
   "metadata": {},
   "outputs": [],
   "source": [
    "def isAnagram(s,t):\n",
    "    \n",
    "    n1 = len(s)\n",
    "    n2 = len(t)\n",
    "    if n1 != n2:\n",
    "        return False\n",
    "    else:\n",
    "        a = sorted(s)\n",
    "        b = sorted(t)\n",
    "        \n",
    "        a1 = ''.join(a)\n",
    "        b1 = ''.join(b)\n",
    "        if a1 == b1:\n",
    "            return True\n",
    "        else:\n",
    "            return False\n",
    "    \n",
    "   \n",
    "    \n",
    "s1 =  \"anagram\"\n",
    "s2 =  \"nagaram\""
   ]
  },
  {
   "cell_type": "code",
   "execution_count": 2,
   "id": "545b8fd5",
   "metadata": {},
   "outputs": [
    {
     "data": {
      "text/plain": [
       "True"
      ]
     },
     "execution_count": 2,
     "metadata": {},
     "output_type": "execute_result"
    }
   ],
   "source": [
    "isAnagram(s1,s2)"
   ]
  },
  {
   "cell_type": "code",
   "execution_count": null,
   "id": "c406cab9",
   "metadata": {},
   "outputs": [],
   "source": []
  }
 ],
 "metadata": {
  "kernelspec": {
   "display_name": "Python 3 (ipykernel)",
   "language": "python",
   "name": "python3"
  },
  "language_info": {
   "codemirror_mode": {
    "name": "ipython",
    "version": 3
   },
   "file_extension": ".py",
   "mimetype": "text/x-python",
   "name": "python",
   "nbconvert_exporter": "python",
   "pygments_lexer": "ipython3",
   "version": "3.9.7"
  }
 },
 "nbformat": 4,
 "nbformat_minor": 5
}
