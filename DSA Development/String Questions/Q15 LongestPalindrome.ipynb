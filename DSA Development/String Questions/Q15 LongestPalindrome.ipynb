{
 "cells": [
  {
   "cell_type": "code",
   "execution_count": 2,
   "metadata": {},
   "outputs": [
    {
     "data": {
      "text/plain": [
       "7"
      ]
     },
     "execution_count": 2,
     "metadata": {},
     "output_type": "execute_result"
    }
   ],
   "source": [
    "def longestPalindrome_set(s):\n",
    "    ss = set()\n",
    "    for letter in s:\n",
    "        if letter not in ss:\n",
    "            ss.add(letter)\n",
    "        else:\n",
    "            ss.remove(letter)\n",
    "    \n",
    "    if len(ss) != 0:\n",
    "        return len(s) - len(ss) + 1\n",
    "    else:\n",
    "        return len(s)\n",
    "    \n",
    "s = 'abccccdd'\n",
    "longestPalindrome_set(s)"
   ]
  },
  {
   "cell_type": "code",
   "execution_count": null,
   "metadata": {},
   "outputs": [],
   "source": []
  }
 ],
 "metadata": {
  "kernelspec": {
   "display_name": "Python 3",
   "language": "python",
   "name": "python3"
  },
  "language_info": {
   "codemirror_mode": {
    "name": "ipython",
    "version": 3
   },
   "file_extension": ".py",
   "mimetype": "text/x-python",
   "name": "python",
   "nbconvert_exporter": "python",
   "pygments_lexer": "ipython3",
   "version": "3.11.9"
  }
 },
 "nbformat": 4,
 "nbformat_minor": 2
}
