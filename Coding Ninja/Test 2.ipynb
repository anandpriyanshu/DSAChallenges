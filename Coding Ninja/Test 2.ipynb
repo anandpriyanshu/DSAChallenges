{
 "cells": [
  {
   "cell_type": "markdown",
   "id": "3f2a2b55",
   "metadata": {},
   "source": [
    "### Print 2D Array"
   ]
  },
  {
   "cell_type": "code",
   "execution_count": 1,
   "id": "be1f9f6d",
   "metadata": {},
   "outputs": [
    {
     "ename": "ValueError",
     "evalue": "invalid literal for int() with base 10: ''",
     "output_type": "error",
     "traceback": [
      "\u001b[1;31m---------------------------------------------------------------------------\u001b[0m",
      "\u001b[1;31mValueError\u001b[0m                                Traceback (most recent call last)",
      "\u001b[1;32mC:\\Users\\PRIYAN~1\\AppData\\Local\\Temp/ipykernel_6560/3142985628.py\u001b[0m in \u001b[0;36m<module>\u001b[1;34m\u001b[0m\n\u001b[0;32m     17\u001b[0m     \u001b[0mmat\u001b[0m\u001b[1;33m=\u001b[0m\u001b[1;33m[\u001b[0m\u001b[0mlist\u001b[0m\u001b[1;33m(\u001b[0m\u001b[0mmap\u001b[0m\u001b[1;33m(\u001b[0m\u001b[0mint\u001b[0m\u001b[1;33m,\u001b[0m\u001b[0minput\u001b[0m\u001b[1;33m(\u001b[0m\u001b[1;33m)\u001b[0m\u001b[1;33m.\u001b[0m\u001b[0mstrip\u001b[0m\u001b[1;33m(\u001b[0m\u001b[1;33m)\u001b[0m\u001b[1;33m.\u001b[0m\u001b[0msplit\u001b[0m\u001b[1;33m(\u001b[0m\u001b[1;34m\" \"\u001b[0m\u001b[1;33m)\u001b[0m\u001b[1;33m)\u001b[0m\u001b[1;33m)\u001b[0m\u001b[1;32mfor\u001b[0m \u001b[0mrow\u001b[0m \u001b[1;32min\u001b[0m \u001b[0mrange\u001b[0m\u001b[1;33m(\u001b[0m\u001b[0mnRows\u001b[0m\u001b[1;33m)\u001b[0m\u001b[1;33m]\u001b[0m\u001b[1;33m\u001b[0m\u001b[1;33m\u001b[0m\u001b[0m\n\u001b[0;32m     18\u001b[0m     \u001b[1;32mreturn\u001b[0m \u001b[0mmat\u001b[0m\u001b[1;33m,\u001b[0m\u001b[0mnRows\u001b[0m\u001b[1;33m,\u001b[0m\u001b[0mmCols\u001b[0m\u001b[1;33m\u001b[0m\u001b[1;33m\u001b[0m\u001b[0m\n\u001b[1;32m---> 19\u001b[1;33m \u001b[0mmat\u001b[0m\u001b[1;33m,\u001b[0m\u001b[0mnRows\u001b[0m\u001b[1;33m,\u001b[0m\u001b[0mmCols\u001b[0m\u001b[1;33m=\u001b[0m\u001b[0mtakeinput\u001b[0m\u001b[1;33m(\u001b[0m\u001b[1;33m)\u001b[0m\u001b[1;33m\u001b[0m\u001b[1;33m\u001b[0m\u001b[0m\n\u001b[0m\u001b[0;32m     20\u001b[0m \u001b[0mprint2d\u001b[0m\u001b[1;33m(\u001b[0m\u001b[0mmat\u001b[0m\u001b[1;33m,\u001b[0m\u001b[0mnRows\u001b[0m\u001b[1;33m,\u001b[0m\u001b[0mmCols\u001b[0m\u001b[1;33m)\u001b[0m\u001b[1;33m\u001b[0m\u001b[1;33m\u001b[0m\u001b[0m\n",
      "\u001b[1;32mC:\\Users\\PRIYAN~1\\AppData\\Local\\Temp/ipykernel_6560/3142985628.py\u001b[0m in \u001b[0;36mtakeinput\u001b[1;34m()\u001b[0m\n\u001b[0;32m     11\u001b[0m \u001b[1;32mdef\u001b[0m \u001b[0mtakeinput\u001b[0m\u001b[1;33m(\u001b[0m\u001b[1;33m)\u001b[0m\u001b[1;33m:\u001b[0m\u001b[1;33m\u001b[0m\u001b[1;33m\u001b[0m\u001b[0m\n\u001b[0;32m     12\u001b[0m     \u001b[0mli\u001b[0m\u001b[1;33m=\u001b[0m\u001b[0mstdin\u001b[0m\u001b[1;33m.\u001b[0m\u001b[0mreadline\u001b[0m\u001b[1;33m(\u001b[0m\u001b[1;33m)\u001b[0m\u001b[1;33m.\u001b[0m\u001b[0mrstrip\u001b[0m\u001b[1;33m(\u001b[0m\u001b[1;33m)\u001b[0m\u001b[1;33m.\u001b[0m\u001b[0msplit\u001b[0m\u001b[1;33m(\u001b[0m\u001b[1;34m\" \"\u001b[0m\u001b[1;33m)\u001b[0m\u001b[1;33m\u001b[0m\u001b[1;33m\u001b[0m\u001b[0m\n\u001b[1;32m---> 13\u001b[1;33m     \u001b[0mnRows\u001b[0m\u001b[1;33m=\u001b[0m\u001b[0mint\u001b[0m\u001b[1;33m(\u001b[0m\u001b[0mli\u001b[0m\u001b[1;33m[\u001b[0m\u001b[1;36m0\u001b[0m\u001b[1;33m]\u001b[0m\u001b[1;33m)\u001b[0m\u001b[1;33m\u001b[0m\u001b[1;33m\u001b[0m\u001b[0m\n\u001b[0m\u001b[0;32m     14\u001b[0m     \u001b[0mmCols\u001b[0m\u001b[1;33m=\u001b[0m\u001b[0mint\u001b[0m\u001b[1;33m(\u001b[0m\u001b[0mli\u001b[0m\u001b[1;33m[\u001b[0m\u001b[1;36m1\u001b[0m\u001b[1;33m]\u001b[0m\u001b[1;33m)\u001b[0m\u001b[1;33m\u001b[0m\u001b[1;33m\u001b[0m\u001b[0m\n\u001b[0;32m     15\u001b[0m     \u001b[1;32mif\u001b[0m \u001b[0mnRows\u001b[0m\u001b[1;33m==\u001b[0m\u001b[1;36m0\u001b[0m\u001b[1;33m:\u001b[0m\u001b[1;33m\u001b[0m\u001b[1;33m\u001b[0m\u001b[0m\n",
      "\u001b[1;31mValueError\u001b[0m: invalid literal for int() with base 10: ''"
     ]
    }
   ],
   "source": [
    "from sys import stdin\n",
    "def print2d(arr,n,m):\n",
    "    t=n\n",
    "    for i in range(n):\n",
    "        for k in range(t,0,-1):\n",
    "            for j in range(m):\n",
    "                print(arr[i][j],end=\" \")\n",
    "            print()\n",
    "        t-=1\n",
    "        \n",
    "def takeinput():\n",
    "    li=stdin.readline().rstrip().split(\" \")\n",
    "    nRows=int(li[0])\n",
    "    mCols=int(li[1])\n",
    "    if nRows==0:\n",
    "        return list(),0,0\n",
    "    mat=[list(map(int,input().strip().split(\" \")))for row in range(nRows)]\n",
    "    return mat,nRows,mCols\n",
    "mat,nRows,mCols=takeinput()\n",
    "print2d(mat,nRows,mCols)"
   ]
  },
  {
   "cell_type": "markdown",
   "id": "77007aaa",
   "metadata": {},
   "source": [
    "### Leaders in Array"
   ]
  },
  {
   "cell_type": "code",
   "execution_count": 2,
   "id": "9f58c42a",
   "metadata": {},
   "outputs": [
    {
     "name": "stdout",
     "output_type": "stream",
     "text": [
      "6\n",
      "3 12 34 2 0 -1\n",
      "34 2 0 -1 "
     ]
    }
   ],
   "source": [
    "n = int(input())\n",
    "arr = [int(ele) for ele in input().split()]\n",
    "\n",
    "curr_max = arr[n-1]\n",
    "ans = [arr[n-1]]\n",
    "for i in range (n-2,-1,-1):\n",
    "    if arr[i] >= curr_max:\n",
    "        ans.append(arr[i])\n",
    "        curr_max = arr[i]\n",
    "        \n",
    "for i in range (len(ans)-1,-1,-1):\n",
    "    print(ans[i],end=\" \")"
   ]
  },
  {
   "cell_type": "markdown",
   "id": "39dd7a44",
   "metadata": {},
   "source": [
    "### Minimum Length Word"
   ]
  },
  {
   "cell_type": "code",
   "execution_count": 3,
   "id": "ca5454fc",
   "metadata": {},
   "outputs": [
    {
     "name": "stdout",
     "output_type": "stream",
     "text": [
      "this is test string\n",
      "is\n"
     ]
    }
   ],
   "source": [
    "str = input()\n",
    "min_len = len(str)\n",
    "min_str = str\n",
    "curr_str = \"\"\n",
    "for char in str:\n",
    "    if char == ' ':\n",
    "        if(len(curr_str)<min_len):\n",
    "            min_len = len(curr_str)\n",
    "            min_str = curr_str\n",
    "        curr_str = \"\"\n",
    "    else:\n",
    "        curr_str = curr_str + char\n",
    "if(len(curr_str)<min_len):\n",
    "    min_len = len(curr_str)\n",
    "    min_str = curr_str\n",
    "print(min_str)"
   ]
  },
  {
   "cell_type": "code",
   "execution_count": null,
   "id": "72befb0c",
   "metadata": {},
   "outputs": [],
   "source": []
  }
 ],
 "metadata": {
  "kernelspec": {
   "display_name": "Python 3 (ipykernel)",
   "language": "python",
   "name": "python3"
  },
  "language_info": {
   "codemirror_mode": {
    "name": "ipython",
    "version": 3
   },
   "file_extension": ".py",
   "mimetype": "text/x-python",
   "name": "python",
   "nbconvert_exporter": "python",
   "pygments_lexer": "ipython3",
   "version": "3.9.7"
  }
 },
 "nbformat": 4,
 "nbformat_minor": 5
}
