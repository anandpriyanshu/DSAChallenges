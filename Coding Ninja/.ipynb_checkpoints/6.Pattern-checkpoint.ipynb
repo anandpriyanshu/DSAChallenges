{
 "cells": [
  {
   "cell_type": "code",
   "execution_count": 25,
   "id": "36aa1366",
   "metadata": {},
   "outputs": [
    {
     "name": "stdout",
     "output_type": "stream",
     "text": [
      "4\n",
      "   *\n",
      "  **\n",
      " ***\n",
      "****\n"
     ]
    }
   ],
   "source": [
    "n = int(input())\n",
    "i = 1\n",
    "while i<=n:\n",
    "    space = 1\n",
    "    while space<=n-i:\n",
    "        print(' ',end=\"\")\n",
    "        space = space+1\n",
    "    star = 1\n",
    "    while star<=i:\n",
    "        print('*',end=\"\")      #numberwise increment\n",
    "        star=star+1\n",
    "    print()\n",
    "    i = i+1"
   ]
  },
  {
   "cell_type": "raw",
   "id": "e4a58c8a",
   "metadata": {},
   "source": [
    "****\n",
    "***\n",
    "**\n",
    "*"
   ]
  },
  {
   "cell_type": "code",
   "execution_count": 2,
   "id": "d37da517",
   "metadata": {},
   "outputs": [
    {
     "name": "stdout",
     "output_type": "stream",
     "text": [
      "4\n",
      "****\n",
      "***\n",
      "**\n",
      "*\n"
     ]
    }
   ],
   "source": [
    "n = int(input())\n",
    "i = 1\n",
    "while i<=n:\n",
    "    j = 1\n",
    "    while j <=n-i+1:\n",
    "        print('*',end='')\n",
    "        j = j+1\n",
    "    print()\n",
    "    i = i+1"
   ]
  },
  {
   "cell_type": "code",
   "execution_count": 5,
   "id": "b723c47d",
   "metadata": {},
   "outputs": [
    {
     "name": "stdout",
     "output_type": "stream",
     "text": [
      "4\n",
      "1111\n",
      "222\n",
      "33\n",
      "4\n"
     ]
    }
   ],
   "source": [
    "n = int(input())\n",
    "i = 1\n",
    "while i<=n:\n",
    "    j = 1\n",
    "    while j <=n-i+1:\n",
    "        print(i,end='')\n",
    "        j = j+1\n",
    "    print()\n",
    "    i = i+1"
   ]
  },
  {
   "cell_type": "markdown",
   "id": "1f910d6a",
   "metadata": {},
   "source": [
    "4\n",
    "33\n",
    "222\n",
    "1111"
   ]
  },
  {
   "cell_type": "code",
   "execution_count": 2,
   "id": "fcf94aba",
   "metadata": {},
   "outputs": [
    {
     "name": "stdout",
     "output_type": "stream",
     "text": [
      "4\n",
      "4\n",
      "33\n",
      "222\n",
      "1111\n"
     ]
    }
   ],
   "source": [
    "n = int(input())\n",
    "i = 1\n",
    "while i<=n:\n",
    "    j = 1\n",
    "    while j <=i:\n",
    "        print(n-i+1,end='')\n",
    "        j = j+1\n",
    "    print()\n",
    "    i = i+1"
   ]
  },
  {
   "cell_type": "markdown",
   "id": "b38a216c",
   "metadata": {},
   "source": [
    "4444\n",
    "333\n",
    "22\n",
    "1"
   ]
  },
  {
   "cell_type": "code",
   "execution_count": 1,
   "id": "0591eb4f",
   "metadata": {},
   "outputs": [
    {
     "name": "stdout",
     "output_type": "stream",
     "text": [
      "4\n",
      "4444\n",
      "333\n",
      "22\n",
      "1\n"
     ]
    }
   ],
   "source": [
    "n = int(input())\n",
    "i = 1\n",
    "while i<=n:\n",
    "    j = 1\n",
    "    while j<=n-i+1:\n",
    "        print(n-i+1,end='')\n",
    "        j = j+1\n",
    "    print()\n",
    "    i = i+1"
   ]
  },
  {
   "cell_type": "raw",
   "id": "f04ad7c7",
   "metadata": {},
   "source": [
    "   1\n",
    "  22\n",
    " 333\n",
    "4444 "
   ]
  },
  {
   "cell_type": "code",
   "execution_count": 14,
   "id": "c9e65fc6",
   "metadata": {},
   "outputs": [
    {
     "name": "stdout",
     "output_type": "stream",
     "text": [
      "4\n",
      "   1\n",
      "  22\n",
      " 333\n",
      "4444\n"
     ]
    }
   ],
   "source": [
    "n = int(input())\n",
    "i = 1\n",
    "while i<=n:\n",
    "    space = 1\n",
    "    while space<=n-i:\n",
    "        print(' ',end=\"\")\n",
    "        space = space+1\n",
    "    num = 1\n",
    "    while num<=i:\n",
    "        print(i,end=\"\")   #rowise increment\n",
    "        num=num+1\n",
    "    print()\n",
    "    i = i+1"
   ]
  },
  {
   "cell_type": "code",
   "execution_count": 18,
   "id": "cc7f55af",
   "metadata": {},
   "outputs": [
    {
     "name": "stdout",
     "output_type": "stream",
     "text": [
      "4\n",
      "   1\n",
      "  12\n",
      " 123\n",
      "1234\n"
     ]
    }
   ],
   "source": [
    "#First method\n",
    "n = int(input())\n",
    "i = 1\n",
    "while i<=n:\n",
    "    space = 1\n",
    "    while space<=n-i:\n",
    "        print(' ',end=\"\")\n",
    "        space = space+1\n",
    "    num = 1\n",
    "    while num<=i:\n",
    "        print(num,end=\"\")      #numberwise increment\n",
    "        num=num+1\n",
    "    print()\n",
    "    i = i+1"
   ]
  },
  {
   "cell_type": "code",
   "execution_count": 24,
   "id": "891ffdd5",
   "metadata": {},
   "outputs": [
    {
     "name": "stdout",
     "output_type": "stream",
     "text": [
      "4\n",
      "   1\n",
      "  12\n",
      " 123\n",
      "1234\n"
     ]
    }
   ],
   "source": [
    "#second method\n",
    "n = int(input())\n",
    "i = 1\n",
    "while i<=n:\n",
    "    #space\n",
    "    space = 1\n",
    "    while space<=n-i:\n",
    "        print(' ',end=\"\")\n",
    "        space = space+1\n",
    "    #increasing sequence\n",
    "    num = 1\n",
    "    while num<=i:\n",
    "        print(num,end=\"\")      #numberwise increment\n",
    "        j = j+1\n",
    "        num=num+1\n",
    "    print()\n",
    "    i = i+1"
   ]
  },
  {
   "cell_type": "markdown",
   "id": "cd6fb401",
   "metadata": {},
   "source": [
    "### Isosclaes pattern\n",
    "       1\n",
    "      121\n",
    "     12321\n",
    "    1234321  "
   ]
  },
  {
   "cell_type": "markdown",
   "id": "8de2ae62",
   "metadata": {},
   "source": [
    "###  first calculate\n",
    "       1\n",
    "      12\n",
    "     123\n",
    "    1234\n",
    "### then calculate\n",
    "   1\n",
    "  21\n",
    " 321 "
   ]
  },
  {
   "cell_type": "code",
   "execution_count": 3,
   "id": "fd6f2fab",
   "metadata": {},
   "outputs": [
    {
     "name": "stdout",
     "output_type": "stream",
     "text": [
      "4\n",
      "   1\n",
      "  12\n",
      " 123\n",
      "1234\n"
     ]
    }
   ],
   "source": [
    "n = int(input())\n",
    "i = 1\n",
    "while i<=n:\n",
    "    space = 1\n",
    "    while space<=n-i:\n",
    "        print(' ',end=\"\")\n",
    "        space = space+1\n",
    "    j = 1\n",
    "    num = 1\n",
    "    while num<=i:\n",
    "        print(num,end=\"\")      #numberwise increment\n",
    "        j = j+1\n",
    "        num=num+1\n",
    "    print()\n",
    "    i = i+1"
   ]
  },
  {
   "cell_type": "code",
   "execution_count": 23,
   "id": "3ed62169",
   "metadata": {},
   "outputs": [
    {
     "name": "stdout",
     "output_type": "stream",
     "text": [
      "4\n",
      "   1\n",
      "  121\n",
      " 12321\n",
      "1234321\n"
     ]
    }
   ],
   "source": [
    "n = int(input())\n",
    "i = 1\n",
    "while i<=n:\n",
    "    #space\n",
    "    space = 1\n",
    "    while space<=n-i:\n",
    "        print(' ',end=\"\")\n",
    "        space = space+1\n",
    "    #increasing sequence\n",
    "    num = 1\n",
    "    while num<=i:\n",
    "        print(num,end=\"\")      #numberwise increment\n",
    "        num=num+1\n",
    "    #decreasing sequence\n",
    "    num = i-1\n",
    "    while num>=1:\n",
    "        print(num,end='')\n",
    "        num = num-1\n",
    "        \n",
    "    print()\n",
    "    i = i+1"
   ]
  },
  {
   "cell_type": "raw",
   "id": "acc61f44",
   "metadata": {},
   "source": [
    "   1\n",
    "  212\n",
    " 32123\n",
    "4321234"
   ]
  },
  {
   "cell_type": "code",
   "execution_count": 3,
   "id": "7c86f4d2",
   "metadata": {},
   "outputs": [
    {
     "name": "stdout",
     "output_type": "stream",
     "text": [
      "4\n",
      "   1\n",
      "  212\n",
      " 32123\n",
      "4321234\n"
     ]
    }
   ],
   "source": [
    "n=int(input())\n",
    "i=1\n",
    "while i<=n:\n",
    "    sp=n-i\n",
    "    while sp>0:\n",
    "        print(' ',end=\"\")\n",
    "        sp=sp-1\n",
    "    p=i\n",
    "    \n",
    "    while p>0:\n",
    "        print(p,end=\"\")\n",
    "        \n",
    "        p=p-1\n",
    "        \n",
    "    p=2\n",
    "    while p<=i:\n",
    "        print(p,end=\"\")\n",
    "        p=p+1\n",
    "    print()\n",
    "    i=i+1"
   ]
  },
  {
   "cell_type": "markdown",
   "id": "1db08ff1",
   "metadata": {},
   "source": [
    "### Assignment"
   ]
  },
  {
   "cell_type": "code",
   "execution_count": 6,
   "id": "4e448919",
   "metadata": {},
   "outputs": [
    {
     "name": "stdout",
     "output_type": "stream",
     "text": [
      "4\n",
      "1      1\n",
      "12    21\n",
      "123  321\n",
      "12344321\n"
     ]
    }
   ],
   "source": [
    "n = int(input())\n",
    "i = 1\n",
    "totalspc = n*2-2\n",
    "#Increasing number\n",
    "while(i<=n):\n",
    "    j = 1\n",
    "    while(j<=i):\n",
    "        print(j,end='')\n",
    "        j=j+1\n",
    "#space\n",
    "    spc = 1\n",
    "    while(spc<=totalspc):\n",
    "        print(\" \",end='')\n",
    "        spc = spc+1\n",
    "    totalspc=totalspc-2\n",
    "#Decreasing number \n",
    "    j=i\n",
    "    while(j>0):\n",
    "        print(j,end='')\n",
    "        j=j-1\n",
    "\n",
    "    i = i+1\n",
    "    print()"
   ]
  },
  {
   "cell_type": "code",
   "execution_count": 7,
   "id": "b878833c",
   "metadata": {},
   "outputs": [
    {
     "name": "stdout",
     "output_type": "stream",
     "text": [
      "4\n",
      "*000*000*\n",
      "0*00*00*0\n",
      "00*0*0*00\n",
      "000***000\n"
     ]
    }
   ],
   "source": [
    "n=int(input())\n",
    "i=1\n",
    "while i<=n:\n",
    "    j=i-1\n",
    "    while j>0:\n",
    "        print(0,end='')\n",
    "        j=j-1\n",
    "    print(\"*\",end='')\n",
    "    k=1\n",
    "    while k<=n-i:\n",
    "        print(0,end='')\n",
    "        k=k+1\n",
    "    print(\"*\",end='')\n",
    "    k=1\n",
    "    while k<=n-i:\n",
    "        print(0,end='')\n",
    "        k=k+1\n",
    "    print(\"*\",end='')\n",
    "    l=i-1\n",
    "    while l>0:\n",
    "        print(0,end='')\n",
    "        l=l-1\n",
    "    i=i+1\n",
    "    print()"
   ]
  },
  {
   "cell_type": "code",
   "execution_count": null,
   "id": "a3b81e79",
   "metadata": {},
   "outputs": [],
   "source": []
  }
 ],
 "metadata": {
  "kernelspec": {
   "display_name": "Python 3 (ipykernel)",
   "language": "python",
   "name": "python3"
  },
  "language_info": {
   "codemirror_mode": {
    "name": "ipython",
    "version": 3
   },
   "file_extension": ".py",
   "mimetype": "text/x-python",
   "name": "python",
   "nbconvert_exporter": "python",
   "pygments_lexer": "ipython3",
   "version": "3.9.7"
  }
 },
 "nbformat": 4,
 "nbformat_minor": 5
}
