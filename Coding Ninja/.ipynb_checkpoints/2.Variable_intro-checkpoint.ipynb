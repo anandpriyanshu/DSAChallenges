{
 "cells": [
  {
   "cell_type": "code",
   "execution_count": 3,
   "id": "124f74a9",
   "metadata": {},
   "outputs": [
    {
     "name": "stdout",
     "output_type": "stream",
     "text": [
      "Helloworld\n",
      "Helloworld\n"
     ]
    },
    {
     "data": {
      "text/plain": [
       "30"
      ]
     },
     "execution_count": 3,
     "metadata": {},
     "output_type": "execute_result"
    }
   ],
   "source": [
    "print('Helloworld')\n",
    "print('Helloworld')\n",
    "30"
   ]
  },
  {
   "cell_type": "markdown",
   "id": "6e8d6152",
   "metadata": {},
   "source": [
    "### Variable"
   ]
  },
  {
   "cell_type": "code",
   "execution_count": 10,
   "id": "1ca3c4af",
   "metadata": {},
   "outputs": [
    {
     "name": "stdout",
     "output_type": "stream",
     "text": [
      "30\n",
      "sum\n",
      "20\n"
     ]
    }
   ],
   "source": [
    "a= 10\n",
    "b= 20\n",
    "\n",
    "sum = a+b\n",
    "print(sum)\n",
    "print('sum')\n",
    "abc = 20\n",
    "print(abc)"
   ]
  },
  {
   "cell_type": "markdown",
   "id": "97e1bb9b",
   "metadata": {},
   "source": [
    "### Variable naming"
   ]
  },
  {
   "cell_type": "code",
   "execution_count": 12,
   "id": "68885a3c",
   "metadata": {},
   "outputs": [],
   "source": [
    "abc1 = 45"
   ]
  },
  {
   "cell_type": "code",
   "execution_count": 16,
   "id": "80fe1639",
   "metadata": {},
   "outputs": [],
   "source": [
    "#1abc = 46        #Variables not start with numbers "
   ]
  },
  {
   "cell_type": "markdown",
   "id": "4d180778",
   "metadata": {},
   "source": [
    "### assigning  different type of data to  variable"
   ]
  },
  {
   "cell_type": "code",
   "execution_count": 21,
   "id": "816f15dd",
   "metadata": {},
   "outputs": [
    {
     "data": {
      "text/plain": [
       "'ihvcui'"
      ]
     },
     "execution_count": 21,
     "metadata": {},
     "output_type": "execute_result"
    }
   ],
   "source": [
    "a = 10\n",
    "a = 20\n",
    "a = 'ihvcui'\n",
    "a"
   ]
  },
  {
   "cell_type": "code",
   "execution_count": 28,
   "id": "6f5b884e",
   "metadata": {},
   "outputs": [
    {
     "name": "stdout",
     "output_type": "stream",
     "text": [
      "<class 'str'>\n",
      "<class 'int'>\n"
     ]
    }
   ],
   "source": [
    "a= 'sujhu'\n",
    "print(type(a))\n",
    "a = 10\n",
    "print(type(a))"
   ]
  },
  {
   "cell_type": "code",
   "execution_count": 29,
   "id": "e9eb1e8f",
   "metadata": {},
   "outputs": [
    {
     "name": "stdout",
     "output_type": "stream",
     "text": [
      "<class 'int'>\n",
      "<class 'int'>\n"
     ]
    }
   ],
   "source": [
    "a= 'sujhu'\n",
    "a = 10\n",
    "print(type(a))\n",
    "print(type(a))"
   ]
  },
  {
   "cell_type": "markdown",
   "id": "597cd016",
   "metadata": {},
   "source": [
    "### Python Numbers"
   ]
  },
  {
   "cell_type": "code",
   "execution_count": 30,
   "id": "8f8eb8cc",
   "metadata": {},
   "outputs": [
    {
     "name": "stdout",
     "output_type": "stream",
     "text": [
      "<class 'int'>\n",
      "<class 'float'>\n",
      "<class 'complex'>\n"
     ]
    }
   ],
   "source": [
    "a = 10\n",
    "b = 2.0\n",
    "c = 4+5j\n",
    "print(type(a))\n",
    "print(type(b))\n",
    "print(type(c))"
   ]
  },
  {
   "cell_type": "code",
   "execution_count": 39,
   "id": "c615b898",
   "metadata": {},
   "outputs": [
    {
     "name": "stdout",
     "output_type": "stream",
     "text": [
      "11\n"
     ]
    }
   ],
   "source": [
    "a = 10\n",
    "a = a+1     \n",
    "print(a)      #First of all a+1 is evaluated then after a is making store the address of another storage."
   ]
  },
  {
   "cell_type": "code",
   "execution_count": 40,
   "id": "91ae1a85",
   "metadata": {},
   "outputs": [
    {
     "name": "stdout",
     "output_type": "stream",
     "text": [
      "2655082080848\n",
      "2655082080880\n"
     ]
    }
   ],
   "source": [
    "a = 10\n",
    "print(id(a))\n",
    "a = a+1     \n",
    "print(id(a))        #id shows the unique number which is associated with the storage."
   ]
  },
  {
   "cell_type": "code",
   "execution_count": 41,
   "id": "891adc3a",
   "metadata": {},
   "outputs": [
    {
     "name": "stdout",
     "output_type": "stream",
     "text": [
      "2655082080848\n",
      "2655082080848\n"
     ]
    }
   ],
   "source": [
    "a = 10\n",
    "print(id(a))\n",
    "b = 10\n",
    "print(id(b))"
   ]
  },
  {
   "cell_type": "code",
   "execution_count": 38,
   "id": "caba8e85",
   "metadata": {},
   "outputs": [
    {
     "name": "stdout",
     "output_type": "stream",
     "text": [
      "2655162837488\n",
      "2655162836720\n"
     ]
    }
   ],
   "source": [
    "a = 1000\n",
    "print(id(a))\n",
    "b = 1000\n",
    "print(id(b))            #id gives unique number only within the range of (-5 to 256)"
   ]
  },
  {
   "cell_type": "code",
   "execution_count": 42,
   "id": "1bb786df",
   "metadata": {},
   "outputs": [
    {
     "data": {
      "text/plain": [
       "2655082080912"
      ]
     },
     "execution_count": 42,
     "metadata": {},
     "output_type": "execute_result"
    }
   ],
   "source": [
    "a = 12\n",
    "id(a)"
   ]
  },
  {
   "cell_type": "code",
   "execution_count": 43,
   "id": "a8962d53",
   "metadata": {},
   "outputs": [],
   "source": [
    "#Python has no limitation to store a large amount of integer rather than Java/C++"
   ]
  },
  {
   "cell_type": "markdown",
   "id": "4e49db26",
   "metadata": {},
   "source": [
    "### Python numbers"
   ]
  },
  {
   "cell_type": "code",
   "execution_count": 45,
   "id": "3f227b8c",
   "metadata": {},
   "outputs": [
    {
     "name": "stdout",
     "output_type": "stream",
     "text": [
      "14\n",
      "6\n"
     ]
    }
   ],
   "source": [
    "a = 10\n",
    "b = 4\n",
    "print(a+b)\n",
    "print(a-b)"
   ]
  },
  {
   "cell_type": "code",
   "execution_count": 46,
   "id": "cfceff5c",
   "metadata": {},
   "outputs": [
    {
     "data": {
      "text/plain": [
       "2.5"
      ]
     },
     "execution_count": 46,
     "metadata": {},
     "output_type": "execute_result"
    }
   ],
   "source": [
    "a / b #floating point division"
   ]
  },
  {
   "cell_type": "code",
   "execution_count": 47,
   "id": "d44ecfbd",
   "metadata": {},
   "outputs": [
    {
     "data": {
      "text/plain": [
       "2"
      ]
     },
     "execution_count": 47,
     "metadata": {},
     "output_type": "execute_result"
    }
   ],
   "source": [
    "a // b #integer division"
   ]
  },
  {
   "cell_type": "code",
   "execution_count": 49,
   "id": "1b62e1fb",
   "metadata": {},
   "outputs": [
    {
     "data": {
      "text/plain": [
       "10000"
      ]
     },
     "execution_count": 49,
     "metadata": {},
     "output_type": "execute_result"
    }
   ],
   "source": [
    "a**b   #exponantiation"
   ]
  },
  {
   "cell_type": "code",
   "execution_count": 50,
   "id": "d32bfa83",
   "metadata": {},
   "outputs": [
    {
     "data": {
      "text/plain": [
       "14"
      ]
     },
     "execution_count": 50,
     "metadata": {},
     "output_type": "execute_result"
    }
   ],
   "source": [
    "2 + 3 * 4"
   ]
  },
  {
   "cell_type": "code",
   "execution_count": 53,
   "id": "6a9a20d3",
   "metadata": {},
   "outputs": [
    {
     "data": {
      "text/plain": [
       "1.5"
      ]
     },
     "execution_count": 53,
     "metadata": {},
     "output_type": "execute_result"
    }
   ],
   "source": [
    "2 * 3 / 4 #doesn't matter what  operation is done first"
   ]
  },
  {
   "cell_type": "code",
   "execution_count": 55,
   "id": "8a1ba8ef",
   "metadata": {},
   "outputs": [
    {
     "data": {
      "text/plain": [
       "1"
      ]
     },
     "execution_count": 55,
     "metadata": {},
     "output_type": "execute_result"
    }
   ],
   "source": [
    "(2 * 3) // 4"
   ]
  },
  {
   "cell_type": "code",
   "execution_count": 58,
   "id": "47834c6b",
   "metadata": {},
   "outputs": [
    {
     "data": {
      "text/plain": [
       "24"
      ]
     },
     "execution_count": 58,
     "metadata": {},
     "output_type": "execute_result"
    }
   ],
   "source": [
    "#simple interest\n",
    "p = 100\n",
    "r = 12 \n",
    "t = 2\n",
    "si = p *r* t//100\n",
    "si"
   ]
  },
  {
   "cell_type": "code",
   "execution_count": 60,
   "id": "071aa07d",
   "metadata": {},
   "outputs": [
    {
     "data": {
      "text/plain": [
       "24"
      ]
     },
     "execution_count": 60,
     "metadata": {},
     "output_type": "execute_result"
    }
   ],
   "source": [
    "#simple interest to lower integer\n",
    "p = 100\n",
    "r = 12 \n",
    "t = 2\n",
    "#si = p *r* t//100     # not recommended\n",
    "#si =  t//100 * p* r  # not recommended\n",
    "si = (p * r * t)//100  # recommended\n",
    "si"
   ]
  },
  {
   "cell_type": "code",
   "execution_count": 65,
   "id": "080e409b",
   "metadata": {},
   "outputs": [
    {
     "name": "stdout",
     "output_type": "stream",
     "text": [
      "37.77777777777778\n",
      "37\n"
     ]
    }
   ],
   "source": [
    "#far to cel conversion\n",
    "f = 100\n",
    "c = (f - 32) * 5/9\n",
    "print(c)\n",
    "cin = (f - 32) * 5//9\n",
    "print(cin)"
   ]
  },
  {
   "cell_type": "markdown",
   "id": "232a4ccb",
   "metadata": {},
   "source": [
    "### Taking input"
   ]
  },
  {
   "cell_type": "code",
   "execution_count": 68,
   "id": "d6fec61f",
   "metadata": {},
   "outputs": [
    {
     "name": "stdout",
     "output_type": "stream",
     "text": [
      "12\n",
      "21\n",
      "<class 'str'>\n",
      "1221\n"
     ]
    }
   ],
   "source": [
    "a = input()\n",
    "b = input()\n",
    "print(type(a))\n",
    "s = a + b\n",
    "print(s)"
   ]
  },
  {
   "cell_type": "code",
   "execution_count": 70,
   "id": "624a88c9",
   "metadata": {},
   "outputs": [
    {
     "name": "stdout",
     "output_type": "stream",
     "text": [
      "12\n",
      "21\n",
      "<class 'int'>\n",
      "<class 'int'>\n",
      "33\n"
     ]
    }
   ],
   "source": [
    "a = int(input())\n",
    "b = int(input())\n",
    "print(type(a))\n",
    "print(type(b))\n",
    "s = a + b\n",
    "print(s)"
   ]
  },
  {
   "cell_type": "code",
   "execution_count": 76,
   "id": "6d28b9d9",
   "metadata": {},
   "outputs": [
    {
     "data": {
      "text/plain": [
       "float"
      ]
     },
     "execution_count": 76,
     "metadata": {},
     "output_type": "execute_result"
    }
   ],
   "source": [
    "m = '4.5'\n",
    "p =  float(m)\n",
    "type(p)"
   ]
  },
  {
   "cell_type": "markdown",
   "id": "7fef9201",
   "metadata": {},
   "source": [
    "### Assignment"
   ]
  },
  {
   "cell_type": "code",
   "execution_count": 1,
   "id": "d67358db",
   "metadata": {},
   "outputs": [
    {
     "name": "stdout",
     "output_type": "stream",
     "text": [
      "2\n",
      "3\n",
      "8\n"
     ]
    }
   ],
   "source": [
    "#Find X raised to power N\n",
    "X = int(input())\n",
    "N = int(input())\n",
    "raised_power = \tX**N\n",
    "print(raised_power)"
   ]
  },
  {
   "cell_type": "code",
   "execution_count": 2,
   "id": "a72cd960",
   "metadata": {},
   "outputs": [
    {
     "name": "stdout",
     "output_type": "stream",
     "text": [
      "2\n",
      "4\n",
      "6\n",
      "2\n"
     ]
    }
   ],
   "source": [
    "#Arithmetic Progression\n",
    "a = int(input())\n",
    "b = int(input())\n",
    "c = int(input())\n",
    "comm_diff = (b-a)\n",
    "print(comm_diff)"
   ]
  },
  {
   "cell_type": "code",
   "execution_count": 3,
   "id": "7245b1a7",
   "metadata": {},
   "outputs": [
    {
     "name": "stdout",
     "output_type": "stream",
     "text": [
      "1\n",
      "1\n",
      "3\n",
      "3\n",
      "4\n"
     ]
    }
   ],
   "source": [
    "#Rectangular Area\n",
    "x1 = int(input())\n",
    "y1 = int(input())\n",
    "x2 = int(input())\n",
    "y2 = int(input())\n",
    "area_rect = (x2-x1) * (y2-y1)\n",
    "print(area_rect)"
   ]
  },
  {
   "cell_type": "code",
   "execution_count": null,
   "id": "ae184621",
   "metadata": {},
   "outputs": [],
   "source": []
  }
 ],
 "metadata": {
  "kernelspec": {
   "display_name": "Python 3",
   "language": "python",
   "name": "python3"
  },
  "language_info": {
   "codemirror_mode": {
    "name": "ipython",
    "version": 3
   },
   "file_extension": ".py",
   "mimetype": "text/x-python",
   "name": "python",
   "nbconvert_exporter": "python",
   "pygments_lexer": "ipython3",
   "version": "3.8.8"
  }
 },
 "nbformat": 4,
 "nbformat_minor": 5
}
