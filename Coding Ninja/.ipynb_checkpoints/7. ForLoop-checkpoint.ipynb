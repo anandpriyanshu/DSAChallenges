{
 "cells": [
  {
   "cell_type": "code",
   "execution_count": 1,
   "id": "d99bf753",
   "metadata": {},
   "outputs": [
    {
     "name": "stdout",
     "output_type": "stream",
     "text": [
      "a\n",
      "b\n",
      "c\n",
      "d\n"
     ]
    }
   ],
   "source": [
    "s = 'abcd'\n",
    "for i in s:\n",
    "    print(i)"
   ]
  },
  {
   "cell_type": "code",
   "execution_count": 2,
   "id": "7607b060",
   "metadata": {},
   "outputs": [
    {
     "name": "stdout",
     "output_type": "stream",
     "text": [
      "4\n",
      "0\n",
      "1\n",
      "2\n",
      "3\n"
     ]
    }
   ],
   "source": [
    "# print num form 0 to n\n",
    "n = int(input())\n",
    "for i in range(0,n,1):\n",
    "    print(i)"
   ]
  },
  {
   "cell_type": "code",
   "execution_count": 9,
   "id": "119d3926",
   "metadata": {},
   "outputs": [
    {
     "name": "stdout",
     "output_type": "stream",
     "text": [
      "4\n",
      "1\n",
      "2\n",
      "3\n",
      "4\n"
     ]
    }
   ],
   "source": [
    "# print num form 0 to n\n",
    "#giving all three values to range\n",
    "n = int(input())\n",
    "for i in range(1,n+1,1):\n",
    "    print(i)"
   ]
  },
  {
   "cell_type": "code",
   "execution_count": 11,
   "id": "038d456d",
   "metadata": {},
   "outputs": [
    {
     "name": "stdout",
     "output_type": "stream",
     "text": [
      "4\n",
      "0\n",
      "1\n",
      "2\n",
      "3\n",
      "4\n"
     ]
    }
   ],
   "source": [
    "#only one value to range and it uses it as stop and by default 0 for start and 1 for step \n",
    "n = int(input())\n",
    "for i in range(n+1):\n",
    "    print(i) "
   ]
  },
  {
   "cell_type": "code",
   "execution_count": 14,
   "id": "948778cc",
   "metadata": {},
   "outputs": [
    {
     "name": "stdout",
     "output_type": "stream",
     "text": [
      "4\n",
      "1\n",
      "2\n",
      "3\n",
      "4\n"
     ]
    }
   ],
   "source": [
    "#only two values to range and it uses as first argument as start and second as stop and step is by default 1\n",
    "n = int(input())\n",
    "for i in range(1,n+1):          \n",
    "    print(i)                                                                                                        "
   ]
  },
  {
   "cell_type": "code",
   "execution_count": 17,
   "id": "ca0b8245",
   "metadata": {},
   "outputs": [
    {
     "name": "stdout",
     "output_type": "stream",
     "text": [
      "4\n",
      "4\n",
      "3\n",
      "2\n"
     ]
    }
   ],
   "source": [
    "# number from n to 1\n",
    "n = int(input())\n",
    "for i in range(n,1,-1):\n",
    "    print(i)"
   ]
  },
  {
   "cell_type": "code",
   "execution_count": 18,
   "id": "5ed3fa3e",
   "metadata": {},
   "outputs": [
    {
     "name": "stdout",
     "output_type": "stream",
     "text": [
      "4\n",
      "4\n",
      "3\n",
      "2\n",
      "1\n"
     ]
    }
   ],
   "source": [
    "n = int(input())\n",
    "for i in range(n,0,-1):\n",
    "    print(i)"
   ]
  },
  {
   "cell_type": "markdown",
   "id": "9bfe1749",
   "metadata": {},
   "source": [
    "### PrintMultiple3\n"
   ]
  },
  {
   "cell_type": "code",
   "execution_count": 21,
   "id": "719168d4",
   "metadata": {
    "scrolled": true
   },
   "outputs": [
    {
     "name": "stdout",
     "output_type": "stream",
     "text": [
      "3\n",
      "30\n",
      "3\n",
      "6\n",
      "9\n",
      "12\n",
      "15\n",
      "18\n",
      "21\n",
      "24\n",
      "27\n"
     ]
    }
   ],
   "source": [
    "#a<b\n",
    "a = int(input())\n",
    "b = int(input())\n",
    "for i in range(a,b,3):\n",
    "    print(i)"
   ]
  },
  {
   "cell_type": "code",
   "execution_count": 22,
   "id": "13f4ed7b",
   "metadata": {},
   "outputs": [
    {
     "name": "stdout",
     "output_type": "stream",
     "text": [
      "3\n",
      "30\n",
      "3\n",
      "6\n",
      "9\n",
      "12\n",
      "15\n",
      "18\n",
      "21\n",
      "24\n",
      "27\n",
      "30\n"
     ]
    }
   ],
   "source": [
    "#a<b\n",
    "a = int(input())\n",
    "b = int(input())\n",
    "for i in range(a,b+1,3):\n",
    "    print(i)"
   ]
  },
  {
   "cell_type": "code",
   "execution_count": 23,
   "id": "38f49c8f",
   "metadata": {},
   "outputs": [
    {
     "name": "stdout",
     "output_type": "stream",
     "text": [
      "3\n",
      "29\n",
      "3\n",
      "6\n",
      "9\n",
      "12\n",
      "15\n",
      "18\n",
      "21\n",
      "24\n",
      "27\n"
     ]
    }
   ],
   "source": [
    "#a<b\n",
    "a = int(input())\n",
    "b = int(input())\n",
    "for i in range(a,b+1,3):\n",
    "    print(i)"
   ]
  },
  {
   "cell_type": "code",
   "execution_count": 24,
   "id": "d761906c",
   "metadata": {},
   "outputs": [
    {
     "name": "stdout",
     "output_type": "stream",
     "text": [
      "1\n",
      "10\n",
      "1\n",
      "4\n",
      "7\n",
      "10\n"
     ]
    }
   ],
   "source": [
    "#a<b            This logic is not run prefectly\n",
    "a = int(input())\n",
    "b = int(input())\n",
    "for i in range(a,b+1,3):\n",
    "    print(i)"
   ]
  },
  {
   "cell_type": "code",
   "execution_count": 25,
   "id": "ee8f9771",
   "metadata": {},
   "outputs": [
    {
     "name": "stdout",
     "output_type": "stream",
     "text": [
      "1\n",
      "10\n",
      "3\n",
      "6\n",
      "9\n"
     ]
    }
   ],
   "source": [
    "a = int(input())\n",
    "b = int(input())\n",
    "for i in range(a,b+1,1):\n",
    "    if i%3==0:\n",
    "        print(i)"
   ]
  },
  {
   "cell_type": "code",
   "execution_count": 1,
   "id": "c5b36c62",
   "metadata": {},
   "outputs": [
    {
     "name": "stdout",
     "output_type": "stream",
     "text": [
      "3\n",
      "20\n",
      "3\n",
      "6\n",
      "9\n",
      "12\n",
      "15\n",
      "18\n"
     ]
    }
   ],
   "source": [
    "a = int(input())\n",
    "b = int(input())\n",
    "if a%3==0:\n",
    "    s = a\n",
    "elif a%3==1:\n",
    "    s = s+2\n",
    "else:\n",
    "    s = s+1\n",
    "for i in range(a,b+1,3):\n",
    "    print(i)\n",
    "    "
   ]
  },
  {
   "cell_type": "markdown",
   "id": "82f09a29",
   "metadata": {},
   "source": [
    "### IsPrime"
   ]
  },
  {
   "cell_type": "code",
   "execution_count": 2,
   "id": "14502625",
   "metadata": {},
   "outputs": [
    {
     "name": "stdout",
     "output_type": "stream",
     "text": [
      "9\n",
      "Not prime\n"
     ]
    }
   ],
   "source": [
    "n = int(input())\n",
    "flag = False\n",
    "for d in range(2,n,1):\n",
    "    flag = True\n",
    "if flag:\n",
    "    print('Not prime')\n",
    "else:\n",
    "    print('prime')"
   ]
  },
  {
   "cell_type": "raw",
   "id": "63f4b23f",
   "metadata": {},
   "source": [
    "      1\n",
    "     232\n",
    "    34543\n",
    "   4567564"
   ]
  },
  {
   "cell_type": "code",
   "execution_count": 6,
   "id": "f37b3b37",
   "metadata": {},
   "outputs": [
    {
     "name": "stdout",
     "output_type": "stream",
     "text": [
      "4\n",
      "   1\n",
      "  232\n",
      " 34543\n",
      "4567654\n"
     ]
    }
   ],
   "source": [
    "n = int(input())\n",
    "for i in range(1,n+1,1):\n",
    "    for s in range(n-i):           #space(n-i)\n",
    "        print(' ',end=\"\")\n",
    "    for j in range(i,2*i,1):       #i  to 2i-1\n",
    "        print(j,end=\"\")\n",
    "    for j in range(2*i-2,i-1,-1):  #2i-2 to i \n",
    "        print(j,end=\"\")\n",
    "    print()    "
   ]
  },
  {
   "cell_type": "raw",
   "id": "3f066b38",
   "metadata": {},
   "source": [
    "****\n",
    "***\n",
    "**\n",
    "*"
   ]
  },
  {
   "cell_type": "code",
   "execution_count": 19,
   "id": "6d7a1df7",
   "metadata": {},
   "outputs": [
    {
     "name": "stdout",
     "output_type": "stream",
     "text": [
      "4\n",
      "****\n",
      "***\n",
      "**\n",
      "*\n"
     ]
    }
   ],
   "source": [
    "n = int(input())\n",
    "for i in range(1,n+1,1):\n",
    "    for j in range(i,n+1,1):     # i to n\n",
    "        print('*',end=\"\")\n",
    "    print() "
   ]
  },
  {
   "cell_type": "raw",
   "id": "28c85ea3",
   "metadata": {},
   "source": [
    "   *\n",
    "  **\n",
    " ***\n",
    "****"
   ]
  },
  {
   "cell_type": "code",
   "execution_count": 17,
   "id": "9b539fd8",
   "metadata": {},
   "outputs": [
    {
     "name": "stdout",
     "output_type": "stream",
     "text": [
      "4\n",
      "   *\n",
      "  **\n",
      " ***\n",
      "****\n"
     ]
    }
   ],
   "source": [
    "n = int(input())\n",
    "for i in range(1,n+1):\n",
    "    for s in range(n-i):\n",
    "        print(' ',end = \"\")\n",
    "    for j in range(1,i+1):\n",
    "        print('*',end=\"\")\n",
    "    print()    "
   ]
  },
  {
   "cell_type": "raw",
   "id": "09afa8ef",
   "metadata": {},
   "source": [
    "   *\n",
    "  ***\n",
    " *****\n",
    "*******"
   ]
  },
  {
   "cell_type": "code",
   "execution_count": 33,
   "id": "d9b51f6c",
   "metadata": {},
   "outputs": [
    {
     "name": "stdout",
     "output_type": "stream",
     "text": [
      "5\n",
      "    *\n",
      "   ***\n",
      "  *****\n",
      " *******\n",
      "*********\n"
     ]
    }
   ],
   "source": [
    "n = int(input())\n",
    "for i in range(1,n+1,1):\n",
    "    for s in range(n-i):           #space(n-i)\n",
    "        print(' ',end=\"\")\n",
    "    for j in range(i,2*i,1):       #i  to 2i-1\n",
    "        print('*',end=\"\")\n",
    "    for j in range(2*i-2,i-1,-1):  #2i-2 to i \n",
    "        print('*',end=\"\")\n",
    "    print()"
   ]
  },
  {
   "cell_type": "raw",
   "id": "5283cc4b",
   "metadata": {},
   "source": [
    "  *\n",
    " ***\n",
    "*****"
   ]
  },
  {
   "cell_type": "code",
   "execution_count": 2,
   "id": "59760c97",
   "metadata": {},
   "outputs": [
    {
     "name": "stdout",
     "output_type": "stream",
     "text": [
      "5\n",
      "  *\n",
      " ***\n",
      "*****\n"
     ]
    }
   ],
   "source": [
    "n= int(input())\n",
    "n1 = (n+1)//2\n",
    "n2=n//2\n",
    "for i in range(1,n1+1,1):           # 1 to n\n",
    "    for s in range(n1-i):\n",
    "        print(' ',end=\"\")\n",
    "    for j in range(1,2*i,1):            # 1 to 2i-1\n",
    "        print('*',end=\"\")\n",
    "    print()"
   ]
  },
  {
   "cell_type": "markdown",
   "id": "28a307c3",
   "metadata": {},
   "source": [
    "   1\n",
    "  12\n",
    " 123\n",
    "1234"
   ]
  },
  {
   "cell_type": "code",
   "execution_count": 22,
   "id": "43787df7",
   "metadata": {},
   "outputs": [
    {
     "name": "stdout",
     "output_type": "stream",
     "text": [
      "4\n",
      "   1\n",
      "  12\n",
      " 123\n",
      "1234\n"
     ]
    }
   ],
   "source": [
    "n = int(input())\n",
    "for i in range(1,n+1,1):\n",
    "    for s in range(n-i):\n",
    "        print(' ',end=\"\")\n",
    "    for j in range(1,i+1):\n",
    "        print(j,end=\"\")\n",
    "    print() "
   ]
  },
  {
   "cell_type": "raw",
   "id": "dc0a32b6",
   "metadata": {},
   "source": [
    "   1\n",
    "  23\n",
    " 345\n",
    "4567"
   ]
  },
  {
   "cell_type": "code",
   "execution_count": 24,
   "id": "23b82601",
   "metadata": {},
   "outputs": [
    {
     "name": "stdout",
     "output_type": "stream",
     "text": [
      "4\n",
      "   1\n",
      "  23\n",
      " 345\n",
      "4567\n"
     ]
    }
   ],
   "source": [
    "n = int(input())\n",
    "for i in range(1,n+1,1):\n",
    "    for s in range(n-i):\n",
    "        print(' ',end=\"\")\n",
    "    for j in range(i,2*i,1):\n",
    "        print(j,end=\"\")\n",
    "    print()  "
   ]
  },
  {
   "cell_type": "code",
   "execution_count": 13,
   "id": "cae041b8",
   "metadata": {},
   "outputs": [
    {
     "name": "stdout",
     "output_type": "stream",
     "text": [
      "4\n",
      "1\n",
      "12\n",
      "123\n",
      "1234\n"
     ]
    }
   ],
   "source": [
    "n = int(input())\n",
    "for i in range(1,n+1,1):       # i to n\n",
    "    for j in range(1,i+1,1):   # 1 to i\n",
    "        print(j,end=\"\")\n",
    "    print()   "
   ]
  },
  {
   "cell_type": "code",
   "execution_count": 14,
   "id": "e307c89f",
   "metadata": {},
   "outputs": [
    {
     "name": "stdout",
     "output_type": "stream",
     "text": [
      "4\n",
      "1234\n",
      "234\n",
      "34\n",
      "4\n"
     ]
    }
   ],
   "source": [
    "n = int(input())\n",
    "for i in range(1,n+1,1):\n",
    "    \n",
    "    for j in range(i,n+1,1):     # i to n\n",
    "        print(j,end=\"\")\n",
    "    print()  "
   ]
  },
  {
   "cell_type": "code",
   "execution_count": 15,
   "id": "d8bdc86e",
   "metadata": {},
   "outputs": [
    {
     "name": "stdout",
     "output_type": "stream",
     "text": [
      "4\n",
      "1234\n",
      "1234\n",
      "1234\n",
      "1234\n"
     ]
    }
   ],
   "source": [
    "n = int(input())\n",
    "for i in range(1,n+1,1):\n",
    "    for j in range(1,n+1,1):    #1 to n\n",
    "        print(j,end=\"\")\n",
    "    print() "
   ]
  },
  {
   "cell_type": "raw",
   "id": "5610a30d",
   "metadata": {},
   "source": [
    "1234\n",
    " 234\n",
    "  34\n",
    "   4"
   ]
  },
  {
   "cell_type": "code",
   "execution_count": 28,
   "id": "dd78b795",
   "metadata": {},
   "outputs": [
    {
     "name": "stdout",
     "output_type": "stream",
     "text": [
      "4\n",
      "1234\n",
      " 234\n",
      "  34\n",
      "   4\n"
     ]
    }
   ],
   "source": [
    "n = int(input())\n",
    "for i in range(1,n+1,1):\n",
    "    for s in range(i-1):     #space=i-1\n",
    "        print(' ',end=\"\")\n",
    "    for j in range(i,n+1,1):\n",
    "        print(j,end=\"\")\n",
    "    print() "
   ]
  },
  {
   "cell_type": "code",
   "execution_count": 16,
   "id": "cbb2961d",
   "metadata": {},
   "outputs": [
    {
     "name": "stdout",
     "output_type": "stream",
     "text": [
      "4\n",
      "   1\n",
      "  12\n",
      " 123\n",
      "1234\n"
     ]
    }
   ],
   "source": [
    "n = int(input())\n",
    "for i in range(1,n+1):\n",
    "    for s in range(n-i):\n",
    "        print(' ',end = \"\")\n",
    "    for j in range(1,i+1):    #1 to i\n",
    "        print(j,end=\"\")\n",
    "    print()"
   ]
  },
  {
   "cell_type": "code",
   "execution_count": 18,
   "id": "4c19a98f",
   "metadata": {},
   "outputs": [
    {
     "name": "stdout",
     "output_type": "stream",
     "text": [
      "4\n",
      "1\n",
      "23\n",
      "345\n",
      "4567\n"
     ]
    }
   ],
   "source": [
    "n = int(input())\n",
    "for i in range(1,n+1):\n",
    "    for j in range(i,2*i):   # i to 2i-1\n",
    "        print(j,end='')\n",
    "    print() "
   ]
  },
  {
   "cell_type": "code",
   "execution_count": 20,
   "id": "ecb8a528",
   "metadata": {},
   "outputs": [
    {
     "name": "stdout",
     "output_type": "stream",
     "text": [
      "4\n",
      "4321\n",
      "4321\n",
      "4321\n",
      "4321\n"
     ]
    }
   ],
   "source": [
    "n = int(input())\n",
    "for i in range(1,n+1,1):\n",
    "    for j in range(n,0,-1):     # i to n\n",
    "        print(j,end=\"\")\n",
    "    print() "
   ]
  },
  {
   "cell_type": "code",
   "execution_count": 21,
   "id": "d245b965",
   "metadata": {},
   "outputs": [
    {
     "name": "stdout",
     "output_type": "stream",
     "text": [
      "4\n",
      "4321\n",
      "432\n",
      "43\n",
      "4\n"
     ]
    }
   ],
   "source": [
    "n = int(input())\n",
    "for i in range(1,n+1,1):\n",
    "    for j in range(n,i-1,-1):     # n to i\n",
    "        print(j,end=\"\")\n",
    "    print() "
   ]
  },
  {
   "cell_type": "raw",
   "id": "5b19b6dd",
   "metadata": {},
   "source": [
    "12345\n",
    " 2345\n",
    "  345\n",
    "   45\n",
    "    5"
   ]
  },
  {
   "cell_type": "code",
   "execution_count": 30,
   "id": "ccfe22e3",
   "metadata": {},
   "outputs": [
    {
     "name": "stdout",
     "output_type": "stream",
     "text": [
      "5\n",
      "12345\n",
      " 2345\n",
      "  345\n",
      "   45\n",
      "    5\n"
     ]
    }
   ],
   "source": [
    "n = int(input())\n",
    "for i in range(1,n+1,1):\n",
    "    for s in range(i-1):\n",
    "        print(' ',end=\"\")\n",
    "    for j in range(i,n+1,1):\n",
    "        print(j,end=\"\")\n",
    "    print()"
   ]
  },
  {
   "cell_type": "markdown",
   "id": "410faac5",
   "metadata": {},
   "source": [
    "### Elsefor/whileLoop"
   ]
  },
  {
   "cell_type": "code",
   "execution_count": 22,
   "id": "d6e1807f",
   "metadata": {},
   "outputs": [
    {
     "name": "stdout",
     "output_type": "stream",
     "text": [
      "10\n",
      "1\n",
      "2\n",
      "3\n",
      "4\n",
      "5\n",
      "6\n",
      "7\n",
      "8\n",
      "9\n",
      "This will be printed once at the end\n"
     ]
    }
   ],
   "source": [
    "n = int(input())\n",
    "i = 1\n",
    "while i<n:\n",
    "    print(i)\n",
    "    i = i+1\n",
    "else:\n",
    "    print('This will be printed once at the end')"
   ]
  },
  {
   "cell_type": "code",
   "execution_count": null,
   "id": "a9cf5fb5",
   "metadata": {},
   "outputs": [],
   "source": [
    "n = int(input())\n",
    "for i in range(1,n):\n",
    "    print(i)\n",
    "else:\n",
    "    print('This will be printed once at the end')\n",
    "    "
   ]
  },
  {
   "cell_type": "code",
   "execution_count": 31,
   "id": "fa427538",
   "metadata": {},
   "outputs": [
    {
     "name": "stdout",
     "output_type": "stream",
     "text": [
      "10\n",
      "1\n",
      "2\n",
      "3\n",
      "4\n",
      "5\n",
      "6\n",
      "7\n",
      "8\n",
      "9\n",
      "This will be printed once at the end\n"
     ]
    }
   ],
   "source": [
    "n = int(input())\n",
    "for i in range(1,n):\n",
    "    print(i)\n",
    "print('This will be printed once at the end')"
   ]
  },
  {
   "cell_type": "code",
   "execution_count": 39,
   "id": "f798c2bf",
   "metadata": {},
   "outputs": [],
   "source": [
    "#for i in range(1,10):\n",
    "#    if n==5:\n",
    "#        break\n",
    "#    print(i)\n",
    "#else:\n",
    "#    print('This will be printed once at the end')\n"
   ]
  },
  {
   "cell_type": "code",
   "execution_count": 42,
   "id": "9d887197",
   "metadata": {},
   "outputs": [
    {
     "name": "stdout",
     "output_type": "stream",
     "text": [
      "10\n"
     ]
    }
   ],
   "source": [
    "#if prime, print prime number or don't do anything\n",
    "#for loop terminated by break statement\n",
    "\n",
    "n = int(input())\n",
    "for d in range(2,n,1):\n",
    "    if n%d==0:\n",
    "        break\n",
    "else:\n",
    "    print('Prime number')   "
   ]
  },
  {
   "cell_type": "code",
   "execution_count": 43,
   "id": "0f1b437f",
   "metadata": {},
   "outputs": [
    {
     "name": "stdout",
     "output_type": "stream",
     "text": [
      "13\n",
      "Prime number\n"
     ]
    }
   ],
   "source": [
    "#for loop is completely executed don't go inside break statment\n",
    "\n",
    "n = int(input())\n",
    "for d in range(2,n,1):\n",
    "    if n%d==0:\n",
    "        break\n",
    "else:\n",
    "    print('Prime number')"
   ]
  },
  {
   "cell_type": "markdown",
   "id": "afceeec9",
   "metadata": {},
   "source": [
    "### Continue"
   ]
  },
  {
   "cell_type": "code",
   "execution_count": 49,
   "id": "558689da",
   "metadata": {},
   "outputs": [
    {
     "name": "stdout",
     "output_type": "stream",
     "text": [
      "100\n",
      "2\n",
      "4\n",
      "6\n",
      "8\n",
      "10\n",
      "12\n",
      "16\n",
      "18\n",
      "20\n",
      "22\n",
      "24\n",
      "26\n",
      "30\n",
      "32\n",
      "34\n",
      "36\n",
      "38\n",
      "40\n",
      "44\n",
      "46\n",
      "48\n",
      "50\n",
      "52\n",
      "54\n",
      "58\n",
      "60\n",
      "62\n",
      "64\n",
      "66\n",
      "68\n",
      "72\n",
      "74\n",
      "76\n",
      "78\n",
      "80\n",
      "82\n",
      "86\n",
      "88\n",
      "90\n",
      "92\n",
      "94\n",
      "96\n",
      "100\n"
     ]
    }
   ],
   "source": [
    "n = int(input())\n",
    "for i in range(2,n+1,2):\n",
    "    if i%7==0:          #skip the multiplication of 7\n",
    "        continue\n",
    "    print(i)"
   ]
  },
  {
   "cell_type": "code",
   "execution_count": 1,
   "id": "4180ced1",
   "metadata": {},
   "outputs": [
    {
     "name": "stdout",
     "output_type": "stream",
     "text": [
      "100\n",
      "2\n",
      "2\n",
      "4\n",
      "4\n",
      "6\n",
      "6\n",
      "8\n",
      "8\n",
      "10\n",
      "10\n",
      "12\n",
      "12\n",
      "14\n",
      "16\n",
      "16\n",
      "18\n",
      "18\n",
      "20\n",
      "20\n",
      "22\n",
      "22\n",
      "24\n",
      "24\n",
      "26\n",
      "26\n",
      "28\n",
      "30\n",
      "30\n",
      "32\n",
      "32\n",
      "34\n",
      "34\n",
      "36\n",
      "36\n",
      "38\n",
      "38\n",
      "40\n",
      "40\n",
      "42\n",
      "44\n",
      "44\n",
      "46\n",
      "46\n",
      "48\n",
      "48\n",
      "50\n",
      "50\n",
      "52\n",
      "52\n",
      "54\n",
      "54\n",
      "56\n",
      "58\n",
      "58\n",
      "60\n",
      "60\n",
      "62\n",
      "62\n",
      "64\n",
      "64\n",
      "66\n",
      "66\n",
      "68\n",
      "68\n",
      "70\n",
      "72\n",
      "72\n",
      "74\n",
      "74\n",
      "76\n",
      "76\n",
      "78\n",
      "78\n",
      "80\n",
      "80\n",
      "82\n",
      "82\n",
      "84\n",
      "86\n",
      "86\n",
      "88\n",
      "88\n",
      "90\n",
      "90\n",
      "92\n",
      "92\n",
      "94\n",
      "94\n",
      "96\n",
      "96\n",
      "98\n",
      "100\n",
      "100\n"
     ]
    }
   ],
   "source": [
    "n = int(input())\n",
    "for i in range(2,n+1,2):\n",
    "    print(i)\n",
    "    if i%7==0:          #skip the multiplication of 7\n",
    "        continue\n",
    "    print(i)"
   ]
  },
  {
   "cell_type": "code",
   "execution_count": 6,
   "id": "a6ef66e4",
   "metadata": {},
   "outputs": [
    {
     "name": "stdout",
     "output_type": "stream",
     "text": [
      "100\n",
      "2\n",
      "2\n",
      "4\n",
      "4\n",
      "6\n",
      "6\n",
      "8\n",
      "8\n",
      "10\n",
      "10\n",
      "12\n",
      "12\n",
      "14\n",
      "16\n",
      "16\n",
      "18\n",
      "18\n",
      "20\n",
      "20\n",
      "22\n",
      "22\n",
      "24\n",
      "24\n",
      "26\n",
      "26\n",
      "28\n",
      "30\n",
      "30\n",
      "32\n",
      "32\n",
      "34\n",
      "34\n",
      "36\n",
      "36\n",
      "38\n",
      "38\n",
      "40\n",
      "40\n",
      "42\n",
      "44\n",
      "44\n",
      "46\n",
      "46\n",
      "48\n",
      "48\n",
      "50\n",
      "50\n",
      "52\n",
      "52\n",
      "54\n",
      "54\n",
      "56\n",
      "58\n",
      "58\n",
      "60\n",
      "60\n",
      "62\n",
      "62\n",
      "64\n",
      "64\n",
      "66\n",
      "66\n",
      "68\n",
      "68\n",
      "70\n",
      "72\n",
      "72\n",
      "74\n",
      "74\n",
      "76\n",
      "76\n",
      "78\n",
      "78\n",
      "80\n",
      "80\n",
      "82\n",
      "82\n",
      "84\n",
      "86\n",
      "86\n",
      "88\n",
      "88\n",
      "90\n",
      "90\n",
      "92\n",
      "92\n",
      "94\n",
      "94\n",
      "96\n",
      "96\n",
      "98\n",
      "100\n",
      "100\n"
     ]
    }
   ],
   "source": [
    "# print multiplication pf 2, two times and multiplication of 7 one times\n",
    "n = int(input())\n",
    "for i in range(2,101,2):\n",
    "    print(i)\n",
    "    if i%7==0:\n",
    "        continue\n",
    "    print(i)"
   ]
  },
  {
   "cell_type": "code",
   "execution_count": 13,
   "id": "870be267",
   "metadata": {},
   "outputs": [
    {
     "name": "stdout",
     "output_type": "stream",
     "text": [
      "10\n",
      "2\n",
      "4\n",
      "6\n",
      "8\n",
      "10\n"
     ]
    }
   ],
   "source": [
    "n = int(input())\n",
    "i=2\n",
    "while i<=n:\n",
    "    if i%7==0:\n",
    "        continue\n",
    "    print(i)             #the problem is, in case of while loop i = i+2 is also skipped. In for loop increment\n",
    "                         #take care of but in case of while incrementing  in the number so got stuck basically skip the incementing part\n",
    "    i = i+2         "
   ]
  },
  {
   "cell_type": "code",
   "execution_count": 14,
   "id": "f402988d",
   "metadata": {},
   "outputs": [
    {
     "name": "stdout",
     "output_type": "stream",
     "text": [
      "100\n",
      "2\n",
      "4\n",
      "6\n",
      "8\n",
      "10\n",
      "12\n",
      "16\n",
      "18\n",
      "20\n",
      "22\n",
      "24\n",
      "26\n",
      "30\n",
      "32\n",
      "34\n",
      "36\n",
      "38\n",
      "40\n",
      "44\n",
      "46\n",
      "48\n",
      "50\n",
      "52\n",
      "54\n",
      "58\n",
      "60\n",
      "62\n",
      "64\n",
      "66\n",
      "68\n",
      "72\n",
      "74\n",
      "76\n",
      "78\n",
      "80\n",
      "82\n",
      "86\n",
      "88\n",
      "90\n",
      "92\n",
      "94\n",
      "96\n",
      "100\n"
     ]
    }
   ],
   "source": [
    "n = int(input())\n",
    "i=2\n",
    "while i<=n:\n",
    "    if i%7==0:\n",
    "        i = i+2\n",
    "        continue\n",
    "    print(i)             #the problem is, in case of while loop i = i+2 is also skipped. In for loop increment\n",
    "                         #take care of but in case of while incrementing  in the number so got stuck basically skip the incementing part\n",
    "    i = i+2  "
   ]
  },
  {
   "cell_type": "markdown",
   "id": "2f585eae",
   "metadata": {},
   "source": [
    "### Pass"
   ]
  },
  {
   "cell_type": "code",
   "execution_count": 17,
   "id": "fe0b3864",
   "metadata": {},
   "outputs": [
    {
     "name": "stdout",
     "output_type": "stream",
     "text": [
      "hey\n"
     ]
    }
   ],
   "source": [
    "a=12\n",
    "if a<20:\n",
    "    pass\n",
    "print('hey')   "
   ]
  },
  {
   "cell_type": "code",
   "execution_count": 18,
   "id": "8c1a3c18",
   "metadata": {},
   "outputs": [
    {
     "ename": "KeyboardInterrupt",
     "evalue": "",
     "output_type": "error",
     "traceback": [
      "\u001b[1;31m---------------------------------------------------------------------------\u001b[0m",
      "\u001b[1;31mKeyboardInterrupt\u001b[0m                         Traceback (most recent call last)",
      "\u001b[1;32mC:\\Users\\PRIYAN~1\\AppData\\Local\\Temp/ipykernel_8368/2193673820.py\u001b[0m in \u001b[0;36m<module>\u001b[1;34m\u001b[0m\n\u001b[0;32m      1\u001b[0m \u001b[0mi\u001b[0m \u001b[1;33m=\u001b[0m \u001b[1;36m1\u001b[0m\u001b[1;33m\u001b[0m\u001b[1;33m\u001b[0m\u001b[0m\n\u001b[0;32m      2\u001b[0m \u001b[1;32mwhile\u001b[0m \u001b[0mi\u001b[0m\u001b[1;33m<=\u001b[0m\u001b[1;36m3\u001b[0m\u001b[1;33m:\u001b[0m\u001b[1;33m\u001b[0m\u001b[1;33m\u001b[0m\u001b[0m\n\u001b[1;32m----> 3\u001b[1;33m     \u001b[1;32mpass\u001b[0m\u001b[1;33m\u001b[0m\u001b[1;33m\u001b[0m\u001b[0m\n\u001b[0m\u001b[0;32m      4\u001b[0m \u001b[0mprint\u001b[0m\u001b[1;33m(\u001b[0m\u001b[1;34m'hey'\u001b[0m\u001b[1;33m)\u001b[0m\u001b[1;33m\u001b[0m\u001b[1;33m\u001b[0m\u001b[0m\n",
      "\u001b[1;31mKeyboardInterrupt\u001b[0m: "
     ]
    }
   ],
   "source": [
    "i = 1\n",
    "while i<=3:\n",
    "    pass\n",
    "print('hey')       #infinite loop bcz we have not incremented"
   ]
  },
  {
   "cell_type": "code",
   "execution_count": 19,
   "id": "b340e129",
   "metadata": {},
   "outputs": [
    {
     "name": "stdout",
     "output_type": "stream",
     "text": [
      "hey\n"
     ]
    }
   ],
   "source": [
    "i = 1\n",
    "while i<=3:\n",
    "    pass\n",
    "    i = i+1\n",
    "print('hey')"
   ]
  },
  {
   "cell_type": "code",
   "execution_count": 21,
   "id": "f3f05fbb",
   "metadata": {},
   "outputs": [
    {
     "name": "stdout",
     "output_type": "stream",
     "text": [
      "hey\n"
     ]
    }
   ],
   "source": [
    "for i in range(1,4):\n",
    "    pass\n",
    "print('hey')\n"
   ]
  },
  {
   "cell_type": "markdown",
   "id": "cd268688",
   "metadata": {},
   "source": [
    "### Assignment"
   ]
  },
  {
   "cell_type": "markdown",
   "id": "591ece5e",
   "metadata": {},
   "source": [
    "### Binary Pattern\n"
   ]
  },
  {
   "cell_type": "raw",
   "id": "beee8615",
   "metadata": {},
   "source": [
    "1111\n",
    "000\n",
    "11\n",
    "0"
   ]
  },
  {
   "cell_type": "code",
   "execution_count": 25,
   "id": "66f8f3d4",
   "metadata": {},
   "outputs": [
    {
     "name": "stdout",
     "output_type": "stream",
     "text": [
      "4\n",
      "1111\n",
      "000\n",
      "11\n",
      "0\n"
     ]
    }
   ],
   "source": [
    "n = int(input())\n",
    "for i in range(1,n+1,1):\n",
    "    for j in range(i,n+1,1):\n",
    "        if i%2==0:\n",
    "            print('0',end=\"\")\n",
    "        else:\n",
    "            print('1',end=\"\")\n",
    "    print()        "
   ]
  },
  {
   "cell_type": "code",
   "execution_count": 3,
   "id": "d316ff33",
   "metadata": {},
   "outputs": [
    {
     "name": "stdout",
     "output_type": "stream",
     "text": [
      "6\n",
      "123456\n",
      " 23456\n",
      "  3456\n",
      "   456\n",
      "    56\n",
      "     6\n",
      "    56\n",
      "   456\n",
      "  3456\n",
      " 23456\n",
      "123456\n"
     ]
    }
   ],
   "source": [
    "n = int(input())\n",
    "for i in range(1,n+1,1):\n",
    "    for s in range(i-1):\n",
    "        print(' ',end=\"\")\n",
    "    for j in range(i,n+1,1):\n",
    "        print(j,end=\"\")\n",
    "    print() \n",
    "for i in range(n, 2*n - 1, 1):\n",
    "    for spaces in range(2*n-i-1, 1, -1):\n",
    "        print(\" \", end = '')\n",
    "    for k in range(2*n-i-1 ,n+1, 1):\n",
    "        print(k, end = '')    \n",
    "    print() \n"
   ]
  },
  {
   "cell_type": "code",
   "execution_count": 4,
   "id": "20dd6028",
   "metadata": {},
   "outputs": [
    {
     "name": "stdout",
     "output_type": "stream",
     "text": [
      "5\n",
      "  *\n",
      " ***\n",
      "*****\n",
      " ***\n",
      "  *\n"
     ]
    }
   ],
   "source": [
    "n =  int(input())\n",
    "n1=(n+1)//2\n",
    "n2=n//2\n",
    "for i in range(1,n1+1,1):\n",
    "    for sp in range(n1-i):\n",
    "        print(' ',end=\"\")\n",
    "    for st in range(1,2*i,1):\n",
    "        print('*',end=\"\")\n",
    "    print() \n",
    "for i in range(n2,0,-1):\n",
    "    for sp in range(n2-i+1):\n",
    "        print(' ',end=\"\")\n",
    "    for st in range(1,2*i,1):\n",
    "        print('*',end=\"\")\n",
    "    print()   "
   ]
  },
  {
   "cell_type": "code",
   "execution_count": null,
   "id": "6e8899d6",
   "metadata": {},
   "outputs": [],
   "source": []
  }
 ],
 "metadata": {
  "kernelspec": {
   "display_name": "Python 3 (ipykernel)",
   "language": "python",
   "name": "python3"
  },
  "language_info": {
   "codemirror_mode": {
    "name": "ipython",
    "version": 3
   },
   "file_extension": ".py",
   "mimetype": "text/x-python",
   "name": "python",
   "nbconvert_exporter": "python",
   "pygments_lexer": "ipython3",
   "version": "3.9.7"
  }
 },
 "nbformat": 4,
 "nbformat_minor": 5
}
