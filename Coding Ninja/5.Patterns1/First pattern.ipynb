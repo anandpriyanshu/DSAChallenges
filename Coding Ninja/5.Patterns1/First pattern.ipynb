{
 "cells": [
  {
   "cell_type": "markdown",
   "id": "17f8f0ec",
   "metadata": {},
   "source": [
    "### First pattern\n"
   ]
  },
  {
   "cell_type": "markdown",
   "id": "62c2ab43",
   "metadata": {},
   "source": [
    "****\n",
    "****\n",
    "****\n",
    "****"
   ]
  },
  {
   "cell_type": "code",
   "execution_count": 2,
   "id": "2938c1d5",
   "metadata": {},
   "outputs": [
    {
     "name": "stdout",
     "output_type": "stream",
     "text": [
      "4\n",
      "****\n",
      "****\n",
      "****\n",
      "****\n"
     ]
    }
   ],
   "source": [
    "n = int(input())\n",
    "i = 1\n",
    "while i<=n:\n",
    "    j = 1\n",
    "    while j<=n:\n",
    "        print('*', end='')   #print jth column\n",
    "        j = j+1\n",
    "    print()           #print newline\n",
    "    i = i+1"
   ]
  },
  {
   "cell_type": "code",
   "execution_count": 3,
   "id": "22ab79cc",
   "metadata": {},
   "outputs": [
    {
     "name": "stdout",
     "output_type": "stream",
     "text": [
      "4\n",
      "4444\n",
      "4444\n",
      "4444\n",
      "4444\n",
      "4444\n"
     ]
    }
   ],
   "source": [
    "N = int(input())\n",
    "i = 0\n",
    "while i<=N:\n",
    "    j = 1\n",
    "    while j<=N:\n",
    "        print((N),end='')\n",
    "        j = j+1\n",
    "    print()              #print newline\n",
    "    i = i+1"
   ]
  },
  {
   "cell_type": "markdown",
   "id": "1be33aad",
   "metadata": {},
   "source": [
    "### Squre pattern"
   ]
  },
  {
   "cell_type": "code",
   "execution_count": null,
   "id": "1dc11b8e",
   "metadata": {},
   "outputs": [],
   "source": [
    "1111\n",
    "2222\n",
    "3333\n",
    "4444"
   ]
  },
  {
   "cell_type": "code",
   "execution_count": 4,
   "id": "fb11259f",
   "metadata": {},
   "outputs": [
    {
     "name": "stdout",
     "output_type": "stream",
     "text": [
      "4\n",
      "1111\n",
      "2222\n",
      "3333\n",
      "4444\n"
     ]
    }
   ],
   "source": [
    "n = int(input())  #here column is same and row is different so print(i)\n",
    "i = 1\n",
    "while i<=n:\n",
    "    j = 1\n",
    "    while j<=n:\n",
    "        print(i,end='')\n",
    "        j = j +1\n",
    "    print()          #print newline\n",
    "    i = i + 1"
   ]
  },
  {
   "cell_type": "code",
   "execution_count": null,
   "id": "c56d4eac",
   "metadata": {},
   "outputs": [],
   "source": [
    "1234\n",
    "1234\n",
    "1234\n",
    "1234"
   ]
  },
  {
   "cell_type": "code",
   "execution_count": 5,
   "id": "e8f13fc3",
   "metadata": {},
   "outputs": [
    {
     "name": "stdout",
     "output_type": "stream",
     "text": [
      "4\n",
      "1234\n",
      "1234\n",
      "1234\n",
      "1234\n"
     ]
    }
   ],
   "source": [
    "n = int(input())  #here row is same and column is different so print(j)\n",
    "i = 1\n",
    "while i<=n:\n",
    "    j = 1\n",
    "    while j<=n:\n",
    "        print(j,end='')\n",
    "        j = j +1\n",
    "    print()              #print newline\n",
    "    i = i + 1"
   ]
  },
  {
   "cell_type": "markdown",
   "id": "630ec9b9",
   "metadata": {},
   "source": [
    "4321\n",
    "4321\n",
    "4321\n",
    "4321"
   ]
  },
  {
   "cell_type": "code",
   "execution_count": 2,
   "id": "7b8e8416",
   "metadata": {},
   "outputs": [
    {
     "name": "stdout",
     "output_type": "stream",
     "text": [
      "4\n",
      "4321\n",
      "4321\n",
      "4321\n",
      "4321\n"
     ]
    }
   ],
   "source": [
    "n = int(input())  \n",
    "i = 1\n",
    "while i<=n:\n",
    "    j = 1\n",
    "    while j<=n:\n",
    "        print(n-j+1,end='')\n",
    "        j = j+1\n",
    "    print()             #print newline\n",
    "    i = i+1"
   ]
  },
  {
   "cell_type": "markdown",
   "id": "d086a225",
   "metadata": {},
   "source": [
    "### Tringular pattern"
   ]
  },
  {
   "cell_type": "code",
   "execution_count": null,
   "id": "321860fb",
   "metadata": {},
   "outputs": [],
   "source": [
    "1\n",
    "12\n",
    "123\n",
    "1234"
   ]
  },
  {
   "cell_type": "code",
   "execution_count": 8,
   "id": "c7e69178",
   "metadata": {},
   "outputs": [
    {
     "name": "stdout",
     "output_type": "stream",
     "text": [
      "4\n",
      "1\n",
      "12\n",
      "123\n",
      "1234\n"
     ]
    }
   ],
   "source": [
    "n = int(input())\n",
    "i = 1\n",
    "while i<=n:\n",
    "    j = 1\n",
    "    while j<=i:          # ith row i column\n",
    "        print(j,end='')\n",
    "        j = j + 1\n",
    "    print()              #print newline\n",
    "    i = i + 1\n",
    "    "
   ]
  },
  {
   "cell_type": "code",
   "execution_count": null,
   "id": "64fee84b",
   "metadata": {},
   "outputs": [],
   "source": [
    "1\n",
    "23\n",
    "345\n",
    "4567"
   ]
  },
  {
   "cell_type": "code",
   "execution_count": 9,
   "id": "da6129b9",
   "metadata": {},
   "outputs": [
    {
     "name": "stdout",
     "output_type": "stream",
     "text": [
      "4\n",
      "1\n",
      "23\n",
      "345\n",
      "4567\n"
     ]
    }
   ],
   "source": [
    "int(input())\n",
    "i = 1\n",
    "while i<=n:\n",
    "    j = 1\n",
    "    k = i           # here k is in the loop so k is reset in each row\n",
    "    while j<=i:           # ith row i column\n",
    "        \n",
    "        print(k,end='') \n",
    "        j = j+1\n",
    "        k = k+1         \n",
    "    print()              # print newline\n",
    "    i = i + 1\n",
    "    "
   ]
  },
  {
   "cell_type": "raw",
   "id": "4c17bb98",
   "metadata": {},
   "source": [
    "1\n",
    "21\n",
    "321\n",
    "4321"
   ]
  },
  {
   "cell_type": "code",
   "execution_count": 23,
   "id": "399ec247",
   "metadata": {},
   "outputs": [
    {
     "name": "stdout",
     "output_type": "stream",
     "text": [
      "4\n",
      "1\n",
      "21\n",
      "321\n",
      "4321\n"
     ]
    }
   ],
   "source": [
    "int(input())\n",
    "i = 1\n",
    "while i<=n:\n",
    "    j = 1\n",
    "    k = i           # here k is in the loop so k is reset in each row\n",
    "    while j<=i:           # ith row i column\n",
    "        \n",
    "        print(k,end='') \n",
    "        j = j+1\n",
    "        k = k-1        \n",
    "    print()              # print newline\n",
    "    i = i + 1"
   ]
  },
  {
   "cell_type": "code",
   "execution_count": null,
   "id": "26d1de6b",
   "metadata": {},
   "outputs": [],
   "source": [
    "1\n",
    "23\n",
    "456\n",
    "78910"
   ]
  },
  {
   "cell_type": "code",
   "execution_count": 7,
   "id": "aa6f7928",
   "metadata": {},
   "outputs": [
    {
     "name": "stdout",
     "output_type": "stream",
     "text": [
      "3\n",
      "1\n",
      "23\n",
      "456\n"
     ]
    }
   ],
   "source": [
    "n = int(input())\n",
    "i = 1\n",
    "k = 1           #here k is out of loop so k is not reset in each row\n",
    "while i<=n:\n",
    "    j = 1\n",
    "    while j<=i:\n",
    "        print(k,end='')\n",
    "        k = k+1\n",
    "        j = j+1\n",
    "    print()\n",
    "    i = i+1\n",
    "    "
   ]
  },
  {
   "cell_type": "markdown",
   "id": "f92e51d8",
   "metadata": {},
   "source": [
    "### Character pattern"
   ]
  },
  {
   "cell_type": "code",
   "execution_count": 9,
   "id": "5ca2c009",
   "metadata": {},
   "outputs": [
    {
     "name": "stdout",
     "output_type": "stream",
     "text": [
      "4\n"
     ]
    },
    {
     "data": {
      "text/plain": [
       "'D'"
      ]
     },
     "execution_count": 9,
     "metadata": {},
     "output_type": "execute_result"
    }
   ],
   "source": [
    "#print kth term\n",
    "k = int(input())\n",
    "# 'A' + k -1\n",
    "x = ord('A')\n",
    "asciitrgt = x + k - 1\n",
    "trgtchrcter= chr(asciitrgt)\n",
    "trgtchrcter"
   ]
  },
  {
   "cell_type": "code",
   "execution_count": null,
   "id": "559fc5b3",
   "metadata": {},
   "outputs": [],
   "source": [
    "ABCD\n",
    "ABCD\n",
    "ABCD\n",
    "ABCD"
   ]
  },
  {
   "cell_type": "code",
   "execution_count": 10,
   "id": "f79a8711",
   "metadata": {},
   "outputs": [
    {
     "name": "stdout",
     "output_type": "stream",
     "text": [
      "4\n",
      "ABCD\n",
      "ABCD\n",
      "ABCD\n",
      "ABCD\n"
     ]
    }
   ],
   "source": [
    "n = int(input())\n",
    "i = 1\n",
    "while i<=n:\n",
    "    j = 1\n",
    "    while j<=n:\n",
    "        charp =  chr(ord('A') + j -1)    #print jth column\n",
    "        print(charp,end='')\n",
    "        j = j+1\n",
    "    print()\n",
    "    i = i+1"
   ]
  },
  {
   "cell_type": "code",
   "execution_count": null,
   "id": "9cf26827",
   "metadata": {},
   "outputs": [],
   "source": [
    "ABCD\n",
    "BCDE\n",
    "CDEF\n",
    "DEFG"
   ]
  },
  {
   "cell_type": "code",
   "execution_count": 1,
   "id": "2ccabfb5",
   "metadata": {},
   "outputs": [
    {
     "name": "stdout",
     "output_type": "stream",
     "text": [
      "4\n",
      "ABCD\n",
      "BCDE\n",
      "CDEF\n",
      "DEFG\n"
     ]
    }
   ],
   "source": [
    "n = int(input())\n",
    "i = 1\n",
    "while i<=n:\n",
    "    j = 1\n",
    "    star_char =  chr(ord('A') + i -1)   #ith row\n",
    "    while j<=n:\n",
    "         #print jth column\n",
    "        charp =  chr(ord(   star_char) + j -1)   \n",
    "        print(charp,end='')\n",
    "        j = j+1\n",
    "    print()\n",
    "    i = i+1"
   ]
  },
  {
   "cell_type": "code",
   "execution_count": null,
   "id": "3de35d94",
   "metadata": {},
   "outputs": [],
   "source": [
    "A\n",
    "BC\n",
    "CDE\n",
    "DEFG"
   ]
  },
  {
   "cell_type": "code",
   "execution_count": 17,
   "id": "dc717560",
   "metadata": {},
   "outputs": [
    {
     "name": "stdout",
     "output_type": "stream",
     "text": [
      "4\n",
      "A\n",
      "BC\n",
      "CDE\n",
      "DEFG\n"
     ]
    }
   ],
   "source": [
    "n = int(input())\n",
    "i = 1\n",
    "while i<=n:\n",
    "    j=1\n",
    "    start_char = chr(ord('A') + i - 1)\n",
    "    while j<=i:\n",
    "        charp = chr(ord(start_char) + j - 1)\n",
    "        print(charp,end='')\n",
    "        j = j+1\n",
    "    print()\n",
    "    i = i + 1"
   ]
  },
  {
   "cell_type": "code",
   "execution_count": null,
   "id": "4813a811",
   "metadata": {},
   "outputs": [],
   "source": [
    "A\n",
    "BC\n",
    "CDE\n",
    "DEFG"
   ]
  },
  {
   "cell_type": "code",
   "execution_count": 18,
   "id": "095aad89",
   "metadata": {},
   "outputs": [
    {
     "name": "stdout",
     "output_type": "stream",
     "text": [
      "5\n",
      "A\n",
      "BC\n",
      "CDE\n",
      "DEFG\n",
      "EFGHI\n"
     ]
    }
   ],
   "source": [
    "n = int(input())\n",
    "i = 1\n",
    "while i<=n:\n",
    "    j = 1\n",
    "    star_char =  chr(ord('A') + i -1)   #ith row\n",
    "    while j<=i:\n",
    "        charp =  chr(ord(   star_char) + j -1)    #print jth column\n",
    "        print(charp,end='')\n",
    "        j = j+1\n",
    "    print()\n",
    "    i = i+1"
   ]
  },
  {
   "cell_type": "code",
   "execution_count": 22,
   "id": "51ea200c",
   "metadata": {},
   "outputs": [
    {
     "name": "stdout",
     "output_type": "stream",
     "text": [
      "4\n",
      "A\n",
      "BB\n",
      "CCC\n",
      "DDDD\n"
     ]
    }
   ],
   "source": [
    "n = int(input())\n",
    "i = 1\n",
    "while i<=n:\n",
    "    j = 1\n",
    "    charp =  chr(ord('A') + i - 1)\n",
    "    while j<=i:\n",
    "       \n",
    "        print(charp,end='')\n",
    "        j = j+1\n",
    "    print()            \n",
    "    i = i+1"
   ]
  },
  {
   "cell_type": "markdown",
   "id": "33ccfd4b",
   "metadata": {},
   "source": [
    "### Assignment"
   ]
  },
  {
   "cell_type": "raw",
   "id": "8f080755",
   "metadata": {},
   "source": [
    "#Number Pattern 1\n",
    "1\n",
    "11\n",
    "111\n",
    "1111\n"
   ]
  },
  {
   "cell_type": "code",
   "execution_count": 1,
   "id": "4ba5d1fd",
   "metadata": {},
   "outputs": [
    {
     "name": "stdout",
     "output_type": "stream",
     "text": [
      "4\n",
      "1\n",
      "11\n",
      "111\n",
      "1111\n"
     ]
    }
   ],
   "source": [
    "n = int(input())\n",
    "i = 1\n",
    "while i<=n:\n",
    "    j=1\n",
    "    while j<=i:\n",
    "        \n",
    "        print(1,end=\"\")\n",
    "        j=j+1\n",
    "        \n",
    "    print()    \n",
    "    i = i+1"
   ]
  },
  {
   "cell_type": "raw",
   "id": "1842e31a",
   "metadata": {},
   "source": [
    "1234\n",
    "123\n",
    "12\n",
    "1"
   ]
  },
  {
   "cell_type": "code",
   "execution_count": 1,
   "id": "fb029deb",
   "metadata": {},
   "outputs": [
    {
     "name": "stdout",
     "output_type": "stream",
     "text": [
      "4\n",
      "1234\n",
      "123\n",
      "12\n",
      "1\n"
     ]
    }
   ],
   "source": [
    "n = int(input())\n",
    "i = 1\n",
    "while i<=n:\n",
    "    j = 1\n",
    "    while j<=n-i+1:\n",
    "        print(j,end='')\n",
    "        j = j+1\n",
    "    print()\n",
    "    i = i+1\n",
    "    "
   ]
  },
  {
   "cell_type": "raw",
   "id": "59dfee07",
   "metadata": {},
   "source": [
    "1\n",
    "11\n",
    "121\n",
    "1221"
   ]
  },
  {
   "cell_type": "code",
   "execution_count": 2,
   "id": "8655feb1",
   "metadata": {},
   "outputs": [
    {
     "name": "stdout",
     "output_type": "stream",
     "text": [
      "4\n",
      "1\n",
      "11\n",
      "121\n",
      "1221\n"
     ]
    }
   ],
   "source": [
    "#another method\n",
    "n=int(input())\n",
    "print(1)\n",
    "i=1\n",
    "while i<=n-1:\n",
    "    j=1\n",
    "    while j<=i+1:\n",
    "        if j==1 or j>=i+1:\n",
    "            print(1,end=\"\")\n",
    "        else:\n",
    "            print(2,end=\"\")\n",
    "        j= j+1\n",
    "    print()\n",
    "    i= i+1"
   ]
  },
  {
   "cell_type": "code",
   "execution_count": 7,
   "id": "f0f74674",
   "metadata": {},
   "outputs": [
    {
     "name": "stdout",
     "output_type": "stream",
     "text": [
      "4\n",
      "1\n",
      "11\n",
      "121\n",
      "1221\n"
     ]
    }
   ],
   "source": [
    "#first method\n",
    "n=int(input())\n",
    "i = 0           #start from i=0\n",
    "while i <n:\n",
    "    j = 0\n",
    "    while j <i+1:\n",
    "        if (j==0) or (j == i):    \n",
    "            print(1,end=\"\")\n",
    "        else:\n",
    "            print(2,end='')\n",
    "        j = j + 1\n",
    "    i = i + 1\n",
    "    print()\n",
    "    "
   ]
  },
  {
   "cell_type": "code",
   "execution_count": 1,
   "id": "32544ca6",
   "metadata": {},
   "outputs": [
    {
     "name": "stdout",
     "output_type": "stream",
     "text": [
      "4\n",
      "1\n",
      "11\n",
      "121\n",
      "1221\n"
     ]
    }
   ],
   "source": [
    "#second method\n",
    "n = int(input())\n",
    "i = 1                             #start from i==1\n",
    "while i<=n:\n",
    "    j = 1\n",
    "    while j<=i:\n",
    "        if j==1 or j==i:\n",
    "            print(1,end=\"\")\n",
    "        else:\n",
    "            print(2,end=\"\")\n",
    "        j = j+1\n",
    "    print()    \n",
    "    i = i+1"
   ]
  },
  {
   "cell_type": "code",
   "execution_count": null,
   "id": "5acefbb4",
   "metadata": {},
   "outputs": [],
   "source": [
    "\n",
    "4\n",
    "1\n",
    "11\n",
    "202\n",
    "3003"
   ]
  },
  {
   "cell_type": "code",
   "execution_count": 2,
   "id": "79cef304",
   "metadata": {},
   "outputs": [
    {
     "name": "stdout",
     "output_type": "stream",
     "text": [
      "4\n",
      "1\n",
      "11\n",
      "202\n",
      "3003\n"
     ]
    }
   ],
   "source": [
    "n = int(input())\n",
    "print(1)\n",
    "i = 1\n",
    "while i<=n-1:\n",
    "    j = 1\n",
    "    while j<=i+1:\n",
    "        if j==1 or j>=i+1:\n",
    "            print(i,end='')\n",
    "        else:\n",
    "            print(0,end='')\n",
    "        j = j+1\n",
    "    print()\n",
    "    i=i+1 "
   ]
  },
  {
   "cell_type": "markdown",
   "id": "33a9e5f8",
   "metadata": {},
   "source": [
    "A\n",
    "BC\n",
    "CDE\n",
    "DEFG"
   ]
  },
  {
   "cell_type": "code",
   "execution_count": 1,
   "id": "aee23ea3",
   "metadata": {},
   "outputs": [
    {
     "name": "stdout",
     "output_type": "stream",
     "text": [
      "4\n",
      "A\n",
      "BC\n",
      "CDE\n",
      "DEFG\n"
     ]
    }
   ],
   "source": [
    "n = int(input())\n",
    "i = 1\n",
    "while i<=n:\n",
    "    j=1\n",
    "    start_char = chr(ord('A') + i - 1)\n",
    "    while j<=i:\n",
    "        charp = chr(ord(start_char) + j - 1)\n",
    "        print(charp,end='')\n",
    "        j = j+1\n",
    "    print()\n",
    "    i = i + 1"
   ]
  },
  {
   "cell_type": "markdown",
   "id": "87be873b",
   "metadata": {},
   "source": [
    "D\n",
    "CD\n",
    "BCD\n",
    "ABCD"
   ]
  },
  {
   "cell_type": "code",
   "execution_count": 2,
   "id": "54964afb",
   "metadata": {},
   "outputs": [
    {
     "name": "stdout",
     "output_type": "stream",
     "text": [
      "4\n",
      "D\n",
      "CD\n",
      "BCD\n",
      "ABCD\n"
     ]
    }
   ],
   "source": [
    "n=int(input())\n",
    "i=1\n",
    "while i<=n:\n",
    "    j=1\n",
    "    startChar=chr(ord('A')+n-i)        #bottom t\n",
    "    while j<=i:\n",
    "        charP=chr(ord(startChar)+j-1)\n",
    "        print(charP,end='')\n",
    "        j=j+1\n",
    "    print()\n",
    "    i=i+1\n",
    "    "
   ]
  },
  {
   "cell_type": "markdown",
   "id": "01bb50ba",
   "metadata": {},
   "source": [
    "A\n",
    "BB\n",
    "CCC\n",
    "DDDD"
   ]
  },
  {
   "cell_type": "code",
   "execution_count": 3,
   "id": "a2fa6f0f",
   "metadata": {},
   "outputs": [
    {
     "name": "stdout",
     "output_type": "stream",
     "text": [
      "4\n",
      "A\n",
      "BB\n",
      "CCC\n",
      "DDDD\n"
     ]
    }
   ],
   "source": [
    "n = int(input())\n",
    "i = 1\n",
    "while i<=n:\n",
    "    j = 1\n",
    "    while j<=i:\n",
    "        charp =  chr(ord('A') +i  - 1)\n",
    "        print(charp,end='')\n",
    "        j = j+1\n",
    "    print()            \n",
    "    i = i+1"
   ]
  },
  {
   "cell_type": "code",
   "execution_count": null,
   "id": "e00f6f5b",
   "metadata": {},
   "outputs": [],
   "source": [
    "4321\n",
    "432\n",
    "43\n",
    "4"
   ]
  },
  {
   "cell_type": "code",
   "execution_count": 2,
   "id": "8ae24309",
   "metadata": {},
   "outputs": [
    {
     "name": "stdout",
     "output_type": "stream",
     "text": [
      "4\n",
      "4321\n",
      "432\n",
      "43\n",
      "4\n"
     ]
    }
   ],
   "source": [
    "n = int(input())\n",
    "i = 1\n",
    "while i<=n:\n",
    "    j = 1\n",
    "    while j<=n-i+1:\n",
    "        print(n-j+1,end='')\n",
    "        j = j+1\n",
    "    print()\n",
    "    i = i+1"
   ]
  },
  {
   "cell_type": "code",
   "execution_count": null,
   "id": "0379ae9e",
   "metadata": {},
   "outputs": [],
   "source": []
  }
 ],
 "metadata": {
  "kernelspec": {
   "display_name": "Python 3 (ipykernel)",
   "language": "python",
   "name": "python3"
  },
  "language_info": {
   "codemirror_mode": {
    "name": "ipython",
    "version": 3
   },
   "file_extension": ".py",
   "mimetype": "text/x-python",
   "name": "python",
   "nbconvert_exporter": "python",
   "pygments_lexer": "ipython3",
   "version": "3.9.7"
  }
 },
 "nbformat": 4,
 "nbformat_minor": 5
}
