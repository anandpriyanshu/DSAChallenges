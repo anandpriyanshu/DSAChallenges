{
 "cells": [
  {
   "cell_type": "code",
   "execution_count": 1,
   "id": "b4ed7e1f",
   "metadata": {},
   "outputs": [],
   "source": [
    "def sum(a,b):\n",
    "    return a+b"
   ]
  },
  {
   "cell_type": "code",
   "execution_count": 2,
   "id": "788ca4cd",
   "metadata": {},
   "outputs": [
    {
     "data": {
      "text/plain": [
       "4"
      ]
     },
     "execution_count": 2,
     "metadata": {},
     "output_type": "execute_result"
    }
   ],
   "source": [
    "sum(1,3)"
   ]
  },
  {
   "cell_type": "code",
   "execution_count": 3,
   "id": "1b5da243",
   "metadata": {},
   "outputs": [],
   "source": [
    "def sum(a,b,c=0,d=0,e=0):\n",
    "    return a+b+c+d+e"
   ]
  },
  {
   "cell_type": "code",
   "execution_count": 4,
   "id": "2718fedb",
   "metadata": {},
   "outputs": [
    {
     "data": {
      "text/plain": [
       "15"
      ]
     },
     "execution_count": 4,
     "metadata": {},
     "output_type": "execute_result"
    }
   ],
   "source": [
    "sum(1,2,3,4,5)"
   ]
  },
  {
   "cell_type": "code",
   "execution_count": 5,
   "id": "a69e2c9c",
   "metadata": {},
   "outputs": [],
   "source": [
    "def sum2(a,b,*more):\n",
    "    print(a)\n",
    "    print(b)\n",
    "    print(more)"
   ]
  },
  {
   "cell_type": "code",
   "execution_count": 6,
   "id": "6d848e8e",
   "metadata": {},
   "outputs": [
    {
     "name": "stdout",
     "output_type": "stream",
     "text": [
      "2\n",
      "3\n",
      "()\n"
     ]
    }
   ],
   "source": [
    "sum2(2,3)"
   ]
  },
  {
   "cell_type": "code",
   "execution_count": 8,
   "id": "a2194dab",
   "metadata": {},
   "outputs": [
    {
     "ename": "TypeError",
     "evalue": "sum2() missing 1 required positional argument: 'b'",
     "output_type": "error",
     "traceback": [
      "\u001b[1;31m---------------------------------------------------------------------------\u001b[0m",
      "\u001b[1;31mTypeError\u001b[0m                                 Traceback (most recent call last)",
      "\u001b[1;32mC:\\Users\\PRIYAN~1\\AppData\\Local\\Temp/ipykernel_13020/2400649061.py\u001b[0m in \u001b[0;36m<module>\u001b[1;34m\u001b[0m\n\u001b[1;32m----> 1\u001b[1;33m \u001b[0msum2\u001b[0m\u001b[1;33m(\u001b[0m\u001b[1;36m2\u001b[0m\u001b[1;33m)\u001b[0m\u001b[1;33m\u001b[0m\u001b[1;33m\u001b[0m\u001b[0m\n\u001b[0m",
      "\u001b[1;31mTypeError\u001b[0m: sum2() missing 1 required positional argument: 'b'"
     ]
    }
   ],
   "source": [
    "sum2(2)"
   ]
  },
  {
   "cell_type": "code",
   "execution_count": 9,
   "id": "d7b480d4",
   "metadata": {},
   "outputs": [
    {
     "name": "stdout",
     "output_type": "stream",
     "text": [
      "2\n",
      "3\n",
      "(4, 5)\n"
     ]
    }
   ],
   "source": [
    "sum2(2,3,4,5)"
   ]
  },
  {
   "cell_type": "code",
   "execution_count": 13,
   "id": "949c478d",
   "metadata": {},
   "outputs": [],
   "source": [
    "def sum2(a,b,*more):\n",
    "    print(a)\n",
    "    print(b)\n",
    "    print(type(more))\n",
    "    "
   ]
  },
  {
   "cell_type": "code",
   "execution_count": 15,
   "id": "77709e8c",
   "metadata": {},
   "outputs": [
    {
     "name": "stdout",
     "output_type": "stream",
     "text": [
      "2\n",
      "3\n",
      "<class 'tuple'>\n"
     ]
    }
   ],
   "source": [
    "sum2(2,3,4,5)"
   ]
  },
  {
   "cell_type": "code",
   "execution_count": 16,
   "id": "fc274dac",
   "metadata": {},
   "outputs": [],
   "source": [
    "def sum2(a,b,*more):\n",
    "    print(a)\n",
    "    print(b)\n",
    "    print(type(more))\n",
    "    ans =a+b\n",
    "    for i in more:\n",
    "        ans = ans+i\n",
    "    return ans"
   ]
  },
  {
   "cell_type": "code",
   "execution_count": 17,
   "id": "0784439a",
   "metadata": {},
   "outputs": [
    {
     "name": "stdout",
     "output_type": "stream",
     "text": [
      "2\n",
      "3\n",
      "<class 'tuple'>\n"
     ]
    },
    {
     "data": {
      "text/plain": [
       "14"
      ]
     },
     "execution_count": 17,
     "metadata": {},
     "output_type": "execute_result"
    }
   ],
   "source": [
    "sum2(2,3,4,5)"
   ]
  },
  {
   "cell_type": "code",
   "execution_count": 1,
   "id": "22689c6c",
   "metadata": {},
   "outputs": [],
   "source": [
    "def sum_diff(a,b):\n",
    "    return a+b, a-b, a*b"
   ]
  },
  {
   "cell_type": "code",
   "execution_count": 2,
   "id": "5319623e",
   "metadata": {},
   "outputs": [],
   "source": [
    "c = sum_diff(4,1)"
   ]
  },
  {
   "cell_type": "code",
   "execution_count": 24,
   "id": "0e23d6f1",
   "metadata": {},
   "outputs": [
    {
     "name": "stdout",
     "output_type": "stream",
     "text": [
      "(5, 3, 4)\n"
     ]
    }
   ],
   "source": [
    "d = sum_diff(4,1)\n",
    "print(d)\n"
   ]
  },
  {
   "cell_type": "code",
   "execution_count": 25,
   "id": "08e51aef",
   "metadata": {},
   "outputs": [
    {
     "name": "stdout",
     "output_type": "stream",
     "text": [
      "120\n"
     ]
    }
   ],
   "source": [
    "def multiply(a,b,c,*more):\n",
    "    value = a*b*c\n",
    "    for i in more:\n",
    "        value = value * i\n",
    "    return value\n",
    "V = multiply(1,2,3,4,5)\n",
    "print(V)"
   ]
  },
  {
   "cell_type": "code",
   "execution_count": 26,
   "id": "774c942c",
   "metadata": {},
   "outputs": [
    {
     "name": "stdout",
     "output_type": "stream",
     "text": [
      "(9, 24)\n"
     ]
    }
   ],
   "source": [
    "def sum_multiply(a,b,*more):\n",
    "    sum_value = a+b\n",
    "    m_value = a*b\n",
    "    for i in more:\n",
    "        sum_value += i\n",
    "        m_value*=i\n",
    "    return sum_value,m_value\n",
    "s_m = sum_multiply(2,3,4)\n",
    "print(s_m)"
   ]
  },
  {
   "cell_type": "code",
   "execution_count": null,
   "id": "e939d64c",
   "metadata": {},
   "outputs": [],
   "source": []
  }
 ],
 "metadata": {
  "kernelspec": {
   "display_name": "Python 3 (ipykernel)",
   "language": "python",
   "name": "python3"
  },
  "language_info": {
   "codemirror_mode": {
    "name": "ipython",
    "version": 3
   },
   "file_extension": ".py",
   "mimetype": "text/x-python",
   "name": "python",
   "nbconvert_exporter": "python",
   "pygments_lexer": "ipython3",
   "version": "3.9.7"
  }
 },
 "nbformat": 4,
 "nbformat_minor": 5
}
