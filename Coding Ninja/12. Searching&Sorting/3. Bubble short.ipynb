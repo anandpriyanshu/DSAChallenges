{
 "cells": [
  {
   "cell_type": "code",
   "execution_count": 8,
   "id": "3b807802",
   "metadata": {},
   "outputs": [],
   "source": [
    "def bubbleSort(arr) :\n",
    "    for i in range(len(arr)):\n",
    "        for j in range(len(arr)-1):\n",
    "            if arr[j]>arr[j+1]:\n",
    "                arr[j],arr[j+1]=arr[j+1],arr[j]\n",
    "    return arr"
   ]
  },
  {
   "cell_type": "code",
   "execution_count": 9,
   "id": "74cef900",
   "metadata": {},
   "outputs": [
    {
     "data": {
      "text/plain": [
       "[1, 3, 5, 8]"
      ]
     },
     "execution_count": 9,
     "metadata": {},
     "output_type": "execute_result"
    }
   ],
   "source": [
    "bubbleSort([8,5,1,3])"
   ]
  },
  {
   "cell_type": "markdown",
   "id": "630aea94",
   "metadata": {},
   "source": [
    "### Optimized Bubble short"
   ]
  },
  {
   "cell_type": "code",
   "execution_count": 14,
   "id": "39b6773c",
   "metadata": {},
   "outputs": [],
   "source": [
    "def bubbleSort(arr):\n",
    "    for i in range(len(arr)-1):\n",
    "        for j in range(len(arr)-1-i):\n",
    "            if arr[j]>arr[j+1]:\n",
    "                arr[j],arr[j+1]=arr[j+1],arr[j]\n",
    "    return arr            "
   ]
  },
  {
   "cell_type": "code",
   "execution_count": 15,
   "id": "7a7deffc",
   "metadata": {},
   "outputs": [
    {
     "data": {
      "text/plain": [
       "[1, 3, 4, 5, 7, 9]"
      ]
     },
     "execution_count": 15,
     "metadata": {},
     "output_type": "execute_result"
    }
   ],
   "source": [
    "bubbleSort([9,5,7,3,1,4]) "
   ]
  },
  {
   "cell_type": "markdown",
   "id": "408b3a5a",
   "metadata": {},
   "source": [
    "Best Method"
   ]
  },
  {
   "cell_type": "code",
   "execution_count": 1,
   "id": "99b9e6aa",
   "metadata": {},
   "outputs": [
    {
     "name": "stdout",
     "output_type": "stream",
     "text": [
      "[1, 2, 3, 3, 4, 5, 7, 9]\n"
     ]
    }
   ],
   "source": [
    "def bubbleSort(arr) :\n",
    "    for i in range(len(arr)):\n",
    "        for j in range(1,len(arr)-i):\n",
    "            if (arr[j]<arr[j-1]):\n",
    "                arr[j],arr[j-1] = arr[j-1],arr[j]\n",
    "    return arr\n",
    "arr = [5,3,4,1,2,7,9,3]\n",
    "ans = bubbleSort(arr)\n",
    "print(ans)\n"
   ]
  },
  {
   "cell_type": "code",
   "execution_count": null,
   "id": "cb3c5e4a",
   "metadata": {},
   "outputs": [],
   "source": []
  }
 ],
 "metadata": {
  "kernelspec": {
   "display_name": "Python 3 (ipykernel)",
   "language": "python",
   "name": "python3"
  },
  "language_info": {
   "codemirror_mode": {
    "name": "ipython",
    "version": 3
   },
   "file_extension": ".py",
   "mimetype": "text/x-python",
   "name": "python",
   "nbconvert_exporter": "python",
   "pygments_lexer": "ipython3",
   "version": "3.9.7"
  }
 },
 "nbformat": 4,
 "nbformat_minor": 5
}
