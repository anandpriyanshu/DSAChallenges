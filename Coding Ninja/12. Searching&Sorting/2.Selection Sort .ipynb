{
 "cells": [
  {
   "cell_type": "code",
   "execution_count": 11,
   "id": "d7a80471",
   "metadata": {},
   "outputs": [],
   "source": [
    "def Selection_sort(A):\n",
    "    for i in range(len(A)):\n",
    "        min_index = i\n",
    "        for j in range(i+1,len(A)):\n",
    "                       \n",
    "            if A[j] < A[min_index]:\n",
    "                min_index=j\n",
    "        A[i],A[min_index]=A[min_index],A[i] \n",
    "    return A                    \n",
    "                       "
   ]
  },
  {
   "cell_type": "code",
   "execution_count": 12,
   "id": "a7b61f3b",
   "metadata": {},
   "outputs": [
    {
     "data": {
      "text/plain": [
       "[3, 4, 5, 9, 13]"
      ]
     },
     "execution_count": 12,
     "metadata": {},
     "output_type": "execute_result"
    }
   ],
   "source": [
    "Selection_sort([13,4,9,5,3])"
   ]
  },
  {
   "cell_type": "code",
   "execution_count": 13,
   "id": "b0fe35ad",
   "metadata": {},
   "outputs": [
    {
     "data": {
      "text/plain": [
       "[2, 3, 4, 5, 8, 9]"
      ]
     },
     "execution_count": 13,
     "metadata": {},
     "output_type": "execute_result"
    }
   ],
   "source": [
    "Selection_sort([8,3,9,2,4,5])"
   ]
  },
  {
   "cell_type": "code",
   "execution_count": null,
   "id": "e0ac8f72",
   "metadata": {},
   "outputs": [],
   "source": []
  }
 ],
 "metadata": {
  "kernelspec": {
   "display_name": "Python 3 (ipykernel)",
   "language": "python",
   "name": "python3"
  },
  "language_info": {
   "codemirror_mode": {
    "name": "ipython",
    "version": 3
   },
   "file_extension": ".py",
   "mimetype": "text/x-python",
   "name": "python",
   "nbconvert_exporter": "python",
   "pygments_lexer": "ipython3",
   "version": "3.9.7"
  }
 },
 "nbformat": 4,
 "nbformat_minor": 5
}
