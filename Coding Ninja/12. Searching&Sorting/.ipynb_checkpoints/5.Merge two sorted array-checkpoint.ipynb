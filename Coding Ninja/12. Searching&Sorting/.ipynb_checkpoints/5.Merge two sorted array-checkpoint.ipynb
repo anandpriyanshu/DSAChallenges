{
 "cells": [
  {
   "cell_type": "code",
   "execution_count": null,
   "id": "551c707a",
   "metadata": {},
   "outputs": [],
   "source": [
    "def mergetwoarray(a1,a2,debug=False):\n",
    "    i,j = 0,0\n",
    "    len1,len2 = len(a1),len(a2)\n",
    "    new_array = []\n",
    "    while (i<len(a1) and j<len(a2)):         #when 'and' condition are  met togather\n",
    "        if a1[i]<a2[j]:\n",
    "            new_array.append(a1[i])          #when condition 2 is true\n",
    "            i = i+1             # j is at their position \n",
    "        else:\n",
    "            new_array.append(a2[j])          #when condition 3 is true\n",
    "            j = j+1 \n",
    "    while (i<len1):                      #when 'and' condition are not  meet togather(means len1!=len2)\n",
    "        new_array.append(a1[i])           #adding remaining element in a1 to new_array & (j has fail here)\n",
    "        i = i+1\n",
    "    while (j<len2):\n",
    "        new_array.append(a2[j])            #adding remaining element in a2 to new_array & (i has fail here)\n",
    "        j = j+1  \n",
    "    return new_array   "
   ]
  },
  {
   "cell_type": "code",
   "execution_count": 7,
   "id": "6f25f755",
   "metadata": {},
   "outputs": [
    {
     "data": {
      "text/plain": [
       "[1, 3, 4, 4, 7, 9, 11, 11, 13]"
      ]
     },
     "execution_count": 7,
     "metadata": {},
     "output_type": "execute_result"
    }
   ],
   "source": [
    "a1 = [1,3,4,7,11]\n",
    "a2 = [4,9,11,13]\n",
    "mergetwoarray(a1,a2)"
   ]
  },
  {
   "cell_type": "markdown",
   "id": "502d98a6",
   "metadata": {},
   "source": [
    "### Assignment"
   ]
  },
  {
   "cell_type": "code",
   "execution_count": 19,
   "id": "f895e22c",
   "metadata": {},
   "outputs": [],
   "source": [
    "def pushzeroatend(arr):\n",
    "    k = 0\n",
    "    for i in range(len(arr)):\n",
    "        if arr[i] != 0:\n",
    "            arr[k],arr[i] = arr[i],arr[k]\n",
    "            k = k+1\n",
    "    return arr        \n",
    "        "
   ]
  },
  {
   "cell_type": "code",
   "execution_count": 20,
   "id": "8677f7b7",
   "metadata": {},
   "outputs": [
    {
     "data": {
      "text/plain": [
       "[2, 1, 3, 0, 0, 0, 0]"
      ]
     },
     "execution_count": 20,
     "metadata": {},
     "output_type": "execute_result"
    }
   ],
   "source": [
    "pushzeroatend([2,0,0,1,3,0,0])"
   ]
  },
  {
   "cell_type": "markdown",
   "id": "2e0a95bc",
   "metadata": {},
   "source": [
    "### Second Largest in array"
   ]
  },
  {
   "cell_type": "code",
   "execution_count": 21,
   "id": "679a3a69",
   "metadata": {},
   "outputs": [],
   "source": [
    "def secondLargestElement(arr):\n",
    "    l = -2147483648\n",
    "    s = -2147483648\n",
    "    for i in range(len(arr)):\n",
    "        if arr[i] > l:\n",
    "            s = l\n",
    "            l = arr[i]\n",
    "        else:\n",
    "            if arr[i]>s and arr[i]!=l:\n",
    "                s = arr[i]\n",
    "    return s        "
   ]
  },
  {
   "cell_type": "code",
   "execution_count": 22,
   "id": "6faaa769",
   "metadata": {},
   "outputs": [
    {
     "data": {
      "text/plain": [
       "13"
      ]
     },
     "execution_count": 22,
     "metadata": {},
     "output_type": "execute_result"
    }
   ],
   "source": [
    "arr = [2,13,4,1,3,6,28]\n",
    "secondLargestElement(arr)"
   ]
  },
  {
   "cell_type": "markdown",
   "id": "a2ea7770",
   "metadata": {},
   "source": [
    "### Sort 0 1 2"
   ]
  },
  {
   "cell_type": "code",
   "execution_count": 10,
   "id": "5290fada",
   "metadata": {},
   "outputs": [],
   "source": [
    "def sort012(arr) :\n",
    "    next_Zero=0\n",
    "    next_Two=len(arr)-1\n",
    "    i=0\n",
    "    while i<=next_Two:\n",
    "        if arr[i]==0:\n",
    "            temp=arr[next_Zero]\n",
    "            arr[next_Zero]=arr[i]\n",
    "            arr[i]=temp\n",
    "            next_Zero+=1\n",
    "            i+=1\n",
    "        elif arr[i]==2:\n",
    "            temp=arr[next_Two]\n",
    "            arr[next_Two]=arr[i]\n",
    "            arr[i]=temp\n",
    "            next_Two-=1\n",
    "        else:\n",
    "            i=i+1 \n",
    "    return arr        "
   ]
  },
  {
   "cell_type": "code",
   "execution_count": 11,
   "id": "cc64c8f6",
   "metadata": {},
   "outputs": [
    {
     "data": {
      "text/plain": [
       "[0, 0, 0, 1, 1, 2, 2]"
      ]
     },
     "execution_count": 11,
     "metadata": {},
     "output_type": "execute_result"
    }
   ],
   "source": [
    "sort012([0,1,2,0,2,0,1])"
   ]
  },
  {
   "cell_type": "markdown",
   "id": "2340a86e",
   "metadata": {},
   "source": [
    "### Push Zeros to end\n"
   ]
  },
  {
   "cell_type": "code",
   "execution_count": 1,
   "id": "fa23e614",
   "metadata": {},
   "outputs": [],
   "source": [
    "def  pushZerosAtEnd(arr):\n",
    "    k = 0\n",
    "    for i in range(len(arr)):\n",
    "        if arr[i]!=0:\n",
    "            arr[k],arr[i]=arr[i],arr[k]\n",
    "            k = k+1\n",
    "    return arr        "
   ]
  },
  {
   "cell_type": "code",
   "execution_count": 2,
   "id": "f279edad",
   "metadata": {},
   "outputs": [
    {
     "data": {
      "text/plain": [
       "[2, 3, 0, 0, 0, 0]"
      ]
     },
     "execution_count": 2,
     "metadata": {},
     "output_type": "execute_result"
    }
   ],
   "source": [
    "pushZerosAtEnd([2,0,0,3,0,0,])"
   ]
  },
  {
   "cell_type": "markdown",
   "id": "12def3d0",
   "metadata": {},
   "source": [
    "### SecondLargest in array"
   ]
  },
  {
   "cell_type": "code",
   "execution_count": 13,
   "id": "5f9111db",
   "metadata": {},
   "outputs": [],
   "source": [
    " def SecondLargestinarray(arr):\n",
    "        largest = -2147483648\n",
    "        second_largest = -2147483648 \n",
    "        for i in range(len(arr)):\n",
    "            if arr[i]>largest:\n",
    "                second_largest=largest\n",
    "                largest = arr[i]\n",
    "            else:\n",
    "                if arr[i]>second_largest and arr[i]!=largest:\n",
    "                    second_largest=arr[i]\n",
    "        return  second_largest            \n",
    "                    "
   ]
  },
  {
   "cell_type": "code",
   "execution_count": 14,
   "id": "4c0bc008",
   "metadata": {},
   "outputs": [
    {
     "data": {
      "text/plain": [
       "13"
      ]
     },
     "execution_count": 14,
     "metadata": {},
     "output_type": "execute_result"
    }
   ],
   "source": [
    "SecondLargestinarray([2,13,4,1,3,6,28])"
   ]
  },
  {
   "cell_type": "code",
   "execution_count": 15,
   "id": "08dea4e5",
   "metadata": {},
   "outputs": [],
   "source": [
    "def secondLargestElement(arr,n):\n",
    "    l = -2147483648\n",
    "    s = -2147483648\n",
    "    for i in range(n):\n",
    "        if arr[i] > l:\n",
    "            s = l\n",
    "            l = arr[i]\n",
    "        else:\n",
    "            if arr[i] > s and arr[i] != l:\n",
    "                s = arr[i]\n",
    "    return s"
   ]
  },
  {
   "cell_type": "code",
   "execution_count": 16,
   "id": "af19830f",
   "metadata": {},
   "outputs": [
    {
     "data": {
      "text/plain": [
       "13"
      ]
     },
     "execution_count": 16,
     "metadata": {},
     "output_type": "execute_result"
    }
   ],
   "source": [
    "secondLargestElement([2,13,4,1,3,6,28],7)"
   ]
  },
  {
   "cell_type": "markdown",
   "id": "691c39cd",
   "metadata": {},
   "source": [
    "### Check array rotation"
   ]
  },
  {
   "cell_type": "code",
   "execution_count": 4,
   "id": "5b4c2a47",
   "metadata": {},
   "outputs": [],
   "source": [
    "def Checkarrayrotation(arr):\n",
    "    count = 0\n",
    "    for i in range(0,len(arr)-1):\n",
    "        if arr[i]>arr[i+1]:\n",
    "            return  i+1\n",
    "    return count    \n",
    "        "
   ]
  },
  {
   "cell_type": "code",
   "execution_count": 5,
   "id": "ed01bdd1",
   "metadata": {},
   "outputs": [
    {
     "data": {
      "text/plain": [
       "2"
      ]
     },
     "execution_count": 5,
     "metadata": {},
     "output_type": "execute_result"
    }
   ],
   "source": [
    "Checkarrayrotation([5,6,1,2,3,4])"
   ]
  },
  {
   "cell_type": "code",
   "execution_count": null,
   "id": "d923d18c",
   "metadata": {},
   "outputs": [],
   "source": []
  }
 ],
 "metadata": {
  "kernelspec": {
   "display_name": "Python 3 (ipykernel)",
   "language": "python",
   "name": "python3"
  },
  "language_info": {
   "codemirror_mode": {
    "name": "ipython",
    "version": 3
   },
   "file_extension": ".py",
   "mimetype": "text/x-python",
   "name": "python",
   "nbconvert_exporter": "python",
   "pygments_lexer": "ipython3",
   "version": "3.9.7"
  }
 },
 "nbformat": 4,
 "nbformat_minor": 5
}
