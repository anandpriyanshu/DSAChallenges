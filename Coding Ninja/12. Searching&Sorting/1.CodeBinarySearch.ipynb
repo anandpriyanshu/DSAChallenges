{
 "cells": [
  {
   "cell_type": "code",
   "execution_count": null,
   "id": "098de5a9",
   "metadata": {},
   "outputs": [],
   "source": [
    "def binarySearch(arr,ele,debug=False):\n",
    "    lower_bound=0\n",
    "    upper_bound=len(arr) - 1\n",
    "    while lower_bound<=upper_bound:\n",
    "        middle = (lower_bound+upper_bound)//2   #integar\n",
    "        if debug:\n",
    "            print('Lower bound is ', lower_bound)\n",
    "            print('Upper bound is ', upper_bound)\n",
    "            print('Middle ', middle)\n",
    "        if ele == arr[middle]:\n",
    "            return 'Your value is found at middle at index',middle\n",
    "        elif ele < arr[middle]:          #lesser condition\n",
    "            #no change in lower bond\n",
    "            upper_bound = middle - 1\n",
    "        else:  #Greater condition\n",
    "            #upper bound remain same\n",
    "            lower_bound = middle + 1\n",
    "    return 'Your element is not available in the given array'            "
   ]
  },
  {
   "cell_type": "code",
   "execution_count": null,
   "id": "76fc1c8c",
   "metadata": {},
   "outputs": [],
   "source": [
    "arr= [12,34,45,56,67,89]\n",
    "x1 = 56\n",
    "x2 = 57\n",
    "binarySearch(arr,x1,debug=False)"
   ]
  },
  {
   "cell_type": "code",
   "execution_count": null,
   "id": "c4a94ed2",
   "metadata": {},
   "outputs": [],
   "source": [
    "def binarySearch(arr,ele,debug=False):\n",
    "    lower_bound=0\n",
    "    upper_bound=len(arr) - 1\n",
    "    while lower_bound<=upper_bound:\n",
    "        middle = (lower_bound+upper_bound)//2   #integar\n",
    "        if debug:\n",
    "            print('Lower bound is ', lower_bound)\n",
    "            print('Upper bound is ', upper_bound)\n",
    "            print('Middle ', middle)\n",
    "        if ele == arr[middle]:\n",
    "            return 'Your value is found at middle at index',middle\n",
    "        elif ele < arr[middle]:          #lesser condition\n",
    "            #no change in lower bond\n",
    "            upper_bound = middle - 1\n",
    "        else:  #Greater condition\n",
    "            #upper bound remain same\n",
    "            lower_bound = middle + 1\n",
    "    return 'Your element is not available in the given array'            "
   ]
  },
  {
   "cell_type": "code",
   "execution_count": null,
   "id": "1f775198",
   "metadata": {},
   "outputs": [],
   "source": [
    "arr= [12,34,45,56,67,89]\n",
    "x1 = 12\n",
    "binarySearch(arr,x1,debug=False)"
   ]
  },
  {
   "cell_type": "code",
   "execution_count": null,
   "id": "d3ee5b73",
   "metadata": {},
   "outputs": [],
   "source": [
    "def binarySearch(arr,ele,debug=False):\n",
    "    lower_bound=0\n",
    "    upper_bound=len(arr) - 1\n",
    "    while lower_bound<=upper_bound:\n",
    "        middle = (lower_bound+upper_bound)//2   #integar\n",
    "        if debug:\n",
    "            print('Lower bound is ', lower_bound)\n",
    "            print('Upper bound is ', upper_bound)\n",
    "            print('Middle ', middle)\n",
    "        if ele == arr[middle]:\n",
    "            return 'Your value is found at middle at index',middle\n",
    "        elif ele < arr[middle]:          #lesser condition\n",
    "            #no change in lower bond\n",
    "            upper_bound = middle - 1\n",
    "        else:  #Greater condition\n",
    "            #upper bound remain same\n",
    "            lower_bound = middle + 1\n",
    "    return 'Your element is not available in the given array'            "
   ]
  },
  {
   "cell_type": "code",
   "execution_count": null,
   "id": "5ab48a65",
   "metadata": {},
   "outputs": [],
   "source": [
    "arr= [12,34,45,56,67,89]\n",
    "x1 = 12\n",
    "x2 = 57\n",
    "binarySearch(arr,x2,debug=False)"
   ]
  },
  {
   "cell_type": "code",
   "execution_count": null,
   "id": "8931f614",
   "metadata": {},
   "outputs": [],
   "source": [
    "def binarySearch(arr,ele,debug=False):\n",
    "    lower_bound=0\n",
    "    upper_bound=len(arr) - 1\n",
    "    while lower_bound<=upper_bound:\n",
    "        middle = (lower_bound+upper_bound)//2   #integar\n",
    "        if debug:\n",
    "            print('Lower bound is ', lower_bound)\n",
    "            print('Upper bound is ', upper_bound)\n",
    "            print('Middle ', middle)\n",
    "        if ele == arr[middle]:\n",
    "            return 'Your value is found at middle at index',middle\n",
    "        elif ele < arr[middle]:          #lesser condition\n",
    "            #no change in lower bond\n",
    "            upper_bound = middle - 1\n",
    "        else:  #Greater condition\n",
    "            #upper bound remain same\n",
    "            lower_bound = middle + 1\n",
    "    return 'Your element is not available in the given array'            "
   ]
  },
  {
   "cell_type": "code",
   "execution_count": null,
   "id": "f8b1ec0e",
   "metadata": {},
   "outputs": [],
   "source": [
    "arr= [12,34,45,56,67,89]\n",
    "x1 = 12\n",
    "x2 = 57\n",
    "binarySearch(arr,x2,debug=True)"
   ]
  },
  {
   "cell_type": "code",
   "execution_count": null,
   "id": "28d2bb27",
   "metadata": {},
   "outputs": [],
   "source": [
    "def binarySearch(arr,ele,debug=False):\n",
    "    lower_bound=0\n",
    "    upper_bound=len(arr) - 1\n",
    "    while lower_bound<=upper_bound:\n",
    "        middle = (lower_bound+upper_bound)//2   #integar\n",
    "        if debug:\n",
    "            print('Lower bound is ', lower_bound)\n",
    "            print('Upper bound is ', upper_bound)\n",
    "            print('Middle ', middle)\n",
    "        if ele == arr[middle]:\n",
    "            return 'Your value is found at middle at index',middle\n",
    "        elif ele < arr[middle]:          #lesser condition\n",
    "            #no change in lower bond\n",
    "            upper_bound = middle - 1\n",
    "        else:  #Greater condition\n",
    "            #upper bound remain same\n",
    "            lower_bound = middle + 1\n",
    "    return 'Your element is not available in the given array'            "
   ]
  },
  {
   "cell_type": "code",
   "execution_count": null,
   "id": "8571035f",
   "metadata": {},
   "outputs": [],
   "source": [
    "arr= [12,34,45,56,67,89]\n",
    "x1 = 12\n",
    "x2 = 57\n",
    "binarySearch(arr,x1,debug=True)"
   ]
  },
  {
   "cell_type": "code",
   "execution_count": null,
   "id": "7b3e55c6",
   "metadata": {},
   "outputs": [],
   "source": [
    "def binarySearch(arr,ele,debug=False):\n",
    "    lower_bound=0\n",
    "    upper_bound=len(arr) - 1\n",
    "    while lower_bound<=upper_bound:\n",
    "        middle = (lower_bound+upper_bound)//2   #integar\n",
    "        if debug:\n",
    "            print('Lower bound is ', lower_bound)\n",
    "            print('Upper bound is ', upper_bound)\n",
    "            print('Middle ', middle)\n",
    "        if ele == arr[middle]:\n",
    "            return 'Your value is found at middle at index',middle\n",
    "        elif ele < arr[middle]:          #lesser condition\n",
    "            #no change in lower bond\n",
    "            upper_bound = middle - 1\n",
    "        else:  #Greater condition\n",
    "            #upper bound remain same\n",
    "            lower_bound = middle + 1\n",
    "    return 'Your element is not available in the given array'            "
   ]
  },
  {
   "cell_type": "code",
   "execution_count": null,
   "id": "eecf8935",
   "metadata": {},
   "outputs": [],
   "source": [
    "arr= [12,34,45,56,56,56,56,56,67,89]\n",
    "x1 = 56\n",
    "x2 = 57\n",
    "binarySearch(arr,x1,debug=True)"
   ]
  },
  {
   "cell_type": "markdown",
   "id": "4bce922a",
   "metadata": {},
   "source": [
    "### Exploratory Notes"
   ]
  },
  {
   "cell_type": "code",
   "execution_count": 3,
   "id": "c821e325",
   "metadata": {},
   "outputs": [],
   "source": [
    "def binaryserch(arr,ele):\n",
    "    start = 0\n",
    "    end = len(arr) - 1\n",
    "    while start<=end:\n",
    "        mid  = start + (end - start)//2\n",
    "        if arr[mid]==ele:\n",
    "            return mid\n",
    "        elif arr[mid]>ele:\n",
    "            end = mid-1\n",
    "        else:\n",
    "            start = mid + 1\n",
    "    else:\n",
    "        return - 1          \n",
    "            "
   ]
  },
  {
   "cell_type": "code",
   "execution_count": 4,
   "id": "a978859a",
   "metadata": {},
   "outputs": [
    {
     "data": {
      "text/plain": [
       "7"
      ]
     },
     "execution_count": 4,
     "metadata": {},
     "output_type": "execute_result"
    }
   ],
   "source": [
    "arr= [1,2,2,3,3,3,4,19,19,19]\n",
    "x1 = 19\n",
    "binaryserch(arr,x1)"
   ]
  },
  {
   "cell_type": "code",
   "execution_count": null,
   "id": "344d970e",
   "metadata": {},
   "outputs": [],
   "source": []
  }
 ],
 "metadata": {
  "kernelspec": {
   "display_name": "Python 3 (ipykernel)",
   "language": "python",
   "name": "python3"
  },
  "language_info": {
   "codemirror_mode": {
    "name": "ipython",
    "version": 3
   },
   "file_extension": ".py",
   "mimetype": "text/x-python",
   "name": "python",
   "nbconvert_exporter": "python",
   "pygments_lexer": "ipython3",
   "version": "3.9.7"
  }
 },
 "nbformat": 4,
 "nbformat_minor": 5
}
