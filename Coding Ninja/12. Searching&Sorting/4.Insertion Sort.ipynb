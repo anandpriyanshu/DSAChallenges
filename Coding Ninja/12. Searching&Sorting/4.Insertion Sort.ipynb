{
 "cells": [
  {
   "cell_type": "code",
   "execution_count": 12,
   "id": "7603258b",
   "metadata": {},
   "outputs": [],
   "source": [
    "def insertionSort(arr):\n",
    "    length = len(arr)\n",
    "    for i in range(1,length):\n",
    "        j = i-1\n",
    "        temp = arr[i]\n",
    "        #shifting element till this condition is holds \n",
    "        while j>=0 and arr[j]>temp:\n",
    "            arr[j+1]=arr[j]\n",
    "            j = j-1\n",
    "        # j+1 is the correct position for ith element\n",
    "        arr[j+1] = temp\n",
    "            "
   ]
  },
  {
   "cell_type": "code",
   "execution_count": 13,
   "id": "53aec575",
   "metadata": {},
   "outputs": [],
   "source": [
    "arr = [9,8,5,6,7,1]\n",
    "insertionSort(arr)"
   ]
  },
  {
   "cell_type": "code",
   "execution_count": 14,
   "id": "c31897cc",
   "metadata": {},
   "outputs": [
    {
     "name": "stdout",
     "output_type": "stream",
     "text": [
      "[1, 5, 6, 7, 8, 9]\n"
     ]
    }
   ],
   "source": [
    "print(arr)"
   ]
  },
  {
   "cell_type": "code",
   "execution_count": null,
   "id": "710722c3",
   "metadata": {},
   "outputs": [],
   "source": []
  }
 ],
 "metadata": {
  "kernelspec": {
   "display_name": "Python 3 (ipykernel)",
   "language": "python",
   "name": "python3"
  },
  "language_info": {
   "codemirror_mode": {
    "name": "ipython",
    "version": 3
   },
   "file_extension": ".py",
   "mimetype": "text/x-python",
   "name": "python",
   "nbconvert_exporter": "python",
   "pygments_lexer": "ipython3",
   "version": "3.9.7"
  }
 },
 "nbformat": 4,
 "nbformat_minor": 5
}
