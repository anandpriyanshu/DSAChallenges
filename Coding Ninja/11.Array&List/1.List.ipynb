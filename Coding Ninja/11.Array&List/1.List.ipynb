{
 "cells": [
  {
   "cell_type": "markdown",
   "id": "a2571761",
   "metadata": {},
   "source": [
    "Operations of List,\n",
    "Creating list"
   ]
  },
  {
   "cell_type": "code",
   "execution_count": 1,
   "id": "cb9f033e",
   "metadata": {},
   "outputs": [],
   "source": [
    "li = []  #empty list"
   ]
  },
  {
   "cell_type": "code",
   "execution_count": 2,
   "id": "9898ecc1",
   "metadata": {},
   "outputs": [],
   "source": [
    "l1=[1,2]"
   ]
  },
  {
   "cell_type": "code",
   "execution_count": 3,
   "id": "35f3c2f8",
   "metadata": {},
   "outputs": [],
   "source": [
    "l1=[1,2,'Anand',3.4]"
   ]
  },
  {
   "cell_type": "code",
   "execution_count": 4,
   "id": "55c68109",
   "metadata": {},
   "outputs": [
    {
     "data": {
      "text/plain": [
       "[1, 2, 'Anand', 3.4]"
      ]
     },
     "execution_count": 4,
     "metadata": {},
     "output_type": "execute_result"
    }
   ],
   "source": [
    "l1"
   ]
  },
  {
   "cell_type": "code",
   "execution_count": 5,
   "id": "01f37101",
   "metadata": {},
   "outputs": [
    {
     "data": {
      "text/plain": [
       "list"
      ]
     },
     "execution_count": 5,
     "metadata": {},
     "output_type": "execute_result"
    }
   ],
   "source": [
    "type(l1)"
   ]
  },
  {
   "cell_type": "markdown",
   "id": "6ac1a1fe",
   "metadata": {},
   "source": [
    "Access and change element in the list"
   ]
  },
  {
   "cell_type": "code",
   "execution_count": 6,
   "id": "3b68e574",
   "metadata": {},
   "outputs": [
    {
     "data": {
      "text/plain": [
       "2"
      ]
     },
     "execution_count": 6,
     "metadata": {},
     "output_type": "execute_result"
    }
   ],
   "source": [
    "l1[1]"
   ]
  },
  {
   "cell_type": "code",
   "execution_count": 7,
   "id": "fc2f20dc",
   "metadata": {},
   "outputs": [
    {
     "data": {
      "text/plain": [
       "3.4"
      ]
     },
     "execution_count": 7,
     "metadata": {},
     "output_type": "execute_result"
    }
   ],
   "source": [
    "l1[3]"
   ]
  },
  {
   "cell_type": "code",
   "execution_count": 8,
   "id": "9d90b69f",
   "metadata": {},
   "outputs": [
    {
     "ename": "IndexError",
     "evalue": "list index out of range",
     "output_type": "error",
     "traceback": [
      "\u001b[1;31m---------------------------------------------------------------------------\u001b[0m",
      "\u001b[1;31mIndexError\u001b[0m                                Traceback (most recent call last)",
      "\u001b[1;32mC:\\Users\\PRIYAN~1\\AppData\\Local\\Temp/ipykernel_11296/3910215926.py\u001b[0m in \u001b[0;36m<module>\u001b[1;34m\u001b[0m\n\u001b[1;32m----> 1\u001b[1;33m \u001b[0ml1\u001b[0m\u001b[1;33m[\u001b[0m\u001b[1;36m4\u001b[0m\u001b[1;33m]\u001b[0m\u001b[1;33m\u001b[0m\u001b[1;33m\u001b[0m\u001b[0m\n\u001b[0m",
      "\u001b[1;31mIndexError\u001b[0m: list index out of range"
     ]
    }
   ],
   "source": [
    "l1[4]"
   ]
  },
  {
   "cell_type": "code",
   "execution_count": 9,
   "id": "b8f4ab53",
   "metadata": {},
   "outputs": [],
   "source": [
    "l1[2]=5"
   ]
  },
  {
   "cell_type": "code",
   "execution_count": 10,
   "id": "790cac07",
   "metadata": {},
   "outputs": [
    {
     "data": {
      "text/plain": [
       "[1, 2, 5, 3.4]"
      ]
     },
     "execution_count": 10,
     "metadata": {},
     "output_type": "execute_result"
    }
   ],
   "source": [
    "l1"
   ]
  },
  {
   "cell_type": "markdown",
   "id": "a1865680",
   "metadata": {},
   "source": [
    "Slicing of List"
   ]
  },
  {
   "cell_type": "code",
   "execution_count": 12,
   "id": "0503d0ee",
   "metadata": {},
   "outputs": [
    {
     "data": {
      "text/plain": [
       "[2, 5]"
      ]
     },
     "execution_count": 12,
     "metadata": {},
     "output_type": "execute_result"
    }
   ],
   "source": [
    "l1[1:3]         #last index is excluded"
   ]
  },
  {
   "cell_type": "code",
   "execution_count": 13,
   "id": "473fc849",
   "metadata": {},
   "outputs": [
    {
     "data": {
      "text/plain": [
       "[2, 5, 3.4]"
      ]
     },
     "execution_count": 13,
     "metadata": {},
     "output_type": "execute_result"
    }
   ],
   "source": [
    "l1[1:]"
   ]
  },
  {
   "cell_type": "code",
   "execution_count": 14,
   "id": "991679ad",
   "metadata": {},
   "outputs": [
    {
     "data": {
      "text/plain": [
       "[1, 2, 5, 3.4]"
      ]
     },
     "execution_count": 14,
     "metadata": {},
     "output_type": "execute_result"
    }
   ],
   "source": [
    "l1[:]    #complete list"
   ]
  },
  {
   "cell_type": "code",
   "execution_count": 15,
   "id": "05950e8a",
   "metadata": {},
   "outputs": [
    {
     "data": {
      "text/plain": [
       "[2, 5, 3.4]"
      ]
     },
     "execution_count": 15,
     "metadata": {},
     "output_type": "execute_result"
    }
   ],
   "source": [
    "l1[1:10]"
   ]
  },
  {
   "cell_type": "markdown",
   "id": "6170d3e0",
   "metadata": {},
   "source": [
    "Insert and append elements in the list"
   ]
  },
  {
   "cell_type": "code",
   "execution_count": 16,
   "id": "0982918d",
   "metadata": {},
   "outputs": [],
   "source": [
    "l1.append('Priyanshu')"
   ]
  },
  {
   "cell_type": "code",
   "execution_count": 17,
   "id": "95ce58d2",
   "metadata": {},
   "outputs": [
    {
     "data": {
      "text/plain": [
       "[1, 2, 5, 3.4, 'Priyanshu']"
      ]
     },
     "execution_count": 17,
     "metadata": {},
     "output_type": "execute_result"
    }
   ],
   "source": [
    "l1"
   ]
  },
  {
   "cell_type": "code",
   "execution_count": 18,
   "id": "fba951b6",
   "metadata": {},
   "outputs": [],
   "source": [
    "l1.insert(1,10)      #insert for add particular element at index "
   ]
  },
  {
   "cell_type": "code",
   "execution_count": 19,
   "id": "680b4d61",
   "metadata": {},
   "outputs": [
    {
     "data": {
      "text/plain": [
       "[1, 10, 2, 5, 3.4, 'Priyanshu']"
      ]
     },
     "execution_count": 19,
     "metadata": {},
     "output_type": "execute_result"
    }
   ],
   "source": [
    "l1"
   ]
  },
  {
   "cell_type": "code",
   "execution_count": 20,
   "id": "3db6c763",
   "metadata": {},
   "outputs": [],
   "source": [
    "l1.insert(6,'Anand')"
   ]
  },
  {
   "cell_type": "code",
   "execution_count": 21,
   "id": "ea3a87f4",
   "metadata": {},
   "outputs": [
    {
     "data": {
      "text/plain": [
       "[1, 10, 2, 5, 3.4, 'Priyanshu', 'Anand']"
      ]
     },
     "execution_count": 21,
     "metadata": {},
     "output_type": "execute_result"
    }
   ],
   "source": [
    "l1"
   ]
  },
  {
   "cell_type": "code",
   "execution_count": 24,
   "id": "2ba97989",
   "metadata": {},
   "outputs": [],
   "source": [
    "l1.insert(10,'over')   #Automatically insert at last"
   ]
  },
  {
   "cell_type": "code",
   "execution_count": 25,
   "id": "bf9107f2",
   "metadata": {},
   "outputs": [
    {
     "data": {
      "text/plain": [
       "[1, 10, 2, 5, 3.4, 'Priyanshu', 'Anand', 'over']"
      ]
     },
     "execution_count": 25,
     "metadata": {},
     "output_type": "execute_result"
    }
   ],
   "source": [
    "l1"
   ]
  },
  {
   "cell_type": "code",
   "execution_count": 26,
   "id": "b328f84a",
   "metadata": {},
   "outputs": [],
   "source": [
    "l1.append([9,10,11])   #thats not what i suppose to do and it will create list type of object"
   ]
  },
  {
   "cell_type": "code",
   "execution_count": 27,
   "id": "c46dabbe",
   "metadata": {},
   "outputs": [
    {
     "data": {
      "text/plain": [
       "[1, 10, 2, 5, 3.4, 'Priyanshu', 'Anand', 'over', [9, 10, 11]]"
      ]
     },
     "execution_count": 27,
     "metadata": {},
     "output_type": "execute_result"
    }
   ],
   "source": [
    "l1"
   ]
  },
  {
   "cell_type": "code",
   "execution_count": 28,
   "id": "30ac728e",
   "metadata": {},
   "outputs": [],
   "source": [
    "l1.extend([9,10,11])   #thats what i suppost to do and it won't create list type of object\n",
    "                        # we use extend,  to add multiple element in the list."
   ]
  },
  {
   "cell_type": "code",
   "execution_count": 29,
   "id": "0ac65462",
   "metadata": {},
   "outputs": [
    {
     "data": {
      "text/plain": [
       "[1, 10, 2, 5, 3.4, 'Priyanshu', 'Anand', 'over', [9, 10, 11], 9, 10, 11]"
      ]
     },
     "execution_count": 29,
     "metadata": {},
     "output_type": "execute_result"
    }
   ],
   "source": [
    "l1"
   ]
  },
  {
   "cell_type": "markdown",
   "id": "22212f87",
   "metadata": {},
   "source": [
    "Removing elements from list"
   ]
  },
  {
   "cell_type": "code",
   "execution_count": 30,
   "id": "486236f9",
   "metadata": {},
   "outputs": [],
   "source": [
    "l1.remove(2)     #element 2 remove"
   ]
  },
  {
   "cell_type": "code",
   "execution_count": 31,
   "id": "76d9b827",
   "metadata": {},
   "outputs": [
    {
     "data": {
      "text/plain": [
       "[1, 10, 5, 3.4, 'Priyanshu', 'Anand', 'over', [9, 10, 11], 9, 10, 11]"
      ]
     },
     "execution_count": 31,
     "metadata": {},
     "output_type": "execute_result"
    }
   ],
   "source": [
    "l1"
   ]
  },
  {
   "cell_type": "code",
   "execution_count": 33,
   "id": "53a1fda8",
   "metadata": {},
   "outputs": [],
   "source": [
    "l1.append(1)"
   ]
  },
  {
   "cell_type": "code",
   "execution_count": 34,
   "id": "0fe90de7",
   "metadata": {},
   "outputs": [
    {
     "data": {
      "text/plain": [
       "[1, 10, 5, 3.4, 'Priyanshu', 'Anand', 'over', [9, 10, 11], 9, 10, 11, 1]"
      ]
     },
     "execution_count": 34,
     "metadata": {},
     "output_type": "execute_result"
    }
   ],
   "source": [
    "l1"
   ]
  },
  {
   "cell_type": "code",
   "execution_count": 37,
   "id": "15ab2cba",
   "metadata": {},
   "outputs": [],
   "source": [
    "l1.remove(1)        # 1st element remove"
   ]
  },
  {
   "cell_type": "code",
   "execution_count": 38,
   "id": "778a720f",
   "metadata": {},
   "outputs": [
    {
     "data": {
      "text/plain": [
       "[10, 3.4, 'Priyanshu', 'Anand', 'over', [9, 10, 11], 9, 10, 11, 1]"
      ]
     },
     "execution_count": 38,
     "metadata": {},
     "output_type": "execute_result"
    }
   ],
   "source": [
    "l1"
   ]
  },
  {
   "cell_type": "code",
   "execution_count": 39,
   "id": "0d0b644a",
   "metadata": {},
   "outputs": [
    {
     "ename": "ValueError",
     "evalue": "list.remove(x): x not in list",
     "output_type": "error",
     "traceback": [
      "\u001b[1;31m---------------------------------------------------------------------------\u001b[0m",
      "\u001b[1;31mValueError\u001b[0m                                Traceback (most recent call last)",
      "\u001b[1;32mC:\\Users\\PRIYAN~1\\AppData\\Local\\Temp/ipykernel_11296/2533471498.py\u001b[0m in \u001b[0;36m<module>\u001b[1;34m\u001b[0m\n\u001b[1;32m----> 1\u001b[1;33m \u001b[0ml1\u001b[0m\u001b[1;33m.\u001b[0m\u001b[0mremove\u001b[0m\u001b[1;33m(\u001b[0m\u001b[1;36m13\u001b[0m\u001b[1;33m)\u001b[0m\u001b[1;33m\u001b[0m\u001b[1;33m\u001b[0m\u001b[0m\n\u001b[0m",
      "\u001b[1;31mValueError\u001b[0m: list.remove(x): x not in list"
     ]
    }
   ],
   "source": [
    "l1.remove(13)"
   ]
  },
  {
   "cell_type": "code",
   "execution_count": 40,
   "id": "5ecf9844",
   "metadata": {},
   "outputs": [
    {
     "data": {
      "text/plain": [
       "1"
      ]
     },
     "execution_count": 40,
     "metadata": {},
     "output_type": "execute_result"
    }
   ],
   "source": [
    "l1.pop()         # (.pop) remove element on the basis of index and (.remove) element on the basis of element present in the list"
   ]
  },
  {
   "cell_type": "code",
   "execution_count": 41,
   "id": "25eac05e",
   "metadata": {},
   "outputs": [
    {
     "data": {
      "text/plain": [
       "[10, 3.4, 'Priyanshu', 'Anand', 'over', [9, 10, 11], 9, 10, 11]"
      ]
     },
     "execution_count": 41,
     "metadata": {},
     "output_type": "execute_result"
    }
   ],
   "source": [
    "l1"
   ]
  },
  {
   "cell_type": "code",
   "execution_count": 42,
   "id": "43688cea",
   "metadata": {},
   "outputs": [
    {
     "data": {
      "text/plain": [
       "'over'"
      ]
     },
     "execution_count": 42,
     "metadata": {},
     "output_type": "execute_result"
    }
   ],
   "source": [
    "l1.pop(4)        # for remove the particular index"
   ]
  },
  {
   "cell_type": "code",
   "execution_count": 43,
   "id": "55631798",
   "metadata": {},
   "outputs": [
    {
     "data": {
      "text/plain": [
       "[10, 3.4, 'Priyanshu', 'Anand', [9, 10, 11], 9, 10, 11]"
      ]
     },
     "execution_count": 43,
     "metadata": {},
     "output_type": "execute_result"
    }
   ],
   "source": [
    "l1"
   ]
  },
  {
   "cell_type": "code",
   "execution_count": 44,
   "id": "13a11f4a",
   "metadata": {},
   "outputs": [
    {
     "ename": "IndexError",
     "evalue": "pop index out of range",
     "output_type": "error",
     "traceback": [
      "\u001b[1;31m---------------------------------------------------------------------------\u001b[0m",
      "\u001b[1;31mIndexError\u001b[0m                                Traceback (most recent call last)",
      "\u001b[1;32mC:\\Users\\PRIYAN~1\\AppData\\Local\\Temp/ipykernel_11296/1333481309.py\u001b[0m in \u001b[0;36m<module>\u001b[1;34m\u001b[0m\n\u001b[1;32m----> 1\u001b[1;33m \u001b[0ml1\u001b[0m\u001b[1;33m.\u001b[0m\u001b[0mpop\u001b[0m\u001b[1;33m(\u001b[0m\u001b[1;36m18\u001b[0m\u001b[1;33m)\u001b[0m\u001b[1;33m\u001b[0m\u001b[1;33m\u001b[0m\u001b[0m\n\u001b[0m",
      "\u001b[1;31mIndexError\u001b[0m: pop index out of range"
     ]
    }
   ],
   "source": [
    "l1.pop(18)"
   ]
  },
  {
   "cell_type": "code",
   "execution_count": 45,
   "id": "624d69a2",
   "metadata": {},
   "outputs": [
    {
     "data": {
      "text/plain": [
       "[10, 3.4, 'Priyanshu', 'Anand', [9, 10, 11], 9, 10, 11]"
      ]
     },
     "execution_count": 45,
     "metadata": {},
     "output_type": "execute_result"
    }
   ],
   "source": [
    "l1"
   ]
  },
  {
   "cell_type": "code",
   "execution_count": 46,
   "id": "4a17b179",
   "metadata": {},
   "outputs": [
    {
     "data": {
      "text/plain": [
       "8"
      ]
     },
     "execution_count": 46,
     "metadata": {},
     "output_type": "execute_result"
    }
   ],
   "source": [
    "len(l1)          #1 to 8     not 0 to 7"
   ]
  },
  {
   "cell_type": "code",
   "execution_count": null,
   "id": "abf52382",
   "metadata": {},
   "outputs": [],
   "source": []
  }
 ],
 "metadata": {
  "kernelspec": {
   "display_name": "Python 3 (ipykernel)",
   "language": "python",
   "name": "python3"
  },
  "language_info": {
   "codemirror_mode": {
    "name": "ipython",
    "version": 3
   },
   "file_extension": ".py",
   "mimetype": "text/x-python",
   "name": "python",
   "nbconvert_exporter": "python",
   "pygments_lexer": "ipython3",
   "version": "3.9.7"
  }
 },
 "nbformat": 4,
 "nbformat_minor": 5
}
