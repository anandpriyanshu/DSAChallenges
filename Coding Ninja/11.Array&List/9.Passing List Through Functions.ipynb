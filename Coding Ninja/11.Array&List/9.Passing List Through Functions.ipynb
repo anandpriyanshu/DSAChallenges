{
 "cells": [
  {
   "cell_type": "code",
   "execution_count": 1,
   "id": "63e9a045",
   "metadata": {},
   "outputs": [
    {
     "name": "stdout",
     "output_type": "stream",
     "text": [
      "[3, 2, 3, 4]\n"
     ]
    }
   ],
   "source": [
    "#In the same refrence\n",
    "def increment(l1):\n",
    "    l1[0]=l1[0]+2\n",
    "    return\n",
    "l1 = [1,2,3,4]        \n",
    "increment(l1)\n",
    "print(l1)"
   ]
  },
  {
   "cell_type": "code",
   "execution_count": 2,
   "id": "f8aaac20",
   "metadata": {},
   "outputs": [
    {
     "name": "stdout",
     "output_type": "stream",
     "text": [
      "[1, 2, 3, 4]\n"
     ]
    }
   ],
   "source": [
    "#In the different refrence\n",
    "def increment(l1):\n",
    "    #l1[0]=l1[0]+2\n",
    "    l1=[3,3,4]\n",
    "    return\n",
    "l1 = [1,2,3,4]\n",
    "increment(l1)\n",
    "print(l1)"
   ]
  },
  {
   "cell_type": "code",
   "execution_count": 3,
   "id": "1386f2fd",
   "metadata": {},
   "outputs": [
    {
     "name": "stdout",
     "output_type": "stream",
     "text": [
      "[3, 3, 4]\n"
     ]
    }
   ],
   "source": [
    "#In the different refrence\n",
    "def increment(l1):\n",
    "    #l1[0]=l1[0]+2\n",
    "    l1=[3,3,4]\n",
    "    return l1\n",
    "l1 = [1,2,3,4]\n",
    "l1 = increment(l1)     #we need store this function in l1\n",
    "print(l1)"
   ]
  },
  {
   "cell_type": "code",
   "execution_count": null,
   "id": "8dc92ce6",
   "metadata": {},
   "outputs": [],
   "source": [
    "|"
   ]
  }
 ],
 "metadata": {
  "kernelspec": {
   "display_name": "Python 3 (ipykernel)",
   "language": "python",
   "name": "python3"
  },
  "language_info": {
   "codemirror_mode": {
    "name": "ipython",
    "version": 3
   },
   "file_extension": ".py",
   "mimetype": "text/x-python",
   "name": "python",
   "nbconvert_exporter": "python",
   "pygments_lexer": "ipython3",
   "version": "3.9.7"
  }
 },
 "nbformat": 4,
 "nbformat_minor": 5
}
