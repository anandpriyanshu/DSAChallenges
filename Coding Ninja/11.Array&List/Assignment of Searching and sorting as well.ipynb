{
 "cells": [
  {
   "cell_type": "markdown",
   "id": "4e5e635a",
   "metadata": {},
   "source": [
    "### Push Zeros at end"
   ]
  },
  {
   "cell_type": "code",
   "execution_count": 3,
   "id": "108c0dd9",
   "metadata": {},
   "outputs": [],
   "source": [
    "def pushZerosAtEnd(arr) :\n",
    "    k =0\n",
    "    for i in range(len(arr)):\n",
    "        if arr[i] != 0:\n",
    "            arr[k],arr[i] = arr[i],arr[k]\n",
    "            k += 1\n",
    "    return arr\n"
   ]
  },
  {
   "cell_type": "code",
   "execution_count": 4,
   "id": "ec131265",
   "metadata": {},
   "outputs": [
    {
     "data": {
      "text/plain": [
       "[2, 1, 3, 0, 0, 0, 0]"
      ]
     },
     "execution_count": 4,
     "metadata": {},
     "output_type": "execute_result"
    }
   ],
   "source": [
    "pushZerosAtEnd([2,0,0,1,3,0,0])"
   ]
  },
  {
   "cell_type": "markdown",
   "id": "13b57e75",
   "metadata": {},
   "source": [
    "### SecondLargestElement"
   ]
  },
  {
   "cell_type": "code",
   "execution_count": 5,
   "id": "f9f82b5a",
   "metadata": {},
   "outputs": [],
   "source": [
    "def secondLargestElement(arr):\n",
    "    l = -2147483648\n",
    "    s = -2147483648\n",
    "    for i in range(len(arr)):\n",
    "        if arr[i] > l:\n",
    "            s = l\n",
    "            l = arr[i]\n",
    "        else:\n",
    "            if arr[i] > s and arr[i] != l:\n",
    "                s = arr[i]\n",
    "    return s"
   ]
  },
  {
   "cell_type": "code",
   "execution_count": 6,
   "id": "792e80d7",
   "metadata": {},
   "outputs": [
    {
     "data": {
      "text/plain": [
       "6"
      ]
     },
     "execution_count": 6,
     "metadata": {},
     "output_type": "execute_result"
    }
   ],
   "source": [
    " secondLargestElement([2,3,4,1,3,6,28])"
   ]
  },
  {
   "cell_type": "markdown",
   "id": "83bf876e",
   "metadata": {},
   "source": [
    "### Check array rotation"
   ]
  },
  {
   "cell_type": "code",
   "execution_count": 2,
   "id": "21afb123",
   "metadata": {},
   "outputs": [],
   "source": [
    "def arrayRotateCheck(arr):\n",
    "    count=0\n",
    "    for i in range(0,len(arr)-1):\n",
    "        if arr[i]>arr[i+1]:\n",
    "            return i+1\n",
    "    return count"
   ]
  },
  {
   "cell_type": "code",
   "execution_count": 6,
   "id": "0cce9392",
   "metadata": {},
   "outputs": [
    {
     "data": {
      "text/plain": [
       "2"
      ]
     },
     "execution_count": 6,
     "metadata": {},
     "output_type": "execute_result"
    }
   ],
   "source": [
    "arrayRotateCheck([5,6,1,7,2,3,4])   # return index"
   ]
  },
  {
   "cell_type": "markdown",
   "id": "97fec673",
   "metadata": {},
   "source": [
    "### Sort 012"
   ]
  },
  {
   "cell_type": "code",
   "execution_count": 1,
   "id": "3b7869ec",
   "metadata": {},
   "outputs": [],
   "source": [
    "def sort012(arr) :\n",
    "    next_Zero=0\n",
    "    next_Two=len(arr)-1\n",
    "    i=0\n",
    "    while i<=next_Two:\n",
    "        if arr[i]==0:\n",
    "            temp=arr[next_Zero]\n",
    "            arr[next_Zero]=arr[i]\n",
    "            arr[i]=temp\n",
    "            next_Zero+=1\n",
    "            i+=1\n",
    "        elif arr[i]==2:\n",
    "            temp=arr[next_Two]\n",
    "            arr[next_Two]=arr[i]\n",
    "            arr[i]=temp\n",
    "            next_Two-=1\n",
    "        else:\n",
    "            i=i+1\n",
    "    return arr        "
   ]
  },
  {
   "cell_type": "code",
   "execution_count": 2,
   "id": "fa445552",
   "metadata": {},
   "outputs": [
    {
     "data": {
      "text/plain": [
       "[0, 0, 0, 1, 1, 2, 2]"
      ]
     },
     "execution_count": 2,
     "metadata": {},
     "output_type": "execute_result"
    }
   ],
   "source": [
    "sort012([0,1,2,0,2,0,1])"
   ]
  },
  {
   "cell_type": "markdown",
   "id": "e3f587dd",
   "metadata": {},
   "source": [
    "### Sum of Two array"
   ]
  },
  {
   "cell_type": "code",
   "execution_count": 20,
   "id": "2bb8d5e5",
   "metadata": {},
   "outputs": [
    {
     "ename": "ValueError",
     "evalue": "invalid literal for int() with base 10: ''",
     "output_type": "error",
     "traceback": [
      "\u001b[1;31m---------------------------------------------------------------------------\u001b[0m",
      "\u001b[1;31mValueError\u001b[0m                                Traceback (most recent call last)",
      "\u001b[1;32mC:\\Users\\PRIYAN~1\\AppData\\Local\\Temp/ipykernel_5368/4128179623.py\u001b[0m in \u001b[0;36m<module>\u001b[1;34m\u001b[0m\n\u001b[0;32m     54\u001b[0m \u001b[1;33m\u001b[0m\u001b[0m\n\u001b[0;32m     55\u001b[0m \u001b[1;31m#main\u001b[0m\u001b[1;33m\u001b[0m\u001b[1;33m\u001b[0m\u001b[0m\n\u001b[1;32m---> 56\u001b[1;33m \u001b[0mt\u001b[0m \u001b[1;33m=\u001b[0m \u001b[0mint\u001b[0m\u001b[1;33m(\u001b[0m\u001b[0mstdin\u001b[0m\u001b[1;33m.\u001b[0m\u001b[0mreadline\u001b[0m\u001b[1;33m(\u001b[0m\u001b[1;33m)\u001b[0m\u001b[1;33m.\u001b[0m\u001b[0mrstrip\u001b[0m\u001b[1;33m(\u001b[0m\u001b[1;33m)\u001b[0m\u001b[1;33m)\u001b[0m\u001b[1;33m\u001b[0m\u001b[1;33m\u001b[0m\u001b[0m\n\u001b[0m\u001b[0;32m     57\u001b[0m \u001b[1;33m\u001b[0m\u001b[0m\n\u001b[0;32m     58\u001b[0m \u001b[1;32mwhile\u001b[0m \u001b[0mt\u001b[0m \u001b[1;33m>\u001b[0m \u001b[1;36m0\u001b[0m \u001b[1;33m:\u001b[0m\u001b[1;33m\u001b[0m\u001b[1;33m\u001b[0m\u001b[0m\n",
      "\u001b[1;31mValueError\u001b[0m: invalid literal for int() with base 10: ''"
     ]
    }
   ],
   "source": [
    "from sys import stdin\n",
    "\n",
    "\n",
    "def sumOfTwoArrays(arr1, n, arr2, m, output) :\n",
    "    i = n - 1\n",
    "    j = m - 1\n",
    "    carry = 0\n",
    "    k = max(n, m) #k is the current index output array\n",
    "\n",
    "\n",
    "    while i >= 0 and j >= 0 :\n",
    "        SUM = arr1[i] + arr2[j] + carry\n",
    "        output[k] = SUM % 10\n",
    "        carry = SUM // 10\n",
    "        i -= 1\n",
    "        j -= 1\n",
    "        k -= 1\n",
    "\n",
    "    while i >= 0 :\n",
    "        SUM = arr1[i] + carry\n",
    "        output[k] = SUM % 10\n",
    "        carry = SUM // 10\n",
    "        i -= 1\n",
    "        k -= 1\n",
    "\n",
    "    while j >= 0 :\n",
    "        SUM = arr2[j] + carry\n",
    "        output[k] = SUM % 10\n",
    "        carry = SUM // 10\n",
    "        j -= 1\n",
    "        k -= 1\n",
    "\n",
    "\n",
    "    output[0] = carry           \n",
    "  \n",
    "   \n",
    "#Taking Input Using Fast I/O\n",
    "def takeInput() :\n",
    "    n = int(stdin.readline().rstrip())\n",
    "    if n == 0 :\n",
    "        return list(), 0\n",
    "    \n",
    "    arr = list(map(int, stdin.readline().rstrip().split(\" \")))\n",
    "    return arr, n\n",
    "\n",
    "\n",
    "#to print the array/list\n",
    "def printList(arr, n) :\n",
    "    for i in range(n) :\n",
    "        print(arr[i], end = \" \")\n",
    "    \n",
    "    print()\n",
    "\n",
    "\n",
    "#main\n",
    "t = int(stdin.readline().rstrip())\n",
    "\n",
    "while t > 0 :\n",
    "    arr1, n = takeInput()\n",
    "    arr2, m = takeInput()\n",
    "    \n",
    "    outputSize = (1 + max(n, m))\n",
    "    output = outputSize * [0]\n",
    "    \n",
    "    sumOfTwoArrays(arr1, n, arr2, m, output)\n",
    "    printList(output, outputSize)\n",
    "    \n",
    "    t -= 1\n"
   ]
  },
  {
   "cell_type": "markdown",
   "id": "6e7eda4c",
   "metadata": {},
   "source": [
    "### Rotate array"
   ]
  },
  {
   "cell_type": "code",
   "execution_count": 3,
   "id": "e7bb47d2",
   "metadata": {},
   "outputs": [],
   "source": [
    "def rotate(arr, d):\n",
    "    #Your code goes here\n",
    "    arr1 = []\n",
    "    arr2 = []\n",
    "    for i in range(len(arr)):\n",
    "        if i >= d: \n",
    "            arr1.append(arr[i])\n",
    "        else:\n",
    "            arr2.append(arr[i])      \n",
    "    arr1.extend(arr2)   \n",
    "    for j in range(len(arr)):\n",
    "        print(arr1[j],end=' ')\n",
    "    print() "
   ]
  },
  {
   "cell_type": "code",
   "execution_count": 4,
   "id": "3ab76465",
   "metadata": {},
   "outputs": [
    {
     "name": "stdout",
     "output_type": "stream",
     "text": [
      "3 4 5 6 7 1 2 \n"
     ]
    }
   ],
   "source": [
    "rotate([1,2,3,4,5,6,7],2)"
   ]
  },
  {
   "cell_type": "code",
   "execution_count": 1,
   "id": "0cfc0c29",
   "metadata": {},
   "outputs": [
    {
     "data": {
      "text/plain": [
       "0"
      ]
     },
     "execution_count": 1,
     "metadata": {},
     "output_type": "execute_result"
    }
   ],
   "source": [
    "10%10"
   ]
  },
  {
   "cell_type": "code",
   "execution_count": 2,
   "id": "0d089188",
   "metadata": {},
   "outputs": [
    {
     "data": {
      "text/plain": [
       "1"
      ]
     },
     "execution_count": 2,
     "metadata": {},
     "output_type": "execute_result"
    }
   ],
   "source": [
    "10//10"
   ]
  },
  {
   "cell_type": "code",
   "execution_count": 9,
   "id": "89144707",
   "metadata": {},
   "outputs": [
    {
     "ename": "IndexError",
     "evalue": "list assignment index out of range",
     "output_type": "error",
     "traceback": [
      "\u001b[1;31m---------------------------------------------------------------------------\u001b[0m",
      "\u001b[1;31mIndexError\u001b[0m                                Traceback (most recent call last)",
      "\u001b[1;32mC:\\Users\\PRIYAN~1\\AppData\\Local\\Temp/ipykernel_2968/3987184796.py\u001b[0m in \u001b[0;36m<module>\u001b[1;34m\u001b[0m\n\u001b[0;32m      9\u001b[0m \u001b[1;33m\u001b[0m\u001b[0m\n\u001b[0;32m     10\u001b[0m \u001b[0ms\u001b[0m \u001b[1;33m=\u001b[0m \u001b[1;34m\"My name is Anand\"\u001b[0m\u001b[1;33m\u001b[0m\u001b[1;33m\u001b[0m\u001b[0m\n\u001b[1;32m---> 11\u001b[1;33m \u001b[0mreverse\u001b[0m\u001b[1;33m(\u001b[0m\u001b[0ms\u001b[0m\u001b[1;33m)\u001b[0m\u001b[1;33m\u001b[0m\u001b[1;33m\u001b[0m\u001b[0m\n\u001b[0m",
      "\u001b[1;32mC:\\Users\\PRIYAN~1\\AppData\\Local\\Temp/ipykernel_2968/3987184796.py\u001b[0m in \u001b[0;36mreverse\u001b[1;34m(s)\u001b[0m\n\u001b[0;32m      3\u001b[0m     \u001b[0mi\u001b[0m \u001b[1;33m=\u001b[0m \u001b[1;36m0\u001b[0m\u001b[1;33m\u001b[0m\u001b[1;33m\u001b[0m\u001b[0m\n\u001b[0;32m      4\u001b[0m     \u001b[1;32mwhile\u001b[0m \u001b[0mi\u001b[0m \u001b[1;33m<\u001b[0m \u001b[0mlen\u001b[0m\u001b[1;33m(\u001b[0m\u001b[0ms\u001b[0m\u001b[1;33m)\u001b[0m\u001b[1;33m:\u001b[0m\u001b[1;33m\u001b[0m\u001b[1;33m\u001b[0m\u001b[0m\n\u001b[1;32m----> 5\u001b[1;33m         \u001b[0marr\u001b[0m\u001b[1;33m[\u001b[0m\u001b[0mi\u001b[0m\u001b[1;33m]\u001b[0m \u001b[1;33m=\u001b[0m \u001b[0ms\u001b[0m\u001b[1;33m[\u001b[0m\u001b[0mi\u001b[0m\u001b[1;33m]\u001b[0m\u001b[1;33m[\u001b[0m\u001b[1;33m:\u001b[0m\u001b[1;33m:\u001b[0m\u001b[1;33m-\u001b[0m\u001b[1;36m1\u001b[0m\u001b[1;33m]\u001b[0m\u001b[1;33m\u001b[0m\u001b[1;33m\u001b[0m\u001b[0m\n\u001b[0m\u001b[0;32m      6\u001b[0m \u001b[1;33m\u001b[0m\u001b[0m\n\u001b[0;32m      7\u001b[0m     \u001b[1;32mreturn\u001b[0m \u001b[1;34m\" \"\u001b[0m\u001b[1;33m.\u001b[0m\u001b[0mjoin\u001b[0m\u001b[1;33m(\u001b[0m\u001b[0marr\u001b[0m\u001b[1;33m)\u001b[0m\u001b[1;33m\u001b[0m\u001b[1;33m\u001b[0m\u001b[0m\n",
      "\u001b[1;31mIndexError\u001b[0m: list assignment index out of range"
     ]
    }
   ],
   "source": [
    "def reverse(s):\n",
    "    arr= []\n",
    "    i = 0\n",
    "    while i < len(s):\n",
    "        arr[i] = s[i][::-1]\n",
    "        \n",
    "    return \" \".join(arr)\n",
    "        \n",
    "\n",
    "s = \"My name is Anand\"\n",
    "reverse(s)"
   ]
  },
  {
   "cell_type": "code",
   "execution_count": 6,
   "id": "eb2b6d3e",
   "metadata": {},
   "outputs": [
    {
     "data": {
      "text/plain": [
       "'My name is Anand'"
      ]
     },
     "execution_count": 6,
     "metadata": {},
     "output_type": "execute_result"
    }
   ],
   "source": [
    "s"
   ]
  },
  {
   "cell_type": "code",
   "execution_count": 7,
   "id": "1e5a9e20",
   "metadata": {},
   "outputs": [
    {
     "data": {
      "text/plain": [
       "'dnanA si eman yM'"
      ]
     },
     "execution_count": 7,
     "metadata": {},
     "output_type": "execute_result"
    }
   ],
   "source": [
    "s[::-1]"
   ]
  },
  {
   "cell_type": "code",
   "execution_count": null,
   "id": "d5a0126a",
   "metadata": {},
   "outputs": [],
   "source": []
  }
 ],
 "metadata": {
  "kernelspec": {
   "display_name": "Python 3 (ipykernel)",
   "language": "python",
   "name": "python3"
  },
  "language_info": {
   "codemirror_mode": {
    "name": "ipython",
    "version": 3
   },
   "file_extension": ".py",
   "mimetype": "text/x-python",
   "name": "python",
   "nbconvert_exporter": "python",
   "pygments_lexer": "ipython3",
   "version": "3.9.7"
  }
 },
 "nbformat": 4,
 "nbformat_minor": 5
}
