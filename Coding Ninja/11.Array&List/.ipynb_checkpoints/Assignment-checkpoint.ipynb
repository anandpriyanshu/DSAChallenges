{
 "cells": [
  {
   "cell_type": "markdown",
   "id": "5087407d",
   "metadata": {},
   "source": [
    "### Find unique"
   ]
  },
  {
   "cell_type": "code",
   "execution_count": 2,
   "id": "ed4e9ce1",
   "metadata": {},
   "outputs": [],
   "source": [
    "def findUnique(arr) :\n",
    "    for i in range(len(arr)):\n",
    "        for j in range(len(arr)):\n",
    "            if i != j:\n",
    "                if arr[i] == arr[j]:\n",
    "                    break\n",
    "            j = j + 1\n",
    "        if j == len(arr):\n",
    "            return arr[i]"
   ]
  },
  {
   "cell_type": "code",
   "execution_count": 3,
   "id": "ff76995e",
   "metadata": {},
   "outputs": [
    {
     "data": {
      "text/plain": [
       "1"
      ]
     },
     "execution_count": 3,
     "metadata": {},
     "output_type": "execute_result"
    }
   ],
   "source": [
    "findUnique([2,3,1,6,3,6,2]) "
   ]
  },
  {
   "cell_type": "markdown",
   "id": "2c662791",
   "metadata": {},
   "source": [
    "### Find duplicate"
   ]
  },
  {
   "cell_type": "code",
   "execution_count": 1,
   "id": "152d77e0",
   "metadata": {},
   "outputs": [],
   "source": [
    "def duplicateNumber(arr):\n",
    "     \n",
    "    for i in range(len(arr)):\n",
    "        for j in range(len(arr)):\n",
    "            if j!=i:\n",
    "                if arr[i]==arr[j]:\n",
    "                    return arr[i]\n",
    "                \n",
    "        if j==len(arr):            #len(arr) == n\n",
    "            return arr[i]"
   ]
  },
  {
   "cell_type": "code",
   "execution_count": 3,
   "id": "45423adc",
   "metadata": {},
   "outputs": [
    {
     "data": {
      "text/plain": [
       "7"
      ]
     },
     "execution_count": 3,
     "metadata": {},
     "output_type": "execute_result"
    }
   ],
   "source": [
    "duplicateNumber([0,7,2,5,4,7,1,3,6])"
   ]
  },
  {
   "cell_type": "markdown",
   "id": "e292059d",
   "metadata": {},
   "source": [
    "### Array intersection"
   ]
  },
  {
   "cell_type": "code",
   "execution_count": 7,
   "id": "63e1429b",
   "metadata": {},
   "outputs": [],
   "source": [
    "def intersections(arr1,arr2) :\n",
    "    for i in range(len(arr1)):\n",
    "        for j in range(len(arr2)):\n",
    "            if arr1[i]==arr2[j]:\n",
    "                print(arr2[j],end=\" \")\n",
    "                arr2[j]=-1\n",
    "                break"
   ]
  },
  {
   "cell_type": "code",
   "execution_count": 8,
   "id": "caf3e6ef",
   "metadata": {},
   "outputs": [
    {
     "name": "stdout",
     "output_type": "stream",
     "text": [
      "2 4 3 "
     ]
    }
   ],
   "source": [
    "intersections([2,6,8,5,4,3],[2,3,4,7 ]) "
   ]
  },
  {
   "cell_type": "markdown",
   "id": "b3c3da53",
   "metadata": {},
   "source": [
    "### Triplet sum"
   ]
  },
  {
   "cell_type": "code",
   "execution_count": 15,
   "id": "2c5e8d1e",
   "metadata": {},
   "outputs": [],
   "source": [
    "def findTriplet(arr, x) :\n",
    "    count = 0\n",
    "    for i in range(0, len(arr)):\n",
    "        for j in range( (i+1),len(arr), 1):\n",
    "            for k in range( (j+1), len(arr), 1):\n",
    "                \n",
    "                if arr[i] + arr[j] + arr[k]== x:\n",
    "                    count =  count  + 1\n",
    "    return count"
   ]
  },
  {
   "cell_type": "code",
   "execution_count": 16,
   "id": "2b3f40d9",
   "metadata": {},
   "outputs": [
    {
     "data": {
      "text/plain": [
       "5"
      ]
     },
     "execution_count": 16,
     "metadata": {},
     "output_type": "execute_result"
    }
   ],
   "source": [
    "findTriplet([1,2,3,4,5,6,7], 12)"
   ]
  },
  {
   "cell_type": "markdown",
   "id": "90e999cb",
   "metadata": {},
   "source": [
    "### sortZeroesAndOne"
   ]
  },
  {
   "cell_type": "code",
   "execution_count": 5,
   "id": "a6bf7222",
   "metadata": {},
   "outputs": [],
   "source": [
    "def sortZeroesAndOne(arr) :\n",
    "    count=0\n",
    "    for i in range(len(arr)):\n",
    "         if arr[i] == 0:\n",
    "            temp = arr[count]  #storing  in temp array \n",
    "            arr[count] = arr[i] \n",
    "            arr[i] = temp        # copy the temp arr value in a original array\n",
    "            count=count+1\n",
    "    return arr        "
   ]
  },
  {
   "cell_type": "code",
   "execution_count": 6,
   "id": "cac20f3e",
   "metadata": {},
   "outputs": [
    {
     "data": {
      "text/plain": [
       "[0, 0, 0, 1, 1, 1, 1, 1]"
      ]
     },
     "execution_count": 6,
     "metadata": {},
     "output_type": "execute_result"
    }
   ],
   "source": [
    "sortZeroesAndOne([1,0,1,1,0,1,0,1])"
   ]
  },
  {
   "cell_type": "markdown",
   "id": "565f4fde",
   "metadata": {},
   "source": [
    "More optimized soltuion, bcz we are not creating any extra arr"
   ]
  },
  {
   "cell_type": "code",
   "execution_count": 1,
   "id": "dc1522a7",
   "metadata": {},
   "outputs": [],
   "source": [
    "def sortZeroesAndOne(a):\n",
    "    k = 0  #k track non-zero element\n",
    "    for i in range(len(a)):\n",
    "        if a[i] == 0:\n",
    "            a[i],a[k] = a[k],a[i]\n",
    "            k += 1\n",
    "    return a        "
   ]
  },
  {
   "cell_type": "code",
   "execution_count": 2,
   "id": "ebbb3ce5",
   "metadata": {},
   "outputs": [
    {
     "data": {
      "text/plain": [
       "[0, 0, 0, 1, 1, 1, 1, 1]"
      ]
     },
     "execution_count": 2,
     "metadata": {},
     "output_type": "execute_result"
    }
   ],
   "source": [
    "sortZeroesAndOne([1,0,1,1,0,1,0,1])"
   ]
  },
  {
   "cell_type": "markdown",
   "id": "91d739e9",
   "metadata": {},
   "source": [
    "Reverse of array"
   ]
  },
  {
   "cell_type": "code",
   "execution_count": 1,
   "id": "20c3511f",
   "metadata": {},
   "outputs": [
    {
     "data": {
      "text/plain": [
       "[50, 40, 30, 20, 10]"
      ]
     },
     "execution_count": 1,
     "metadata": {},
     "output_type": "execute_result"
    }
   ],
   "source": [
    "def Reverse(a):\n",
    "    \n",
    "    for i in range(len(a)//2):\n",
    "        a[i],a[len(a)-i-1] = a[len(a)-i-1],a[i]\n",
    "    return a\n",
    "    \n",
    "    \n",
    "    \n",
    "a = [10,20,30,40,50]\n",
    "Reverse(a)"
   ]
  },
  {
   "cell_type": "code",
   "execution_count": 11,
   "id": "77b90033",
   "metadata": {},
   "outputs": [
    {
     "data": {
      "text/plain": [
       "4"
      ]
     },
     "execution_count": 11,
     "metadata": {},
     "output_type": "execute_result"
    }
   ],
   "source": [
    "def findKthLargest(nums,k ):\n",
    "    nums.sort()\n",
    "    return nums[-k]\n",
    "a = [3,2,3,1,2,4,5,5,6]\n",
    "k = 4\n",
    "findKthLargest(a,k)"
   ]
  },
  {
   "cell_type": "code",
   "execution_count": 12,
   "id": "641ac4c9",
   "metadata": {},
   "outputs": [
    {
     "data": {
      "text/plain": [
       "3"
      ]
     },
     "execution_count": 12,
     "metadata": {},
     "output_type": "execute_result"
    }
   ],
   "source": [
    "def findKthSmallest(nums,k ):\n",
    "    nums.sort()\n",
    "    return nums[k]\n",
    "a = [3,2,3,1,2,4,5,5,6]\n",
    "k = 4\n",
    "findKthSmallest(a,k)"
   ]
  },
  {
   "cell_type": "code",
   "execution_count": null,
   "id": "5921c712",
   "metadata": {},
   "outputs": [],
   "source": []
  }
 ],
 "metadata": {
  "kernelspec": {
   "display_name": "Python 3 (ipykernel)",
   "language": "python",
   "name": "python3"
  },
  "language_info": {
   "codemirror_mode": {
    "name": "ipython",
    "version": 3
   },
   "file_extension": ".py",
   "mimetype": "text/x-python",
   "name": "python",
   "nbconvert_exporter": "python",
   "pygments_lexer": "ipython3",
   "version": "3.9.7"
  }
 },
 "nbformat": 4,
 "nbformat_minor": 5
}
