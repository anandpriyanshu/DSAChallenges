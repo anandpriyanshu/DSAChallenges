{
 "cells": [
  {
   "cell_type": "markdown",
   "id": "0dd7ef52",
   "metadata": {},
   "source": [
    "### Linear Search Through Functions"
   ]
  },
  {
   "cell_type": "code",
   "execution_count": 1,
   "id": "8672a27b",
   "metadata": {},
   "outputs": [
    {
     "name": "stdout",
     "output_type": "stream",
     "text": [
      "3\n"
     ]
    }
   ],
   "source": [
    "def linear_search(l1,ele):\n",
    "    #l1 is the list and ele to be search\n",
    "    for i in range(len(l1)):\n",
    "        if l1[i]==ele:\n",
    "            return i\n",
    "    return -1    \n",
    "\n",
    "l1 = [1,2,3,6,5]\n",
    "index=linear_search(l1,6)\n",
    "print(index)"
   ]
  },
  {
   "cell_type": "code",
   "execution_count": 3,
   "id": "98381d15",
   "metadata": {},
   "outputs": [
    {
     "name": "stdout",
     "output_type": "stream",
     "text": [
      "2\n"
     ]
    }
   ],
   "source": [
    "def linear_search(l1,ele):\n",
    "    #l1 is the list and ele to be search\n",
    "    for i in range(len(l1)):\n",
    "        if l1[i]==ele:\n",
    "            return i\n",
    "    return -1    \n",
    "\n",
    "l1 = [1,2,3,6,5]\n",
    "index=linear_search(l1,3)\n",
    "print(index)"
   ]
  },
  {
   "cell_type": "code",
   "execution_count": null,
   "id": "8833ba17",
   "metadata": {},
   "outputs": [],
   "source": []
  }
 ],
 "metadata": {
  "kernelspec": {
   "display_name": "Python 3 (ipykernel)",
   "language": "python",
   "name": "python3"
  },
  "language_info": {
   "codemirror_mode": {
    "name": "ipython",
    "version": 3
   },
   "file_extension": ".py",
   "mimetype": "text/x-python",
   "name": "python",
   "nbconvert_exporter": "python",
   "pygments_lexer": "ipython3",
   "version": "3.9.7"
  }
 },
 "nbformat": 4,
 "nbformat_minor": 5
}
