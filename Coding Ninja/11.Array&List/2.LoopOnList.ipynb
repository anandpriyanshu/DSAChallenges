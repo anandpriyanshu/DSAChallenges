{
 "cells": [
  {
   "cell_type": "code",
   "execution_count": 1,
   "id": "9ea1d7d2",
   "metadata": {},
   "outputs": [],
   "source": [
    "l1= [1,2,'anand',8,12,'jemer']"
   ]
  },
  {
   "cell_type": "code",
   "execution_count": 3,
   "id": "1b8d9d5c",
   "metadata": {},
   "outputs": [
    {
     "name": "stdout",
     "output_type": "stream",
     "text": [
      "1\n",
      "2\n",
      "anand\n",
      "8\n",
      "12\n",
      "jemer\n"
     ]
    }
   ],
   "source": [
    "for i in range(len(l1)):       # i goes to 0 to n\n",
    "    print(l1[i])               # if pgm need index, do like this"
   ]
  },
  {
   "cell_type": "code",
   "execution_count": 8,
   "id": "cfba56d1",
   "metadata": {},
   "outputs": [
    {
     "name": "stdout",
     "output_type": "stream",
     "text": [
      "anand\n",
      "8\n",
      "12\n",
      "jemer\n"
     ]
    }
   ],
   "source": [
    "for i in range(2,len(l1)):\n",
    "    print(l1[i])"
   ]
  },
  {
   "cell_type": "code",
   "execution_count": 9,
   "id": "a7331707",
   "metadata": {},
   "outputs": [
    {
     "name": "stdout",
     "output_type": "stream",
     "text": [
      "1\n",
      "2\n",
      "anand\n",
      "8\n",
      "12\n",
      "jemer\n"
     ]
    }
   ],
   "source": [
    "for ele in l1:    #if pgm don't need index do like this\n",
    "    print(ele)"
   ]
  },
  {
   "cell_type": "code",
   "execution_count": 10,
   "id": "eb790e29",
   "metadata": {},
   "outputs": [
    {
     "name": "stdout",
     "output_type": "stream",
     "text": [
      "anand\n",
      "8\n",
      "12\n",
      "jemer\n"
     ]
    }
   ],
   "source": [
    "for ele in l1[2:]:          #if we want to start from particular index we can do  slicing\n",
    "    print(ele)\n",
    "                                "
   ]
  },
  {
   "cell_type": "code",
   "execution_count": 16,
   "id": "c358eda7",
   "metadata": {},
   "outputs": [
    {
     "name": "stdout",
     "output_type": "stream",
     "text": [
      "anand\n",
      "8\n"
     ]
    }
   ],
   "source": [
    "for ele in l1[2:4]:\n",
    "    print(ele)"
   ]
  },
  {
   "cell_type": "code",
   "execution_count": null,
   "id": "963032e1",
   "metadata": {},
   "outputs": [],
   "source": []
  }
 ],
 "metadata": {
  "kernelspec": {
   "display_name": "Python 3 (ipykernel)",
   "language": "python",
   "name": "python3"
  },
  "language_info": {
   "codemirror_mode": {
    "name": "ipython",
    "version": 3
   },
   "file_extension": ".py",
   "mimetype": "text/x-python",
   "name": "python",
   "nbconvert_exporter": "python",
   "pygments_lexer": "ipython3",
   "version": "3.9.7"
  }
 },
 "nbformat": 4,
 "nbformat_minor": 5
}
