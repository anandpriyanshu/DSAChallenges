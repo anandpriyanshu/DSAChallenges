{
 "cells": [
  {
   "cell_type": "markdown",
   "id": "71c9e031",
   "metadata": {},
   "source": [
    "Function of string"
   ]
  },
  {
   "cell_type": "code",
   "execution_count": 1,
   "id": "54559d5f",
   "metadata": {},
   "outputs": [],
   "source": [
    "str = 'My name is Anand'"
   ]
  },
  {
   "cell_type": "code",
   "execution_count": 2,
   "id": "035c49dc",
   "metadata": {},
   "outputs": [],
   "source": [
    "li = str.split()"
   ]
  },
  {
   "cell_type": "code",
   "execution_count": 4,
   "id": "20d6ca0e",
   "metadata": {},
   "outputs": [
    {
     "data": {
      "text/plain": [
       "['My', 'name', 'is', 'Anand']"
      ]
     },
     "execution_count": 4,
     "metadata": {},
     "output_type": "execute_result"
    }
   ],
   "source": [
    "li"
   ]
  },
  {
   "cell_type": "code",
   "execution_count": 5,
   "id": "75d5722e",
   "metadata": {},
   "outputs": [],
   "source": [
    "str = 'My,name,is,Anand'"
   ]
  },
  {
   "cell_type": "code",
   "execution_count": 6,
   "id": "3dc0fd91",
   "metadata": {},
   "outputs": [],
   "source": [
    "li = str.split()"
   ]
  },
  {
   "cell_type": "code",
   "execution_count": 7,
   "id": "d810d6c9",
   "metadata": {},
   "outputs": [
    {
     "data": {
      "text/plain": [
       "['My,name,is,Anand']"
      ]
     },
     "execution_count": 7,
     "metadata": {},
     "output_type": "execute_result"
    }
   ],
   "source": [
    "li"
   ]
  },
  {
   "cell_type": "code",
   "execution_count": 10,
   "id": "686a2ca4",
   "metadata": {},
   "outputs": [],
   "source": [
    "li = str.split(',')"
   ]
  },
  {
   "cell_type": "code",
   "execution_count": 11,
   "id": "518d6cfc",
   "metadata": {},
   "outputs": [
    {
     "data": {
      "text/plain": [
       "['My', 'name', 'is', 'Anand']"
      ]
     },
     "execution_count": 11,
     "metadata": {},
     "output_type": "execute_result"
    }
   ],
   "source": [
    "li"
   ]
  },
  {
   "cell_type": "code",
   "execution_count": null,
   "id": "cf38edb1",
   "metadata": {},
   "outputs": [],
   "source": [
    "li = str.split(',',1)    #n+1"
   ]
  },
  {
   "cell_type": "code",
   "execution_count": 13,
   "id": "0686431e",
   "metadata": {},
   "outputs": [
    {
     "data": {
      "text/plain": [
       "['My', 'name,is,Anand']"
      ]
     },
     "execution_count": 13,
     "metadata": {},
     "output_type": "execute_result"
    }
   ],
   "source": [
    "li"
   ]
  },
  {
   "cell_type": "code",
   "execution_count": 14,
   "id": "10db952e",
   "metadata": {},
   "outputs": [],
   "source": [
    "li = str.split(',',2)"
   ]
  },
  {
   "cell_type": "code",
   "execution_count": 15,
   "id": "09ed7114",
   "metadata": {},
   "outputs": [
    {
     "data": {
      "text/plain": [
       "['My', 'name', 'is,Anand']"
      ]
     },
     "execution_count": 15,
     "metadata": {},
     "output_type": "execute_result"
    }
   ],
   "source": [
    "li"
   ]
  },
  {
   "cell_type": "markdown",
   "id": "efbc36ad",
   "metadata": {},
   "source": [
    "Replace"
   ]
  },
  {
   "cell_type": "code",
   "execution_count": 17,
   "id": "9ebb7118",
   "metadata": {},
   "outputs": [
    {
     "name": "stdout",
     "output_type": "stream",
     "text": [
      "My name is Priyanshu\n"
     ]
    }
   ],
   "source": [
    "str = 'My name is Priyanshu'\n",
    "str.replace('Priyanshu','Anand')          #bcz string are immutable\n",
    "print(str)"
   ]
  },
  {
   "cell_type": "code",
   "execution_count": 21,
   "id": "ab3248e8",
   "metadata": {},
   "outputs": [
    {
     "name": "stdout",
     "output_type": "stream",
     "text": [
      "My name is Anand\n"
     ]
    }
   ],
   "source": [
    "str = 'My name is Priyanshu'\n",
    "str = str.replace('Priyanshu','Anand')               #actually returing new string\n",
    "print(str) "
   ]
  },
  {
   "cell_type": "code",
   "execution_count": 22,
   "id": "a5453bb6",
   "metadata": {},
   "outputs": [
    {
     "name": "stdout",
     "output_type": "stream",
     "text": [
      "My name is Anand Anand Anand\n"
     ]
    }
   ],
   "source": [
    "str = 'My name is Priyanshu Priyanshu Priyanshu'\n",
    "str = str.replace('Priyanshu','Anand')              \n",
    "print(str) "
   ]
  },
  {
   "cell_type": "code",
   "execution_count": null,
   "id": "597b764c",
   "metadata": {},
   "outputs": [],
   "source": [
    "str = 'My name is Priyanshu Priyanshu Priyanshu'\n",
    "str = str.replace('Priyanshu','Anand',2)               #only specify two stringstring\n",
    "print(str) "
   ]
  },
  {
   "cell_type": "markdown",
   "id": "4486fdfb",
   "metadata": {},
   "source": [
    "Find,\n",
    "Find return index actually"
   ]
  },
  {
   "cell_type": "code",
   "execution_count": 27,
   "id": "222ff3c4",
   "metadata": {
    "scrolled": true
   },
   "outputs": [
    {
     "name": "stdout",
     "output_type": "stream",
     "text": [
      "3\n"
     ]
    }
   ],
   "source": [
    "str  = 'My name is Priyanshu'\n",
    "index = str.find('na')\n",
    "print(index)"
   ]
  },
  {
   "cell_type": "code",
   "execution_count": 29,
   "id": "c5c521fa",
   "metadata": {},
   "outputs": [
    {
     "name": "stdout",
     "output_type": "stream",
     "text": [
      "-1\n"
     ]
    }
   ],
   "source": [
    "str  = 'My name is Priyanshu'\n",
    "index = str.find('Na')\n",
    "print(index)               #means string is not present"
   ]
  },
  {
   "cell_type": "code",
   "execution_count": 30,
   "id": "a59b80a7",
   "metadata": {},
   "outputs": [
    {
     "name": "stdout",
     "output_type": "stream",
     "text": [
      "11\n"
     ]
    }
   ],
   "source": [
    "str  = 'My name is Priyanshu Priyanshu'\n",
    "index = str.find('Pri')\n",
    "print(index)"
   ]
  },
  {
   "cell_type": "code",
   "execution_count": 33,
   "id": "7c17051c",
   "metadata": {},
   "outputs": [
    {
     "name": "stdout",
     "output_type": "stream",
     "text": [
      "11\n"
     ]
    }
   ],
   "source": [
    "str  = 'My name is Priyanshu Priyanshu'\n",
    "index = str.find('Pri',10,21)\n",
    "print(index)"
   ]
  },
  {
   "cell_type": "markdown",
   "id": "c0fd2996",
   "metadata": {},
   "source": [
    "Lower &  upper"
   ]
  },
  {
   "cell_type": "code",
   "execution_count": 35,
   "id": "06682be0",
   "metadata": {},
   "outputs": [
    {
     "name": "stdout",
     "output_type": "stream",
     "text": [
      "My name is Priyanshu\n"
     ]
    }
   ],
   "source": [
    "str  = 'My name is Priyanshu'\n",
    "str.lower()\n",
    "print(str)"
   ]
  },
  {
   "cell_type": "code",
   "execution_count": 39,
   "id": "5cfe4cfd",
   "metadata": {},
   "outputs": [
    {
     "name": "stdout",
     "output_type": "stream",
     "text": [
      "my name is priyanshu\n",
      "MY NAME IS PRIYANSHU\n"
     ]
    }
   ],
   "source": [
    "str  = 'My name is Priyanshu'\n",
    "str = str.lower()              #have to store\n",
    "print(str)\n",
    "str = str.upper()\n",
    "print(str)"
   ]
  },
  {
   "cell_type": "markdown",
   "id": "3f9803a1",
   "metadata": {},
   "source": [
    "startswith"
   ]
  },
  {
   "cell_type": "code",
   "execution_count": 41,
   "id": "ad04bcbf",
   "metadata": {},
   "outputs": [
    {
     "name": "stdout",
     "output_type": "stream",
     "text": [
      "True\n"
     ]
    }
   ],
   "source": [
    "str  = 'My name is Priyanshu'\n",
    "ans = str.startswith('My na')\n",
    "print(ans)"
   ]
  },
  {
   "cell_type": "code",
   "execution_count": 42,
   "id": "1e637a3f",
   "metadata": {},
   "outputs": [
    {
     "name": "stdout",
     "output_type": "stream",
     "text": [
      "False\n"
     ]
    }
   ],
   "source": [
    "str  = 'My name is Priyanshu'\n",
    "ans = str.startswith('My Na')\n",
    "print(ans)"
   ]
  },
  {
   "cell_type": "code",
   "execution_count": 44,
   "id": "b2e1c9bd",
   "metadata": {},
   "outputs": [
    {
     "name": "stdout",
     "output_type": "stream",
     "text": [
      "False\n"
     ]
    }
   ],
   "source": [
    "str  = 'My name is Priyanshu'\n",
    "ans = str.startswith('My Na',11,25)\n",
    "print(ans)"
   ]
  },
  {
   "cell_type": "code",
   "execution_count": null,
   "id": "e42c6e82",
   "metadata": {},
   "outputs": [],
   "source": []
  }
 ],
 "metadata": {
  "kernelspec": {
   "display_name": "Python 3 (ipykernel)",
   "language": "python",
   "name": "python3"
  },
  "language_info": {
   "codemirror_mode": {
    "name": "ipython",
    "version": 3
   },
   "file_extension": ".py",
   "mimetype": "text/x-python",
   "name": "python",
   "nbconvert_exporter": "python",
   "pygments_lexer": "ipython3",
   "version": "3.9.7"
  }
 },
 "nbformat": 4,
 "nbformat_minor": 5
}
