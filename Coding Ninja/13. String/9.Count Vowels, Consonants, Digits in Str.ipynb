{
 "cells": [
  {
   "cell_type": "markdown",
   "id": "bede07d7",
   "metadata": {},
   "source": [
    "Count vowels, consonents, digit and special character in string"
   ]
  },
  {
   "cell_type": "code",
   "execution_count": 2,
   "id": "e21e9840",
   "metadata": {},
   "outputs": [
    {
     "name": "stdout",
     "output_type": "stream",
     "text": [
      "6 46 29 1\n"
     ]
    }
   ],
   "source": [
    "def countinstring(str):\n",
    "    v,c,d,s = 0,0,0,0\n",
    "    for char in str:\n",
    "        if (char>='a' and char<='z') or (char >= 'A' and char<='Z'):\n",
    "            char = char.lower()\n",
    "            if char=='a' or char=='e' or char=='i' or char=='o' or char=='u':\n",
    "                v+=1\n",
    "            else:\n",
    "                c+=1\n",
    "        elif char >= '0' and char<='9':\n",
    "            d+=1\n",
    "        else:\n",
    "            s+=1\n",
    "    return v,c,d,s        \n",
    "        \n",
    "# str = 'jkjcklcfkjfipjk467475+168541445789ijhbjcnbjkXCHGFVUGlsjo43527683568nJCNJDCGHCFHADO'\n",
    "str ='8541445789ijhbjcnbjkXCHGFVUGlsjo43527683568nJCNJDCGHCFHADO'\n",
    "v,c,d,s = countinstring(str)\n",
    "print(v,c,d,s)"
   ]
  },
  {
   "cell_type": "code",
   "execution_count": 16,
   "id": "8f75eaa7",
   "metadata": {},
   "outputs": [],
   "source": [
    "def countinstring(str):\n",
    "\n",
    "    v = 0\n",
    "\n",
    "    for chr in str:\n",
    "        if  chr >= \"a\" and chr <= \"z\"  or chr >= \"A\" and chr<=\"Z\":\n",
    "            chr = chr.lower()\n",
    "            if chr == 'a' or chr == 'e' or chr == 'i' or chr == 'o' or chr == 'u':\n",
    "                v += 1\n",
    "    return v\n",
    "       \n",
    "   \n"
   ]
  },
  {
   "cell_type": "code",
   "execution_count": 15,
   "id": "4572bea7",
   "metadata": {},
   "outputs": [
    {
     "name": "stdout",
     "output_type": "stream",
     "text": [
      "0\n"
     ]
    }
   ],
   "source": [
    "str ='aeiouu'\n",
    "v = countinstring(str)\n",
    "print(v)"
   ]
  },
  {
   "cell_type": "code",
   "execution_count": 1,
   "id": "9e4dac98",
   "metadata": {},
   "outputs": [
    {
     "data": {
      "text/plain": [
       "'sadbutsad'"
      ]
     },
     "execution_count": 1,
     "metadata": {},
     "output_type": "execute_result"
    }
   ],
   "source": [
    "s = 'sadbutsad'\n",
    "s"
   ]
  },
  {
   "cell_type": "code",
   "execution_count": 2,
   "id": "df89ecbd",
   "metadata": {},
   "outputs": [
    {
     "data": {
      "text/plain": [
       "'sad'"
      ]
     },
     "execution_count": 2,
     "metadata": {},
     "output_type": "execute_result"
    }
   ],
   "source": [
    "s[0:3]"
   ]
  },
  {
   "cell_type": "code",
   "execution_count": 3,
   "id": "f4ea086f",
   "metadata": {},
   "outputs": [
    {
     "data": {
      "text/plain": [
       "'utsad'"
      ]
     },
     "execution_count": 3,
     "metadata": {},
     "output_type": "execute_result"
    }
   ],
   "source": [
    "s[4::]"
   ]
  },
  {
   "cell_type": "code",
   "execution_count": 6,
   "id": "9a0fa00e",
   "metadata": {},
   "outputs": [
    {
     "data": {
      "text/plain": [
       "False"
      ]
     },
     "execution_count": 6,
     "metadata": {},
     "output_type": "execute_result"
    }
   ],
   "source": [
    "s[0:3] == s[4::]\n"
   ]
  },
  {
   "cell_type": "code",
   "execution_count": 10,
   "id": "e210d177",
   "metadata": {},
   "outputs": [],
   "source": [
    "a= s[:3]"
   ]
  },
  {
   "cell_type": "code",
   "execution_count": 11,
   "id": "da28d987",
   "metadata": {},
   "outputs": [
    {
     "data": {
      "text/plain": [
       "'sad'"
      ]
     },
     "execution_count": 11,
     "metadata": {},
     "output_type": "execute_result"
    }
   ],
   "source": [
    "n = \"sad\"\n",
    "a"
   ]
  },
  {
   "cell_type": "code",
   "execution_count": 12,
   "id": "aafd3964",
   "metadata": {},
   "outputs": [],
   "source": [
    "n  = \"sad\""
   ]
  },
  {
   "cell_type": "code",
   "execution_count": 13,
   "id": "bc5cd97b",
   "metadata": {},
   "outputs": [
    {
     "data": {
      "text/plain": [
       "True"
      ]
     },
     "execution_count": 13,
     "metadata": {},
     "output_type": "execute_result"
    }
   ],
   "source": [
    "a == n"
   ]
  },
  {
   "cell_type": "code",
   "execution_count": null,
   "id": "d743f758",
   "metadata": {},
   "outputs": [],
   "source": []
  }
 ],
 "metadata": {
  "kernelspec": {
   "display_name": "Python 3 (ipykernel)",
   "language": "python",
   "name": "python3"
  },
  "language_info": {
   "codemirror_mode": {
    "name": "ipython",
    "version": 3
   },
   "file_extension": ".py",
   "mimetype": "text/x-python",
   "name": "python",
   "nbconvert_exporter": "python",
   "pygments_lexer": "ipython3",
   "version": "3.11.9"
  }
 },
 "nbformat": 4,
 "nbformat_minor": 5
}
