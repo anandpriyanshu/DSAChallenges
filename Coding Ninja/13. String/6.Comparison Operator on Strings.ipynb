{
 "cells": [
  {
   "cell_type": "markdown",
   "id": "4e3e29db",
   "metadata": {},
   "source": [
    "= >=  <=  ==  !="
   ]
  },
  {
   "cell_type": "code",
   "execution_count": 4,
   "id": "e3af95ee",
   "metadata": {},
   "outputs": [],
   "source": [
    "p = 'shanu' == 'shanu'"
   ]
  },
  {
   "cell_type": "code",
   "execution_count": 5,
   "id": "b713a053",
   "metadata": {},
   "outputs": [
    {
     "data": {
      "text/plain": [
       "True"
      ]
     },
     "execution_count": 5,
     "metadata": {},
     "output_type": "execute_result"
    }
   ],
   "source": [
    "p"
   ]
  },
  {
   "cell_type": "code",
   "execution_count": 10,
   "id": "ec241219",
   "metadata": {},
   "outputs": [],
   "source": [
    "p = 'shanu' >= 'mhanu'            #   bcz  ASCII(s)>ASCII(m), string compaired on the basis of ASCII value"
   ]
  },
  {
   "cell_type": "code",
   "execution_count": 11,
   "id": "92ceab2d",
   "metadata": {},
   "outputs": [
    {
     "data": {
      "text/plain": [
       "True"
      ]
     },
     "execution_count": 11,
     "metadata": {},
     "output_type": "execute_result"
    }
   ],
   "source": [
    "p"
   ]
  },
  {
   "cell_type": "code",
   "execution_count": 14,
   "id": "32f9ff80",
   "metadata": {},
   "outputs": [],
   "source": [
    "p = 'shanu' >= 'sganu'            #ASCII(h)>ASCII(G)"
   ]
  },
  {
   "cell_type": "code",
   "execution_count": 15,
   "id": "2aca0170",
   "metadata": {},
   "outputs": [
    {
     "data": {
      "text/plain": [
       "True"
      ]
     },
     "execution_count": 15,
     "metadata": {},
     "output_type": "execute_result"
    }
   ],
   "source": [
    "p"
   ]
  },
  {
   "cell_type": "code",
   "execution_count": 18,
   "id": "9c849aee",
   "metadata": {},
   "outputs": [],
   "source": [
    "p = 'shanu' >= 'Shanu'        #ASCII(s)>ASCII(S)"
   ]
  },
  {
   "cell_type": "code",
   "execution_count": 19,
   "id": "dd5d51d6",
   "metadata": {},
   "outputs": [
    {
     "data": {
      "text/plain": [
       "True"
      ]
     },
     "execution_count": 19,
     "metadata": {},
     "output_type": "execute_result"
    }
   ],
   "source": [
    "p"
   ]
  },
  {
   "cell_type": "code",
   "execution_count": 20,
   "id": "47b2ec38",
   "metadata": {},
   "outputs": [],
   "source": [
    "p = 'sha' >= 'shanu'      #len matters"
   ]
  },
  {
   "cell_type": "code",
   "execution_count": 21,
   "id": "0b961528",
   "metadata": {},
   "outputs": [
    {
     "data": {
      "text/plain": [
       "False"
      ]
     },
     "execution_count": 21,
     "metadata": {},
     "output_type": "execute_result"
    }
   ],
   "source": [
    "p"
   ]
  },
  {
   "cell_type": "code",
   "execution_count": 22,
   "id": "e930d1b3",
   "metadata": {},
   "outputs": [],
   "source": [
    "p = 'shanu' >= 'sha'"
   ]
  },
  {
   "cell_type": "code",
   "execution_count": 23,
   "id": "01f17e97",
   "metadata": {},
   "outputs": [
    {
     "data": {
      "text/plain": [
       "True"
      ]
     },
     "execution_count": 23,
     "metadata": {},
     "output_type": "execute_result"
    }
   ],
   "source": [
    "p"
   ]
  },
  {
   "cell_type": "code",
   "execution_count": 24,
   "id": "ed309877",
   "metadata": {},
   "outputs": [],
   "source": [
    "p = 'Shanu' >= 'shanu'"
   ]
  },
  {
   "cell_type": "code",
   "execution_count": 25,
   "id": "39b93a3d",
   "metadata": {},
   "outputs": [
    {
     "data": {
      "text/plain": [
       "False"
      ]
     },
     "execution_count": 25,
     "metadata": {},
     "output_type": "execute_result"
    }
   ],
   "source": [
    "p"
   ]
  },
  {
   "cell_type": "code",
   "execution_count": 26,
   "id": "b24bfeb4",
   "metadata": {},
   "outputs": [],
   "source": [
    "p = 'shanu' != 'shanu'"
   ]
  },
  {
   "cell_type": "code",
   "execution_count": 27,
   "id": "c2aeaa02",
   "metadata": {},
   "outputs": [
    {
     "data": {
      "text/plain": [
       "False"
      ]
     },
     "execution_count": 27,
     "metadata": {},
     "output_type": "execute_result"
    }
   ],
   "source": [
    "p"
   ]
  },
  {
   "cell_type": "code",
   "execution_count": 28,
   "id": "f6f272c0",
   "metadata": {},
   "outputs": [],
   "source": [
    "p = 'sha' != 'shanu'"
   ]
  },
  {
   "cell_type": "code",
   "execution_count": 29,
   "id": "a894cf2e",
   "metadata": {},
   "outputs": [
    {
     "data": {
      "text/plain": [
       "True"
      ]
     },
     "execution_count": 29,
     "metadata": {},
     "output_type": "execute_result"
    }
   ],
   "source": [
    "p"
   ]
  },
  {
   "cell_type": "code",
   "execution_count": null,
   "id": "895d9f75",
   "metadata": {},
   "outputs": [],
   "source": []
  }
 ],
 "metadata": {
  "kernelspec": {
   "display_name": "Python 3 (ipykernel)",
   "language": "python",
   "name": "python3"
  },
  "language_info": {
   "codemirror_mode": {
    "name": "ipython",
    "version": 3
   },
   "file_extension": ".py",
   "mimetype": "text/x-python",
   "name": "python",
   "nbconvert_exporter": "python",
   "pygments_lexer": "ipython3",
   "version": "3.9.7"
  }
 },
 "nbformat": 4,
 "nbformat_minor": 5
}
