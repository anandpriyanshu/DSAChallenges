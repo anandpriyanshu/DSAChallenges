{
 "cells": [
  {
   "cell_type": "code",
   "execution_count": 1,
   "id": "fbc20102",
   "metadata": {},
   "outputs": [],
   "source": [
    "p = 'anand'\n"
   ]
  },
  {
   "cell_type": "code",
   "execution_count": 2,
   "id": "7526c2ab",
   "metadata": {},
   "outputs": [
    {
     "data": {
      "text/plain": [
       "1943506466096"
      ]
     },
     "execution_count": 2,
     "metadata": {},
     "output_type": "execute_result"
    }
   ],
   "source": [
    "id(p)"
   ]
  },
  {
   "cell_type": "code",
   "execution_count": 2,
   "id": "d9f9c7ab",
   "metadata": {},
   "outputs": [],
   "source": [
    "m = 'game'"
   ]
  },
  {
   "cell_type": "code",
   "execution_count": 4,
   "id": "47203a99",
   "metadata": {},
   "outputs": [
    {
     "data": {
      "text/plain": [
       "1943507023664"
      ]
     },
     "execution_count": 4,
     "metadata": {},
     "output_type": "execute_result"
    }
   ],
   "source": [
    "id(m)"
   ]
  },
  {
   "cell_type": "code",
   "execution_count": 5,
   "id": "a2255610",
   "metadata": {},
   "outputs": [],
   "source": [
    "m = 'anand'"
   ]
  },
  {
   "cell_type": "code",
   "execution_count": 6,
   "id": "3a0dcdba",
   "metadata": {},
   "outputs": [
    {
     "data": {
      "text/plain": [
       "1943506466096"
      ]
     },
     "execution_count": 6,
     "metadata": {},
     "output_type": "execute_result"
    }
   ],
   "source": [
    "id(m)"
   ]
  },
  {
   "cell_type": "code",
   "execution_count": 7,
   "id": "f049062c",
   "metadata": {},
   "outputs": [
    {
     "data": {
      "text/plain": [
       "1943506466096"
      ]
     },
     "execution_count": 7,
     "metadata": {},
     "output_type": "execute_result"
    }
   ],
   "source": [
    "id(p)"
   ]
  },
  {
   "cell_type": "markdown",
   "id": "b5cfe271",
   "metadata": {},
   "source": [
    "### Strings are immutable in python"
   ]
  },
  {
   "cell_type": "code",
   "execution_count": 8,
   "id": "b5c1bdc4",
   "metadata": {},
   "outputs": [],
   "source": [
    "p = 'anand'"
   ]
  },
  {
   "cell_type": "code",
   "execution_count": 9,
   "id": "e2378cb0",
   "metadata": {},
   "outputs": [
    {
     "name": "stdout",
     "output_type": "stream",
     "text": [
      "a\n"
     ]
    }
   ],
   "source": [
    "print(p[0])"
   ]
  },
  {
   "cell_type": "code",
   "execution_count": 10,
   "id": "05d9cd3d",
   "metadata": {},
   "outputs": [
    {
     "ename": "TypeError",
     "evalue": "'str' object does not support item assignment",
     "output_type": "error",
     "traceback": [
      "\u001b[1;31m---------------------------------------------------------------------------\u001b[0m",
      "\u001b[1;31mTypeError\u001b[0m                                 Traceback (most recent call last)",
      "\u001b[1;32mC:\\Users\\PRIYAN~1\\AppData\\Local\\Temp/ipykernel_8344/2514014221.py\u001b[0m in \u001b[0;36m<module>\u001b[1;34m\u001b[0m\n\u001b[1;32m----> 1\u001b[1;33m \u001b[0mp\u001b[0m\u001b[1;33m[\u001b[0m\u001b[1;36m0\u001b[0m\u001b[1;33m]\u001b[0m\u001b[1;33m=\u001b[0m\u001b[1;34m'r'\u001b[0m\u001b[1;33m\u001b[0m\u001b[1;33m\u001b[0m\u001b[0m\n\u001b[0m",
      "\u001b[1;31mTypeError\u001b[0m: 'str' object does not support item assignment"
     ]
    }
   ],
   "source": [
    "p[0]='r'            #we can change only in refrences not in variable(string)"
   ]
  },
  {
   "cell_type": "code",
   "execution_count": null,
   "id": "2c5be86e",
   "metadata": {},
   "outputs": [],
   "source": []
  }
 ],
 "metadata": {
  "kernelspec": {
   "display_name": "Python 3 (ipykernel)",
   "language": "python",
   "name": "python3"
  },
  "language_info": {
   "codemirror_mode": {
    "name": "ipython",
    "version": 3
   },
   "file_extension": ".py",
   "mimetype": "text/x-python",
   "name": "python",
   "nbconvert_exporter": "python",
   "pygments_lexer": "ipython3",
   "version": "3.11.9"
  }
 },
 "nbformat": 4,
 "nbformat_minor": 5
}
