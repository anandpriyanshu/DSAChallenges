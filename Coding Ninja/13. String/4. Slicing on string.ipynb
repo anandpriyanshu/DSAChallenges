{
 "cells": [
  {
   "cell_type": "code",
   "execution_count": 1,
   "id": "e8d786ce",
   "metadata": {},
   "outputs": [],
   "source": [
    "a = 'priynahsu'"
   ]
  },
  {
   "cell_type": "code",
   "execution_count": 2,
   "id": "020f1739",
   "metadata": {},
   "outputs": [
    {
     "data": {
      "text/plain": [
       "'riy'"
      ]
     },
     "execution_count": 2,
     "metadata": {},
     "output_type": "execute_result"
    }
   ],
   "source": [
    "a[1:4]"
   ]
  },
  {
   "cell_type": "code",
   "execution_count": 3,
   "id": "7a31cc73",
   "metadata": {},
   "outputs": [
    {
     "data": {
      "text/plain": [
       "'ry'"
      ]
     },
     "execution_count": 3,
     "metadata": {},
     "output_type": "execute_result"
    }
   ],
   "source": [
    "a[1:5:2]"
   ]
  },
  {
   "cell_type": "code",
   "execution_count": 4,
   "id": "3d6d5486",
   "metadata": {},
   "outputs": [
    {
     "data": {
      "text/plain": [
       "''"
      ]
     },
     "execution_count": 4,
     "metadata": {},
     "output_type": "execute_result"
    }
   ],
   "source": [
    "a[6:4]"
   ]
  },
  {
   "cell_type": "code",
   "execution_count": 5,
   "id": "cf496611",
   "metadata": {},
   "outputs": [
    {
     "data": {
      "text/plain": [
       "'u'"
      ]
     },
     "execution_count": 5,
     "metadata": {},
     "output_type": "execute_result"
    }
   ],
   "source": [
    "a[-1]"
   ]
  },
  {
   "cell_type": "code",
   "execution_count": 6,
   "id": "cb37b184",
   "metadata": {},
   "outputs": [
    {
     "data": {
      "text/plain": [
       "'nah'"
      ]
     },
     "execution_count": 6,
     "metadata": {},
     "output_type": "execute_result"
    }
   ],
   "source": [
    "a[-5:-2]"
   ]
  },
  {
   "cell_type": "code",
   "execution_count": 7,
   "id": "d717c295",
   "metadata": {},
   "outputs": [
    {
     "data": {
      "text/plain": [
       "'riynahsu'"
      ]
     },
     "execution_count": 7,
     "metadata": {},
     "output_type": "execute_result"
    }
   ],
   "source": [
    "a[1:]"
   ]
  },
  {
   "cell_type": "code",
   "execution_count": 8,
   "id": "3a56c7c6",
   "metadata": {},
   "outputs": [
    {
     "data": {
      "text/plain": [
       "'priy'"
      ]
     },
     "execution_count": 8,
     "metadata": {},
     "output_type": "execute_result"
    }
   ],
   "source": [
    "a[:4]"
   ]
  },
  {
   "cell_type": "code",
   "execution_count": 9,
   "id": "ca430814",
   "metadata": {},
   "outputs": [
    {
     "data": {
      "text/plain": [
       "'riynahsu'"
      ]
     },
     "execution_count": 9,
     "metadata": {},
     "output_type": "execute_result"
    }
   ],
   "source": [
    "a[1:12]"
   ]
  },
  {
   "cell_type": "code",
   "execution_count": 10,
   "id": "53452849",
   "metadata": {},
   "outputs": [
    {
     "data": {
      "text/plain": [
       "'nyi'"
      ]
     },
     "execution_count": 10,
     "metadata": {},
     "output_type": "execute_result"
    }
   ],
   "source": [
    "a[4:1:-1]"
   ]
  },
  {
   "cell_type": "code",
   "execution_count": 15,
   "id": "aaf669d2",
   "metadata": {},
   "outputs": [
    {
     "data": {
      "text/plain": [
       "'ushanyirp'"
      ]
     },
     "execution_count": 15,
     "metadata": {},
     "output_type": "execute_result"
    }
   ],
   "source": [
    "a[8::-1]"
   ]
  },
  {
   "cell_type": "code",
   "execution_count": 16,
   "id": "53b7d713",
   "metadata": {},
   "outputs": [
    {
     "data": {
      "text/plain": [
       "'ushany'"
      ]
     },
     "execution_count": 16,
     "metadata": {},
     "output_type": "execute_result"
    }
   ],
   "source": [
    "a[:2:-1]"
   ]
  },
  {
   "cell_type": "code",
   "execution_count": 17,
   "id": "ed927693",
   "metadata": {},
   "outputs": [],
   "source": [
    "a = a[8::-1]"
   ]
  },
  {
   "cell_type": "code",
   "execution_count": 18,
   "id": "1bc85996",
   "metadata": {},
   "outputs": [
    {
     "data": {
      "text/plain": [
       "'ushanyirp'"
      ]
     },
     "execution_count": 18,
     "metadata": {},
     "output_type": "execute_result"
    }
   ],
   "source": [
    "a"
   ]
  },
  {
   "cell_type": "code",
   "execution_count": 19,
   "id": "83bda9ea",
   "metadata": {},
   "outputs": [
    {
     "data": {
      "text/plain": [
       "'ya'"
      ]
     },
     "execution_count": 19,
     "metadata": {},
     "output_type": "execute_result"
    }
   ],
   "source": [
    "a[5:1:-2]"
   ]
  },
  {
   "cell_type": "code",
   "execution_count": null,
   "id": "655e57e9",
   "metadata": {},
   "outputs": [],
   "source": []
  }
 ],
 "metadata": {
  "kernelspec": {
   "display_name": "Python 3 (ipykernel)",
   "language": "python",
   "name": "python3"
  },
  "language_info": {
   "codemirror_mode": {
    "name": "ipython",
    "version": 3
   },
   "file_extension": ".py",
   "mimetype": "text/x-python",
   "name": "python",
   "nbconvert_exporter": "python",
   "pygments_lexer": "ipython3",
   "version": "3.9.7"
  }
 },
 "nbformat": 4,
 "nbformat_minor": 5
}
