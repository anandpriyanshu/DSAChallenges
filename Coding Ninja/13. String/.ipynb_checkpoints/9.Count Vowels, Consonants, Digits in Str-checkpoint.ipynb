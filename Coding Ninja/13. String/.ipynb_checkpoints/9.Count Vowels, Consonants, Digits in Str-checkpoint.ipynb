{
 "cells": [
  {
   "cell_type": "markdown",
   "id": "bede07d7",
   "metadata": {},
   "source": [
    "Count vowels, consonents, digit and special character in string"
   ]
  },
  {
   "cell_type": "code",
   "execution_count": 5,
   "id": "e21e9840",
   "metadata": {},
   "outputs": [
    {
     "name": "stdout",
     "output_type": "stream",
     "text": [
      "6 46 29 1\n"
     ]
    }
   ],
   "source": [
    "def countinstring(str):\n",
    "    v,c,d,s = 0,0,0,0\n",
    "    for char in str:\n",
    "        if (char>='a' and char<='z') or (char >= 'A' and char<='Z'):\n",
    "            char = char.lower()\n",
    "            if char=='a' or char=='e' or char=='i' or char=='o' or char=='u':\n",
    "                v+=1\n",
    "            else:\n",
    "                c+=1\n",
    "        elif char >= '0' and char<='9':\n",
    "            d+=1\n",
    "        else:\n",
    "            s+=1\n",
    "    return v,c,d,s        \n",
    "        \n",
    "str = 'jkjcklcfkjfipjk467475+168541445789ijhbjcnbjkXCHGFVUGlsjo43527683568nJCNJDCGHCFHADO'\n",
    "v,c,d,s = countinstring(str)\n",
    "print(v,c,d,s)"
   ]
  },
  {
   "cell_type": "code",
   "execution_count": null,
   "id": "8f75eaa7",
   "metadata": {},
   "outputs": [],
   "source": []
  }
 ],
 "metadata": {
  "kernelspec": {
   "display_name": "Python 3 (ipykernel)",
   "language": "python",
   "name": "python3"
  },
  "language_info": {
   "codemirror_mode": {
    "name": "ipython",
    "version": 3
   },
   "file_extension": ".py",
   "mimetype": "text/x-python",
   "name": "python",
   "nbconvert_exporter": "python",
   "pygments_lexer": "ipython3",
   "version": "3.9.7"
  }
 },
 "nbformat": 4,
 "nbformat_minor": 5
}
