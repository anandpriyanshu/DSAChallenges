{
 "cells": [
  {
   "cell_type": "markdown",
   "id": "62cac84e",
   "metadata": {},
   "source": [
    "### Assignment"
   ]
  },
  {
   "cell_type": "markdown",
   "id": "eb662830",
   "metadata": {},
   "source": [
    "###  Permutation"
   ]
  },
  {
   "cell_type": "code",
   "execution_count": null,
   "id": "c162a76f",
   "metadata": {},
   "outputs": [],
   "source": [
    "# permutation\n",
    "def isPermutation(string1, string2) :\n",
    "\t#Your code goes here\n",
    "    n1 = len(string1)\n",
    "    n2 = len(string2)\n",
    "    \n",
    "    if n1 != n2:\n",
    "        return False\n",
    "    else:\n",
    "        s1 = sorted(string1)\n",
    "        s2 = sorted(string2)\n",
    "        \n",
    "        a = \"\".join(s1)\n",
    "        b = \"\".join(s2)\n",
    "        if a == b:\n",
    "            return True\n",
    "        else:\n",
    "            return False"
   ]
  },
  {
   "cell_type": "code",
   "execution_count": 4,
   "id": "cd6fa2f7",
   "metadata": {},
   "outputs": [
    {
     "data": {
      "text/plain": [
       "True"
      ]
     },
     "execution_count": 4,
     "metadata": {},
     "output_type": "execute_result"
    }
   ],
   "source": [
    "isPermutation('abcde','baedc')"
   ]
  },
  {
   "cell_type": "markdown",
   "id": "24e06180",
   "metadata": {},
   "source": [
    "### RemoveConsecutiveDuplicates"
   ]
  },
  {
   "cell_type": "code",
   "execution_count": 2,
   "id": "38e44124",
   "metadata": {},
   "outputs": [],
   "source": [
    "#removeConsecutiveDuplicates\n",
    "def removeConsecutiveDuplicates(string):\n",
    "    n = len(string)\n",
    "    str = string[0]\n",
    "    j = 0\n",
    "    for i in range(0,n-1):\n",
    "        if str[j]==string[i+1]:\n",
    "            continue\n",
    "        else:\n",
    "            str = str + string[i+1]\n",
    "            j = j+1\n",
    "    string = str\n",
    "    return string"
   ]
  },
  {
   "cell_type": "code",
   "execution_count": 3,
   "id": "90bd1e00",
   "metadata": {},
   "outputs": [
    {
     "data": {
      "text/plain": [
       "'abcba'"
      ]
     },
     "execution_count": 3,
     "metadata": {},
     "output_type": "execute_result"
    }
   ],
   "source": [
    "removeConsecutiveDuplicates('aabccbaa')"
   ]
  },
  {
   "cell_type": "code",
   "execution_count": 7,
   "id": "6011caf5",
   "metadata": {},
   "outputs": [],
   "source": [
    "#2nd method\n",
    "def removeConsecutiveDuplicates(li):\n",
    "    newstr = ''\n",
    "    for i in range(len(li)-1):\n",
    "        if newstr!='' and newstr[len(newstr)-1]==li[i]:\n",
    "            continue\n",
    "        newstr+=li[i]\n",
    "    return newstr        "
   ]
  },
  {
   "cell_type": "code",
   "execution_count": 6,
   "id": "db0a0795",
   "metadata": {},
   "outputs": [
    {
     "data": {
      "text/plain": [
       "'abcba'"
      ]
     },
     "execution_count": 6,
     "metadata": {},
     "output_type": "execute_result"
    }
   ],
   "source": [
    "removeConsecutiveDuplicates('aabccbaa')"
   ]
  },
  {
   "cell_type": "markdown",
   "id": "28c733aa",
   "metadata": {},
   "source": [
    "### Reverse Each Word"
   ]
  },
  {
   "cell_type": "code",
   "execution_count": 4,
   "id": "4d1212f8",
   "metadata": {},
   "outputs": [
    {
     "name": "stdout",
     "output_type": "stream",
     "text": [
      "Welcome to Coding Ninjas\n",
      "emocleW ot gnidoC sajniN\n"
     ]
    }
   ],
   "source": [
    "def reverseEachWord(string) :\n",
    "    arr = string.split()\n",
    "    for i in range(len(arr)):\n",
    "        arr[i] = arr[i][::-1]\n",
    "    return \" \".join(arr)\n",
    "\n",
    "s = input()\n",
    "print(reverseEachWord(s))"
   ]
  },
  {
   "cell_type": "markdown",
   "id": "2bc8c66d",
   "metadata": {},
   "source": [
    "### Remove character"
   ]
  },
  {
   "cell_type": "code",
   "execution_count": 1,
   "id": "c0ed0a29",
   "metadata": {},
   "outputs": [],
   "source": [
    "#My method\n",
    "def removeAllOccurrencesOfChar(s,ch):\n",
    "    s1 = ''\n",
    "    for i in range(len(s)):\n",
    "        if s[i] == ch:\n",
    "            continue\n",
    "        else:\n",
    "            s1 += s[i]\n",
    "    return s1        "
   ]
  },
  {
   "cell_type": "code",
   "execution_count": 2,
   "id": "afd68ef2",
   "metadata": {},
   "outputs": [
    {
     "data": {
      "text/plain": [
       "'bccb'"
      ]
     },
     "execution_count": 2,
     "metadata": {},
     "output_type": "execute_result"
    }
   ],
   "source": [
    "removeAllOccurrencesOfChar('aabccbaa','a')"
   ]
  },
  {
   "cell_type": "markdown",
   "id": "1f4291d1",
   "metadata": {},
   "source": [
    "Using recusion"
   ]
  },
  {
   "cell_type": "code",
   "execution_count": 1,
   "id": "b5dbfc02",
   "metadata": {},
   "outputs": [
    {
     "name": "stdout",
     "output_type": "stream",
     "text": [
      "bbcf\n"
     ]
    }
   ],
   "source": [
    "def skip(s):\n",
    "    if len(s) ==0 :\n",
    "        return \"\"\n",
    "    if (s[0] == \"a\"):\n",
    "        return skip(s[1:])\n",
    "    else:\n",
    "        return s[0] + skip(s[1:])\n",
    "        \n",
    "s = \"abbcaaaf\"\n",
    "ans = skip(s)\n",
    "print(ans)"
   ]
  },
  {
   "cell_type": "code",
   "execution_count": 11,
   "id": "5116c612",
   "metadata": {},
   "outputs": [],
   "source": [
    "#TA method\n",
    "def removeAllOccurrencesOfChar(string,ch):\n",
    "    length = len(string)\n",
    "    li = ''        #newstring\n",
    "    for i in range(len(string)):\n",
    "        if string[i]!=ch:\n",
    "            li = li + string[i]\n",
    "        else:\n",
    "            continue\n",
    "    return li        \n",
    "            "
   ]
  },
  {
   "cell_type": "code",
   "execution_count": 12,
   "id": "4f5ff41c",
   "metadata": {},
   "outputs": [
    {
     "data": {
      "text/plain": [
       "'bccb'"
      ]
     },
     "execution_count": 12,
     "metadata": {},
     "output_type": "execute_result"
    }
   ],
   "source": [
    "removeAllOccurrencesOfChar('aabccbaa','a')"
   ]
  },
  {
   "cell_type": "markdown",
   "id": "55f61d15",
   "metadata": {},
   "source": [
    "### Highest occuring character"
   ]
  },
  {
   "cell_type": "code",
   "execution_count": 14,
   "id": "035dc912",
   "metadata": {},
   "outputs": [
    {
     "name": "stdout",
     "output_type": "stream",
     "text": [
      "None\n"
     ]
    }
   ],
   "source": [
    "from sys import stdin\n",
    "\n",
    "\n",
    "def highestOccuringChar(string) :\n",
    "    \n",
    "    if len(string) == 0:\n",
    "        return None\n",
    "    \n",
    "    d = {}\n",
    "    index = {}\n",
    "    key = string[0]\n",
    "    value = 1\n",
    "    for i in range(len(string)):\n",
    "        if string[i] in d:\n",
    "            d[string[i]] = d[string[i]] + 1\n",
    "            \n",
    "            current_val = d[string[i]]\n",
    "            current_key = string[i]\n",
    "            \n",
    "            if current_val > value or (current_val == value and index[current_key] < index[key]):\n",
    "                value = current_val\n",
    "                key = current_key\n",
    "        else:\n",
    "            d[string[i]] = 1\n",
    "            index[string[i]] = i\n",
    "            \n",
    "    # print(d,index)\n",
    "    return key\n",
    "            \n",
    "        \n",
    "\n",
    "#main\n",
    "string = stdin.readline().strip();\n",
    "ans = highestOccuringChar(string)\n",
    "\n",
    "print(ans)"
   ]
  },
  {
   "cell_type": "markdown",
   "id": "231291ec",
   "metadata": {},
   "source": [
    "### Compress the String"
   ]
  },
  {
   "cell_type": "code",
   "execution_count": 15,
   "id": "cda93bb0",
   "metadata": {},
   "outputs": [
    {
     "name": "stdout",
     "output_type": "stream",
     "text": [
      "\n"
     ]
    }
   ],
   "source": [
    "from sys import stdin\n",
    "from sys import stdin\n",
    "\n",
    "\n",
    "ind=0\n",
    "def getCompressedString(string) :\n",
    "    global ind\n",
    "    comp_str = \"\"\n",
    "    len_str = len(string)\n",
    "    while (ind != len_str):\n",
    "        count = 1\n",
    "        while ((ind < (len_str-1)) and (string[ind] == string[ind+1])):\n",
    "            count = count + 1\n",
    "            ind = ind + 1\n",
    "        if (count == 1):\n",
    "            comp_str = comp_str + str(string[ind])\n",
    "        else:\n",
    "            comp_str = comp_str + str(string[ind]) + str(count)\n",
    "        ind = ind + 1\n",
    "    return comp_str\n",
    "\n",
    "\n",
    "#main\n",
    "string = stdin.readline().strip();\n",
    "ans = getCompressedString(string)\n",
    "\n",
    "print(ans)"
   ]
  }
 ],
 "metadata": {
  "kernelspec": {
   "display_name": "Python 3 (ipykernel)",
   "language": "python",
   "name": "python3"
  },
  "language_info": {
   "codemirror_mode": {
    "name": "ipython",
    "version": 3
   },
   "file_extension": ".py",
   "mimetype": "text/x-python",
   "name": "python",
   "nbconvert_exporter": "python",
   "pygments_lexer": "ipython3",
   "version": "3.9.7"
  }
 },
 "nbformat": 4,
 "nbformat_minor": 5
}
