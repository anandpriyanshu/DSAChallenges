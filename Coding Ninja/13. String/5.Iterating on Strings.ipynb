{
 "cells": [
  {
   "cell_type": "markdown",
   "id": "6bcaae81",
   "metadata": {},
   "source": [
    "How to itarate on string"
   ]
  },
  {
   "cell_type": "code",
   "execution_count": 2,
   "id": "084cadfa",
   "metadata": {},
   "outputs": [],
   "source": [
    "str = 'hello world'"
   ]
  },
  {
   "cell_type": "code",
   "execution_count": 3,
   "id": "dbe05488",
   "metadata": {},
   "outputs": [
    {
     "name": "stdout",
     "output_type": "stream",
     "text": [
      "3\n"
     ]
    }
   ],
   "source": [
    "#letterwise iteration \n",
    "count = 0\n",
    "for letter in str:\n",
    "        if letter == 'l':\n",
    "            count = count + 1\n",
    "print(count)            \n",
    "            "
   ]
  },
  {
   "cell_type": "code",
   "execution_count": 5,
   "id": "9b179391",
   "metadata": {},
   "outputs": [
    {
     "name": "stdout",
     "output_type": "stream",
     "text": [
      "3\n"
     ]
    }
   ],
   "source": [
    "#indexwise iteration\n",
    "count = 0\n",
    "for i in range(len(str)):\n",
    "    if str[i]=='l':\n",
    "        count = count+1\n",
    "print(count)        \n",
    "    \n",
    "        "
   ]
  },
  {
   "cell_type": "markdown",
   "id": "d3a52674",
   "metadata": {},
   "source": [
    "In and notin operation in string"
   ]
  },
  {
   "cell_type": "code",
   "execution_count": 10,
   "id": "52e5acbc",
   "metadata": {},
   "outputs": [
    {
     "name": "stdout",
     "output_type": "stream",
     "text": [
      "Yes it is substring\n"
     ]
    }
   ],
   "source": [
    "str =  'hello'\n",
    "if 'hel' in str:\n",
    "    print('Yes it is substring')"
   ]
  },
  {
   "cell_type": "code",
   "execution_count": 12,
   "id": "d16f5162",
   "metadata": {},
   "outputs": [
    {
     "name": "stdout",
     "output_type": "stream",
     "text": [
      "Yes it is not substring\n"
     ]
    }
   ],
   "source": [
    "str =  'hello'\n",
    "if 'heo' in str:\n",
    "    print('Yes it is substring')\n",
    "else:\n",
    "    print('Yes it is not substring')"
   ]
  },
  {
   "cell_type": "code",
   "execution_count": 9,
   "id": "ac2ba1fa",
   "metadata": {},
   "outputs": [
    {
     "name": "stdout",
     "output_type": "stream",
     "text": [
      "Yes it is present in str\n"
     ]
    }
   ],
   "source": [
    "str =  'hello'\n",
    "if 'heo' not in str:\n",
    "    print(''Yes it is substring'r')"
   ]
  },
  {
   "cell_type": "code",
   "execution_count": null,
   "id": "fe716013",
   "metadata": {},
   "outputs": [],
   "source": []
  }
 ],
 "metadata": {
  "kernelspec": {
   "display_name": "Python 3 (ipykernel)",
   "language": "python",
   "name": "python3"
  },
  "language_info": {
   "codemirror_mode": {
    "name": "ipython",
    "version": 3
   },
   "file_extension": ".py",
   "mimetype": "text/x-python",
   "name": "python",
   "nbconvert_exporter": "python",
   "pygments_lexer": "ipython3",
   "version": "3.11.9"
  }
 },
 "nbformat": 4,
 "nbformat_minor": 5
}
