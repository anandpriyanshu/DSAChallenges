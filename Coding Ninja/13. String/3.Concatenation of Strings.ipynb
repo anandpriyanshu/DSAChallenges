{
 "cells": [
  {
   "cell_type": "code",
   "execution_count": 1,
   "id": "39a27fa4",
   "metadata": {},
   "outputs": [],
   "source": [
    "a = 'red'"
   ]
  },
  {
   "cell_type": "code",
   "execution_count": 2,
   "id": "8d14d9dd",
   "metadata": {},
   "outputs": [],
   "source": [
    "a = a + 'blue'"
   ]
  },
  {
   "cell_type": "code",
   "execution_count": 3,
   "id": "185ad4f8",
   "metadata": {},
   "outputs": [
    {
     "data": {
      "text/plain": [
       "'redblue'"
      ]
     },
     "execution_count": 3,
     "metadata": {},
     "output_type": "execute_result"
    }
   ],
   "source": [
    "a"
   ]
  },
  {
   "cell_type": "code",
   "execution_count": 4,
   "id": "fdc590c9",
   "metadata": {},
   "outputs": [],
   "source": [
    "a = a  + 'blue' + 'green'"
   ]
  },
  {
   "cell_type": "code",
   "execution_count": 5,
   "id": "ac724860",
   "metadata": {},
   "outputs": [
    {
     "data": {
      "text/plain": [
       "'redbluebluegreen'"
      ]
     },
     "execution_count": 5,
     "metadata": {},
     "output_type": "execute_result"
    }
   ],
   "source": [
    "a"
   ]
  },
  {
   "cell_type": "code",
   "execution_count": 7,
   "id": "06f8e7fc",
   "metadata": {},
   "outputs": [],
   "source": [
    "a+='red'"
   ]
  },
  {
   "cell_type": "code",
   "execution_count": 8,
   "id": "ccd1a80d",
   "metadata": {},
   "outputs": [
    {
     "data": {
      "text/plain": [
       "'redbluebluegreenred'"
      ]
     },
     "execution_count": 8,
     "metadata": {},
     "output_type": "execute_result"
    }
   ],
   "source": [
    "a"
   ]
  },
  {
   "cell_type": "code",
   "execution_count": 9,
   "id": "08462b9e",
   "metadata": {},
   "outputs": [
    {
     "data": {
      "text/plain": [
       "1708642828816"
      ]
     },
     "execution_count": 9,
     "metadata": {},
     "output_type": "execute_result"
    }
   ],
   "source": [
    "id(a)"
   ]
  },
  {
   "cell_type": "code",
   "execution_count": 10,
   "id": "2d886eca",
   "metadata": {},
   "outputs": [],
   "source": [
    "a+='yellow'"
   ]
  },
  {
   "cell_type": "code",
   "execution_count": 11,
   "id": "0475ab99",
   "metadata": {},
   "outputs": [
    {
     "data": {
      "text/plain": [
       "'redbluebluegreenredyellow'"
      ]
     },
     "execution_count": 11,
     "metadata": {},
     "output_type": "execute_result"
    }
   ],
   "source": [
    "a"
   ]
  },
  {
   "cell_type": "code",
   "execution_count": 13,
   "id": "37c2789c",
   "metadata": {},
   "outputs": [
    {
     "data": {
      "text/plain": [
       "1708642897392"
      ]
     },
     "execution_count": 13,
     "metadata": {},
     "output_type": "execute_result"
    }
   ],
   "source": [
    "id(a)          #string are immutable"
   ]
  },
  {
   "cell_type": "code",
   "execution_count": 19,
   "id": "0cade51a",
   "metadata": {},
   "outputs": [],
   "source": [
    "a = 'blue'"
   ]
  },
  {
   "cell_type": "code",
   "execution_count": 20,
   "id": "602f71eb",
   "metadata": {},
   "outputs": [
    {
     "data": {
      "text/plain": [
       "'blueblueblue'"
      ]
     },
     "execution_count": 20,
     "metadata": {},
     "output_type": "execute_result"
    }
   ],
   "source": [
    "a*3"
   ]
  },
  {
   "cell_type": "code",
   "execution_count": 21,
   "id": "63b1ae1b",
   "metadata": {},
   "outputs": [],
   "source": [
    "a = a*3"
   ]
  },
  {
   "cell_type": "code",
   "execution_count": 22,
   "id": "57862474",
   "metadata": {},
   "outputs": [
    {
     "data": {
      "text/plain": [
       "'blueblueblue'"
      ]
     },
     "execution_count": 22,
     "metadata": {},
     "output_type": "execute_result"
    }
   ],
   "source": [
    "a"
   ]
  },
  {
   "cell_type": "code",
   "execution_count": 23,
   "id": "c5961a01",
   "metadata": {},
   "outputs": [],
   "source": [
    "a = a*3"
   ]
  },
  {
   "cell_type": "code",
   "execution_count": 24,
   "id": "e1948939",
   "metadata": {},
   "outputs": [
    {
     "data": {
      "text/plain": [
       "'blueblueblueblueblueblueblueblueblue'"
      ]
     },
     "execution_count": 24,
     "metadata": {},
     "output_type": "execute_result"
    }
   ],
   "source": [
    "a"
   ]
  },
  {
   "cell_type": "code",
   "execution_count": 25,
   "id": "18271d48",
   "metadata": {},
   "outputs": [],
   "source": [
    "a = a*1"
   ]
  },
  {
   "cell_type": "code",
   "execution_count": 26,
   "id": "1c3eb5c4",
   "metadata": {},
   "outputs": [
    {
     "data": {
      "text/plain": [
       "'blueblueblueblueblueblueblueblueblue'"
      ]
     },
     "execution_count": 26,
     "metadata": {},
     "output_type": "execute_result"
    }
   ],
   "source": [
    "a"
   ]
  },
  {
   "cell_type": "code",
   "execution_count": 28,
   "id": "f646f8a1",
   "metadata": {},
   "outputs": [
    {
     "data": {
      "text/plain": [
       "1708642721584"
      ]
     },
     "execution_count": 28,
     "metadata": {},
     "output_type": "execute_result"
    }
   ],
   "source": [
    "id(a)"
   ]
  },
  {
   "cell_type": "code",
   "execution_count": 29,
   "id": "5a56f6ea",
   "metadata": {},
   "outputs": [],
   "source": [
    "a = a*2"
   ]
  },
  {
   "cell_type": "code",
   "execution_count": 30,
   "id": "a2f46e62",
   "metadata": {},
   "outputs": [
    {
     "data": {
      "text/plain": [
       "1708644075056"
      ]
     },
     "execution_count": 30,
     "metadata": {},
     "output_type": "execute_result"
    }
   ],
   "source": [
    "id(a)"
   ]
  },
  {
   "cell_type": "code",
   "execution_count": 31,
   "id": "5ff921c9",
   "metadata": {},
   "outputs": [],
   "source": [
    "a = 'red'"
   ]
  },
  {
   "cell_type": "code",
   "execution_count": 32,
   "id": "23f124b1",
   "metadata": {},
   "outputs": [
    {
     "ename": "TypeError",
     "evalue": "can only concatenate str (not \"int\") to str",
     "output_type": "error",
     "traceback": [
      "\u001b[1;31m---------------------------------------------------------------------------\u001b[0m",
      "\u001b[1;31mTypeError\u001b[0m                                 Traceback (most recent call last)",
      "\u001b[1;32mC:\\Users\\PRIYAN~1\\AppData\\Local\\Temp/ipykernel_8972/3043346609.py\u001b[0m in \u001b[0;36m<module>\u001b[1;34m\u001b[0m\n\u001b[1;32m----> 1\u001b[1;33m \u001b[0ma\u001b[0m \u001b[1;33m=\u001b[0m \u001b[0ma\u001b[0m\u001b[1;33m+\u001b[0m\u001b[1;36m3\u001b[0m\u001b[1;33m\u001b[0m\u001b[1;33m\u001b[0m\u001b[0m\n\u001b[0m",
      "\u001b[1;31mTypeError\u001b[0m: can only concatenate str (not \"int\") to str"
     ]
    }
   ],
   "source": [
    "a = a+3"
   ]
  },
  {
   "cell_type": "code",
   "execution_count": 33,
   "id": "3283061b",
   "metadata": {},
   "outputs": [],
   "source": [
    "a = a + str(3)"
   ]
  },
  {
   "cell_type": "code",
   "execution_count": 34,
   "id": "ad5b8b03",
   "metadata": {},
   "outputs": [
    {
     "data": {
      "text/plain": [
       "'red3'"
      ]
     },
     "execution_count": 34,
     "metadata": {},
     "output_type": "execute_result"
    }
   ],
   "source": [
    "a"
   ]
  },
  {
   "cell_type": "code",
   "execution_count": null,
   "id": "f566e366",
   "metadata": {},
   "outputs": [],
   "source": []
  }
 ],
 "metadata": {
  "kernelspec": {
   "display_name": "Python 3 (ipykernel)",
   "language": "python",
   "name": "python3"
  },
  "language_info": {
   "codemirror_mode": {
    "name": "ipython",
    "version": 3
   },
   "file_extension": ".py",
   "mimetype": "text/x-python",
   "name": "python",
   "nbconvert_exporter": "python",
   "pygments_lexer": "ipython3",
   "version": "3.9.7"
  }
 },
 "nbformat": 4,
 "nbformat_minor": 5
}
