{
 "cells": [
  {
   "cell_type": "code",
   "execution_count": null,
   "id": "2d21239c",
   "metadata": {},
   "outputs": [],
   "source": [
    "n = int(input())\n",
    "r = int(input())\n",
    "n_fact= 1\n",
    "for i in range(1,n+1):\n",
    "    n_fact=n_fact*i\n",
    "\n",
    "r_fact= 1\n",
    "for i in range(1,r+1):\n",
    "    r_fact=r_fact*i    \n",
    "\n",
    "n_r_fact= 1\n",
    "for i in range(1,n-r+1):\n",
    "    n_r_fact=n_r_fact*i\n",
    "ans = n_fact//(r_fact*n_r_fact)\n",
    "print(ans)\n",
    "     "
   ]
  },
  {
   "cell_type": "code",
   "execution_count": 10,
   "id": "2614ed18",
   "metadata": {},
   "outputs": [
    {
     "name": "stdout",
     "output_type": "stream",
     "text": [
      "4\n",
      "2\n",
      "6\n"
     ]
    }
   ],
   "source": [
    "#this method is much better than the upper method means code is neat and clean\n",
    "n = int(input())\n",
    "r = int(input())\n",
    "n_fact = fact(n)            #we use function\n",
    "r_fact = fact(r)            #we use function\n",
    "n_r_fact= fact(n-r)         #we use function\n",
    "ans = n_fact//(r_fact*n_r_fact)\n",
    "print(ans)\n"
   ]
  },
  {
   "cell_type": "code",
   "execution_count": null,
   "id": "aad0ce5b",
   "metadata": {},
   "outputs": [],
   "source": [
    "def fact(a):\n",
    "    a_fact=1\n",
    "    for i in range(1,a+1):         # a==n (bcz no confusion)\n",
    "        a_fact=a_fact*i \n",
    "    return a_fact"
   ]
  },
  {
   "cell_type": "code",
   "execution_count": 14,
   "id": "5b6d0e40",
   "metadata": {},
   "outputs": [
    {
     "data": {
      "text/plain": [
       "24"
      ]
     },
     "execution_count": 14,
     "metadata": {},
     "output_type": "execute_result"
    }
   ],
   "source": [
    "fact(4)"
   ]
  },
  {
   "cell_type": "markdown",
   "id": "a45d81ad",
   "metadata": {},
   "source": [
    "### FunctionExample"
   ]
  },
  {
   "cell_type": "code",
   "execution_count": 15,
   "id": "d5c5d7d5",
   "metadata": {},
   "outputs": [],
   "source": [
    "#check number is prime\n",
    "def isPrime(n):\n",
    "    for d in range(2,n):\n",
    "        if n%d==0:\n",
    "            break\n",
    "    else:\n",
    "        return True\n",
    "    return False"
   ]
  },
  {
   "cell_type": "code",
   "execution_count": 17,
   "id": "cfade0b2",
   "metadata": {},
   "outputs": [
    {
     "data": {
      "text/plain": [
       "False"
      ]
     },
     "execution_count": 17,
     "metadata": {},
     "output_type": "execute_result"
    }
   ],
   "source": [
    "isPrime(10)"
   ]
  },
  {
   "cell_type": "code",
   "execution_count": 18,
   "id": "469ae750",
   "metadata": {},
   "outputs": [
    {
     "data": {
      "text/plain": [
       "True"
      ]
     },
     "execution_count": 18,
     "metadata": {},
     "output_type": "execute_result"
    }
   ],
   "source": [
    "isPrime(17)"
   ]
  },
  {
   "cell_type": "code",
   "execution_count": 26,
   "id": "e09204b0",
   "metadata": {},
   "outputs": [],
   "source": [
    "def primeFrom2ToN(n):\n",
    "        #check if k is prime and in case it is prime then we  print k\n",
    "        for k in range(2,n+1):\n",
    "            is_k_prime=isPrime(k)\n",
    "            if is_k_prime:\n",
    "                print(k)\n",
    "            "
   ]
  },
  {
   "cell_type": "code",
   "execution_count": 27,
   "id": "0ffb2da9",
   "metadata": {},
   "outputs": [
    {
     "name": "stdout",
     "output_type": "stream",
     "text": [
      "2\n",
      "3\n",
      "5\n",
      "7\n",
      "11\n",
      "13\n",
      "17\n",
      "19\n"
     ]
    }
   ],
   "source": [
    "primeFrom2ToN(20)"
   ]
  },
  {
   "cell_type": "code",
   "execution_count": 28,
   "id": "56f18fb7",
   "metadata": {},
   "outputs": [],
   "source": [
    "#find nCr\n",
    "def ncr(n,r):\n",
    "    n_fact=fact(n)\n",
    "    r_fact=fact(r)\n",
    "    n_r_fact=fact(n-r)\n",
    "    ans=n_fact//( r_fact*n_r_fact)\n",
    "    return ans"
   ]
  },
  {
   "cell_type": "code",
   "execution_count": 29,
   "id": "173754fc",
   "metadata": {},
   "outputs": [
    {
     "data": {
      "text/plain": [
       "10"
      ]
     },
     "execution_count": 29,
     "metadata": {},
     "output_type": "execute_result"
    }
   ],
   "source": [
    "ncr(5,2)"
   ]
  },
  {
   "cell_type": "code",
   "execution_count": 36,
   "id": "8c558644",
   "metadata": {},
   "outputs": [
    {
     "name": "stdout",
     "output_type": "stream",
     "text": [
      "5\n"
     ]
    }
   ],
   "source": [
    "def func(a):\n",
    "    a = a + 10\n",
    "    return a\n",
    "a = 5\n",
    "func(a)\n",
    "print(a)"
   ]
  },
  {
   "cell_type": "code",
   "execution_count": 35,
   "id": "ecfeadcb",
   "metadata": {},
   "outputs": [
    {
     "name": "stdout",
     "output_type": "stream",
     "text": [
      "15\n"
     ]
    }
   ],
   "source": [
    "print(a)"
   ]
  },
  {
   "cell_type": "code",
   "execution_count": 39,
   "id": "128e7afa",
   "metadata": {},
   "outputs": [
    {
     "name": "stdout",
     "output_type": "stream",
     "text": [
      "16\n"
     ]
    }
   ],
   "source": [
    "def square(a):\n",
    "    ans  = a*a\n",
    "    return  ans\n",
    "\n",
    "a = 4\n",
    "a = square(a)\n",
    "print(a)"
   ]
  },
  {
   "cell_type": "code",
   "execution_count": 33,
   "id": "c7b190fc",
   "metadata": {},
   "outputs": [
    {
     "name": "stdout",
     "output_type": "stream",
     "text": [
      "16\n"
     ]
    }
   ],
   "source": [
    "print(a)"
   ]
  },
  {
   "cell_type": "markdown",
   "id": "5666c47d",
   "metadata": {},
   "source": [
    "### Assignment"
   ]
  },
  {
   "cell_type": "code",
   "execution_count": 2,
   "id": "dde25fc1",
   "metadata": {},
   "outputs": [
    {
     "name": "stdout",
     "output_type": "stream",
     "text": [
      "0\n",
      "110\n",
      "20\n",
      "0\t-17\n",
      "20\t-6\n",
      "40\t4\n",
      "60\t15\n",
      "80\t26\n",
      "100\t37\n"
     ]
    }
   ],
   "source": [
    "#Feh to cel\n",
    "def printTable(start,end,step):\n",
    "    F=start\n",
    "    for F in range(start,end+1,step):\n",
    "        \n",
    "        c=((F-32)*(5/9))\n",
    "        print(F ,end=\"\\t\")\n",
    "        print(int(c))\n",
    "       \n",
    "        \n",
    "start=int(input())\n",
    "end = int(input())\n",
    "step = int(input())\n",
    "printTable(start,end,step)\n"
   ]
  },
  {
   "cell_type": "code",
   "execution_count": 3,
   "id": "60b1e23a",
   "metadata": {},
   "outputs": [
    {
     "name": "stdout",
     "output_type": "stream",
     "text": [
      "5\n",
      "true\n"
     ]
    }
   ],
   "source": [
    "#check fibonacci member\n",
    "def checkMember(n):\n",
    "    if n == 0 or n ==1 or n ==2:\n",
    "        return True\n",
    "    a=0\n",
    "    b=1\n",
    "   \n",
    "    while(a<n):\n",
    "        c = a+b\n",
    "        a = b\n",
    "        b = c\n",
    "    if a==n:\n",
    "        return True\n",
    "    return False\n",
    "\n",
    "n=int(input())\n",
    "if(checkMember(n)):\n",
    "    print(\"true\")\n",
    "else:\n",
    "    print(\"false\")"
   ]
  },
  {
   "cell_type": "code",
   "execution_count": 7,
   "id": "87d67763",
   "metadata": {},
   "outputs": [
    {
     "name": "stdout",
     "output_type": "stream",
     "text": [
      "121\n",
      "true\n"
     ]
    }
   ],
   "source": [
    "def checkpalindrome(n):\n",
    "    actual = n\n",
    "    rev=0\n",
    "    while n>0:\n",
    "        rev=rev*10+n%10\n",
    "        n = n//10\n",
    "    if actual==rev:\n",
    "        return True\n",
    "    return False\n",
    "n = int(input())\n",
    "ispalindrome=checkpalindrome(n)\n",
    "if ispalindrome:\n",
    "    print('true')\n",
    "else:\n",
    "    print('false')"
   ]
  },
  {
   "cell_type": "code",
   "execution_count": 8,
   "id": "1eb2261c",
   "metadata": {},
   "outputs": [
    {
     "name": "stdout",
     "output_type": "stream",
     "text": [
      "153\n",
      "true\n"
     ]
    }
   ],
   "source": [
    "#check Armstrong number\n",
    "def checkArmstrong(n):\n",
    "    digit=0\n",
    "    actual = n\n",
    "    while actual>0:\n",
    "        digit=digit+1\n",
    "        actual = actual//10\n",
    "    s=0\n",
    "    actual = n\n",
    "    while actual>0:\n",
    "        last =actual%10\n",
    "        s=s+last**digit\n",
    "        actual=actual//10\n",
    "    if s==n:\n",
    "        return True\n",
    "    return False\n",
    "n = int(input())\n",
    "isArmstrong=checkArmstrong(n)\n",
    "if isArmstrong:\n",
    "    print('true')\n",
    "else:\n",
    "    print('false')\n",
    "    \n",
    "        \n",
    "    \n",
    "        \n",
    "        "
   ]
  },
  {
   "cell_type": "code",
   "execution_count": null,
   "id": "13a7987d",
   "metadata": {},
   "outputs": [],
   "source": []
  }
 ],
 "metadata": {
  "kernelspec": {
   "display_name": "Python 3 (ipykernel)",
   "language": "python",
   "name": "python3"
  },
  "language_info": {
   "codemirror_mode": {
    "name": "ipython",
    "version": 3
   },
   "file_extension": ".py",
   "mimetype": "text/x-python",
   "name": "python",
   "nbconvert_exporter": "python",
   "pygments_lexer": "ipython3",
   "version": "3.9.7"
  }
 },
 "nbformat": 4,
 "nbformat_minor": 5
}
