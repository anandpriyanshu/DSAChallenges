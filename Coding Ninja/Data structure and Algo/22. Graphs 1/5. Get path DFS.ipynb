{
 "cells": [
  {
   "cell_type": "markdown",
   "id": "265554f1",
   "metadata": {},
   "source": [
    "#### Both Logic are same"
   ]
  },
  {
   "cell_type": "markdown",
   "id": "0d06b92c",
   "metadata": {},
   "source": [
    "### TA Code"
   ]
  },
  {
   "cell_type": "code",
   "execution_count": 2,
   "id": "e80c4695",
   "metadata": {},
   "outputs": [
    {
     "name": "stdout",
     "output_type": "stream",
     "text": [
      "4 4\n",
      "0 1 \n",
      "0 3\n",
      "1 2\n",
      "2 3\n",
      "1 3\n",
      "3 0 1\n"
     ]
    }
   ],
   "source": [
    "import sys\n",
    "sys.setrecursionlimit(10**7)\n",
    "class Graph:\n",
    "    def __init__(self,n):\n",
    "        self.vertices=n\n",
    "        self.adj=[[0 for i in range(n)] for j in range(n)]\n",
    "    \n",
    "    def addEdge(self,v1,v2):\n",
    "        self.adj[v1][v2]=1\n",
    "        self.adj[v2][v1]=1\n",
    "        \n",
    "    def getPath(self,v,d, visited,l=[]):\n",
    "        if v==d:\n",
    "            l.append(d)\n",
    "            return l\n",
    "        \n",
    "        visited[v]=True\n",
    "        for i in range(self.vertices):\n",
    "            if self.adj[v][i] >0 and visited[i]==False:\n",
    "                a=self.getPath(i,d, visited)\n",
    "                if len(a)!=0:\n",
    "                    a.append(v)\n",
    "                    return a\n",
    "        return []\n",
    "        \n",
    "        \n",
    "\n",
    "        \n",
    "v,e=(int(i) for i in input().split())\n",
    "g=Graph(v)\n",
    "for i in range(e):\n",
    "    v1,v2=(int(i) for i in input().split())\n",
    "    g.addEdge(v1,v2)\n",
    "    \n",
    "visited=[False for i in range(v)]\n",
    "s,d=(int(i) for i in input().split())\n",
    "print(*g.getPath(s,d, visited))\n",
    "    "
   ]
  },
  {
   "cell_type": "markdown",
   "id": "cda2d082",
   "metadata": {},
   "source": [
    "### My code"
   ]
  },
  {
   "cell_type": "code",
   "execution_count": null,
   "id": "dae24b65",
   "metadata": {},
   "outputs": [],
   "source": [
    "def Getpath_Helper(self,v1,v2,visited):\n",
    "        if v1==v2:\n",
    "            List = []\n",
    "            List.append(v1)\n",
    "        \n",
    "        visited[v1] = True\n",
    "        \n",
    "        for i in range(self.nVertices):\n",
    "            if adjMatrix[v1][i]>0 and visited[i] is False:\n",
    "                List = self.Getpath_Helper(i,v2,visited)\n",
    "        List.append(v1)\n",
    "        return List\n",
    "        return None\n",
    "    \n",
    "    \n",
    "    def Getpath(self,v1,v2):\n",
    "        visited = [False for i in range(nVertices)]\n",
    "        Getpath_Helper(v1,v2,visited)"
   ]
  }
 ],
 "metadata": {
  "kernelspec": {
   "display_name": "Python 3 (ipykernel)",
   "language": "python",
   "name": "python3"
  },
  "language_info": {
   "codemirror_mode": {
    "name": "ipython",
    "version": 3
   },
   "file_extension": ".py",
   "mimetype": "text/x-python",
   "name": "python",
   "nbconvert_exporter": "python",
   "pygments_lexer": "ipython3",
   "version": "3.9.7"
  }
 },
 "nbformat": 4,
 "nbformat_minor": 5
}
