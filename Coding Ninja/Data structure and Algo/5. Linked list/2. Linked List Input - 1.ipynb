{
 "cells": [
  {
   "cell_type": "code",
   "execution_count": 7,
   "id": "787d07fb",
   "metadata": {},
   "outputs": [
    {
     "name": "stdout",
     "output_type": "stream",
     "text": [
      "8\n"
     ]
    }
   ],
   "source": [
    "class Node:\n",
    "    def __init__(self,data):\n",
    "        self.data = data\n",
    "        self.next = None\n",
    "\n",
    "def takeinput():\n",
    "    inputList = [int(ele) for ele in input().split()]\n",
    "    head = None        # if no input is there means only -1 is present. if some i/p is there return the refrence of first node\n",
    "    for currData in inputList:\n",
    "        if currData == -1:\n",
    "            break\n",
    "        newNode = Node(currData)        #currData pass to the Node\n",
    "        if head is None:                #No node is creating till now\n",
    "            head  = newNode             #first node is created and for the rest of node head won't change. head is first node\n",
    "        else:\n",
    "            curr = newNode               # first node is not change so here curr is new refrence\n",
    "            while curr is not None:\n",
    "                \n",
    "                curr = curr.next\n",
    "            curr.next = newNode\n",
    "            \n",
    "            \n",
    "    return head                           #lastly return head(which comes first)\n",
    "\n",
    "\n",
    "head  = takeinput()"
   ]
  },
  {
   "cell_type": "code",
   "execution_count": null,
   "id": "c17a0d85",
   "metadata": {},
   "outputs": [],
   "source": []
  }
 ],
 "metadata": {
  "kernelspec": {
   "display_name": "Python 3 (ipykernel)",
   "language": "python",
   "name": "python3"
  },
  "language_info": {
   "codemirror_mode": {
    "name": "ipython",
    "version": 3
   },
   "file_extension": ".py",
   "mimetype": "text/x-python",
   "name": "python",
   "nbconvert_exporter": "python",
   "pygments_lexer": "ipython3",
   "version": "3.9.7"
  }
 },
 "nbformat": 4,
 "nbformat_minor": 5
}
