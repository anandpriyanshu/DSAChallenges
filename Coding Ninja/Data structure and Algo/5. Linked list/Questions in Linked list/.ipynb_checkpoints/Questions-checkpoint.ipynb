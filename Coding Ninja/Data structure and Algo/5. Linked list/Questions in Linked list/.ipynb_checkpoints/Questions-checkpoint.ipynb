{
 "cells": [
  {
   "cell_type": "markdown",
   "id": "2e0e9d05",
   "metadata": {},
   "source": [
    "Length of LL"
   ]
  },
  {
   "cell_type": "code",
   "execution_count": 4,
   "id": "de03ee7d",
   "metadata": {},
   "outputs": [
    {
     "name": "stdout",
     "output_type": "stream",
     "text": [
      "3 4 5 2 6 1 9 -1\n",
      "7\n"
     ]
    }
   ],
   "source": [
    "class Node:\n",
    "    def __init__(self,data):\n",
    "        self.data=data\n",
    "        self.next=None\n",
    "        \n",
    "def length(head):\n",
    "    count = 0 \n",
    "    while head is not None:\n",
    "        count+=1\n",
    "        head = head.next\n",
    "    return count     \n",
    "    \n",
    "        \n",
    "def printLL(head):\n",
    "    while head is not None:\n",
    "        print(str(head.data)+\"->\",end='')\n",
    "        head=head.next\n",
    "    print(\"None\")\n",
    "    return\n",
    "def takeInput():\n",
    "    inputList=[int (ele) for ele in input().split()]\n",
    "    head=None\n",
    "    tail=None\n",
    "    for currData in inputList:\n",
    "        if currData==-1:\n",
    "            break\n",
    "        newNode=Node(currData)\n",
    "        if head is None:\n",
    "            head=newNode\n",
    "            tail=newNode\n",
    "        else:\n",
    "            tail.next=newNode    \n",
    "            tail=newNode\n",
    "    return head\n",
    "head=takeInput()\n",
    "print(length(head))"
   ]
  },
  {
   "cell_type": "markdown",
   "id": "5943d255",
   "metadata": {},
   "source": [
    "Length of LL(Recursively)"
   ]
  },
  {
   "cell_type": "code",
   "execution_count": 4,
   "id": "40d2022c",
   "metadata": {},
   "outputs": [
    {
     "name": "stdout",
     "output_type": "stream",
     "text": [
      "3 4 5 2 6 1 9 -1\n",
      "7\n"
     ]
    }
   ],
   "source": [
    "class Node:\n",
    "    def __init__(self,data):\n",
    "        self.data=data\n",
    "        self.next=None\n",
    "        \n",
    "def lengthRecursive(head,count):\n",
    "    if head is None:\n",
    "        return count\n",
    "    count+=1\n",
    "    return lengthRecursive(head.next,count)\n",
    "    \n",
    "        \n",
    "def printLL(head):\n",
    "    while head is not None:\n",
    "        print(str(head.data)+\"->\",end='')\n",
    "        head=head.next\n",
    "    print(\"None\")\n",
    "    return\n",
    "def takeInput():\n",
    "    inputList=[int (ele) for ele in input().split()]\n",
    "    head=None\n",
    "    tail=None\n",
    "    for currData in inputList:\n",
    "        if currData==-1:\n",
    "            break\n",
    "        newNode=Node(currData)\n",
    "        if head is None:\n",
    "            head=newNode\n",
    "            tail=newNode\n",
    "        else:\n",
    "            tail.next=newNode    \n",
    "            tail=newNode\n",
    "    return head\n",
    "head=takeInput()\n",
    "print(lengthRecursive(head,0))"
   ]
  },
  {
   "cell_type": "markdown",
   "id": "38aebab4",
   "metadata": {},
   "source": [
    "Print ith node"
   ]
  },
  {
   "cell_type": "code",
   "execution_count": 8,
   "id": "0fb8e704",
   "metadata": {},
   "outputs": [
    {
     "name": "stdout",
     "output_type": "stream",
     "text": [
      "3 4 5 2 6 1 9 -1\n",
      "2\n"
     ]
    }
   ],
   "source": [
    "class Node:\n",
    "    def __init__(self,data):\n",
    "        self.data=data\n",
    "        self.next=None\n",
    "def printIthNode(head, i):\n",
    "    count = 0 \n",
    "    curr = head\n",
    "    while count<i and curr is not None:\n",
    "        count+=1\n",
    "        curr = curr.next\n",
    "    if curr:  # or count  == i:\n",
    "        print(curr.data)\n",
    "        \n",
    "#don't need to define printLL funtion \n",
    "def takeInput():\n",
    "    inputList=[int (ele) for ele in input().split()]\n",
    "    head=None\n",
    "    tail=None\n",
    "    for currData in inputList:\n",
    "        if currData==-1:\n",
    "            break\n",
    "        newNode=Node(currData)\n",
    "        if head is None:\n",
    "            head=newNode\n",
    "            tail=newNode\n",
    "        else:\n",
    "            tail.next=newNode    \n",
    "            tail=newNode\n",
    "    return head\n",
    "head=takeInput()\n",
    "printIth(head, 3)"
   ]
  },
  {
   "cell_type": "markdown",
   "id": "86094a69",
   "metadata": {},
   "source": [
    "Delete Node"
   ]
  },
  {
   "cell_type": "code",
   "execution_count": 1,
   "id": "573546b1",
   "metadata": {},
   "outputs": [
    {
     "name": "stdout",
     "output_type": "stream",
     "text": [
      "3 4 5 2 6 1 9 -1\n",
      "<__main__.Node object at 0x00000179FA179340>\n"
     ]
    }
   ],
   "source": [
    "class Node:\n",
    "    def __init__(self,data):\n",
    "        self.data=data\n",
    "        self.next=None\n",
    "def deleteNode(head, pos) :\n",
    "    if pos<0 or pos> length(head):\n",
    "        return head\n",
    "    count=0\n",
    "    prev=None\n",
    "    curr=head\n",
    "    while curr is not None:\n",
    "        if pos== count:\n",
    "            if  prev is not None:\n",
    "                prev.next=prev.next.next\n",
    "            else:\n",
    "                head=head.next\n",
    "            break\n",
    "        prev=curr\n",
    "        curr=curr.next\n",
    "        count+=1\n",
    "    return head \n",
    "        \n",
    "def length(head):\n",
    "    count = 0 \n",
    "    while head is not None:\n",
    "        count+=1\n",
    "        head = head.next\n",
    "    return count     \n",
    "def printLL(head):\n",
    "    while head is not None:\n",
    "        print(str(head.data)+\"->\",end='')\n",
    "        head=head.next\n",
    "    print(\"None\")\n",
    "    return    \n",
    "        \n",
    "\n",
    "def takeInput():\n",
    "    inputList=[int (ele) for ele in input().split()]\n",
    "    head=None\n",
    "    tail=None\n",
    "    for currData in inputList:\n",
    "        if currData==-1:\n",
    "            break\n",
    "        newNode=Node(currData)\n",
    "        if head is None:\n",
    "            head=newNode\n",
    "            tail=newNode\n",
    "        else:\n",
    "            tail.next=newNode    \n",
    "            tail=newNode\n",
    "    return head\n",
    "head=takeInput()\n",
    "print(deleteNode(head, 3))"
   ]
  },
  {
   "cell_type": "markdown",
   "id": "09bf05b8",
   "metadata": {},
   "source": [
    "Delete Node (Recursively)"
   ]
  },
  {
   "cell_type": "code",
   "execution_count": 1,
   "id": "4c7a5ed8",
   "metadata": {},
   "outputs": [
    {
     "name": "stdout",
     "output_type": "stream",
     "text": [
      "3 4 5 6 1 9 -1\n",
      "3->4->5->6->1->9->None\n",
      "<__main__.Node object at 0x000001A36983F760>\n"
     ]
    }
   ],
   "source": [
    "class Node:\n",
    "    def __init__(self,data):\n",
    "        self.data=data\n",
    "        self.next=None\n",
    "def deleteNodeR(head, pos) :\n",
    "    if head is None:\n",
    "        return None\n",
    "    if pos == 0:\n",
    "        return head.next\n",
    "    head.next= deleteNodeR(head.next,pos-1)\n",
    "    return head\n",
    "def length(head):\n",
    "    count = 0 \n",
    "    while head is not None:\n",
    "        count+=1\n",
    "        head = head.next\n",
    "    return count     \n",
    "def printLL(head):\n",
    "    while head is not None:\n",
    "        print(str(head.data)+\"->\",end='')\n",
    "        head=head.next\n",
    "    print(\"None\")\n",
    "    return    \n",
    "        \n",
    "\n",
    "def takeInput():\n",
    "    inputList=[int (ele) for ele in input().split()]\n",
    "    head=None\n",
    "    tail=None\n",
    "    for currData in inputList:\n",
    "        if currData==-1:\n",
    "            break\n",
    "        newNode=Node(currData)\n",
    "        if head is None:\n",
    "            head=newNode\n",
    "            tail=newNode\n",
    "        else:\n",
    "            tail.next=newNode    \n",
    "            tail=newNode\n",
    "    return head\n",
    "head=takeInput()\n",
    "printLL(head)\n",
    "print(deleteNodeR(head, 3))\n"
   ]
  },
  {
   "cell_type": "code",
   "execution_count": null,
   "id": "dcc289f4",
   "metadata": {},
   "outputs": [],
   "source": []
  }
 ],
 "metadata": {
  "kernelspec": {
   "display_name": "Python 3 (ipykernel)",
   "language": "python",
   "name": "python3"
  },
  "language_info": {
   "codemirror_mode": {
    "name": "ipython",
    "version": 3
   },
   "file_extension": ".py",
   "mimetype": "text/x-python",
   "name": "python",
   "nbconvert_exporter": "python",
   "pygments_lexer": "ipython3",
   "version": "3.9.7"
  }
 },
 "nbformat": 4,
 "nbformat_minor": 5
}
