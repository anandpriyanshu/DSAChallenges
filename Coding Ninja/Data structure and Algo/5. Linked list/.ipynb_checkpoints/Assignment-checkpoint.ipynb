{
 "cells": [
  {
   "cell_type": "markdown",
   "id": "1d3cc313",
   "metadata": {},
   "source": [
    "Find a Node in Linked List"
   ]
  },
  {
   "cell_type": "code",
   "execution_count": 4,
   "id": "b8d7e51b",
   "metadata": {},
   "outputs": [
    {
     "name": "stdout",
     "output_type": "stream",
     "text": [
      "3 4 5 2 6 1 9 -1\n"
     ]
    },
    {
     "data": {
      "text/plain": [
       "2"
      ]
     },
     "execution_count": 4,
     "metadata": {},
     "output_type": "execute_result"
    }
   ],
   "source": [
    "class Node:\n",
    "    def __init__(self,data):\n",
    "        self.data=data\n",
    "        self.next=None\n",
    "def findNode(head, n) :\n",
    "    count = 0\n",
    "    curr = head\n",
    "    while curr is not None:\n",
    "        if curr.data == n:\n",
    "            break\n",
    "        else:\n",
    "            curr=curr.next\n",
    "            count+=1\n",
    "    else:       #if curr is None\n",
    "        return -1\n",
    "    return count        \n",
    "        \n",
    "        \n",
    "        \n",
    "def printLL(head):\n",
    "    while head is not None:\n",
    "        print(str(head.data)+\"->\",end='')\n",
    "        head=head.next\n",
    "    print(\"None\")\n",
    "    return\n",
    "def takeInput():\n",
    "    inputList=[int (ele) for ele in input().split()]\n",
    "    head=None\n",
    "    tail=None\n",
    "    for currData in inputList:\n",
    "        if currData==-1:\n",
    "            break\n",
    "        newNode=Node(currData)\n",
    "        if head is None:\n",
    "            head=newNode\n",
    "            tail=newNode\n",
    "        else:\n",
    "            tail.next=newNode    \n",
    "            tail=newNode\n",
    "    return head\n",
    "head=takeInput()\n",
    "findNode(head, 5)"
   ]
  },
  {
   "cell_type": "markdown",
   "id": "a9707f32",
   "metadata": {},
   "source": [
    "AppendLastNToFirst"
   ]
  },
  {
   "cell_type": "code",
   "execution_count": 13,
   "id": "0714ce83",
   "metadata": {},
   "outputs": [
    {
     "name": "stdout",
     "output_type": "stream",
     "text": [
      "1 2 3 4 5 -1\n",
      "1->2->3->4->5->None\n",
      "3->4->5->1->2->None\n"
     ]
    }
   ],
   "source": [
    "class Node:\n",
    "    def __init__(self,data):\n",
    "        self.data=data\n",
    "        self.next=None\n",
    "        \n",
    "def appendLastNToFirst(head, n) :\n",
    "    \n",
    "    if n==0 or head is None:\n",
    "        return head\n",
    "    fast=head\n",
    "    slow=head\n",
    "    ihead=head\n",
    "    for i in range(n):\n",
    "        fast=fast.next\n",
    "    while fast.next is not None:\n",
    "        fast=fast.next\n",
    "        slow=slow.next\n",
    "    temp=slow.next\n",
    "    slow.next=None\n",
    "    fast.next=ihead\n",
    "    head=temp\n",
    "    return head        \n",
    "        \n",
    "def printLL(head):\n",
    "    while head is not None:\n",
    "        print(str(head.data)+\"->\",end='')\n",
    "        head=head.next\n",
    "    print(\"None\")\n",
    "    return\n",
    "def takeInput():\n",
    "    inputList=[int (ele) for ele in input().split()]\n",
    "    head=None\n",
    "    tail=None\n",
    "    for currData in inputList:\n",
    "        if currData==-1:\n",
    "            break\n",
    "        newNode=Node(currData)\n",
    "        if head is None:\n",
    "            head=newNode\n",
    "            tail=newNode\n",
    "        else:\n",
    "            tail.next=newNode    \n",
    "            tail=newNode\n",
    "    return head\n",
    "head=takeInput()\n",
    "printLL(head)\n",
    "head=appendLastNToFirst(head, 3)\n",
    "printLL(head)    # expected output 3 4 5 1 2"
   ]
  },
  {
   "cell_type": "markdown",
   "id": "120f068e",
   "metadata": {},
   "source": [
    "Eliminate duplicates from LL"
   ]
  },
  {
   "cell_type": "code",
   "execution_count": 1,
   "id": "5b124f73",
   "metadata": {},
   "outputs": [
    {
     "name": "stdout",
     "output_type": "stream",
     "text": [
      "1 2 3 3 4 4 5 -1\n",
      "1->2->3->4->5->None\n"
     ]
    }
   ],
   "source": [
    "class Node:\n",
    "    def __init__(self,data):\n",
    "        self.data=data\n",
    "        self.next=None\n",
    "def removeDuplicates(head) :\n",
    "    if head is None or head.next is None:\n",
    "        return head\n",
    "    \n",
    "    current = head\n",
    "    \n",
    "    while current.next is not None:\n",
    "        if current.data == current.next.data:\n",
    "            current.next = current.next.next\n",
    "        else:\n",
    "            current = current.next\n",
    "            \n",
    "    return head        \n",
    "        \n",
    "def printLL(head):\n",
    "    while head is not None:\n",
    "        print(str(head.data)+\"->\",end='')\n",
    "        head=head.next\n",
    "    print(\"None\")\n",
    "    return\n",
    "def takeInput():\n",
    "    inputList=[int (ele) for ele in input().split()]\n",
    "    head=None\n",
    "    tail=None\n",
    "    for currData in inputList:\n",
    "        if currData==-1:\n",
    "            break\n",
    "        newNode=Node(currData)\n",
    "        if head is None:\n",
    "            head=newNode\n",
    "            tail=newNode\n",
    "        else:\n",
    "            tail.next=newNode    \n",
    "            tail=newNode\n",
    "    return head\n",
    "head=takeInput()\n",
    "removeDuplicates(head)\n",
    "printLL(head)# expected op = 1 2 3 4 5 7 "
   ]
  },
  {
   "cell_type": "markdown",
   "id": "fec052f6",
   "metadata": {},
   "source": [
    "Print Reverse LinkedList"
   ]
  },
  {
   "cell_type": "code",
   "execution_count": 8,
   "id": "62120961",
   "metadata": {},
   "outputs": [
    {
     "name": "stdout",
     "output_type": "stream",
     "text": [
      "1 2 3 4 5 -1\n",
      "5 4 3 2 1 "
     ]
    }
   ],
   "source": [
    "class Node:\n",
    "    def __init__(self,data):\n",
    "        self.data=data\n",
    "        self.next=None\n",
    "        \n",
    "def printReverse(head) :\n",
    "\n",
    "    if head is None:\n",
    "        return\n",
    "    printReverse(head.next)\n",
    "    print(head.data,end=\" \")       \n",
    "        \n",
    "        \n",
    "        \n",
    "def printLL(head):\n",
    "    while head is not None:\n",
    "        print(str(head.data)+\"->\",end='')\n",
    "        head=head.next\n",
    "    print(\"None\")\n",
    "    return\n",
    "def takeInput():\n",
    "    inputList=[int (ele) for ele in input().split()]\n",
    "    head=None\n",
    "    tail=None\n",
    "    for currData in inputList:\n",
    "        if currData==-1:\n",
    "            break\n",
    "        newNode=Node(currData)\n",
    "        if head is None:\n",
    "            head=newNode\n",
    "            tail=newNode\n",
    "        else:\n",
    "            tail.next=newNode    \n",
    "            tail=newNode\n",
    "    return head\n",
    "head=takeInput()\n",
    "printReverse(head)"
   ]
  },
  {
   "cell_type": "markdown",
   "id": "d786a8eb",
   "metadata": {},
   "source": [
    "Palindrome LinkedList"
   ]
  },
  {
   "cell_type": "code",
   "execution_count": 10,
   "id": "50fb1455",
   "metadata": {},
   "outputs": [
    {
     "name": "stdout",
     "output_type": "stream",
     "text": [
      "0 2 3 2 5 -1\n"
     ]
    },
    {
     "data": {
      "text/plain": [
       "False"
      ]
     },
     "execution_count": 10,
     "metadata": {},
     "output_type": "execute_result"
    }
   ],
   "source": [
    "class Node:\n",
    "    def __init__(self,data):\n",
    "        self.data=data\n",
    "        self.next=None\n",
    "def reverse(head):\n",
    " \n",
    "\tif head is None:\n",
    "\t\treturn\n",
    "\n",
    "\tif head.next is None:\n",
    "\t\treturn head\n",
    "\n",
    "\tsmallhead=reverse(head.next)\n",
    "\ttail=head\n",
    "\twhile tail.next is not None:\n",
    "\t\ttail=tail.next\n",
    "\ttail.next=head\n",
    "\thead.next=None\n",
    "\n",
    "\treturn smallhead\n",
    "\n",
    "def length(head):\n",
    "    count=0\n",
    "    while head is not None:\n",
    "        head=head.next\n",
    "        count+=1\n",
    "        \n",
    "    return count\n",
    "\n",
    "def isPalindrome(head) :\n",
    "    if head is None:\n",
    "        return 'true'\n",
    "    \n",
    "    if head.next is None:\n",
    "        return 'true'\n",
    "    \n",
    "    l=length(head)\n",
    "    flag=True\n",
    "    count=0\n",
    "    h1=head\n",
    "    while count<(l-1)//2:\n",
    "        head=head.next\n",
    "        count+=1\n",
    "    \n",
    "    h2=head.next\n",
    "    head.next=None\n",
    "    \n",
    "    x=reverse(h2)\n",
    "\n",
    "    while x is not None:\n",
    "        if h1.data==x.data:\n",
    "            h1=h1.next\n",
    "            x=x.next\n",
    "        else:\n",
    "            return False\n",
    "        \n",
    "    return True      \n",
    "        \n",
    "        \n",
    "        \n",
    "def printLL(head):\n",
    "    while head is not None:\n",
    "        print(str(head.data)+\"->\",end='')\n",
    "        head=head.next\n",
    "    print(\"None\")\n",
    "    return\n",
    "def takeInput():\n",
    "    inputList=[int (ele) for ele in input().split()]\n",
    "    head=None\n",
    "    tail=None\n",
    "    for currData in inputList:\n",
    "        if currData==-1:\n",
    "            break\n",
    "        newNode=Node(currData)\n",
    "        if head is None:\n",
    "            head=newNode\n",
    "            tail=newNode\n",
    "        else:\n",
    "            tail.next=newNode    \n",
    "            tail=newNode\n",
    "    return head\n",
    "head=takeInput()\n",
    "isPalindrome(head)"
   ]
  },
  {
   "cell_type": "code",
   "execution_count": 11,
   "id": "ad3349bc",
   "metadata": {},
   "outputs": [
    {
     "name": "stdout",
     "output_type": "stream",
     "text": [
      "9 2 3 3 2 9 -1\n"
     ]
    },
    {
     "data": {
      "text/plain": [
       "True"
      ]
     },
     "execution_count": 11,
     "metadata": {},
     "output_type": "execute_result"
    }
   ],
   "source": [
    "head=takeInput()\n",
    "isPalindrome(head)"
   ]
  },
  {
   "cell_type": "code",
   "execution_count": null,
   "id": "03a56fef",
   "metadata": {},
   "outputs": [],
   "source": []
  }
 ],
 "metadata": {
  "kernelspec": {
   "display_name": "Python 3 (ipykernel)",
   "language": "python",
   "name": "python3"
  },
  "language_info": {
   "codemirror_mode": {
    "name": "ipython",
    "version": 3
   },
   "file_extension": ".py",
   "mimetype": "text/x-python",
   "name": "python",
   "nbconvert_exporter": "python",
   "pygments_lexer": "ipython3",
   "version": "3.9.7"
  }
 },
 "nbformat": 4,
 "nbformat_minor": 5
}
