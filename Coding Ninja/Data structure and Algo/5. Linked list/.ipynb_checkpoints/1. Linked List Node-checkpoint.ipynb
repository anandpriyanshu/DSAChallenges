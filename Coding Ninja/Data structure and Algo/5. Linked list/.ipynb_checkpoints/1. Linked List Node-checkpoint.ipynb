{
 "cells": [
  {
   "cell_type": "code",
   "execution_count": 3,
   "id": "313e297f",
   "metadata": {},
   "outputs": [
    {
     "name": "stdout",
     "output_type": "stream",
     "text": [
      "13\n",
      "15\n",
      "15\n",
      "<__main__.Node object at 0x000001C045C5DB50>\n",
      "<__main__.Node object at 0x000001C045C5D4C0>\n",
      "<__main__.Node object at 0x000001C045C5D4C0>\n"
     ]
    }
   ],
   "source": [
    "class Node:\n",
    "    \n",
    "    def __init__(self,data):\n",
    "        self.data = data\n",
    "        self.next = None    # By default\n",
    "a = Node(13)\n",
    "b = Node(15)\n",
    "a.next = b\n",
    "print(a.data)\n",
    "print(b.data)\n",
    "print(a.next.data)\n",
    "print(a)                   #refrence of a\n",
    "print(a.next)              # same refrence or means common refrence\n",
    "print(b)                   # same refrence  or means common refrence"
   ]
  },
  {
   "cell_type": "code",
   "execution_count": 4,
   "id": "b720038b",
   "metadata": {},
   "outputs": [
    {
     "ename": "AttributeError",
     "evalue": "'NoneType' object has no attribute 'data'",
     "output_type": "error",
     "traceback": [
      "\u001b[1;31m---------------------------------------------------------------------------\u001b[0m",
      "\u001b[1;31mAttributeError\u001b[0m                            Traceback (most recent call last)",
      "\u001b[1;32mC:\\Users\\PRIYAN~1\\AppData\\Local\\Temp/ipykernel_13228/3284088142.py\u001b[0m in \u001b[0;36m<module>\u001b[1;34m\u001b[0m\n\u001b[1;32m----> 1\u001b[1;33m \u001b[0mprint\u001b[0m\u001b[1;33m(\u001b[0m\u001b[0mb\u001b[0m\u001b[1;33m.\u001b[0m\u001b[0mnext\u001b[0m\u001b[1;33m.\u001b[0m\u001b[0mdata\u001b[0m\u001b[1;33m)\u001b[0m\u001b[1;33m\u001b[0m\u001b[1;33m\u001b[0m\u001b[0m\n\u001b[0m",
      "\u001b[1;31mAttributeError\u001b[0m: 'NoneType' object has no attribute 'data'"
     ]
    }
   ],
   "source": [
    "print(b.next.data) #  no data is present in None "
   ]
  },
  {
   "cell_type": "code",
   "execution_count": null,
   "id": "49c8ad63",
   "metadata": {},
   "outputs": [],
   "source": []
  },
  {
   "cell_type": "markdown",
   "id": "32ff208f",
   "metadata": {},
   "source": [
    "Predict the o/p"
   ]
  },
  {
   "cell_type": "code",
   "execution_count": 3,
   "id": "798b7c2b",
   "metadata": {},
   "outputs": [
    {
     "name": "stdout",
     "output_type": "stream",
     "text": [
      "20 ->10 ->End\n"
     ]
    }
   ],
   "source": [
    "class Node:\n",
    "    def __init__(self, data):\n",
    "        self.data = data\n",
    "        self.next = None\n",
    "def printLL(head):\n",
    "    while head is not None:\n",
    "        print(head.data,end=\" ->\")\n",
    "        head = head.next\n",
    "        \n",
    "    print(\"End\")\n",
    "\n",
    "node1 = Node(10)\n",
    "node2 = Node(20)\n",
    "node2.next = node1\n",
    "printLL(node2)"
   ]
  },
  {
   "cell_type": "code",
   "execution_count": 7,
   "id": "dca95b9c",
   "metadata": {},
   "outputs": [
    {
     "name": "stdout",
     "output_type": "stream",
     "text": [
      "10 20 "
     ]
    }
   ],
   "source": [
    "class Node:\n",
    "    def __init__(self, data):\n",
    "        self.data = data\n",
    "        self.next = None\n",
    "def printLL(head):\n",
    "    while head is not None:\n",
    "        print(head.data,end=\" \")\n",
    "        head = head.next\n",
    "\n",
    "node1 = Node(10)\n",
    "node2 = Node(20)\n",
    "node1.next = node2\n",
    "printLL(node1)"
   ]
  },
  {
   "cell_type": "code",
   "execution_count": 15,
   "id": "c76a68ff",
   "metadata": {},
   "outputs": [
    {
     "name": "stdout",
     "output_type": "stream",
     "text": [
      "10 20 30 40 "
     ]
    }
   ],
   "source": [
    "class Node:\n",
    "    def __init__(self, data):\n",
    "        self.data = data\n",
    "        self.next = None\n",
    "def printLL(head):\n",
    "    while head is not None:\n",
    "        print(head.data,end=\" \")\n",
    "        head = head.next\n",
    "\n",
    "node1 = Node(10)\n",
    "node2 = Node(20)\n",
    "node3 = Node(30)\n",
    "node4 = Node(40)\n",
    "node1.next = node2\n",
    "node2.next = node3\n",
    "node3.next = node4\n",
    "printLL(node1)"
   ]
  },
  {
   "cell_type": "code",
   "execution_count": 17,
   "id": "f797aeed",
   "metadata": {},
   "outputs": [
    {
     "name": "stdout",
     "output_type": "stream",
     "text": [
      "50-> <__main__.Node object at 0x0000018FD5FA0820>-> 40-> <__main__.Node object at 0x0000018FD5FA0CD0>-> 30-> <__main__.Node object at 0x0000018FD601D730>-> 20-> <__main__.Node object at 0x0000018FD601D940>-> 10-> None-> end\n"
     ]
    }
   ],
   "source": [
    "class Node:\n",
    "    \n",
    "    def __init__(self,data):\n",
    "        self.data = data\n",
    "        self.next = None\n",
    "        \n",
    "        \n",
    "def printLL(head):\n",
    "    while head is not None:\n",
    "        print(head.data, end=\"-> \")\n",
    "        print(head.next , end=\"-> \")   # for understanding purpose means checking the refrence(address) i wrote this line and i can remove the line\n",
    "        head= head.next\n",
    "    print(\"end\")\n",
    "    \n",
    "node1 = Node(10)\n",
    "node2 = Node(20)\n",
    "node3 = Node(30)\n",
    "node4 = Node(40)\n",
    "node5 = Node(50)\n",
    "node5.next = node4\n",
    "node4.next  = node3\n",
    "node3.next = node2\n",
    "node2.next = node1\n",
    "printLL(node5)"
   ]
  },
  {
   "cell_type": "code",
   "execution_count": null,
   "id": "60685692",
   "metadata": {},
   "outputs": [],
   "source": []
  },
  {
   "cell_type": "markdown",
   "id": "dd6b7bc6",
   "metadata": {},
   "source": [
    "FInd length of list, Done by myself"
   ]
  },
  {
   "cell_type": "code",
   "execution_count": 6,
   "id": "fe48b691",
   "metadata": {},
   "outputs": [],
   "source": [
    "l = [3,4,5,2,6,1,9,-1,11,12]"
   ]
  },
  {
   "cell_type": "code",
   "execution_count": 7,
   "id": "ba3f3ce1",
   "metadata": {},
   "outputs": [
    {
     "name": "stdout",
     "output_type": "stream",
     "text": [
      "9\n"
     ]
    }
   ],
   "source": [
    "c = 0\n",
    "for x in l:\n",
    "    if x !=-1:\n",
    "        c+=1\n",
    "    else:\n",
    "        continue\n",
    "print(c)"
   ]
  },
  {
   "cell_type": "code",
   "execution_count": 14,
   "id": "f0d6ce85",
   "metadata": {},
   "outputs": [
    {
     "name": "stdout",
     "output_type": "stream",
     "text": [
      "7\n"
     ]
    }
   ],
   "source": [
    "l = [3,4,5,6,7,1,9,-1]\n",
    "c = 0\n",
    "for x in l:\n",
    "    if x !=-1:\n",
    "        c+=1\n",
    "    else:\n",
    "        break\n",
    "print(c)\n"
   ]
  },
  {
   "cell_type": "code",
   "execution_count": null,
   "id": "4cc315e3",
   "metadata": {},
   "outputs": [],
   "source": []
  }
 ],
 "metadata": {
  "kernelspec": {
   "display_name": "Python 3 (ipykernel)",
   "language": "python",
   "name": "python3"
  },
  "language_info": {
   "codemirror_mode": {
    "name": "ipython",
    "version": 3
   },
   "file_extension": ".py",
   "mimetype": "text/x-python",
   "name": "python",
   "nbconvert_exporter": "python",
   "pygments_lexer": "ipython3",
   "version": "3.9.7"
  }
 },
 "nbformat": 4,
 "nbformat_minor": 5
}
