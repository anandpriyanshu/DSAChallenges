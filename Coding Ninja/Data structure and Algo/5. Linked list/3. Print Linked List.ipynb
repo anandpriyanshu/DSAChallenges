{
 "cells": [
  {
   "cell_type": "code",
   "execution_count": 3,
   "id": "0b1d2120",
   "metadata": {},
   "outputs": [
    {
     "name": "stdout",
     "output_type": "stream",
     "text": [
      "1 2 3 4\n",
      "1->2->3->4->None\n"
     ]
    }
   ],
   "source": [
    "class Node:\n",
    "    def __init__(self,data):\n",
    "        self.data=data\n",
    "        self.next=None\n",
    "def printLL(head):\n",
    "    while head is not None:\n",
    "        print(str(head.data)+\"->\",end='')     # convert in str  bcz adding possible in same data type \n",
    "        head=head.next\n",
    "    print(\"None\")         #after loop completion print None\n",
    "    return\n",
    "def takeInput():\n",
    "    inputList=[int (ele) for ele in input().split()]\n",
    "    head=None\n",
    "    for currData in inputList:\n",
    "        if currData==-1:\n",
    "            break\n",
    "        newNode=Node(currData)\n",
    "        if head is None:\n",
    "            head=newNode\n",
    "        else:\n",
    "            curr=head\n",
    "            while curr.next is not None:\n",
    "                curr=curr.next\n",
    "            curr.next=newNode\n",
    "    return head\n",
    "head=takeInput()\n",
    "printLL(head)\n",
    "# printLL(head)"
   ]
  },
  {
   "cell_type": "code",
   "execution_count": null,
   "id": "0af26509",
   "metadata": {},
   "outputs": [],
   "source": []
  }
 ],
 "metadata": {
  "kernelspec": {
   "display_name": "Python 3 (ipykernel)",
   "language": "python",
   "name": "python3"
  },
  "language_info": {
   "codemirror_mode": {
    "name": "ipython",
    "version": 3
   },
   "file_extension": ".py",
   "mimetype": "text/x-python",
   "name": "python",
   "nbconvert_exporter": "python",
   "pygments_lexer": "ipython3",
   "version": "3.9.7"
  }
 },
 "nbformat": 4,
 "nbformat_minor": 5
}
