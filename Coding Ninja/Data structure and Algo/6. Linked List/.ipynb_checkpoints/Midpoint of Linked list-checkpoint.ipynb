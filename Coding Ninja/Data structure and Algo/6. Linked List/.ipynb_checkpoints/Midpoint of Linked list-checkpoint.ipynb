{
 "cells": [
  {
   "cell_type": "code",
   "execution_count": null,
   "id": "5be71f65",
   "metadata": {},
   "outputs": [],
   "source": [
    "class Node:\n",
    "    def __init__(self,data):\n",
    "        self.data=data\n",
    "        self.next=None\n",
    "def printLL(head):\n",
    "    while head is not None:\n",
    "        print(str(head.data)+\"->\",end='')\n",
    "        head=head.next\n",
    "    print(\"None\")\n",
    "    return\n",
    "\n",
    "def midPoint(head) :\n",
    "    slow = head\n",
    "    fast = head\n",
    "    if slow==None:   #I haven't define base case in my code\n",
    "        return slow\n",
    "    while fast != None and fast.next != None:\n",
    "        slow = slow.next\n",
    "        fast = fast.next.next\n",
    "    return slow    \n",
    "    \n",
    "    \n",
    "def takeInput():\n",
    "    inputList=[int (ele) for ele in input().split()]\n",
    "    head=None\n",
    "    tail=None\n",
    "    for currData in inputList:\n",
    "        if currData==-1:\n",
    "            break\n",
    "        newNode=Node(currData)\n",
    "        if head is None:\n",
    "            head=newNode\n",
    "            tail=newNode\n",
    "        else:\n",
    "            tail.next=newNode\n",
    "            tail=newNode\n",
    "    return head\n",
    "\n",
    "    \n",
    "\n",
    "head=takeInput()\n",
    "printLL(head)\n",
    "head = midPoint(head)\n",
    "printLL(head)"
   ]
  },
  {
   "cell_type": "code",
   "execution_count": null,
   "id": "86781a40",
   "metadata": {},
   "outputs": [],
   "source": [
    "#expexted output is only 3 bcz 3 is the middle"
   ]
  }
 ],
 "metadata": {
  "kernelspec": {
   "display_name": "Python 3 (ipykernel)",
   "language": "python",
   "name": "python3"
  },
  "language_info": {
   "codemirror_mode": {
    "name": "ipython",
    "version": 3
   },
   "file_extension": ".py",
   "mimetype": "text/x-python",
   "name": "python",
   "nbconvert_exporter": "python",
   "pygments_lexer": "ipython3",
   "version": "3.9.7"
  }
 },
 "nbformat": 4,
 "nbformat_minor": 5
}
