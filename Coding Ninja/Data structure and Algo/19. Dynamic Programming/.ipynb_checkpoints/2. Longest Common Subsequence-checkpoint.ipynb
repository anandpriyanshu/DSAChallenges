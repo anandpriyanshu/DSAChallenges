{
 "cells": [
  {
   "cell_type": "code",
   "execution_count": 6,
   "id": "b3a10d70",
   "metadata": {},
   "outputs": [
    {
     "name": "stdout",
     "output_type": "stream",
     "text": [
      "4\n"
     ]
    }
   ],
   "source": [
    "def LCS(str1,str2,i,j):\n",
    "    if i==len(str1) or j==len(str2):\n",
    "        return 0\n",
    "    if str1[i]==str2[j]:\n",
    "        ans=1+LCS(str1,str2,i+1,j+1)   # 1 add bcz 1st element definitely include\n",
    "    else:\n",
    "        ans1=LCS(str1,str2,i+1,j)\n",
    "        ans2=LCS(str1,str2,i,j+1)\n",
    "        ans=max(ans1,ans2)\n",
    "    return ans\n",
    "\n",
    "str1=\"abedgjc\"\n",
    "str2=\"bmdgsc\"\n",
    "ans=LCS(str1,str2,0,0)       # initially i,j = 0,0\n",
    "print(ans)"
   ]
  },
  {
   "cell_type": "markdown",
   "id": "fc8f613c",
   "metadata": {},
   "source": [
    "Memoization"
   ]
  },
  {
   "cell_type": "code",
   "execution_count": 12,
   "id": "9646779c",
   "metadata": {},
   "outputs": [
    {
     "name": "stdout",
     "output_type": "stream",
     "text": [
      "4\n"
     ]
    }
   ],
   "source": [
    "def LCS(str1,str2,i,j,dp):\n",
    "    if i==len(str1) or j==len(str2):\n",
    "        return 0\n",
    "    \n",
    "    if str1[i]==str2[j]:\n",
    "        if dp[i+1][j+1] == -1:\n",
    "            smallAns = LCS(str1,str2,i+1,j+1,dp)   # store LCS in small ans\n",
    "            dp[i+1][j+1] = smallAns\n",
    "            ans = 1 + smallAns\n",
    "        else:\n",
    "            ans = 1 + dp[i+1][j+1]\n",
    "            \n",
    "    else:\n",
    "        if dp[i+1][j] == -1:\n",
    "            ans1=LCS(str1,str2,i+1,j,dp)\n",
    "            dp[i+1][j] = ans1\n",
    "        else: \n",
    "            ans1 = dp[i+1][j]\n",
    "        if dp[i][j+1]:\n",
    "            ans2=LCS(str1,str2,i,j+1,dp)\n",
    "            dp[i][j+1] = ans2\n",
    "        else:\n",
    "            ans2 = dp[i][j+1]\n",
    "            \n",
    "        ans=max(ans1,ans2)\n",
    "    return ans\n",
    "\n",
    "\n",
    "str1=\"abedgjc\"\n",
    "str2=\"bmdgsc\"\n",
    "n=len(str1)\n",
    "m=len(str2)\n",
    "dp=[[-1 for j in range(m+1)]for i in range(n+1)]\n",
    "ans=LCS(str1,str2,0,0,dp)\n",
    "print(ans)"
   ]
  },
  {
   "cell_type": "code",
   "execution_count": null,
   "id": "fc5cb043",
   "metadata": {},
   "outputs": [],
   "source": []
  }
 ],
 "metadata": {
  "kernelspec": {
   "display_name": "Python 3 (ipykernel)",
   "language": "python",
   "name": "python3"
  },
  "language_info": {
   "codemirror_mode": {
    "name": "ipython",
    "version": 3
   },
   "file_extension": ".py",
   "mimetype": "text/x-python",
   "name": "python",
   "nbconvert_exporter": "python",
   "pygments_lexer": "ipython3",
   "version": "3.9.7"
  }
 },
 "nbformat": 4,
 "nbformat_minor": 5
}
