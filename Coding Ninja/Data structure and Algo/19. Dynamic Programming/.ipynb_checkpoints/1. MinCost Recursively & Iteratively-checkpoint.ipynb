{
 "cells": [
  {
   "cell_type": "code",
   "execution_count": 1,
   "id": "7f2f130f",
   "metadata": {},
   "outputs": [
    {
     "name": "stdout",
     "output_type": "stream",
     "text": [
      "30\n"
     ]
    }
   ],
   "source": [
    "import sys\n",
    "def minCostT(cost,i,j,n,m):\n",
    "    #Special Case\n",
    "    if i==n-1 and j==m-1:   # at last corner case\n",
    "        return cost[i][j]\n",
    "    #Base case\n",
    "    if i>=n or j>=m:  #i and j out of the limit\n",
    "        return sys.maxsize\n",
    "    \n",
    "    ans1=minCost(cost,i,j+1,n,m)\n",
    "    ans2=minCost(cost,i+1,j,n,m)\n",
    "    ans3=minCost(cost,i+1,j+1,n,m)\n",
    "    \n",
    "    ans=cost[i][j]+min(ans1,ans2,ans3)\n",
    "    return ans\n",
    "\n",
    "cost=[[1,5,11],[8,13,12],[2,3,7],[15,16,18]]\n",
    "ans=minCost(cost,0,0,4,3)    # starting i,j = 0,0 and row(0 to n-1), column(0 to m-1)\n",
    "print(ans)"
   ]
  },
  {
   "cell_type": "markdown",
   "id": "3f37159b",
   "metadata": {},
   "source": [
    "MInCost Memoization"
   ]
  },
  {
   "cell_type": "code",
   "execution_count": 5,
   "id": "013a2a38",
   "metadata": {},
   "outputs": [
    {
     "name": "stdout",
     "output_type": "stream",
     "text": [
      "30\n"
     ]
    }
   ],
   "source": [
    "import sys\n",
    "def minCost(cost,i,j,n,m,dp):\n",
    "    #Special Case\n",
    "    if i==n-1 and j==m-1:\n",
    "        return cost[i][j]\n",
    "    #Base case\n",
    "    if i>=n or j>=m:\n",
    "        return sys.maxsize\n",
    "    \n",
    "    if dp[i][j+1]==sys.maxsize:\n",
    "        ans1=minCost(cost,i,j+1,n,m,dp)\n",
    "        dp[i][j+1]=ans1\n",
    "    else:\n",
    "        ans1=dp[i][j+1]\n",
    "        \n",
    "    if dp[i+1][j]==sys.maxsize:\n",
    "        ans2=minCost(cost,i+1,j,n,m,dp)\n",
    "        dp[i+1][j] = ans2\n",
    "    else:\n",
    "        ans2=dp[i+1][j]\n",
    "        \n",
    "    if dp[i+1][j+1]==sys.maxsize:\n",
    "        ans3=minCost(cost,i+1,j+1,n,m,dp)\n",
    "        dp[i+1][j+1] = ans3\n",
    "    else:\n",
    "        ans3=dp[i+1][j+1]\n",
    "    ans=cost[i][j]+min(ans1,ans2,ans3)\n",
    "    \n",
    "    \n",
    "    return ans\n",
    "\n",
    "cost=[[1,5,11],[8,13,12],[2,3,7],[15,16,18]]\n",
    "n=4\n",
    "m=3\n",
    "dp=[[sys.maxsize for j in range(m+1)]for i in range(n+1)]\n",
    "ans=minCost(cost,0,0,4,3,dp)\n",
    "print(ans)"
   ]
  },
  {
   "cell_type": "markdown",
   "id": "b8142b8c",
   "metadata": {},
   "source": [
    "Iteratively"
   ]
  },
  {
   "cell_type": "markdown",
   "id": "44e7bedb",
   "metadata": {},
   "source": [
    "### Bottom Up approach"
   ]
  },
  {
   "cell_type": "code",
   "execution_count": 8,
   "id": "07227bd1",
   "metadata": {},
   "outputs": [
    {
     "name": "stdout",
     "output_type": "stream",
     "text": [
      "30\n"
     ]
    }
   ],
   "source": [
    "import sys\n",
    "def minCostIterativeBU(cost,n,m):\n",
    "    \n",
    "    dp=[[sys.maxsize for j in range(m+1)]for i in range(n+1)]\n",
    "    for i in range(n-1,-1,-1):         #staring from last right corner index)\n",
    "        for j in range(m-1,-1,-1):     #staring from last right corner index)\n",
    "            if i==n-1 and j==m-1:      # if last corner index value at last corner index means no need to compair\n",
    "                dp[i][j]=cost[i][j]     # don't need to compare with other it is minimum as it is \n",
    "            else:\n",
    "                ans1=dp[i+1][j]\n",
    "                ans2=dp[i][j+1]\n",
    "                ans3=dp[i+1][j+1]\n",
    "                dp[i][j]=cost[i][j]+min(ans1,ans2,ans3)\n",
    "    return dp[0][0]         # finall return zero index value\n",
    "cost=[[1,5,11],[8,13,12],[2,3,7],[15,16,18]]\n",
    "n=4\n",
    "m=3 \n",
    "ans=minCostIterativeBU(cost,n,m)\n",
    "print(ans)"
   ]
  },
  {
   "cell_type": "markdown",
   "id": "d52ea861",
   "metadata": {},
   "source": [
    "### Top Down approach"
   ]
  },
  {
   "cell_type": "code",
   "execution_count": 11,
   "id": "74c3e886",
   "metadata": {},
   "outputs": [
    {
     "name": "stdout",
     "output_type": "stream",
     "text": [
      "30\n"
     ]
    }
   ],
   "source": [
    "import sys\n",
    "\n",
    "def minCostIterativeTD(cost,n,m):\n",
    "    \n",
    "    dp=[[sys.maxsize for j in range(m+1)]for i in range(n+1)]\n",
    "    for i in range(1,n+1):            #starting from start left  corner 1st index bcz zero index in sys.maxsize)\n",
    "        for j in range(1,m+1):        #starting from start left  corner 1st index bcz zero index in sys.maxsize)\n",
    "            if i==1 and j==1:         # if 1st corner index value at 1st corner index means no need to compair \n",
    "                dp[i][j]=cost[0][0]       # don't need to compare with other it is minimum as it is \n",
    "            else:\n",
    "                ans1=dp[i-1][j]\n",
    "                ans2=dp[i][j-1]\n",
    "                ans3=dp[i-1][j-1]\n",
    "                dp[i][j]=cost[i-1][j-1]+min(ans1,ans2,ans3)\n",
    "    return dp[n][m]   # return last index value\n",
    "cost=[[1,5,11],[8,13,12],[2,3,7],[15,16,18]]\n",
    "n=4\n",
    "m=3 \n",
    "ans=minCostIterativeTD(cost,n,m)\n",
    "print(ans)\n",
    "    "
   ]
  },
  {
   "cell_type": "markdown",
   "id": "d4338d40",
   "metadata": {},
   "source": [
    "### TA Soln"
   ]
  },
  {
   "cell_type": "code",
   "execution_count": 2,
   "id": "c8bb2213",
   "metadata": {},
   "outputs": [
    {
     "name": "stdout",
     "output_type": "stream",
     "text": [
      "3 4\n",
      "3 4 1 2\n",
      "2 1 8 9\n",
      "4 7 8 1 \n",
      "13\n"
     ]
    }
   ],
   "source": [
    "import sys\n",
    "def minCostIterative(cost,m,n):\n",
    "    dp=[[sys.maxsize for j in range(n+1) ]for i in range(m+1)]\n",
    "    for i in range(m-1,-1,-1):\n",
    "        for j in range(n-1,-1,-1):\n",
    "            if i==m-1 and j==n-1:\n",
    "                dp[i][j]=cost[i][j]\n",
    "            else:\n",
    "                ans1=dp[i+1][j]\n",
    "                ans2=dp[i][j+1]\n",
    "                ans3=dp[i+1][j+1]\n",
    "                ans=cost[i][j]+min(ans1,ans2,ans3)\n",
    "                dp[i][j]=ans\n",
    "    return dp[0][0]\n",
    "                \n",
    "        \n",
    "    \n",
    "\n",
    "\n",
    "li=input().split()\n",
    "m=int(li[0])\n",
    "n=int(li[1])\n",
    "cost=[[int(j) for j in input().split()] for i in range(m)]\n",
    "res=minCostIterative(cost,m,n)\n",
    "print(res)"
   ]
  },
  {
   "cell_type": "code",
   "execution_count": null,
   "id": "73dec7b4",
   "metadata": {},
   "outputs": [],
   "source": []
  }
 ],
 "metadata": {
  "kernelspec": {
   "display_name": "Python 3 (ipykernel)",
   "language": "python",
   "name": "python3"
  },
  "language_info": {
   "codemirror_mode": {
    "name": "ipython",
    "version": 3
   },
   "file_extension": ".py",
   "mimetype": "text/x-python",
   "name": "python",
   "nbconvert_exporter": "python",
   "pygments_lexer": "ipython3",
   "version": "3.9.7"
  }
 },
 "nbformat": 4,
 "nbformat_minor": 5
}
