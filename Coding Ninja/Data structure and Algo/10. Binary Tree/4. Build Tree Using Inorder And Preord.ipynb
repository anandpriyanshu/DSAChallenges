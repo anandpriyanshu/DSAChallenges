{
 "cells": [
  {
   "cell_type": "code",
   "execution_count": 2,
   "id": "559f1517",
   "metadata": {},
   "outputs": [],
   "source": [
    "class BinaryTreeNode:\n",
    "    def __init__(self,data):\n",
    "        self.data=data;\n",
    "        self.left=None\n",
    "        self.right=None"
   ]
  },
  {
   "cell_type": "code",
   "execution_count": 3,
   "id": "547deb5e",
   "metadata": {},
   "outputs": [],
   "source": [
    "def printTree(root):\n",
    "    if root==None:\n",
    "        return\n",
    "    print(root.data)\n",
    "    printTree(root.left)\n",
    "    printTree(root.right)"
   ]
  },
  {
   "cell_type": "code",
   "execution_count": 4,
   "id": "78bd74df",
   "metadata": {},
   "outputs": [],
   "source": [
    "def printTreeDetailed(root):\n",
    "    if root==None:\n",
    "        return\n",
    "    print(root.data,end=\":\")\n",
    "    if root.left!=None:\n",
    "        print(\"L\",root.left.data,end=\",\")\n",
    "    if root.right!=None:\n",
    "        print(\"R\",root.right.data,end=\"\")\n",
    "    print()\n",
    "    printTreeDetailed(root.left)\n",
    "    printTreeDetailed(root.right)"
   ]
  },
  {
   "cell_type": "code",
   "execution_count": 7,
   "id": "55f089aa",
   "metadata": {},
   "outputs": [],
   "source": [
    "def buildTreeFromPreIn(pre,inorder):\n",
    "    if len(pre)==0:\n",
    "        return None\n",
    "    rootData=pre[0]\n",
    "    root=BinaryTreeNode(rootData)\n",
    "    rootIndexInInOrder=-1\n",
    "    for i in range(0,len(inorder)):\n",
    "        if inorder[i]==rootData:\n",
    "            rootIndexInInorder=i\n",
    "            break\n",
    "    if rootIndexInInorder==-1:\n",
    "        return None\n",
    "        \n",
    "    leftInorder=inorder[0:rootIndexInInorder]\n",
    "    rightInorder=inorder[rootIndexInInorder+1:]\n",
    "        \n",
    "    lenLeftSubtree=len(leftInorder)\n",
    "        \n",
    "    leftPreorder=pre[1:lenLeftSubtree+1] \n",
    "    rightPreorder=pre[lenLeftSubtree+1:]\n",
    "        \n",
    "    leftChild=buildTreeFromPreIn(leftPreorder,leftInorder)\n",
    "    rightChild=buildTreeFromPreIn(rightPreorder,rightInorder)\n",
    "        \n",
    "    root.left=leftChild\n",
    "    root.right=rightChild\n",
    "    return root"
   ]
  },
  {
   "cell_type": "code",
   "execution_count": 8,
   "id": "19027ae7",
   "metadata": {},
   "outputs": [
    {
     "name": "stdout",
     "output_type": "stream",
     "text": [
      "1:L 2,R 3\n",
      "2:L 4,R 5\n",
      "4:\n",
      "5:\n",
      "3:L 6,R 7\n",
      "6:\n",
      "7:\n"
     ]
    }
   ],
   "source": [
    "pre=[4,5,2,6,7,3,1]\n",
    "inorder=[4,2,5,1,6,3,7]\n",
    "root=buildTreeFromPreIn(pre,inorder)\n",
    "printTreeDetailed(root)"
   ]
  },
  {
   "cell_type": "code",
   "execution_count": null,
   "id": "5eca8596",
   "metadata": {},
   "outputs": [],
   "source": []
  }
 ],
 "metadata": {
  "kernelspec": {
   "display_name": "Python 3 (ipykernel)",
   "language": "python",
   "name": "python3"
  },
  "language_info": {
   "codemirror_mode": {
    "name": "ipython",
    "version": 3
   },
   "file_extension": ".py",
   "mimetype": "text/x-python",
   "name": "python",
   "nbconvert_exporter": "python",
   "pygments_lexer": "ipython3",
   "version": "3.9.7"
  }
 },
 "nbformat": 4,
 "nbformat_minor": 5
}
