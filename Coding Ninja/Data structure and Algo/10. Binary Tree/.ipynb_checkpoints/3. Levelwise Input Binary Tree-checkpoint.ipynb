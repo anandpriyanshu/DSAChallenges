{
 "cells": [
  {
   "cell_type": "code",
   "execution_count": 9,
   "id": "8ee7d6da",
   "metadata": {},
   "outputs": [],
   "source": [
    "class BinaryTreeNode:\n",
    "    def __init__(self,data):\n",
    "        self.data=data;\n",
    "        self.left=None\n",
    "        self.right=None"
   ]
  },
  {
   "cell_type": "code",
   "execution_count": 10,
   "id": "b64ac60c",
   "metadata": {},
   "outputs": [],
   "source": [
    "def printTree(root):\n",
    "    if root==None:\n",
    "        return\n",
    "    print(root.data)\n",
    "    printTree(root.left)\n",
    "    printTree(root.right)"
   ]
  },
  {
   "cell_type": "code",
   "execution_count": 11,
   "id": "77f7f836",
   "metadata": {},
   "outputs": [],
   "source": [
    "def printTreeDetailed(root):\n",
    "    if root==None:\n",
    "        return\n",
    "    print(root.data,end=\":\")\n",
    "    if root.left!=None:\n",
    "        print(\"L\",root.left.data,end=\",\")\n",
    "    if root.right!=None:\n",
    "        print(\"R\",root.right.data,end=\"\")\n",
    "    print()\n",
    "    printTreeDetailed(root.left)\n",
    "    printTreeDetailed(root.right)"
   ]
  },
  {
   "cell_type": "code",
   "execution_count": 13,
   "id": "391a8d5a",
   "metadata": {},
   "outputs": [],
   "source": [
    "def printLevelWise(root):\n",
    "\n",
    "    \n",
    "        if(root==None):\n",
    "            return \n",
    "        q=queue.Queue()\n",
    "        q.put(root)\n",
    "        while(not(q.empty())):\n",
    "            current_node=q.get()\n",
    "            print(current_node.data,end='')\n",
    "            if(current_node.left!=None):\n",
    "                q.put(current_node.left)\n",
    "                print(\":L:\",end='')\n",
    "                print(current_node.left.data,end=',')\n",
    "            if(current_node.left==None):\n",
    "                print(\":L:-1\",end=',')\n",
    "            if(current_node.right!=None):\n",
    "                q.put(current_node.right)\n",
    "                print(\"R:\",end='')\n",
    "                print(current_node.right.data,end='')\n",
    "            if(current_node.right==None):\n",
    "                print(\"R:-1\",end='')\n",
    "            print()"
   ]
  },
  {
   "cell_type": "code",
   "execution_count": 14,
   "id": "99216a50",
   "metadata": {},
   "outputs": [],
   "source": [
    "import queue\n",
    "def takeTreeInputLevelWise():\n",
    "    q=queue.Queue()\n",
    "    print(\"Enter root\")\n",
    "    rootData=int(input())\n",
    "    if rootData==-1:\n",
    "        return None\n",
    "    root=BinaryTreeNode(rootData)\n",
    "    q.put(root)\n",
    "    while(not(q.empty())):\n",
    "        current_node=q.get()\n",
    "        print(\"Enter left child of\",current_node.data)\n",
    "        leftChildData=int(input())\n",
    "        if leftChildData!=-1:\n",
    "            leftChild=BinaryTreeNode(leftChildData)\n",
    "            current_node.left=leftChild\n",
    "            q.put(leftChild)\n",
    "        \n",
    "        print(\"Enter right child of\",current_node.data)\n",
    "        rightChildData=int(input())\n",
    "        if rightChildData!=-1:\n",
    "            rightChild=BinaryTreeNode(rightChildData)\n",
    "            current_node.right=rightChild\n",
    "            q.put(rightChild)\n",
    "    return root"
   ]
  },
  {
   "cell_type": "code",
   "execution_count": 11,
   "id": "b47aac21",
   "metadata": {},
   "outputs": [
    {
     "name": "stdout",
     "output_type": "stream",
     "text": [
      "Enter root\n",
      "1\n",
      "Enter left child of 1\n",
      "2\n",
      "Enter right child of 1\n",
      "3\n",
      "Enter left child of 2\n",
      "4\n",
      "Enter right child of 2\n",
      "5\n",
      "Enter left child of 3\n",
      "6\n",
      "Enter right child of 3\n",
      "7\n",
      "Enter left child of 4\n",
      "-1\n",
      "Enter right child of 4\n",
      "-1\n",
      "Enter left child of 5\n",
      "-1\n",
      "Enter right child of 5\n",
      "8\n",
      "Enter left child of 6\n",
      "-1\n",
      "Enter right child of 6\n",
      "-1\n",
      "Enter left child of 7\n",
      "-1\n",
      "Enter right child of 7\n",
      "-1\n",
      "Enter left child of 8\n",
      "-1\n",
      "Enter right child of 8\n",
      "-1\n",
      "1:L 2,R 3\n",
      "2:L 4,R 5\n",
      "4:\n",
      "5:R 8\n",
      "8:\n",
      "3:L 6,R 7\n",
      "6:\n",
      "7:\n"
     ]
    }
   ],
   "source": [
    "root=takeTreeInputLevelWise()\n",
    "printTreeDetailed(root)"
   ]
  },
  {
   "cell_type": "code",
   "execution_count": 15,
   "id": "7198ba49",
   "metadata": {},
   "outputs": [
    {
     "name": "stdout",
     "output_type": "stream",
     "text": [
      "Enter root\n",
      "1\n",
      "Enter left child of 1\n",
      "2\n",
      "Enter right child of 1\n",
      "3\n",
      "Enter left child of 2\n",
      "4\n",
      "Enter right child of 2\n",
      "5\n",
      "Enter left child of 3\n",
      "6\n",
      "Enter right child of 3\n",
      "7\n",
      "Enter left child of 4\n",
      "-1\n",
      "Enter right child of 4\n",
      "-1\n",
      "Enter left child of 5\n",
      "-1\n",
      "Enter right child of 5\n",
      "8\n",
      "Enter left child of 6\n",
      "-1\n",
      "Enter right child of 6\n",
      "-1\n",
      "Enter left child of 7\n",
      "-1\n",
      "Enter right child of 7\n",
      "-1\n",
      "Enter left child of 8\n",
      "-1\n",
      "Enter right child of 8\n",
      "-1\n",
      "1:L 2,R 3\n",
      "2:L 4,R 5\n",
      "4:\n",
      "5:R 8\n",
      "8:\n",
      "3:L 6,R 7\n",
      "6:\n",
      "7:\n"
     ]
    }
   ],
   "source": [
    "root=takeTreeInputLevelWise()\n",
    "printTreeDetailed(root)"
   ]
  },
  {
   "cell_type": "code",
   "execution_count": null,
   "id": "01120c7f",
   "metadata": {},
   "outputs": [],
   "source": []
  }
 ],
 "metadata": {
  "kernelspec": {
   "display_name": "Python 3 (ipykernel)",
   "language": "python",
   "name": "python3"
  },
  "language_info": {
   "codemirror_mode": {
    "name": "ipython",
    "version": 3
   },
   "file_extension": ".py",
   "mimetype": "text/x-python",
   "name": "python",
   "nbconvert_exporter": "python",
   "pygments_lexer": "ipython3",
   "version": "3.9.7"
  }
 },
 "nbformat": 4,
 "nbformat_minor": 5
}
