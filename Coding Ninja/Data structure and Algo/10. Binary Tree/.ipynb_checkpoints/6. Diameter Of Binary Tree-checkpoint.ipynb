{
 "cells": [
  {
   "cell_type": "code",
   "execution_count": 2,
   "id": "1f04aedc",
   "metadata": {},
   "outputs": [],
   "source": [
    "from sys import stdin, setrecursionlimit\n",
    "import queue\n",
    "\n",
    "setrecursionlimit(10 ** 6)"
   ]
  },
  {
   "cell_type": "code",
   "execution_count": 3,
   "id": "4c8ee0b6",
   "metadata": {},
   "outputs": [],
   "source": [
    "class BinaryTreeNode:\n",
    "    def __init__(self,data):\n",
    "        self.data=data;\n",
    "        self.left=None\n",
    "        self.right=None"
   ]
  },
  {
   "cell_type": "code",
   "execution_count": 4,
   "id": "72fb7c20",
   "metadata": {},
   "outputs": [],
   "source": [
    "class Pair :\n",
    "    def __init__(self, diameter, height) :\n",
    "        self.diameter = diameter\n",
    "        self.height = height"
   ]
  },
  {
   "cell_type": "code",
   "execution_count": 5,
   "id": "edf60649",
   "metadata": {},
   "outputs": [],
   "source": [
    "def diameterHelper(root):\n",
    "\tif root is None:\n",
    "\t\tpair = Pair(0, 0)\n",
    "\t\treturn pair\n",
    "\n",
    "\tleftPair = diameterHelper(root.left)\n",
    "\trightPair = diameterHelper(root.right)\n",
    "\n",
    "\tleftDiameter = leftPair.diameter\n",
    "\trightDiameter = rightPair.diameter\n",
    "\n",
    "\tdiameterFromRoot = leftPair.height + rightPair.height + 1\n",
    "\n",
    "\tdiameter = max(leftDiameter, rightDiameter, diameterFromRoot)\n",
    "\theight = max(leftPair.height,rightPair.height) + 1\n",
    "\n",
    "\treturn Pair(diameter, height)"
   ]
  },
  {
   "cell_type": "code",
   "execution_count": 6,
   "id": "335554e3",
   "metadata": {},
   "outputs": [],
   "source": [
    "def diameterOfBinaryTree(root):\n",
    "    pair = diameterHelper(root)\n",
    "    return pair.diameter\n"
   ]
  },
  {
   "cell_type": "code",
   "execution_count": 7,
   "id": "2b6bb6fe",
   "metadata": {},
   "outputs": [],
   "source": [
    "def printLevelWise(root):\n",
    "\n",
    "    \n",
    "        if(root==None):\n",
    "            return \n",
    "        q=queue.Queue()\n",
    "        q.put(root)\n",
    "        while(not(q.empty())):\n",
    "            current_node=q.get()\n",
    "            print(current_node.data,end='')\n",
    "            if(current_node.left!=None):\n",
    "                q.put(current_node.left)\n",
    "                print(\":L:\",end='')\n",
    "                print(current_node.left.data,end=',')\n",
    "            if(current_node.left==None):\n",
    "                print(\":L:-1\",end=',')\n",
    "            if(current_node.right!=None):\n",
    "                q.put(current_node.right)\n",
    "                print(\"R:\",end='')\n",
    "                print(current_node.right.data,end='')\n",
    "            if(current_node.right==None):\n",
    "                print(\"R:-1\",end='')\n",
    "            print()"
   ]
  },
  {
   "cell_type": "code",
   "execution_count": 8,
   "id": "2c31fdea",
   "metadata": {},
   "outputs": [],
   "source": [
    "import queue\n",
    "def takeTreeInputLevelWise():\n",
    "    q=queue.Queue()\n",
    "    print(\"Enter root\")\n",
    "    rootData=int(input())\n",
    "    if rootData==-1:\n",
    "        return None\n",
    "    root=BinaryTreeNode(rootData)\n",
    "    q.put(root)\n",
    "    while(not(q.empty())):\n",
    "        current_node=q.get()\n",
    "        print(\"Enter left child of\",current_node.data)\n",
    "        leftChildData=int(input())\n",
    "        if leftChildData!=-1:\n",
    "            leftChild=BinaryTreeNode(leftChildData)\n",
    "            current_node.left=leftChild\n",
    "            q.put(leftChild)\n",
    "        \n",
    "        print(\"Enter right child of\",current_node.data)\n",
    "        rightChildData=int(input())\n",
    "        if rightChildData!=-1:\n",
    "            rightChild=BinaryTreeNode(rightChildData)\n",
    "            current_node.right=rightChild\n",
    "            q.put(rightChild)\n",
    "    return root"
   ]
  },
  {
   "cell_type": "code",
   "execution_count": 12,
   "id": "0845e9e6",
   "metadata": {},
   "outputs": [
    {
     "name": "stdout",
     "output_type": "stream",
     "text": [
      "Enter root\n",
      "1\n",
      "Enter left child of 1\n",
      "2 \n",
      "Enter right child of 1\n",
      "3\n",
      "Enter left child of 2\n",
      "4\n",
      "Enter right child of 2\n",
      "5\n",
      "Enter left child of 3\n",
      "6\n",
      "Enter right child of 3\n",
      "7\n",
      "Enter left child of 4\n",
      "-1\n",
      "Enter right child of 4\n",
      "-1\n",
      "Enter left child of 5\n",
      "-1\n",
      "Enter right child of 5\n",
      "-1\n",
      "Enter left child of 6\n",
      "-1\n",
      "Enter right child of 6\n",
      "-1\n",
      "Enter left child of 7\n",
      "-1\n",
      "Enter right child of 7\n",
      "-1\n",
      "1:L:2,R:3\n",
      "2:L:4,R:5\n",
      "3:L:6,R:7\n",
      "4:L:-1,R:-1\n",
      "5:L:-1,R:-1\n",
      "6:L:-1,R:-1\n",
      "7:L:-1,R:-1\n"
     ]
    },
    {
     "data": {
      "text/plain": [
       "5"
      ]
     },
     "execution_count": 12,
     "metadata": {},
     "output_type": "execute_result"
    }
   ],
   "source": [
    "root=takeTreeInputLevelWise()\n",
    "printLevelWise(root)\n",
    "diameterOfBinaryTree(root)"
   ]
  },
  {
   "cell_type": "code",
   "execution_count": null,
   "id": "4abe54d6",
   "metadata": {},
   "outputs": [],
   "source": []
  }
 ],
 "metadata": {
  "kernelspec": {
   "display_name": "Python 3 (ipykernel)",
   "language": "python",
   "name": "python3"
  },
  "language_info": {
   "codemirror_mode": {
    "name": "ipython",
    "version": 3
   },
   "file_extension": ".py",
   "mimetype": "text/x-python",
   "name": "python",
   "nbconvert_exporter": "python",
   "pygments_lexer": "ipython3",
   "version": "3.9.7"
  }
 },
 "nbformat": 4,
 "nbformat_minor": 5
}
