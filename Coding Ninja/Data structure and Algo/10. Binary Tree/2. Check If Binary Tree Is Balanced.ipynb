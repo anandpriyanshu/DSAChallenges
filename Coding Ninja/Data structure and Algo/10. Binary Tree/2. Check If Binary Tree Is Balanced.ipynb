{
 "cells": [
  {
   "cell_type": "code",
   "execution_count": 3,
   "id": "10276c3b",
   "metadata": {},
   "outputs": [],
   "source": [
    "class BinaryTreeNode:\n",
    "    def __init__(self,data):\n",
    "        self.data=data;\n",
    "        self.left=None\n",
    "        self.right=None"
   ]
  },
  {
   "cell_type": "code",
   "execution_count": 4,
   "id": "fc509e06",
   "metadata": {},
   "outputs": [],
   "source": [
    "def printTree(root):\n",
    "    if root==None:\n",
    "        return\n",
    "    printTree(root.left)\n",
    "    print(root.data,end = ' ')\n",
    "    \n",
    "    printTree(root.right)"
   ]
  },
  {
   "cell_type": "code",
   "execution_count": 5,
   "id": "3055fae6",
   "metadata": {},
   "outputs": [],
   "source": [
    "\n",
    "def printTreeDetailed(root):\n",
    "    if root==None:\n",
    "        return\n",
    "    print(root.data,end=\":\")\n",
    "    if root.left!=None:\n",
    "        print(\"L\",root.left.data,end=\",\")\n",
    "    if root.right!=None:\n",
    "        print(\"R\",root.right.data,end=\"\")\n",
    "    print()\n",
    "    printTreeDetailed(root.left)\n",
    "    printTreeDetailed(root.right)"
   ]
  },
  {
   "cell_type": "code",
   "execution_count": 6,
   "id": "4c0f3bf1",
   "metadata": {},
   "outputs": [],
   "source": [
    "def treeInput():\n",
    "    rootData=int(input())\n",
    "    if rootData==-1:\n",
    "        return None\n",
    "    root=BinaryTreeNode(rootData)\n",
    "    leftTree=treeInput()\n",
    "    rightTree=treeInput()\n",
    "    root.left=leftTree\n",
    "    root.right=rightTree\n",
    "    return root"
   ]
  },
  {
   "cell_type": "code",
   "execution_count": 7,
   "id": "14a7c00f",
   "metadata": {},
   "outputs": [],
   "source": [
    "def height(root):\n",
    "    if root==None:\n",
    "        return 0\n",
    "    return 1+max(height(root.left),height(root.right))   #need overall height"
   ]
  },
  {
   "cell_type": "markdown",
   "id": "8f6b82d9",
   "metadata": {},
   "source": [
    "O(nln) solution"
   ]
  },
  {
   "cell_type": "code",
   "execution_count": 8,
   "id": "0b1b2fd9",
   "metadata": {},
   "outputs": [],
   "source": [
    "def isBalanced(root):\n",
    "    if root==None:\n",
    "        return True\n",
    "    lh=height(root.left)\n",
    "    rh=height(root.right)\n",
    "    if lh-rh>1 or rh-lh>1:  # for each node in our tree that node's left and right subtree should not have hight difference of  more than 1.\n",
    "        return False\n",
    "    isLeftBalanced=isBalanced(root.left)\n",
    "    isRightBalanced=isBalanced(root.right)\n",
    "    if isLeftBalanced and isRightBalanced:\n",
    "        return True\n",
    "    else:\n",
    "        return False"
   ]
  },
  {
   "cell_type": "markdown",
   "id": "9b59338c",
   "metadata": {},
   "source": [
    "O(n) solution, more optimized solution because we call  left & right hight simultaneouly and  check left, right  height balnce or not"
   ]
  },
  {
   "cell_type": "code",
   "execution_count": 9,
   "id": "0094d11e",
   "metadata": {},
   "outputs": [],
   "source": [
    "def getHeightAndCheckBalanced(root):\n",
    "    if root==None:\n",
    "        return 0,True\n",
    "    \n",
    "    lh,isLeftBalanced=getHeightAndCheckBalanced(root.left)\n",
    "    rh,isRightBalanced=getHeightAndCheckBalanced(root.right)\n",
    "    h=1+max(lh,rh)\n",
    "    if lh-rh>1 or rh-lh>1:\n",
    "        return h,False\n",
    "    if isLeftBalanced and isRightBalanced:\n",
    "        return h,True\n",
    "    else:\n",
    "        return h,False"
   ]
  },
  {
   "cell_type": "code",
   "execution_count": 11,
   "id": "219da546",
   "metadata": {},
   "outputs": [
    {
     "name": "stdout",
     "output_type": "stream",
     "text": [
      "1\n",
      "2\n",
      "3\n",
      "-1\n",
      "-1\n",
      "4\n",
      "-1\n",
      "-1\n",
      "5\n",
      "-1\n",
      "-1\n",
      "1:L 2,R 5\n",
      "2:L 3,R 4\n",
      "3:\n",
      "4:\n",
      "5:\n",
      "True\n"
     ]
    }
   ],
   "source": [
    "\n",
    "root = treeInput()\n",
    "printTreeDetailed(root)\n",
    "print(isBalanced(root))"
   ]
  },
  {
   "cell_type": "code",
   "execution_count": 19,
   "id": "1b401cbf",
   "metadata": {},
   "outputs": [
    {
     "name": "stdout",
     "output_type": "stream",
     "text": [
      "1\n",
      "2\n",
      "4\n",
      "6\n",
      "-1\n",
      "-1\n",
      "-1\n",
      "-1\n",
      "3\n",
      "-1\n",
      "5\n",
      "-1\n",
      "-1\n",
      "1:L 2,R 3\n",
      "2:L 4,\n",
      "4:L 6,\n",
      "6:\n",
      "3:R 5\n",
      "5:\n",
      "False\n"
     ]
    }
   ],
   "source": [
    "root = treeInput()\n",
    "printTreeDetailed(root)\n",
    "print(isBalanced(root))"
   ]
  },
  {
   "cell_type": "code",
   "execution_count": 26,
   "id": "5df83365",
   "metadata": {},
   "outputs": [
    {
     "name": "stdout",
     "output_type": "stream",
     "text": [
      "1\n",
      "2\n",
      "4\n",
      "5\n",
      "-1\n",
      "-1\n",
      "-1\n",
      "-1\n",
      "3\n",
      "-1\n",
      "6\n",
      "-1\n",
      "-1\n",
      "1:L 2,R 3\n",
      "2:L 4,\n",
      "4:L 5,\n",
      "5:\n",
      "3:R 6\n",
      "6:\n",
      "(4, False)\n"
     ]
    }
   ],
   "source": [
    "root=treeInput()\n",
    "printTreeDetailed(root)\n",
    "print(getHeightAndCheckBalanced(root))"
   ]
  },
  {
   "cell_type": "code",
   "execution_count": null,
   "id": "3e22b836",
   "metadata": {},
   "outputs": [],
   "source": []
  }
 ],
 "metadata": {
  "kernelspec": {
   "display_name": "Python 3 (ipykernel)",
   "language": "python",
   "name": "python3"
  },
  "language_info": {
   "codemirror_mode": {
    "name": "ipython",
    "version": 3
   },
   "file_extension": ".py",
   "mimetype": "text/x-python",
   "name": "python",
   "nbconvert_exporter": "python",
   "pygments_lexer": "ipython3",
   "version": "3.9.7"
  }
 },
 "nbformat": 4,
 "nbformat_minor": 5
}
