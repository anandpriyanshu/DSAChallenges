{
 "cells": [
  {
   "cell_type": "code",
   "execution_count": 19,
   "id": "e3ac25d4",
   "metadata": {},
   "outputs": [],
   "source": [
    "class BinaryTreeNode:\n",
    "    def __init__(self,data):\n",
    "        self.data=data;\n",
    "        self.left=None\n",
    "        self.right=None"
   ]
  },
  {
   "cell_type": "code",
   "execution_count": 20,
   "id": "aa706507",
   "metadata": {},
   "outputs": [],
   "source": [
    "def printTree(root):\n",
    "    if root==None:\n",
    "        return\n",
    "    printTree(root.left)\n",
    "    print(root.data,end = ' ')\n",
    "    \n",
    "    printTree(root.right)"
   ]
  },
  {
   "cell_type": "code",
   "execution_count": 21,
   "id": "e4dfec28",
   "metadata": {},
   "outputs": [],
   "source": [
    "def printTreeDetailed(root):\n",
    "    if root==None:\n",
    "        return\n",
    "    print(root.data,end=\":\")\n",
    "    if root.left!=None:\n",
    "        print(\"L\",root.left.data,end=\",\")\n",
    "    if root.right!=None:\n",
    "        print(\"R\",root.right.data,end=\"\")\n",
    "    print()\n",
    "    printTreeDetailed(root.left)\n",
    "    printTreeDetailed(root.right)"
   ]
  },
  {
   "cell_type": "code",
   "execution_count": 22,
   "id": "33c33572",
   "metadata": {},
   "outputs": [],
   "source": [
    "def PrintNodesAtdepthKV2(root,k,d=0):   # d = depth, by default d ==0\n",
    "    if root == None:\n",
    "        return\n",
    "    if k == d:\n",
    "        print(root)\n",
    "        return\n",
    "    PrintNodesAtdepthKV2(root.left,k,d+1)\n",
    "    PrintNodesAtdepthKV2(root.right,k,d+1)"
   ]
  },
  {
   "cell_type": "code",
   "execution_count": 23,
   "id": "959a7ef6",
   "metadata": {},
   "outputs": [],
   "source": [
    "def mirrorBinaryTree(root):\n",
    "    if root == None:\n",
    "        return None\n",
    "    temp = root.left\n",
    "    root.left = root.right\n",
    "    root.right = temp\n",
    "    mirrorBinaryTree(root.left)\n",
    "    mirrorBinaryTree(root.right)"
   ]
  },
  {
   "cell_type": "code",
   "execution_count": 24,
   "id": "9b0e5647",
   "metadata": {},
   "outputs": [],
   "source": [
    "def treeInput():\n",
    "    rootData=int(input())\n",
    "    if rootData==-1:\n",
    "        return None\n",
    "    root=BinaryTreeNode(rootData)\n",
    "    leftTree=treeInput()\n",
    "    rightTree=treeInput()\n",
    "    root.left=leftTree\n",
    "    root.right=rightTree\n",
    "    return root\n"
   ]
  },
  {
   "cell_type": "code",
   "execution_count": 25,
   "id": "4cdb8b43",
   "metadata": {},
   "outputs": [],
   "source": [
    "def RemoveLeaves(root):\n",
    "    if root == None:\n",
    "        return None\n",
    "    if root.left == None and root.right == None:  # means root is leaf. In this case where root is changed. return empty tree\n",
    "        return None\n",
    "    RemoveLeaves(root.left)\n",
    "    RemoveLeaves(root.right)"
   ]
  },
  {
   "cell_type": "code",
   "execution_count": 10,
   "id": "2b829cde",
   "metadata": {},
   "outputs": [
    {
     "name": "stdout",
     "output_type": "stream",
     "text": [
      "1\n",
      "2\n",
      "-1\n",
      "-1\n",
      "23\n",
      "-1\n",
      "-1\n",
      "1:L 2,R 23\n",
      "2:\n",
      "23:\n",
      "1:L 2,R 23\n",
      "2:\n",
      "23:\n"
     ]
    }
   ],
   "source": [
    "root=treeInput()\n",
    "printTreeDetailed(root)\n",
    "RemoveLeaves(root)\n",
    "printTreeDetailed(root)   #here is not change it stays same 2,3. We need to change"
   ]
  },
  {
   "cell_type": "code",
   "execution_count": 26,
   "id": "060df6a0",
   "metadata": {},
   "outputs": [],
   "source": [
    "def RemoveLeavesCorrect(root):\n",
    "    if root == None:\n",
    "        return None\n",
    "    if root.left == None and root.right == None:  \n",
    "        return None\n",
    "    root.left =  RemoveLeavesCorrect(root.left)   # need to change the left and right from root\n",
    "    root.right = RemoveLeavesCorrect(root.right)\n",
    "    return root\n",
    "    "
   ]
  },
  {
   "cell_type": "code",
   "execution_count": 31,
   "id": "cd0a7680",
   "metadata": {},
   "outputs": [],
   "source": [
    "def RemoveLeavesAtX(root,x):\n",
    "    if root == None:\n",
    "        return None\n",
    "   \n",
    "    root.left =  RemoveLeavesAtX(root.left,x)   # need to change the left and right from root\n",
    "    root.right = RemoveLeavesAtX(root.right,x)\n",
    "    \n",
    "    if root.data == x and root.left  == None and root.right == None:\n",
    "        return None\n",
    "    return root"
   ]
  },
  {
   "cell_type": "code",
   "execution_count": 13,
   "id": "ad82aa75",
   "metadata": {},
   "outputs": [
    {
     "name": "stdout",
     "output_type": "stream",
     "text": [
      "1\n",
      "2\n",
      "4\n",
      "-1\n",
      "-1\n",
      "5\n",
      "-1\n",
      "-1\n",
      "3\n",
      "6\n",
      "-1\n",
      "-1\n",
      "7\n",
      "-1\n",
      "-1\n",
      "1:L 2,R 3\n",
      "2:L 4,R 5\n",
      "4:\n",
      "5:\n",
      "3:L 6,R 7\n",
      "6:\n",
      "7:\n",
      "1:L 2,R 3\n",
      "2:\n",
      "3:\n"
     ]
    }
   ],
   "source": [
    "root=treeInput()\n",
    "printTreeDetailed(root)       # before removing leaf node\n",
    "root = RemoveLeavesCorrect(root)   #in case of only on node, root gets changed.\n",
    "printTreeDetailed(root)          # after removing leaf node"
   ]
  },
  {
   "cell_type": "code",
   "execution_count": 32,
   "id": "b25cc30a",
   "metadata": {},
   "outputs": [
    {
     "name": "stdout",
     "output_type": "stream",
     "text": [
      "1\n",
      "2\n",
      "-1\n",
      "-1\n",
      "3\n",
      "-1\n",
      "-1\n",
      "1:L 2,R 3\n",
      "2:\n",
      "3:\n",
      "1:R 3\n",
      "3:\n"
     ]
    }
   ],
   "source": [
    "root=treeInput()\n",
    "printTreeDetailed(root)\n",
    "# mirrorBinaryTree(root)\n",
    "root = RemoveLeavesAtX(root,2)\n",
    "printTreeDetailed(root)   "
   ]
  },
  {
   "cell_type": "code",
   "execution_count": null,
   "id": "a92b21d0",
   "metadata": {},
   "outputs": [],
   "source": []
  }
 ],
 "metadata": {
  "kernelspec": {
   "display_name": "Python 3 (ipykernel)",
   "language": "python",
   "name": "python3"
  },
  "language_info": {
   "codemirror_mode": {
    "name": "ipython",
    "version": 3
   },
   "file_extension": ".py",
   "mimetype": "text/x-python",
   "name": "python",
   "nbconvert_exporter": "python",
   "pygments_lexer": "ipython3",
   "version": "3.9.7"
  }
 },
 "nbformat": 4,
 "nbformat_minor": 5
}
