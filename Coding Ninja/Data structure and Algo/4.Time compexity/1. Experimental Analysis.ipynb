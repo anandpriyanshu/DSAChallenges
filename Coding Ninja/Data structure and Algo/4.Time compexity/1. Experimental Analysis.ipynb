{
 "cells": [
  {
   "cell_type": "code",
   "execution_count": 1,
   "id": "1f371862",
   "metadata": {},
   "outputs": [],
   "source": [
    "def merge(a1,a2,a):        # not using appned   bcz list have enough space\n",
    "    i = 0 \n",
    "    j = 0\n",
    "    k = 0\n",
    "    while i < len(a1) and j < len(a2):\n",
    "        if (a1[i] < a2[j]):\n",
    "            a[k] = a1[i]\n",
    "            k = k+1\n",
    "            i = i+1\n",
    "        else:\n",
    "            a[k] = a2[j]\n",
    "            k = k+1\n",
    "            j = j+1\n",
    "    while i < len(a1):\n",
    "        a[k] = a1[i]\n",
    "        k = k+1\n",
    "        i = i+1\n",
    "    while j < len(a2):\n",
    "        a[k] = a2[j]\n",
    "        k = k+1\n",
    "        j = j+1"
   ]
  },
  {
   "cell_type": "code",
   "execution_count": 2,
   "id": "b45aeea9",
   "metadata": {},
   "outputs": [],
   "source": [
    "def mergeSort(a):\n",
    "    if len(a) == 0 or len(a) == 1:\n",
    "        return \n",
    "    mid = len(a)//2\n",
    "    a1 = a[0:mid]\n",
    "    a2 = a[mid:]\n",
    "    mergeSort(a1)    #induction hypothesis\n",
    "    mergeSort(a2)     #induction hypothesis\n",
    "    merge(a1,a2,a)"
   ]
  },
  {
   "cell_type": "code",
   "execution_count": 3,
   "id": "20f6f5a9",
   "metadata": {},
   "outputs": [],
   "source": [
    "def selcectionsort(a):\n",
    "    for i in range(len(a)):\n",
    "        min_index = i\n",
    "        for j in range(i+1,len(a)):\n",
    "            if a[min_index]>a[j]:\n",
    "                min_index = j\n",
    "        a[i],a[min_index] = a[min_index],a[i]               \n",
    "    return a"
   ]
  },
  {
   "cell_type": "code",
   "execution_count": 4,
   "id": "cec54f45",
   "metadata": {},
   "outputs": [],
   "source": [
    "def create_rev_array(n):\n",
    "    a= []\n",
    "    for i in range(n,0,-1):\n",
    "        a.append(i)\n",
    "    return a    "
   ]
  },
  {
   "cell_type": "code",
   "execution_count": 5,
   "id": "c35fc8ae",
   "metadata": {},
   "outputs": [
    {
     "data": {
      "text/plain": [
       "1651029460.6908908"
      ]
     },
     "execution_count": 5,
     "metadata": {},
     "output_type": "execute_result"
    }
   ],
   "source": [
    "import time\n",
    "time.time()"
   ]
  },
  {
   "cell_type": "code",
   "execution_count": 6,
   "id": "010655ee",
   "metadata": {},
   "outputs": [],
   "source": [
    "n = 10"
   ]
  },
  {
   "cell_type": "code",
   "execution_count": 7,
   "id": "7943a390",
   "metadata": {},
   "outputs": [
    {
     "name": "stdout",
     "output_type": "stream",
     "text": [
      "10 0.0010616779327392578\n"
     ]
    }
   ],
   "source": [
    "a=create_rev_array(n)\n",
    "start=time.time()\n",
    "mergeSort(a)\n",
    "end=time.time()\n",
    "print(n,end-start)"
   ]
  },
  {
   "cell_type": "code",
   "execution_count": 8,
   "id": "ddb3cee1",
   "metadata": {},
   "outputs": [
    {
     "name": "stdout",
     "output_type": "stream",
     "text": [
      "10 -0.0010616779327392578\n"
     ]
    }
   ],
   "source": [
    "print(n,start - end)  #again run on same algorithm it takes lesser time than previous time bcz this is the not only running pgming in the computer bunch of the other thing taht is happening in the computer"
   ]
  },
  {
   "cell_type": "code",
   "execution_count": 9,
   "id": "6798d6f1",
   "metadata": {},
   "outputs": [
    {
     "name": "stdout",
     "output_type": "stream",
     "text": [
      "10 0.0\n"
     ]
    }
   ],
   "source": [
    "a=create_rev_array(n)\n",
    "start = time.time()\n",
    "selcectionsort(a)\n",
    "end = time.time()\n",
    "print(n,start - end)\n"
   ]
  },
  {
   "cell_type": "code",
   "execution_count": 10,
   "id": "7eed6fb7",
   "metadata": {},
   "outputs": [],
   "source": [
    "n = 100"
   ]
  },
  {
   "cell_type": "code",
   "execution_count": 11,
   "id": "369d728b",
   "metadata": {},
   "outputs": [
    {
     "name": "stdout",
     "output_type": "stream",
     "text": [
      "100 0.002002716064453125\n"
     ]
    }
   ],
   "source": [
    "a=create_rev_array(n)\n",
    "start=time.time()\n",
    "mergeSort(a)\n",
    "end=time.time()\n",
    "print(n,end-start)"
   ]
  },
  {
   "cell_type": "code",
   "execution_count": 12,
   "id": "ea7b06ba",
   "metadata": {},
   "outputs": [
    {
     "name": "stdout",
     "output_type": "stream",
     "text": [
      "100 -0.002002239227294922\n"
     ]
    }
   ],
   "source": [
    "a=create_rev_array(n)\n",
    "start = time.time()\n",
    "selcectionsort(a)\n",
    "end = time.time()\n",
    "print(n,start - end)"
   ]
  },
  {
   "cell_type": "code",
   "execution_count": 13,
   "id": "17c7653f",
   "metadata": {},
   "outputs": [],
   "source": [
    "n = 1000"
   ]
  },
  {
   "cell_type": "code",
   "execution_count": 14,
   "id": "a4279a71",
   "metadata": {},
   "outputs": [
    {
     "name": "stdout",
     "output_type": "stream",
     "text": [
      "1000 0.009003400802612305\n"
     ]
    }
   ],
   "source": [
    "a=create_rev_array(n)\n",
    "start=time.time()\n",
    "mergeSort(a)\n",
    "end=time.time()\n",
    "print(n,end-start)"
   ]
  },
  {
   "cell_type": "code",
   "execution_count": 15,
   "id": "82a96c00",
   "metadata": {},
   "outputs": [
    {
     "name": "stdout",
     "output_type": "stream",
     "text": [
      "1000 -0.09801816940307617\n"
     ]
    }
   ],
   "source": [
    "a=create_rev_array(n)\n",
    "start = time.time()\n",
    "selcectionsort(a)\n",
    "end = time.time()\n",
    "print(n,start - end)"
   ]
  },
  {
   "cell_type": "code",
   "execution_count": 17,
   "id": "0f306569",
   "metadata": {},
   "outputs": [],
   "source": [
    "n = 10000"
   ]
  },
  {
   "cell_type": "code",
   "execution_count": 18,
   "id": "92b89d08",
   "metadata": {},
   "outputs": [
    {
     "name": "stdout",
     "output_type": "stream",
     "text": [
      "10000 0.10201907157897949\n"
     ]
    }
   ],
   "source": [
    "a=create_rev_array(n)\n",
    "start=time.time()\n",
    "mergeSort(a)\n",
    "end=time.time()\n",
    "print(n,end-start)"
   ]
  },
  {
   "cell_type": "code",
   "execution_count": 19,
   "id": "97a27591",
   "metadata": {},
   "outputs": [
    {
     "name": "stdout",
     "output_type": "stream",
     "text": [
      "10000 -11.235711097717285\n"
     ]
    }
   ],
   "source": [
    "a=create_rev_array(n)\n",
    "start = time.time()\n",
    "selcectionsort(a)\n",
    "end = time.time()\n",
    "print(n,start - end)"
   ]
  },
  {
   "cell_type": "code",
   "execution_count": 20,
   "id": "1b618ac3",
   "metadata": {},
   "outputs": [],
   "source": [
    "n = 100000"
   ]
  },
  {
   "cell_type": "code",
   "execution_count": 21,
   "id": "d07f973f",
   "metadata": {},
   "outputs": [
    {
     "name": "stdout",
     "output_type": "stream",
     "text": [
      "100000 1.1172895431518555\n"
     ]
    }
   ],
   "source": [
    "a=create_rev_array(n)\n",
    "start=time.time()\n",
    "mergeSort(a)\n",
    "end=time.time()\n",
    "print(n,end-start)"
   ]
  },
  {
   "cell_type": "code",
   "execution_count": 22,
   "id": "f94fd38b",
   "metadata": {},
   "outputs": [
    {
     "ename": "KeyboardInterrupt",
     "evalue": "",
     "output_type": "error",
     "traceback": [
      "\u001b[1;31m---------------------------------------------------------------------------\u001b[0m",
      "\u001b[1;31mKeyboardInterrupt\u001b[0m                         Traceback (most recent call last)",
      "\u001b[1;32mC:\\Users\\PRIYAN~1\\AppData\\Local\\Temp/ipykernel_12548/1486952087.py\u001b[0m in \u001b[0;36m<module>\u001b[1;34m\u001b[0m\n\u001b[0;32m      1\u001b[0m \u001b[0ma\u001b[0m\u001b[1;33m=\u001b[0m\u001b[0mcreate_rev_array\u001b[0m\u001b[1;33m(\u001b[0m\u001b[0mn\u001b[0m\u001b[1;33m)\u001b[0m\u001b[1;33m\u001b[0m\u001b[1;33m\u001b[0m\u001b[0m\n\u001b[0;32m      2\u001b[0m \u001b[0mstart\u001b[0m \u001b[1;33m=\u001b[0m \u001b[0mtime\u001b[0m\u001b[1;33m.\u001b[0m\u001b[0mtime\u001b[0m\u001b[1;33m(\u001b[0m\u001b[1;33m)\u001b[0m\u001b[1;33m\u001b[0m\u001b[1;33m\u001b[0m\u001b[0m\n\u001b[1;32m----> 3\u001b[1;33m \u001b[0mselcectionsort\u001b[0m\u001b[1;33m(\u001b[0m\u001b[0ma\u001b[0m\u001b[1;33m)\u001b[0m\u001b[1;33m\u001b[0m\u001b[1;33m\u001b[0m\u001b[0m\n\u001b[0m\u001b[0;32m      4\u001b[0m \u001b[0mend\u001b[0m \u001b[1;33m=\u001b[0m \u001b[0mtime\u001b[0m\u001b[1;33m.\u001b[0m\u001b[0mtime\u001b[0m\u001b[1;33m(\u001b[0m\u001b[1;33m)\u001b[0m\u001b[1;33m\u001b[0m\u001b[1;33m\u001b[0m\u001b[0m\n\u001b[0;32m      5\u001b[0m \u001b[0mprint\u001b[0m\u001b[1;33m(\u001b[0m\u001b[0mn\u001b[0m\u001b[1;33m,\u001b[0m\u001b[0mstart\u001b[0m \u001b[1;33m-\u001b[0m \u001b[0mend\u001b[0m\u001b[1;33m)\u001b[0m\u001b[1;33m\u001b[0m\u001b[1;33m\u001b[0m\u001b[0m\n",
      "\u001b[1;32mC:\\Users\\PRIYAN~1\\AppData\\Local\\Temp/ipykernel_12548/3260913727.py\u001b[0m in \u001b[0;36mselcectionsort\u001b[1;34m(a)\u001b[0m\n\u001b[0;32m      4\u001b[0m         \u001b[1;32mfor\u001b[0m \u001b[0mj\u001b[0m \u001b[1;32min\u001b[0m \u001b[0mrange\u001b[0m\u001b[1;33m(\u001b[0m\u001b[0mi\u001b[0m\u001b[1;33m+\u001b[0m\u001b[1;36m1\u001b[0m\u001b[1;33m,\u001b[0m\u001b[0mlen\u001b[0m\u001b[1;33m(\u001b[0m\u001b[0ma\u001b[0m\u001b[1;33m)\u001b[0m\u001b[1;33m)\u001b[0m\u001b[1;33m:\u001b[0m\u001b[1;33m\u001b[0m\u001b[1;33m\u001b[0m\u001b[0m\n\u001b[0;32m      5\u001b[0m             \u001b[1;32mif\u001b[0m \u001b[0ma\u001b[0m\u001b[1;33m[\u001b[0m\u001b[0mmin_index\u001b[0m\u001b[1;33m]\u001b[0m\u001b[1;33m>\u001b[0m\u001b[0ma\u001b[0m\u001b[1;33m[\u001b[0m\u001b[0mj\u001b[0m\u001b[1;33m]\u001b[0m\u001b[1;33m:\u001b[0m\u001b[1;33m\u001b[0m\u001b[1;33m\u001b[0m\u001b[0m\n\u001b[1;32m----> 6\u001b[1;33m                 \u001b[0mmin_index\u001b[0m \u001b[1;33m=\u001b[0m \u001b[0mj\u001b[0m\u001b[1;33m\u001b[0m\u001b[1;33m\u001b[0m\u001b[0m\n\u001b[0m\u001b[0;32m      7\u001b[0m         \u001b[0ma\u001b[0m\u001b[1;33m[\u001b[0m\u001b[0mi\u001b[0m\u001b[1;33m]\u001b[0m\u001b[1;33m,\u001b[0m\u001b[0ma\u001b[0m\u001b[1;33m[\u001b[0m\u001b[0mmin_index\u001b[0m\u001b[1;33m]\u001b[0m \u001b[1;33m=\u001b[0m \u001b[0ma\u001b[0m\u001b[1;33m[\u001b[0m\u001b[0mmin_index\u001b[0m\u001b[1;33m]\u001b[0m\u001b[1;33m,\u001b[0m\u001b[0ma\u001b[0m\u001b[1;33m[\u001b[0m\u001b[0mi\u001b[0m\u001b[1;33m]\u001b[0m\u001b[1;33m\u001b[0m\u001b[1;33m\u001b[0m\u001b[0m\n\u001b[0;32m      8\u001b[0m     \u001b[1;32mreturn\u001b[0m \u001b[0ma\u001b[0m\u001b[1;33m\u001b[0m\u001b[1;33m\u001b[0m\u001b[0m\n",
      "\u001b[1;31mKeyboardInterrupt\u001b[0m: "
     ]
    }
   ],
   "source": [
    "a=create_rev_array(n)     # selection sort takes approximate 10 min to run this\n",
    "start = time.time()\n",
    "selcectionsort(a)\n",
    "end = time.time()\n",
    "print(n,start - end)"
   ]
  },
  {
   "cell_type": "code",
   "execution_count": null,
   "id": "9bb27159",
   "metadata": {},
   "outputs": [],
   "source": [
    "# Till 1000 we can't say which one is fast but after 1000 we can say merge_sort is absolutely  fast"
   ]
  }
 ],
 "metadata": {
  "kernelspec": {
   "display_name": "Python 3 (ipykernel)",
   "language": "python",
   "name": "python3"
  },
  "language_info": {
   "codemirror_mode": {
    "name": "ipython",
    "version": 3
   },
   "file_extension": ".py",
   "mimetype": "text/x-python",
   "name": "python",
   "nbconvert_exporter": "python",
   "pygments_lexer": "ipython3",
   "version": "3.9.7"
  }
 },
 "nbformat": 4,
 "nbformat_minor": 5
}
