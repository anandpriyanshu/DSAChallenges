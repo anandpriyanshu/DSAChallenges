{
 "cells": [
  {
   "cell_type": "markdown",
   "id": "46a32e53",
   "metadata": {},
   "source": [
    "### Find the Unique Element"
   ]
  },
  {
   "cell_type": "code",
   "execution_count": 1,
   "id": "6326fe85",
   "metadata": {},
   "outputs": [],
   "source": [
    "def findUnique(a) :\n",
    "    s=0\n",
    "    for i in len(a):\n",
    "        s=s^i\n",
    "    return s"
   ]
  },
  {
   "cell_type": "code",
   "execution_count": 2,
   "id": "d64a4abc",
   "metadata": {},
   "outputs": [
    {
     "ename": "TypeError",
     "evalue": "'int' object is not iterable",
     "output_type": "error",
     "traceback": [
      "\u001b[1;31m---------------------------------------------------------------------------\u001b[0m",
      "\u001b[1;31mTypeError\u001b[0m                                 Traceback (most recent call last)",
      "\u001b[1;32mC:\\Users\\PRIYAN~1\\AppData\\Local\\Temp/ipykernel_9812/1239667276.py\u001b[0m in \u001b[0;36m<module>\u001b[1;34m\u001b[0m\n\u001b[1;32m----> 1\u001b[1;33m \u001b[0mfindUnique\u001b[0m\u001b[1;33m(\u001b[0m\u001b[1;33m[\u001b[0m\u001b[1;36m2\u001b[0m\u001b[1;33m,\u001b[0m\u001b[1;36m3\u001b[0m\u001b[1;33m,\u001b[0m\u001b[1;36m1\u001b[0m\u001b[1;33m,\u001b[0m\u001b[1;36m6\u001b[0m\u001b[1;33m,\u001b[0m\u001b[1;36m3\u001b[0m\u001b[1;33m,\u001b[0m\u001b[1;36m6\u001b[0m\u001b[1;33m,\u001b[0m\u001b[1;36m2\u001b[0m\u001b[1;33m]\u001b[0m\u001b[1;33m)\u001b[0m\u001b[1;33m\u001b[0m\u001b[1;33m\u001b[0m\u001b[0m\n\u001b[0m",
      "\u001b[1;32mC:\\Users\\PRIYAN~1\\AppData\\Local\\Temp/ipykernel_9812/4047600816.py\u001b[0m in \u001b[0;36mfindUnique\u001b[1;34m(a)\u001b[0m\n\u001b[0;32m      1\u001b[0m \u001b[1;32mdef\u001b[0m \u001b[0mfindUnique\u001b[0m\u001b[1;33m(\u001b[0m\u001b[0ma\u001b[0m\u001b[1;33m)\u001b[0m \u001b[1;33m:\u001b[0m\u001b[1;33m\u001b[0m\u001b[1;33m\u001b[0m\u001b[0m\n\u001b[0;32m      2\u001b[0m     \u001b[0ms\u001b[0m\u001b[1;33m=\u001b[0m\u001b[1;36m0\u001b[0m\u001b[1;33m\u001b[0m\u001b[1;33m\u001b[0m\u001b[0m\n\u001b[1;32m----> 3\u001b[1;33m     \u001b[1;32mfor\u001b[0m \u001b[0mi\u001b[0m \u001b[1;32min\u001b[0m \u001b[0mlen\u001b[0m\u001b[1;33m(\u001b[0m\u001b[0ma\u001b[0m\u001b[1;33m)\u001b[0m\u001b[1;33m:\u001b[0m\u001b[1;33m\u001b[0m\u001b[1;33m\u001b[0m\u001b[0m\n\u001b[0m\u001b[0;32m      4\u001b[0m         \u001b[0ms\u001b[0m\u001b[1;33m=\u001b[0m\u001b[0ms\u001b[0m\u001b[1;33m^\u001b[0m\u001b[0mi\u001b[0m\u001b[1;33m\u001b[0m\u001b[1;33m\u001b[0m\u001b[0m\n\u001b[0;32m      5\u001b[0m     \u001b[1;32mreturn\u001b[0m \u001b[0ms\u001b[0m\u001b[1;33m\u001b[0m\u001b[1;33m\u001b[0m\u001b[0m\n",
      "\u001b[1;31mTypeError\u001b[0m: 'int' object is not iterable"
     ]
    }
   ],
   "source": [
    "findUnique([2,3,1,6,3,6,2])"
   ]
  },
  {
   "cell_type": "code",
   "execution_count": 8,
   "id": "6515fbe9",
   "metadata": {},
   "outputs": [],
   "source": [
    "def findUnique(arr) :\n",
    "    arr.sort()\n",
    "    i = 0\n",
    "    while i<len(arr):\n",
    "        if arr[i] != arr[i+1]:\n",
    "            return i\n",
    "        else:\n",
    "            i+=1"
   ]
  },
  {
   "cell_type": "code",
   "execution_count": 13,
   "id": "99459167",
   "metadata": {},
   "outputs": [
    {
     "data": {
      "text/plain": [
       "0"
      ]
     },
     "execution_count": 13,
     "metadata": {},
     "output_type": "execute_result"
    }
   ],
   "source": [
    "findUnique([2,3,1,6,3,6,2,6])"
   ]
  },
  {
   "cell_type": "markdown",
   "id": "06b6d6f6",
   "metadata": {},
   "source": [
    "### Dublicate in array"
   ]
  },
  {
   "cell_type": "code",
   "execution_count": 14,
   "id": "4ad3fd04",
   "metadata": {},
   "outputs": [],
   "source": [
    "def findDuplicate(a):\n",
    "    a.sort()\n",
    "    i = 0 \n",
    "    while i < (len(a)-1):\n",
    "        if a[i] == a[i+1]:\n",
    "            return a[i]\n",
    "        i+=1\n",
    "    return -1"
   ]
  },
  {
   "cell_type": "code",
   "execution_count": 16,
   "id": "56667acb",
   "metadata": {},
   "outputs": [
    {
     "data": {
      "text/plain": [
       "6"
      ]
     },
     "execution_count": 16,
     "metadata": {},
     "output_type": "execute_result"
    }
   ],
   "source": [
    "findDuplicate([0,7,2,5,4,1,3,6,6])"
   ]
  },
  {
   "cell_type": "markdown",
   "id": "114b41a0",
   "metadata": {},
   "source": [
    "### Pair Sum"
   ]
  },
  {
   "cell_type": "code",
   "execution_count": 5,
   "id": "76632f0a",
   "metadata": {},
   "outputs": [],
   "source": [
    "def pairsum(arr,K):\n",
    "    # Set to keep the track of visited triplets.\n",
    "    pairsumcount=0\n",
    "    for i in range(len(arr)):\n",
    "        for j in range(i + 1, len(arr) ):\n",
    "                if arr[i] + arr[j] == K:\n",
    "                    pairsumcount+=1  \n",
    "    return   pairsumcount   "
   ]
  },
  {
   "cell_type": "code",
   "execution_count": 6,
   "id": "3ad0509b",
   "metadata": {},
   "outputs": [
    {
     "data": {
      "text/plain": [
       "4"
      ]
     },
     "execution_count": 6,
     "metadata": {},
     "output_type": "execute_result"
    }
   ],
   "source": [
    "pairsum([1,3,6,2,5,4,3,2,4],9)"
   ]
  },
  {
   "cell_type": "markdown",
   "id": "7bddffbb",
   "metadata": {},
   "source": [
    "### Rotate array"
   ]
  },
  {
   "cell_type": "code",
   "execution_count": 3,
   "id": "acfecb17",
   "metadata": {},
   "outputs": [],
   "source": [
    "def rotate(a,d):\n",
    "    temp = []\n",
    "    i = 0\n",
    "    while i<d:\n",
    "        temp.append(a[i])\n",
    "        i+=1\n",
    "    i = 0\n",
    "    while d<len(a):\n",
    "        a[i] = a[d]\n",
    "        i+=1\n",
    "        d+=1\n",
    "    a[:] = a[:i] + temp\n",
    "    return a"
   ]
  },
  {
   "cell_type": "code",
   "execution_count": 4,
   "id": "b017d236",
   "metadata": {},
   "outputs": [
    {
     "data": {
      "text/plain": [
       "[3, 4, 5, 6, 7, 1, 2]"
      ]
     },
     "execution_count": 4,
     "metadata": {},
     "output_type": "execute_result"
    }
   ],
   "source": [
    "rotate([1,2,3,4,5,6,7],2)"
   ]
  },
  {
   "cell_type": "code",
   "execution_count": null,
   "id": "9e50ece0",
   "metadata": {},
   "outputs": [],
   "source": []
  }
 ],
 "metadata": {
  "kernelspec": {
   "display_name": "Python 3 (ipykernel)",
   "language": "python",
   "name": "python3"
  },
  "language_info": {
   "codemirror_mode": {
    "name": "ipython",
    "version": 3
   },
   "file_extension": ".py",
   "mimetype": "text/x-python",
   "name": "python",
   "nbconvert_exporter": "python",
   "pygments_lexer": "ipython3",
   "version": "3.9.7"
  }
 },
 "nbformat": 4,
 "nbformat_minor": 5
}
