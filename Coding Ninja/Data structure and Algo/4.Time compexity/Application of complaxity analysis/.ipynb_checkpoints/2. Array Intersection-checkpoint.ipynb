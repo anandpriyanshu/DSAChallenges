{
 "cells": [
  {
   "cell_type": "code",
   "execution_count": 2,
   "id": "980f5aea",
   "metadata": {},
   "outputs": [],
   "source": [
    "def intersection(arr1, arr2) :\n",
    "    arr1.sort()      #sort arr1\n",
    "    arr2.sort()      #sort arr2\n",
    "    j=0\n",
    "    i=0\n",
    "    while i<len(arr1) and j<len(arr2):    # we use only one for less time complixity\n",
    "        if arr1[i]==arr2[j]:\n",
    "            print(arr1[i],end=\" \")\n",
    "            i+=1\n",
    "            j+=1\n",
    "        elif arr1[i]<arr2[j]:\n",
    "            i+=1\n",
    "        else:\n",
    "            j+=1"
   ]
  },
  {
   "cell_type": "code",
   "execution_count": 3,
   "id": "03653788",
   "metadata": {},
   "outputs": [
    {
     "name": "stdout",
     "output_type": "stream",
     "text": [
      "2 3 4 "
     ]
    }
   ],
   "source": [
    "intersection([2,6,8,5,4,3],[2,3,4,7])"
   ]
  },
  {
   "cell_type": "code",
   "execution_count": null,
   "id": "095f2ead",
   "metadata": {},
   "outputs": [],
   "source": []
  }
 ],
 "metadata": {
  "kernelspec": {
   "display_name": "Python 3 (ipykernel)",
   "language": "python",
   "name": "python3"
  },
  "language_info": {
   "codemirror_mode": {
    "name": "ipython",
    "version": 3
   },
   "file_extension": ".py",
   "mimetype": "text/x-python",
   "name": "python",
   "nbconvert_exporter": "python",
   "pygments_lexer": "ipython3",
   "version": "3.9.7"
  }
 },
 "nbformat": 4,
 "nbformat_minor": 5
}
