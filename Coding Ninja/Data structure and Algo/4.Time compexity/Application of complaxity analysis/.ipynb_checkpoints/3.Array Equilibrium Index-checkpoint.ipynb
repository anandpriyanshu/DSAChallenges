{
 "cells": [
  {
   "cell_type": "code",
   "execution_count": 1,
   "id": "ab0e33ae",
   "metadata": {},
   "outputs": [],
   "source": [
    "def arrayEquilibriumIndex(arr) :\n",
    "    total_sum = 0\n",
    "    i = 0\n",
    "    while i<len(arr):\n",
    "        total_sum += arr[i]\n",
    "        i+=1\n",
    "    left_sum = 0\n",
    "    index = 0\n",
    "    while index<len(arr):\n",
    "        right_sum = total_sum - left_sum - arr[index]   #bascilly we are maintaning the left sum\n",
    "        if left_sum == right_sum:\n",
    "            return index\n",
    "        else:\n",
    "            left_sum += arr[index]\n",
    "            index+=1\n",
    "    return -1  "
   ]
  },
  {
   "cell_type": "code",
   "execution_count": 4,
   "id": "8c9eb284",
   "metadata": {},
   "outputs": [
    {
     "data": {
      "text/plain": [
       "-1"
      ]
     },
     "execution_count": 4,
     "metadata": {},
     "output_type": "execute_result"
    }
   ],
   "source": [
    "arrayEquilibriumIndex([1,4,6])"
   ]
  },
  {
   "cell_type": "code",
   "execution_count": 3,
   "id": "82fa9ea5",
   "metadata": {},
   "outputs": [
    {
     "data": {
      "text/plain": [
       "4"
      ]
     },
     "execution_count": 3,
     "metadata": {},
     "output_type": "execute_result"
    }
   ],
   "source": [
    "arrayEquilibriumIndex([1,3,4,2,2,5,4,1])"
   ]
  },
  {
   "cell_type": "code",
   "execution_count": null,
   "id": "57018118",
   "metadata": {},
   "outputs": [],
   "source": []
  }
 ],
 "metadata": {
  "kernelspec": {
   "display_name": "Python 3 (ipykernel)",
   "language": "python",
   "name": "python3"
  },
  "language_info": {
   "codemirror_mode": {
    "name": "ipython",
    "version": 3
   },
   "file_extension": ".py",
   "mimetype": "text/x-python",
   "name": "python",
   "nbconvert_exporter": "python",
   "pygments_lexer": "ipython3",
   "version": "3.9.7"
  }
 },
 "nbformat": 4,
 "nbformat_minor": 5
}
