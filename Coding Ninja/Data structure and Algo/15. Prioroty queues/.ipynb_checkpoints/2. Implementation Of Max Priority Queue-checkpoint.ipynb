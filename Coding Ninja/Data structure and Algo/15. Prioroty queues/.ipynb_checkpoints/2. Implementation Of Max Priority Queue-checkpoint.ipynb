{
 "cells": [
  {
   "cell_type": "markdown",
   "id": "ada9996a",
   "metadata": {},
   "source": [
    "In max, childIndex , leftchidIndex, rightchildindex greater than parentIndex "
   ]
  },
  {
   "cell_type": "code",
   "execution_count": 3,
   "id": "d047fb72",
   "metadata": {},
   "outputs": [],
   "source": [
    "class PriorityQueueNode:\n",
    "    def __init__(self,value,priority):\n",
    "        self.value=value\n",
    "        self.priority=priority\n",
    "        \n",
    "class PriorityQueue:\n",
    "    def __init__(self):\n",
    "        self.pq=[]\n",
    "        \n",
    "    def getSize(self):\n",
    "        return len(self.pq)\n",
    "    \n",
    "    def isEmpty(self):\n",
    "        return self.getSize()==0\n",
    "        \n",
    "    def getMin():\n",
    "        if self.isEmpty() is True:\n",
    "            return None\n",
    "        return self.pq[0].value   #return the value but on the basis of priority\n",
    "    \n",
    "    def __percolateUp(self):\n",
    "        childIndex = self.getSize() - 1\n",
    "        while childIndex > 0:\n",
    "            parentIndex = (childIndex-1)//2\n",
    "            \n",
    "            if self.pq[parentIndex].priority < self.pq[childIndex].priority:\n",
    "                self.pq[parentIndex],self.pq[childIndex] = self.pq[childIndex],self.pq[parentIndex]\n",
    "                childIndex = parentIndex\n",
    "            else:\n",
    "                break\n",
    "     #O(nlogn)  time complexity   \n",
    "    def insert(self,ele,priority):\n",
    "        pqNode = PriorityQueueNode(ele,priority)\n",
    "        self.pq.append(pqNode)\n",
    "        self.__percolateUp()\n",
    "        \n",
    "    \n",
    "    #important\n",
    "    def __percolateDown(self):\n",
    "        parentIndex = 0\n",
    "        leftIndex = 2*parentIndex + 1\n",
    "        rightIndex = 2*parentIndex + 2\n",
    "        while leftIndex < self.getSize():\n",
    "            minIndex = parentIndex\n",
    "            if(self.pq[minIndex].priority < self.pq[leftIndex].priority):\n",
    "                minIndex = leftIndex\n",
    "            if(rightIndex < self.getSize() and self.pq[minIndex].priority < self.pq[rightIndex].priority):\n",
    "                minIndex = rightIndex\n",
    "            \n",
    "            if minIndex!=parentIndex:\n",
    "                self.pq[parentIndex],self.pq[minIndex] = self.pq[minIndex],self.pq[parentIndex]\n",
    "                parentIndex = minIndex\n",
    "                leftIndex = 2*parentIndex + 1\n",
    "                rightIndex = 2*parentIndex + 2\n",
    "            else:\n",
    "                break\n",
    "    #O(nlogn)  time complexity        \n",
    "    def removeMax(self):\n",
    "        if self.isEmpty():\n",
    "            return None\n",
    "        element = self.pq[0]\n",
    "        self.pq[0] = self.pq[self.getSize()-1]\n",
    "        self.pq.pop()\n",
    "        self.__percolateDown()\n",
    "        return element"
   ]
  },
  {
   "cell_type": "code",
   "execution_count": 4,
   "id": "0c5f31b9",
   "metadata": {},
   "outputs": [
    {
     "name": "stdout",
     "output_type": "stream",
     "text": [
      "<__main__.PriorityQueueNode object at 0x000001AAC47A5160>\n",
      "<__main__.PriorityQueueNode object at 0x000001AAC47B02B0>\n",
      "<__main__.PriorityQueueNode object at 0x000001AAC47B00A0>\n",
      "<__main__.PriorityQueueNode object at 0x000001AAC47A51C0>\n"
     ]
    }
   ],
   "source": [
    "pq = PriorityQueue()\n",
    "pq.insert('A',10)\n",
    "pq.insert('C',5)\n",
    "pq.insert('D',19)\n",
    "pq.insert('B',4)\n",
    "for i in range(4):\n",
    "    print(pq.removeMax())"
   ]
  },
  {
   "cell_type": "code",
   "execution_count": null,
   "id": "74da74ee",
   "metadata": {},
   "outputs": [],
   "source": []
  }
 ],
 "metadata": {
  "kernelspec": {
   "display_name": "Python 3 (ipykernel)",
   "language": "python",
   "name": "python3"
  },
  "language_info": {
   "codemirror_mode": {
    "name": "ipython",
    "version": 3
   },
   "file_extension": ".py",
   "mimetype": "text/x-python",
   "name": "python",
   "nbconvert_exporter": "python",
   "pygments_lexer": "ipython3",
   "version": "3.9.7"
  }
 },
 "nbformat": 4,
 "nbformat_minor": 5
}
