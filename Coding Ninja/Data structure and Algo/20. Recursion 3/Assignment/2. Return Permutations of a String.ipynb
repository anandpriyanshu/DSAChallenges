{
 "cells": [
  {
   "cell_type": "code",
   "execution_count": 5,
   "id": "0ee66124",
   "metadata": {},
   "outputs": [
    {
     "name": "stdout",
     "output_type": "stream",
     "text": [
      "abc\n",
      "abc\n",
      "bac\n",
      "bca\n",
      "acb\n",
      "cab\n",
      "cba\n"
     ]
    }
   ],
   "source": [
    "def permutation(s):\n",
    "    if len(s) == 1:\n",
    "        return [s]           #return c \n",
    "    smalloutput = permutation(s[1:])    # bc through recursion\n",
    "    li = []\n",
    "    for i in smalloutput:\n",
    "        for j in range(len(i) +1):     # 1 length more bcz put 'b' then after 'a'  \n",
    "            t = i[0:j] + s[0] + i[j:]\n",
    "            li.append(t)\n",
    "    return li        \n",
    "    \n",
    "t = input()\n",
    "ans = permutation(t)\n",
    "for i in ans:\n",
    "    print(i)\n"
   ]
  },
  {
   "cell_type": "code",
   "execution_count": null,
   "id": "4e1c851f",
   "metadata": {},
   "outputs": [],
   "source": []
  }
 ],
 "metadata": {
  "kernelspec": {
   "display_name": "Python 3 (ipykernel)",
   "language": "python",
   "name": "python3"
  },
  "language_info": {
   "codemirror_mode": {
    "name": "ipython",
    "version": 3
   },
   "file_extension": ".py",
   "mimetype": "text/x-python",
   "name": "python",
   "nbconvert_exporter": "python",
   "pygments_lexer": "ipython3",
   "version": "3.9.7"
  }
 },
 "nbformat": 4,
 "nbformat_minor": 5
}
