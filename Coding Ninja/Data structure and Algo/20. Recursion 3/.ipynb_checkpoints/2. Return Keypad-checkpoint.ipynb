{
 "cells": [
  {
   "cell_type": "code",
   "execution_count": 3,
   "id": "2566e2af",
   "metadata": {},
   "outputs": [],
   "source": [
    "def getString(d):\n",
    "    if d==2:\n",
    "        return \"abc\"\n",
    "    if d==3:\n",
    "        return \"def\"\n",
    "    if d==4:\n",
    "        return \"ghi\"\n",
    "    if d==5:\n",
    "        return \"jkl\"\n",
    "    if d==6:\n",
    "        return \"mno\"\n",
    "    if d==7:\n",
    "        return \"pqrs\"\n",
    "    if d==8:\n",
    "        return \"tuv\"\n",
    "    if d==9:\n",
    "        return \"wxyz\"\n",
    "    return \"\""
   ]
  },
  {
   "cell_type": "code",
   "execution_count": 5,
   "id": "5fc0036a",
   "metadata": {},
   "outputs": [],
   "source": [
    "def keypad(n):\n",
    "    if n==0:\n",
    "        output=[]\n",
    "        output.append(\"\")\n",
    "        return output\n",
    "    \n",
    "    smallerNumber=n//10\n",
    "    lastDigit=n%10\n",
    "    \n",
    "    smallerOutput=keypad(smallerNumber)\n",
    "    optionsForLastDigit=getString(lastDigit)\n",
    "    output=[]\n",
    "    \n",
    "    for s in smallerOutput:\n",
    "        for c in optionsForLastDigit:   #c is increasing gradually means ad,ae,af....\n",
    "            option=s+c \n",
    "            output.append(option)\n",
    "    return output"
   ]
  },
  {
   "cell_type": "code",
   "execution_count": 6,
   "id": "9d70d882",
   "metadata": {},
   "outputs": [
    {
     "data": {
      "text/plain": [
       "['ad', 'ae', 'af', 'bd', 'be', 'bf', 'cd', 'ce', 'cf']"
      ]
     },
     "execution_count": 6,
     "metadata": {},
     "output_type": "execute_result"
    }
   ],
   "source": [
    "keypad(23)"
   ]
  },
  {
   "cell_type": "code",
   "execution_count": 9,
   "id": "8f7c6137",
   "metadata": {},
   "outputs": [
    {
     "name": "stdout",
     "output_type": "stream",
     "text": [
      "36\n"
     ]
    },
    {
     "data": {
      "text/plain": [
       "(None,\n",
       " ['adp',\n",
       "  'adq',\n",
       "  'adr',\n",
       "  'ads',\n",
       "  'aep',\n",
       "  'aeq',\n",
       "  'aer',\n",
       "  'aes',\n",
       "  'afp',\n",
       "  'afq',\n",
       "  'afr',\n",
       "  'afs',\n",
       "  'bdp',\n",
       "  'bdq',\n",
       "  'bdr',\n",
       "  'bds',\n",
       "  'bep',\n",
       "  'beq',\n",
       "  'ber',\n",
       "  'bes',\n",
       "  'bfp',\n",
       "  'bfq',\n",
       "  'bfr',\n",
       "  'bfs',\n",
       "  'cdp',\n",
       "  'cdq',\n",
       "  'cdr',\n",
       "  'cds',\n",
       "  'cep',\n",
       "  'ceq',\n",
       "  'cer',\n",
       "  'ces',\n",
       "  'cfp',\n",
       "  'cfq',\n",
       "  'cfr',\n",
       "  'cfs'])"
      ]
     },
     "execution_count": 9,
     "metadata": {},
     "output_type": "execute_result"
    }
   ],
   "source": [
    "length = keypad(237)\n",
    "print(len(length)),length"
   ]
  },
  {
   "cell_type": "code",
   "execution_count": 2,
   "id": "b559ef52",
   "metadata": {},
   "outputs": [
    {
     "name": "stdout",
     "output_type": "stream",
     "text": [
      "23\n",
      "ad\n",
      "ae\n",
      "af\n",
      "bd\n",
      "be\n",
      "bf\n",
      "cd\n",
      "ce\n",
      "cf\n"
     ]
    }
   ],
   "source": [
    "d={'2':'abc','3':'def','4':'ghi','5':'jkl','6':'mno','7':'pqrs','8':'tuv','9':'wxyz'}\n",
    "def keypad(n):\n",
    "    #Implement Your Code Here\n",
    "    if len(n)==0:\n",
    "        return ['']\n",
    "    a=keypad(n[1:])\n",
    "    s=n[0]\n",
    "    t=d[s]\n",
    "    l=[]\n",
    "    for i in t:\n",
    "        for j in a:\n",
    "            l.append(i+j)\n",
    "    return l\n",
    "        \n",
    "        \n",
    "\n",
    "n = int(input())\n",
    "ans = keypad(str(n))\n",
    "for s in ans:\n",
    "    print(s)"
   ]
  },
  {
   "cell_type": "code",
   "execution_count": null,
   "id": "f95c8097",
   "metadata": {},
   "outputs": [],
   "source": []
  }
 ],
 "metadata": {
  "kernelspec": {
   "display_name": "Python 3 (ipykernel)",
   "language": "python",
   "name": "python3"
  },
  "language_info": {
   "codemirror_mode": {
    "name": "ipython",
    "version": 3
   },
   "file_extension": ".py",
   "mimetype": "text/x-python",
   "name": "python",
   "nbconvert_exporter": "python",
   "pygments_lexer": "ipython3",
   "version": "3.9.7"
  }
 },
 "nbformat": 4,
 "nbformat_minor": 5
}
