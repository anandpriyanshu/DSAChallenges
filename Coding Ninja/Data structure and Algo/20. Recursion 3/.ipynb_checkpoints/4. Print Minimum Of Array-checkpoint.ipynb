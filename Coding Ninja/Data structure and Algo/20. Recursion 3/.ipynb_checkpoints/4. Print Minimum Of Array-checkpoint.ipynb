{
 "cells": [
  {
   "cell_type": "markdown",
   "id": "d7f6aab5",
   "metadata": {},
   "source": [
    "### Top to down"
   ]
  },
  {
   "cell_type": "markdown",
   "id": "558b278e",
   "metadata": {},
   "source": [
    "Print min array"
   ]
  },
  {
   "cell_type": "code",
   "execution_count": 2,
   "id": "c885565d",
   "metadata": {},
   "outputs": [],
   "source": [
    "def printMin(l,minSoFor=10000): \n",
    "    if len(l) == 0:\n",
    "        print(minSoFor)\n",
    "        return\n",
    "    newMin = min(l[0],minSoFor)    #Initially check min number\n",
    "    printMin(l[1:],newMin)"
   ]
  },
  {
   "cell_type": "code",
   "execution_count": 3,
   "id": "7b445b5c",
   "metadata": {},
   "outputs": [
    {
     "name": "stdout",
     "output_type": "stream",
     "text": [
      "-4\n"
     ]
    }
   ],
   "source": [
    "printMin([1,2,3,4,-1,0,-2,-4,5,6])"
   ]
  },
  {
   "cell_type": "markdown",
   "id": "bad3af60",
   "metadata": {},
   "source": [
    "### Down to top"
   ]
  },
  {
   "cell_type": "markdown",
   "id": "28c30f32",
   "metadata": {},
   "source": [
    "Return min array"
   ]
  },
  {
   "cell_type": "code",
   "execution_count": 4,
   "id": "fa52248f",
   "metadata": {},
   "outputs": [],
   "source": [
    "def minList(l):\n",
    "    if len(l)==1:\n",
    "        return l[0]\n",
    "    \n",
    "    minSmallArray=minList(l[1:])\n",
    "    overallMin=min(minSmallArray,l[0])\n",
    "    return overallMin"
   ]
  },
  {
   "cell_type": "code",
   "execution_count": 5,
   "id": "c75006ed",
   "metadata": {},
   "outputs": [
    {
     "data": {
      "text/plain": [
       "-4"
      ]
     },
     "execution_count": 5,
     "metadata": {},
     "output_type": "execute_result"
    }
   ],
   "source": [
    "minList([1,2,3,4,-1,0,-2,-4,5,6])"
   ]
  },
  {
   "cell_type": "markdown",
   "id": "298c2d28",
   "metadata": {},
   "source": [
    "Max ele in array"
   ]
  },
  {
   "cell_type": "code",
   "execution_count": 6,
   "id": "58bbb33d",
   "metadata": {},
   "outputs": [
    {
     "data": {
      "text/plain": [
       "15"
      ]
     },
     "execution_count": 6,
     "metadata": {},
     "output_type": "execute_result"
    }
   ],
   "source": [
    "def maxele(l):\n",
    "    if len(l) == 1:\n",
    "        return l[0]\n",
    "    small = maxele(l[1:])\n",
    "    overallmax = max(small,l[0])\n",
    "    return overallmax\n",
    "\n",
    "maxele([1,2,7,8,9,15,])"
   ]
  },
  {
   "cell_type": "code",
   "execution_count": null,
   "id": "22429365",
   "metadata": {},
   "outputs": [],
   "source": []
  }
 ],
 "metadata": {
  "kernelspec": {
   "display_name": "Python 3 (ipykernel)",
   "language": "python",
   "name": "python3"
  },
  "language_info": {
   "codemirror_mode": {
    "name": "ipython",
    "version": 3
   },
   "file_extension": ".py",
   "mimetype": "text/x-python",
   "name": "python",
   "nbconvert_exporter": "python",
   "pygments_lexer": "ipython3",
   "version": "3.9.7"
  }
 },
 "nbformat": 4,
 "nbformat_minor": 5
}
