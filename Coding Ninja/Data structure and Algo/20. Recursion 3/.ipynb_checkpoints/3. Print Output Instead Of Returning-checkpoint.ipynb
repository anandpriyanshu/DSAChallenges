{
 "cells": [
  {
   "cell_type": "markdown",
   "id": "06834ca3",
   "metadata": {},
   "source": [
    "Instead of building the answer from bottom to top we will do it top to down while we are going down towards the base case we will pass the answer keep updating the answer such that you have reach the base case you have required answer so that printed in base case."
   ]
  },
  {
   "cell_type": "code",
   "execution_count": 1,
   "id": "845f89b8",
   "metadata": {},
   "outputs": [],
   "source": [
    "def printFact(n,ans):\n",
    "    if n == 0:\n",
    "        print(ans)\n",
    "        return \n",
    "    ans = ans * n\n",
    "    printFact(n-1,ans)"
   ]
  },
  {
   "cell_type": "code",
   "execution_count": 3,
   "id": "25faf417",
   "metadata": {},
   "outputs": [
    {
     "name": "stdout",
     "output_type": "stream",
     "text": [
      "120\n"
     ]
    }
   ],
   "source": [
    "printFact(5,1)"
   ]
  },
  {
   "cell_type": "code",
   "execution_count": null,
   "id": "59b7007e",
   "metadata": {},
   "outputs": [],
   "source": []
  }
 ],
 "metadata": {
  "kernelspec": {
   "display_name": "Python 3 (ipykernel)",
   "language": "python",
   "name": "python3"
  },
  "language_info": {
   "codemirror_mode": {
    "name": "ipython",
    "version": 3
   },
   "file_extension": ".py",
   "mimetype": "text/x-python",
   "name": "python",
   "nbconvert_exporter": "python",
   "pygments_lexer": "ipython3",
   "version": "3.9.7"
  }
 },
 "nbformat": 4,
 "nbformat_minor": 5
}
