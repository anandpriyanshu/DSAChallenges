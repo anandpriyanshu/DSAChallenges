{
 "cells": [
  {
   "cell_type": "code",
   "execution_count": 7,
   "id": "acd1b3da",
   "metadata": {},
   "outputs": [],
   "source": [
    "def printSub(s,o):       # s = string , o = output\n",
    "    if len(s) == 0:\n",
    "        print(o)\n",
    "        return \n",
    "    #excluding 0th char\n",
    "    printSub(s[1:],o)\n",
    "    #including 0th char\n",
    "    newOutput = o + s[0]\n",
    "    printSub(s[1:],newOutput)"
   ]
  },
  {
   "cell_type": "code",
   "execution_count": 11,
   "id": "fa1b0fbc",
   "metadata": {},
   "outputs": [
    {
     "name": "stdout",
     "output_type": "stream",
     "text": [
      "abc\n",
      "\n",
      "c\n",
      "b\n",
      "bc\n",
      "a\n",
      "ac\n",
      "ab\n",
      "abc\n"
     ]
    }
   ],
   "source": [
    "s = input()\n",
    "printSub(s,'') # firstly get '' before c"
   ]
  },
  {
   "cell_type": "code",
   "execution_count": null,
   "id": "56a9bc84",
   "metadata": {},
   "outputs": [],
   "source": []
  }
 ],
 "metadata": {
  "kernelspec": {
   "display_name": "Python 3 (ipykernel)",
   "language": "python",
   "name": "python3"
  },
  "language_info": {
   "codemirror_mode": {
    "name": "ipython",
    "version": 3
   },
   "file_extension": ".py",
   "mimetype": "text/x-python",
   "name": "python",
   "nbconvert_exporter": "python",
   "pygments_lexer": "ipython3",
   "version": "3.9.7"
  }
 },
 "nbformat": 4,
 "nbformat_minor": 5
}
