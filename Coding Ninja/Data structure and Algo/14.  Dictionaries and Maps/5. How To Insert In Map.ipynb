{
 "cells": [
  {
   "cell_type": "code",
   "execution_count": 1,
   "id": "017cb777",
   "metadata": {},
   "outputs": [
    {
     "name": "stdout",
     "output_type": "stream",
     "text": [
      "1\n",
      "2\n",
      "2\n"
     ]
    }
   ],
   "source": [
    "class MapNode:\n",
    "    def __init__(self,key,value):\n",
    "        self.key=key\n",
    "        self.value=value\n",
    "        self.next=None\n",
    "class Map:\n",
    "    \n",
    "    def __init__(self):\n",
    "        self.bucketSize=10\n",
    "        self.buckets=[None for i in range(self.bucketSize)]\n",
    "        self.count=0\n",
    "        \n",
    "    def size(self):\n",
    "        return self.count\n",
    "    \n",
    "    def getBucketIndex(self,hc):\n",
    "        return (abs(hc)%(self.bucketSize))\n",
    "    \n",
    "    def insert(self,key,value):\n",
    "        hc=hash(key)\n",
    "        index=self.getBucketIndex(hc)\n",
    "        head=self.buckets[index]\n",
    "        while head is not None:\n",
    "            if head.key==key:\n",
    "                head.value=value\n",
    "                return\n",
    "            head=head.next\n",
    "        newNode=MapNode(key,value)\n",
    "        newNode.next=head\n",
    "        self.buckets[index]=newNode\n",
    "        self.count+=1\n",
    "\n",
    "m=Map()\n",
    "m.insert('Parikh',2)\n",
    "print(m.size())\n",
    "m.insert('Rohan',7)\n",
    "print(m.size())\n",
    "m.insert('Parikh',9)\n",
    "print(m.size())\n",
    "    \n",
    "        "
   ]
  },
  {
   "cell_type": "code",
   "execution_count": null,
   "id": "c0d11685",
   "metadata": {},
   "outputs": [],
   "source": []
  }
 ],
 "metadata": {
  "kernelspec": {
   "display_name": "Python 3 (ipykernel)",
   "language": "python",
   "name": "python3"
  },
  "language_info": {
   "codemirror_mode": {
    "name": "ipython",
    "version": 3
   },
   "file_extension": ".py",
   "mimetype": "text/x-python",
   "name": "python",
   "nbconvert_exporter": "python",
   "pygments_lexer": "ipython3",
   "version": "3.9.7"
  }
 },
 "nbformat": 4,
 "nbformat_minor": 5
}
