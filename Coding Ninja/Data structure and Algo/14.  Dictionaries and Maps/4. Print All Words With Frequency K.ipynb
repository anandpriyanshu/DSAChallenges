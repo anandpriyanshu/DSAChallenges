{
 "cells": [
  {
   "cell_type": "code",
   "execution_count": 20,
   "id": "732a344e",
   "metadata": {},
   "outputs": [],
   "source": [
    "s=\"this is a word string having many many word\"\n",
    "k=2"
   ]
  },
  {
   "cell_type": "code",
   "execution_count": 21,
   "id": "4aaef063",
   "metadata": {},
   "outputs": [],
   "source": [
    "words = s.split()"
   ]
  },
  {
   "cell_type": "code",
   "execution_count": 22,
   "id": "d726d248",
   "metadata": {},
   "outputs": [
    {
     "data": {
      "text/plain": [
       "['this', 'is', 'a', 'word', 'string', 'having', 'many', 'many', 'word']"
      ]
     },
     "execution_count": 22,
     "metadata": {},
     "output_type": "execute_result"
    }
   ],
   "source": [
    "words"
   ]
  },
  {
   "cell_type": "code",
   "execution_count": 23,
   "id": "5c365a94",
   "metadata": {},
   "outputs": [
    {
     "data": {
      "text/plain": [
       "{'this': 1, 'is': 1, 'a': 1, 'word': 2, 'string': 1, 'having': 1, 'many': 2}"
      ]
     },
     "execution_count": 23,
     "metadata": {},
     "output_type": "execute_result"
    }
   ],
   "source": [
    "d = {}\n",
    "for w in words:\n",
    "    if w in d:\n",
    "        d[w] = d[w] + 1   # increase the frequency by 1\n",
    "    else:\n",
    "        d[w] = 1   # first time looking in dictionary\n",
    "d     "
   ]
  },
  {
   "cell_type": "code",
   "execution_count": 24,
   "id": "f9fc4e2d",
   "metadata": {},
   "outputs": [
    {
     "data": {
      "text/plain": [
       "{'this': 1, 'is': 1, 'a': 1, 'word': 2, 'string': 1, 'having': 1, 'many': 2}"
      ]
     },
     "execution_count": 24,
     "metadata": {},
     "output_type": "execute_result"
    }
   ],
   "source": [
    "d={}\n",
    "for w in words:\n",
    "    d[w]=d.get(w,0)+1\n",
    "d"
   ]
  },
  {
   "cell_type": "code",
   "execution_count": 25,
   "id": "e519b28c",
   "metadata": {},
   "outputs": [
    {
     "name": "stdout",
     "output_type": "stream",
     "text": [
      "word\n",
      "many\n"
     ]
    }
   ],
   "source": [
    "for w in d:\n",
    "    if d[w] == k:\n",
    "        print(w)"
   ]
  },
  {
   "cell_type": "code",
   "execution_count": 26,
   "id": "4c9f0df3",
   "metadata": {},
   "outputs": [],
   "source": [
    "def printKFreqWords(s,k):\n",
    "    words=s.split()\n",
    "    d={}\n",
    "    for w in words:\n",
    "        d[w]=d.get(w,0)+1\n",
    "    for w in d:\n",
    "        if d[w]==k:\n",
    "            print(w)"
   ]
  },
  {
   "cell_type": "code",
   "execution_count": 27,
   "id": "9f674320",
   "metadata": {},
   "outputs": [
    {
     "name": "stdout",
     "output_type": "stream",
     "text": [
      "word\n",
      "many\n"
     ]
    }
   ],
   "source": [
    "printKFreqWords(s,k)"
   ]
  },
  {
   "cell_type": "code",
   "execution_count": 28,
   "id": "c034bace",
   "metadata": {},
   "outputs": [
    {
     "name": "stdout",
     "output_type": "stream",
     "text": [
      "this\n",
      "is\n",
      "a\n",
      "string\n",
      "having\n"
     ]
    }
   ],
   "source": [
    "printKFreqWords(s,1)"
   ]
  },
  {
   "cell_type": "code",
   "execution_count": 29,
   "id": "0a45dcf5",
   "metadata": {},
   "outputs": [],
   "source": [
    "def reverse(n):\n",
    "    rev = 0\n",
    "    while n > 0:\n",
    "        rev = rev * 10 + n % 10\n",
    "        n = n//10\n",
    "    return rev    "
   ]
  },
  {
   "cell_type": "code",
   "execution_count": 30,
   "id": "4377b1d8",
   "metadata": {},
   "outputs": [],
   "source": [
    "n = int(input())\n",
    "reverse(n)"
   ]
  },
  {
   "cell_type": "code",
   "execution_count": null,
   "id": "84bdac3f",
   "metadata": {},
   "outputs": [],
   "source": [
    "def palindrome(n):\n",
    "    rev = 0\n",
    "    a = n\n",
    "    while n > 0:\n",
    "        rev = rev * 10 + a % 10\n",
    "        n = n//10\n",
    "    if a == rev:\n",
    "        return True\n",
    "    else:\n",
    "        return False"
   ]
  },
  {
   "cell_type": "code",
   "execution_count": null,
   "id": "5e5c7684",
   "metadata": {},
   "outputs": [],
   "source": [
    "def dublicate(num):\n",
    "\n",
    "    i = 0\n",
    "    while i< lena(num)-1:\n",
    "\n",
    "        if a[i] == a[i+1]:\n",
    "            return a[i]\n",
    "        \n",
    "        i+=1\n",
    "    return\n",
    "\n",
    "num = [1,2,3,2,5,6,7,5]\n",
    "dublicate(num)"
   ]
  },
  {
   "cell_type": "code",
   "execution_count": null,
   "id": "6fcec096",
   "metadata": {},
   "outputs": [],
   "source": []
  }
 ],
 "metadata": {
  "kernelspec": {
   "display_name": "Python 3 (ipykernel)",
   "language": "python",
   "name": "python3"
  },
  "language_info": {
   "codemirror_mode": {
    "name": "ipython",
    "version": 3
   },
   "file_extension": ".py",
   "mimetype": "text/x-python",
   "name": "python",
   "nbconvert_exporter": "python",
   "pygments_lexer": "ipython3",
   "version": "3.11.9"
  }
 },
 "nbformat": 4,
 "nbformat_minor": 5
}
