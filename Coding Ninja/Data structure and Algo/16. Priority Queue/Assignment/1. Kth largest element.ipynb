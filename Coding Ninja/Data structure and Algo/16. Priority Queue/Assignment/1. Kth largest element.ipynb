{
 "cells": [
  {
   "cell_type": "markdown",
   "id": "09ecfb74",
   "metadata": {},
   "source": [
    "we just needed to print kth largest element not k largest elements"
   ]
  },
  {
   "cell_type": "code",
   "execution_count": 4,
   "id": "66b3e240",
   "metadata": {},
   "outputs": [
    {
     "name": "stdout",
     "output_type": "stream",
     "text": [
      "9\n"
     ]
    }
   ],
   "source": [
    "import heapq\n",
    "def kthLargest(lst, k):\n",
    "    heap = lst[:k]\n",
    "    heapq.heapify(heap)\n",
    "    n  = len(lst)\n",
    "    for i in range(k,n):\n",
    "        if heap[0] < lst[i]:\n",
    "            heapq.heapreplace(heap,lst[i])\n",
    "    return heap[0]       \n",
    "        \n",
    "\n",
    "\n",
    "lst= [9,4,8,7,11,3]\n",
    "k=2\n",
    "ans=kthLargest(lst, k)\n",
    "print(ans)"
   ]
  },
  {
   "cell_type": "markdown",
   "id": "683e30ef",
   "metadata": {},
   "source": [
    "CN method"
   ]
  },
  {
   "cell_type": "code",
   "execution_count": 5,
   "id": "1dadcda2",
   "metadata": {},
   "outputs": [
    {
     "name": "stdout",
     "output_type": "stream",
     "text": [
      "6\n",
      "9 4 8 7 11 3\n",
      "2\n",
      "9\n"
     ]
    }
   ],
   "source": [
    "# Main\n",
    "n=int(input())\n",
    "lst=list(int(i) for i in input().strip().split(' '))\n",
    "k=int(input())\n",
    "ans=kthLargest(lst, k)\n",
    "print(ans)"
   ]
  },
  {
   "cell_type": "code",
   "execution_count": null,
   "id": "80711cf1",
   "metadata": {},
   "outputs": [],
   "source": []
  }
 ],
 "metadata": {
  "kernelspec": {
   "display_name": "Python 3 (ipykernel)",
   "language": "python",
   "name": "python3"
  },
  "language_info": {
   "codemirror_mode": {
    "name": "ipython",
    "version": 3
   },
   "file_extension": ".py",
   "mimetype": "text/x-python",
   "name": "python",
   "nbconvert_exporter": "python",
   "pygments_lexer": "ipython3",
   "version": "3.9.7"
  }
 },
 "nbformat": 4,
 "nbformat_minor": 5
}
