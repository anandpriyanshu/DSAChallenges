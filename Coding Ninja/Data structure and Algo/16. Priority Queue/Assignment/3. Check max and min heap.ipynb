{
 "cells": [
  {
   "cell_type": "markdown",
   "id": "12db3c54",
   "metadata": {},
   "source": [
    "### Max heap"
   ]
  },
  {
   "cell_type": "code",
   "execution_count": 2,
   "id": "d0c31ca5",
   "metadata": {},
   "outputs": [
    {
     "name": "stdout",
     "output_type": "stream",
     "text": [
      "8\n",
      "42 20 18 6 14 11 9 4\n",
      "true\n"
     ]
    }
   ],
   "source": [
    "import heapq\n",
    "def checkMaxHeap(lst):\n",
    "    arr=[]\n",
    "    for i in lst:\n",
    "        arr.append(i)\n",
    "    heapq._heapify_max(arr)   #made one array into max heap and created two arrays\n",
    "    if arr==lst:           #if both array are equal\n",
    "        return True\n",
    "    return False\n",
    "# Main Code\n",
    "n=int(input())\n",
    "lst=list(int(i) for i in input().strip().split(' '))\n",
    "print('true') if checkMaxHeap(lst) else print('false')\n",
    "    "
   ]
  },
  {
   "cell_type": "markdown",
   "id": "651b0c02",
   "metadata": {},
   "source": [
    "### Min Heap"
   ]
  },
  {
   "cell_type": "code",
   "execution_count": 3,
   "id": "c250f967",
   "metadata": {},
   "outputs": [
    {
     "name": "stdout",
     "output_type": "stream",
     "text": [
      "13\n",
      "13 2 12 9 16 10 5 3 20 25 11 1 8 6 \n",
      "false\n"
     ]
    }
   ],
   "source": [
    "import heapq\n",
    "def checkMinHeap(lst):\n",
    "    arr=[]\n",
    "    for i in lst:\n",
    "        arr.append(i)\n",
    "    heapq.heapify(arr)   #made one array into max heap and created two arrays\n",
    "    if arr==lst:           #if both array are equal\n",
    "        return True\n",
    "    return False\n",
    "# Main Code\n",
    "n=int(input())\n",
    "lst=list(int(i) for i in input().strip().split(' '))\n",
    "print('true') if checkMinHeap(lst) else print('false')"
   ]
  }
 ],
 "metadata": {
  "kernelspec": {
   "display_name": "Python 3 (ipykernel)",
   "language": "python",
   "name": "python3"
  },
  "language_info": {
   "codemirror_mode": {
    "name": "ipython",
    "version": 3
   },
   "file_extension": ".py",
   "mimetype": "text/x-python",
   "name": "python",
   "nbconvert_exporter": "python",
   "pygments_lexer": "ipython3",
   "version": "3.9.7"
  }
 },
 "nbformat": 4,
 "nbformat_minor": 5
}
