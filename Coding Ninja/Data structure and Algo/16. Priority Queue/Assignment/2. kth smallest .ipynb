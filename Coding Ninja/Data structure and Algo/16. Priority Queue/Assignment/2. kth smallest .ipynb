{
 "cells": [
  {
   "cell_type": "markdown",
   "id": "9a1ac6c2",
   "metadata": {},
   "source": [
    "we just needed to print kth smallest element not k smallest elements"
   ]
  },
  {
   "cell_type": "code",
   "execution_count": 1,
   "id": "b5823044",
   "metadata": {},
   "outputs": [
    {
     "name": "stdout",
     "output_type": "stream",
     "text": [
      "4\n"
     ]
    }
   ],
   "source": [
    "import heapq\n",
    "def kthsmallest(lst, k):\n",
    "    heap = lst[:k]\n",
    "    heapq._heapify_max(heap)\n",
    "    n  = len(lst)\n",
    "    for i in range(k,n):\n",
    "        if heap[0] > lst[i]:\n",
    "            heapq._heapreplace_max(heap,lst[i])\n",
    "    return heap[0]       \n",
    "        \n",
    "\n",
    "\n",
    "lst= [9,4,8,7,11,3]\n",
    "k=2\n",
    "ans=kthsmallest(lst, k)\n",
    "print(ans)"
   ]
  },
  {
   "cell_type": "code",
   "execution_count": null,
   "id": "5840623a",
   "metadata": {},
   "outputs": [],
   "source": []
  }
 ],
 "metadata": {
  "kernelspec": {
   "display_name": "Python 3 (ipykernel)",
   "language": "python",
   "name": "python3"
  },
  "language_info": {
   "codemirror_mode": {
    "name": "ipython",
    "version": 3
   },
   "file_extension": ".py",
   "mimetype": "text/x-python",
   "name": "python",
   "nbconvert_exporter": "python",
   "pygments_lexer": "ipython3",
   "version": "3.9.7"
  }
 },
 "nbformat": 4,
 "nbformat_minor": 5
}
