{
 "cells": [
  {
   "cell_type": "markdown",
   "id": "9d436160",
   "metadata": {},
   "source": [
    "Code written by myself"
   ]
  },
  {
   "cell_type": "markdown",
   "id": "2929f004",
   "metadata": {},
   "source": [
    "Using min heap"
   ]
  },
  {
   "cell_type": "code",
   "execution_count": 5,
   "id": "6bbe9776",
   "metadata": {},
   "outputs": [
    {
     "name": "stdout",
     "output_type": "stream",
     "text": [
      "12 16 20 25 "
     ]
    }
   ],
   "source": [
    "import heapq\n",
    "\n",
    "def kLargest(arr,k):\n",
    "    heap = arr[:k]    #create  heap of k element\n",
    "    heapq.heapify(heap)    #min heap of size k\n",
    "    n = len(arr)\n",
    "    for i in range(k,n):\n",
    "        if heap[0] < arr[i]:\n",
    "            heapq.heapreplace(heap,arr[i])      #after replace covert into min heap and pass the arr[i] which will replace in heap\n",
    " \n",
    "    return heap        \n",
    "arr = [2,12,9,16,10,5,3,20,25,11,1,8,6]\n",
    "k = 4\n",
    "element = kLargest(arr,4)\n",
    "for ele in element:\n",
    "    print(ele,end = ' ')"
   ]
  }
 ],
 "metadata": {
  "kernelspec": {
   "display_name": "Python 3 (ipykernel)",
   "language": "python",
   "name": "python3"
  },
  "language_info": {
   "codemirror_mode": {
    "name": "ipython",
    "version": 3
   },
   "file_extension": ".py",
   "mimetype": "text/x-python",
   "name": "python",
   "nbconvert_exporter": "python",
   "pygments_lexer": "ipython3",
   "version": "3.9.7"
  }
 },
 "nbformat": 4,
 "nbformat_minor": 5
}
