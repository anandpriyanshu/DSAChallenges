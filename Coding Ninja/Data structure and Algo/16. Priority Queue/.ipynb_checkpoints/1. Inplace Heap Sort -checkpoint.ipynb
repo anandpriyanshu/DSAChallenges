{
 "cells": [
  {
   "cell_type": "code",
   "execution_count": 3,
   "id": "81e4c2f4",
   "metadata": {},
   "outputs": [
    {
     "name": "stdout",
     "output_type": "stream",
     "text": [
      "4 5 6 7 8 9 2\n",
      "9 8 7 6 5 4 2 "
     ]
    }
   ],
   "source": [
    "def down_heapify(arr,i,n):\n",
    "    \n",
    "    parentIndex = i\n",
    "    leftchildIndex = 2*parentIndex+1\n",
    "    rightchildIndex = 2*parentIndex+2\n",
    "    while leftchildIndex < n:\n",
    "        minIndex = parentIndex\n",
    "        if arr[leftchildIndex] < arr[minIndex]:\n",
    "            minIndex = leftchildIndex\n",
    "        if rightchildIndex < n and arr[rightchildIndex] < arr[minIndex]:\n",
    "            minIndex = rightchildIndex\n",
    "        if minIndex == parentIndex:\n",
    "            break\n",
    "        arr[minIndex],arr[parentIndex]=arr[parentIndex],arr[minIndex]\n",
    "        parentIndex = minIndex \n",
    "        leftchildIndex = 2*parentIndex + 1\n",
    "        rightchildIndex = 2*parentIndex + 2\n",
    "        return \n",
    "    \n",
    "#build the heap\n",
    "def heapSort(arr):\n",
    "    n = len(arr)\n",
    "    for i in range(n//2-1,-1,-1):          #till go to zero index \n",
    "        down_heapify(arr,i,n)              #starting from non leaf index bc heap is own arr and down_heapify call maximum index\n",
    "        \n",
    "#Removing an element from the heap to last position like n-1, n-2...... etc\n",
    "    for i in range(n-1,0,-1):              #starting froom last index \n",
    "        arr[0],arr[i] = arr[i],arr[0]\n",
    "        down_heapify(arr,0,i)\n",
    "\n",
    " \n",
    "\n",
    "\n",
    "\n",
    "\n",
    "arr = [int(ele) for ele in input().split()]\n",
    "heapSort(arr)\n",
    "for ele in arr:\n",
    "    print(ele, end = ' ')"
   ]
  },
  {
   "cell_type": "code",
   "execution_count": null,
   "id": "a78eee2f",
   "metadata": {},
   "outputs": [],
   "source": []
  }
 ],
 "metadata": {
  "kernelspec": {
   "display_name": "Python 3 (ipykernel)",
   "language": "python",
   "name": "python3"
  },
  "language_info": {
   "codemirror_mode": {
    "name": "ipython",
    "version": 3
   },
   "file_extension": ".py",
   "mimetype": "text/x-python",
   "name": "python",
   "nbconvert_exporter": "python",
   "pygments_lexer": "ipython3",
   "version": "3.9.7"
  }
 },
 "nbformat": 4,
 "nbformat_minor": 5
}
