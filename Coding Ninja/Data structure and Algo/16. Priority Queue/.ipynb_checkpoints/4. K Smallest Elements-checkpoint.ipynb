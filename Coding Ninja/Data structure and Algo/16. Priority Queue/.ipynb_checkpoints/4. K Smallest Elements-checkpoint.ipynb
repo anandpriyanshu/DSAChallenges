{
 "cells": [
  {
   "cell_type": "markdown",
   "id": "3133cada",
   "metadata": {},
   "source": [
    "Using max heap"
   ]
  },
  {
   "cell_type": "code",
   "execution_count": 5,
   "id": "0ec1db84",
   "metadata": {},
   "outputs": [
    {
     "name": "stdout",
     "output_type": "stream",
     "text": [
      "6 2 3 1 "
     ]
    }
   ],
   "source": [
    "import heapq\n",
    "\n",
    "def kSmallest(arr,k):\n",
    "    heap = arr[:k]   #creat  heap of k element\n",
    "    heapq._heapify_max(heap)    #max heap of size k\n",
    "    n = len(arr)\n",
    "    for i in range(k,n):\n",
    "        if heap[0] > arr[i]:\n",
    "            heapq._heapreplace_max(heap,arr[i])   #after replace covert into max heap and pass the arr[i] which will replace in heap\n",
    " \n",
    "    return heap\n",
    "\n",
    "arr = [10,6,7,2,3,8,9,11,1]\n",
    "k = 4\n",
    "element = kSmallest(arr,4)\n",
    "for ele in element:\n",
    "    print(ele,end = ' ')"
   ]
  },
  {
   "cell_type": "code",
   "execution_count": null,
   "id": "f5e483d9",
   "metadata": {},
   "outputs": [],
   "source": []
  }
 ],
 "metadata": {
  "kernelspec": {
   "display_name": "Python 3 (ipykernel)",
   "language": "python",
   "name": "python3"
  },
  "language_info": {
   "codemirror_mode": {
    "name": "ipython",
    "version": 3
   },
   "file_extension": ".py",
   "mimetype": "text/x-python",
   "name": "python",
   "nbconvert_exporter": "python",
   "pygments_lexer": "ipython3",
   "version": "3.9.7"
  }
 },
 "nbformat": 4,
 "nbformat_minor": 5
}
