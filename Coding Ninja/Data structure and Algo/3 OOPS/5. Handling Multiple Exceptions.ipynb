{
 "cells": [
  {
   "cell_type": "code",
   "execution_count": 9,
   "id": "a4986ca0",
   "metadata": {},
   "outputs": [],
   "source": [
    "class Vehicle():\n",
    "    def __init__(self,make,model,fuel):\n",
    "        self.make=make\n",
    "        self.model=model\n",
    "        self.fuel=fuel\n",
    "    def get_value(self):\n",
    "        try:\n",
    "            age=2021-self.model\n",
    "            return 1000+(1/age)\n",
    "        except TypeError:\n",
    "            try:\n",
    "                age=2021-int(self.model)\n",
    "                return 1000+(1/age)\n",
    "            except ZeroDivisionError:\n",
    "                age=2021-int(self.model)\n",
    "                return 1000*(1)\n",
    "            except:\n",
    "                return \"You have entered Model Year in incorrect format\""
   ]
  },
  {
   "cell_type": "code",
   "execution_count": 4,
   "id": "b8c5788d",
   "metadata": {},
   "outputs": [],
   "source": [
    "myobj=Vehicle(\"Tesla\",\"2021\",\"Electric\")    #it's working absolutely fine for integar and string as well"
   ]
  },
  {
   "cell_type": "code",
   "execution_count": 5,
   "id": "f8e0ac9a",
   "metadata": {},
   "outputs": [
    {
     "data": {
      "text/plain": [
       "1000"
      ]
     },
     "execution_count": 5,
     "metadata": {},
     "output_type": "execute_result"
    }
   ],
   "source": [
    "myobj.get_value()"
   ]
  },
  {
   "cell_type": "code",
   "execution_count": 10,
   "id": "0dfaac3d",
   "metadata": {},
   "outputs": [],
   "source": [
    "myobj=Vehicle(\"Tesla\",\"new\",\"Electric\")"
   ]
  },
  {
   "cell_type": "code",
   "execution_count": 11,
   "id": "1c37daec",
   "metadata": {},
   "outputs": [
    {
     "data": {
      "text/plain": [
       "'You have entered Model Year in incorrect format'"
      ]
     },
     "execution_count": 11,
     "metadata": {},
     "output_type": "execute_result"
    }
   ],
   "source": [
    "myobj.get_value()"
   ]
  },
  {
   "cell_type": "code",
   "execution_count": null,
   "id": "c8ead86f",
   "metadata": {},
   "outputs": [],
   "source": []
  },
  {
   "cell_type": "code",
   "execution_count": null,
   "id": "de3807da",
   "metadata": {},
   "outputs": [],
   "source": []
  },
  {
   "cell_type": "code",
   "execution_count": 12,
   "id": "6d956b88",
   "metadata": {},
   "outputs": [
    {
     "name": "stdout",
     "output_type": "stream",
     "text": [
      "Name Error occured\n"
     ]
    }
   ],
   "source": [
    "try:\n",
    "    a = 10\n",
    "    b = 0\n",
    "    print(d)\n",
    "    c = a/b\n",
    "except NameError:\n",
    "    print('Name Error occured')\n",
    "except ZeroDivisionError:\n",
    "    print('Zero Division Error occured')"
   ]
  },
  {
   "cell_type": "code",
   "execution_count": null,
   "id": "10c22889",
   "metadata": {},
   "outputs": [],
   "source": []
  }
 ],
 "metadata": {
  "kernelspec": {
   "display_name": "Python 3 (ipykernel)",
   "language": "python",
   "name": "python3"
  },
  "language_info": {
   "codemirror_mode": {
    "name": "ipython",
    "version": 3
   },
   "file_extension": ".py",
   "mimetype": "text/x-python",
   "name": "python",
   "nbconvert_exporter": "python",
   "pygments_lexer": "ipython3",
   "version": "3.9.7"
  }
 },
 "nbformat": 4,
 "nbformat_minor": 5
}
