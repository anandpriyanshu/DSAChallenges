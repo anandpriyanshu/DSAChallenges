{
 "cells": [
  {
   "cell_type": "code",
   "execution_count": 1,
   "id": "4f54b339",
   "metadata": {},
   "outputs": [],
   "source": [
    "from abc import ABC,abstractmethod\n",
    "class TextReaderAbstract(ABC):\n",
    "    def __init__(self,path,filename):\n",
    "        self.path=path\n",
    "        self.filename=filename\n",
    "    @abstractmethod #this is just an interface or \"RULE\"\n",
    "    def get_path(self):\n",
    "        pass\n",
    "    @abstractmethod\n",
    "    def get_filename(self):\n",
    "        pass"
   ]
  },
  {
   "cell_type": "code",
   "execution_count": 2,
   "id": "6859c5fa",
   "metadata": {},
   "outputs": [],
   "source": [
    "class TextReader(TextReaderAbstract):\n",
    "    def get_path(self):\n",
    "        return self.path\n",
    "    \n",
    "    def get_filename(self):\n",
    "        return self.filename"
   ]
  },
  {
   "cell_type": "code",
   "execution_count": 3,
   "id": "a072a8de",
   "metadata": {},
   "outputs": [],
   "source": [
    "myobj=TextReader(\"/user/download\",\"sample.txt\")"
   ]
  },
  {
   "cell_type": "code",
   "execution_count": 4,
   "id": "4249defa",
   "metadata": {},
   "outputs": [
    {
     "data": {
      "text/plain": [
       "'/user/download'"
      ]
     },
     "execution_count": 4,
     "metadata": {},
     "output_type": "execute_result"
    }
   ],
   "source": [
    "myobj.get_path()"
   ]
  },
  {
   "cell_type": "code",
   "execution_count": 5,
   "id": "8dff4307",
   "metadata": {},
   "outputs": [
    {
     "data": {
      "text/plain": [
       "'sample.txt'"
      ]
     },
     "execution_count": 5,
     "metadata": {},
     "output_type": "execute_result"
    }
   ],
   "source": [
    "myobj.get_filename()"
   ]
  },
  {
   "cell_type": "code",
   "execution_count": 9,
   "id": "ca248283",
   "metadata": {},
   "outputs": [],
   "source": [
    "class Bank(ABC):\n",
    "    @abstractmethod\n",
    "    def get_interest(self):\n",
    "        pass\n",
    "class HDFC(Bank):\n",
    "    def get_interest(self):\n",
    "        return 8.9"
   ]
  },
  {
   "cell_type": "code",
   "execution_count": 10,
   "id": "fe5c388b",
   "metadata": {},
   "outputs": [],
   "source": [
    "myobj = HDFC()"
   ]
  },
  {
   "cell_type": "code",
   "execution_count": 11,
   "id": "81ba1080",
   "metadata": {},
   "outputs": [
    {
     "data": {
      "text/plain": [
       "8.9"
      ]
     },
     "execution_count": 11,
     "metadata": {},
     "output_type": "execute_result"
    }
   ],
   "source": [
    "myobj.get_interest()"
   ]
  },
  {
   "cell_type": "code",
   "execution_count": null,
   "id": "4e8fe040",
   "metadata": {},
   "outputs": [],
   "source": []
  },
  {
   "cell_type": "markdown",
   "id": "bf5be9ba",
   "metadata": {},
   "source": [
    "Predict The Output\n"
   ]
  },
  {
   "cell_type": "code",
   "execution_count": 13,
   "id": "ac34c0ce",
   "metadata": {},
   "outputs": [
    {
     "name": "stdout",
     "output_type": "stream",
     "text": [
      "function 1 called\n"
     ]
    }
   ],
   "source": [
    "from abc import ABC,abstractmethod\n",
    "\n",
    "class A(ABC):\n",
    "\n",
    "    @abstractmethod\n",
    "    def fun1(self):\n",
    "        print('function of class A called')\n",
    "\n",
    "    @abstractmethod\n",
    "    def fun2(self):\n",
    "        pass\n",
    "\n",
    "class B(A):\n",
    "    def fun1(self):\n",
    "        print('function 1 called')\n",
    "    def fun2(self):\n",
    "        print('function 2 called')\n",
    "o = B()\n",
    "o.fun1()"
   ]
  },
  {
   "cell_type": "code",
   "execution_count": 14,
   "id": "c9ae2bc8",
   "metadata": {},
   "outputs": [
    {
     "name": "stdout",
     "output_type": "stream",
     "text": [
      "function of class A called\n"
     ]
    }
   ],
   "source": [
    "from abc import ABC,abstractmethod\n",
    "\n",
    "class A(ABC):\n",
    "\n",
    "    @abstractmethod\n",
    "    def fun1(self):\n",
    "        print('function of class A called')\n",
    "\n",
    "    @abstractmethod\n",
    "    def fun2(self):\n",
    "        pass\n",
    "\n",
    "class B(A):\n",
    "    def fun1(self):\n",
    "        super().fun1()\n",
    "    def fun2(self):\n",
    "        print('function 2 called')\n",
    "o = B()\n",
    "o.fun1()"
   ]
  },
  {
   "cell_type": "code",
   "execution_count": null,
   "id": "55ee30f3",
   "metadata": {},
   "outputs": [],
   "source": []
  }
 ],
 "metadata": {
  "kernelspec": {
   "display_name": "Python 3 (ipykernel)",
   "language": "python",
   "name": "python3"
  },
  "language_info": {
   "codemirror_mode": {
    "name": "ipython",
    "version": 3
   },
   "file_extension": ".py",
   "mimetype": "text/x-python",
   "name": "python",
   "nbconvert_exporter": "python",
   "pygments_lexer": "ipython3",
   "version": "3.9.7"
  }
 },
 "nbformat": 4,
 "nbformat_minor": 5
}
