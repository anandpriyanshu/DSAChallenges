{
 "cells": [
  {
   "cell_type": "code",
   "execution_count": 15,
   "id": "3787ed36",
   "metadata": {},
   "outputs": [],
   "source": [
    "class BinaryTreeNode:\n",
    "    def __init__(self,data):\n",
    "        self.data=data;\n",
    "        self.left=None\n",
    "        self.right=None"
   ]
  },
  {
   "cell_type": "code",
   "execution_count": 16,
   "id": "d8aac56e",
   "metadata": {},
   "outputs": [],
   "source": [
    "def printTree(root):\n",
    "    if root==None:\n",
    "        return\n",
    "    print(root.data)\n",
    "    printTree(root.left)\n",
    "    printTree(root.right)"
   ]
  },
  {
   "cell_type": "code",
   "execution_count": 17,
   "id": "6804104b",
   "metadata": {},
   "outputs": [],
   "source": [
    "\n",
    "def printTreeDetailed(root):\n",
    "    if root==None:\n",
    "        return\n",
    "    print(root.data,end=\":\")\n",
    "    if root.left!=None:\n",
    "        print(\"L\",root.left.data,end=\",\")\n",
    "    if root.right!=None:\n",
    "        print(\"R\",root.right.data,end=\"\")\n",
    "    print()\n",
    "    printTreeDetailed(root.left)\n",
    "    printTreeDetailed(root.right)"
   ]
  },
  {
   "cell_type": "code",
   "execution_count": 18,
   "id": "a3499ce3",
   "metadata": {},
   "outputs": [],
   "source": [
    "def treeInput():\n",
    "    rootData=int(input())\n",
    "    if rootData==-1:\n",
    "        return None\n",
    "    root=BinaryTreeNode(rootData)\n",
    "    leftTree=treeInput()\n",
    "    rightTree=treeInput()\n",
    "    root.left=leftTree\n",
    "    root.right=rightTree\n",
    "    return root\n"
   ]
  },
  {
   "cell_type": "code",
   "execution_count": 19,
   "id": "b928a47b",
   "metadata": {},
   "outputs": [],
   "source": [
    "def numNode(root):\n",
    "    if root == None:\n",
    "        return 0\n",
    "    leftcount = numNode(root.left)\n",
    "    rightcount = numNode(root.right)\n",
    "    return 1 + leftcount + rightcount"
   ]
  },
  {
   "cell_type": "code",
   "execution_count": 20,
   "id": "6b6ccd50",
   "metadata": {},
   "outputs": [],
   "source": [
    "def getsum(root):\n",
    "    if root == None:\n",
    "        return 0\n",
    "    leftsum  = getsum(root.left)  # I can't call root.left.data bcz at last root both(left & right) will be none\n",
    "    rightsum = getsum(root.right)\n",
    "    return root.data + leftsum + rightsum"
   ]
  },
  {
   "cell_type": "code",
   "execution_count": 21,
   "id": "550c2199",
   "metadata": {},
   "outputs": [
    {
     "name": "stdout",
     "output_type": "stream",
     "text": [
      "1\n",
      "2\n",
      "-1\n",
      "-1\n",
      "3\n",
      "-1\n",
      "-1\n",
      "1:L 2,R 3\n",
      "2:\n",
      "3:\n",
      "6\n"
     ]
    }
   ],
   "source": [
    "root = treeInput()\n",
    "printTreeDetailed(root)\n",
    "print(getsum(root))"
   ]
  },
  {
   "cell_type": "code",
   "execution_count": null,
   "id": "dd415e64",
   "metadata": {},
   "outputs": [],
   "source": []
  }
 ],
 "metadata": {
  "kernelspec": {
   "display_name": "Python 3 (ipykernel)",
   "language": "python",
   "name": "python3"
  },
  "language_info": {
   "codemirror_mode": {
    "name": "ipython",
    "version": 3
   },
   "file_extension": ".py",
   "mimetype": "text/x-python",
   "name": "python",
   "nbconvert_exporter": "python",
   "pygments_lexer": "ipython3",
   "version": "3.9.7"
  }
 },
 "nbformat": 4,
 "nbformat_minor": 5
}
