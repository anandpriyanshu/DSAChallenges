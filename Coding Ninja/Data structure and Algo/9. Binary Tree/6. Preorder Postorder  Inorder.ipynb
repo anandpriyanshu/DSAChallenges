{
 "cells": [
  {
   "cell_type": "markdown",
   "id": "a7c674dc",
   "metadata": {},
   "source": [
    "### PreOrder"
   ]
  },
  {
   "cell_type": "code",
   "execution_count": 1,
   "id": "5ffe3363",
   "metadata": {},
   "outputs": [],
   "source": [
    "class BinaryTreeNode:\n",
    "    def __init__(self,data):\n",
    "        self.data=data;\n",
    "        self.left=None\n",
    "        self.right=None"
   ]
  },
  {
   "cell_type": "code",
   "execution_count": 2,
   "id": "bc61dd17",
   "metadata": {},
   "outputs": [],
   "source": [
    "def printTree(root):\n",
    "    if root==None:\n",
    "        return\n",
    "    print(root.data,end = ' ')\n",
    "    printTree(root.left)\n",
    "    printTree(root.right)"
   ]
  },
  {
   "cell_type": "code",
   "execution_count": 3,
   "id": "0b466c97",
   "metadata": {},
   "outputs": [],
   "source": [
    "\n",
    "def printTreeDetailed(root):\n",
    "    if root==None:\n",
    "        return\n",
    "    print(root.data,end=\":\")\n",
    "    if root.left!=None:\n",
    "        print(\"L\",root.left.data,end=\",\")\n",
    "    if root.right!=None:\n",
    "        print(\"R\",root.right.data,end=\"\")\n",
    "    print()\n",
    "    printTreeDetailed(root.left)\n",
    "    printTreeDetailed(root.right)"
   ]
  },
  {
   "cell_type": "code",
   "execution_count": 4,
   "id": "6213f405",
   "metadata": {},
   "outputs": [],
   "source": [
    "def treeInput():\n",
    "    rootData=int(input())\n",
    "    if rootData==-1:\n",
    "        return None\n",
    "    root=BinaryTreeNode(rootData)\n",
    "    leftTree=treeInput()\n",
    "    rightTree=treeInput()\n",
    "    root.left=leftTree\n",
    "    root.right=rightTree\n",
    "    return root\n"
   ]
  },
  {
   "cell_type": "code",
   "execution_count": 5,
   "id": "9e96c392",
   "metadata": {},
   "outputs": [
    {
     "name": "stdout",
     "output_type": "stream",
     "text": [
      "1\n",
      "2\n",
      "4\n",
      "-1\n",
      "-1\n",
      "5\n",
      "-1\n",
      "-1\n",
      "3\n",
      "6\n",
      "-1\n",
      "-1\n",
      "7\n",
      "-1\n",
      "-1\n",
      "1 2 4 5 3 6 7 "
     ]
    }
   ],
   "source": [
    "root = treeInput()\n",
    "printTree(root)"
   ]
  },
  {
   "cell_type": "markdown",
   "id": "fa850f9e",
   "metadata": {},
   "source": [
    "### PostOrder"
   ]
  },
  {
   "cell_type": "code",
   "execution_count": 12,
   "id": "ff3c93f6",
   "metadata": {},
   "outputs": [],
   "source": [
    "class BinaryTreeNode:\n",
    "    def __init__(self,data):\n",
    "        self.data=data;\n",
    "        self.left=None\n",
    "        self.right=None"
   ]
  },
  {
   "cell_type": "code",
   "execution_count": 13,
   "id": "edbcd064",
   "metadata": {},
   "outputs": [],
   "source": [
    "def printTree(root):\n",
    "    if root==None:\n",
    "        return\n",
    "    \n",
    "    printTree(root.left)\n",
    "    printTree(root.right)\n",
    "    print(root.data,end = ' ')"
   ]
  },
  {
   "cell_type": "code",
   "execution_count": 14,
   "id": "084c459c",
   "metadata": {},
   "outputs": [],
   "source": [
    "def postorder( node, post):\n",
    "        if node is None:\n",
    "            return\n",
    "        \n",
    "        postorder(node.left, post)\n",
    "        postorder(node.right, post)\n",
    "        post.append(node.data)\n",
    "\n",
    "def postorderTraversal(root):\n",
    "    post = []\n",
    "    postorder(root, post)\n",
    "    return post"
   ]
  },
  {
   "cell_type": "code",
   "execution_count": 15,
   "id": "4702b7a4",
   "metadata": {},
   "outputs": [],
   "source": [
    "\n",
    "def printTreeDetailed(root):\n",
    "    if root==None:\n",
    "        return\n",
    "    print(root.data,end=\":\")\n",
    "    if root.left!=None:\n",
    "        print(\"L\",root.left.data,end=\",\")\n",
    "    if root.right!=None:\n",
    "        print(\"R\",root.right.data,end=\"\")\n",
    "    print()\n",
    "    printTreeDetailed(root.left)\n",
    "    printTreeDetailed(root.right)"
   ]
  },
  {
   "cell_type": "code",
   "execution_count": 16,
   "id": "6206eb97",
   "metadata": {},
   "outputs": [],
   "source": [
    "def treeInput():\n",
    "    rootData=int(input())\n",
    "    if rootData==-1:\n",
    "        return None\n",
    "    root=BinaryTreeNode(rootData)\n",
    "    leftTree=treeInput()\n",
    "    rightTree=treeInput()\n",
    "    root.left=leftTree\n",
    "    root.right=rightTree\n",
    "    return root\n"
   ]
  },
  {
   "cell_type": "code",
   "execution_count": 12,
   "id": "5f96c15a",
   "metadata": {},
   "outputs": [
    {
     "name": "stdout",
     "output_type": "stream",
     "text": [
      "1\n",
      "2\n",
      "4\n",
      "-1\n",
      "-1\n",
      "5\n",
      "-1\n",
      "-1\n",
      "3\n",
      "6\n",
      "-1\n",
      "-1\n",
      "7\n",
      "-1\n",
      "-1\n",
      "4 5 2 6 7 3 1 "
     ]
    }
   ],
   "source": [
    "root = treeInput()\n",
    "printTree(root)"
   ]
  },
  {
   "cell_type": "code",
   "execution_count": 19,
   "id": "860e20f4",
   "metadata": {},
   "outputs": [
    {
     "name": "stdout",
     "output_type": "stream",
     "text": [
      "1\n",
      "2\n",
      "4\n",
      "-1\n",
      "-1\n",
      "5\n",
      "-1\n",
      "-1\n",
      "3\n",
      "-1\n",
      "-1\n"
     ]
    },
    {
     "data": {
      "text/plain": [
       "[4, 5, 2, 3, 1]"
      ]
     },
     "execution_count": 19,
     "metadata": {},
     "output_type": "execute_result"
    }
   ],
   "source": [
    "root = treeInput()\n",
    "postorderTraversal(root)"
   ]
  },
  {
   "cell_type": "markdown",
   "id": "3f2103b8",
   "metadata": {},
   "source": [
    "### Inorder"
   ]
  },
  {
   "cell_type": "code",
   "execution_count": 13,
   "id": "5e5c875f",
   "metadata": {},
   "outputs": [],
   "source": [
    "class BinaryTreeNode:\n",
    "    def __init__(self,data):\n",
    "        self.data=data;\n",
    "        self.left=None\n",
    "        self.right=None"
   ]
  },
  {
   "cell_type": "code",
   "execution_count": 14,
   "id": "9de8cc6a",
   "metadata": {},
   "outputs": [],
   "source": [
    "def printTree(root):\n",
    "    if root==None:\n",
    "        return\n",
    "    printTree(root.left)\n",
    "    print(root.data,end = ' ')\n",
    "    printTree(root.right)\n",
    "    "
   ]
  },
  {
   "cell_type": "code",
   "execution_count": 15,
   "id": "af61cc23",
   "metadata": {},
   "outputs": [],
   "source": [
    "def treeInput():\n",
    "    rootData=int(input())\n",
    "    if rootData==-1:\n",
    "        return None\n",
    "    root=BinaryTreeNode(rootData)\n",
    "    leftTree=treeInput()\n",
    "    rightTree=treeInput()\n",
    "    root.left=leftTree\n",
    "    root.right=rightTree\n",
    "    return root\n"
   ]
  },
  {
   "cell_type": "code",
   "execution_count": 18,
   "id": "56e711fe",
   "metadata": {},
   "outputs": [
    {
     "name": "stdout",
     "output_type": "stream",
     "text": [
      "1\n",
      "2\n",
      "4\n",
      "-1\n",
      "-1\n",
      "5\n",
      "-1\n",
      "-1\n",
      "3\n",
      "6\n",
      "-1\n",
      "-1\n",
      "7\n",
      "-1\n",
      "-1\n",
      "4 2 5 1 6 3 7 "
     ]
    }
   ],
   "source": [
    "root = treeInput()\n",
    "printTree(root)"
   ]
  },
  {
   "cell_type": "code",
   "execution_count": null,
   "id": "29b04c08",
   "metadata": {},
   "outputs": [],
   "source": []
  }
 ],
 "metadata": {
  "kernelspec": {
   "display_name": "Python 3 (ipykernel)",
   "language": "python",
   "name": "python3"
  },
  "language_info": {
   "codemirror_mode": {
    "name": "ipython",
    "version": 3
   },
   "file_extension": ".py",
   "mimetype": "text/x-python",
   "name": "python",
   "nbconvert_exporter": "python",
   "pygments_lexer": "ipython3",
   "version": "3.9.7"
  }
 },
 "nbformat": 4,
 "nbformat_minor": 5
}
