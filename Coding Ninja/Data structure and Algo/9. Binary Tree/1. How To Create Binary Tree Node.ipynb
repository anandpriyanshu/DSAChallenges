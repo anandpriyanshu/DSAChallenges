{
 "cells": [
  {
   "cell_type": "code",
   "execution_count": 2,
   "id": "542e32a8",
   "metadata": {},
   "outputs": [],
   "source": [
    "class BinaryTreeNode:\n",
    "    \n",
    "    def __init__(self,data):        # I need to pass data whenever creating new node. withput data we can't creat node.\n",
    "        self.data = data\n",
    "        self.left = None            # intiallly node has no children \n",
    "        self.right = None           # intiallly node has no children "
   ]
  },
  {
   "cell_type": "code",
   "execution_count": 5,
   "id": "a1feff9e",
   "metadata": {},
   "outputs": [],
   "source": [
    "#till this point they are connected to each other\n",
    "btn1 = BinaryTreeNode(1)\n",
    "btn2 = BinaryTreeNode(2)\n",
    "btn3 = BinaryTreeNode(3)"
   ]
  },
  {
   "cell_type": "code",
   "execution_count": 6,
   "id": "c8e336c8",
   "metadata": {},
   "outputs": [],
   "source": [
    "# Now connected in the tree form\n",
    "btn1.left = btn2\n",
    "btn1.right = btn3"
   ]
  },
  {
   "cell_type": "code",
   "execution_count": null,
   "id": "79f8128b",
   "metadata": {},
   "outputs": [],
   "source": []
  }
 ],
 "metadata": {
  "kernelspec": {
   "display_name": "Python 3 (ipykernel)",
   "language": "python",
   "name": "python3"
  },
  "language_info": {
   "codemirror_mode": {
    "name": "ipython",
    "version": 3
   },
   "file_extension": ".py",
   "mimetype": "text/x-python",
   "name": "python",
   "nbconvert_exporter": "python",
   "pygments_lexer": "ipython3",
   "version": "3.9.7"
  }
 },
 "nbformat": 4,
 "nbformat_minor": 5
}
