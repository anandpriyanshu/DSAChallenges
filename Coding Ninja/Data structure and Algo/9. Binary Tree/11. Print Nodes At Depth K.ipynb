{
 "cells": [
  {
   "cell_type": "code",
   "execution_count": 1,
   "id": "13b62a69",
   "metadata": {},
   "outputs": [],
   "source": [
    "class BinaryTreeNode:\n",
    "    def __init__(self,data):\n",
    "        self.data=data;\n",
    "        self.left=None\n",
    "        self.right=None"
   ]
  },
  {
   "cell_type": "code",
   "execution_count": 2,
   "id": "92ccc642",
   "metadata": {},
   "outputs": [],
   "source": [
    "def printTree(root):\n",
    "    if root==None:\n",
    "        return\n",
    "    printTree(root.left)\n",
    "    print(root.data,end = ' ')\n",
    "    \n",
    "    printTree(root.right)"
   ]
  },
  {
   "cell_type": "code",
   "execution_count": 3,
   "id": "957df80e",
   "metadata": {},
   "outputs": [],
   "source": [
    "def printTreeDetailed(root):\n",
    "    if root==None:\n",
    "        return\n",
    "    print(root.data,end=\":\")\n",
    "    if root.left!=None:\n",
    "        print(\"L\",root.left.data,end=\",\")\n",
    "    if root.right!=None:\n",
    "        print(\"R\",root.right.data,end=\"\")\n",
    "    print()\n",
    "    printTreeDetailed(root.left)\n",
    "    printTreeDetailed(root.right)"
   ]
  },
  {
   "cell_type": "code",
   "execution_count": 4,
   "id": "e3f45ad2",
   "metadata": {},
   "outputs": [],
   "source": [
    "def treeInput():\n",
    "    rootData=int(input())\n",
    "    if rootData==-1:\n",
    "        return None\n",
    "    root=BinaryTreeNode(rootData)\n",
    "    leftTree=treeInput()\n",
    "    rightTree=treeInput()\n",
    "    root.left=leftTree\n",
    "    root.right=rightTree\n",
    "    return root"
   ]
  },
  {
   "cell_type": "code",
   "execution_count": 5,
   "id": "ca0f9abf",
   "metadata": {},
   "outputs": [],
   "source": [
    "def PrintNodesAtdepthK(root,k):\n",
    "    if root == None:      #there is no root\n",
    "        return  \n",
    "    if k == 0:              # k decreasing downward and after some time k == 0\n",
    "        print(root.data)   \n",
    "        return\n",
    "    PrintNodesAtdepthK(root.left,k-1)   # k decreasing downward \n",
    "    PrintNodesAtdepthK(root.right,k-1)"
   ]
  },
  {
   "cell_type": "code",
   "execution_count": 11,
   "id": "1770d35a",
   "metadata": {},
   "outputs": [],
   "source": [
    "def PrintNodesAtdepthKV2(root,k,d=0):   # d = depth, by default d==0\n",
    "    if root == None:\n",
    "        return\n",
    "    if k == d:\n",
    "        print(root.data)\n",
    "        return\n",
    "    PrintNodesAtdepthKV2(root.left,k,d+1)\n",
    "    PrintNodesAtdepthKV2(root.right,k,d+1)"
   ]
  },
  {
   "cell_type": "code",
   "execution_count": 12,
   "id": "fb9400cc",
   "metadata": {},
   "outputs": [
    {
     "name": "stdout",
     "output_type": "stream",
     "text": [
      "1\n",
      "2\n",
      "4\n",
      "-1\n",
      "-1\n",
      "5\n",
      "-1\n",
      "-1\n",
      "3\n",
      "-1\n",
      "-1\n",
      "1:L 2,R 3\n",
      "2:L 4,R 5\n",
      "4:\n",
      "5:\n",
      "3:\n",
      "2\n",
      "3\n"
     ]
    }
   ],
   "source": [
    "root = treeInput()\n",
    "printTreeDetailed(root)\n",
    "PrintNodesAtdepthKV2(root,1)        # ther are three(4,5,6) nodes at 2nd level"
   ]
  },
  {
   "cell_type": "code",
   "execution_count": null,
   "id": "f1145d69",
   "metadata": {},
   "outputs": [],
   "source": []
  }
 ],
 "metadata": {
  "kernelspec": {
   "display_name": "Python 3 (ipykernel)",
   "language": "python",
   "name": "python3"
  },
  "language_info": {
   "codemirror_mode": {
    "name": "ipython",
    "version": 3
   },
   "file_extension": ".py",
   "mimetype": "text/x-python",
   "name": "python",
   "nbconvert_exporter": "python",
   "pygments_lexer": "ipython3",
   "version": "3.9.7"
  }
 },
 "nbformat": 4,
 "nbformat_minor": 5
}
