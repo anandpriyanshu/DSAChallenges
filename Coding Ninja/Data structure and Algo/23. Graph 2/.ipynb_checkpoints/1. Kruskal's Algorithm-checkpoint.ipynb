{
 "cells": [
  {
   "cell_type": "code",
   "execution_count": 6,
   "id": "c1979043",
   "metadata": {},
   "outputs": [
    {
     "name": "stdout",
     "output_type": "stream",
     "text": [
      "4 4 \n",
      "0 1 2\n",
      "1 3 3\n",
      "0 2 5\n",
      "2 3 5\n",
      "0 1 2\n",
      "1 3 3\n",
      "0 2 5\n"
     ]
    }
   ],
   "source": [
    "class Edge:\n",
    "    def __init__(self,src,dest,wt):\n",
    "        self.src=src\n",
    "        self.dest=dest\n",
    "        self.wt=wt\n",
    "\n",
    "def getParent(v,parent):\n",
    "    if (v==parent[v]):\n",
    "        return v\n",
    "    return getParent(parent[v],parent)\n",
    "def kruskal(edges,nVertices):\n",
    "    parent=[i for i in range(nVertices)]\n",
    "    edges=sorted(edges,key=lambda edge:edge.wt)    # lambda fun gives the access of object. access of edge on the basis of wt\n",
    "    count=0\n",
    "    \n",
    "    output=[]                          #how many edge put in the output means is minimum spinning tree\n",
    "    i=0\n",
    "    while count<(nVertices-1):      # if n vertices then number of edges are  n-1 and pick n-1 edges to form MST.\n",
    "        currentEdge=edges[i]\n",
    "        srcParent=getParent(currentEdge.src,parent)\n",
    "        destParent=getParent(currentEdge.dest,parent)\n",
    "        \n",
    "        if srcParent!=destParent:\n",
    "            output.append(currentEdge)\n",
    "            count+=1\n",
    "            parent[srcParent]=destParent     # source parent value equal to a destination parent\n",
    "        i+=1\n",
    "        \n",
    "    return output\n",
    "\n",
    "li=[int(ele) for ele in input().split()]\n",
    "n=li[0]\n",
    "E=li[1]\n",
    "edges=[]\n",
    "\n",
    "for i in range(E):\n",
    "    curr_input=[int(ele) for ele in input().split()]\n",
    "    src=curr_input[0]\n",
    "    dest=curr_input[1]\n",
    "    wt=curr_input[2]\n",
    "    edge=Edge(src,dest,wt)\n",
    "    edges.append(edge)\n",
    "output=kruskal(edges,n)\n",
    "for edge in output:\n",
    "    if edge.src<edge.dest:           # means v1<v2\n",
    "        print(str(edge.src)+\" \"+str(edge.dest)+\" \"+str(edge.wt))\n",
    "    else:\n",
    "        print(str(edge.dest)+\" \"+str(edge.src)+\" \"+str(edge.wt))\n",
    "    "
   ]
  },
  {
   "cell_type": "code",
   "execution_count": null,
   "id": "4c1255ac",
   "metadata": {},
   "outputs": [],
   "source": []
  }
 ],
 "metadata": {
  "kernelspec": {
   "display_name": "Python 3 (ipykernel)",
   "language": "python",
   "name": "python3"
  },
  "language_info": {
   "codemirror_mode": {
    "name": "ipython",
    "version": 3
   },
   "file_extension": ".py",
   "mimetype": "text/x-python",
   "name": "python",
   "nbconvert_exporter": "python",
   "pygments_lexer": "ipython3",
   "version": "3.9.7"
  }
 },
 "nbformat": 4,
 "nbformat_minor": 5
}
