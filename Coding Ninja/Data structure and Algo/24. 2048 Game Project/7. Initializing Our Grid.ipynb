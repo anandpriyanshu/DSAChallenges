{
 "cells": [
  {
   "cell_type": "code",
   "execution_count": null,
   "id": "697b5eb8",
   "metadata": {},
   "outputs": [],
   "source": [
    "from Tkinter import Frame, Label, Center    # tkinter is a grid managr\n",
    "\n",
    "import LogicsFinal\n",
    "import constants as c\n",
    "# till only create the frame and nothing is added till this point\n",
    "class Gams2048(Frame):    # Inherit Frame classs in game \n",
    "    def __init__(self):     \n",
    "        Frame.__init__(self)      # Frame initiliaze\n",
    "        self.grid()                  # visualize frame as a grid\n",
    "        self.master.title('2048')      \n",
    "        self.master.bind('<Key>', self.key_down)     # press any key bind with keydown function\n",
    "        self.commands = {c.KEY_UP : LogicsFinal.move_up, c.KEY_DOWN:LogicsFinal.move_down, \n",
    "                         c.KEY_LEFT:LogicsFinal.move_left,c.KEY_RIGHT:LogicsFinal.move_right}\n",
    "        \n",
    "        # added in the frame by using some function\n",
    "        self.grid_cells = []     # intially grid is empty\n",
    "        self.init_grid()         # intialize the grid\n",
    "        self.init_matrix()       # intilaize the matrix functionb means add 2 in matrix\n",
    "        self.update_grid_cells()   # maintain the matrix accoring to matrix make changes in UI\n",
    "        self.mainloop()               # now we can start the game \n",
    "        \n",
    "    def init_grid(self):\n",
    "        background = Frame(self, bg = c.BACKGROUND_COLOR_GAME,    # create frame inside frame\n",
    "                           width = c.SIZE,height = c.SIZE)\n",
    "        background.grid()    # frame as a grid\n",
    "        \n",
    "        for i in range(c.GRID_LEN):\n",
    "            grid_row = []   \n",
    "            for j in range(c.GRID_LEN):\n",
    "                cell = Frame(backgroundground,bg = c.BACKGROUND_COLOR_CELL_EMPTY,      #inside frame there is cell\n",
    "                            width = c.SIZE/GRID_LEN,\n",
    "                            height = c.SIZE/GRID_LEN)\n",
    "                cell.grid(row=i,column = j, padx = c.GRID_PADDING,     # cell visualize as grid and cell with padding \n",
    "                          pady = c.GRID_PADDING)\n",
    "                t = Label(master = cell,text = '',             # inside cell there is a lebel i =n which texts are present\n",
    "                          bg = c.BACKGROUND_COLOR_CELL_EMPTY,\n",
    "                         justify = CENTER, font = c.FONT,width=5, height=2)\n",
    "                t.grid()           # lebel as a grid\n",
    "                grid_row.append(t)               # all the lebel are appended inti the grid row like [l1,l2,l3.....l16]\n",
    "            self.grid_cells.append(grid_row)  # append grid rows in grid cells like [[l1,l2l3,l4],[l5,l6,l7,l8]........l16]"
   ]
  }
 ],
 "metadata": {
  "kernelspec": {
   "display_name": "Python 3 (ipykernel)",
   "language": "python",
   "name": "python3"
  },
  "language_info": {
   "codemirror_mode": {
    "name": "ipython",
    "version": 3
   },
   "file_extension": ".py",
   "mimetype": "text/x-python",
   "name": "python",
   "nbconvert_exporter": "python",
   "pygments_lexer": "ipython3",
   "version": "3.9.7"
  }
 },
 "nbformat": 4,
 "nbformat_minor": 5
}
