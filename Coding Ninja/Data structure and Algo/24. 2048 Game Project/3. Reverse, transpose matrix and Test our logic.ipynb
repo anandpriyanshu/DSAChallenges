{
 "cells": [
  {
   "cell_type": "code",
   "execution_count": 1,
   "id": "42eaed43",
   "metadata": {},
   "outputs": [],
   "source": [
    "import random\n",
    "def start_game():\n",
    "    mat = []               #intially create matrix\n",
    "    for i in range(4):      # for 0 to 3 index\n",
    "        mat.append([0]*4)    # intialize 4*4 matrix with  all the elements zero, it's a matrix of matrix\n",
    "    return mat\n",
    "\n",
    "def add_new_2(mat):\n",
    "    row = random.randint(0,3)    \n",
    "    col = random.randint(0,3) \n",
    "    while (mat[row][col] !=0):        # Till row and col are not empty\n",
    "        row = random.randint(0,3)     # then  put randomly integar in row 0 to 3 index\n",
    "        col = random.randint(0,3)     # then  put randomly integar in col 0 to 3 index \n",
    "    mat[row][col]=2                   # when row and col are empty then simply put 2 at that row and col\n",
    "    \n",
    "def reverse(mat):\n",
    "    new_mat = []\n",
    "    for i in range(4):\n",
    "        new_mat.append([])      # like [[],[],[],[]]\n",
    "        for j in range(4):\n",
    "            new_mat[i].append(mat[i][4-j-1])   #reverse for 0 to 3,1 to 2,2 to 1,3 to 0 \n",
    "    return new_mat\n",
    "\n",
    "def transpose(mat):\n",
    "    new_mat = []\n",
    "    for i in range(4):\n",
    "        new_mat.append([])\n",
    "        for j in range(4):\n",
    "            new_mat[i].append(mat[j][i])   # in transpose [i][j] --> [j][i]\n",
    "    return new_mat\n",
    "\n",
    "def merge(mat):\n",
    "    for i in range(4):\n",
    "        for j in range(3):   #bcz if j == 4 then j is out of matrix bcz compair b/w j and j+1\n",
    "            if mat[i][j] == mat[i][j+1] and mat[i][j]!=0:    # for 0 0 we are not doing only for non zero\n",
    "                mat[i][j] = mat[i][j]*2 # after merge it'll 2 times\n",
    "                mat[i][j+1] = 0 #after merge j+1 terms will be zero(empty)\n",
    "    return mat            \n",
    "                \n",
    "def compresssion(mat): # in this fun lastly all the non zero ele left side and all zero to the right side  \n",
    "    new_mat = []\n",
    "    for i in range(4):\n",
    "        new_mat.append([0]*4)   # new matrix with all the element with zero\n",
    "        \n",
    "    for i in range(4):\n",
    "        pos = 0                     #initially pos at zero \n",
    "        for j in range(4):\n",
    "            if mat[i][j] != 0:      # if mat[i][j] == 0 then j +=1 but pos is constant\n",
    "                new_mat[i][pos] = mat[i][j]   #value of mat[i][j] is assigned to new_mat[i][pos] a the position and row is same          \n",
    "                pos+=1\n",
    "    return new_mat\n",
    "\n",
    "def move_down(grid):\n",
    "    transposed_grid = transpose(grid)\n",
    "    reversed_grid = reverse(transposed_grid)\n",
    "    new_grid = compresssion(reversed_grid)\n",
    "    new_grid = merge(new_grid)\n",
    "    new_grid = compresssion(new_grid)\n",
    "    final_reversed_grid = reverse(new_grid)\n",
    "    final_grid = transpose(final_reversed_grid)\n",
    "    return final_grid\n",
    "    \n",
    "    \n",
    "def move_up(grid):\n",
    "    transposed_grid = transpose(grid)\n",
    "    new_grid = compresssion(transposed_grid)\n",
    "    new_grid = merge(new_grid)\n",
    "    new_grid = compresssion(new_grid)\n",
    "    final_grid = transpose(new_grid)\n",
    "    return final_grid\n",
    "    \n",
    "def move_right(grid):\n",
    "    reversed_grid = reverse(grid)\n",
    "    new_grid = compresssion(reversed_grid)\n",
    "    new_grid = merge(new_grid)\n",
    "    new_grid = compresssion(new_grid)\n",
    "    final_grid = reverse(new_grid)\n",
    "    return final_grid\n",
    "    \n",
    "def move_left(grid):\n",
    "    new_grid = compresssion(grid)\n",
    "    new_grid = merge(grid)\n",
    "    new_grid = compresssion(new_grid)\n",
    "    return new_grid\n",
    "\n",
    "def get_current_state(mat):\n",
    "    #anywhere 2048 is present\n",
    "    for i in range(4):\n",
    "        for j in range(4):\n",
    "            if mat[i][j] == 2048:\n",
    "                return 'WON'\n",
    "    #anywhere 0 is present       \n",
    "    for i in range(4):\n",
    "        for j in range(4):\n",
    "            if mat[i][j] == 0:\n",
    "                return 'GAME NOT OVER'\n",
    "    #every row and  col except last row and last col\n",
    "    for i in range(3):  # for  row 0 1 2\n",
    "        for j in range(3): #for col 0 1 2\n",
    "            if (mat[i][j] == mat[i+1][j] or mat[i][j] == mat[i][j+1]):\n",
    "                return 'GAME NOT OVER'\n",
    "    #last row        \n",
    "    for j in range(3): #row is fixed\n",
    "        if mat[3][j] == mat[3][j+1]:\n",
    "            return 'GAME NOT OVER'\n",
    "    #last col   \n",
    "    for i in range(3): # col is fixed\n",
    "        if mat[i][3] == mat[i+1][3]:\n",
    "            return 'GAME NOT OVER'\n",
    "        \n",
    "    return 'LOST'    \n",
    "        "
   ]
  },
  {
   "cell_type": "code",
   "execution_count": 2,
   "id": "59e97ce5",
   "metadata": {},
   "outputs": [
    {
     "name": "stdout",
     "output_type": "stream",
     "text": [
      "[[0, 0, 0, 0], [0, 0, 0, 0], [0, 0, 0, 0], [0, 0, 0, 0]]\n"
     ]
    }
   ],
   "source": [
    "mat = start_game()\n",
    "print(mat)"
   ]
  },
  {
   "cell_type": "code",
   "execution_count": 3,
   "id": "6a8ed084",
   "metadata": {},
   "outputs": [
    {
     "name": "stdout",
     "output_type": "stream",
     "text": [
      "[[0, 0, 0, 0], [0, 0, 0, 2], [0, 0, 0, 0], [0, 0, 0, 0]]\n"
     ]
    }
   ],
   "source": [
    "add_new_2(mat)\n",
    "print(mat)"
   ]
  },
  {
   "cell_type": "code",
   "execution_count": 4,
   "id": "970350e8",
   "metadata": {},
   "outputs": [
    {
     "name": "stdout",
     "output_type": "stream",
     "text": [
      "[[0, 0, 2, 0], [0, 0, 0, 2], [0, 0, 0, 0], [0, 0, 0, 0]]\n"
     ]
    }
   ],
   "source": [
    "add_new_2(mat)\n",
    "print(mat)"
   ]
  },
  {
   "cell_type": "code",
   "execution_count": 5,
   "id": "d8bf95ac",
   "metadata": {},
   "outputs": [
    {
     "name": "stdout",
     "output_type": "stream",
     "text": [
      "[[0, 0, 2, 2], [0, 0, 0, 0], [0, 0, 0, 0], [0, 0, 0, 0]]\n"
     ]
    }
   ],
   "source": [
    "mat = move_up(mat)\n",
    "print(mat)"
   ]
  },
  {
   "cell_type": "code",
   "execution_count": 6,
   "id": "c6e6c7f3",
   "metadata": {},
   "outputs": [
    {
     "name": "stdout",
     "output_type": "stream",
     "text": [
      "[[0, 0, 0, 4], [0, 0, 0, 0], [0, 0, 0, 0], [0, 0, 0, 0]]\n"
     ]
    }
   ],
   "source": [
    "mat = move_right(mat)\n",
    "print(mat)"
   ]
  },
  {
   "cell_type": "code",
   "execution_count": 7,
   "id": "2f8cf896",
   "metadata": {},
   "outputs": [
    {
     "name": "stdout",
     "output_type": "stream",
     "text": [
      "[[0, 0, 0, 4], [0, 0, 0, 0], [2, 0, 0, 0], [0, 0, 0, 0]]\n"
     ]
    }
   ],
   "source": [
    "add_new_2(mat)\n",
    "print(mat)"
   ]
  },
  {
   "cell_type": "code",
   "execution_count": 8,
   "id": "57c998ba",
   "metadata": {},
   "outputs": [
    {
     "name": "stdout",
     "output_type": "stream",
     "text": [
      "[[0, 0, 0, 0], [0, 0, 0, 0], [0, 0, 0, 0], [2, 0, 0, 4]]\n"
     ]
    }
   ],
   "source": [
    "mat = move_down(mat)\n",
    "print(mat)"
   ]
  },
  {
   "cell_type": "code",
   "execution_count": 9,
   "id": "f3c901c1",
   "metadata": {},
   "outputs": [
    {
     "name": "stdout",
     "output_type": "stream",
     "text": [
      "[[0, 0, 0, 0], [0, 0, 0, 0], [0, 0, 2, 0], [2, 0, 0, 4]]\n"
     ]
    }
   ],
   "source": [
    "add_new_2(mat)\n",
    "print(mat)"
   ]
  },
  {
   "cell_type": "code",
   "execution_count": 10,
   "id": "4aa509af",
   "metadata": {},
   "outputs": [
    {
     "name": "stdout",
     "output_type": "stream",
     "text": [
      "[[0, 0, 0, 0], [0, 0, 0, 0], [2, 0, 0, 0], [2, 4, 0, 0]]\n"
     ]
    }
   ],
   "source": [
    "mat = move_left(mat)\n",
    "print(mat)"
   ]
  },
  {
   "cell_type": "code",
   "execution_count": 11,
   "id": "eb3fd7e4",
   "metadata": {},
   "outputs": [
    {
     "name": "stdout",
     "output_type": "stream",
     "text": [
      "[[0, 0, 0, 0], [0, 0, 0, 0], [0, 0, 0, 0], [4, 4, 0, 0]]\n"
     ]
    }
   ],
   "source": [
    "mat = move_down(mat)\n",
    "print(mat)"
   ]
  },
  {
   "cell_type": "code",
   "execution_count": null,
   "id": "6252e1d1",
   "metadata": {},
   "outputs": [],
   "source": []
  }
 ],
 "metadata": {
  "kernelspec": {
   "display_name": "Python 3 (ipykernel)",
   "language": "python",
   "name": "python3"
  },
  "language_info": {
   "codemirror_mode": {
    "name": "ipython",
    "version": 3
   },
   "file_extension": ".py",
   "mimetype": "text/x-python",
   "name": "python",
   "nbconvert_exporter": "python",
   "pygments_lexer": "ipython3",
   "version": "3.9.7"
  }
 },
 "nbformat": 4,
 "nbformat_minor": 5
}
