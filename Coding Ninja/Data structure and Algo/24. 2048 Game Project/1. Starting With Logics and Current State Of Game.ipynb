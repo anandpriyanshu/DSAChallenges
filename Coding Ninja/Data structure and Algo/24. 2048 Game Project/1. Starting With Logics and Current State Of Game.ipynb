{
 "cells": [
  {
   "cell_type": "code",
   "execution_count": null,
   "id": "9d9df78e",
   "metadata": {},
   "outputs": [],
   "source": [
    "import random\n",
    "def start_game():\n",
    "    mat = []               #intially create matrix\n",
    "    for i in range(4):      # for 0 to 3 index\n",
    "        mat.append([0]*4)    # intialize 4*4 matrix with  all the elements zero, it's a matrix of matrix\n",
    "    return mat\n",
    "\n",
    "def add_new_2(mat):\n",
    "    row = random.randint(0,3)    \n",
    "    col = random.randint(0,3) \n",
    "    while (mat[row][col] !=0):        # if it is not empty then generate randome integar\n",
    "        row = random.randint(0,3)     # then  put randomly integar in row 0 to 3 index\n",
    "        col = random.randint(0,3)     # then  put randomly integar in col 0 to 3 index \n",
    "    mat[row][col]=2                   # simply apppend 2 at randome position only where row and col is empty  means there is a empty space.\n",
    "    \n",
    "def current_state(mat):\n",
    "    #anywhere 2048 is present\n",
    "    for i in range(4):\n",
    "        for j in range(4):\n",
    "            if mat[i][j] == 2048:\n",
    "                return 'WON'\n",
    "    #anywhere 0 is present       \n",
    "    for i in range(4):\n",
    "        for j in range(4):\n",
    "            if mat[i][j] == 0:\n",
    "                return 'GAME NOT OVER'\n",
    "    #every row and  col except last row and last col\n",
    "    for i in range(3):  # for  row 0 1 2\n",
    "        for j in range(3): #for col 0 1 2\n",
    "            if (mat[i][j] == mat[i+1][j] or mat[i][j] == mat[i][j+1]):\n",
    "                return 'GAME NOT OVER'\n",
    "    #last row        \n",
    "    for j in range(3): #row is fixed\n",
    "        if mat[3][j] == mat[3][j+1]:\n",
    "            return 'GAME NOT OVER'\n",
    "    #last col   \n",
    "    for i in range(3): # col is fixed\n",
    "        if mat[i][3] == mat[i+1][3]:\n",
    "            return 'GAME NOT OVER'\n",
    "        \n",
    "    return 'LOST'    \n",
    "        "
   ]
  }
 ],
 "metadata": {
  "kernelspec": {
   "display_name": "Python 3 (ipykernel)",
   "language": "python",
   "name": "python3"
  },
  "language_info": {
   "codemirror_mode": {
    "name": "ipython",
    "version": 3
   },
   "file_extension": ".py",
   "mimetype": "text/x-python",
   "name": "python",
   "nbconvert_exporter": "python",
   "pygments_lexer": "ipython3",
   "version": "3.9.7"
  }
 },
 "nbformat": 4,
 "nbformat_minor": 5
}
