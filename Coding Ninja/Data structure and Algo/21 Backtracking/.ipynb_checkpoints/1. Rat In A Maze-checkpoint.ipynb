{
 "cells": [
  {
   "cell_type": "code",
   "execution_count": null,
   "id": "1e27ec16",
   "metadata": {},
   "outputs": [
    {
     "name": "stdout",
     "output_type": "stream",
     "text": [
      "4\n",
      "1 1 1 1 \n",
      "1 0 1 1\n",
      "1 1 0 1\n",
      "1 1 1 1\n"
     ]
    }
   ],
   "source": [
    "def printPathHelper(x,y,maze,n,solution):\n",
    "    if x==n-1 and y==n-1:   # at right last corner\n",
    "        solution[x][y]=1\n",
    "        print(solution)\n",
    "        return\n",
    "    \n",
    "    if x<0 or y<0 or x>=n or y>=n or maze[x][y]==0 or solution[x][y]==1:     # breaking point ands in soltion[x][y] bcz not overlap 1 for the different possible path\n",
    "        return\n",
    "    \n",
    "    solution[x][y]==1                      #if not breaking tahn all the element initialize with one(1)\n",
    "    #print(all the possible path)\n",
    "    printPathHelper(x+1,y,maze,n,solution)       # downward\n",
    "    printPathHelper(x,y+1,maze,n,solution)       # rightward\n",
    "    printPathHelper(x-1,y,maze,n,solution)       # leftward\n",
    "    printPathHelper(x,y-1,maze,n,solution)       # upward\n",
    "    solution[x][y]=0     # after priniting the possible poth all the solution matrix element intialize with zero \n",
    "    return\n",
    "def printPath(maze):\n",
    "    n=len(maze)\n",
    "    solution=[[0 for j in range(n)] for i in range(n)]   # we create solution matrix with all the element zero\n",
    "    printPathHelper(0,0,maze,n,solution)\n",
    "    \n",
    "n=int(input())\n",
    "maze=[]\n",
    "for i in range(n):\n",
    "    row=[int(ele) for ele in input().split()]\n",
    "    maze.append(row)\n",
    "    \n",
    "ans = printPath(maze)\n",
    "print(ans)"
   ]
  },
  {
   "cell_type": "code",
   "execution_count": null,
   "id": "b9ac520c",
   "metadata": {},
   "outputs": [],
   "source": []
  }
 ],
 "metadata": {
  "kernelspec": {
   "display_name": "Python 3 (ipykernel)",
   "language": "python",
   "name": "python3"
  },
  "language_info": {
   "codemirror_mode": {
    "name": "ipython",
    "version": 3
   },
   "file_extension": ".py",
   "mimetype": "text/x-python",
   "name": "python",
   "nbconvert_exporter": "python",
   "pygments_lexer": "ipython3",
   "version": "3.9.7"
  }
 },
 "nbformat": 4,
 "nbformat_minor": 5
}
