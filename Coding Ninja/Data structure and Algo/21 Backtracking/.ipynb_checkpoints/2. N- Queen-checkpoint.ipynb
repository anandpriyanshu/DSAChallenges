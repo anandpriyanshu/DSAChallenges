{
 "cells": [
  {
   "cell_type": "code",
   "execution_count": 8,
   "id": "3641f4cb",
   "metadata": {},
   "outputs": [
    {
     "name": "stdout",
     "output_type": "stream",
     "text": [
      "4\n",
      "0 1 0 0 0 0 0 1 1 0 0 0 0 0 1 0 \n",
      "0 0 1 0 1 0 0 0 0 0 0 1 0 1 0 0 \n"
     ]
    }
   ],
   "source": [
    "def isSafe(row,col,board,n):\n",
    "    #vertical...means col is constant and row is decresing\n",
    "    i = row-1\n",
    "    while i>=0:\n",
    "        if board[i][col]==1:   #col is constant only i is change\n",
    "            return False\n",
    "        i-=1\n",
    "    # upper left\n",
    "    i = row-1\n",
    "    j = col-1\n",
    "    while i>=0 and j>=0:\n",
    "        if board[i][j]==1:\n",
    "            return False\n",
    "        i-=1\n",
    "        j-=1\n",
    "    #upper right\n",
    "    i = row-1\n",
    "    j = col+1\n",
    "    while i>=0 and j<n:\n",
    "        if board[i][j]==1:\n",
    "            return False\n",
    "        i-=1\n",
    "        j+=1\n",
    "    return True  \n",
    "\n",
    "def printPathHelper(row,n,board):\n",
    "    if row == n:\n",
    "        for i in range(n):\n",
    "            for j in range(n):\n",
    "                print(board[i][j],end = ' ')\n",
    "        print()\n",
    "        return     \n",
    "     #at current col   \n",
    "    for col in range(n):\n",
    "        if isSafe(row,col,board,n):\n",
    "            board[row][col] = 1  #if safe then initialize all the element in board with 1 \n",
    "            printPathHelper(row+1,n,board)   #after check condition and printpath then start next row \n",
    "            board[row][col]=0                #after p[rintpath initialize all the element with zero as in backtracking]\n",
    "    return         \n",
    "        \n",
    "\n",
    "\n",
    "def printPath(n):\n",
    "    board = [[0 for j in range(n)] for i in range(n)]\n",
    "    printPathHelper(0,n,board)\n",
    "\n",
    "n = int(input())\n",
    "printPath(n)"
   ]
  },
  {
   "cell_type": "code",
   "execution_count": null,
   "id": "a46de809",
   "metadata": {},
   "outputs": [],
   "source": []
  }
 ],
 "metadata": {
  "kernelspec": {
   "display_name": "Python 3 (ipykernel)",
   "language": "python",
   "name": "python3"
  },
  "language_info": {
   "codemirror_mode": {
    "name": "ipython",
    "version": 3
   },
   "file_extension": ".py",
   "mimetype": "text/x-python",
   "name": "python",
   "nbconvert_exporter": "python",
   "pygments_lexer": "ipython3",
   "version": "3.9.7"
  }
 },
 "nbformat": 4,
 "nbformat_minor": 5
}
