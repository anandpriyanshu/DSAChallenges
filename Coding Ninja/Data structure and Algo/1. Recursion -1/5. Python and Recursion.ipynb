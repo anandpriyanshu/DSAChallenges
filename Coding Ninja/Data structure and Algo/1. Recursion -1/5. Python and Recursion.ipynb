{
 "cells": [
  {
   "cell_type": "code",
   "execution_count": 2,
   "id": "fb5039b0",
   "metadata": {},
   "outputs": [],
   "source": [
    "def fact(n):\n",
    "    if n == 0:\n",
    "        return 1\n",
    "    smalloutput = fact(n-1)\n",
    "    return n * smalloutput"
   ]
  },
  {
   "cell_type": "code",
   "execution_count": 3,
   "id": "cd8245cf",
   "metadata": {},
   "outputs": [],
   "source": [
    "import sys             #to increase the size of recursion depth\n",
    "sys.setrecursionlimit(3000)       "
   ]
  },
  {
   "cell_type": "code",
   "execution_count": 4,
   "id": "b0963ab6",
   "metadata": {},
   "outputs": [
    {
     "name": "stdout",
     "output_type": "stream",
     "text": [
      "50\n"
     ]
    },
    {
     "data": {
      "text/plain": [
       "30414093201713378043612608166064768844377641568960512000000000000"
      ]
     },
     "execution_count": 4,
     "metadata": {},
     "output_type": "execute_result"
    }
   ],
   "source": [
    "n = int(input())    \n",
    "fact(n) "
   ]
  },
  {
   "cell_type": "code",
   "execution_count": null,
   "id": "05f43f21",
   "metadata": {},
   "outputs": [],
   "source": []
  }
 ],
 "metadata": {
  "kernelspec": {
   "display_name": "Python 3 (ipykernel)",
   "language": "python",
   "name": "python3"
  },
  "language_info": {
   "codemirror_mode": {
    "name": "ipython",
    "version": 3
   },
   "file_extension": ".py",
   "mimetype": "text/x-python",
   "name": "python",
   "nbconvert_exporter": "python",
   "pygments_lexer": "ipython3",
   "version": "3.9.7"
  }
 },
 "nbformat": 4,
 "nbformat_minor": 5
}
