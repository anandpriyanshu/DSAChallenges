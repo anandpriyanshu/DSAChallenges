{
 "cells": [
  {
   "cell_type": "markdown",
   "id": "f73ca541",
   "metadata": {},
   "source": [
    "### By using copy the smallerlist"
   ]
  },
  {
   "cell_type": "code",
   "execution_count": 4,
   "id": "d22b6c6b",
   "metadata": {},
   "outputs": [],
   "source": [
    "def LastIndex(a,x):\n",
    "    \n",
    "    if len(a) == 0:    # empty list\n",
    "        return -1\n",
    "    smallerList = a[1:]           #planning to check zeroth element later\n",
    "    smallerListouput = LastIndex(smallerList,x)\n",
    "    if smallerListouput != -1:\n",
    "        return smallerListouput + 1\n",
    "    else:\n",
    "        if a[0] == x:           # means smallerListouput  gives -1 then\n",
    "            return 0\n",
    "        else: \n",
    "            return -1\n",
    "        "
   ]
  },
  {
   "cell_type": "code",
   "execution_count": 5,
   "id": "a27d58a0",
   "metadata": {},
   "outputs": [
    {
     "data": {
      "text/plain": [
       "5"
      ]
     },
     "execution_count": 5,
     "metadata": {},
     "output_type": "execute_result"
    }
   ],
   "source": [
    "a = [1,2,3,4,5,4,6,7,8]\n",
    "x = 4\n",
    "LastIndex(a,x)"
   ]
  },
  {
   "cell_type": "markdown",
   "id": "aaccdc29",
   "metadata": {},
   "source": [
    "### By using the same list with start index(si)"
   ]
  },
  {
   "cell_type": "code",
   "execution_count": 8,
   "id": "3d83cda4",
   "metadata": {},
   "outputs": [],
   "source": [
    "def lastIndexB(a,x,si):\n",
    "    l=len(a)\n",
    "    if si==l:\n",
    "        return -1\n",
    "    smallerListOutput=lastIndexB(a,x,si+1)      #first call recursion function then work on zeroth index\n",
    "    if smallerListOutput!=-1:\n",
    "        return smallerListOutput\n",
    "    else:\n",
    "        if a[si]==x:\n",
    "            return si\n",
    "        else:\n",
    "            return -1"
   ]
  },
  {
   "cell_type": "code",
   "execution_count": 9,
   "id": "6e05817b",
   "metadata": {},
   "outputs": [
    {
     "data": {
      "text/plain": [
       "5"
      ]
     },
     "execution_count": 9,
     "metadata": {},
     "output_type": "execute_result"
    }
   ],
   "source": [
    "a = [1,4,5,6,9,4,8,9]\n",
    "x = 4\n",
    "lastIndexB(a,x,0)"
   ]
  },
  {
   "cell_type": "code",
   "execution_count": null,
   "id": "c837453e",
   "metadata": {},
   "outputs": [],
   "source": []
  }
 ],
 "metadata": {
  "kernelspec": {
   "display_name": "Python 3 (ipykernel)",
   "language": "python",
   "name": "python3"
  },
  "language_info": {
   "codemirror_mode": {
    "name": "ipython",
    "version": 3
   },
   "file_extension": ".py",
   "mimetype": "text/x-python",
   "name": "python",
   "nbconvert_exporter": "python",
   "pygments_lexer": "ipython3",
   "version": "3.9.7"
  }
 },
 "nbformat": 4,
 "nbformat_minor": 5
}
