{
 "cells": [
  {
   "cell_type": "markdown",
   "id": "aca94be4",
   "metadata": {},
   "source": [
    "### Power of a number"
   ]
  },
  {
   "cell_type": "code",
   "execution_count": 1,
   "id": "e9c04785",
   "metadata": {},
   "outputs": [
    {
     "name": "stdout",
     "output_type": "stream",
     "text": [
      "3 4\n",
      "81\n"
     ]
    }
   ],
   "source": [
    "def power(n,m):\n",
    "    if m==0:\n",
    "        return 1\n",
    "    elif m==1:\n",
    "        return n\n",
    "    else:\n",
    "        return n*power(n,m-1)\n",
    "    \n",
    "str =  input().split()\n",
    "n,m = int(str[0]),int(str[1])\n",
    "print(power(n,m))\n"
   ]
  },
  {
   "cell_type": "code",
   "execution_count": null,
   "id": "1b5507da",
   "metadata": {},
   "outputs": [],
   "source": []
  }
 ],
 "metadata": {
  "kernelspec": {
   "display_name": "Python 3 (ipykernel)",
   "language": "python",
   "name": "python3"
  },
  "language_info": {
   "codemirror_mode": {
    "name": "ipython",
    "version": 3
   },
   "file_extension": ".py",
   "mimetype": "text/x-python",
   "name": "python",
   "nbconvert_exporter": "python",
   "pygments_lexer": "ipython3",
   "version": "3.9.7"
  }
 },
 "nbformat": 4,
 "nbformat_minor": 5
}
