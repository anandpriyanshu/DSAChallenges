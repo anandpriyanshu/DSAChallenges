{
 "cells": [
  {
   "cell_type": "code",
   "execution_count": 10,
   "id": "cd463d90",
   "metadata": {},
   "outputs": [],
   "source": [
    "def sortedBetter(a,si):       #si == starting index\n",
    "    l = len(a)\n",
    "    if si == l - 1 or si == l:\n",
    "        return True\n",
    "    if a[si] > a[si+1]:\n",
    "        return False\n",
    "    isSmallerPartSorted = sortedBetter(a,si+1)\n",
    "    return  isSmallerPartSorted  "
   ]
  },
  {
   "cell_type": "code",
   "execution_count": 11,
   "id": "bfb620a6",
   "metadata": {},
   "outputs": [
    {
     "data": {
      "text/plain": [
       "True"
      ]
     },
     "execution_count": 11,
     "metadata": {},
     "output_type": "execute_result"
    }
   ],
   "source": [
    "a = [1,2,3,4,5,6,7,8,9]\n",
    "sortedBetter(a,0)"
   ]
  },
  {
   "cell_type": "code",
   "execution_count": 12,
   "id": "0bc712af",
   "metadata": {},
   "outputs": [
    {
     "data": {
      "text/plain": [
       "False"
      ]
     },
     "execution_count": 12,
     "metadata": {},
     "output_type": "execute_result"
    }
   ],
   "source": [
    "a = [1,2,3,4,5,6,70,8,9]\n",
    "sortedBetter(a,0)"
   ]
  },
  {
   "cell_type": "code",
   "execution_count": null,
   "id": "43c1cec6",
   "metadata": {},
   "outputs": [],
   "source": []
  }
 ],
 "metadata": {
  "kernelspec": {
   "display_name": "Python 3 (ipykernel)",
   "language": "python",
   "name": "python3"
  },
  "language_info": {
   "codemirror_mode": {
    "name": "ipython",
    "version": 3
   },
   "file_extension": ".py",
   "mimetype": "text/x-python",
   "name": "python",
   "nbconvert_exporter": "python",
   "pygments_lexer": "ipython3",
   "version": "3.9.7"
  }
 },
 "nbformat": 4,
 "nbformat_minor": 5
}
