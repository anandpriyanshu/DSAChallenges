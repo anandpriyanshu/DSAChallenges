{
 "cells": [
  {
   "cell_type": "markdown",
   "id": "33630097",
   "metadata": {},
   "source": [
    "### By using copy the smallerlist"
   ]
  },
  {
   "cell_type": "code",
   "execution_count": 2,
   "id": "e98328a7",
   "metadata": {},
   "outputs": [],
   "source": [
    "def Firstindex(arr,x):\n",
    "    l = len(arr)\n",
    "    if l == 0:\n",
    "        return -1\n",
    "    if arr[0] == x:     # if arr has atleast one element           #(firs work on zeroth index then call recursion function)\n",
    "        return 0\n",
    "    smalleroutput = arr[1::]    #make copy of the array\n",
    "    smallerlistouput = Firstindex(smalleroutput,x)\n",
    "    if smallerlistouput == -1:      # means didn't find x in smallerlistoutput   \n",
    "        return -1\n",
    "    else:\n",
    "         return smallerlistouput + 1 "
   ]
  },
  {
   "cell_type": "code",
   "execution_count": 4,
   "id": "552fb69a",
   "metadata": {},
   "outputs": [
    {
     "data": {
      "text/plain": [
       "1"
      ]
     },
     "execution_count": 4,
     "metadata": {},
     "output_type": "execute_result"
    }
   ],
   "source": [
    "arr = [9,8,10,8]\n",
    "Firstindex(arr,8)"
   ]
  },
  {
   "cell_type": "markdown",
   "id": "a7740435",
   "metadata": {},
   "source": [
    "### By using the same list with start index(si)"
   ]
  },
  {
   "cell_type": "code",
   "execution_count": 8,
   "id": "523def40",
   "metadata": {},
   "outputs": [],
   "source": [
    "def FirstIndexB(arr,x,si):\n",
    "    if si == len(arr):    # there is no element left\n",
    "        return -1\n",
    "    if arr[si] == x:\n",
    "        return si        # found x at si\n",
    "    smallerlistouput = FirstIndexB(arr,x,si+1)  # when you couldn't find x at si\n",
    "    return smallerlistoutput"
   ]
  },
  {
   "cell_type": "code",
   "execution_count": 9,
   "id": "78f03d90",
   "metadata": {},
   "outputs": [
    {
     "data": {
      "text/plain": [
       "6"
      ]
     },
     "execution_count": 9,
     "metadata": {},
     "output_type": "execute_result"
    }
   ],
   "source": [
    "arr = [1,2,3,4,5,6,7,8,9,7]\n",
    "Firstindex(arr,7)"
   ]
  }
 ],
 "metadata": {
  "kernelspec": {
   "display_name": "Python 3 (ipykernel)",
   "language": "python",
   "name": "python3"
  },
  "language_info": {
   "codemirror_mode": {
    "name": "ipython",
    "version": 3
   },
   "file_extension": ".py",
   "mimetype": "text/x-python",
   "name": "python",
   "nbconvert_exporter": "python",
   "pygments_lexer": "ipython3",
   "version": "3.9.7"
  }
 },
 "nbformat": 4,
 "nbformat_minor": 5
}
