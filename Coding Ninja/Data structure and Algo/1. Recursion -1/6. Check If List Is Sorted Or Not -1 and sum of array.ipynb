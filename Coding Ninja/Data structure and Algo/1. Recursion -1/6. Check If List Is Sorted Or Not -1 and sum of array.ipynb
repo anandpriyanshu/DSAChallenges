{
 "cells": [
  {
   "cell_type": "code",
   "execution_count": 1,
   "id": "f19b1ccf",
   "metadata": {},
   "outputs": [],
   "source": [
    "def isSorted(a):\n",
    "    \n",
    "    if len(a) == 0  or len(a) == 1:\n",
    "        return True\n",
    "    if a[0] > a[1]:\n",
    "        return False\n",
    "    smallerlist = a[1::]    # too many copy of the data     \n",
    "    isSmallerListsorted = isSorted(smallerlist)        # copy the smallerlist into isSmallerListsorted\n",
    "    # return isSmallerListsorted  \n",
    "    if  isSmallerListsorted:\n",
    "        return True\n",
    "    else:\n",
    "        return False"
   ]
  },
  {
   "cell_type": "code",
   "execution_count": 2,
   "id": "cc5052a1",
   "metadata": {},
   "outputs": [
    {
     "data": {
      "text/plain": [
       "True"
      ]
     },
     "execution_count": 2,
     "metadata": {},
     "output_type": "execute_result"
    }
   ],
   "source": [
    "a = [1,2,3,4,5,6,7,8,9]\n",
    "isSorted(a)"
   ]
  },
  {
   "cell_type": "markdown",
   "id": "ed952cb9",
   "metadata": {},
   "source": [
    "### Sum Of Array"
   ]
  },
  {
   "cell_type": "code",
   "execution_count": 8,
   "id": "1a6f017f",
   "metadata": {},
   "outputs": [],
   "source": [
    "def sumArray(arr):\n",
    "    l = len(arr)\n",
    "    sum = 0\n",
    "    if l == 0:       # if empty list(l)\n",
    "        return sum \n",
    "    smallop = sumArray( arr[1::])\n",
    "    sum = arr[0] + smallop\n",
    "    return sum"
   ]
  },
  {
   "cell_type": "code",
   "execution_count": 9,
   "id": "a280f55f",
   "metadata": {},
   "outputs": [
    {
     "data": {
      "text/plain": [
       "7"
      ]
     },
     "execution_count": 9,
     "metadata": {},
     "output_type": "execute_result"
    }
   ],
   "source": [
    "arr = [1,2,3,4,-3] \n",
    "sumArray(arr)"
   ]
  },
  {
   "cell_type": "markdown",
   "id": "32316e01",
   "metadata": {},
   "source": [
    "### Check Number in Array"
   ]
  },
  {
   "cell_type": "code",
   "execution_count": 2,
   "id": "5e7adcfd",
   "metadata": {},
   "outputs": [],
   "source": [
    "def checkNumber(arr, x):\n",
    "    if len(arr)==0:        # empty arr\n",
    "        return False\n",
    "    if arr[0] == x:     # if arr first element equal to x\n",
    "        return True\n",
    "    b = arr[1:]\n",
    "    checknum = checkNumber(b,x)\n",
    "    if checknum:\n",
    "        return True\n",
    "    else:\n",
    "        return False"
   ]
  },
  {
   "cell_type": "code",
   "execution_count": 5,
   "id": "4ee35f8f",
   "metadata": {},
   "outputs": [
    {
     "data": {
      "text/plain": [
       "True"
      ]
     },
     "execution_count": 5,
     "metadata": {},
     "output_type": "execute_result"
    }
   ],
   "source": [
    "checkNumber([1,2,3,4,5,6,7], 3)"
   ]
  },
  {
   "cell_type": "code",
   "execution_count": null,
   "id": "fa067267",
   "metadata": {},
   "outputs": [],
   "source": []
  }
 ],
 "metadata": {
  "kernelspec": {
   "display_name": "Python 3 (ipykernel)",
   "language": "python",
   "name": "python3"
  },
  "language_info": {
   "codemirror_mode": {
    "name": "ipython",
    "version": 3
   },
   "file_extension": ".py",
   "mimetype": "text/x-python",
   "name": "python",
   "nbconvert_exporter": "python",
   "pygments_lexer": "ipython3",
   "version": "3.9.7"
  }
 },
 "nbformat": 4,
 "nbformat_minor": 5
}
