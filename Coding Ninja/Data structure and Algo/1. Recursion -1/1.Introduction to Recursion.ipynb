{
 "cells": [
  {
   "cell_type": "markdown",
   "id": "b3608f21",
   "metadata": {},
   "source": [
    "Both  function are exactly same"
   ]
  },
  {
   "cell_type": "code",
   "execution_count": null,
   "id": "d74c7d97",
   "metadata": {},
   "outputs": [],
   "source": [
    "def fact(n):\n",
    "    if n == 0:     # (Base case define), If we won't define base case function it running continuously and after that gives max recursion depth so we need to define base case \n",
    "        return 1\n",
    "    return n * fact(n-1)"
   ]
  },
  {
   "cell_type": "code",
   "execution_count": 10,
   "id": "8d78281a",
   "metadata": {},
   "outputs": [
    {
     "name": "stdout",
     "output_type": "stream",
     "text": [
      "5\n"
     ]
    },
    {
     "data": {
      "text/plain": [
       "120"
      ]
     },
     "execution_count": 10,
     "metadata": {},
     "output_type": "execute_result"
    }
   ],
   "source": [
    "n = int(input())\n",
    "fact(n)"
   ]
  },
  {
   "cell_type": "code",
   "execution_count": 11,
   "id": "f09c0fdd",
   "metadata": {},
   "outputs": [],
   "source": [
    "def fact(n):\n",
    "    if n == 0:     # (Base case define)\n",
    "        return 1\n",
    "    smallOuput = fact(n-1) #assuming or part of indcution hypothesis\n",
    "    return n * smallOuput"
   ]
  },
  {
   "cell_type": "code",
   "execution_count": 12,
   "id": "7ffcd2c6",
   "metadata": {},
   "outputs": [
    {
     "name": "stdout",
     "output_type": "stream",
     "text": [
      "5\n"
     ]
    },
    {
     "data": {
      "text/plain": [
       "120"
      ]
     },
     "execution_count": 12,
     "metadata": {},
     "output_type": "execute_result"
    }
   ],
   "source": [
    "n = int(input())\n",
    "fact(n)"
   ]
  },
  {
   "cell_type": "code",
   "execution_count": 15,
   "id": "eba84c00",
   "metadata": {},
   "outputs": [],
   "source": [
    "def sum_n(n):\n",
    "    if n==0:        #base case \n",
    "        return 0\n",
    "    smallOutput = sum_n(n-1)      #assuming or induction hypothesis\n",
    "    output = n + smallOutput\n",
    "    return output"
   ]
  },
  {
   "cell_type": "code",
   "execution_count": 17,
   "id": "8ed3bba5",
   "metadata": {},
   "outputs": [
    {
     "name": "stdout",
     "output_type": "stream",
     "text": [
      "5\n",
      "120\n",
      "15\n"
     ]
    }
   ],
   "source": [
    "n = int(input())\n",
    "print(fact(n))        \n",
    "print(sum_n(n))"
   ]
  },
  {
   "cell_type": "markdown",
   "id": "aa333fde",
   "metadata": {},
   "source": [
    "### Power Of A Number"
   ]
  },
  {
   "cell_type": "code",
   "execution_count": 22,
   "id": "b543c79d",
   "metadata": {},
   "outputs": [
    {
     "name": "stdout",
     "output_type": "stream",
     "text": [
      "3 4\n",
      "81\n"
     ]
    }
   ],
   "source": [
    "def power(n,m):\n",
    "    if m==0:\n",
    "        return 1\n",
    "    elif m==1:\n",
    "        return n\n",
    "    else:\n",
    "        return n*power(n,m-1)\n",
    "    \n",
    "str =  input().split()\n",
    "n,m = int(str[0]),int(str[1])\n",
    "print(power(n,m))\n"
   ]
  },
  {
   "cell_type": "code",
   "execution_count": null,
   "id": "1c6a7f03",
   "metadata": {},
   "outputs": [],
   "source": []
  }
 ],
 "metadata": {
  "kernelspec": {
   "display_name": "Python 3 (ipykernel)",
   "language": "python",
   "name": "python3"
  },
  "language_info": {
   "codemirror_mode": {
    "name": "ipython",
    "version": 3
   },
   "file_extension": ".py",
   "mimetype": "text/x-python",
   "name": "python",
   "nbconvert_exporter": "python",
   "pygments_lexer": "ipython3",
   "version": "3.9.7"
  }
 },
 "nbformat": 4,
 "nbformat_minor": 5
}
