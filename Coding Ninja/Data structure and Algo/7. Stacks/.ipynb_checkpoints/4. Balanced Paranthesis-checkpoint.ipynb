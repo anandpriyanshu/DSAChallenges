{
 "cells": [
  {
   "cell_type": "code",
   "execution_count": 1,
   "id": "c66dc20f",
   "metadata": {},
   "outputs": [
    {
     "name": "stderr",
     "output_type": "stream",
     "text": [
      "<>:6: SyntaxWarning: \"is\" with a literal. Did you mean \"==\"?\n",
      "<>:11: SyntaxWarning: \"is\" with a literal. Did you mean \"==\"?\n",
      "<>:15: SyntaxWarning: \"is\" with a literal. Did you mean \"==\"?\n",
      "<>:6: SyntaxWarning: \"is\" with a literal. Did you mean \"==\"?\n",
      "<>:11: SyntaxWarning: \"is\" with a literal. Did you mean \"==\"?\n",
      "<>:15: SyntaxWarning: \"is\" with a literal. Did you mean \"==\"?\n",
      "C:\\Users\\PRIYAN~1\\AppData\\Local\\Temp/ipykernel_8872/975090170.py:6: SyntaxWarning: \"is\" with a literal. Did you mean \"==\"?\n",
      "  elif char is ')':\n",
      "C:\\Users\\PRIYAN~1\\AppData\\Local\\Temp/ipykernel_8872/975090170.py:11: SyntaxWarning: \"is\" with a literal. Did you mean \"==\"?\n",
      "  elif char is '}':\n",
      "C:\\Users\\PRIYAN~1\\AppData\\Local\\Temp/ipykernel_8872/975090170.py:15: SyntaxWarning: \"is\" with a literal. Did you mean \"==\"?\n",
      "  elif char is ']':\n"
     ]
    },
    {
     "name": "stdout",
     "output_type": "stream",
     "text": [
      "(()()())\n",
      "True\n"
     ]
    }
   ],
   "source": [
    "def isBalanced(string):\n",
    "    s=[]                               #inbuilt list in stack\n",
    "    for char in string:\n",
    "        if char in '({[':\n",
    "            s.append(char)\n",
    "        elif char is ')':\n",
    "            if(not s or s[-1]!='('):             # 'not s' means stack is empty and s[-1] means last character in below then after pop()\n",
    "                return False\n",
    "            s.pop()\n",
    "            \n",
    "        elif char is '}':\n",
    "            if(not s or s[-1]!='{'):\n",
    "                return False\n",
    "            s.pop()\n",
    "        elif char is ']':\n",
    "            if(not s or s[-1]!='['):\n",
    "                return False\n",
    "            s.pop()\n",
    "    if(not s):                 # after for loop completed check stack is empty\n",
    "        return True\n",
    "    return False\n",
    "            \n",
    "string=input()\n",
    "ans=isBalanced(string)\n",
    "print(ans)"
   ]
  },
  {
   "cell_type": "code",
   "execution_count": 2,
   "id": "6f8c77d6",
   "metadata": {},
   "outputs": [
    {
     "name": "stdout",
     "output_type": "stream",
     "text": [
      "()()(()\n",
      "False\n"
     ]
    }
   ],
   "source": [
    "string=input()\n",
    "ans=isBalanced(string)\n",
    "print(ans)"
   ]
  }
 ],
 "metadata": {
  "kernelspec": {
   "display_name": "Python 3 (ipykernel)",
   "language": "python",
   "name": "python3"
  },
  "language_info": {
   "codemirror_mode": {
    "name": "ipython",
    "version": 3
   },
   "file_extension": ".py",
   "mimetype": "text/x-python",
   "name": "python",
   "nbconvert_exporter": "python",
   "pygments_lexer": "ipython3",
   "version": "3.9.7"
  }
 },
 "nbformat": 4,
 "nbformat_minor": 5
}
