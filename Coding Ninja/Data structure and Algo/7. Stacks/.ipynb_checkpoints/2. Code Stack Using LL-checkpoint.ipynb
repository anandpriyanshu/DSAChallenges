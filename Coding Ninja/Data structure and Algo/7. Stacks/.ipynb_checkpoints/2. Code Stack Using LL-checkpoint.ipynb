{
 "cells": [
  {
   "cell_type": "code",
   "execution_count": 9,
   "id": "779ba6d4",
   "metadata": {},
   "outputs": [],
   "source": [
    "class Node:\n",
    "    def __init__(self,initData):\n",
    "        self.data=initData\n",
    "        self.next=None\n",
    "\n",
    "class Stack:\n",
    "    def __init__(self):\n",
    "        self.__head=None\n",
    "        self.__count=0\n",
    "    def push(self,element):\n",
    "        newNode=Node(element)\n",
    "        newNode.next=self.__head\n",
    "        self.__head=newNode \n",
    "        self.__count=self.__count+1\n",
    "    \n",
    "    def pop(self):\n",
    "        if self.isEmpty() is True:\n",
    "            print(\"Hey!Stack is Empty!\")\n",
    "            return\n",
    "        data=self.__head.data     # firstly store the head.data in data means pop top element(data) \n",
    "        self.__head=self.__head.next\n",
    "        self.__count=self.__count-1\n",
    "        return data\n",
    "        \n",
    "    def top(self):\n",
    "        if self.isEmpty() is True:\n",
    "            print(\"Hey! Stack is Empty!\")\n",
    "            return\n",
    "        data=self.__head.data        # firstly store the head.data in data means pop top element(data) \n",
    "        return data\n",
    "    \n",
    "    def size(self):\n",
    "        return self.__count\n",
    "    \n",
    "    def isEmpty(self):\n",
    "        return self.size()==0\n"
   ]
  },
  {
   "cell_type": "code",
   "execution_count": 10,
   "id": "ab781526",
   "metadata": {},
   "outputs": [
    {
     "name": "stdout",
     "output_type": "stream",
     "text": [
      "15\n",
      "13\n",
      "12\n",
      "Hey! Stack is Empty!\n"
     ]
    }
   ],
   "source": [
    "s=Stack()\n",
    "s.push(12)\n",
    "s.push(13)\n",
    "s.push(15)\n",
    "while s.isEmpty() is False:\n",
    "    print(s.pop())\n",
    "s.top()\n"
   ]
  },
  {
   "cell_type": "code",
   "execution_count": null,
   "id": "698bdf1f",
   "metadata": {},
   "outputs": [],
   "source": [
    " # firstly store the head.data in dat"
   ]
  }
 ],
 "metadata": {
  "kernelspec": {
   "display_name": "Python 3 (ipykernel)",
   "language": "python",
   "name": "python3"
  },
  "language_info": {
   "codemirror_mode": {
    "name": "ipython",
    "version": 3
   },
   "file_extension": ".py",
   "mimetype": "text/x-python",
   "name": "python",
   "nbconvert_exporter": "python",
   "pygments_lexer": "ipython3",
   "version": "3.9.7"
  }
 },
 "nbformat": 4,
 "nbformat_minor": 5
}
