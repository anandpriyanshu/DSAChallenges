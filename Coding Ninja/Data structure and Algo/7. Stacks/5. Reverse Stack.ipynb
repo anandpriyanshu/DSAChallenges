{
 "cells": [
  {
   "cell_type": "code",
   "execution_count": 14,
   "id": "f41f2dc9",
   "metadata": {},
   "outputs": [],
   "source": [
    "def reverseStack(s1,s2):\n",
    "    if(len(s1)<=1):\n",
    "        return\n",
    "    while(len(s1)!=1):   \n",
    "        ele=s1.pop()            #pop the ele from s1 till len(s1) is 1\n",
    "        s2.append(ele)          #as soon as ele append in s2\n",
    "    lastElement=s1.pop()        #means last below elemnent\n",
    "    while(len(s2)!=0):          \n",
    "        ele=s2.pop()            #pop the ele from s1 till len(s2) is 0\n",
    "        s1.append(ele)          #as soon as ele append in s1\n",
    "    reverseStack(s1,s2)         #then reverse the n-1 element in s1\n",
    "    s1.append(lastElement)      #append the last ele at top in s1\n"
   ]
  },
  {
   "cell_type": "code",
   "execution_count": 15,
   "id": "847a12c5",
   "metadata": {},
   "outputs": [
    {
     "name": "stdout",
     "output_type": "stream",
     "text": [
      "4 \n",
      "1 2 3 4\n",
      "1234"
     ]
    }
   ],
   "source": [
    "from sys import setrecursionlimit\n",
    "setrecursionlimit(11000)\n",
    "n= int(input())\n",
    "s1=[int(ele) for ele in input().split()]\n",
    "s2=[]\n",
    "reverseStack(s1,s2)\n",
    "while(len(s1)!=0):\n",
    "    print(s1.pop(),end='')"
   ]
  },
  {
   "cell_type": "code",
   "execution_count": 4,
   "id": "2f28b1ef",
   "metadata": {},
   "outputs": [
    {
     "name": "stdout",
     "output_type": "stream",
     "text": [
      "1 2 3 4 "
     ]
    }
   ],
   "source": [
    "from sys import setrecursionlimit\n",
    "setrecursionlimit(11000)        \n",
    "s1 = [1,2,3,4]\n",
    "s2 = []\n",
    "reverseStack(s1,s2)\n",
    "while len(s1) != 0:\n",
    "    print(s1.pop(),end = ' ')"
   ]
  },
  {
   "cell_type": "code",
   "execution_count": null,
   "id": "ad67f981",
   "metadata": {},
   "outputs": [],
   "source": []
  }
 ],
 "metadata": {
  "kernelspec": {
   "display_name": "Python 3 (ipykernel)",
   "language": "python",
   "name": "python3"
  },
  "language_info": {
   "codemirror_mode": {
    "name": "ipython",
    "version": 3
   },
   "file_extension": ".py",
   "mimetype": "text/x-python",
   "name": "python",
   "nbconvert_exporter": "python",
   "pygments_lexer": "ipython3",
   "version": "3.9.7"
  }
 },
 "nbformat": 4,
 "nbformat_minor": 5
}
