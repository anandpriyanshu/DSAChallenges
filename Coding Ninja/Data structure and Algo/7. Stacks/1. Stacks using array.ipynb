{
 "cells": [
  {
   "cell_type": "code",
   "execution_count": 2,
   "id": "2127e0bd",
   "metadata": {},
   "outputs": [],
   "source": [
    "class Stack:\n",
    "    \n",
    "    def __init__(self):\n",
    "        self.__data = []    # data in the arr is private means private arr\n",
    "        \n",
    "    def push(self,item):\n",
    "        self.__data.append(item)\n",
    "        \n",
    "    def pop(self):             #pop don't need any input\n",
    "        if self.isEmpty():\n",
    "            print('Hey, Stack is empty!')\n",
    "            return\n",
    "        return self.__data.pop()\n",
    "        \n",
    "    def top(self):\n",
    "        if self.isEmpty():\n",
    "            print('Hey, stack is empty!!')\n",
    "            return\n",
    "        return self.__data[len(self.__data)-1]   # arr[len(arr)-1] means top most element\n",
    "        \n",
    "    def size(self):\n",
    "        return len(self.__data)   #size == len(arr)\n",
    "    \n",
    "    \n",
    "    def isEmpty(self):\n",
    "        return self.size() == 0"
   ]
  },
  {
   "cell_type": "code",
   "execution_count": 4,
   "id": "d878f018",
   "metadata": {},
   "outputs": [
    {
     "name": "stdout",
     "output_type": "stream",
     "text": [
      "15\n",
      "13\n",
      "12\n"
     ]
    }
   ],
   "source": [
    "s=Stack() \n",
    "s.push(12)       # inserting 1st element\n",
    "s.push(13)       # inserting 2nd element\n",
    "s.push(15)       # inserting 3rd element\n",
    "while s.isEmpty() is False:    #poping out the element till stack becomes empty\n",
    "    print(s.pop())"
   ]
  },
  {
   "cell_type": "code",
   "execution_count": 6,
   "id": "1e073692",
   "metadata": {},
   "outputs": [
    {
     "name": "stdout",
     "output_type": "stream",
     "text": [
      "Hey, stack is empty!!\n"
     ]
    }
   ],
   "source": [
    "s.top()   #after pop, accessing the top element"
   ]
  },
  {
   "cell_type": "code",
   "execution_count": null,
   "id": "8e00396f",
   "metadata": {},
   "outputs": [],
   "source": []
  }
 ],
 "metadata": {
  "kernelspec": {
   "display_name": "Python 3 (ipykernel)",
   "language": "python",
   "name": "python3"
  },
  "language_info": {
   "codemirror_mode": {
    "name": "ipython",
    "version": 3
   },
   "file_extension": ".py",
   "mimetype": "text/x-python",
   "name": "python",
   "nbconvert_exporter": "python",
   "pygments_lexer": "ipython3",
   "version": "3.9.7"
  }
 },
 "nbformat": 4,
 "nbformat_minor": 5
}
