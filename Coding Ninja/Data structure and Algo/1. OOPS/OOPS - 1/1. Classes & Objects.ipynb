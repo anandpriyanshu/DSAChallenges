{
 "cells": [
  {
   "cell_type": "code",
   "execution_count": 8,
   "id": "f849eae8",
   "metadata": {},
   "outputs": [],
   "source": [
    "class ExpanceTracker:\n",
    "    '''This is a class to do expanse tracking'''\n",
    "    def __init__(self):    # purpose of __init__ function is assign value to the class attribute that are coming from outside when anybody creating object\n",
    "        pass"
   ]
  },
  {
   "cell_type": "code",
   "execution_count": 9,
   "id": "e3abd4c8",
   "metadata": {},
   "outputs": [],
   "source": [
    "object1 = ExpanceTracker()"
   ]
  },
  {
   "cell_type": "code",
   "execution_count": 14,
   "id": "dd862289",
   "metadata": {},
   "outputs": [],
   "source": [
    "class ExpanceTracker:\n",
    "    '''This is a class to do expanse tracking'''\n",
    "    def __init__(self,date,decription,tranction_type,amount):\n",
    "        self.date = date\n",
    "        self.decription = decription\n",
    "        self.tranction_type = tranction_type\n",
    "        self.amount = amount"
   ]
  },
  {
   "cell_type": "code",
   "execution_count": 15,
   "id": "6edc8e0c",
   "metadata": {},
   "outputs": [],
   "source": [
    "object2= ExpanceTracker('12Dec','Dinner with Gf','Debit','1000')"
   ]
  },
  {
   "cell_type": "code",
   "execution_count": 16,
   "id": "7ce8c01d",
   "metadata": {},
   "outputs": [],
   "source": [
    "object3= ExpanceTracker('21Jul','Birtday celebration','Credit','500')"
   ]
  },
  {
   "cell_type": "code",
   "execution_count": 17,
   "id": "5344ee3c",
   "metadata": {},
   "outputs": [
    {
     "data": {
      "text/plain": [
       "'12Dec'"
      ]
     },
     "execution_count": 17,
     "metadata": {},
     "output_type": "execute_result"
    }
   ],
   "source": [
    "object2.date"
   ]
  },
  {
   "cell_type": "code",
   "execution_count": 19,
   "id": "eb974f9e",
   "metadata": {},
   "outputs": [
    {
     "data": {
      "text/plain": [
       "'500'"
      ]
     },
     "execution_count": 19,
     "metadata": {},
     "output_type": "execute_result"
    }
   ],
   "source": [
    "object3.amount"
   ]
  },
  {
   "cell_type": "code",
   "execution_count": null,
   "id": "f2d666fb",
   "metadata": {},
   "outputs": [],
   "source": [
    "\n"
   ]
  }
 ],
 "metadata": {
  "kernelspec": {
   "display_name": "Python 3 (ipykernel)",
   "language": "python",
   "name": "python3"
  },
  "language_info": {
   "codemirror_mode": {
    "name": "ipython",
    "version": 3
   },
   "file_extension": ".py",
   "mimetype": "text/x-python",
   "name": "python",
   "nbconvert_exporter": "python",
   "pygments_lexer": "ipython3",
   "version": "3.9.7"
  }
 },
 "nbformat": 4,
 "nbformat_minor": 5
}
