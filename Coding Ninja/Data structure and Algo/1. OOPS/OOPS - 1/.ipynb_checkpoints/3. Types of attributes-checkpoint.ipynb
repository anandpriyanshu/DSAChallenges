{
 "cells": [
  {
   "cell_type": "code",
   "execution_count": 1,
   "id": "f1b9a9c2",
   "metadata": {},
   "outputs": [],
   "source": [
    "class ExpenseTracker:\n",
    "    #class attribute\n",
    "    expense_version_tracker=0.1\n",
    "    def __init__(self,tracker_category,opening_balance,budget):\n",
    "        #instance/object Attributes\n",
    "        self.tracker_category=tracker_category      #instance attribute\n",
    "        self.opening_balance=opening_balance         #instance attribute\n",
    "        self.budget=budget                            #instance attribute"
   ]
  },
  {
   "cell_type": "code",
   "execution_count": 2,
   "id": "89e0b750",
   "metadata": {},
   "outputs": [],
   "source": [
    "home_tracker=ExpenseTracker(\"home\",0,10000)\n",
    "shopping_tracker=ExpenseTracker(\"shopping\",1000,5000)"
   ]
  },
  {
   "cell_type": "code",
   "execution_count": 4,
   "id": "e0f02ef9",
   "metadata": {},
   "outputs": [
    {
     "data": {
      "text/plain": [
       "'home'"
      ]
     },
     "execution_count": 4,
     "metadata": {},
     "output_type": "execute_result"
    }
   ],
   "source": [
    "home_tracker.tracker_category"
   ]
  },
  {
   "cell_type": "code",
   "execution_count": 5,
   "id": "b21daaa0",
   "metadata": {},
   "outputs": [
    {
     "data": {
      "text/plain": [
       "'home'"
      ]
     },
     "execution_count": 5,
     "metadata": {},
     "output_type": "execute_result"
    }
   ],
   "source": [
    "getattr(home_tracker,'tracker_category')"
   ]
  },
  {
   "cell_type": "code",
   "execution_count": 6,
   "id": "d3d58a09",
   "metadata": {},
   "outputs": [
    {
     "data": {
      "text/plain": [
       "{'tracker_category': 'home', 'opening_balance': 0, 'budget': 10000}"
      ]
     },
     "execution_count": 6,
     "metadata": {},
     "output_type": "execute_result"
    }
   ],
   "source": [
    "home_tracker.__dict__"
   ]
  },
  {
   "cell_type": "code",
   "execution_count": 7,
   "id": "a93358ec",
   "metadata": {},
   "outputs": [
    {
     "data": {
      "text/plain": [
       "0.1"
      ]
     },
     "execution_count": 7,
     "metadata": {},
     "output_type": "execute_result"
    }
   ],
   "source": [
    "home_tracker.expense_version_tracker"
   ]
  },
  {
   "cell_type": "code",
   "execution_count": 8,
   "id": "a42d206b",
   "metadata": {},
   "outputs": [
    {
     "data": {
      "text/plain": [
       "'shopping'"
      ]
     },
     "execution_count": 8,
     "metadata": {},
     "output_type": "execute_result"
    }
   ],
   "source": [
    "shopping_tracker.tracker_category"
   ]
  },
  {
   "cell_type": "code",
   "execution_count": 9,
   "id": "abdb1408",
   "metadata": {},
   "outputs": [
    {
     "data": {
      "text/plain": [
       "0.1"
      ]
     },
     "execution_count": 9,
     "metadata": {},
     "output_type": "execute_result"
    }
   ],
   "source": [
    "shopping_tracker.expense_version_tracker  #class attribute doesn't change  across different object they remain same where as instance attribute changes "
   ]
  },
  {
   "cell_type": "code",
   "execution_count": 10,
   "id": "4e3d5f65",
   "metadata": {},
   "outputs": [],
   "source": [
    "home_tracker.expense_version_tracker=0.2   # I want to update"
   ]
  },
  {
   "cell_type": "code",
   "execution_count": 11,
   "id": "000e5133",
   "metadata": {},
   "outputs": [
    {
     "data": {
      "text/plain": [
       "0.2"
      ]
     },
     "execution_count": 11,
     "metadata": {},
     "output_type": "execute_result"
    }
   ],
   "source": [
    "home_tracker.expense_version_tracker"
   ]
  },
  {
   "cell_type": "code",
   "execution_count": 12,
   "id": "0fd7905a",
   "metadata": {},
   "outputs": [
    {
     "data": {
      "text/plain": [
       "0.1"
      ]
     },
     "execution_count": 12,
     "metadata": {},
     "output_type": "execute_result"
    }
   ],
   "source": [
    "shopping_tracker.expense_version_tracker"
   ]
  },
  {
   "cell_type": "code",
   "execution_count": null,
   "id": "a26f6e57",
   "metadata": {},
   "outputs": [],
   "source": []
  }
 ],
 "metadata": {
  "kernelspec": {
   "display_name": "Python 3 (ipykernel)",
   "language": "python",
   "name": "python3"
  },
  "language_info": {
   "codemirror_mode": {
    "name": "ipython",
    "version": 3
   },
   "file_extension": ".py",
   "mimetype": "text/x-python",
   "name": "python",
   "nbconvert_exporter": "python",
   "pygments_lexer": "ipython3",
   "version": "3.9.7"
  }
 },
 "nbformat": 4,
 "nbformat_minor": 5
}
