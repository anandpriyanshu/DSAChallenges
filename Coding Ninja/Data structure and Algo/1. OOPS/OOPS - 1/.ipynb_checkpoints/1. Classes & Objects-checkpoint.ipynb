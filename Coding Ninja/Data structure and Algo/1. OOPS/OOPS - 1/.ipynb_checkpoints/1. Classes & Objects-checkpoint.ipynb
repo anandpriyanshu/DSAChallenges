{
 "cells": [
  {
   "cell_type": "code",
   "execution_count": 1,
   "id": "174ad4d1",
   "metadata": {},
   "outputs": [],
   "source": [
    "class ExpanceTracker:\n",
    "    '''This is a class to do expanse tracking'''\n",
    "    def __init__(self):    # purpose of __init__ function is assign value to the class attribute that are coming from outside when anybody creating object\n",
    "        pass"
   ]
  },
  {
   "cell_type": "code",
   "execution_count": null,
   "id": "de75e159",
   "metadata": {},
   "outputs": [],
   "source": []
  }
 ],
 "metadata": {
  "kernelspec": {
   "display_name": "Python 3 (ipykernel)",
   "language": "python",
   "name": "python3"
  },
  "language_info": {
   "codemirror_mode": {
    "name": "ipython",
    "version": 3
   },
   "file_extension": ".py",
   "mimetype": "text/x-python",
   "name": "python",
   "nbconvert_exporter": "python",
   "pygments_lexer": "ipython3",
   "version": "3.9.7"
  }
 },
 "nbformat": 4,
 "nbformat_minor": 5
}
