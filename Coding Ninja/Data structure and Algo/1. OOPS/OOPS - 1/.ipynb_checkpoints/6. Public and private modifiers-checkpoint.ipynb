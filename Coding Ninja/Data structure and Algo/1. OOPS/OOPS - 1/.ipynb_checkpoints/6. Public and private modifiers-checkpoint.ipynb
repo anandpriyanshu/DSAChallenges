{
 "cells": [
  {
   "cell_type": "code",
   "execution_count": 2,
   "id": "91e324fa",
   "metadata": {},
   "outputs": [],
   "source": [
    "class ExpenseTracker:\n",
    "    #class attribute\n",
    "    expense_version_tracker=0.1\n",
    "    def __init__(self,track_category,original_balance,budget):\n",
    "        #instance/object Attributes\n",
    "        #public attribute\n",
    "        self.tracking_category=track_category\n",
    "        #private attribute\n",
    "        self.__original_balance=original_balance\n",
    "        self.__tracker_budget=budget\n",
    "        #instance method\n",
    "        #private method\n",
    "    def __get_original_balance(self):\n",
    "        return self.__original_balance\n",
    "    def check_balance(self,limit=1000):\n",
    "        if self.tracker_budget>=limit:\n",
    "            return True\n",
    "        else:\n",
    "            return \"Your opening balance is less than limit\"\n",
    "    @staticmethod\n",
    "    def convert_amount(amount):\n",
    "            return float(amount)\n",
    "    @classmethod\n",
    "    def get_attributes_fromstring(cls,diary_entry:str):\n",
    "        tracking_category,opening_balance,tracker_budget=diary_entry.split(\" \")\n",
    "        return ExpenseTracker(tracking_category.capitalize(),\n",
    "                             cls.convert_amount(opening_balance),\n",
    "                             cls.convert_amount(tracker_budget))"
   ]
  },
  {
   "cell_type": "code",
   "execution_count": 3,
   "id": "ded33c40",
   "metadata": {},
   "outputs": [],
   "source": [
    "home=ExpenseTracker(\"home\",0,100)"
   ]
  },
  {
   "cell_type": "code",
   "execution_count": 5,
   "id": "0cec2f8c",
   "metadata": {},
   "outputs": [
    {
     "data": {
      "text/plain": [
       "'home'"
      ]
     },
     "execution_count": 5,
     "metadata": {},
     "output_type": "execute_result"
    }
   ],
   "source": [
    "home.tracking_category   # accessible bcz public"
   ]
  },
  {
   "cell_type": "code",
   "execution_count": 7,
   "id": "068c54d4",
   "metadata": {},
   "outputs": [
    {
     "ename": "AttributeError",
     "evalue": "'ExpenseTracker' object has no attribute '__original_balance'",
     "output_type": "error",
     "traceback": [
      "\u001b[1;31m---------------------------------------------------------------------------\u001b[0m",
      "\u001b[1;31mAttributeError\u001b[0m                            Traceback (most recent call last)",
      "\u001b[1;32mC:\\Users\\PRIYAN~1\\AppData\\Local\\Temp/ipykernel_2804/2641094191.py\u001b[0m in \u001b[0;36m<module>\u001b[1;34m\u001b[0m\n\u001b[1;32m----> 1\u001b[1;33m \u001b[0mhome\u001b[0m\u001b[1;33m.\u001b[0m\u001b[0m__original_balance\u001b[0m     \u001b[1;31m# not accessible bcz private\u001b[0m\u001b[1;33m\u001b[0m\u001b[1;33m\u001b[0m\u001b[0m\n\u001b[0m",
      "\u001b[1;31mAttributeError\u001b[0m: 'ExpenseTracker' object has no attribute '__original_balance'"
     ]
    }
   ],
   "source": [
    "home.__original_balance     # not accessible bcz private"
   ]
  },
  {
   "cell_type": "code",
   "execution_count": 8,
   "id": "acba7598",
   "metadata": {},
   "outputs": [
    {
     "ename": "AttributeError",
     "evalue": "'ExpenseTracker' object has no attribute '__get_original_balance'",
     "output_type": "error",
     "traceback": [
      "\u001b[1;31m---------------------------------------------------------------------------\u001b[0m",
      "\u001b[1;31mAttributeError\u001b[0m                            Traceback (most recent call last)",
      "\u001b[1;32mC:\\Users\\PRIYAN~1\\AppData\\Local\\Temp/ipykernel_2804/3805946099.py\u001b[0m in \u001b[0;36m<module>\u001b[1;34m\u001b[0m\n\u001b[1;32m----> 1\u001b[1;33m \u001b[0mhome\u001b[0m\u001b[1;33m.\u001b[0m\u001b[0m__get_original_balance\u001b[0m\u001b[1;33m(\u001b[0m\u001b[1;33m)\u001b[0m\u001b[1;33m\u001b[0m\u001b[1;33m\u001b[0m\u001b[0m\n\u001b[0m",
      "\u001b[1;31mAttributeError\u001b[0m: 'ExpenseTracker' object has no attribute '__get_original_balance'"
     ]
    }
   ],
   "source": [
    "home.__get_original_balance()      # not accessible bcz private method(function)"
   ]
  },
  {
   "cell_type": "code",
   "execution_count": 9,
   "id": "9a1b8407",
   "metadata": {},
   "outputs": [
    {
     "data": {
      "text/plain": [
       "{'tracking_category': 'home',\n",
       " '_ExpenseTracker__original_balance': 0,\n",
       " '_ExpenseTracker__tracker_budget': 100}"
      ]
     },
     "execution_count": 9,
     "metadata": {},
     "output_type": "execute_result"
    }
   ],
   "source": [
    "home.__dict__"
   ]
  },
  {
   "cell_type": "code",
   "execution_count": 10,
   "id": "17fb6cc5",
   "metadata": {},
   "outputs": [
    {
     "data": {
      "text/plain": [
       "0"
      ]
     },
     "execution_count": 10,
     "metadata": {},
     "output_type": "execute_result"
    }
   ],
   "source": [
    "home._ExpenseTracker__original_balance"
   ]
  },
  {
   "cell_type": "code",
   "execution_count": 12,
   "id": "2b710f9d",
   "metadata": {},
   "outputs": [
    {
     "data": {
      "text/plain": [
       "100"
      ]
     },
     "execution_count": 12,
     "metadata": {},
     "output_type": "execute_result"
    }
   ],
   "source": [
    "home._ExpenseTracker__tracker_budget"
   ]
  },
  {
   "cell_type": "code",
   "execution_count": 15,
   "id": "9f0615ae",
   "metadata": {},
   "outputs": [
    {
     "data": {
      "text/plain": [
       "0"
      ]
     },
     "execution_count": 15,
     "metadata": {},
     "output_type": "execute_result"
    }
   ],
   "source": [
    "home._ExpenseTracker__get_original_balance()"
   ]
  },
  {
   "cell_type": "code",
   "execution_count": 6,
   "id": "d48d8e4f",
   "metadata": {},
   "outputs": [
    {
     "ename": "AttributeError",
     "evalue": "'Student' object has no attribute 'name'",
     "output_type": "error",
     "traceback": [
      "\u001b[1;31m---------------------------------------------------------------------------\u001b[0m",
      "\u001b[1;31mAttributeError\u001b[0m                            Traceback (most recent call last)",
      "\u001b[1;32mC:\\Users\\PRIYAN~1\\AppData\\Local\\Temp/ipykernel_6128/1805099551.py\u001b[0m in \u001b[0;36m<module>\u001b[1;34m\u001b[0m\n\u001b[0;32m      8\u001b[0m \u001b[1;33m\u001b[0m\u001b[0m\n\u001b[0;32m      9\u001b[0m \u001b[0ms\u001b[0m \u001b[1;33m=\u001b[0m \u001b[0mStudent\u001b[0m\u001b[1;33m(\u001b[0m\u001b[1;34m'Rohan'\u001b[0m\u001b[1;33m,\u001b[0m\u001b[1;36m20\u001b[0m\u001b[1;33m)\u001b[0m\u001b[1;33m\u001b[0m\u001b[1;33m\u001b[0m\u001b[0m\n\u001b[1;32m---> 10\u001b[1;33m \u001b[0mprint\u001b[0m\u001b[1;33m(\u001b[0m\u001b[0ms\u001b[0m\u001b[1;33m.\u001b[0m\u001b[0mname\u001b[0m\u001b[1;33m)\u001b[0m\u001b[1;33m\u001b[0m\u001b[1;33m\u001b[0m\u001b[0m\n\u001b[0m",
      "\u001b[1;31mAttributeError\u001b[0m: 'Student' object has no attribute 'name'"
     ]
    }
   ],
   "source": [
    "class Student:\n",
    "    def __init__(self,name,age):\n",
    "        self.__name = name\n",
    "        self.age = age\n",
    "    def print_student_details():\n",
    "        print(self.__name, end= ' ')   #it's private so I can't access\n",
    "        print(self.age)\n",
    "\n",
    "s = Student('Rohan',20)\n",
    "print(s.name)"
   ]
  },
  {
   "cell_type": "code",
   "execution_count": null,
   "id": "7ceec3fe",
   "metadata": {},
   "outputs": [],
   "source": []
  }
 ],
 "metadata": {
  "kernelspec": {
   "display_name": "Python 3 (ipykernel)",
   "language": "python",
   "name": "python3"
  },
  "language_info": {
   "codemirror_mode": {
    "name": "ipython",
    "version": 3
   },
   "file_extension": ".py",
   "mimetype": "text/x-python",
   "name": "python",
   "nbconvert_exporter": "python",
   "pygments_lexer": "ipython3",
   "version": "3.9.7"
  }
 },
 "nbformat": 4,
 "nbformat_minor": 5
}
