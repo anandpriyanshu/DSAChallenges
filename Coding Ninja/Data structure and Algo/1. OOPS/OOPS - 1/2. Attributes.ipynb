{
 "cells": [
  {
   "cell_type": "code",
   "execution_count": 9,
   "id": "2855f443",
   "metadata": {},
   "outputs": [],
   "source": [
    "class ExpanseTracker:\n",
    "    # class attribute\n",
    "    expense_tracker_version = 0.1\n",
    "    def __init__(self,tracker_category,opening_balance,budget):\n",
    "        self.tracker_category = tracker_category   #instance attribute\n",
    "        self.opening_balance = opening_balance     #instance attribute\n",
    "        self.budget = budget                       #instance attribute"
   ]
  },
  {
   "cell_type": "code",
   "execution_count": 6,
   "id": "96eec37b",
   "metadata": {},
   "outputs": [],
   "source": [
    "home_tracker=ExpanseTracker(\"home\",3000,10000)"
   ]
  },
  {
   "cell_type": "code",
   "execution_count": 7,
   "id": "f0e2535e",
   "metadata": {},
   "outputs": [
    {
     "data": {
      "text/plain": [
       "'home'"
      ]
     },
     "execution_count": 7,
     "metadata": {},
     "output_type": "execute_result"
    }
   ],
   "source": [
    "home_tracker.tracker_category"
   ]
  },
  {
   "cell_type": "code",
   "execution_count": 11,
   "id": "dd791359",
   "metadata": {},
   "outputs": [],
   "source": [
    "shopping_tracker=ExpanseTracker(\"shopping\",1000,5000)"
   ]
  },
  {
   "cell_type": "code",
   "execution_count": 12,
   "id": "9af33991",
   "metadata": {},
   "outputs": [
    {
     "data": {
      "text/plain": [
       "'shopping'"
      ]
     },
     "execution_count": 12,
     "metadata": {},
     "output_type": "execute_result"
    }
   ],
   "source": [
    "shopping_tracker.tracker_category"
   ]
  },
  {
   "cell_type": "code",
   "execution_count": 13,
   "id": "694668af",
   "metadata": {},
   "outputs": [
    {
     "data": {
      "text/plain": [
       "{'tracker_category': 'home', 'opening_balance': 3000, 'budget': 10000}"
      ]
     },
     "execution_count": 13,
     "metadata": {},
     "output_type": "execute_result"
    }
   ],
   "source": [
    "home_tracker.__dict__"
   ]
  },
  {
   "cell_type": "code",
   "execution_count": 15,
   "id": "b1d00fd4",
   "metadata": {},
   "outputs": [
    {
     "data": {
      "text/plain": [
       "{'tracker_category': 'shopping', 'opening_balance': 1000, 'budget': 5000}"
      ]
     },
     "execution_count": 15,
     "metadata": {},
     "output_type": "execute_result"
    }
   ],
   "source": [
    "shopping_tracker.__dict__"
   ]
  },
  {
   "cell_type": "code",
   "execution_count": 16,
   "id": "23a76134",
   "metadata": {},
   "outputs": [
    {
     "data": {
      "text/plain": [
       "3000"
      ]
     },
     "execution_count": 16,
     "metadata": {},
     "output_type": "execute_result"
    }
   ],
   "source": [
    "getattr(home_tracker,'opening_balance')"
   ]
  },
  {
   "cell_type": "code",
   "execution_count": 17,
   "id": "f9ccd66f",
   "metadata": {},
   "outputs": [
    {
     "data": {
      "text/plain": [
       "1000"
      ]
     },
     "execution_count": 17,
     "metadata": {},
     "output_type": "execute_result"
    }
   ],
   "source": [
    "getattr(shopping_tracker,'opening_balance')"
   ]
  },
  {
   "cell_type": "code",
   "execution_count": 18,
   "id": "1b464dff",
   "metadata": {},
   "outputs": [
    {
     "data": {
      "text/plain": [
       "False"
      ]
     },
     "execution_count": 18,
     "metadata": {},
     "output_type": "execute_result"
    }
   ],
   "source": [
    "hasattr(shopping_tracker,'opening')   #openening attributes not present"
   ]
  },
  {
   "cell_type": "code",
   "execution_count": 19,
   "id": "9e86a837",
   "metadata": {},
   "outputs": [
    {
     "data": {
      "text/plain": [
       "True"
      ]
     },
     "execution_count": 19,
     "metadata": {},
     "output_type": "execute_result"
    }
   ],
   "source": [
    "hasattr(shopping_tracker,'opening_balance')"
   ]
  },
  {
   "cell_type": "code",
   "execution_count": 20,
   "id": "441f7200",
   "metadata": {},
   "outputs": [
    {
     "data": {
      "text/plain": [
       "{'tracker_category': 'home', 'opening_balance': 3000, 'budget': 10000}"
      ]
     },
     "execution_count": 20,
     "metadata": {},
     "output_type": "execute_result"
    }
   ],
   "source": [
    "home_tracker.__dict__"
   ]
  },
  {
   "cell_type": "code",
   "execution_count": 21,
   "id": "df551b2e",
   "metadata": {},
   "outputs": [],
   "source": [
    "delattr(home_tracker,'opening_balance')"
   ]
  },
  {
   "cell_type": "code",
   "execution_count": 22,
   "id": "9c51ca18",
   "metadata": {},
   "outputs": [
    {
     "data": {
      "text/plain": [
       "{'tracker_category': 'home', 'budget': 10000}"
      ]
     },
     "execution_count": 22,
     "metadata": {},
     "output_type": "execute_result"
    }
   ],
   "source": [
    "home_tracker.__dict__"
   ]
  },
  {
   "cell_type": "code",
   "execution_count": null,
   "id": "d4b1586b",
   "metadata": {},
   "outputs": [],
   "source": []
  }
 ],
 "metadata": {
  "kernelspec": {
   "display_name": "Python 3 (ipykernel)",
   "language": "python",
   "name": "python3"
  },
  "language_info": {
   "codemirror_mode": {
    "name": "ipython",
    "version": 3
   },
   "file_extension": ".py",
   "mimetype": "text/x-python",
   "name": "python",
   "nbconvert_exporter": "python",
   "pygments_lexer": "ipython3",
   "version": "3.9.7"
  }
 },
 "nbformat": 4,
 "nbformat_minor": 5
}
