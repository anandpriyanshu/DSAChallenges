{
 "cells": [
  {
   "cell_type": "code",
   "execution_count": 2,
   "id": "50be7f7b",
   "metadata": {},
   "outputs": [
    {
     "name": "stdout",
     "output_type": "stream",
     "text": [
      "3\n",
      "2\n",
      "1\n"
     ]
    }
   ],
   "source": [
    "#inbuilt stack as list\n",
    "#s=[1,2,3]\n",
    "#s.append(4)\n",
    "#s.append(5)\n",
    "#print(s.pop())\n",
    "#print(s.pop())\n",
    "\n",
    "#inbuilt queue\n",
    "#import queue\n",
    "#q=queue.Queue()\n",
    "#q.put(1)\n",
    "#q.put(2)\n",
    "#q.put(3)\n",
    "#q.put(4)\n",
    "#while not q.empty():\n",
    "#    print(q.get())\n",
    "\n",
    "import queue\n",
    "q=queue.LifoQueue()     #it's like a stack (inbuilt stack)\n",
    "q.put(1)\n",
    "q.put(2)\n",
    "q.put(3)\n",
    "while not q.empty():\n",
    "    print(q.get())"
   ]
  },
  {
   "cell_type": "code",
   "execution_count": null,
   "id": "d330bccc",
   "metadata": {},
   "outputs": [],
   "source": []
  }
 ],
 "metadata": {
  "kernelspec": {
   "display_name": "Python 3 (ipykernel)",
   "language": "python",
   "name": "python3"
  },
  "language_info": {
   "codemirror_mode": {
    "name": "ipython",
    "version": 3
   },
   "file_extension": ".py",
   "mimetype": "text/x-python",
   "name": "python",
   "nbconvert_exporter": "python",
   "pygments_lexer": "ipython3",
   "version": "3.9.7"
  }
 },
 "nbformat": 4,
 "nbformat_minor": 5
}
