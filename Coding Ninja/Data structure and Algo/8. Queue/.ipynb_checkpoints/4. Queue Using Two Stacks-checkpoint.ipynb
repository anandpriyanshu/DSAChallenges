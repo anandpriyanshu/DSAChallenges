{
 "cells": [
  {
   "cell_type": "code",
   "execution_count": 8,
   "id": "9b5c2b2b",
   "metadata": {},
   "outputs": [],
   "source": [
    "class QueueUsingTwoStacks:\n",
    "    def __init__(self):\n",
    "        self.__s1=[]\n",
    "        self.__s2=[]\n",
    "    def enqueue(self,data):\n",
    "        #(O(n))\n",
    "        while(len(self.__s1)!=0):\n",
    "            self.__s2.append(self.__s1.pop())\n",
    "        self.__s1.append(data)\n",
    "        \n",
    "        while(len(self.__s2)!=0):\n",
    "            self.__s1.append(self.__s2.pop())\n",
    "        return\n",
    "    \n",
    "    def dequeue(self):\n",
    "        #O(1)\n",
    "        if len(self.__s1)==0:\n",
    "            return -1\n",
    "        return self.__s1.pop()\n",
    "        \n",
    "    def front(self):\n",
    "        if len(self.__s1)==0:\n",
    "            return -1\n",
    "        return self.__s1[-1]\n",
    "        \n",
    "    def size(self):\n",
    "        return len(self.__s1)\n",
    "        \n",
    "    def isEmpty(self):\n",
    "        return self.size()==0\n",
    "    "
   ]
  },
  {
   "cell_type": "code",
   "execution_count": 9,
   "id": "0374084d",
   "metadata": {},
   "outputs": [
    {
     "name": "stdout",
     "output_type": "stream",
     "text": [
      "1\n",
      "2\n",
      "3\n",
      "4\n"
     ]
    }
   ],
   "source": [
    "q=QueueUsingTwoStacks()\n",
    "q.enqueue(1)\n",
    "q.enqueue(2)\n",
    "q.enqueue(3)\n",
    "q.enqueue(4)\n",
    "\n",
    "while(q.isEmpty() is False):\n",
    "    print(q.front())\n",
    "    q.dequeue()"
   ]
  },
  {
   "cell_type": "code",
   "execution_count": null,
   "id": "adbbcd17",
   "metadata": {},
   "outputs": [],
   "source": []
  }
 ],
 "metadata": {
  "kernelspec": {
   "display_name": "Python 3 (ipykernel)",
   "language": "python",
   "name": "python3"
  },
  "language_info": {
   "codemirror_mode": {
    "name": "ipython",
    "version": 3
   },
   "file_extension": ".py",
   "mimetype": "text/x-python",
   "name": "python",
   "nbconvert_exporter": "python",
   "pygments_lexer": "ipython3",
   "version": "3.9.7"
  }
 },
 "nbformat": 4,
 "nbformat_minor": 5
}
