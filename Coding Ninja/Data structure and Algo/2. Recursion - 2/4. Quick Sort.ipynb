{
 "cells": [
  {
   "cell_type": "code",
   "execution_count": 25,
   "id": "a9bab246",
   "metadata": {},
   "outputs": [],
   "source": [
    "def partition(a,si,ei):\n",
    "    pivot=a[si]\n",
    "    #find number of elements smaller than pivot\n",
    "    c=0\n",
    "    for i in range(si,ei+1):            # check for numnber of element which is smaller than pivot\n",
    "        if a[i]<pivot:\n",
    "            c=c+1          # numnber of elemet which is smaller than pivot\n",
    "    a[si+c],a[si]=a[si],a[si+c]\n",
    "    pivot_index=si+c   #after swap \n",
    "    \n",
    "    i=si\n",
    "    j=ei\n",
    "    while i<j:   #if i = j then pivot element\n",
    "        if a[i]<pivot:\n",
    "            i=i+1\n",
    "        elif a[j]>=pivot:\n",
    "            j=j-1\n",
    "        else:\n",
    "            a[i],a[j]=a[j],a[i]\n",
    "            i=i+1\n",
    "            j=j-1\n",
    "    return pivot_index"
   ]
  },
  {
   "cell_type": "code",
   "execution_count": 27,
   "id": "33d55dbf",
   "metadata": {},
   "outputs": [],
   "source": [
    "def quickSort(a,si,ei):\n",
    "    if si >= ei:         # when si and ei cross each other\n",
    "        return\n",
    "    pivot_index = partition(a,si,ei)\n",
    "    quickSort(a,si,pivot_index-1)\n",
    "    quickSort(a,pivot_index+1,ei)"
   ]
  },
  {
   "cell_type": "code",
   "execution_count": 26,
   "id": "3b02802a",
   "metadata": {},
   "outputs": [
    {
     "name": "stdout",
     "output_type": "stream",
     "text": [
      "5\n"
     ]
    },
    {
     "data": {
      "text/plain": [
       "[1, 2, 4, 5, 3, 6, 7, 8, 9, 10]"
      ]
     },
     "execution_count": 26,
     "metadata": {},
     "output_type": "execute_result"
    }
   ],
   "source": [
    "a=[6,10,9,8,7,1,3,5,4,2]\n",
    "print(partition(a,0,len(a)-1))\n",
    "a"
   ]
  },
  {
   "cell_type": "code",
   "execution_count": 28,
   "id": "79a4ab8f",
   "metadata": {},
   "outputs": [
    {
     "name": "stdout",
     "output_type": "stream",
     "text": [
      "None\n"
     ]
    },
    {
     "data": {
      "text/plain": [
       "[1, 2, 3, 4, 5, 6, 7, 8, 9, 10]"
      ]
     },
     "execution_count": 28,
     "metadata": {},
     "output_type": "execute_result"
    }
   ],
   "source": [
    "a=[6,10,9,8,7,1,3,5,4,2]\n",
    "print(quickSort(a,0,len(a)-1))\n",
    "a"
   ]
  },
  {
   "cell_type": "code",
   "execution_count": null,
   "id": "a97ad71d",
   "metadata": {},
   "outputs": [],
   "source": []
  }
 ],
 "metadata": {
  "kernelspec": {
   "display_name": "Python 3 (ipykernel)",
   "language": "python",
   "name": "python3"
  },
  "language_info": {
   "codemirror_mode": {
    "name": "ipython",
    "version": 3
   },
   "file_extension": ".py",
   "mimetype": "text/x-python",
   "name": "python",
   "nbconvert_exporter": "python",
   "pygments_lexer": "ipython3",
   "version": "3.9.7"
  }
 },
 "nbformat": 4,
 "nbformat_minor": 5
}
