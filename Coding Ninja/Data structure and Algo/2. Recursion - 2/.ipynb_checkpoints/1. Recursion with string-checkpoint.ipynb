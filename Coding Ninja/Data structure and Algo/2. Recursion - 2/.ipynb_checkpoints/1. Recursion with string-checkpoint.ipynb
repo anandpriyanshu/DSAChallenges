{
 "cells": [
  {
   "cell_type": "markdown",
   "id": "9a896a9f",
   "metadata": {},
   "source": [
    "### Replace b to a"
   ]
  },
  {
   "cell_type": "code",
   "execution_count": 15,
   "id": "16305d2c",
   "metadata": {},
   "outputs": [],
   "source": [
    "def replace(s,a,b):\n",
    "    if len(s) == 0:\n",
    "        return s\n",
    "    smalloutput = replace(s[1:],a,b)\n",
    "    if s[0] == a:\n",
    "        return b + smalloutput\n",
    "    else:\n",
    "        s[0] + smalloutput"
   ]
  },
  {
   "cell_type": "code",
   "execution_count": 17,
   "id": "aabaefa9",
   "metadata": {},
   "outputs": [
    {
     "data": {
      "text/plain": [
       "'xxx'"
      ]
     },
     "execution_count": 17,
     "metadata": {},
     "output_type": "execute_result"
    }
   ],
   "source": [
    "replace(\"ccc\",'c','x')"
   ]
  },
  {
   "cell_type": "markdown",
   "id": "4991e0cd",
   "metadata": {},
   "source": [
    "### RemoveX"
   ]
  },
  {
   "cell_type": "code",
   "execution_count": 31,
   "id": "802e7778",
   "metadata": {},
   "outputs": [],
   "source": [
    "def removeX(s,x): \n",
    "    if len(s) == 0:\n",
    "        return s\n",
    "    smalloutput = removeX(s[1:],x)\n",
    "    if s[0] != x:\n",
    "        return s[0] + smalloutput\n",
    "    else:\n",
    "        return '' + smalloutput"
   ]
  },
  {
   "cell_type": "code",
   "execution_count": 32,
   "id": "af58a310",
   "metadata": {},
   "outputs": [
    {
     "data": {
      "text/plain": [
       "'ab'"
      ]
     },
     "execution_count": 32,
     "metadata": {},
     "output_type": "execute_result"
    }
   ],
   "source": [
    "replaceX('xabx','x')"
   ]
  },
  {
   "cell_type": "markdown",
   "id": "4ae87c42",
   "metadata": {},
   "source": [
    "### Replace Pi"
   ]
  },
  {
   "cell_type": "code",
   "execution_count": 33,
   "id": "dd884061",
   "metadata": {},
   "outputs": [],
   "source": [
    "def replacePi(s):\n",
    "    if len(s) == 0 or len(s) == 1: #min length is 2\n",
    "        return s\n",
    "    if s[0] == 'p' and s[1] == 'i':\n",
    "        smalloutput = replacePi(s[2:])\n",
    "        return '3.14' + smalloutput\n",
    "    else:\n",
    "        smalloutput = replacePi(s[1:])\n",
    "        return s[0] + smalloutput"
   ]
  },
  {
   "cell_type": "code",
   "execution_count": 36,
   "id": "a48390ea",
   "metadata": {},
   "outputs": [
    {
     "data": {
      "text/plain": [
       "'p3.14a3.14'"
      ]
     },
     "execution_count": 36,
     "metadata": {},
     "output_type": "execute_result"
    }
   ],
   "source": [
    "replacePi('ppiapi')"
   ]
  },
  {
   "cell_type": "code",
   "execution_count": null,
   "id": "1dc4b48e",
   "metadata": {},
   "outputs": [],
   "source": []
  }
 ],
 "metadata": {
  "kernelspec": {
   "display_name": "Python 3 (ipykernel)",
   "language": "python",
   "name": "python3"
  },
  "language_info": {
   "codemirror_mode": {
    "name": "ipython",
    "version": 3
   },
   "file_extension": ".py",
   "mimetype": "text/x-python",
   "name": "python",
   "nbconvert_exporter": "python",
   "pygments_lexer": "ipython3",
   "version": "3.9.7"
  }
 },
 "nbformat": 4,
 "nbformat_minor": 5
}
