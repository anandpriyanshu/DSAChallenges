{
 "cells": [
  {
   "cell_type": "code",
   "execution_count": 1,
   "id": "310eaf82",
   "metadata": {},
   "outputs": [],
   "source": [
    "def BinarySearch(a,x,si,ei):\n",
    "    if si > ei:    #when cross each other  means len is zero\n",
    "        return -1\n",
    "    mid = (si + ei)//2\n",
    "    if a[mid] == x:\n",
    "        return mid\n",
    "    elif a[mid] > x:\n",
    "        return BinarySearch(a,x,si,mid-1)     # returning actual index  not the subpart\n",
    "    else:\n",
    "        return BinarySearch(a,x,mid+1,ei)"
   ]
  },
  {
   "cell_type": "code",
   "execution_count": 2,
   "id": "fd017d22",
   "metadata": {},
   "outputs": [
    {
     "data": {
      "text/plain": [
       "1"
      ]
     },
     "execution_count": 2,
     "metadata": {},
     "output_type": "execute_result"
    }
   ],
   "source": [
    "BinarySearch([1,3,5,7,8,9,10],3,0,6)"
   ]
  }
 ],
 "metadata": {
  "kernelspec": {
   "display_name": "Python 3 (ipykernel)",
   "language": "python",
   "name": "python3"
  },
  "language_info": {
   "codemirror_mode": {
    "name": "ipython",
    "version": 3
   },
   "file_extension": ".py",
   "mimetype": "text/x-python",
   "name": "python",
   "nbconvert_exporter": "python",
   "pygments_lexer": "ipython3",
   "version": "3.9.7"
  }
 },
 "nbformat": 4,
 "nbformat_minor": 5
}
