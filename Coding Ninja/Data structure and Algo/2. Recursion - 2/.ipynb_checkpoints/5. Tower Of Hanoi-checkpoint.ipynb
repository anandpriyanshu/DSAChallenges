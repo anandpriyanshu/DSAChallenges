{
 "cells": [
  {
   "cell_type": "code",
   "execution_count": 3,
   "id": "55b5fcbc",
   "metadata": {},
   "outputs": [],
   "source": [
    "def tower_hanoi(n,a,b,c):\n",
    "    if n == 1:         #base case, when only one disk\n",
    "        print(' move 1st disk from ', a , 'to', c)\n",
    "        return\n",
    "    tower_hanoi(n-1,a,c,b)   # move n-1 from a to b with the help of c\n",
    "    print(' move', n,'th disk from ', a , 'to', c)\n",
    "    tower_hanoi(n-1,b,a,c)     # move n-1 from b to c with the help of a"
   ]
  },
  {
   "cell_type": "code",
   "execution_count": 4,
   "id": "a50a07c0",
   "metadata": {},
   "outputs": [
    {
     "name": "stdout",
     "output_type": "stream",
     "text": [
      " move 1st disk from  s to d\n"
     ]
    }
   ],
   "source": [
    "tower_hanoi(1,'s','h','d')"
   ]
  },
  {
   "cell_type": "code",
   "execution_count": 5,
   "id": "14f645ad",
   "metadata": {},
   "outputs": [
    {
     "name": "stdout",
     "output_type": "stream",
     "text": [
      " move 1st disk from  s to h\n",
      " move 2 th disk from  s to d\n",
      " move 1st disk from  h to d\n"
     ]
    }
   ],
   "source": [
    "tower_hanoi(2,'s','h','d')"
   ]
  },
  {
   "cell_type": "code",
   "execution_count": 7,
   "id": "96efa0e3",
   "metadata": {},
   "outputs": [
    {
     "name": "stdout",
     "output_type": "stream",
     "text": [
      " move 1st disk from  s to d\n",
      " move 2 th disk from  s to h\n",
      " move 1st disk from  d to h\n",
      " move 3 th disk from  s to d\n",
      " move 1st disk from  h to s\n",
      " move 2 th disk from  h to d\n",
      " move 1st disk from  s to d\n"
     ]
    }
   ],
   "source": [
    "tower_hanoi(3,'s','h','d')"
   ]
  },
  {
   "cell_type": "code",
   "execution_count": 8,
   "id": "18807a69",
   "metadata": {},
   "outputs": [],
   "source": [
    "def tower_hanoi(n,a,b,c):\n",
    "    if n == 1:         #base case, when only one disk\n",
    "        print(a ,' ',c)\n",
    "        return\n",
    "    tower_hanoi(n-1,a,c,b)   # move n-1 from a to b with the help of c\n",
    "    print(  a ,' ', c)\n",
    "    tower_hanoi(n-1,b,a,c) "
   ]
  },
  {
   "cell_type": "code",
   "execution_count": 11,
   "id": "18b2df04",
   "metadata": {},
   "outputs": [
    {
     "name": "stdout",
     "output_type": "stream",
     "text": [
      "s   d\n",
      "s   h\n",
      "d   h\n",
      "s   d\n",
      "h   s\n",
      "h   d\n",
      "s   d\n"
     ]
    }
   ],
   "source": [
    "tower_hanoi(3,'s','h','d')"
   ]
  },
  {
   "cell_type": "code",
   "execution_count": null,
   "id": "d25182fc",
   "metadata": {},
   "outputs": [],
   "source": []
  }
 ],
 "metadata": {
  "kernelspec": {
   "display_name": "Python 3 (ipykernel)",
   "language": "python",
   "name": "python3"
  },
  "language_info": {
   "codemirror_mode": {
    "name": "ipython",
    "version": 3
   },
   "file_extension": ".py",
   "mimetype": "text/x-python",
   "name": "python",
   "nbconvert_exporter": "python",
   "pygments_lexer": "ipython3",
   "version": "3.9.7"
  }
 },
 "nbformat": 4,
 "nbformat_minor": 5
}
