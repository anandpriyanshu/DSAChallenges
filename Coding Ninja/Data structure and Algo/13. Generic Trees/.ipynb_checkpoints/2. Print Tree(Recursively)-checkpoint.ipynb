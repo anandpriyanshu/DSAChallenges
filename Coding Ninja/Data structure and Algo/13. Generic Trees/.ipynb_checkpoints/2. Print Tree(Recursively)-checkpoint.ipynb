{
 "cells": [
  {
   "cell_type": "code",
   "execution_count": 6,
   "id": "260db49a",
   "metadata": {},
   "outputs": [],
   "source": [
    "class TreeNode:\n",
    "    \n",
    "    def __init__(self,data):\n",
    "        self.data = data\n",
    "        self.children = list()   #intially node have no children sp empyt list"
   ]
  },
  {
   "cell_type": "code",
   "execution_count": 7,
   "id": "d48526a6",
   "metadata": {},
   "outputs": [],
   "source": [
    "def printTree(root):\n",
    "    #Not a base case it's an edge case\n",
    "    if root==None:\n",
    "        return\n",
    "    print(root.data)\n",
    "    for child in root.children:         # as soon as leaf comes for loop doesn't work for leaf\n",
    "        printTree(child)\n",
    "         "
   ]
  },
  {
   "cell_type": "code",
   "execution_count": 19,
   "id": "e8ed6a5c",
   "metadata": {},
   "outputs": [],
   "source": [
    "def printTreeDetailed(root):\n",
    "    if root==None:\n",
    "        return\n",
    "    \n",
    "    print(root.data,\":\",end=\" \")\n",
    "    for child in root.children:\n",
    "        print(child.data,\",\",end=\" \")\n",
    "    print()\n",
    "    \n",
    "    for child in root.children:\n",
    "        printTreeDetailed(child)"
   ]
  },
  {
   "cell_type": "code",
   "execution_count": 20,
   "id": "23e6ad40",
   "metadata": {},
   "outputs": [],
   "source": [
    "n1=TreeNode(5)\n",
    "n2=TreeNode(2)\n",
    "n3=TreeNode(9)\n",
    "n4=TreeNode(8)\n",
    "n5=TreeNode(7)\n",
    "n6=TreeNode(15)\n",
    "n7=TreeNode(1)"
   ]
  },
  {
   "cell_type": "code",
   "execution_count": 21,
   "id": "16514879",
   "metadata": {},
   "outputs": [
    {
     "name": "stdout",
     "output_type": "stream",
     "text": [
      "5\n",
      "2\n",
      "9\n",
      "15\n",
      "1\n",
      "8\n",
      "7\n"
     ]
    }
   ],
   "source": [
    "n1.children.append(n2)        # n2 is the children of n1\n",
    "n1.children.append(n3)        # n3 is the children of n1\n",
    "n1.children.append(n4)        # n4 is the children of n1\n",
    "n1.children.append(n5)        # n5 is the children of n1\n",
    "n3.children.append(n6)        # n6 is the children of n3\n",
    "n3.children.append(n7)        # n7 is the children of n3\n",
    "printTree(n1)"
   ]
  },
  {
   "cell_type": "code",
   "execution_count": 22,
   "id": "3b3a1ee9",
   "metadata": {},
   "outputs": [
    {
     "name": "stdout",
     "output_type": "stream",
     "text": [
      "5 : 2 , 9 , 8 , 7 , \n",
      "2 : \n",
      "9 : 15 , 1 , \n",
      "15 : \n",
      "1 : \n",
      "8 : \n",
      "7 : \n"
     ]
    }
   ],
   "source": [
    "printTreeDetailed(n1)"
   ]
  },
  {
   "cell_type": "code",
   "execution_count": null,
   "id": "980fa573",
   "metadata": {},
   "outputs": [],
   "source": []
  }
 ],
 "metadata": {
  "kernelspec": {
   "display_name": "Python 3 (ipykernel)",
   "language": "python",
   "name": "python3"
  },
  "language_info": {
   "codemirror_mode": {
    "name": "ipython",
    "version": 3
   },
   "file_extension": ".py",
   "mimetype": "text/x-python",
   "name": "python",
   "nbconvert_exporter": "python",
   "pygments_lexer": "ipython3",
   "version": "3.9.7"
  }
 },
 "nbformat": 4,
 "nbformat_minor": 5
}
