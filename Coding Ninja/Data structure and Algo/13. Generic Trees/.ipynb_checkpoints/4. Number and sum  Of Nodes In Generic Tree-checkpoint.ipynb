{
 "cells": [
  {
   "cell_type": "code",
   "execution_count": 1,
   "id": "1ba4b2ce",
   "metadata": {},
   "outputs": [],
   "source": [
    "class TreeNode:\n",
    "    \n",
    "    def __init__(self,data):\n",
    "        self.data = data\n",
    "        self.children = list()   #intially node have no children sp empyt list"
   ]
  },
  {
   "cell_type": "code",
   "execution_count": 2,
   "id": "175d7604",
   "metadata": {},
   "outputs": [],
   "source": [
    "def printTree(root):\n",
    "    #Not a base case it;s an edge case\n",
    "    if root==None:\n",
    "        return\n",
    "    print(root.data)\n",
    "    for child in root.children:         # as soon as leaf comes for loop doesn't work for leaf\n",
    "        printTree(child)\n",
    "         "
   ]
  },
  {
   "cell_type": "code",
   "execution_count": 3,
   "id": "1b0641b4",
   "metadata": {},
   "outputs": [],
   "source": [
    "def printTreeDetailed(root):\n",
    "    if root==None:\n",
    "        return\n",
    "    \n",
    "    print(root.data,\":\",end=\" \")\n",
    "    for child in root.children:\n",
    "        print(child.data,\",\",end=\" \")\n",
    "    print()\n",
    "    \n",
    "    for child in root.children:\n",
    "        printTreeDetailed(child)"
   ]
  },
  {
   "cell_type": "code",
   "execution_count": 4,
   "id": "43c6f3e0",
   "metadata": {},
   "outputs": [],
   "source": [
    "def takeTreeInput():\n",
    "    print('Enter Root Data')\n",
    "    rootData=int(input())\n",
    "    if rootData==-1:\n",
    "        return None\n",
    "    \n",
    "    root=TreeNode(rootData)\n",
    "    \n",
    "    print('Enter number of children for',rootData)\n",
    "    childrenCount=int(input())\n",
    "    for i in range(childrenCount):\n",
    "        child=takeTreeInput()\n",
    "        root.children.append(child)\n",
    "    return root"
   ]
  },
  {
   "cell_type": "code",
   "execution_count": 5,
   "id": "0fdec56a",
   "metadata": {},
   "outputs": [],
   "source": [
    "def numNodes(root):\n",
    "    # here edge case doesn't required\n",
    "    if root == None:\n",
    "        return 0\n",
    "    count = 1\n",
    "    for child in root.children:\n",
    "        count = count + numNodes(child)\n",
    "    return count"
   ]
  },
  {
   "cell_type": "code",
   "execution_count": 12,
   "id": "0bf1f522",
   "metadata": {},
   "outputs": [],
   "source": [
    "def sumNodes(root):\n",
    "    if root == None:\n",
    "        return 0\n",
    "    s = 0\n",
    "    for child in root.children:\n",
    "        s = s + sumNodes(child.data)\n",
    "    return s    "
   ]
  },
  {
   "cell_type": "code",
   "execution_count": 6,
   "id": "5e22b5bb",
   "metadata": {},
   "outputs": [
    {
     "name": "stdout",
     "output_type": "stream",
     "text": [
      "Enter Root Data\n",
      "1\n",
      "Enter number of children for 1\n",
      "3\n",
      "Enter Root Data\n",
      "2\n",
      "Enter number of children for 2\n",
      "0\n",
      "Enter Root Data\n",
      "3\n",
      "Enter number of children for 3\n",
      "2\n",
      "Enter Root Data\n",
      "5\n",
      "Enter number of children for 5\n",
      "0\n",
      "Enter Root Data\n",
      "6\n",
      "Enter number of children for 6\n",
      "3\n",
      "Enter Root Data\n",
      "7\n",
      "Enter number of children for 7\n",
      "0\n",
      "Enter Root Data\n",
      "8\n",
      "Enter number of children for 8\n",
      "0\n",
      "Enter Root Data\n",
      "9\n",
      "Enter number of children for 9\n",
      "0\n",
      "Enter Root Data\n",
      "4\n",
      "Enter number of children for 4\n",
      "0\n",
      "1 : 2 , 3 , 4 , \n",
      "2 : \n",
      "3 : 5 , 6 , \n",
      "5 : \n",
      "6 : 7 , 8 , 9 , \n",
      "7 : \n",
      "8 : \n",
      "9 : \n",
      "4 : \n",
      "9\n"
     ]
    }
   ],
   "source": [
    "root=takeTreeInput()\n",
    "printTreeDetailed(root)\n",
    "print(numNodes(root))"
   ]
  },
  {
   "cell_type": "code",
   "execution_count": 14,
   "id": "567e4495",
   "metadata": {},
   "outputs": [
    {
     "name": "stdout",
     "output_type": "stream",
     "text": [
      "Enter Root Data\n",
      "1\n",
      "Enter number of children for 1\n",
      "3\n",
      "Enter Root Data\n",
      "2\n",
      "Enter number of children for 2\n",
      "0\n",
      "Enter Root Data\n",
      "3\n",
      "Enter number of children for 3\n",
      "2\n",
      "Enter Root Data\n",
      "5\n",
      "Enter number of children for 5\n",
      "0\n",
      "Enter Root Data\n",
      "6\n",
      "Enter number of children for 6\n",
      "3\n",
      "Enter Root Data\n",
      "7\n",
      "Enter number of children for 7\n",
      "0\n",
      "Enter Root Data\n",
      "8\n",
      "Enter number of children for 8\n",
      "0\n",
      "Enter Root Data\n",
      "9\n",
      "Enter number of children for 9\n",
      "0\n",
      "Enter Root Data\n",
      "4\n",
      "Enter number of children for 4\n",
      "0\n",
      "1 : 2 , 3 , 4 , \n",
      "2 : \n",
      "3 : 5 , 6 , \n",
      "5 : \n",
      "6 : 7 , 8 , 9 , \n",
      "7 : \n",
      "8 : \n",
      "9 : \n",
      "4 : \n"
     ]
    },
    {
     "ename": "AttributeError",
     "evalue": "'int' object has no attribute 'children'",
     "output_type": "error",
     "traceback": [
      "\u001b[1;31m---------------------------------------------------------------------------\u001b[0m",
      "\u001b[1;31mAttributeError\u001b[0m                            Traceback (most recent call last)",
      "\u001b[1;32mC:\\Users\\PRIYAN~1\\AppData\\Local\\Temp/ipykernel_12616/1968028368.py\u001b[0m in \u001b[0;36m<module>\u001b[1;34m\u001b[0m\n\u001b[0;32m      1\u001b[0m \u001b[0mroot\u001b[0m\u001b[1;33m=\u001b[0m\u001b[0mtakeTreeInput\u001b[0m\u001b[1;33m(\u001b[0m\u001b[1;33m)\u001b[0m\u001b[1;33m\u001b[0m\u001b[1;33m\u001b[0m\u001b[0m\n\u001b[0;32m      2\u001b[0m \u001b[0mprintTreeDetailed\u001b[0m\u001b[1;33m(\u001b[0m\u001b[0mroot\u001b[0m\u001b[1;33m)\u001b[0m\u001b[1;33m\u001b[0m\u001b[1;33m\u001b[0m\u001b[0m\n\u001b[1;32m----> 3\u001b[1;33m \u001b[0mprint\u001b[0m\u001b[1;33m(\u001b[0m\u001b[0msumNodes\u001b[0m\u001b[1;33m(\u001b[0m\u001b[0mroot\u001b[0m\u001b[1;33m)\u001b[0m\u001b[1;33m)\u001b[0m\u001b[1;33m\u001b[0m\u001b[1;33m\u001b[0m\u001b[0m\n\u001b[0m",
      "\u001b[1;32mC:\\Users\\PRIYAN~1\\AppData\\Local\\Temp/ipykernel_12616/2732999145.py\u001b[0m in \u001b[0;36msumNodes\u001b[1;34m(root)\u001b[0m\n\u001b[0;32m      2\u001b[0m     \u001b[0ms\u001b[0m \u001b[1;33m=\u001b[0m \u001b[1;36m0\u001b[0m\u001b[1;33m\u001b[0m\u001b[1;33m\u001b[0m\u001b[0m\n\u001b[0;32m      3\u001b[0m     \u001b[1;32mfor\u001b[0m \u001b[0mchild\u001b[0m \u001b[1;32min\u001b[0m \u001b[0mroot\u001b[0m\u001b[1;33m.\u001b[0m\u001b[0mchildren\u001b[0m\u001b[1;33m:\u001b[0m\u001b[1;33m\u001b[0m\u001b[1;33m\u001b[0m\u001b[0m\n\u001b[1;32m----> 4\u001b[1;33m         \u001b[0ms\u001b[0m \u001b[1;33m=\u001b[0m \u001b[0mroot\u001b[0m\u001b[1;33m.\u001b[0m\u001b[0mdata\u001b[0m \u001b[1;33m+\u001b[0m \u001b[0msumNodes\u001b[0m\u001b[1;33m(\u001b[0m\u001b[0mchild\u001b[0m\u001b[1;33m.\u001b[0m\u001b[0mdata\u001b[0m\u001b[1;33m)\u001b[0m\u001b[1;33m\u001b[0m\u001b[1;33m\u001b[0m\u001b[0m\n\u001b[0m\u001b[0;32m      5\u001b[0m     \u001b[1;32mreturn\u001b[0m \u001b[0ms\u001b[0m\u001b[1;33m\u001b[0m\u001b[1;33m\u001b[0m\u001b[0m\n",
      "\u001b[1;32mC:\\Users\\PRIYAN~1\\AppData\\Local\\Temp/ipykernel_12616/2732999145.py\u001b[0m in \u001b[0;36msumNodes\u001b[1;34m(root)\u001b[0m\n\u001b[0;32m      1\u001b[0m \u001b[1;32mdef\u001b[0m \u001b[0msumNodes\u001b[0m\u001b[1;33m(\u001b[0m\u001b[0mroot\u001b[0m\u001b[1;33m)\u001b[0m\u001b[1;33m:\u001b[0m\u001b[1;33m\u001b[0m\u001b[1;33m\u001b[0m\u001b[0m\n\u001b[0;32m      2\u001b[0m     \u001b[0ms\u001b[0m \u001b[1;33m=\u001b[0m \u001b[1;36m0\u001b[0m\u001b[1;33m\u001b[0m\u001b[1;33m\u001b[0m\u001b[0m\n\u001b[1;32m----> 3\u001b[1;33m     \u001b[1;32mfor\u001b[0m \u001b[0mchild\u001b[0m \u001b[1;32min\u001b[0m \u001b[0mroot\u001b[0m\u001b[1;33m.\u001b[0m\u001b[0mchildren\u001b[0m\u001b[1;33m:\u001b[0m\u001b[1;33m\u001b[0m\u001b[1;33m\u001b[0m\u001b[0m\n\u001b[0m\u001b[0;32m      4\u001b[0m         \u001b[0ms\u001b[0m \u001b[1;33m=\u001b[0m \u001b[0mroot\u001b[0m\u001b[1;33m.\u001b[0m\u001b[0mdata\u001b[0m \u001b[1;33m+\u001b[0m \u001b[0msumNodes\u001b[0m\u001b[1;33m(\u001b[0m\u001b[0mchild\u001b[0m\u001b[1;33m.\u001b[0m\u001b[0mdata\u001b[0m\u001b[1;33m)\u001b[0m\u001b[1;33m\u001b[0m\u001b[1;33m\u001b[0m\u001b[0m\n\u001b[0;32m      5\u001b[0m     \u001b[1;32mreturn\u001b[0m \u001b[0ms\u001b[0m\u001b[1;33m\u001b[0m\u001b[1;33m\u001b[0m\u001b[0m\n",
      "\u001b[1;31mAttributeError\u001b[0m: 'int' object has no attribute 'children'"
     ]
    }
   ],
   "source": [
    "root=takeTreeInput()\n",
    "printTreeDetailed(root)\n",
    "print(sumNodes(root))"
   ]
  },
  {
   "cell_type": "code",
   "execution_count": null,
   "id": "d662aa06",
   "metadata": {},
   "outputs": [],
   "source": []
  }
 ],
 "metadata": {
  "kernelspec": {
   "display_name": "Python 3 (ipykernel)",
   "language": "python",
   "name": "python3"
  },
  "language_info": {
   "codemirror_mode": {
    "name": "ipython",
    "version": 3
   },
   "file_extension": ".py",
   "mimetype": "text/x-python",
   "name": "python",
   "nbconvert_exporter": "python",
   "pygments_lexer": "ipython3",
   "version": "3.9.7"
  }
 },
 "nbformat": 4,
 "nbformat_minor": 5
}
