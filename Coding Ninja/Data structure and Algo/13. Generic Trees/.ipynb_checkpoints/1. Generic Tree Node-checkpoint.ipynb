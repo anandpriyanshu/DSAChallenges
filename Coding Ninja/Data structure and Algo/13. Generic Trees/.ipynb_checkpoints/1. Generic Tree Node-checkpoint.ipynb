{
 "cells": [
  {
   "cell_type": "code",
   "execution_count": 1,
   "id": "d90bb002",
   "metadata": {},
   "outputs": [],
   "source": [
    "class TreeNode:\n",
    "    \n",
    "    def __init__(self,data):\n",
    "        self.data = data\n",
    "        self.children = list()   #intially node have no children sp empty list"
   ]
  },
  {
   "cell_type": "code",
   "execution_count": 2,
   "id": "1eb58dd3",
   "metadata": {},
   "outputs": [],
   "source": [
    "n1=TreeNode(5)\n",
    "n2=TreeNode(2)\n",
    "n3=TreeNode(9)\n",
    "n4=TreeNode(8)\n",
    "n5=TreeNode(17)\n",
    "n6=TreeNode(15)\n",
    "n7=TreeNode(1)"
   ]
  },
  {
   "cell_type": "code",
   "execution_count": 4,
   "id": "9c8e5292",
   "metadata": {},
   "outputs": [],
   "source": [
    "n1.children.append(n2)        # n2 is the children of n1\n",
    "n1.children.append(n3)        # n3 is the children of n1\n",
    "n1.children.append(n4)        # n4 is the children of n1\n",
    "n1.children.append(n5)        # n5 is the children of n1\n",
    "n3.children.append(n6)        # n6 is the children of n3\n",
    "n3.children.append(n7)        # n7 is the children of n3"
   ]
  }
 ],
 "metadata": {
  "kernelspec": {
   "display_name": "Python 3 (ipykernel)",
   "language": "python",
   "name": "python3"
  },
  "language_info": {
   "codemirror_mode": {
    "name": "ipython",
    "version": 3
   },
   "file_extension": ".py",
   "mimetype": "text/x-python",
   "name": "python",
   "nbconvert_exporter": "python",
   "pygments_lexer": "ipython3",
   "version": "3.9.7"
  }
 },
 "nbformat": 4,
 "nbformat_minor": 5
}
