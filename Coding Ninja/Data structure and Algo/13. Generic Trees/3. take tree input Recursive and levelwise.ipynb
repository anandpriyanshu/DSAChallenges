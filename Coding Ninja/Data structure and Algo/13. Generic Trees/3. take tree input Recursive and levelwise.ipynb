{
 "cells": [
  {
   "cell_type": "code",
   "execution_count": 18,
   "id": "04f70c43",
   "metadata": {},
   "outputs": [],
   "source": [
    "class TreeNode:\n",
    "    def __init__(self,data):\n",
    "        self.data=data\n",
    "        self.children=list()"
   ]
  },
  {
   "cell_type": "code",
   "execution_count": 19,
   "id": "c713e776",
   "metadata": {},
   "outputs": [],
   "source": [
    "def printTree(root):\n",
    "    #TNot a base case\n",
    "    if root==None:\n",
    "        return\n",
    "    print(root.data)\n",
    "    for child in root.children:\n",
    "        printTree(child)"
   ]
  },
  {
   "cell_type": "code",
   "execution_count": 20,
   "id": "8cd6bb6c",
   "metadata": {},
   "outputs": [],
   "source": [
    "def printTreeDetailed(root):\n",
    "    if root==None:\n",
    "        return\n",
    "    \n",
    "    print(root.data,\":\",end=\"\")\n",
    "    for child in root.children:\n",
    "        print(child.data,\",\",end=\"\")\n",
    "    print()\n",
    "    \n",
    "    for child in root.children:\n",
    "        printTreeDetailed(child)"
   ]
  },
  {
   "cell_type": "code",
   "execution_count": 21,
   "id": "15efc2be",
   "metadata": {},
   "outputs": [],
   "source": [
    "def takeTreeInput():\n",
    "    print('Enter Root Data')\n",
    "    rootData=int(input())\n",
    "    if rootData==-1:\n",
    "        return None\n",
    "    \n",
    "    root=TreeNode(rootData)\n",
    "    \n",
    "    print('Enter number of children for',rootData)\n",
    "    childrenCount=int(input())\n",
    "    for i in range(childrenCount):\n",
    "        child=takeTreeInput()\n",
    "        root.children.append(child)\n",
    "    return root"
   ]
  },
  {
   "cell_type": "code",
   "execution_count": 22,
   "id": "2cc8404b",
   "metadata": {},
   "outputs": [],
   "source": [
    "import queue\n",
    "def takeTreeInputLevelWise():\n",
    "    q=queue.Queue()\n",
    "    print(\"Enter root\")\n",
    "    rootData=int(input())\n",
    "    if rootData==-1:\n",
    "        return None \n",
    "    \n",
    "    root=TreeNode(rootData)\n",
    "    q.put(root)\n",
    "    while(not(q.empty())):\n",
    "        current_node=q.get()\n",
    "        print(\"Enter num of children for\",current_node.data)\n",
    "        numChildren=int(input())\n",
    "        \n",
    "        for i in range(numChildren):\n",
    "            print(\"Enter next child for\",current_node.data)\n",
    "            childData=int(input())\n",
    "            child=TreeNode(childData)\n",
    "            current_node.children.append(child)\n",
    "            q.put(child)\n",
    "    return root"
   ]
  },
  {
   "cell_type": "code",
   "execution_count": 23,
   "id": "cd063651",
   "metadata": {},
   "outputs": [],
   "source": [
    "def numNodes(root):\n",
    "    if root==None:\n",
    "        return 0\n",
    "    count=1\n",
    "    for child in root.children:\n",
    "        count=count+numNodes(child)\n",
    "    return count"
   ]
  },
  {
   "cell_type": "code",
   "execution_count": null,
   "id": "f574da6f",
   "metadata": {},
   "outputs": [],
   "source": [
    "root=takeTreeInput()\n",
    "printTreeDetailed(root)"
   ]
  },
  {
   "cell_type": "code",
   "execution_count": 25,
   "id": "081a3b76",
   "metadata": {},
   "outputs": [
    {
     "name": "stdout",
     "output_type": "stream",
     "text": [
      "Enter root\n",
      "1\n",
      "Enter num of children for 1\n",
      "3\n",
      "Enter next child for 1\n",
      "2\n",
      "Enter next child for 1\n",
      "3\n",
      "Enter next child for 1\n",
      "4\n",
      "Enter num of children for 2\n",
      "0\n",
      "Enter num of children for 3\n",
      "2\n",
      "Enter next child for 3\n",
      "5\n",
      "Enter next child for 3\n",
      "6\n",
      "Enter num of children for 4\n",
      "0\n",
      "Enter num of children for 5\n",
      "0\n",
      "Enter num of children for 6\n",
      "3\n",
      "Enter next child for 6\n",
      "7\n",
      "Enter next child for 6\n",
      "8\n",
      "Enter next child for 6\n",
      "9\n",
      "Enter num of children for 7\n",
      "0\n",
      "Enter num of children for 8\n",
      "0\n",
      "Enter num of children for 9\n",
      "0\n",
      "1 :2 ,3 ,4 ,\n",
      "2 :\n",
      "3 :5 ,6 ,\n",
      "5 :\n",
      "6 :7 ,8 ,9 ,\n",
      "7 :\n",
      "8 :\n",
      "9 :\n",
      "4 :\n",
      "9\n"
     ]
    }
   ],
   "source": [
    "root=takeTreeInputLevelWise()\n",
    "printTreeDetailed(root)\n",
    "print(numNodes(root))"
   ]
  },
  {
   "cell_type": "code",
   "execution_count": null,
   "id": "1b538cce",
   "metadata": {},
   "outputs": [],
   "source": []
  }
 ],
 "metadata": {
  "kernelspec": {
   "display_name": "Python 3 (ipykernel)",
   "language": "python",
   "name": "python3"
  },
  "language_info": {
   "codemirror_mode": {
    "name": "ipython",
    "version": 3
   },
   "file_extension": ".py",
   "mimetype": "text/x-python",
   "name": "python",
   "nbconvert_exporter": "python",
   "pygments_lexer": "ipython3",
   "version": "3.9.7"
  }
 },
 "nbformat": 4,
 "nbformat_minor": 5
}
