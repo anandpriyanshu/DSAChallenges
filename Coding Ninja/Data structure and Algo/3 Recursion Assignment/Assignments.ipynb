{
 "cells": [
  {
   "cell_type": "markdown",
   "id": "cba507f7",
   "metadata": {},
   "source": [
    "### Geometric Sum"
   ]
  },
  {
   "cell_type": "code",
   "execution_count": 12,
   "id": "594a1a06",
   "metadata": {},
   "outputs": [
    {
     "name": "stdout",
     "output_type": "stream",
     "text": [
      "7\n"
     ]
    },
    {
     "data": {
      "text/plain": [
       "1.9921875"
      ]
     },
     "execution_count": 12,
     "metadata": {},
     "output_type": "execute_result"
    }
   ],
   "source": [
    "def Geosum(k):\n",
    "    if k ==0: # base case\n",
    "        return 1\n",
    "    return  (1/2)**k + Geosum(k-1)   #Induction hypothesis and induction\n",
    "\n",
    "k = int(input())\n",
    "Geosum(k)"
   ]
  },
  {
   "cell_type": "code",
   "execution_count": 9,
   "id": "aa5d09a9",
   "metadata": {},
   "outputs": [
    {
     "data": {
      "text/plain": [
       "1.9921875"
      ]
     },
     "execution_count": 9,
     "metadata": {},
     "output_type": "execute_result"
    }
   ],
   "source": [
    "Geosum(7)"
   ]
  },
  {
   "cell_type": "code",
   "execution_count": 11,
   "id": "b003b6ed",
   "metadata": {},
   "outputs": [
    {
     "name": "stdout",
     "output_type": "stream",
     "text": [
      "7\n",
      "1.99219\n"
     ]
    }
   ],
   "source": [
    "def Geosum(k):\n",
    "    if k ==0:\n",
    "        return 1\n",
    "    return (1/2)**k + Geosum(k-1)\n",
    "\n",
    "k = int(input())\n",
    "print('%.5f'%Geosum(k))        # need to 5 decimal places"
   ]
  },
  {
   "cell_type": "markdown",
   "id": "48e11625",
   "metadata": {},
   "source": [
    "### Sum of digits (recursive)"
   ]
  },
  {
   "cell_type": "code",
   "execution_count": 1,
   "id": "2ce555a7",
   "metadata": {},
   "outputs": [
    {
     "name": "stdout",
     "output_type": "stream",
     "text": [
      "1234\n",
      "10\n"
     ]
    }
   ],
   "source": [
    "def sum(n):\n",
    "    if n==0:\n",
    "        return 0\n",
    "    return n%10+sum(n//10)\n",
    "n=int(input())\n",
    "print(sum(n))"
   ]
  },
  {
   "cell_type": "code",
   "execution_count": 6,
   "id": "188aeedf",
   "metadata": {},
   "outputs": [
    {
     "name": "stdout",
     "output_type": "stream",
     "text": [
      "9\n",
      "9\n"
     ]
    }
   ],
   "source": [
    "n=int(input())\n",
    "print(sum(n))"
   ]
  },
  {
   "cell_type": "markdown",
   "id": "320cd4ab",
   "metadata": {},
   "source": [
    "### Check Palindrome (recursive)"
   ]
  },
  {
   "cell_type": "code",
   "execution_count": 5,
   "id": "a96e1f39",
   "metadata": {},
   "outputs": [
    {
     "name": "stdout",
     "output_type": "stream",
     "text": [
      "121\n",
      "true\n"
     ]
    }
   ],
   "source": [
    "def palindrome2(str):\n",
    "    l = len(str)\n",
    "    if l<=1:\n",
    "        return True\n",
    "    if str[0] != str[l-1]:\n",
    "        return False\n",
    "    else:\n",
    "        return palindrome2(str[1:-1])\n",
    "    \n",
    "str = input()\n",
    "if palindrome2(str):\n",
    "    print('true')\n",
    "else:\n",
    "    print('false')"
   ]
  },
  {
   "cell_type": "code",
   "execution_count": 6,
   "id": "f40d8a16",
   "metadata": {},
   "outputs": [],
   "source": [
    "# 2nd method\n",
    "def checkpaline(s,si,ei):\n",
    "    if l==0 or l==1:\n",
    "        return True\n",
    "    if s[si]!=s[ei]:\n",
    "        return False\n",
    "    elif si<ei:\n",
    "        return checkpaline(s,si+1,ei-1)\n",
    "    return True"
   ]
  },
  {
   "cell_type": "code",
   "execution_count": 7,
   "id": "2f7839ed",
   "metadata": {},
   "outputs": [
    {
     "name": "stdout",
     "output_type": "stream",
     "text": [
      "121\n",
      "true\n"
     ]
    }
   ],
   "source": [
    "s=input()\n",
    "l=len(s)\n",
    "si=0\n",
    "ei=l-1\n",
    "if checkpaline(s,si,ei):\n",
    "    print(\"true\")\n",
    "else:\n",
    "    print(\"false\")"
   ]
  },
  {
   "cell_type": "markdown",
   "id": "100d8c6a",
   "metadata": {},
   "source": [
    "### Multiplication (Recursive)\n"
   ]
  },
  {
   "cell_type": "code",
   "execution_count": 10,
   "id": "b0d792f2",
   "metadata": {},
   "outputs": [
    {
     "name": "stdout",
     "output_type": "stream",
     "text": [
      "3\n",
      "4\n",
      "12\n"
     ]
    }
   ],
   "source": [
    "def multiplication(m,n):\n",
    "    if  n ==0:\n",
    "        return 0\n",
    "    return m*(n-1) + m\n",
    "m = int(input())\n",
    "n =  int(input())\n",
    "print(multiplication(m,n))"
   ]
  },
  {
   "cell_type": "code",
   "execution_count": 7,
   "id": "c02bed39",
   "metadata": {},
   "outputs": [
    {
     "name": "stdout",
     "output_type": "stream",
     "text": [
      "3\n",
      "5\n",
      "15\n"
     ]
    }
   ],
   "source": [
    "#2nd method solve by mine\n",
    "def multiplication(m,n):\n",
    "    if  n ==0:\n",
    "        return 0\n",
    "    a = multiplication(m,n-1)\n",
    "    return a + m\n",
    "m = int(input())\n",
    "n =  int(input())\n",
    "print(multiplication(m,n))"
   ]
  },
  {
   "cell_type": "markdown",
   "id": "7e12c64f",
   "metadata": {},
   "source": [
    "### Count zero"
   ]
  },
  {
   "cell_type": "code",
   "execution_count": 15,
   "id": "d96d727c",
   "metadata": {},
   "outputs": [
    {
     "name": "stdout",
     "output_type": "stream",
     "text": [
      "10000005\n",
      "6\n"
     ]
    }
   ],
   "source": [
    "# sol by myself\n",
    "def countzero(n):\n",
    "    if n == 0:\n",
    "        return 0\n",
    "    smallop = countzero(n//10)\n",
    "    if n%10==0:\n",
    "        smallop += 1\n",
    "    \n",
    "    return smallop\n",
    "from sys import setrecursionlimit\n",
    "setrecursionlimit(11000)\n",
    "n =int(input())\n",
    "print(countzero(n))"
   ]
  },
  {
   "cell_type": "code",
   "execution_count": 4,
   "id": "946e2eb3",
   "metadata": {},
   "outputs": [
    {
     "name": "stdout",
     "output_type": "stream",
     "text": [
      "102003\n",
      "3\n"
     ]
    }
   ],
   "source": [
    "# TA soln\n",
    "def countZeroes(n):\n",
    "    if n < 0:\n",
    "        n *= -1\n",
    "    if n < 10:\n",
    "        if n == 0:\n",
    "            return 1\n",
    "        return 0\n",
    "    smallAns =  countZeroes(n//10)\n",
    "    if n%10 == 0:\n",
    "        smallAns += 1\n",
    "    return smallAns\n",
    "from sys import setrecursionlimit\n",
    "setrecursionlimit(11000)\n",
    "n = int(input())\n",
    "print(countZeroes(n))"
   ]
  },
  {
   "cell_type": "markdown",
   "id": "eecd8b5f",
   "metadata": {},
   "source": [
    "### String to Integer"
   ]
  },
  {
   "cell_type": "code",
   "execution_count": 2,
   "id": "5814bd1e",
   "metadata": {},
   "outputs": [
    {
     "name": "stdout",
     "output_type": "stream",
     "text": [
      "12134\n",
      "12134\n"
     ]
    }
   ],
   "source": [
    "#1st method , TA sol\n",
    "def convert(str):\n",
    "    return int(str)\n",
    "\n",
    "str = input()\n",
    "print(convert(str))"
   ]
  },
  {
   "cell_type": "code",
   "execution_count": 22,
   "id": "b3dab49b",
   "metadata": {},
   "outputs": [],
   "source": [
    "# my sol\n",
    "def stringtointegar(s):\n",
    "    if len(s) == 0:\n",
    "        return 0\n",
    "    a = stringtointegar(s[:len(s)-1])  #Recursion call from to end - 1\n",
    "    b = int(s[len(s)-1])\n",
    "    return a * 10 + b     # recursion call multiply with 10 and add b"
   ]
  },
  {
   "cell_type": "code",
   "execution_count": 23,
   "id": "f236c49e",
   "metadata": {},
   "outputs": [
    {
     "name": "stdout",
     "output_type": "stream",
     "text": [
      "1245\n"
     ]
    },
    {
     "data": {
      "text/plain": [
       "1245"
      ]
     },
     "execution_count": 23,
     "metadata": {},
     "output_type": "execute_result"
    }
   ],
   "source": [
    "n = input()\n",
    "stringtointegar(n)"
   ]
  },
  {
   "cell_type": "code",
   "execution_count": 16,
   "id": "cfab84f9",
   "metadata": {},
   "outputs": [
    {
     "data": {
      "text/plain": [
       "1245"
      ]
     },
     "execution_count": 16,
     "metadata": {},
     "output_type": "execute_result"
    }
   ],
   "source": [
    "#My method\n",
    "def s2i(s):\n",
    "    if len(s) == 1:\n",
    "        return int(s[0])\n",
    "    a = s2i(s[:-1])\n",
    "    b = int(s[-1])\n",
    "    return a*10 + b\n",
    "\n",
    "s2i('1245')"
   ]
  },
  {
   "cell_type": "markdown",
   "id": "3e1c53d5",
   "metadata": {},
   "source": [
    "### Pair Star"
   ]
  },
  {
   "cell_type": "code",
   "execution_count": 1,
   "id": "08f4c390",
   "metadata": {},
   "outputs": [
    {
     "name": "stdout",
     "output_type": "stream",
     "text": [
      "hello\n",
      "hel*lo\n"
     ]
    }
   ],
   "source": [
    "\n",
    "def pairStar(string):\n",
    "    \n",
    "    # Base Case\n",
    "    if len(string) <= 1: \n",
    "        return string \n",
    "    \n",
    "    if string[0] != string[1]:\n",
    "        return string[0] + pairStar(string[1:])\n",
    "    else: \n",
    "        return string[0] + '*' + pairStar(string[1:])\n",
    "string = input().strip()\n",
    "print(pairStar(string))\n"
   ]
  },
  {
   "cell_type": "code",
   "execution_count": 6,
   "id": "b61095db",
   "metadata": {},
   "outputs": [
    {
     "data": {
      "text/plain": [
       "'a*a*a*a'"
      ]
     },
     "execution_count": 6,
     "metadata": {},
     "output_type": "execute_result"
    }
   ],
   "source": [
    "#my solun\n",
    "def pairstar(s):\n",
    "    if len(s)<=1:\n",
    "        return s\n",
    "    smallop = pairstar(s[1:])\n",
    "    if s[0] == s[1]:\n",
    "        return s[0] + '*' + smallop\n",
    "    else:\n",
    "        return s[0] + smallop\n",
    "pairstar('aaaa')    "
   ]
  },
  {
   "cell_type": "markdown",
   "id": "ed4559bb",
   "metadata": {},
   "source": [
    "### Stair case"
   ]
  },
  {
   "cell_type": "code",
   "execution_count": 28,
   "id": "d75678ba",
   "metadata": {},
   "outputs": [
    {
     "name": "stdout",
     "output_type": "stream",
     "text": [
      "4\n",
      "7\n"
     ]
    }
   ],
   "source": [
    "def staircase(n):\n",
    "    if(n<3):\n",
    "        return n\n",
    "    if(n==3):\n",
    "        return 4\n",
    "    return staircase(n-1)+staircase(n-2)+staircase(n-3)\n",
    "\n",
    "n=int(input())\n",
    "count=staircase(n)\n",
    "print(count)"
   ]
  },
  {
   "cell_type": "markdown",
   "id": "7fc1b567",
   "metadata": {},
   "source": [
    "### Sum of Array"
   ]
  },
  {
   "cell_type": "code",
   "execution_count": 1,
   "id": "4149bfb9",
   "metadata": {},
   "outputs": [],
   "source": [
    "def SumofArray(a):\n",
    "    if len(a) ==0:\n",
    "        return 0\n",
    "    smallop = SumofArray(a[1:])\n",
    "    return a[0] + smallop"
   ]
  },
  {
   "cell_type": "code",
   "execution_count": 2,
   "id": "84363da5",
   "metadata": {},
   "outputs": [
    {
     "data": {
      "text/plain": [
       "10"
      ]
     },
     "execution_count": 2,
     "metadata": {},
     "output_type": "execute_result"
    }
   ],
   "source": [
    "a = [1,2,3,4]\n",
    "SumofArray(a)"
   ]
  },
  {
   "cell_type": "code",
   "execution_count": 11,
   "id": "99aa0125",
   "metadata": {},
   "outputs": [
    {
     "data": {
      "text/plain": [
       "10299"
      ]
     },
     "execution_count": 11,
     "metadata": {},
     "output_type": "execute_result"
    }
   ],
   "source": [
    "102993//10"
   ]
  },
  {
   "cell_type": "code",
   "execution_count": 12,
   "id": "ff24e252",
   "metadata": {},
   "outputs": [
    {
     "data": {
      "text/plain": [
       "9"
      ]
     },
     "execution_count": 12,
     "metadata": {},
     "output_type": "execute_result"
    }
   ],
   "source": [
    "10299%10"
   ]
  },
  {
   "cell_type": "code",
   "execution_count": null,
   "id": "211dbc8a",
   "metadata": {},
   "outputs": [],
   "source": []
  }
 ],
 "metadata": {
  "kernelspec": {
   "display_name": "Python 3 (ipykernel)",
   "language": "python",
   "name": "python3"
  },
  "language_info": {
   "codemirror_mode": {
    "name": "ipython",
    "version": 3
   },
   "file_extension": ".py",
   "mimetype": "text/x-python",
   "name": "python",
   "nbconvert_exporter": "python",
   "pygments_lexer": "ipython3",
   "version": "3.9.7"
  }
 },
 "nbformat": 4,
 "nbformat_minor": 5
}
