{
 "cells": [
  {
   "cell_type": "code",
   "execution_count": 2,
   "id": "3be7a8dc",
   "metadata": {},
   "outputs": [],
   "source": [
    "# Parent Class\n",
    "class Vehicle():\n",
    "    current_year=2021\n",
    "    base_price=1000\n",
    "    \n",
    "    def __init__(self,make,model,fuel):\n",
    "        self.make=make\n",
    "        #Protected Attributes\n",
    "        self._model=model\n",
    "        self._fuel=fuel\n",
    "    \n",
    "    def _get_value(self):\n",
    "        age=Vehicle.current_year-self.model\n",
    "        print(\"This is default method of parent\")\n",
    "        return Vehicle.base_price*(1/age)"
   ]
  },
  {
   "cell_type": "code",
   "execution_count": 3,
   "id": "7f5a5fcf",
   "metadata": {},
   "outputs": [],
   "source": [
    "\n",
    "# Child Class\n",
    "class Car(Vehicle):\n",
    "    def __init__(self,make,model,fuel,air_conditioning,sunroof):\n",
    "        super(Car,self).__init__(make,model,fuel)\n",
    "        #protected\n",
    "        self._air_conditioning=air_conditioning\n",
    "        self._sunroof=sunroof\n",
    "    #Overriding Method --> replaces the parent default method\n",
    "    #Protected Method\n",
    "    def _get_value(self):\n",
    "        Vehicle.base_price=5000\n",
    "        age=Vehicle.current_year-self._model\n",
    "        print(\"This is child override method\")\n",
    "        return Vehicle.base_price*(1/age)"
   ]
  },
  {
   "cell_type": "code",
   "execution_count": 4,
   "id": "3ac20a87",
   "metadata": {},
   "outputs": [],
   "source": [
    "myObj=Car(\"Tesla\",2019,\"Electric\",True,True)"
   ]
  },
  {
   "cell_type": "code",
   "execution_count": 5,
   "id": "7da83af3",
   "metadata": {},
   "outputs": [
    {
     "data": {
      "text/plain": [
       "True"
      ]
     },
     "execution_count": 5,
     "metadata": {},
     "output_type": "execute_result"
    }
   ],
   "source": [
    "myObj._air_conditioning"
   ]
  },
  {
   "cell_type": "code",
   "execution_count": 6,
   "id": "43a09dcf",
   "metadata": {},
   "outputs": [
    {
     "data": {
      "text/plain": [
       "True"
      ]
     },
     "execution_count": 6,
     "metadata": {},
     "output_type": "execute_result"
    }
   ],
   "source": [
    "myObj._sunroof"
   ]
  },
  {
   "cell_type": "code",
   "execution_count": 7,
   "id": "32c33d3b",
   "metadata": {},
   "outputs": [
    {
     "name": "stdout",
     "output_type": "stream",
     "text": [
      "This is child override method\n"
     ]
    },
    {
     "data": {
      "text/plain": [
       "2500.0"
      ]
     },
     "execution_count": 7,
     "metadata": {},
     "output_type": "execute_result"
    }
   ],
   "source": [
    "myObj._get_value()"
   ]
  },
  {
   "cell_type": "code",
   "execution_count": 8,
   "id": "22aa4c20",
   "metadata": {},
   "outputs": [
    {
     "ename": "AttributeError",
     "evalue": "'Car' object has no attribute 'air_conditioning'",
     "output_type": "error",
     "traceback": [
      "\u001b[1;31m---------------------------------------------------------------------------\u001b[0m",
      "\u001b[1;31mAttributeError\u001b[0m                            Traceback (most recent call last)",
      "\u001b[1;32mC:\\Users\\PRIYAN~1\\AppData\\Local\\Temp/ipykernel_1364/905312799.py\u001b[0m in \u001b[0;36m<module>\u001b[1;34m\u001b[0m\n\u001b[1;32m----> 1\u001b[1;33m \u001b[0mmyObj\u001b[0m\u001b[1;33m.\u001b[0m\u001b[0mair_conditioning\u001b[0m\u001b[1;33m\u001b[0m\u001b[1;33m\u001b[0m\u001b[0m\n\u001b[0m",
      "\u001b[1;31mAttributeError\u001b[0m: 'Car' object has no attribute 'air_conditioning'"
     ]
    }
   ],
   "source": [
    "myObj.air_conditioning   # without underscore it can't access bcz it's protected so we need to single underscore"
   ]
  },
  {
   "cell_type": "code",
   "execution_count": null,
   "id": "94080678",
   "metadata": {},
   "outputs": [],
   "source": []
  }
 ],
 "metadata": {
  "kernelspec": {
   "display_name": "Python 3 (ipykernel)",
   "language": "python",
   "name": "python3"
  },
  "language_info": {
   "codemirror_mode": {
    "name": "ipython",
    "version": 3
   },
   "file_extension": ".py",
   "mimetype": "text/x-python",
   "name": "python",
   "nbconvert_exporter": "python",
   "pygments_lexer": "ipython3",
   "version": "3.9.7"
  }
 },
 "nbformat": 4,
 "nbformat_minor": 5
}
