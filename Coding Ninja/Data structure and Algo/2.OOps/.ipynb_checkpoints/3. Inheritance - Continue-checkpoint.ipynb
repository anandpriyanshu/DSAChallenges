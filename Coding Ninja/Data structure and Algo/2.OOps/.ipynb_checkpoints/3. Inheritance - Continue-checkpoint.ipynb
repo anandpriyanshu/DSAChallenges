{
 "cells": [
  {
   "cell_type": "code",
   "execution_count": 16,
   "id": "4bcb35f4",
   "metadata": {},
   "outputs": [],
   "source": [
    "# Parent Class\n",
    "class Vehicle():\n",
    "    def __init__(self,make,model,fuel):\n",
    "        self.make=make\n",
    "        #Private\n",
    "        self.__model=model\n",
    "        self.__fuel=fuel\n",
    "    def __private_method_parent(self):\n",
    "        print(\"This is private\")"
   ]
  },
  {
   "cell_type": "code",
   "execution_count": 17,
   "id": "8b315406",
   "metadata": {},
   "outputs": [],
   "source": [
    "# Child Class\n",
    "class Car(Vehicle):\n",
    "    def __init__(self,make,model,fuel,air_conditioning,sunroof):\n",
    "        super(Car,self).__init__(make,model,fuel)        #Brought down the parent attribute to the child attribute\n",
    "        \n",
    " #       # Parent Attributes\n",
    " #       Vehicle.make=make\n",
    " #       Vehicle.__model=model\n",
    " #       Vehicle.__fuel=fuel\n",
    "        self.air_conditioning=air_conditioning         #instance atrribute\n",
    "        self.sunroof=sunroof                           #instance atrribute \n",
    "    #def show_parent_attribute(self):\n",
    "     #   print(Vehicle.make,\" \",Vehicle.__model,\" \",Vehicle.__fuel)\n",
    "    # def show_privatemethod_ofparent(self):\n",
    "    #    self._Vehicle__private_method_parent()    "
   ]
  },
  {
   "cell_type": "code",
   "execution_count": 18,
   "id": "d103e8f6",
   "metadata": {},
   "outputs": [],
   "source": [
    "myobj=Car(\"Tesla\",2019,\"Electric\",True,True)"
   ]
  },
  {
   "cell_type": "code",
   "execution_count": 19,
   "id": "17745beb",
   "metadata": {},
   "outputs": [
    {
     "data": {
      "text/plain": [
       "{'make': 'Tesla',\n",
       " '_Vehicle__model': 2019,\n",
       " '_Vehicle__fuel': 'Electric',\n",
       " 'air_conditioning': True,\n",
       " 'sunroof': True}"
      ]
     },
     "execution_count": 19,
     "metadata": {},
     "output_type": "execute_result"
    }
   ],
   "source": [
    "myobj.__dict__        #Print all the parent and instance(child) attribute bcz Brought down the parent attribute to the child attribute"
   ]
  },
  {
   "cell_type": "code",
   "execution_count": 21,
   "id": "0915d850",
   "metadata": {},
   "outputs": [
    {
     "name": "stdout",
     "output_type": "stream",
     "text": [
      "This is private\n"
     ]
    }
   ],
   "source": [
    "myobj._Vehicle__private_method_parent()      #w here we can private access directly"
   ]
  },
  {
   "cell_type": "code",
   "execution_count": null,
   "id": "93e20378",
   "metadata": {},
   "outputs": [],
   "source": []
  }
 ],
 "metadata": {
  "kernelspec": {
   "display_name": "Python 3 (ipykernel)",
   "language": "python",
   "name": "python3"
  },
  "language_info": {
   "codemirror_mode": {
    "name": "ipython",
    "version": 3
   },
   "file_extension": ".py",
   "mimetype": "text/x-python",
   "name": "python",
   "nbconvert_exporter": "python",
   "pygments_lexer": "ipython3",
   "version": "3.9.7"
  }
 },
 "nbformat": 4,
 "nbformat_minor": 5
}
