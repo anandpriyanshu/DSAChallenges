{
 "cells": [
  {
   "cell_type": "code",
   "execution_count": 7,
   "id": "a6452bfc",
   "metadata": {},
   "outputs": [],
   "source": [
    "class Car():\n",
    "    def __init__(self,make,model,fuel):\n",
    "        self.make=make\n",
    "        self.model=model\n",
    "        self.fuel=fuel\n",
    "    def get_car_detail(self):\n",
    "        return \"the make of the car is\", self.make,\"from car class\"\n",
    "    \n",
    "class ElectricCar():\n",
    "    def __init__(self,make,model,fuel):\n",
    "        self.make=make\n",
    "        self.model=model\n",
    "        self.fuel=fuel\n",
    "        \n",
    "    def get_car_detail(self):\n",
    "        return \"the make of the car is\",self.make,\"from Electric Car class\"\n",
    "\n",
    "class Taxi(ElectricCar,Car):#Multiple Inheritance\n",
    "    def __init__(self,make,model,fuel):\n",
    "        super().__init__(make,model,fuel)"
   ]
  },
  {
   "cell_type": "code",
   "execution_count": 8,
   "id": "15c638e6",
   "metadata": {},
   "outputs": [],
   "source": [
    "myobj=Taxi(\"Tesla\",2019,\"electric\")"
   ]
  },
  {
   "cell_type": "code",
   "execution_count": 9,
   "id": "f4f4c36b",
   "metadata": {},
   "outputs": [
    {
     "data": {
      "text/plain": [
       "('the make of the car is', 'Tesla', 'from Electric Car class')"
      ]
     },
     "execution_count": 9,
     "metadata": {},
     "output_type": "execute_result"
    }
   ],
   "source": [
    "myobj.get_car_detail()"
   ]
  },
  {
   "cell_type": "code",
   "execution_count": 12,
   "id": "826f2d5c",
   "metadata": {},
   "outputs": [
    {
     "data": {
      "text/plain": [
       "(__main__.Taxi, __main__.ElectricCar, __main__.Car, object)"
      ]
     },
     "execution_count": 12,
     "metadata": {},
     "output_type": "execute_result"
    }
   ],
   "source": [
    "Taxi.__mro__      #execution order"
   ]
  },
  {
   "cell_type": "code",
   "execution_count": 13,
   "id": "07739f8d",
   "metadata": {},
   "outputs": [
    {
     "data": {
      "text/plain": [
       "[__main__.Taxi, __main__.ElectricCar, __main__.Car, object]"
      ]
     },
     "execution_count": 13,
     "metadata": {},
     "output_type": "execute_result"
    }
   ],
   "source": [
    "Taxi.mro()      #execution order"
   ]
  },
  {
   "cell_type": "code",
   "execution_count": null,
   "id": "3ce1449a",
   "metadata": {},
   "outputs": [],
   "source": []
  }
 ],
 "metadata": {
  "kernelspec": {
   "display_name": "Python 3 (ipykernel)",
   "language": "python",
   "name": "python3"
  },
  "language_info": {
   "codemirror_mode": {
    "name": "ipython",
    "version": 3
   },
   "file_extension": ".py",
   "mimetype": "text/x-python",
   "name": "python",
   "nbconvert_exporter": "python",
   "pygments_lexer": "ipython3",
   "version": "3.9.7"
  }
 },
 "nbformat": 4,
 "nbformat_minor": 5
}
