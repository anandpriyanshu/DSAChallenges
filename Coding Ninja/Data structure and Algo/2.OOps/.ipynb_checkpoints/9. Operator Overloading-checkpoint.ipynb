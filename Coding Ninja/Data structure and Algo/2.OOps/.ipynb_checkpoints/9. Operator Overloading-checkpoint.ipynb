{
 "cells": [
  {
   "cell_type": "code",
   "execution_count": 7,
   "id": "b4104225",
   "metadata": {},
   "outputs": [],
   "source": [
    "class Vehicle:\n",
    "    def __init__(self,make,model,fare):\n",
    "        self.make=make\n",
    "        self.model=model\n",
    "        self.fare=fare\n",
    "    def __str__(self):\n",
    "        return (f\"The make of the model is {self.make} and the model is of {self.model} with a fare of {self.fare} RS/Min\")\n",
    "    def __add__(self,other):\n",
    "        return self.fare+other.fare"
   ]
  },
  {
   "cell_type": "code",
   "execution_count": 8,
   "id": "a5b1ff49",
   "metadata": {},
   "outputs": [],
   "source": [
    "myob1=(\"Tesla\",2019,40)   #This is tuple\n",
    "myob2=(\"ford\",2018,80)     #This is tuple"
   ]
  },
  {
   "cell_type": "code",
   "execution_count": 9,
   "id": "c3e897b4",
   "metadata": {},
   "outputs": [
    {
     "name": "stdout",
     "output_type": "stream",
     "text": [
      "('Tesla', 2019, 40)\n"
     ]
    }
   ],
   "source": [
    "print(myob1)"
   ]
  },
  {
   "cell_type": "code",
   "execution_count": 10,
   "id": "aea4bb39",
   "metadata": {},
   "outputs": [],
   "source": [
    "myob1=Vehicle(\"Tesla\",2019,40)\n",
    "myob2=Vehicle(\"ford\",2018,80)"
   ]
  },
  {
   "cell_type": "code",
   "execution_count": 11,
   "id": "d5f273ad",
   "metadata": {},
   "outputs": [
    {
     "name": "stdout",
     "output_type": "stream",
     "text": [
      "The make of the model is Tesla and the model is of 2019 with a fare of 40 RS/Min\n"
     ]
    }
   ],
   "source": [
    "print(myob1)"
   ]
  },
  {
   "cell_type": "code",
   "execution_count": 12,
   "id": "d2827129",
   "metadata": {},
   "outputs": [
    {
     "data": {
      "text/plain": [
       "120"
      ]
     },
     "execution_count": 12,
     "metadata": {},
     "output_type": "execute_result"
    }
   ],
   "source": [
    "myob1 + myob2    # due to add method"
   ]
  },
  {
   "cell_type": "code",
   "execution_count": null,
   "id": "53818bb2",
   "metadata": {},
   "outputs": [],
   "source": []
  }
 ],
 "metadata": {
  "kernelspec": {
   "display_name": "Python 3 (ipykernel)",
   "language": "python",
   "name": "python3"
  },
  "language_info": {
   "codemirror_mode": {
    "name": "ipython",
    "version": 3
   },
   "file_extension": ".py",
   "mimetype": "text/x-python",
   "name": "python",
   "nbconvert_exporter": "python",
   "pygments_lexer": "ipython3",
   "version": "3.9.7"
  }
 },
 "nbformat": 4,
 "nbformat_minor": 5
}
