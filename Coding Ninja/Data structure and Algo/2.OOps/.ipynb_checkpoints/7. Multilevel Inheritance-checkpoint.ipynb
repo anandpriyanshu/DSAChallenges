{
 "cells": [
  {
   "cell_type": "code",
   "execution_count": 1,
   "id": "2c83d5bc",
   "metadata": {},
   "outputs": [],
   "source": [
    "#Parent class\n",
    "class Vehicle():\n",
    "    def __init__(self,make,model,fuel):\n",
    "        self.make=make\n",
    "        self.model=model\n",
    "        self.fuel=fuel\n",
    "        \n",
    "#Child Class\n",
    "class Car(Vehicle):\n",
    "    def __init__(self,make,model,fuel,air_conditioning,sunroof):\n",
    "        super(Car,self).__init__(make,model,fuel)\n",
    "        self.air_conditioning=air_conditioning\n",
    "        self._sunroof=sunroof\n",
    "class ElectricVehcile(Car):\n",
    "    def __init__(self,make,model,fuel,air_conditioning,sunroof,distance):\n",
    "        super(ElectricVehcile,self).__init__(make,model,fuel,air_conditioning,sunroof)\n",
    "        self.distance=distance"
   ]
  },
  {
   "cell_type": "code",
   "execution_count": 2,
   "id": "864de7a0",
   "metadata": {},
   "outputs": [],
   "source": [
    "myobj=ElectricVehcile(\"tesla\",2019,\"Electric\",True,True,500)"
   ]
  },
  {
   "cell_type": "code",
   "execution_count": 3,
   "id": "b9fb4ab6",
   "metadata": {},
   "outputs": [
    {
     "data": {
      "text/plain": [
       "{'make': 'tesla',\n",
       " 'model': 2019,\n",
       " 'fuel': 'Electric',\n",
       " 'air_conditioning': True,\n",
       " '_sunroof': True,\n",
       " 'distance': 500}"
      ]
     },
     "execution_count": 3,
     "metadata": {},
     "output_type": "execute_result"
    }
   ],
   "source": [
    "myobj.__dict__"
   ]
  },
  {
   "cell_type": "code",
   "execution_count": null,
   "id": "16a3c25c",
   "metadata": {},
   "outputs": [],
   "source": []
  }
 ],
 "metadata": {
  "kernelspec": {
   "display_name": "Python 3 (ipykernel)",
   "language": "python",
   "name": "python3"
  },
  "language_info": {
   "codemirror_mode": {
    "name": "ipython",
    "version": 3
   },
   "file_extension": ".py",
   "mimetype": "text/x-python",
   "name": "python",
   "nbconvert_exporter": "python",
   "pygments_lexer": "ipython3",
   "version": "3.9.7"
  }
 },
 "nbformat": 4,
 "nbformat_minor": 5
}
