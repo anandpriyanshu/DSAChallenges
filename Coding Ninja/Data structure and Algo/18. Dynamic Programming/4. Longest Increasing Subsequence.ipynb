{
 "cells": [
  {
   "cell_type": "code",
   "execution_count": 2,
   "id": "2a3d924e",
   "metadata": {},
   "outputs": [
    {
     "name": "stdout",
     "output_type": "stream",
     "text": [
      "7\n",
      "6 3 1 2 0 7 9\n",
      "4\n"
     ]
    }
   ],
   "source": [
    "def lis(li,i,n):\n",
    "    if i==n:   #means out of the list\n",
    "        return 0,0\n",
    "    including_max=1\n",
    "    for j in range(i+1,n):\n",
    "        if li[j]>=li[i]:\n",
    "            further_including_max=lis(li,j,n)[0]   # 0 means including part\n",
    "            including_max=max(including_max,1+further_including_max)\n",
    "    excluding_max=lis(li,i+1,n)[1] # 1 means overall maximum\n",
    "    overallMax=max(including_max,excluding_max)\n",
    "    return including_max,overallMax\n",
    "n=int(input())\n",
    "li=[int(ele) for ele in input().split()]\n",
    "ans=lis(li,0,n)[1]\n",
    "print(ans)"
   ]
  },
  {
   "cell_type": "markdown",
   "id": "6c33bad1",
   "metadata": {},
   "source": [
    "LIS Memoization"
   ]
  },
  {
   "cell_type": "code",
   "execution_count": 4,
   "id": "049d042b",
   "metadata": {},
   "outputs": [
    {
     "name": "stdout",
     "output_type": "stream",
     "text": [
      "7 \n",
      "6 3 1 2 0 7 9\n",
      "4\n"
     ]
    }
   ],
   "source": [
    "def lisM(li,i,n,dp):\n",
    "    if i==n:\n",
    "        return 0,0\n",
    "    including_max=1\n",
    "    for j in range(i+1,n):\n",
    "        if li[j]>=li[i]:\n",
    "            if dp[j]==-1:\n",
    "                ans=lisM(li,j,n,dp)\n",
    "                dp[j]=ans\n",
    "                further_including_max=ans[0]\n",
    "            else:\n",
    "                further_including_max=dp[j][0]\n",
    "            including_max=max(including_max,1+further_including_max)\n",
    "    if dp[i+1]==-1:\n",
    "        ans=lisM(li,i+1,n,dp)\n",
    "        dp[i+1]=ans\n",
    "        excluding_max=ans[1]\n",
    "    else:\n",
    "        excluding_max=dp[i+1][1]\n",
    "    overallMax=max(including_max,excluding_max)\n",
    "    return including_max,overallMax\n",
    "n=int(input())\n",
    "li=[int(ele) for ele in input().split()]\n",
    "dp=[-1 for i in range(n+1)]\n",
    "ans=lisM(li,0,n,dp)[1]\n",
    "print(ans)"
   ]
  },
  {
   "cell_type": "markdown",
   "id": "ead6a268",
   "metadata": {},
   "source": [
    "Iteratively"
   ]
  },
  {
   "cell_type": "code",
   "execution_count": 5,
   "id": "c4d7b904",
   "metadata": {},
   "outputs": [
    {
     "name": "stdout",
     "output_type": "stream",
     "text": [
      "7\n",
      "6 3 1 2 0 7 9\n",
      "4\n"
     ]
    }
   ],
   "source": [
    "def lisI(li,n):\n",
    "    \n",
    "    dp=[[0 for j in range(2) ]for i in range(n+1)]\n",
    "    \n",
    "    for i in range(n-1,-1,-1):\n",
    "        including_max=1\n",
    "        for j in range(i+1,n):\n",
    "            if li[j]>li[i]:\n",
    "                including_max=max(including_max,1+dp[j][0])\n",
    "        dp[i][0]=including_max\n",
    "        excluding_max=dp[i+1][1]\n",
    "        overallMax=max(including_max,excluding_max)\n",
    "        dp[i][1]=overallMax\n",
    "    return dp[0][1]\n",
    "n=int(input())\n",
    "li=[int(ele) for ele in input().split()]\n",
    "ans=lisI(li,n)\n",
    "print(ans)"
   ]
  },
  {
   "cell_type": "code",
   "execution_count": null,
   "id": "e59d435f",
   "metadata": {},
   "outputs": [],
   "source": []
  }
 ],
 "metadata": {
  "kernelspec": {
   "display_name": "Python 3 (ipykernel)",
   "language": "python",
   "name": "python3"
  },
  "language_info": {
   "codemirror_mode": {
    "name": "ipython",
    "version": 3
   },
   "file_extension": ".py",
   "mimetype": "text/x-python",
   "name": "python",
   "nbconvert_exporter": "python",
   "pygments_lexer": "ipython3",
   "version": "3.9.7"
  }
 },
 "nbformat": 4,
 "nbformat_minor": 5
}
