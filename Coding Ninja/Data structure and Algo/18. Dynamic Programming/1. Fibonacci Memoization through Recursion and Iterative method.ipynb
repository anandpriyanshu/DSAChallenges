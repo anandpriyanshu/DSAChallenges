{
 "cells": [
  {
   "cell_type": "markdown",
   "id": "75e20b04",
   "metadata": {},
   "source": [
    "### Recursive Method"
   ]
  },
  {
   "cell_type": "markdown",
   "id": "7339bf31",
   "metadata": {},
   "source": [
    "0(n) solution"
   ]
  },
  {
   "cell_type": "code",
   "execution_count": 3,
   "id": "62028947",
   "metadata": {},
   "outputs": [
    {
     "name": "stdout",
     "output_type": "stream",
     "text": [
      "7\n",
      "13\n"
     ]
    }
   ],
   "source": [
    "def fibb(n,dp):\n",
    "    \n",
    "    if n==0 or n==1:\n",
    "        return n\n",
    "    \n",
    "    if dp[n-1]==-1:\n",
    "        ans1 = fibb(n-1,dp)\n",
    "        dp[n-1] = ans1\n",
    "    else:\n",
    "        ans1 = dp[n-1]\n",
    "        \n",
    "    if dp[n-2]==-1:\n",
    "        ans2 = fibb(n-2,dp)\n",
    "        dp[n-2] = ans2\n",
    "    else:\n",
    "        ans2 = dp[n-2]\n",
    "        \n",
    "    myans = ans1 + ans2\n",
    "    return myans\n",
    "\n",
    "\n",
    "\n",
    "n = int(input())\n",
    "dp = [-1 for i in range(n+1)]  #intially all element is -1 like [-1,-1,-1,-1,-1...] and we need to array of n+1 size\n",
    "ans = fibb(n,dp)\n",
    "print(ans)"
   ]
  },
  {
   "cell_type": "code",
   "execution_count": null,
   "id": "0319d85b",
   "metadata": {},
   "outputs": [],
   "source": [
    "''' In recursion soln, time complexiity was 0(2**n) but in case of memoization time compe=lexity will be 0(n) bcz we need extra \n",
    "space and we are calling n+1 recursive call in case of memoization'''"
   ]
  },
  {
   "cell_type": "code",
   "execution_count": null,
   "id": "f638848c",
   "metadata": {},
   "outputs": [],
   "source": [
    "#space complixity = 0(n)for stack + 0(n+1)(for array) == 0(n) solun"
   ]
  },
  {
   "cell_type": "markdown",
   "id": "2e6a08ac",
   "metadata": {},
   "source": [
    "### Iterarative Method"
   ]
  },
  {
   "cell_type": "code",
   "execution_count": 7,
   "id": "72521d4f",
   "metadata": {},
   "outputs": [
    {
     "name": "stdout",
     "output_type": "stream",
     "text": [
      "7\n",
      "13\n"
     ]
    }
   ],
   "source": [
    "def fibbI(n):\n",
    "    dp=[0 for i in range(n+1)]    #Intiallly all the value are zero in array\n",
    "    dp[0]=0\n",
    "    dp[1]=1\n",
    "    i=2\n",
    "    while i<=n:\n",
    "        dp[i]=dp[i-1]+dp[i-2]\n",
    "        i+=1\n",
    "    return dp[n]\n",
    "n=int(input())\n",
    "ans=fibbI(n)\n",
    "print(ans)"
   ]
  },
  {
   "cell_type": "markdown",
   "id": "12c25cf5",
   "metadata": {},
   "source": [
    "### Iterative soln is much better than Recursive soln in Dynamic programming bcz In recursive soln there is a headache of  stackoverflow."
   ]
  },
  {
   "cell_type": "code",
   "execution_count": null,
   "id": "3cfa8086",
   "metadata": {},
   "outputs": [],
   "source": []
  }
 ],
 "metadata": {
  "kernelspec": {
   "display_name": "Python 3 (ipykernel)",
   "language": "python",
   "name": "python3"
  },
  "language_info": {
   "codemirror_mode": {
    "name": "ipython",
    "version": 3
   },
   "file_extension": ".py",
   "mimetype": "text/x-python",
   "name": "python",
   "nbconvert_exporter": "python",
   "pygments_lexer": "ipython3",
   "version": "3.9.7"
  }
 },
 "nbformat": 4,
 "nbformat_minor": 5
}
