{
 "cells": [
  {
   "cell_type": "code",
   "execution_count": 16,
   "id": "699e35d9",
   "metadata": {},
   "outputs": [
    {
     "name": "stdout",
     "output_type": "stream",
     "text": [
      "20\n",
      "4\n"
     ]
    }
   ],
   "source": [
    "import sys\n",
    "def minStepsTo1(n,dp):\n",
    "    if n==1:\n",
    "        return 0\n",
    "    \n",
    "    ans1=sys.maxsize\n",
    "    if n% 3==0:\n",
    "        if dp[n//3]==-1:\n",
    "            ans1=minStepsTo1(n//3,dp)\n",
    "            dp[n//3]=ans1\n",
    "        else:\n",
    "            ans1=dp[n//3]\n",
    "            \n",
    "    ans2=sys.maxsize\n",
    "    if n%2==0:\n",
    "        if dp[n//2]==-1:\n",
    "            ans2=minStepsTo1(n//2,dp)\n",
    "            dp[n//2]=ans2\n",
    "        else:\n",
    "            ans2=dp[n//2]\n",
    "            \n",
    "    if dp[n-1]==-1:\n",
    "        ans3=minStepsTo1(n-1,dp)\n",
    "        dp[n-1]=ans3\n",
    "    else:\n",
    "        ans3=dp[n-1]\n",
    "        \n",
    "    \n",
    "    \n",
    "    ans=1+min(ans1,ans2,ans3)\n",
    "    return ans\n",
    "n=int(input())\n",
    "dp=[-1 for i in range(n+1)]\n",
    "ans=minStepsTo1(n,dp)\n",
    "print(ans)"
   ]
  },
  {
   "cell_type": "code",
   "execution_count": null,
   "id": "5406e450",
   "metadata": {},
   "outputs": [],
   "source": [
    "from sys import stdin\n",
    "from sys import maxsize as MAX_VALUE\n",
    "def countMinStepsToOne(n) :\n",
    "\tif n == 1 :\n",
    "\t\treturn 0\n",
    "\tm= [0] * (n + 1)\n",
    "\tm[1] = 0\n",
    "\tfor currStep in range(2, (n + 1)) :\n",
    "\t\ts = MAX_VALUE\n",
    "\t\td1 = MAX_VALUE\n",
    "\t\td2 = MAX_VALUE\n",
    "\t\ts = m[currStep - 1]\n",
    "\t\tif currStep % 2 == 0 :\n",
    "\t\t\td1 = m[currStep // 2]\n",
    "\t\tif currStep % 3 == 0 :\n",
    "\t\t\td2 = m[currStep // 3]\n",
    "\t\tm[currStep] = 1 + min(s, d1, d2)\n",
    "\treturn m[n]\n",
    "#main\n",
    "n = int(stdin.readline().rstrip())\n",
    "print(countMinStepsToOne(n))"
   ]
  },
  {
   "cell_type": "code",
   "execution_count": null,
   "id": "beb85ae8",
   "metadata": {},
   "outputs": [],
   "source": []
  }
 ],
 "metadata": {
  "kernelspec": {
   "display_name": "Python 3 (ipykernel)",
   "language": "python",
   "name": "python3"
  },
  "language_info": {
   "codemirror_mode": {
    "name": "ipython",
    "version": 3
   },
   "file_extension": ".py",
   "mimetype": "text/x-python",
   "name": "python",
   "nbconvert_exporter": "python",
   "pygments_lexer": "ipython3",
   "version": "3.9.7"
  }
 },
 "nbformat": 4,
 "nbformat_minor": 5
}
