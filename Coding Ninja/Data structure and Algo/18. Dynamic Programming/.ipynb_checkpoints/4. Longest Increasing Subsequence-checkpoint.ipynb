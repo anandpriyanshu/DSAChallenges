{
 "cells": [
  {
   "cell_type": "code",
   "execution_count": 1,
   "id": "7bab920f",
   "metadata": {},
   "outputs": [
    {
     "name": "stdout",
     "output_type": "stream",
     "text": [
      "7 \n",
      "6 3 1 2 0 7 9\n",
      "4\n"
     ]
    }
   ],
   "source": [
    "def lis(li,i,n):\n",
    "    if i==n:   #means out of the list\n",
    "        return 0,0\n",
    "    including_max=1\n",
    "    for j in range(i+1,n):\n",
    "        if li[j]>=li[i]:\n",
    "            further_including_max=lis(li,j,n)[0]   # 0 means including part\n",
    "            including_max=max(including_max,1+further_including_max)\n",
    "    excluding_max=lis(li,i+1,n)[1] # 1 means overall maximum\n",
    "    overallMax=max(including_max,excluding_max)\n",
    "    return including_max,overallMax\n",
    "n=int(input())\n",
    "li=[int(ele) for ele in input().split()]\n",
    "ans=lis(li,0,n)[1]\n",
    "print(ans)"
   ]
  },
  {
   "cell_type": "code",
   "execution_count": null,
   "id": "7e5ca4ca",
   "metadata": {},
   "outputs": [],
   "source": []
  }
 ],
 "metadata": {
  "kernelspec": {
   "display_name": "Python 3 (ipykernel)",
   "language": "python",
   "name": "python3"
  },
  "language_info": {
   "codemirror_mode": {
    "name": "ipython",
    "version": 3
   },
   "file_extension": ".py",
   "mimetype": "text/x-python",
   "name": "python",
   "nbconvert_exporter": "python",
   "pygments_lexer": "ipython3",
   "version": "3.9.7"
  }
 },
 "nbformat": 4,
 "nbformat_minor": 5
}
