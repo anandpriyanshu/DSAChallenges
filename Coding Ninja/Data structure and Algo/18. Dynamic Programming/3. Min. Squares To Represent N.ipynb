{
 "cells": [
  {
   "cell_type": "markdown",
   "id": "f4604f6b",
   "metadata": {},
   "source": [
    "By Recursive"
   ]
  },
  {
   "cell_type": "code",
   "execution_count": 8,
   "id": "82a27665",
   "metadata": {},
   "outputs": [
    {
     "name": "stdout",
     "output_type": "stream",
     "text": [
      "41\n",
      "2\n"
     ]
    }
   ],
   "source": [
    "import math,sys\n",
    "\n",
    "def minSquares(n,dp):\n",
    "    if n==0:\n",
    "        return 0\n",
    "    \n",
    "    ans=sys.maxsize\n",
    "    root=int(math.sqrt(n))        # squaring the till n\n",
    "    for i in range(1,root+1):      # i go to the till less than squreroot of n (i<=squreroot of n) means i*i \n",
    "        newCheckValue=n-(i**2)\n",
    "        if dp[newCheckValue]==-1:\n",
    "            smallAns=minSquares(newCheckValue,dp)\n",
    "            dp[newCheckValue]=smallAns\n",
    "            currAns=1+smallAns\n",
    "        else:\n",
    "            currAns=1+dp[newCheckValue]\n",
    "        ans=min(ans,currAns)\n",
    "    return ans\n",
    "n=int(input())\n",
    "dp=[-1 for i in range(n+1)]\n",
    "ans=minSquares(n,dp)\n",
    "print(ans)"
   ]
  },
  {
   "cell_type": "markdown",
   "id": "6a21f553",
   "metadata": {},
   "source": [
    "By Iterative"
   ]
  },
  {
   "cell_type": "code",
   "execution_count": 10,
   "id": "1215114c",
   "metadata": {},
   "outputs": [
    {
     "name": "stdout",
     "output_type": "stream",
     "text": [
      "41\n",
      "2\n"
     ]
    }
   ],
   "source": [
    "import sys,math\n",
    "def minSquaresI(n):\n",
    "    dp=[-1 for i in range(n+1)]\n",
    "    dp[0]=0\n",
    "    \n",
    "    for i in range(1,n+1):\n",
    "        ans=sys.maxsize\n",
    "        root=int(math.sqrt(i))\n",
    "        for j in range(1,root+1):\n",
    "            currAns=1+dp[i-(j**2)]   #here i working as a n\n",
    "            ans=min(ans,currAns)\n",
    "        dp[i]=ans\n",
    "    return dp[n]\n",
    "\n",
    "n=int(input())\n",
    "ans=minSquaresI(n)\n",
    "print(ans)"
   ]
  },
  {
   "cell_type": "code",
   "execution_count": null,
   "id": "605098ec",
   "metadata": {},
   "outputs": [],
   "source": []
  }
 ],
 "metadata": {
  "kernelspec": {
   "display_name": "Python 3 (ipykernel)",
   "language": "python",
   "name": "python3"
  },
  "language_info": {
   "codemirror_mode": {
    "name": "ipython",
    "version": 3
   },
   "file_extension": ".py",
   "mimetype": "text/x-python",
   "name": "python",
   "nbconvert_exporter": "python",
   "pygments_lexer": "ipython3",
   "version": "3.9.7"
  }
 },
 "nbformat": 4,
 "nbformat_minor": 5
}
