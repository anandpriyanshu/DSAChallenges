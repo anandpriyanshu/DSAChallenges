{
 "cells": [
  {
   "cell_type": "code",
   "execution_count": 7,
   "id": "d41f9f38",
   "metadata": {},
   "outputs": [],
   "source": [
    "class BinaryTreeNode:\n",
    "    def __init__(self,data):\n",
    "        self.data=data\n",
    "        self.left=None\n",
    "        self.right=None   "
   ]
  },
  {
   "cell_type": "code",
   "execution_count": 9,
   "id": "ec4010b6",
   "metadata": {},
   "outputs": [],
   "source": [
    "class BST:\n",
    "    def __init__(self):\n",
    "        self.root=None\n",
    "        self.numNodes=0\n",
    "    def printTreeHelper(self,root):\n",
    "        if root==None:\n",
    "            return\n",
    "        print(root.data,end=\":\")\n",
    "        if root.left!=None:\n",
    "            print(\"L\",root.left.data,end=\",\")\n",
    "        if root.right!=None:\n",
    "            print(\"R\",root.right.data,end=\"\")\n",
    "        print()\n",
    "        self.printTreeHelper(root.left)\n",
    "        self.printTreeHelper(root.right)\n",
    "        \n",
    "    def printTree(self):\n",
    "        self.printTreeHelper(self.root)\n",
    "    def isPresentHelper(self,root,data):\n",
    "        if root==None:\n",
    "            return False\n",
    "        if root.data==data:\n",
    "            return True\n",
    "        if root.data>data:\n",
    "            #call on left\n",
    "            return self.isPresentHelper(root.left,data)\n",
    "        else:\n",
    "            #Call on right\n",
    "            return self.isPresentHelper(root.right,data)\n",
    "    def isPresent(self,data):\n",
    "        return self.isPresentHelper(self.root,data)\n",
    "    def insertHelper(self,root,data):\n",
    "        if root==None:\n",
    "            node=BinaryTreeNode(data)\n",
    "            return node\n",
    "        if root.data>data:\n",
    "            root.left=self.insertHelper(root.left,data)\n",
    "            return root\n",
    "        else:\n",
    "            root.right=self.insertHelper(root.right,data)\n",
    "            return root\n",
    "    def insert(self,data):\n",
    "        self.numNodes+=1\n",
    "        self.root=self.insertHelper(self.root,data)\n",
    "    def min(self,root):\n",
    "        if root==None:\n",
    "            return 10000\n",
    "        if root.left==None:\n",
    "            return root.data\n",
    "        return self.min(root.left)\n",
    "    def deleteDataHelper(self,root,data):\n",
    "        if root==None:\n",
    "            return False, None\n",
    "        if root.data<data:\n",
    "            deleted,newRightNode=self.deleteDataHelper(root.right,data)\n",
    "            root.right=newRightNode\n",
    "            return deleted,root     # root is stays same after changing in right side\n",
    "        if root.data>data:\n",
    "            deleted,newLeftNode=self.deleteDataHelper(root.left,data)\n",
    "            root.left=newLeftNode\n",
    "            return deleted,root     # root is stays same after changing in right side\n",
    "        if root.data>data:\n",
    "        #root is leaf\n",
    "        if root.left==None and root.right==None:\n",
    "            return True, None\n",
    "        # root has one child\n",
    "        if root.left==None:\n",
    "            return True,root.right\n",
    "        if root.right==None:\n",
    "            return True,root.left\n",
    "        #root has 2 children\n",
    "        replacement=self.min(root.right)\n",
    "        root.data=replacement\n",
    "        deleted,newRightNode=self.deleteDataHelper(root.right,replacement)\n",
    "        root.right=newRightNode\n",
    "        return True,root\n",
    "    def deleteData(self,data):\n",
    "        deleted,newRoot=self.deleteDataHelper(self.root,data)\n",
    "        if deleted:\n",
    "            self.numNodes-=1\n",
    "        self.root=newRoot\n",
    "        return deleted\n",
    "        \n",
    "    def count(self):\n",
    "        return self.numNodes"
   ]
  },
  {
   "cell_type": "code",
   "execution_count": 10,
   "id": "533f851d",
   "metadata": {},
   "outputs": [
    {
     "name": "stdout",
     "output_type": "stream",
     "text": [
      "True\n",
      "False\n",
      "False\n",
      "True\n",
      "2\n",
      "12:L 5,\n",
      "5:\n"
     ]
    }
   ],
   "source": [
    "b=BST()\n",
    "b.insert(10)\n",
    "b.insert(5)\n",
    "b.insert(12)\n",
    "\n",
    "print(b.isPresent(10))\n",
    "print(b.isPresent(7))\n",
    "print(b.deleteData(4))\n",
    "print(b.deleteData(10))\n",
    "print(b.count())\n",
    "b.printTree()"
   ]
  },
  {
   "cell_type": "code",
   "execution_count": 11,
   "id": "d5f4357c",
   "metadata": {},
   "outputs": [
    {
     "name": "stdout",
     "output_type": "stream",
     "text": [
      "10:L 5,R 12\n",
      "5:R 7\n",
      "7:L 6,R 8\n",
      "6:\n",
      "8:\n",
      "12:L 11,R 15\n",
      "11:\n",
      "15:\n",
      "8\n"
     ]
    }
   ],
   "source": [
    "b=BST()\n",
    "b.insert(10)\n",
    "b.insert(5)\n",
    "b.insert(7)\n",
    "b.insert(6)\n",
    "b.insert(8)\n",
    "b.insert(12)\n",
    "b.insert(11)\n",
    "b.insert(15)\n",
    "b.printTree()\n",
    "print(b.count())"
   ]
  },
  {
   "cell_type": "code",
   "execution_count": 12,
   "id": "39c00919",
   "metadata": {},
   "outputs": [
    {
     "name": "stdout",
     "output_type": "stream",
     "text": [
      "10:L 5,R 12\n",
      "5:R 7\n",
      "7:L 6,R 8\n",
      "6:\n",
      "8:\n",
      "12:L 11,R 15\n",
      "11:\n",
      "15:\n",
      "8\n",
      "10:L 5,R 12\n",
      "5:R 7\n",
      "7:L 6,\n",
      "6:\n",
      "12:L 11,R 15\n",
      "11:\n",
      "15:\n"
     ]
    }
   ],
   "source": [
    "b=BST()\n",
    "b.insert(10)\n",
    "b.insert(5)\n",
    "b.insert(7)\n",
    "b.insert(6)\n",
    "b.insert(8)\n",
    "b.insert(12)\n",
    "b.insert(11)\n",
    "b.insert(15)\n",
    "b.printTree()\n",
    "print(b.count())\n",
    "b.deleteData(8)\n",
    "b.printTree()"
   ]
  },
  {
   "cell_type": "code",
   "execution_count": 13,
   "id": "aedbb59b",
   "metadata": {},
   "outputs": [
    {
     "name": "stdout",
     "output_type": "stream",
     "text": [
      "10:L 5,R 12\n",
      "5:R 7\n",
      "7:L 6,R 8\n",
      "6:\n",
      "8:\n",
      "12:L 11,R 15\n",
      "11:\n",
      "15:\n",
      "8\n",
      "10:L 5,R 12\n",
      "5:R 7\n",
      "7:L 6,\n",
      "6:\n",
      "12:L 11,R 15\n",
      "11:\n",
      "15:\n",
      "10:L 7,R 12\n",
      "7:L 6,\n",
      "6:\n",
      "12:L 11,R 15\n",
      "11:\n",
      "15:\n"
     ]
    }
   ],
   "source": [
    "b=BST()\n",
    "b.insert(10)\n",
    "b.insert(5)\n",
    "b.insert(7)\n",
    "b.insert(6)\n",
    "b.insert(8)\n",
    "b.insert(12)\n",
    "b.insert(11)\n",
    "b.insert(15)\n",
    "b.printTree()\n",
    "print(b.count())\n",
    "b.deleteData(8)\n",
    "b.printTree()\n",
    "b.deleteData(5)\n",
    "b.printTree()"
   ]
  },
  {
   "cell_type": "code",
   "execution_count": 14,
   "id": "ff000b66",
   "metadata": {},
   "outputs": [
    {
     "name": "stdout",
     "output_type": "stream",
     "text": [
      "10:L 5,R 12\n",
      "5:R 7\n",
      "7:L 6,R 8\n",
      "6:\n",
      "8:\n",
      "12:L 11,R 15\n",
      "11:\n",
      "15:\n",
      "8\n",
      "11:L 5,R 12\n",
      "5:R 7\n",
      "7:L 6,R 8\n",
      "6:\n",
      "8:\n",
      "12:R 15\n",
      "15:\n"
     ]
    }
   ],
   "source": [
    "b=BST()\n",
    "b.insert(10)\n",
    "b.insert(5)\n",
    "b.insert(7)\n",
    "b.insert(6)\n",
    "b.insert(8)\n",
    "b.insert(12)\n",
    "b.insert(11)\n",
    "b.insert(15)\n",
    "b.printTree()\n",
    "print(b.count())\n",
    "b.deleteData(10)\n",
    "b.printTree()"
   ]
  },
  {
   "cell_type": "code",
   "execution_count": null,
   "id": "16f0f2a3",
   "metadata": {},
   "outputs": [],
   "source": []
  }
 ],
 "metadata": {
  "kernelspec": {
   "display_name": "Python 3 (ipykernel)",
   "language": "python",
   "name": "python3"
  },
  "language_info": {
   "codemirror_mode": {
    "name": "ipython",
    "version": 3
   },
   "file_extension": ".py",
   "mimetype": "text/x-python",
   "name": "python",
   "nbconvert_exporter": "python",
   "pygments_lexer": "ipython3",
   "version": "3.9.7"
  }
 },
 "nbformat": 4,
 "nbformat_minor": 5
}
