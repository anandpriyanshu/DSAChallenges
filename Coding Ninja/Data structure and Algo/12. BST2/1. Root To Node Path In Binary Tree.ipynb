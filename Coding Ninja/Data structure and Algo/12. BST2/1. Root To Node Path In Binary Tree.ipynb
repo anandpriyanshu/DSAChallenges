{
 "cells": [
  {
   "cell_type": "code",
   "execution_count": 1,
   "id": "577e429d",
   "metadata": {},
   "outputs": [],
   "source": [
    "class BinaryTreeNode:\n",
    "    def __init__(self,data):\n",
    "        self.data=data;\n",
    "        self.left=None\n",
    "        self.right=None"
   ]
  },
  {
   "cell_type": "code",
   "execution_count": 2,
   "id": "097379fd",
   "metadata": {},
   "outputs": [],
   "source": [
    "def search(root,x):\n",
    "    if root==None:\n",
    "        return False\n",
    "    if root.data==x:\n",
    "        return True\n",
    "    elif root.data>x:\n",
    "        return search(root.left,x)\n",
    "    else:\n",
    "        return search(root.left,x)"
   ]
  },
  {
   "cell_type": "code",
   "execution_count": 3,
   "id": "35cf63eb",
   "metadata": {},
   "outputs": [],
   "source": [
    "def printTreeDetailed(root):\n",
    "    if root==None:\n",
    "        return\n",
    "    print(root.data,end=\":\")\n",
    "    if root.left!=None:\n",
    "        print(\"L\",root.left.data,end=\",\")\n",
    "    if root.right!=None:\n",
    "        print(\"R\",root.right.data,end=\"\")\n",
    "    print()\n",
    "    printTreeDetailed(root.left)\n",
    "    printTreeDetailed(root.right)"
   ]
  },
  {
   "cell_type": "code",
   "execution_count": 4,
   "id": "eb567042",
   "metadata": {},
   "outputs": [],
   "source": [
    "import queue\n",
    "def takeTreeInputLevelWise():\n",
    "    q=queue.Queue()\n",
    "    print(\"Enter root\")\n",
    "    rootData=int(input())\n",
    "    if rootData==-1:\n",
    "        return None\n",
    "    root=BinaryTreeNode(rootData)\n",
    "    q.put(root)\n",
    "    while(not(q.empty())):\n",
    "        current_node=q.get()\n",
    "        print(\"Enter left child of\",current_node.data)\n",
    "        leftChildData=int(input())\n",
    "        if leftChildData!=-1:\n",
    "            leftChild=BinaryTreeNode(leftChildData)\n",
    "            current_node.left=leftChild\n",
    "            q.put(leftChild)\n",
    "        print(\"Enter right child of\",current_node.data)\n",
    "        rightChildData=int(input())\n",
    "        if rightChildData!=-1:\n",
    "            rightChild=BinaryTreeNode(rightChildData)\n",
    "            current_node.right=rightChild\n",
    "            q.put(rightChild)\n",
    "    return root"
   ]
  },
  {
   "cell_type": "code",
   "execution_count": 7,
   "id": "1f8b04c5",
   "metadata": {},
   "outputs": [],
   "source": [
    "def nodeToRootPath(root,s):   # s = searching element\n",
    "    if root==None:\n",
    "        return None\n",
    "    if root.data==s:\n",
    "        l=list()\n",
    "        l.append(root.data)\n",
    "        return l\n",
    "    \n",
    "    leftOutput=nodeToRootPath(root.left,s)\n",
    "    if leftOutput!=None:\n",
    "        leftOutput.append(root.data)\n",
    "        return leftOutput\n",
    "    \n",
    "    #if leftOutput is none means in last below\n",
    "    rightOutput=nodeToRootPath(root.right,s)\n",
    "    if rightOutput!=None:\n",
    "        rightOutput.append(root.data)\n",
    "        return rightOutput\n",
    "    else:\n",
    "        return None\n",
    "        "
   ]
  },
  {
   "cell_type": "code",
   "execution_count": 8,
   "id": "b3a2c12a",
   "metadata": {},
   "outputs": [
    {
     "name": "stdout",
     "output_type": "stream",
     "text": [
      "Enter root\n",
      "1\n",
      "Enter left child of 1\n",
      "2\n",
      "Enter right child of 1\n",
      "3\n",
      "Enter left child of 2\n",
      "-1\n",
      "Enter right child of 2\n",
      "-1\n",
      "Enter left child of 3\n",
      "4\n",
      "Enter right child of 3\n",
      "6\n",
      "Enter left child of 4\n",
      "-1\n",
      "Enter right child of 4\n",
      "-1\n",
      "Enter left child of 6\n",
      "5\n",
      "Enter right child of 6\n",
      "9\n",
      "Enter left child of 5\n",
      "7\n",
      "Enter right child of 5\n",
      "8\n",
      "Enter left child of 9\n",
      "-1\n",
      "Enter right child of 9\n",
      "-1\n",
      "Enter left child of 7\n",
      "-1\n",
      "Enter right child of 7\n",
      "-1\n",
      "Enter left child of 8\n",
      "-1\n",
      "Enter right child of 8\n",
      "-1\n",
      "1:L 2,R 3\n",
      "2:\n",
      "3:L 4,R 6\n",
      "4:\n",
      "6:L 5,R 9\n",
      "5:L 7,R 8\n",
      "7:\n",
      "8:\n",
      "9:\n"
     ]
    },
    {
     "data": {
      "text/plain": [
       "[5, 6, 3, 1]"
      ]
     },
     "execution_count": 8,
     "metadata": {},
     "output_type": "execute_result"
    }
   ],
   "source": [
    "root=takeTreeInputLevelWise()\n",
    "printTreeDetailed(root)\n",
    "nodeToRootPath(root,5)"
   ]
  },
  {
   "cell_type": "code",
   "execution_count": null,
   "id": "438d269c",
   "metadata": {},
   "outputs": [],
   "source": []
  }
 ],
 "metadata": {
  "kernelspec": {
   "display_name": "Python 3 (ipykernel)",
   "language": "python",
   "name": "python3"
  },
  "language_info": {
   "codemirror_mode": {
    "name": "ipython",
    "version": 3
   },
   "file_extension": ".py",
   "mimetype": "text/x-python",
   "name": "python",
   "nbconvert_exporter": "python",
   "pygments_lexer": "ipython3",
   "version": "3.9.7"
  }
 },
 "nbformat": 4,
 "nbformat_minor": 5
}
