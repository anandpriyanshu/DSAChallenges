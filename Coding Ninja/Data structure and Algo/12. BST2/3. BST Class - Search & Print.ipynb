{
 "cells": [
  {
   "cell_type": "code",
   "execution_count": 10,
   "id": "43ecc2bc",
   "metadata": {},
   "outputs": [],
   "source": [
    "class BinaryTreeNode:\n",
    "    def __init__(self,data):\n",
    "        self.data = data\n",
    "        self.left = None\n",
    "        self.right = None"
   ]
  },
  {
   "cell_type": "code",
   "execution_count": 13,
   "id": "0ad217aa",
   "metadata": {},
   "outputs": [],
   "source": [
    "class BST:\n",
    "    def __init__(self):\n",
    "        self.root=None\n",
    "        self.numNodes=0\n",
    "    def printTreeHelper(self,root):\n",
    "        if root==None:\n",
    "            return\n",
    "        print(root.data,end=\":\")\n",
    "        if root.left!=None:\n",
    "            print(\"L\",root.left.data,end=\",\")\n",
    "        if root.right!=None:\n",
    "            print(\"R\",root.right.data,end=\"\")\n",
    "        print()\n",
    "        self.printTreeHelper(root.left)\n",
    "        self.printTreeHelper(root.right)\n",
    "        \n",
    "    def printTree(self):\n",
    "        self.printTreeHelper(self.root)\n",
    "    def isPresentHelper(self,root,data):   #take helper function to to take root and data ans it is easy to recursive call and done\n",
    "        if root==None:\n",
    "            return False\n",
    "        if root.data==data:\n",
    "            return True\n",
    "        if root.data>data:\n",
    "            #call on left\n",
    "            return self.isPresentHelper(root.left,data)\n",
    "        else:\n",
    "            #Call on right\n",
    "            return self.isPresentHelper(root.right,data)\n",
    "    def isPresent(self,data):\n",
    "        return self.isPresentHelper(self.root,data)\n",
    "    def insert(self,data):\n",
    "        return\n",
    "    def deleteData(self):\n",
    "        return False\n",
    "    def count(self):\n",
    "        return 0"
   ]
  },
  {
   "cell_type": "code",
   "execution_count": 14,
   "id": "31f0e8df",
   "metadata": {},
   "outputs": [
    {
     "name": "stdout",
     "output_type": "stream",
     "text": [
      "False\n",
      "False\n",
      "False\n",
      "False\n",
      "0\n"
     ]
    }
   ],
   "source": [
    "b=BST()\n",
    "b.insert(10)\n",
    "b.insert(5)\n",
    "b.insert(12)\n",
    "print(b.isPresent(10))\n",
    "print(b.isPresent(7))\n",
    "print(b.isPresent(4))\n",
    "print(b.isPresent(10))\n",
    "print(b.count())\n",
    "b.printTree() "
   ]
  },
  {
   "cell_type": "code",
   "execution_count": null,
   "id": "692c7342",
   "metadata": {},
   "outputs": [],
   "source": []
  }
 ],
 "metadata": {
  "kernelspec": {
   "display_name": "Python 3 (ipykernel)",
   "language": "python",
   "name": "python3"
  },
  "language_info": {
   "codemirror_mode": {
    "name": "ipython",
    "version": 3
   },
   "file_extension": ".py",
   "mimetype": "text/x-python",
   "name": "python",
   "nbconvert_exporter": "python",
   "pygments_lexer": "ipython3",
   "version": "3.9.7"
  }
 },
 "nbformat": 4,
 "nbformat_minor": 5
}
