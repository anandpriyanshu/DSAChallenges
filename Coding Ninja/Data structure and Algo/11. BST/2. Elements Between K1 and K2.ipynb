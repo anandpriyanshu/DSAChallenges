{
 "cells": [
  {
   "cell_type": "code",
   "execution_count": 5,
   "id": "516189b4",
   "metadata": {},
   "outputs": [],
   "source": [
    "class BinaryTreeNode:\n",
    "    def __init__(self,data):\n",
    "        self.data=data;\n",
    "        self.left=None\n",
    "        self.right=None"
   ]
  },
  {
   "cell_type": "code",
   "execution_count": 6,
   "id": "e5c87dd9",
   "metadata": {},
   "outputs": [],
   "source": [
    "def search(root,x):   #make sure it's binary tree\n",
    "    if root==None:\n",
    "        return False\n",
    "    if root.data==x:\n",
    "        return True\n",
    "    elif root.data>x:\n",
    "        return search(root.left,x)\n",
    "    else:\n",
    "        return search(root.right,x)"
   ]
  },
  {
   "cell_type": "code",
   "execution_count": 7,
   "id": "4ca65adb",
   "metadata": {},
   "outputs": [],
   "source": [
    "def printBetweenK1K2(root,k1,k2):\n",
    "    if root==None:\n",
    "        return\n",
    "    if root.data>k2:\n",
    "        printBetweenK1K2(root.left,k1,k2)\n",
    "    elif root.data<k1:\n",
    "        printBetweenK1K2(root.right,k1,k2)\n",
    "    else:\n",
    "        print(root.data)\n",
    "        printBetweenK1K2(root.left,k1,k2)\n",
    "        printBetweenK1K2(root.right,k1,k2)"
   ]
  },
  {
   "cell_type": "code",
   "execution_count": 1,
   "id": "2becfae1",
   "metadata": {},
   "outputs": [],
   "source": [
    "#2nd method\n",
    "def elementsInRangeK1K2(root, k1, k2):\n",
    "    if root == None:\n",
    "        return\n",
    "    if k1<=root.data and root.data<=k2:\n",
    "        elementsInRangeK1K2(root.left,k1,k2)\n",
    "        print(root.data,end=' ')\n",
    "        elementsInRangeK1K2(root.right,k1,k2)\n",
    "        return\n",
    "    if root.data > k2:\n",
    "        elementsInRangeK1K2(root.left, k1, k2)\n",
    "    else:\n",
    "        elementsInRangeK1K2(root.right, k1, k2)"
   ]
  },
  {
   "cell_type": "code",
   "execution_count": 8,
   "id": "93ae996d",
   "metadata": {},
   "outputs": [],
   "source": [
    "\n",
    "def printTreeDetailed(root):\n",
    "    if root==None:\n",
    "        return\n",
    "    print(root.data,end=\":\")\n",
    "    if root.left!=None:\n",
    "        print(\"L\",root.left.data,end=\",\")\n",
    "    if root.right!=None:\n",
    "        print(\"R\",root.right.data,end=\"\")\n",
    "    print()\n",
    "    printTreeDetailed(root.left)\n",
    "    printTreeDetailed(root.right)"
   ]
  },
  {
   "cell_type": "code",
   "execution_count": 9,
   "id": "7fd35193",
   "metadata": {},
   "outputs": [],
   "source": [
    "import queue\n",
    "def takeTreeInputLevelWise():\n",
    "    q=queue.Queue()\n",
    "    print(\"Enter root\")\n",
    "    rootData=int(input())\n",
    "    if rootData==-1:\n",
    "        return None\n",
    "    root=BinaryTreeNode(rootData)\n",
    "    q.put(root)\n",
    "    while(not(q.empty())):\n",
    "        current_node=q.get()\n",
    "        print(\"Enter left child of\",current_node.data)\n",
    "        leftChildData=int(input())\n",
    "        if leftChildData!=-1:\n",
    "            leftChild=BinaryTreeNode(leftChildData)\n",
    "            current_node.left=leftChild\n",
    "            q.put(leftChild)\n",
    "        print(\"Enter right child of\",current_node.data)\n",
    "        rightChildData=int(input())\n",
    "        if rightChildData!=-1:\n",
    "            rightChild=BinaryTreeNode(rightChildData)\n",
    "            current_node.right=rightChild\n",
    "            q.put(rightChild)\n",
    "    return root"
   ]
  },
  {
   "cell_type": "code",
   "execution_count": 10,
   "id": "05f21544",
   "metadata": {},
   "outputs": [
    {
     "name": "stdout",
     "output_type": "stream",
     "text": [
      "Enter root\n",
      "4\n",
      "Enter left child of 4\n",
      "2\n",
      "Enter right child of 4\n",
      "10\n",
      "Enter left child of 2\n",
      "1\n",
      "Enter right child of 2\n",
      "3\n",
      "Enter left child of 10\n",
      "7\n",
      "Enter right child of 10\n",
      "12\n",
      "Enter left child of 1\n",
      "-1\n",
      "Enter right child of 1\n",
      "-1\n",
      "Enter left child of 3\n",
      "-1\n",
      "Enter right child of 3\n",
      "-1\n",
      "Enter left child of 7\n",
      "5\n",
      "Enter right child of 7\n",
      "6\n",
      "Enter left child of 12\n",
      "10\n",
      "Enter right child of 12\n",
      "18\n",
      "Enter left child of 5\n",
      "-1\n",
      "Enter right child of 5\n",
      "-1\n",
      "Enter left child of 6\n",
      "-1\n",
      "Enter right child of 6\n",
      "-1\n",
      "Enter left child of 10\n",
      "-1\n",
      "Enter right child of 10\n",
      "-1\n",
      "Enter left child of 18\n",
      "-1\n",
      "Enter right child of 18\n",
      "-1\n",
      "4:L 2,R 10\n",
      "2:L 1,R 3\n",
      "1:\n",
      "3:\n",
      "10:L 7,R 12\n",
      "7:L 5,R 6\n",
      "5:\n",
      "6:\n",
      "12:L 10,R 18\n",
      "10:\n",
      "18:\n",
      "10\n",
      "7\n",
      "5\n",
      "6\n",
      "10\n"
     ]
    }
   ],
   "source": [
    "root=takeTreeInputLevelWise()\n",
    "printTreeDetailed(root)\n",
    "printBetweenK1K2(root,5,10)"
   ]
  },
  {
   "cell_type": "code",
   "execution_count": null,
   "id": "27d30e7e",
   "metadata": {},
   "outputs": [],
   "source": []
  }
 ],
 "metadata": {
  "kernelspec": {
   "display_name": "Python 3 (ipykernel)",
   "language": "python",
   "name": "python3"
  },
  "language_info": {
   "codemirror_mode": {
    "name": "ipython",
    "version": 3
   },
   "file_extension": ".py",
   "mimetype": "text/x-python",
   "name": "python",
   "nbconvert_exporter": "python",
   "pygments_lexer": "ipython3",
   "version": "3.9.7"
  }
 },
 "nbformat": 4,
 "nbformat_minor": 5
}
