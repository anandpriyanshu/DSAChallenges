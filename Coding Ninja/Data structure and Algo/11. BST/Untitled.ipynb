{
 "cells": [
  {
   "cell_type": "code",
   "execution_count": 4,
   "id": "c90077e5",
   "metadata": {},
   "outputs": [
    {
     "name": "stdout",
     "output_type": "stream",
     "text": [
      "1\n"
     ]
    },
    {
     "ename": "TypeError",
     "evalue": "'<' not supported between instances of 'Node' and 'int'",
     "output_type": "error",
     "traceback": [
      "\u001b[1;31m---------------------------------------------------------------------------\u001b[0m",
      "\u001b[1;31mTypeError\u001b[0m                                 Traceback (most recent call last)",
      "\u001b[1;32mC:\\Users\\PRIYAN~1\\AppData\\Local\\Temp/ipykernel_10556/2929713376.py\u001b[0m in \u001b[0;36m<module>\u001b[1;34m\u001b[0m\n\u001b[0;32m     55\u001b[0m     \u001b[1;32mreturn\u001b[0m \u001b[0mhead\u001b[0m\u001b[1;33m\u001b[0m\u001b[1;33m\u001b[0m\u001b[0m\n\u001b[0;32m     56\u001b[0m \u001b[0mhead\u001b[0m\u001b[1;33m=\u001b[0m\u001b[0mtakeInput\u001b[0m\u001b[1;33m(\u001b[0m\u001b[1;33m)\u001b[0m\u001b[1;33m\u001b[0m\u001b[1;33m\u001b[0m\u001b[0m\n\u001b[1;32m---> 57\u001b[1;33m \u001b[0mprintIthNode\u001b[0m\u001b[1;33m(\u001b[0m\u001b[0mhead\u001b[0m\u001b[1;33m,\u001b[0m\u001b[1;36m2\u001b[0m\u001b[1;33m)\u001b[0m\u001b[1;33m\u001b[0m\u001b[1;33m\u001b[0m\u001b[0m\n\u001b[0m",
      "\u001b[1;32mC:\\Users\\PRIYAN~1\\AppData\\Local\\Temp/ipykernel_10556/2929713376.py\u001b[0m in \u001b[0;36mprintIthNode\u001b[1;34m(head, i)\u001b[0m\n\u001b[0;32m      6\u001b[0m \u001b[1;33m\u001b[0m\u001b[0m\n\u001b[0;32m      7\u001b[0m     \u001b[0mcurr\u001b[0m \u001b[1;33m=\u001b[0m \u001b[0mhead\u001b[0m\u001b[1;33m\u001b[0m\u001b[1;33m\u001b[0m\u001b[0m\n\u001b[1;32m----> 8\u001b[1;33m     \u001b[1;32mwhile\u001b[0m \u001b[0mcurr\u001b[0m\u001b[1;33m<\u001b[0m\u001b[0mi\u001b[0m \u001b[1;32mand\u001b[0m \u001b[0mcurr\u001b[0m \u001b[1;32mis\u001b[0m \u001b[1;32mnot\u001b[0m \u001b[1;32mNone\u001b[0m\u001b[1;33m:\u001b[0m\u001b[1;33m\u001b[0m\u001b[1;33m\u001b[0m\u001b[0m\n\u001b[0m\u001b[0;32m      9\u001b[0m \u001b[1;33m\u001b[0m\u001b[0m\n\u001b[0;32m     10\u001b[0m         \u001b[0mcurr\u001b[0m \u001b[1;33m=\u001b[0m \u001b[0mcurr\u001b[0m\u001b[1;33m.\u001b[0m\u001b[0mnext\u001b[0m\u001b[1;33m\u001b[0m\u001b[1;33m\u001b[0m\u001b[0m\n",
      "\u001b[1;31mTypeError\u001b[0m: '<' not supported between instances of 'Node' and 'int'"
     ]
    }
   ],
   "source": [
    "class Node:\n",
    "    def __init__(self,data):\n",
    "        self.data=data\n",
    "        self.next=None\n",
    "def printIthNode(head, i):\n",
    "    \n",
    "    curr = head\n",
    "    while curr<i and curr is not None:\n",
    "        \n",
    "        curr = curr.next \n",
    "        \n",
    "    if curr == i:\n",
    "        print(curr.data) \n",
    "def searchInBST(root,x):\n",
    "    if root == None:\n",
    "        return False\n",
    "    if root.data == x:\n",
    "        return True\n",
    "    elif root.data < x:\n",
    "        searchInBST(root.left,x)\n",
    "    else:\n",
    "        searchInBST(root.right,x)\n",
    "def printBWK1K2(root,k1,k2):\n",
    "    if root == None:\n",
    "        return None\n",
    "    if root.data > k2:\n",
    "        printBWK1K2(root.left,k1,k2)\n",
    "    elif root.data < k1:\n",
    "        printBWK1K2(root.right,k1,k2)\n",
    "    else:\n",
    "        print(root.data,end = '')\n",
    "        printBWK1K2(root.left,k1,k2)\n",
    "        printBWK1K2(rot.right,k1,k2)\n",
    "        \n",
    "def printLL(head):\n",
    "    while head is not None:\n",
    "        print(str(head.data)+\"->\",end='')\n",
    "        head=head.next\n",
    "    print(\"None\")\n",
    "    return\n",
    "def takeInput():\n",
    "    inputList=[int (ele) for ele in input().split()]\n",
    "    head=None\n",
    "    tail=None\n",
    "    for currData in inputList:\n",
    "        if currData==-1:\n",
    "            break\n",
    "        newNode=Node(currData)\n",
    "        if head is None:\n",
    "            head=newNode\n",
    "            tail=newNode\n",
    "        else:\n",
    "            tail.next=newNode    \n",
    "            tail=newNode\n",
    "    return head\n",
    "head=takeInput()\n",
    "printIthNode(head,2)"
   ]
  },
  {
   "cell_type": "code",
   "execution_count": 1,
   "id": "0ab127a3",
   "metadata": {},
   "outputs": [],
   "source": [
    "def BST(root):\n",
    "    if root == None:\n",
    "        return 10000,-10000,True\n",
    "    leftmin,leftmax,isLeftBSt = BST(root.left)\n",
    "    rightmin,rightmax,isRightBST = BST(root.right)\n",
    "    minimum = min(leftmin,rightmin,root.data)\n",
    "    maximum = max(leftmax,rightmax,root.data)\n",
    "    isBSt = True\n",
    "    if root.data < leftmax or root.data > rightmin:\n",
    "        isBST = False\n",
    "    if (not isLeftBSt) or (not isRightBST):\n",
    "        return False\n",
    "    return minimum,maximum,isBST\n",
    "        "
   ]
  },
  {
   "cell_type": "code",
   "execution_count": 3,
   "id": "6b990b8e",
   "metadata": {},
   "outputs": [],
   "source": [
    "def constructBST(root):\n",
    "    if not lst:\n",
    "        return None\n",
    "    mid = len(lst)-1//2\n",
    "    root.data = lst[mid]\n",
    "    root = BinaryTreeNode(root.data)\n",
    "    root.left = constructBST(lst[0:mid])\n",
    "    root.right = constructBST(lst[mid+1:])\n",
    "    \n",
    "    return root"
   ]
  },
  {
   "cell_type": "code",
   "execution_count": null,
   "id": "6122bb34",
   "metadata": {},
   "outputs": [],
   "source": []
  }
 ],
 "metadata": {
  "kernelspec": {
   "display_name": "Python 3 (ipykernel)",
   "language": "python",
   "name": "python3"
  },
  "language_info": {
   "codemirror_mode": {
    "name": "ipython",
    "version": 3
   },
   "file_extension": ".py",
   "mimetype": "text/x-python",
   "name": "python",
   "nbconvert_exporter": "python",
   "pygments_lexer": "ipython3",
   "version": "3.9.7"
  }
 },
 "nbformat": 4,
 "nbformat_minor": 5
}
