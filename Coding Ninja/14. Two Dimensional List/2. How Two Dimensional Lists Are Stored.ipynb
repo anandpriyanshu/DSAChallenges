{
 "cells": [
  {
   "cell_type": "code",
   "execution_count": 1,
   "id": "8597e2c8",
   "metadata": {},
   "outputs": [],
   "source": [
    "li = [[1,2,3,4],[5,6,7,8]]              #2X4 matrix, 2 row and 4 column"
   ]
  },
  {
   "cell_type": "code",
   "execution_count": 2,
   "id": "91e31997",
   "metadata": {},
   "outputs": [
    {
     "data": {
      "text/plain": [
       "[1, 2, 3, 4]"
      ]
     },
     "execution_count": 2,
     "metadata": {},
     "output_type": "execute_result"
    }
   ],
   "source": [
    "li[0]"
   ]
  },
  {
   "cell_type": "code",
   "execution_count": 3,
   "id": "21e8b72f",
   "metadata": {},
   "outputs": [
    {
     "data": {
      "text/plain": [
       "list"
      ]
     },
     "execution_count": 3,
     "metadata": {},
     "output_type": "execute_result"
    }
   ],
   "source": [
    "type(li)"
   ]
  },
  {
   "cell_type": "code",
   "execution_count": 4,
   "id": "061f6036",
   "metadata": {},
   "outputs": [],
   "source": [
    "li[0][1]=4"
   ]
  },
  {
   "cell_type": "code",
   "execution_count": 5,
   "id": "8441c1dc",
   "metadata": {},
   "outputs": [
    {
     "data": {
      "text/plain": [
       "[[1, 4, 3, 4], [5, 6, 7, 8]]"
      ]
     },
     "execution_count": 5,
     "metadata": {},
     "output_type": "execute_result"
    }
   ],
   "source": [
    "li"
   ]
  },
  {
   "cell_type": "code",
   "execution_count": 6,
   "id": "ef2a0347",
   "metadata": {},
   "outputs": [
    {
     "data": {
      "text/plain": [
       "1357724227264"
      ]
     },
     "execution_count": 6,
     "metadata": {},
     "output_type": "execute_result"
    }
   ],
   "source": [
    "id(li)"
   ]
  },
  {
   "cell_type": "code",
   "execution_count": 9,
   "id": "91553bd2",
   "metadata": {},
   "outputs": [
    {
     "data": {
      "text/plain": [
       "1357724226816"
      ]
     },
     "execution_count": 9,
     "metadata": {},
     "output_type": "execute_result"
    }
   ],
   "source": [
    "id(li[0])"
   ]
  },
  {
   "cell_type": "code",
   "execution_count": 10,
   "id": "f80190c7",
   "metadata": {},
   "outputs": [
    {
     "data": {
      "text/plain": [
       "1357724227072"
      ]
     },
     "execution_count": 10,
     "metadata": {},
     "output_type": "execute_result"
    }
   ],
   "source": [
    "id(li[1])"
   ]
  },
  {
   "cell_type": "code",
   "execution_count": 11,
   "id": "9ec3ca5b",
   "metadata": {},
   "outputs": [],
   "source": [
    "li[1]='Anand'"
   ]
  },
  {
   "cell_type": "code",
   "execution_count": 12,
   "id": "2584abb6",
   "metadata": {},
   "outputs": [
    {
     "data": {
      "text/plain": [
       "[[1, 4, 3, 4], 'Anand']"
      ]
     },
     "execution_count": 12,
     "metadata": {},
     "output_type": "execute_result"
    }
   ],
   "source": [
    "li          #its not 2d list bcz 2d list is the list of list"
   ]
  },
  {
   "cell_type": "code",
   "execution_count": 13,
   "id": "525fecd3",
   "metadata": {},
   "outputs": [],
   "source": [
    "li[1]=[1,3,4,8]"
   ]
  },
  {
   "cell_type": "code",
   "execution_count": 14,
   "id": "86bf3b1f",
   "metadata": {},
   "outputs": [
    {
     "data": {
      "text/plain": [
       "[[1, 4, 3, 4], [1, 3, 4, 8]]"
      ]
     },
     "execution_count": 14,
     "metadata": {},
     "output_type": "execute_result"
    }
   ],
   "source": [
    "li"
   ]
  },
  {
   "cell_type": "code",
   "execution_count": 15,
   "id": "ee520241",
   "metadata": {},
   "outputs": [
    {
     "ename": "IndexError",
     "evalue": "list index out of range",
     "output_type": "error",
     "traceback": [
      "\u001b[1;31m---------------------------------------------------------------------------\u001b[0m",
      "\u001b[1;31mIndexError\u001b[0m                                Traceback (most recent call last)",
      "\u001b[1;32mC:\\Users\\PRIYAN~1\\AppData\\Local\\Temp/ipykernel_9940/1500188031.py\u001b[0m in \u001b[0;36m<module>\u001b[1;34m\u001b[0m\n\u001b[1;32m----> 1\u001b[1;33m \u001b[0mli\u001b[0m\u001b[1;33m[\u001b[0m\u001b[1;36m0\u001b[0m\u001b[1;33m]\u001b[0m\u001b[1;33m[\u001b[0m\u001b[1;36m6\u001b[0m\u001b[1;33m]\u001b[0m\u001b[1;33m\u001b[0m\u001b[1;33m\u001b[0m\u001b[0m\n\u001b[0m",
      "\u001b[1;31mIndexError\u001b[0m: list index out of range"
     ]
    }
   ],
   "source": [
    "li[0][6]"
   ]
  },
  {
   "cell_type": "code",
   "execution_count": null,
   "id": "f1ef8f17",
   "metadata": {},
   "outputs": [],
   "source": []
  }
 ],
 "metadata": {
  "kernelspec": {
   "display_name": "Python 3 (ipykernel)",
   "language": "python",
   "name": "python3"
  },
  "language_info": {
   "codemirror_mode": {
    "name": "ipython",
    "version": 3
   },
   "file_extension": ".py",
   "mimetype": "text/x-python",
   "name": "python",
   "nbconvert_exporter": "python",
   "pygments_lexer": "ipython3",
   "version": "3.9.7"
  }
 },
 "nbformat": 4,
 "nbformat_minor": 5
}
