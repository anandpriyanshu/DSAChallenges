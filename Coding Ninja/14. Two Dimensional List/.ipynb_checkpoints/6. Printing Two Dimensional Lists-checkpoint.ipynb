{
 "cells": [
  {
   "cell_type": "code",
   "execution_count": 1,
   "id": "ffe2be91",
   "metadata": {},
   "outputs": [],
   "source": [
    "li = [[1,2,3,4],[5,6,7,8],[9,10,11,12]]\n",
    "n = 3 \n",
    "m = 4"
   ]
  },
  {
   "cell_type": "code",
   "execution_count": 2,
   "id": "bb6fce64",
   "metadata": {},
   "outputs": [
    {
     "name": "stdout",
     "output_type": "stream",
     "text": [
      "1 2 3 4 \n",
      "5 6 7 8 \n",
      "9 10 11 12 \n"
     ]
    }
   ],
   "source": [
    "for i in range(n):\n",
    "    for j in range(m):\n",
    "        print(li[i][j],end=' ')       # printing index value\n",
    "    print()                           # print new line"
   ]
  },
  {
   "cell_type": "code",
   "execution_count": 4,
   "id": "d0f15916",
   "metadata": {},
   "outputs": [
    {
     "name": "stdout",
     "output_type": "stream",
     "text": [
      "1 2 3 4 \n",
      "5 6 \n",
      "9 10 11 \n"
     ]
    }
   ],
   "source": [
    "li = [[1,2,3,4],[5,6],[9,10,11]]\n",
    "n = 3\n",
    "for row in li:\n",
    "    for ele in row:\n",
    "        print(ele, end = ' ')\n",
    "    print()    "
   ]
  },
  {
   "cell_type": "code",
   "execution_count": 5,
   "id": "9fdda622",
   "metadata": {},
   "outputs": [
    {
     "data": {
      "text/plain": [
       "'aabbabc'"
      ]
     },
     "execution_count": 5,
     "metadata": {},
     "output_type": "execute_result"
    }
   ],
   "source": [
    "'ab'.join('abc')"
   ]
  },
  {
   "cell_type": "code",
   "execution_count": 7,
   "id": "5b6e916f",
   "metadata": {},
   "outputs": [
    {
     "data": {
      "text/plain": [
       "'1ab2ab3'"
      ]
     },
     "execution_count": 7,
     "metadata": {},
     "output_type": "execute_result"
    }
   ],
   "source": [
    "'ab'.join(['1','2','3'])"
   ]
  },
  {
   "cell_type": "code",
   "execution_count": 8,
   "id": "0c6f813a",
   "metadata": {},
   "outputs": [
    {
     "name": "stdout",
     "output_type": "stream",
     "text": [
      "1 2 3 4\n",
      "5 6\n",
      "9 10 11\n"
     ]
    }
   ],
   "source": [
    "li = [[1,2,3,4],[5,6],[9,10,11]]\n",
    "n = 3\n",
    "for row in li:\n",
    "    output = ' '.join([str(ele) for ele in row])\n",
    "    print(output)"
   ]
  },
  {
   "cell_type": "code",
   "execution_count": null,
   "id": "26c79a91",
   "metadata": {},
   "outputs": [],
   "source": []
  }
 ],
 "metadata": {
  "kernelspec": {
   "display_name": "Python 3 (ipykernel)",
   "language": "python",
   "name": "python3"
  },
  "language_info": {
   "codemirror_mode": {
    "name": "ipython",
    "version": 3
   },
   "file_extension": ".py",
   "mimetype": "text/x-python",
   "name": "python",
   "nbconvert_exporter": "python",
   "pygments_lexer": "ipython3",
   "version": "3.9.7"
  }
 },
 "nbformat": 4,
 "nbformat_minor": 5
}
