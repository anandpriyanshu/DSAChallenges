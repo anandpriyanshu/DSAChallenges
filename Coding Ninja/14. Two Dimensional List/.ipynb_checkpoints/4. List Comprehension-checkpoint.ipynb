{
 "cells": [
  {
   "cell_type": "code",
   "execution_count": 1,
   "id": "0895ce2a",
   "metadata": {},
   "outputs": [],
   "source": [
    "li = [1,2,3,4]"
   ]
  },
  {
   "cell_type": "code",
   "execution_count": 2,
   "id": "f70c4822",
   "metadata": {},
   "outputs": [
    {
     "name": "stdout",
     "output_type": "stream",
     "text": [
      "[1, 4, 9, 16]\n"
     ]
    }
   ],
   "source": [
    "li_new = []\n",
    "for ele in li:\n",
    "    li_new.append(ele**2)\n",
    "print(li_new)    \n",
    "    "
   ]
  },
  {
   "cell_type": "code",
   "execution_count": 3,
   "id": "4c8ef893",
   "metadata": {},
   "outputs": [],
   "source": [
    "li_nw = [ele**2 for ele in li]     #2nd method"
   ]
  },
  {
   "cell_type": "code",
   "execution_count": 4,
   "id": "e03f7c36",
   "metadata": {},
   "outputs": [
    {
     "data": {
      "text/plain": [
       "[1, 4, 9, 16]"
      ]
     },
     "execution_count": 4,
     "metadata": {},
     "output_type": "execute_result"
    }
   ],
   "source": [
    "li_nw"
   ]
  },
  {
   "cell_type": "code",
   "execution_count": 5,
   "id": "899fa2a6",
   "metadata": {},
   "outputs": [
    {
     "name": "stdout",
     "output_type": "stream",
     "text": [
      "[4, 16]\n"
     ]
    }
   ],
   "source": [
    "li_even_squre = []\n",
    "for ele in li:\n",
    "    if ele%2==0:\n",
    "        li_even_squre.append(ele**2)\n",
    "print(li_even_squre)        \n",
    "        "
   ]
  },
  {
   "cell_type": "code",
   "execution_count": 9,
   "id": "6c86622b",
   "metadata": {},
   "outputs": [],
   "source": [
    "#2nd method\n",
    "li_even_squre = [ele**2 for ele in li if ele%2==0]   # 4 line code reduced into 1 line"
   ]
  },
  {
   "cell_type": "code",
   "execution_count": 10,
   "id": "80ef768d",
   "metadata": {},
   "outputs": [
    {
     "data": {
      "text/plain": [
       "[4, 16]"
      ]
     },
     "execution_count": 10,
     "metadata": {},
     "output_type": "execute_result"
    }
   ],
   "source": [
    "li_even_squre"
   ]
  },
  {
   "cell_type": "code",
   "execution_count": 11,
   "id": "0de55133",
   "metadata": {},
   "outputs": [
    {
     "name": "stdout",
     "output_type": "stream",
     "text": [
      "[6]\n"
     ]
    }
   ],
   "source": [
    "li = [1,2,3,4,5,6,7,8]       #only multiple of 2 and 3\n",
    "new_list = []\n",
    "for ele in li:\n",
    "    if ele%2==0:\n",
    "        if ele%3==0:\n",
    "            new_list.append(ele)\n",
    "print(new_list)            \n",
    "            "
   ]
  },
  {
   "cell_type": "code",
   "execution_count": 13,
   "id": "60a907f7",
   "metadata": {},
   "outputs": [],
   "source": [
    "#2nd method\n",
    "li_new = [ele for ele in li if ele%2==0 if ele%3==0]"
   ]
  },
  {
   "cell_type": "code",
   "execution_count": 14,
   "id": "1ba400e0",
   "metadata": {},
   "outputs": [
    {
     "data": {
      "text/plain": [
       "[6]"
      ]
     },
     "execution_count": 14,
     "metadata": {},
     "output_type": "execute_result"
    }
   ],
   "source": [
    "li_new"
   ]
  },
  {
   "cell_type": "code",
   "execution_count": 16,
   "id": "23b6de80",
   "metadata": {},
   "outputs": [
    {
     "name": "stdout",
     "output_type": "stream",
     "text": [
      "[2, 4]\n"
     ]
    }
   ],
   "source": [
    "li_1= [1,2,3,4,5]\n",
    "li_2= [2,4,6,7]\n",
    "li_intersection = []\n",
    "for ele1 in li_1:\n",
    "    for ele2 in li_2:\n",
    "        if ele1==ele2:\n",
    "            li_intersection.append(ele1)\n",
    "print(li_intersection)            "
   ]
  },
  {
   "cell_type": "code",
   "execution_count": 18,
   "id": "05e60d99",
   "metadata": {},
   "outputs": [],
   "source": [
    "#2nd method\n",
    "li_1= [1,2,3,4,5]\n",
    "li_2= [2,4,6,7]\n",
    "li_new1 = [ele1 for ele1 in li_1 for ele2 in li_2 if ele1==ele2]"
   ]
  },
  {
   "cell_type": "code",
   "execution_count": 19,
   "id": "ce9df56a",
   "metadata": {},
   "outputs": [
    {
     "name": "stdout",
     "output_type": "stream",
     "text": [
      "[2, 4]\n"
     ]
    }
   ],
   "source": [
    "print(li_new1)"
   ]
  },
  {
   "cell_type": "code",
   "execution_count": 20,
   "id": "c1514c0c",
   "metadata": {},
   "outputs": [
    {
     "name": "stdout",
     "output_type": "stream",
     "text": [
      "[1, 4, 3, 16, 5]\n"
     ]
    }
   ],
   "source": [
    "li = [1,2,3,4,5]\n",
    "n_list = []\n",
    "for ele in li:\n",
    "    if ele%2==0:\n",
    "        n_list.append(ele**2)\n",
    "    else:\n",
    "        n_list.append(ele)\n",
    "print(n_list)  "
   ]
  },
  {
   "cell_type": "code",
   "execution_count": 21,
   "id": "9c347ce1",
   "metadata": {},
   "outputs": [],
   "source": [
    "#2nd method\n",
    "new_li= [ele**2 if ele%2==0 else ele for ele in li]           #if else method "
   ]
  },
  {
   "cell_type": "code",
   "execution_count": 22,
   "id": "243c5261",
   "metadata": {},
   "outputs": [
    {
     "data": {
      "text/plain": [
       "[1, 4, 3, 16, 5]"
      ]
     },
     "execution_count": 22,
     "metadata": {},
     "output_type": "execute_result"
    }
   ],
   "source": [
    "new_li"
   ]
  },
  {
   "cell_type": "code",
   "execution_count": 23,
   "id": "fd009f42",
   "metadata": {},
   "outputs": [],
   "source": [
    "p = 'Anand'\n",
    "nw_li = [ele for ele in p]"
   ]
  },
  {
   "cell_type": "code",
   "execution_count": 24,
   "id": "b796449d",
   "metadata": {},
   "outputs": [
    {
     "data": {
      "text/plain": [
       "['A', 'n', 'a', 'n', 'd']"
      ]
     },
     "execution_count": 24,
     "metadata": {},
     "output_type": "execute_result"
    }
   ],
   "source": [
    "nw_li"
   ]
  },
  {
   "cell_type": "code",
   "execution_count": 25,
   "id": "032cd034",
   "metadata": {},
   "outputs": [],
   "source": [
    "li = ['Anand','Sagar','Himanshu']\n",
    "li_2d= [[s for s in ele ] for ele in li]"
   ]
  },
  {
   "cell_type": "code",
   "execution_count": 26,
   "id": "708638c9",
   "metadata": {},
   "outputs": [
    {
     "data": {
      "text/plain": [
       "[['A', 'n', 'a', 'n', 'd'],\n",
       " ['S', 'a', 'g', 'a', 'r'],\n",
       " ['H', 'i', 'm', 'a', 'n', 's', 'h', 'u']]"
      ]
     },
     "execution_count": 26,
     "metadata": {},
     "output_type": "execute_result"
    }
   ],
   "source": [
    "li_2d"
   ]
  },
  {
   "cell_type": "code",
   "execution_count": null,
   "id": "d284ae12",
   "metadata": {},
   "outputs": [],
   "source": []
  }
 ],
 "metadata": {
  "kernelspec": {
   "display_name": "Python 3 (ipykernel)",
   "language": "python",
   "name": "python3"
  },
  "language_info": {
   "codemirror_mode": {
    "name": "ipython",
    "version": 3
   },
   "file_extension": ".py",
   "mimetype": "text/x-python",
   "name": "python",
   "nbconvert_exporter": "python",
   "pygments_lexer": "ipython3",
   "version": "3.9.7"
  }
 },
 "nbformat": 4,
 "nbformat_minor": 5
}
