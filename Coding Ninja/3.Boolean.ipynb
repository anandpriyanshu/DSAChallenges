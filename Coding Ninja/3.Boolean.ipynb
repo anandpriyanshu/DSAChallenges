{
 "cells": [
  {
   "cell_type": "code",
   "execution_count": 1,
   "id": "c767c71f",
   "metadata": {},
   "outputs": [
    {
     "data": {
      "text/plain": [
       "bool"
      ]
     },
     "execution_count": 1,
     "metadata": {},
     "output_type": "execute_result"
    }
   ],
   "source": [
    "a = True\n",
    "b = False\n",
    "type(a)"
   ]
  },
  {
   "cell_type": "markdown",
   "id": "6cb072a4",
   "metadata": {},
   "source": [
    "### Relational Operators"
   ]
  },
  {
   "cell_type": "code",
   "execution_count": 10,
   "id": "607cc36b",
   "metadata": {},
   "outputs": [
    {
     "name": "stdout",
     "output_type": "stream",
     "text": [
      "False\n",
      "False\n",
      "True\n",
      "True\n",
      "False\n",
      "True\n"
     ]
    }
   ],
   "source": [
    "a = 10\n",
    "b = 20\n",
    "print(a>b)\n",
    "print(a>=b)\n",
    "print(a<b)\n",
    "print(a<=b)\n",
    "print(a==b)\n",
    "print(a!=b)"
   ]
  },
  {
   "cell_type": "markdown",
   "id": "4ed60ade",
   "metadata": {},
   "source": [
    "### Logical Operator"
   ]
  },
  {
   "cell_type": "code",
   "execution_count": 11,
   "id": "8421c610",
   "metadata": {},
   "outputs": [
    {
     "name": "stdout",
     "output_type": "stream",
     "text": [
      "False\n",
      "True\n",
      "True\n"
     ]
    }
   ],
   "source": [
    "c1 = a > 10\n",
    "c2 = b > 10\n",
    "r1 = c1 and c2\n",
    "r2 = c1 or c2\n",
    "r3 = not(c1)\n",
    "print(r1)\n",
    "print(r2)\n",
    "print(r3)"
   ]
  },
  {
   "cell_type": "markdown",
   "id": "c9907a43",
   "metadata": {},
   "source": [
    "### IF else"
   ]
  },
  {
   "cell_type": "code",
   "execution_count": 14,
   "id": "4d249c3f",
   "metadata": {},
   "outputs": [
    {
     "name": "stdout",
     "output_type": "stream",
     "text": [
      "I am inside else\n"
     ]
    }
   ],
   "source": [
    "a = False\n",
    "if a:\n",
    "    print('I am inside If')\n",
    "    \n",
    "else:\n",
    "    print('I am inside else')"
   ]
  },
  {
   "cell_type": "code",
   "execution_count": 13,
   "id": "da917867",
   "metadata": {},
   "outputs": [
    {
     "name": "stdout",
     "output_type": "stream",
     "text": [
      "I am inside If\n",
      "I am inside If\n"
     ]
    }
   ],
   "source": [
    "a = True\n",
    "if a:\n",
    "    print('I am inside If')\n",
    "    print('I am inside If')\n",
    "    \n",
    "else:\n",
    "    print('I am inside else')"
   ]
  },
  {
   "cell_type": "code",
   "execution_count": 15,
   "id": "5bb83c3b",
   "metadata": {},
   "outputs": [
    {
     "name": "stdout",
     "output_type": "stream",
     "text": [
      "5\n",
      "n is odd\n"
     ]
    }
   ],
   "source": [
    "# check number to be even or odd.\n",
    "n = int(input())\n",
    "r = n%2\n",
    "is_even = (r==0)\n",
    "if is_even:\n",
    "    print('n is even')\n",
    "else:\n",
    "    print('n is odd')\n",
    "    "
   ]
  },
  {
   "cell_type": "code",
   "execution_count": 21,
   "id": "af17a21f",
   "metadata": {},
   "outputs": [
    {
     "name": "stdout",
     "output_type": "stream",
     "text": [
      "4\n",
      "n is even\n"
     ]
    }
   ],
   "source": [
    "n = int(input())\n",
    " \n",
    "is_even = (n%2==0)\n",
    "if is_even:\n",
    "    print('n is even')\n",
    "else:\n",
    "    print('n is odd')"
   ]
  },
  {
   "cell_type": "code",
   "execution_count": 20,
   "id": "238c4432",
   "metadata": {},
   "outputs": [
    {
     "name": "stdout",
     "output_type": "stream",
     "text": [
      "5\n",
      "n is odd\n"
     ]
    }
   ],
   "source": [
    "n = int(input())\n",
    "\n",
    "if (n%2==0):\n",
    "    print('n is even')\n",
    "else:\n",
    "    print('n is odd')"
   ]
  },
  {
   "cell_type": "markdown",
   "id": "425292ea",
   "metadata": {},
   "source": [
    "### Using operator in if else"
   ]
  },
  {
   "cell_type": "code",
   "execution_count": 24,
   "id": "bb737a3c",
   "metadata": {},
   "outputs": [
    {
     "name": "stdout",
     "output_type": "stream",
     "text": [
      "11\n",
      "20\n",
      "Both are > 10\n"
     ]
    }
   ],
   "source": [
    "a = int(input())\n",
    "b = int(input())\n",
    "c1 = a>10\n",
    "c2 = b>10\n",
    "r = c1 and c2\n",
    "if r:\n",
    "    print('Both are > 10')\n",
    "else:\n",
    "    print('Both are not')"
   ]
  },
  {
   "cell_type": "code",
   "execution_count": 25,
   "id": "5643e587",
   "metadata": {},
   "outputs": [
    {
     "name": "stdout",
     "output_type": "stream",
     "text": [
      "11\n",
      "20\n",
      "Both are > 10\n"
     ]
    }
   ],
   "source": [
    "a = int(input())\n",
    "b = int(input())\n",
    "\n",
    "if a >10 and b>10:\n",
    "    print('Both are > 10')\n",
    "else:\n",
    "    print('Both are not')"
   ]
  },
  {
   "cell_type": "code",
   "execution_count": 33,
   "id": "66486fed",
   "metadata": {},
   "outputs": [
    {
     "name": "stdout",
     "output_type": "stream",
     "text": [
      "7\n",
      "It is 7\n"
     ]
    }
   ],
   "source": [
    "a = int(input())\n",
    "if a == 7:\n",
    "    print('It is 7')\n",
    "else:\n",
    "    print('No its not 7')"
   ]
  },
  {
   "cell_type": "code",
   "execution_count": 34,
   "id": "8e67c358",
   "metadata": {},
   "outputs": [
    {
     "name": "stdout",
     "output_type": "stream",
     "text": [
      "5\n",
      "No its not 7\n"
     ]
    }
   ],
   "source": [
    "a = int(input())\n",
    "if a != 7:\n",
    "    print('No its not 7')            #condition reverse\n",
    "else:\n",
    "    print('its  7')"
   ]
  },
  {
   "cell_type": "code",
   "execution_count": 39,
   "id": "8d328ba9",
   "metadata": {},
   "outputs": [
    {
     "name": "stdout",
     "output_type": "stream",
     "text": [
      "5\n",
      "4\n",
      "3\n",
      "Yes, a is largest\n"
     ]
    }
   ],
   "source": [
    "a = int(input())\n",
    "b = int(input())\n",
    "c = int(input())\n",
    "if a>b and a>c:\n",
    "    print('Yes, a is largest')\n",
    "else:\n",
    "    print('No, its not largest')\n",
    "\n",
    "    "
   ]
  },
  {
   "cell_type": "markdown",
   "id": "462b733e",
   "metadata": {},
   "source": [
    "### Elif"
   ]
  },
  {
   "cell_type": "code",
   "execution_count": 44,
   "id": "8ca20f52",
   "metadata": {},
   "outputs": [
    {
     "name": "stdout",
     "output_type": "stream",
     "text": [
      "1\n",
      "2\n",
      "3\n",
      "3\n"
     ]
    }
   ],
   "source": [
    "#finding largest\n",
    "a = int(input())\n",
    "b = int(input())\n",
    "c = int(input())\n",
    "if a>b and a>c:\n",
    "    print(a)\n",
    "elif b>c and b>a:\n",
    "    print(b)\n",
    "else:\n",
    "    print(c)\n",
    "    "
   ]
  },
  {
   "cell_type": "code",
   "execution_count": 41,
   "id": "6258e98a",
   "metadata": {},
   "outputs": [
    {
     "name": "stdout",
     "output_type": "stream",
     "text": [
      "3\n",
      "3\n",
      "1\n",
      "1\n"
     ]
    }
   ],
   "source": [
    "a = int(input())\n",
    "b = int(input())\n",
    "c = int(input())\n",
    "if a>b and a>c:\n",
    "    print(a)\n",
    "elif b>c and b>a:\n",
    "    print(b)\n",
    "else:\n",
    "    print(c)            #its debugging"
   ]
  },
  {
   "cell_type": "code",
   "execution_count": 42,
   "id": "0f5664d7",
   "metadata": {},
   "outputs": [
    {
     "name": "stdout",
     "output_type": "stream",
     "text": [
      "3\n",
      "3\n",
      "1\n",
      "3\n"
     ]
    }
   ],
   "source": [
    "a = int(input())\n",
    "b = int(input())\n",
    "c = int(input())\n",
    "if a>=b and a>=c:\n",
    "    print(a)\n",
    "elif b>=c and b>=a:\n",
    "    print(b)\n",
    "else:\n",
    "    print(c) "
   ]
  },
  {
   "cell_type": "code",
   "execution_count": 45,
   "id": "26a9f7f7",
   "metadata": {},
   "outputs": [
    {
     "name": "stdout",
     "output_type": "stream",
     "text": [
      "5\n",
      "Green\n"
     ]
    }
   ],
   "source": [
    "n = int(input())\n",
    "if n>10:\n",
    "    print('red')\n",
    "elif n>=5 and n<=10:\n",
    "    print('Green')\n",
    "elif n>0 and n<5:\n",
    "    print('Yellow')    "
   ]
  },
  {
   "cell_type": "code",
   "execution_count": 49,
   "id": "607c04d4",
   "metadata": {},
   "outputs": [
    {
     "name": "stdout",
     "output_type": "stream",
     "text": [
      "12\n",
      "red\n"
     ]
    }
   ],
   "source": [
    "n = int(input())\n",
    "if n>10:\n",
    "    print('red')\n",
    "elif n>=5:\n",
    "    print('Green')\n",
    "elif n>0:\n",
    "    print('Yellow')       #correct code"
   ]
  },
  {
   "cell_type": "code",
   "execution_count": 50,
   "id": "2125da86",
   "metadata": {},
   "outputs": [
    {
     "name": "stdout",
     "output_type": "stream",
     "text": [
      "20\n",
      "Green\n"
     ]
    }
   ],
   "source": [
    "n = int(input())\n",
    "if n>=5:\n",
    "    print('Green')\n",
    "elif n>10:\n",
    "    print('red')\n",
    "elif n>0:\n",
    "    print('Yellow')           #wronge code    bcz order of if elif is matter a lot "
   ]
  },
  {
   "cell_type": "markdown",
   "id": "3d7e44d9",
   "metadata": {},
   "source": [
    "#### Nestef if else"
   ]
  },
  {
   "cell_type": "code",
   "execution_count": 1,
   "id": "be1b04d4",
   "metadata": {},
   "outputs": [
    {
     "name": "stdout",
     "output_type": "stream",
     "text": [
      "0\n",
      "n is even\n",
      "n is zero\n"
     ]
    }
   ],
   "source": [
    "n = int(input())\n",
    " \n",
    "is_even = (n%2==0)\n",
    "if is_even:\n",
    "    print('n is even')\n",
    "    if n==0:\n",
    "        print('n is zero')\n",
    "else:\n",
    "    print('n is odd')"
   ]
  },
  {
   "cell_type": "code",
   "execution_count": 2,
   "id": "0a72651b",
   "metadata": {},
   "outputs": [
    {
     "name": "stdout",
     "output_type": "stream",
     "text": [
      "2\n",
      "1\n",
      "2\n"
     ]
    }
   ],
   "source": [
    "n = int(input())\n",
    "m = int(input())\n",
    "if n % 2 == 0:\n",
    "    if m % 2 == 0:\n",
    "        print(1)\n",
    "    else:\n",
    "        print(2)\n",
    "else:\n",
    "    print(3)"
   ]
  },
  {
   "cell_type": "code",
   "execution_count": 6,
   "id": "cff0b386",
   "metadata": {},
   "outputs": [
    {
     "name": "stdout",
     "output_type": "stream",
     "text": [
      "5\n",
      "2\n",
      "3\n"
     ]
    }
   ],
   "source": [
    "n = int(input())\n",
    "m = int(input())\n",
    "if n % 2 == 0:\n",
    "    if m % 2 == 0:\n",
    "        print(1)\n",
    "    else:\n",
    "        print(2)\n",
    "else:\n",
    "    print(3)\n",
    "    "
   ]
  },
  {
   "cell_type": "code",
   "execution_count": 8,
   "id": "046aebf3",
   "metadata": {},
   "outputs": [
    {
     "name": "stdout",
     "output_type": "stream",
     "text": [
      "5\n",
      "1\n",
      "5\n"
     ]
    }
   ],
   "source": [
    "n = int(input())\n",
    "m = int(input())\n",
    "if n % 3 == 0:\n",
    "    if m % 2 == 0:\n",
    "        print(2)\n",
    "    else:\n",
    "        print(1)\n",
    "else:\n",
    "    print(5)\n",
    "    "
   ]
  },
  {
   "cell_type": "code",
   "execution_count": null,
   "id": "1bd93659",
   "metadata": {},
   "outputs": [],
   "source": []
  }
 ],
 "metadata": {
  "kernelspec": {
   "display_name": "Python 3 (ipykernel)",
   "language": "python",
   "name": "python3"
  },
  "language_info": {
   "codemirror_mode": {
    "name": "ipython",
    "version": 3
   },
   "file_extension": ".py",
   "mimetype": "text/x-python",
   "name": "python",
   "nbconvert_exporter": "python",
   "pygments_lexer": "ipython3",
   "version": "3.9.7"
  }
 },
 "nbformat": 4,
 "nbformat_minor": 5
}
